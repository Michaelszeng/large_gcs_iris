{
 "cells": [
  {
   "cell_type": "markdown",
   "metadata": {},
   "source": [
    "# Contact Graph Generator"
   ]
  },
  {
   "cell_type": "code",
   "execution_count": 1,
   "metadata": {},
   "outputs": [],
   "source": [
    "import logging\n",
    "from large_gcs.graph_generators.contact_graph_generator import (\n",
    "    ContactGraphGeneratorParams,\n",
    "    ContactGraphGenerator,\n",
    ")\n",
    "from large_gcs.graph.contact_graph import ContactGraph\n",
    "from large_gcs.algorithms.gcs_astar import GcsAstar\n",
    "from large_gcs.algorithms.gcs_astar_convex_restriction import GcsAstarConvexRestriction\n",
    "from large_gcs.graph.contact_cost_constraint_factory import (\n",
    "    contact_shortcut_edge_cost_factory_under,\n",
    "    contact_shortcut_edge_cost_factory_over_obj_weighted,\n",
    ")\n",
    "from large_gcs.cost_estimators.shortcut_edge_ce import ShortcutEdgeCE\n",
    "\n",
    "import numpy as np\n",
    "from copy import deepcopy\n",
    "\n",
    "\n",
    "np.set_printoptions(formatter={\"float\": lambda x: \"{0:0.3f}\".format(x)})\n",
    "logging.basicConfig(level=logging.INFO)\n",
    "# logging.getLogger().setLevel(logging.INFO)\n",
    "logging.getLogger(\"drake\").setLevel(logging.WARNING)"
   ]
  },
  {
   "cell_type": "markdown",
   "metadata": {},
   "source": [
    "## Simple Demo 2"
   ]
  },
  {
   "cell_type": "code",
   "execution_count": 2,
   "metadata": {},
   "outputs": [
    {
     "data": {
      "image/png": "[encoded data removed]",
      "text/plain": [
       "<Figure size 640x480 with 1 Axes>"
      ]
     },
     "metadata": {},
     "output_type": "display_data"
    }
   ],
   "source": [
    "ws = 3\n",
    "params = ContactGraphGeneratorParams(\n",
    "    name=\"cg_simple_2\",\n",
    "    obs_vertices=[],\n",
    "    obj_vertices=[np.array([[0, 0], [1, 0], [1, 1], [0, 1]]) + np.array([2.5, 0.5])],\n",
    "    rob_vertices=[np.array([[-1, -1], [-1.5, -0.5], [-1.2, -1.5]])],\n",
    "    source_obj_pos=[[0, 0]],\n",
    "    source_rob_pos=[[-2, -2]],\n",
    "    target_obj_pos=[[2, 0]],\n",
    "    target_rob_pos=[[2.5, 2]],\n",
    "    n_pos_per_set=2,\n",
    "    workspace=[[-ws, ws], [-ws, ws]],\n",
    ")\n",
    "generator = ContactGraphGenerator(params)\n",
    "generator.plot()"
   ]
  },
  {
   "cell_type": "code",
   "execution_count": 3,
   "metadata": {},
   "outputs": [],
   "source": [
    "# generator.generate()"
   ]
  },
  {
   "cell_type": "code",
   "execution_count": 4,
   "metadata": {},
   "outputs": [
    {
     "name": "stderr",
     "output_type": "stream",
     "text": [
      "INFO:large_gcs.graph.contact_graph:Loading 11 contact pair modes for 2 bodies...\n"
     ]
    },
    {
     "name": "stderr",
     "output_type": "stream",
     "text": [
      "INFO:large_gcs.graph.contact_graph:Generating contact sets for 11 sets...\n",
      "100%|██████████| 11/11 [00:00<00:00, 662.70it/s]\n",
      "INFO:large_gcs.graph.contact_graph:Creating vertex costs...\n",
      "100%|██████████| 13/13 [00:00<00:00, 6045.01it/s]\n",
      "INFO:large_gcs.graph.graph:Adding 13 vertices to graph...\n",
      "100%|██████████| 13/13 [00:00<00:00, 6005.06it/s]\n",
      "INFO:large_gcs.graph.contact_graph:Creating edge costs...\n",
      "100%|██████████| 52/52 [00:00<00:00, 6343.55it/s]\n",
      "INFO:large_gcs.graph.contact_graph:Creating edge constraints...\n",
      "100%|██████████| 52/52 [00:00<00:00, 4650.30it/s]\n",
      "INFO:large_gcs.graph.graph:Adding 52 edges to graph...\n",
      "100%|██████████| 52/52 [00:00<00:00, 4275.46it/s]\n",
      "INFO:large_gcs.graph.contact_graph:Created contact graph: GraphParams(dim_bounds=(4, 16), n_vertices=13, n_edges=52, source=[array([0, 0]), array([-2, -2])], target=[array([2, 0]), array([2.500, 2.000])], workspace=array([[-3,  3],\n",
      "       [-3,  3]]), default_costs_constraints=None)\n"
     ]
    }
   ],
   "source": [
    "cg = ContactGraph.load_from_file(params.graph_file_path)"
   ]
  },
  {
   "cell_type": "code",
   "execution_count": 5,
   "metadata": {},
   "outputs": [
    {
     "name": "stderr",
     "output_type": "stream",
     "text": [
      "INFO:large_gcs.algorithms.gcs_astar_convex_restriction:Running GcsAstarConvexRestriction, should_rexplore: True\n",
      "INFO:large_gcs.algorithms.gcs_astar_convex_restriction:\n",
      "n_vertices_visited: 2, n_edges_visited: 0, n_vertices_explored: 0, vertex_coverage: 0.154, edge_coverage: 0, time_wall_clock: 0, n_gcs_solves: 0, gcs_solve_time_total: 0, gcs_solve_time_iter_mean: 0, gcs_solve_time_last_10_mean: 0, gcs_solve_time_iter_std: 0, gcs_solve_time_iter_min: inf, gcs_solve_time_iter_max: 0, n_vertices_revisited: 0, n_vertices_reexplored: 0\n",
      "now exploring node source's 2 neighbors (0)\n",
      "INFO:large_gcs.algorithms.gcs_astar_convex_restriction:\n",
      "n_vertices_visited: 3, n_edges_visited: 1, n_vertices_explored: 2, vertex_coverage: 0.231, edge_coverage: 0.0192, time_wall_clock: 0.00821, n_gcs_solves: 2, gcs_solve_time_total: 0.00402, gcs_solve_time_iter_mean: 0.00201, gcs_solve_time_last_10_mean: 0, gcs_solve_time_iter_std: 2.74e-06, gcs_solve_time_iter_min: 0.00201, gcs_solve_time_iter_max: 0.00201, n_vertices_revisited: 0, n_vertices_reexplored: 0\n",
      "now exploring node ('NC|obj0_f0-rob0_v1',)'s 6 neighbors (59.27857488156997)\n",
      "INFO:large_gcs.algorithms.gcs_astar_convex_restriction:\n",
      "n_vertices_visited: 4, n_edges_visited: 2, n_vertices_explored: 7, vertex_coverage: 0.308, edge_coverage: 0.0385, time_wall_clock: 0.0269, n_gcs_solves: 7, gcs_solve_time_total: 0.0148, gcs_solve_time_iter_mean: 0.00212, gcs_solve_time_last_10_mean: 0, gcs_solve_time_iter_std: 0.000392, gcs_solve_time_iter_min: 0.00165, gcs_solve_time_iter_max: 0.00294, n_vertices_revisited: 0, n_vertices_reexplored: 0\n",
      "now exploring node ('IC|obj0_v0-rob0_f0',)'s 4 neighbors (37.269187551033696)\n",
      "INFO:large_gcs.algorithms.gcs_astar_convex_restriction:\n",
      "n_vertices_visited: 5, n_edges_visited: 3, n_vertices_explored: 10, vertex_coverage: 0.385, edge_coverage: 0.0577, time_wall_clock: 0.0516, n_gcs_solves: 10, gcs_solve_time_total: 0.0327, gcs_solve_time_iter_mean: 0.00327, gcs_solve_time_last_10_mean: 0, gcs_solve_time_iter_std: 0.00183, gcs_solve_time_iter_min: 0.00165, gcs_solve_time_iter_max: 0.00676, n_vertices_revisited: 0, n_vertices_reexplored: 0\n",
      "now exploring node ('IC|obj0_f3-rob0_v0',)'s 3 neighbors (18.02847246391271)\n",
      "INFO:large_gcs.algorithms.gcs_astar_convex_restriction:\n",
      "n_vertices_visited: 6, n_edges_visited: 4, n_vertices_explored: 12, vertex_coverage: 0.462, edge_coverage: 0.0769, time_wall_clock: 0.076, n_gcs_solves: 12, gcs_solve_time_total: 0.0521, gcs_solve_time_iter_mean: 0.00434, gcs_solve_time_last_10_mean: 0.00481, gcs_solve_time_iter_std: 0.00292, gcs_solve_time_iter_min: 0.00165, gcs_solve_time_iter_max: 0.01, n_vertices_revisited: 0, n_vertices_reexplored: 0\n",
      "now exploring node ('IC|obj0_v3-rob0_f2',)'s 4 neighbors (18.014820890545245)\n",
      "INFO:large_gcs.algorithms.gcs_astar_convex_restriction:Convex Restriction Gcs A* complete! \n",
      "cost: 19.928653463192397, time: 0.007006406784057617\n",
      "vertex path: ['source' \"('NC|obj0_f0-rob0_v1',)\" \"('IC|obj0_v0-rob0_f0',)\"\n",
      " \"('IC|obj0_f3-rob0_v0',)\" \"('IC|obj0_v3-rob0_f2',)\"\n",
      " \"('NC|obj0_f2-rob0_v2',)\" 'target']\n",
      "n_vertices_visited: 6, n_edges_visited: 4, n_vertices_explored: 15, vertex_coverage: 0.462, edge_coverage: 0.0769, time_wall_clock: 0.14, n_gcs_solves: 15, gcs_solve_time_total: 0.109, gcs_solve_time_iter_mean: 0.00726, gcs_solve_time_last_10_mean: 0.0098, gcs_solve_time_iter_std: 0.00748, gcs_solve_time_iter_min: 0.00165, gcs_solve_time_iter_max: 0.027, n_vertices_revisited: 0, n_vertices_reexplored: 0\n"
     ]
    }
   ],
   "source": [
    "cost_estimator = ShortcutEdgeCE(cg, shortcut_edge_cost_factory=contact_shortcut_edge_cost_factory_over_obj_weighted)\n",
    "gcs_astar = GcsAstarConvexRestriction(\n",
    "    cg,\n",
    "    cost_estimator=cost_estimator,\n",
    "    should_reexplore=True,\n",
    ")\n",
    "sol = gcs_astar.run()"
   ]
  },
  {
   "cell_type": "code",
   "execution_count": 6,
   "metadata": {},
   "outputs": [
    {
     "name": "stderr",
     "output_type": "stream",
     "text": [
      "INFO:large_gcs.algorithms.gcs_astar:\n",
      "n_vertices_visited: 2, n_edges_visited: 0, n_vertices_explored: 0, vertex_coverage: 0.154, edge_coverage: 0, time_wall_clock: 0, n_gcs_solves: 0, gcs_solve_time_total: 0, gcs_solve_time_iter_mean: 0, gcs_solve_time_last_10_mean: 0, gcs_solve_time_iter_std: 0, gcs_solve_time_iter_min: inf, gcs_solve_time_iter_max: 0, n_vertices_revisited: 0, n_vertices_reexplored: 0\n",
      "now exploring node source's 2 neighbors (0)\n"
     ]
    },
    {
     "name": "stderr",
     "output_type": "stream",
     "text": [
      "INFO:large_gcs.algorithms.gcs_astar:\n",
      "n_vertices_visited: 3, n_edges_visited: 2, n_vertices_explored: 2, vertex_coverage: 0.231, edge_coverage: 0.0385, time_wall_clock: 0.0276, n_gcs_solves: 2, gcs_solve_time_total: 0.00705, gcs_solve_time_iter_mean: 0.00353, gcs_solve_time_last_10_mean: 0, gcs_solve_time_iter_std: 0.00195, gcs_solve_time_iter_min: 0.00158, gcs_solve_time_iter_max: 0.00547, n_vertices_revisited: 0, n_vertices_reexplored: 0\n",
      "now exploring node ('NC|obj0_f0-rob0_v1',)'s 6 neighbors (8.34428877816914)\n",
      "INFO:large_gcs.algorithms.gcs_astar:\n",
      "n_vertices_visited: 4, n_edges_visited: 6, n_vertices_explored: 7, vertex_coverage: 0.308, edge_coverage: 0.115, time_wall_clock: 0.11, n_gcs_solves: 7, gcs_solve_time_total: 0.0379, gcs_solve_time_iter_mean: 0.00541, gcs_solve_time_last_10_mean: 0, gcs_solve_time_iter_std: 0.00471, gcs_solve_time_iter_min: 0.00158, gcs_solve_time_iter_max: 0.0156, n_vertices_revisited: 0, n_vertices_reexplored: 0\n",
      "now exploring node ('NC|obj0_f3-rob0_v0',)'s 6 neighbors (8.344288986205688)\n",
      "INFO:large_gcs.algorithms.gcs_astar:\n",
      "n_vertices_visited: 5, n_edges_visited: 8, n_vertices_explored: 11, vertex_coverage: 0.385, edge_coverage: 0.154, time_wall_clock: 0.168, n_gcs_solves: 11, gcs_solve_time_total: 0.0555, gcs_solve_time_iter_mean: 0.00504, gcs_solve_time_last_10_mean: 0.005, gcs_solve_time_iter_std: 0.0039, gcs_solve_time_iter_min: 0.00158, gcs_solve_time_iter_max: 0.0156, n_vertices_revisited: 0, n_vertices_reexplored: 0\n",
      "now exploring node ('IC|obj0_f3-rob0_v0',)'s 3 neighbors (11.476778306210889)\n",
      "INFO:large_gcs.algorithms.gcs_astar:\n",
      "n_vertices_visited: 6, n_edges_visited: 14, n_vertices_explored: 13, vertex_coverage: 0.462, edge_coverage: 0.269, time_wall_clock: 0.202, n_gcs_solves: 13, gcs_solve_time_total: 0.0669, gcs_solve_time_iter_mean: 0.00515, gcs_solve_time_last_10_mean: 0.00574, gcs_solve_time_iter_std: 0.00359, gcs_solve_time_iter_min: 0.00158, gcs_solve_time_iter_max: 0.0156, n_vertices_revisited: 0, n_vertices_reexplored: 0\n",
      "now exploring node ('IC|obj0_v0-rob0_f0',)'s 4 neighbors (11.476778380340187)\n",
      "INFO:large_gcs.algorithms.gcs_astar:\n",
      "n_vertices_visited: 7, n_edges_visited: 18, n_vertices_explored: 14, vertex_coverage: 0.538, edge_coverage: 0.346, time_wall_clock: 0.245, n_gcs_solves: 14, gcs_solve_time_total: 0.0944, gcs_solve_time_iter_mean: 0.00674, gcs_solve_time_last_10_mean: 0.0083, gcs_solve_time_iter_std: 0.00671, gcs_solve_time_iter_min: 0.00158, gcs_solve_time_iter_max: 0.0275, n_vertices_revisited: 0, n_vertices_reexplored: 0\n",
      "now exploring node ('IC|obj0_f0-rob0_v1',)'s 4 neighbors (11.584613458582295)\n",
      "INFO:large_gcs.algorithms.gcs_astar:\n",
      "n_vertices_visited: 8, n_edges_visited: 22, n_vertices_explored: 16, vertex_coverage: 0.615, edge_coverage: 0.423, time_wall_clock: 0.512, n_gcs_solves: 16, gcs_solve_time_total: 0.334, gcs_solve_time_iter_mean: 0.0209, gcs_solve_time_last_10_mean: 0.0312, gcs_solve_time_iter_std: 0.038, gcs_solve_time_iter_min: 0.00158, gcs_solve_time_iter_max: 0.127, n_vertices_revisited: 0, n_vertices_reexplored: 0\n",
      "now exploring node ('IC|obj0_v3-rob0_f2',)'s 4 neighbors (12.692286153023304)\n",
      "INFO:large_gcs.algorithms.gcs_astar:\n",
      "n_vertices_visited: 9, n_edges_visited: 26, n_vertices_explored: 18, vertex_coverage: 0.692, edge_coverage: 0.5, time_wall_clock: 3.36, n_gcs_solves: 18, gcs_solve_time_total: 3.16, gcs_solve_time_iter_mean: 0.175, gcs_solve_time_last_10_mean: 0.311, gcs_solve_time_iter_std: 0.608, gcs_solve_time_iter_min: 0.00158, gcs_solve_time_iter_max: 2.67, n_vertices_revisited: 0, n_vertices_reexplored: 0\n",
      "now exploring node ('IC|obj0_f1-rob0_v1',)'s 4 neighbors (12.884246057318187)\n",
      "INFO:large_gcs.algorithms.gcs_astar:\n",
      "n_vertices_visited: 10, n_edges_visited: 32, n_vertices_explored: 20, vertex_coverage: 0.769, edge_coverage: 0.615, time_wall_clock: 3.92, n_gcs_solves: 20, gcs_solve_time_total: 3.68, gcs_solve_time_iter_mean: 0.184, gcs_solve_time_last_10_mean: 0.363, gcs_solve_time_iter_std: 0.578, gcs_solve_time_iter_min: 0.00158, gcs_solve_time_iter_max: 2.67, n_vertices_revisited: 0, n_vertices_reexplored: 0\n",
      "now exploring node ('NC|obj0_f1-rob0_v1',)'s 5 neighbors (12.884246484844569)\n",
      "INFO:large_gcs.algorithms.gcs_astar:\n",
      "n_vertices_visited: 11, n_edges_visited: 34, n_vertices_explored: 22, vertex_coverage: 0.846, edge_coverage: 0.654, time_wall_clock: 9.01, n_gcs_solves: 22, gcs_solve_time_total: 8.74, gcs_solve_time_iter_mean: 0.397, gcs_solve_time_last_10_mean: 0.868, gcs_solve_time_iter_std: 1.11, gcs_solve_time_iter_min: 0.00158, gcs_solve_time_iter_max: 4.81, n_vertices_revisited: 0, n_vertices_reexplored: 0\n",
      "now exploring node ('IC|obj0_f2-rob0_v2',)'s 3 neighbors (14.330903511569392)\n",
      "INFO:large_gcs.algorithms.gcs_astar:\n",
      "n_vertices_visited: 12, n_edges_visited: 40, n_vertices_explored: 24, vertex_coverage: 0.923, edge_coverage: 0.769, time_wall_clock: 13.3, n_gcs_solves: 24, gcs_solve_time_total: 13, gcs_solve_time_iter_mean: 0.543, gcs_solve_time_last_10_mean: 1.29, gcs_solve_time_iter_std: 1.25, gcs_solve_time_iter_min: 0.00158, gcs_solve_time_iter_max: 4.81, n_vertices_revisited: 0, n_vertices_reexplored: 0\n",
      "now exploring node ('IC|obj0_v2-rob0_f1',)'s 4 neighbors (15.200986714945513)\n",
      "INFO:large_gcs.algorithms.gcs_astar:Gcs A* complete! \n",
      "cost: 18.115604361756223, time: 2.673650617000021\n",
      "vertex path: ['source' \"('NC|obj0_f3-rob0_v0',)\" \"('IC|obj0_f3-rob0_v0',)\"\n",
      " \"('IC|obj0_v3-rob0_f2',)\" \"('NC|obj0_f2-rob0_v2',)\" 'target']\n",
      "n_vertices_visited: 12, n_edges_visited: 40, n_vertices_explored: 25, vertex_coverage: 0.923, edge_coverage: 0.769, time_wall_clock: 19.7, n_gcs_solves: 25, gcs_solve_time_total: 19.4, gcs_solve_time_iter_mean: 0.776, gcs_solve_time_last_10_mean: 1.92, gcs_solve_time_iter_std: 1.68, gcs_solve_time_iter_min: 0.00158, gcs_solve_time_iter_max: 6.37, n_vertices_revisited: 0, n_vertices_reexplored: 0\n"
     ]
    }
   ],
   "source": [
    "cost_estimator = ShortcutEdgeCE(cg, shortcut_edge_cost_factory=contact_shortcut_edge_cost_factory_under)\n",
    "gcs_astar = GcsAstar(\n",
    "    cg,\n",
    "    cost_estimator=cost_estimator,\n",
    "    use_convex_relaxation=False,\n",
    ")\n",
    "sol = gcs_astar.run()"
   ]
  },
  {
   "cell_type": "code",
   "execution_count": null,
   "metadata": {},
   "outputs": [],
   "source": [
    "sol = cg.solve(use_convex_relaxation=False)\n",
    "print(sol)"
   ]
  },
  {
   "cell_type": "code",
   "execution_count": null,
   "metadata": {},
   "outputs": [],
   "source": [
    "sol = cg.solve(use_convex_relaxation=True)\n",
    "print(sol)"
   ]
  },
  {
   "cell_type": "markdown",
   "metadata": {},
   "source": [
    "## Triangle Challenge 2"
   ]
  },
  {
   "cell_type": "code",
   "execution_count": null,
   "metadata": {},
   "outputs": [],
   "source": [
    "ws_x = 5\n",
    "ws_y = 4\n",
    "params = ContactGraphGeneratorParams(\n",
    "    name=\"cg_trichal2\",\n",
    "    obs_vertices=[[[-1, 2], [-1, -1], [2, 2]]],\n",
    "    obj_vertices=[[[1, 0.5], [1, -0.5], [2, -0.5], [2, 0.5]]],\n",
    "    rob_vertices=[[[3, 1], [3, 0], [3.5, 0]]],\n",
    "    source_obj_pos=[[3.25, 0]],\n",
    "    source_rob_pos=[[1.5, 0.5]],\n",
    "    target_obj_pos=[[-1.5, 0]],\n",
    "    target_rob_pos=[[-3, 0]],\n",
    "    n_pos_per_set=2,\n",
    "    workspace=[[-ws_x, ws_x], [-ws_y, ws_y]],\n",
    ")\n",
    "\n",
    "generator = ContactGraphGenerator(params)\n",
    "generator.plot()"
   ]
  },
  {
   "cell_type": "code",
   "execution_count": null,
   "metadata": {},
   "outputs": [],
   "source": [
    "# generator.generate()"
   ]
  },
  {
   "cell_type": "code",
   "execution_count": null,
   "metadata": {},
   "outputs": [],
   "source": [
    "cg = ContactGraph.load_from_file(params.graph_file_path)"
   ]
  },
  {
   "cell_type": "markdown",
   "metadata": {},
   "source": [
    "Just checking that everything works"
   ]
  },
  {
   "cell_type": "code",
   "execution_count": null,
   "metadata": {},
   "outputs": [],
   "source": [
    "cost_estimator = ShortcutEdgeCE(cg, shortcut_edge_cost_factory=contact_shortcut_edge_cost_factory_over_obj_weighted)\n",
    "gcs_astar = GcsAstarConvexRestriction(\n",
    "    cg,\n",
    "    cost_estimator=cost_estimator,\n",
    "    should_reexplore=True,\n",
    ")\n",
    "sol = gcs_astar.run()"
   ]
  },
  {
   "cell_type": "code",
   "execution_count": null,
   "metadata": {},
   "outputs": [],
   "source": [
    "ws_x = 5\n",
    "ws_y = 5\n",
    "params = ContactGraphGeneratorParams(\n",
    "    name=\"cg_trichal3\",\n",
    "    obs_vertices=[[[-1, 2], [-1, -1], [2, 2]]],\n",
    "    obj_vertices=[[[1, 0.5], [1, -0.5], [2, -0.5], [2, 0.5]]],\n",
    "    rob_vertices=[[[3, 1], [3, 0], [3.5, 0]]],\n",
    "    source_obj_pos=[[3.25, 0]],\n",
    "    source_rob_pos=[[-3, 0]],\n",
    "    target_obj_pos=[[-1.5, 0]],\n",
    "    target_rob_pos=[[1.5, 0.5]],\n",
    "    n_pos_per_set=2,\n",
    "    workspace=[[-ws_x, ws_x], [-ws_y, ws_y]],\n",
    ")\n",
    "\n",
    "generator = ContactGraphGenerator(params)\n",
    "generator.plot()"
   ]
  },
  {
   "cell_type": "code",
   "execution_count": null,
   "metadata": {},
   "outputs": [],
   "source": [
    "generator.generate()"
   ]
  },
  {
   "cell_type": "code",
   "execution_count": null,
   "metadata": {},
   "outputs": [],
   "source": [
    "cg = ContactGraph.load_from_file(params.graph_file_path)"
   ]
  },
  {
   "cell_type": "code",
   "execution_count": null,
   "metadata": {},
   "outputs": [],
   "source": [
    "ws_x = 5\n",
    "ws_y = 5\n",
    "params = ContactGraphGeneratorParams(\n",
    "    name=\"cg_maze_a1\",\n",
    "    obs_vertices=[\n",
    "        [[-2, -2.7], [2.2, 2.6], [-1.3, 0.5]],\n",
    "        [[0.5, -2], [2.7, -1.2], [2.4, 0.3]],\n",
    "    ],\n",
    "    obj_vertices=[[[1, 0.5], [1, -0.5], [2, -0.5], [2, 0.5]]],\n",
    "    rob_vertices=[[[3, 1], [3, 0], [3.5, 0]]],\n",
    "    source_obj_pos=[[3.25, 0]],\n",
    "    source_rob_pos=[[1.5, 0.6]],\n",
    "    target_obj_pos=[[-2.3, -0.7]],\n",
    "    target_rob_pos=[[-0.5, 2]],\n",
    "    n_pos_per_set=2,\n",
    "    workspace=[[-ws_x, ws_x], [-ws_y, ws_y]],\n",
    ")\n",
    "\n",
    "generator = ContactGraphGenerator(params)\n",
    "generator.plot()"
   ]
  },
  {
   "cell_type": "code",
   "execution_count": null,
   "metadata": {},
   "outputs": [],
   "source": [
    "generator.generate()"
   ]
  },
  {
   "cell_type": "code",
   "execution_count": null,
   "metadata": {},
   "outputs": [],
   "source": [
    "cg = ContactGraph.load_from_file(params.graph_file_path)"
   ]
  },
  {
   "cell_type": "code",
   "execution_count": 2,
   "metadata": {},
   "outputs": [
    {
     "data": {
      "image/png": "[encoded data removed]",
      "text/plain": [
       "<Figure size 640x480 with 1 Axes>"
      ]
     },
     "metadata": {},
     "output_type": "display_data"
    }
   ],
   "source": [
    "ws_x = 5\n",
    "ws_y = 5\n",
    "params = ContactGraphGeneratorParams(\n",
    "    name=\"cg_maze_a2\",\n",
    "    obs_vertices=[\n",
    "        [[-2, -2.7], [2.2, 2.6], [-1.3, 0.5]],\n",
    "        [[0.5, -2], [2.7, -1.2], [2.4, 0.3]],\n",
    "    ],\n",
    "    obj_vertices=[[[1, 0.5], [1, -0.5], [2, -0.5], [2, 0.5]]],\n",
    "    rob_vertices=[[[3, 1], [3, 0], [3.5, 0]]],\n",
    "    source_obj_pos=[[1.6, 0.6]],\n",
    "    source_rob_pos=[[3.25, 0]],\n",
    "    target_obj_pos=[[-2.3, -0.7]],\n",
    "    target_rob_pos=[[-0.5, 2]],\n",
    "    n_pos_per_set=2,\n",
    "    workspace=[[-ws_x, ws_x], [-ws_y, ws_y]],\n",
    ")\n",
    "\n",
    "generator = ContactGraphGenerator(params)\n",
    "generator.plot()"
   ]
  },
  {
   "cell_type": "code",
   "execution_count": 3,
   "metadata": {},
   "outputs": [
    {
     "name": "stderr",
     "output_type": "stream",
     "text": [
      "INFO:large_gcs.graph.contact_graph:Generating contact sets for 4 bodies...\n",
      "INFO:large_gcs.graph.contact_graph:Generating contact pair modes for 5 body pairs...\n",
      "100%|██████████| 5/5 [00:00<00:00, 63.71it/s]\n",
      "INFO:large_gcs.graph.contact_graph:Each body pair has on average 7.0 modes\n",
      "INFO:large_gcs.graph.contact_graph:Generating contact sets for 8100 sets...\n",
      " 89%|████████▊ | 7180/8100 [00:13<00:01, 613.24it/s]"
     ]
    }
   ],
   "source": [
    "generator.generate()"
   ]
  },
  {
   "cell_type": "code",
   "execution_count": null,
   "metadata": {},
   "outputs": [],
   "source": [
    "cg = ContactGraph.load_from_file(params.graph_file_path)"
   ]
  },
  {
   "cell_type": "code",
   "execution_count": null,
   "metadata": {},
   "outputs": [],
   "source": [
    "obj_only_params = deepcopy(params)\n",
    "obj_only_params.name = \"cg_maze_a2_obj_only\"\n",
    "obj_only_params.rob_vertices = []\n",
    "obj_only_params.source_rob_pos = []\n",
    "obj_only_params.target_rob_pos = []\n",
    "generator = ContactGraphGenerator(obj_only_params)\n",
    "generator.plot()"
   ]
  },
  {
   "cell_type": "code",
   "execution_count": null,
   "metadata": {},
   "outputs": [],
   "source": []
  }
 ],
 "metadata": {
  "kernelspec": {
   "display_name": ".venv",
   "language": "python",
   "name": "python3"
  },
  "language_info": {
   "codemirror_mode": {
    "name": "ipython",
    "version": 3
   },
   "file_extension": ".py",
   "mimetype": "text/x-python",
   "name": "python",
   "nbconvert_exporter": "python",
   "pygments_lexer": "ipython3",
   "version": "3.8.10"
  },
  "orig_nbformat": 4
 },
 "nbformat": 4,
 "nbformat_minor": 2
}
