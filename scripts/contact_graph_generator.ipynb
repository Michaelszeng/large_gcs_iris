{
 "cells": [
  {
   "cell_type": "markdown",
   "metadata": {},
   "source": [
    "# Contact Graph Generator"
   ]
  },
  {
   "cell_type": "code",
   "execution_count": 1,
   "metadata": {},
   "outputs": [],
   "source": [
    "import logging\n",
    "from large_gcs.graph_generators.contact_graph_generator import (\n",
    "    ContactGraphGeneratorParams,\n",
    "    ContactGraphGenerator,\n",
    ")\n",
    "from large_gcs.graph.contact_graph import ContactGraph\n",
    "from large_gcs.algorithms.search_algorithm import ReexploreLevel\n",
    "from large_gcs.algorithms.gcs_astar import GcsAstar\n",
    "from large_gcs.algorithms.gcs_astar_convex_restriction import GcsAstarConvexRestriction\n",
    "from large_gcs.graph.contact_cost_constraint_factory import (\n",
    "    contact_shortcut_edge_cost_factory_under,\n",
    "    contact_shortcut_edge_cost_factory_over_obj_weighted,\n",
    ")\n",
    "from large_gcs.cost_estimators.shortcut_edge_ce import ShortcutEdgeCE\n",
    "from large_gcs.contact.contact_regions_set import ContactRegionParams\n",
    "\n",
    "import numpy as np\n",
    "from copy import deepcopy\n",
    "from IPython.display import HTML\n",
    "\n",
    "\n",
    "np.set_printoptions(formatter={\"float\": lambda x: \"{0:0.3f}\".format(x)})\n",
    "logging.basicConfig(level=logging.INFO)\n",
    "# logging.getLogger().setLevel(logging.INFO)\n",
    "logging.getLogger(\"drake\").setLevel(logging.WARNING)"
   ]
  },
  {
   "cell_type": "markdown",
   "metadata": {},
   "source": [
    "## Simple Demo 2"
   ]
  },
  {
   "cell_type": "code",
   "execution_count": 2,
   "metadata": {},
   "outputs": [
    {
     "name": "stdout",
     "output_type": "stream",
     "text": [
      "Set parameter Username\n",
      "Academic license - for non-commercial use only - expires 2024-03-04\n"
     ]
    },
    {
     "data": {
      "image/png": "[encoded data removed]",
      "text/plain": [
       "<Figure size 640x480 with 1 Axes>"
      ]
     },
     "metadata": {},
     "output_type": "display_data"
    }
   ],
   "source": [
    "ws = 3\n",
    "params = ContactGraphGeneratorParams(\n",
    "    name=\"cg_simple_2\",\n",
    "    obs_vertices=[],\n",
    "    obj_vertices=[np.array([[0, 0], [1, 0], [1, 1], [0, 1]]) + np.array([2.5, 0.5])],\n",
    "    rob_vertices=[np.array([[-1, -1], [-1.5, -0.5], [-1.2, -1.5]])],\n",
    "    source_obj_pos=[[0, 0]],\n",
    "    source_rob_pos=[[-2, -2]],\n",
    "    target_obj_pos=[[2, 0]],\n",
    "    target_rob_pos=[[2.5, 2]],\n",
    "    n_pos_per_set=2,\n",
    "    workspace=[[-ws, ws], [-ws, ws]],\n",
    ")\n",
    "generator = ContactGraphGenerator(params)\n",
    "generator.plot()"
   ]
  },
  {
   "cell_type": "code",
   "execution_count": null,
   "metadata": {},
   "outputs": [],
   "source": [
    "generator.generate()"
   ]
  },
  {
   "cell_type": "code",
   "execution_count": 3,
   "metadata": {},
   "outputs": [
    {
     "name": "stderr",
     "output_type": "stream",
     "text": [
      "INFO:large_gcs.graph.contact_graph:Loading 11 contact pair modes for 2 bodies...\n",
      "INFO:large_gcs.graph.contact_graph:Generating force constraints for 11 sets...\n",
      "100%|██████████| 11/11 [00:00<00:00, 3367.94it/s]\n",
      "INFO:large_gcs.graph.contact_graph:Generating contact sets for 11 sets...\n",
      "100%|██████████| 11/11 [00:00<00:00, 43.98it/s]\n",
      "INFO:large_gcs.graph.contact_graph:Creating vertex costs...\n",
      "100%|██████████| 13/13 [00:00<00:00, 8145.50it/s]\n",
      "INFO:large_gcs.graph.graph:Adding 13 vertices to graph...\n",
      "100%|██████████| 13/13 [00:00<00:00, 9894.02it/s]\n",
      "INFO:large_gcs.graph.contact_graph:Creating edge costs...\n",
      "100%|██████████| 52/52 [00:00<00:00, 8765.88it/s]\n",
      "INFO:large_gcs.graph.contact_graph:Creating edge constraints...\n",
      "100%|██████████| 52/52 [00:00<00:00, 3436.82it/s]\n",
      "INFO:large_gcs.graph.graph:Adding 52 edges to graph...\n",
      "100%|██████████| 52/52 [00:00<00:00, 3988.29it/s]\n",
      "INFO:large_gcs.graph.contact_graph:Created contact graph: GraphParams(dim_bounds=(4, 16), n_vertices=13, n_edges=52, source=[array([0, 0]), array([-2, -2])], target=[array([2, 0]), array([2.500, 2.000])], workspace=array([[-3,  3],\n",
      "       [-3,  3]]), default_costs_constraints=None)\n"
     ]
    }
   ],
   "source": [
    "cg = ContactGraph.load_from_file(params.graph_file_path)"
   ]
  },
  {
   "cell_type": "code",
   "execution_count": null,
   "metadata": {},
   "outputs": [],
   "source": [
    "cost_estimator = ShortcutEdgeCE(cg, shortcut_edge_cost_factory=contact_shortcut_edge_cost_factory_over_obj_weighted)\n",
    "gcs_astar = GcsAstarConvexRestriction(\n",
    "    cg,\n",
    "    cost_estimator=cost_estimator,\n",
    "    reexplore_level=ReexploreLevel.FULL,\n",
    ")\n",
    "sol = gcs_astar.run()"
   ]
  },
  {
   "cell_type": "code",
   "execution_count": null,
   "metadata": {},
   "outputs": [],
   "source": [
    "cost_estimator = ShortcutEdgeCE(cg, shortcut_edge_cost_factory=contact_shortcut_edge_cost_factory_under)\n",
    "gcs_astar = GcsAstar(\n",
    "    cg,\n",
    "    cost_estimator=cost_estimator,\n",
    "    use_convex_relaxation=False,\n",
    ")\n",
    "sol = gcs_astar.run()"
   ]
  },
  {
   "cell_type": "code",
   "execution_count": null,
   "metadata": {},
   "outputs": [],
   "source": [
    "sol = cg.solve(use_convex_relaxation=False)\n",
    "print(sol)"
   ]
  },
  {
   "cell_type": "code",
   "execution_count": null,
   "metadata": {},
   "outputs": [],
   "source": [
    "sol = cg.solve(use_convex_relaxation=True)\n",
    "print(sol)"
   ]
  },
  {
   "cell_type": "markdown",
   "metadata": {},
   "source": [
    "## Simple Demo 3 (Target Region)"
   ]
  },
  {
   "cell_type": "code",
   "execution_count": null,
   "metadata": {},
   "outputs": [],
   "source": [
    "ws = 3\n",
    "target_regions = [\n",
    "    ContactRegionParams(region_vertices=[[1.5,-1], [1.5,1], [3,1], [3,-1]],\n",
    "                  obj_indices=[0]),\n",
    "]\n",
    "\n",
    "params = ContactGraphGeneratorParams(\n",
    "    name=\"cg_simple_3\",\n",
    "    obs_vertices=[],\n",
    "    obj_vertices=[np.array([[0, 0], [1, 0], [1, 1], [0, 1]]) + np.array([2.5, 0.5])],\n",
    "    rob_vertices=[np.array([[-1, -1], [-1.5, -0.5], [-1.2, -1.5]])],\n",
    "    source_obj_pos=[[0, 0]],\n",
    "    source_rob_pos=[[-2, -2]],\n",
    "    target_region_params=target_regions,\n",
    "    n_pos_per_set=2,\n",
    "    workspace=[[-ws, ws], [-ws, ws]],\n",
    ")\n",
    "generator = ContactGraphGenerator(params)\n",
    "generator.plot()"
   ]
  },
  {
   "cell_type": "code",
   "execution_count": null,
   "metadata": {},
   "outputs": [],
   "source": [
    "generator.generate()"
   ]
  },
  {
   "cell_type": "markdown",
   "metadata": {},
   "source": [
    "## Triangle Challenge 2"
   ]
  },
  {
   "cell_type": "code",
   "execution_count": null,
   "metadata": {},
   "outputs": [],
   "source": [
    "ws_x = 5\n",
    "ws_y = 4\n",
    "params = ContactGraphGeneratorParams(\n",
    "    name=\"cg_trichal2\",\n",
    "    obs_vertices=[[[-1, 2], [-1, -1], [2, 2]]],\n",
    "    obj_vertices=[[[1, 0.5], [1, -0.5], [2, -0.5], [2, 0.5]]],\n",
    "    rob_vertices=[[[3, 1], [3, 0], [3.5, 0]]],\n",
    "    source_obj_pos=[[3.25, 0]],\n",
    "    source_rob_pos=[[1.5, 0.5]],\n",
    "    target_obj_pos=[[-1.5, 0]],\n",
    "    target_rob_pos=[[-3, 0]],\n",
    "    n_pos_per_set=2,\n",
    "    workspace=[[-ws_x, ws_x], [-ws_y, ws_y]],\n",
    ")\n",
    "\n",
    "generator = ContactGraphGenerator(params)\n",
    "generator.plot()"
   ]
  },
  {
   "cell_type": "code",
   "execution_count": null,
   "metadata": {},
   "outputs": [],
   "source": [
    "generator.generate()"
   ]
  },
  {
   "cell_type": "code",
   "execution_count": null,
   "metadata": {},
   "outputs": [],
   "source": [
    "cg = ContactGraph.load_from_file(params.graph_file_path)"
   ]
  },
  {
   "cell_type": "markdown",
   "metadata": {},
   "source": [
    "Just checking that everything works"
   ]
  },
  {
   "cell_type": "code",
   "execution_count": null,
   "metadata": {},
   "outputs": [],
   "source": [
    "cost_estimator = ShortcutEdgeCE(cg, shortcut_edge_cost_factory=contact_shortcut_edge_cost_factory_over_obj_weighted)\n",
    "gcs_astar = GcsAstarConvexRestriction(\n",
    "    cg,\n",
    "    cost_estimator=cost_estimator,\n",
    "    reexplore_level=ReexploreLevel.NONE,\n",
    ")\n",
    "sol = gcs_astar.run()"
   ]
  },
  {
   "cell_type": "code",
   "execution_count": null,
   "metadata": {},
   "outputs": [],
   "source": [
    "anim = cg.animate_solution()\n",
    "HTML(anim.to_html5_video())"
   ]
  },
  {
   "cell_type": "code",
   "execution_count": null,
   "metadata": {},
   "outputs": [],
   "source": [
    "ws_x = 5\n",
    "ws_y = 4\n",
    "params = ContactGraphGeneratorParams(\n",
    "    name=\"cg_trichal3\",\n",
    "    obs_vertices=[[[-1, 2], [-1, -1], [2, 2]]],\n",
    "    obj_vertices=[[[1, 0.5], [1, -0.5], [2, -0.5], [2, 0.5]]],\n",
    "    rob_vertices=[[[3, 1], [3, 0], [3.5, 0]]],\n",
    "    source_obj_pos=[[3.25, 0]],\n",
    "    source_rob_pos=[[-3, 0]],\n",
    "    target_obj_pos=[[-1.5, 0]],\n",
    "    target_rob_pos=[[1.5, 0.5]],\n",
    "    n_pos_per_set=2,\n",
    "    workspace=[[-ws_x, ws_x], [-ws_y, ws_y]],\n",
    ")\n",
    "\n",
    "generator = ContactGraphGenerator(params)\n",
    "generator.plot()"
   ]
  },
  {
   "cell_type": "code",
   "execution_count": null,
   "metadata": {},
   "outputs": [],
   "source": [
    "generator.generate()"
   ]
  },
  {
   "cell_type": "code",
   "execution_count": null,
   "metadata": {},
   "outputs": [],
   "source": [
    "cg = ContactGraph.load_from_file(params.graph_file_path)"
   ]
  },
  {
   "cell_type": "code",
   "execution_count": null,
   "metadata": {},
   "outputs": [],
   "source": [
    "ws_x = 5\n",
    "ws_y = 5\n",
    "params = ContactGraphGeneratorParams(\n",
    "    name=\"cg_maze_a1\",\n",
    "    obs_vertices=[\n",
    "        [[-2, -2.7], [2.2, 2.6], [-1.3, 0.5]],\n",
    "        [[0.5, -2], [2.7, -1.2], [2.4, 0.3]],\n",
    "    ],\n",
    "    obj_vertices=[[[1, 0.5], [1, -0.5], [2, -0.5], [2, 0.5]]],\n",
    "    rob_vertices=[[[3, 1], [3, 0], [3.5, 0]]],\n",
    "    source_obj_pos=[[3.25, 0]],\n",
    "    source_rob_pos=[[1.5, 0.6]],\n",
    "    target_obj_pos=[[-2.3, -0.7]],\n",
    "    target_rob_pos=[[-0.5, 2]],\n",
    "    n_pos_per_set=2,\n",
    "    workspace=[[-ws_x, ws_x], [-ws_y, ws_y]],\n",
    ")\n",
    "\n",
    "generator = ContactGraphGenerator(params)\n",
    "generator.plot()"
   ]
  },
  {
   "cell_type": "code",
   "execution_count": null,
   "metadata": {},
   "outputs": [],
   "source": [
    "generator.generate()"
   ]
  },
  {
   "cell_type": "code",
   "execution_count": null,
   "metadata": {},
   "outputs": [],
   "source": [
    "cg = ContactGraph.load_from_file(params.graph_file_path)"
   ]
  },
  {
   "cell_type": "markdown",
   "metadata": {},
   "source": [
    "## Triangle Challenge 4 (Target Region)"
   ]
  },
  {
   "cell_type": "code",
   "execution_count": null,
   "metadata": {},
   "outputs": [],
   "source": [
    "ws_x = 5\n",
    "ws_y = 4\n",
    "target_region_params = [\n",
    "    ContactRegionParams(region_vertices=[[-3,-0.75], [-3,1], [-1,-0.75], [-1,1]],\n",
    "                  obj_indices=[0]),\n",
    "]\n",
    "params = ContactGraphGeneratorParams(\n",
    "    name=\"cg_trichal4\",\n",
    "    obs_vertices=[[[-1, 2], [-1, -1], [2, 2]]],\n",
    "    obj_vertices=[[[1, 0.5], [1, -0.5], [2, -0.5], [2, 0.5]]],\n",
    "    rob_vertices=[[[3, 1], [3, 0], [3.5, 0]]],\n",
    "    source_obj_pos=[[3.25, 0]],\n",
    "    source_rob_pos=[[1.5, 0.5]],\n",
    "    target_region_params=target_region_params,\n",
    "    n_pos_per_set=2,\n",
    "    workspace=[[-ws_x, ws_x], [-ws_y, ws_y]],\n",
    ")\n",
    "\n",
    "generator = ContactGraphGenerator(params)\n",
    "generator.plot()"
   ]
  },
  {
   "cell_type": "code",
   "execution_count": null,
   "metadata": {},
   "outputs": [],
   "source": [
    "generator.generate()"
   ]
  },
  {
   "cell_type": "markdown",
   "metadata": {},
   "source": [
    "## Maze a2"
   ]
  },
  {
   "cell_type": "code",
   "execution_count": null,
   "metadata": {},
   "outputs": [],
   "source": [
    "ws_x = 5\n",
    "ws_y = 5\n",
    "params = ContactGraphGeneratorParams(\n",
    "    name=\"cg_maze_a2\",\n",
    "    obs_vertices=[\n",
    "        [[-2, -2.7], [2.2, 2.6], [-1.3, 0.5]],\n",
    "        [[0.5, -2], [2.7, -1.2], [2.4, 0.3]],\n",
    "    ],\n",
    "    obj_vertices=[[[1, 0.5], [1, -0.5], [2, -0.5], [2, 0.5]]],\n",
    "    rob_vertices=[[[3, 1], [3, 0], [3.5, 0]]],\n",
    "    source_obj_pos=[[1.6, 0.6]],\n",
    "    source_rob_pos=[[3.25, 0]],\n",
    "    target_obj_pos=[[-2.3, -0.7]],\n",
    "    target_rob_pos=[[-0.5, 2]],\n",
    "    n_pos_per_set=2,\n",
    "    workspace=[[-ws_x, ws_x], [-ws_y, ws_y]],\n",
    ")\n",
    "\n",
    "generator = ContactGraphGenerator(params)\n",
    "generator.plot()"
   ]
  },
  {
   "cell_type": "code",
   "execution_count": null,
   "metadata": {},
   "outputs": [],
   "source": [
    "generator.generate()"
   ]
  },
  {
   "cell_type": "code",
   "execution_count": null,
   "metadata": {},
   "outputs": [],
   "source": [
    "cg = ContactGraph.load_from_file(params.graph_file_path)"
   ]
  },
  {
   "cell_type": "markdown",
   "metadata": {},
   "source": [
    "## StackPush"
   ]
  },
  {
   "cell_type": "code",
   "execution_count": 2,
   "metadata": {},
   "outputs": [
    {
     "name": "stdout",
     "output_type": "stream",
     "text": [
      "Set parameter Username\n",
      "Academic license - for non-commercial use only - expires 2024-03-04\n"
     ]
    },
    {
     "data": {
      "image/png": "[encoded data removed]",
      "text/plain": [
       "<Figure size 640x480 with 1 Axes>"
      ]
     },
     "metadata": {},
     "output_type": "display_data"
    }
   ],
   "source": [
    "ws_x = 7\n",
    "ws_y = 5\n",
    "target_region_params = [\n",
    "    ContactRegionParams(region_vertices=[[3,0], [3,-3], [6,0], [6,-3]],\n",
    "                  obj_indices=[0]),\n",
    "]\n",
    "params = ContactGraphGeneratorParams(\n",
    "    name=\"cg_stackpush_a1\",\n",
    "    obs_vertices=[[[-3, -2], [2, 1], [3, 1], [3, -2] ]],\n",
    "    obj_vertices=[[[1, 0.5], [1, -0.5], [2, -0.5], [2, 0.5]],\n",
    "                  [[1, 0.5], [1, -0.5], [2, -0.5], [2, 0.5]],],\n",
    "    rob_vertices=[[[0, 0], [0, 0.5], [2, 0], [2, 0.5]]],\n",
    "    source_obj_pos=[[-2.5, -0.7], [-1.1, 0.1]],\n",
    "    source_rob_pos=[[-5, 1]],\n",
    "    target_region_params=target_region_params,\n",
    "    n_pos_per_set=2,\n",
    "    workspace=[[-ws_x, ws_x], [-ws_y, ws_y]],\n",
    ")\n",
    "\n",
    "generator = ContactGraphGenerator(params)\n",
    "generator.plot()"
   ]
  },
  {
   "cell_type": "code",
   "execution_count": 3,
   "metadata": {},
   "outputs": [
    {
     "name": "stderr",
     "output_type": "stream",
     "text": [
      "INFO:large_gcs.graph.contact_graph:Generating contact sets for 4 bodies...\n",
      "INFO:large_gcs.graph.contact_graph:Generating contact pair modes for 6 body pairs...\n",
      "100%|██████████| 6/6 [00:00<00:00, 51.28it/s]\n",
      "INFO:large_gcs.graph.contact_graph:Each body pair has on average 7.666666666666667 modes\n",
      "INFO:large_gcs.graph.contact_graph:Generating force constraints for 165888 sets...\n",
      "100%|██████████| 165888/165888 [01:02<00:00, 2643.69it/s]\n",
      "INFO:large_gcs.graph.contact_graph:Generating contact sets for 165888 sets...\n",
      "  2%|▏         | 4007/165888 [01:23<58:06, 46.44it/s]  "
     ]
    },
    {
     "ename": "KeyboardInterrupt",
     "evalue": "",
     "output_type": "error",
     "traceback": [
      "\u001b[0;31m---------------------------------------------------------------------------\u001b[0m",
      "\u001b[0;31mRuntimeError\u001b[0m                              Traceback (most recent call last)",
      "File \u001b[0;32m~/Documents/Software/drake-build/install/lib/python3.11/site-packages/pydrake/_math_extra.py:57\u001b[0m, in \u001b[0;36m_best_effort_rich_compare\u001b[0;34m(a, b, oper)\u001b[0m\n\u001b[1;32m     56\u001b[0m \u001b[39mtry\u001b[39;00m:\n\u001b[0;32m---> 57\u001b[0m     \u001b[39mreturn\u001b[39;00m oper(a, b)\n\u001b[1;32m     58\u001b[0m \u001b[39mexcept\u001b[39;00m \u001b[39mRuntimeError\u001b[39;00m \u001b[39mas\u001b[39;00m e:\n",
      "\u001b[0;31mRuntimeError\u001b[0m: You should not call `__bool__` / `__nonzero__` on `Formula`. If you are trying to make a map with `Variable`, `Expression`, or `Polynomial` as keys (and then access the map in Python), please use pydrake.common.containers.EqualToDict`.",
      "\nDuring handling of the above exception, another exception occurred:\n",
      "\u001b[0;31mKeyboardInterrupt\u001b[0m                         Traceback (most recent call last)",
      "Cell \u001b[0;32mIn[3], line 1\u001b[0m\n\u001b[0;32m----> 1\u001b[0m generator\u001b[39m.\u001b[39;49mgenerate()\n",
      "File \u001b[0;32m~/Documents/Software/large_gcs/large_gcs/graph_generators/contact_graph_generator.py:112\u001b[0m, in \u001b[0;36mContactGraphGenerator.generate\u001b[0;34m(self)\u001b[0m\n\u001b[1;32m    111\u001b[0m \u001b[39mdef\u001b[39;00m \u001b[39mgenerate\u001b[39m(\u001b[39mself\u001b[39m) \u001b[39m-\u001b[39m\u001b[39m>\u001b[39m ContactGraph:\n\u001b[0;32m--> 112\u001b[0m     contact_graph \u001b[39m=\u001b[39m ContactGraph(\n\u001b[1;32m    113\u001b[0m         static_obstacles\u001b[39m=\u001b[39;49m\u001b[39mself\u001b[39;49m\u001b[39m.\u001b[39;49m_obs,\n\u001b[1;32m    114\u001b[0m         unactuated_objects\u001b[39m=\u001b[39;49m\u001b[39mself\u001b[39;49m\u001b[39m.\u001b[39;49m_objs,\n\u001b[1;32m    115\u001b[0m         actuated_robots\u001b[39m=\u001b[39;49m\u001b[39mself\u001b[39;49m\u001b[39m.\u001b[39;49m_robs,\n\u001b[1;32m    116\u001b[0m         source_pos_objs\u001b[39m=\u001b[39;49m\u001b[39mself\u001b[39;49m\u001b[39m.\u001b[39;49m_params\u001b[39m.\u001b[39;49msource_obj_pos,\n\u001b[1;32m    117\u001b[0m         source_pos_robs\u001b[39m=\u001b[39;49m\u001b[39mself\u001b[39;49m\u001b[39m.\u001b[39;49m_params\u001b[39m.\u001b[39;49msource_rob_pos,\n\u001b[1;32m    118\u001b[0m         target_pos_objs\u001b[39m=\u001b[39;49m\u001b[39mself\u001b[39;49m\u001b[39m.\u001b[39;49m_params\u001b[39m.\u001b[39;49mtarget_obj_pos,\n\u001b[1;32m    119\u001b[0m         target_pos_robs\u001b[39m=\u001b[39;49m\u001b[39mself\u001b[39;49m\u001b[39m.\u001b[39;49m_params\u001b[39m.\u001b[39;49mtarget_rob_pos,\n\u001b[1;32m    120\u001b[0m         target_region_params\u001b[39m=\u001b[39;49m\u001b[39mself\u001b[39;49m\u001b[39m.\u001b[39;49m_params\u001b[39m.\u001b[39;49mtarget_region_params,\n\u001b[1;32m    121\u001b[0m         workspace\u001b[39m=\u001b[39;49m\u001b[39mself\u001b[39;49m\u001b[39m.\u001b[39;49m_params\u001b[39m.\u001b[39;49mworkspace,\n\u001b[1;32m    122\u001b[0m         vertex_exclusion\u001b[39m=\u001b[39;49m\u001b[39mNone\u001b[39;49;00m,\n\u001b[1;32m    123\u001b[0m         vertex_inclusion\u001b[39m=\u001b[39;49m\u001b[39mNone\u001b[39;49;00m,\n\u001b[1;32m    124\u001b[0m     )\n\u001b[1;32m    126\u001b[0m     contact_graph\u001b[39m.\u001b[39msave_to_file(\u001b[39mself\u001b[39m\u001b[39m.\u001b[39m_params\u001b[39m.\u001b[39mgraph_file_path)\n",
      "File \u001b[0;32m~/Documents/Software/large_gcs/large_gcs/graph/contact_graph.py:95\u001b[0m, in \u001b[0;36mContactGraph.__init__\u001b[0;34m(self, static_obstacles, unactuated_objects, actuated_robots, source_pos_objs, source_pos_robs, target_pos_objs, target_pos_robs, target_region_params, workspace, vertex_exclusion, vertex_inclusion, contact_pair_modes, contact_set_mode_ids, edge_keys)\u001b[0m\n\u001b[1;32m     92\u001b[0m \u001b[39mself\u001b[39m\u001b[39m.\u001b[39mobjects \u001b[39m=\u001b[39m unactuated_objects\n\u001b[1;32m     93\u001b[0m \u001b[39mself\u001b[39m\u001b[39m.\u001b[39mrobots \u001b[39m=\u001b[39m actuated_robots\n\u001b[0;32m---> 95\u001b[0m sets, set_ids \u001b[39m=\u001b[39m \u001b[39mself\u001b[39;49m\u001b[39m.\u001b[39;49m_generate_contact_sets(\n\u001b[1;32m     96\u001b[0m     contact_pair_modes, contact_set_mode_ids, vertex_exclusion, vertex_inclusion\n\u001b[1;32m     97\u001b[0m )\n\u001b[1;32m     98\u001b[0m \u001b[39mself\u001b[39m\u001b[39m.\u001b[39msource_pos \u001b[39m=\u001b[39m source_pos_objs \u001b[39m+\u001b[39m source_pos_robs\n\u001b[1;32m    100\u001b[0m sets \u001b[39m+\u001b[39m\u001b[39m=\u001b[39m [\n\u001b[1;32m    101\u001b[0m     ContactPointSet(\n\u001b[1;32m    102\u001b[0m         \u001b[39m\"\u001b[39m\u001b[39msource\u001b[39m\u001b[39m\"\u001b[39m, \u001b[39mself\u001b[39m\u001b[39m.\u001b[39mobjects, \u001b[39mself\u001b[39m\u001b[39m.\u001b[39mrobots, source_pos_objs, source_pos_robs\n\u001b[1;32m    103\u001b[0m     )\n\u001b[1;32m    104\u001b[0m ]\n",
      "File \u001b[0;32m~/Documents/Software/large_gcs/large_gcs/graph/contact_graph.py:352\u001b[0m, in \u001b[0;36mContactGraph._generate_contact_sets\u001b[0;34m(self, contact_pair_modes, contact_set_mode_ids, vertex_exlcusion, vertex_inclusion)\u001b[0m\n\u001b[1;32m    347\u001b[0m     \u001b[39mfor\u001b[39;00m body \u001b[39min\u001b[39;00m movable:\n\u001b[1;32m    348\u001b[0m         workspace_pos_constraints \u001b[39m+\u001b[39m\u001b[39m=\u001b[39m body_dict[\n\u001b[1;32m    349\u001b[0m             body\n\u001b[1;32m    350\u001b[0m         ]\u001b[39m.\u001b[39mcreate_workspace_position_constraints(\u001b[39mself\u001b[39m\u001b[39m.\u001b[39mworkspace)\n\u001b[0;32m--> 352\u001b[0m all_contact_sets \u001b[39m=\u001b[39m [\n\u001b[1;32m    353\u001b[0m     ContactSet\u001b[39m.\u001b[39;49mfrom_objs_robs(\n\u001b[1;32m    354\u001b[0m         [mode_ids_to_mode[mode_id] \u001b[39mfor\u001b[39;49;00m mode_id \u001b[39min\u001b[39;49;00m set_id],\n\u001b[1;32m    355\u001b[0m         \u001b[39mself\u001b[39;49m\u001b[39m.\u001b[39;49mobjects,\n\u001b[1;32m    356\u001b[0m         \u001b[39mself\u001b[39;49m\u001b[39m.\u001b[39;49mrobots,\n\u001b[1;32m    357\u001b[0m         additional_constraints\u001b[39m=\u001b[39;49mset_force_constraints_dict[set_id]\n\u001b[1;32m    358\u001b[0m         \u001b[39m+\u001b[39;49m workspace_pos_constraints,\n\u001b[1;32m    359\u001b[0m     )\n\u001b[1;32m    360\u001b[0m     \u001b[39mfor\u001b[39;49;00m set_id \u001b[39min\u001b[39;49;00m tqdm(set_ids)\n\u001b[1;32m    361\u001b[0m ]\n\u001b[1;32m    362\u001b[0m \u001b[39m# Do not need to prune if loading from saved file, there shouldn't be empty sets\u001b[39;00m\n\u001b[1;32m    363\u001b[0m \u001b[39mif\u001b[39;00m contact_set_mode_ids \u001b[39mis\u001b[39;00m \u001b[39mNone\u001b[39;00m:\n",
      "File \u001b[0;32m~/Documents/Software/large_gcs/large_gcs/graph/contact_graph.py:353\u001b[0m, in \u001b[0;36m<listcomp>\u001b[0;34m(.0)\u001b[0m\n\u001b[1;32m    347\u001b[0m     \u001b[39mfor\u001b[39;00m body \u001b[39min\u001b[39;00m movable:\n\u001b[1;32m    348\u001b[0m         workspace_pos_constraints \u001b[39m+\u001b[39m\u001b[39m=\u001b[39m body_dict[\n\u001b[1;32m    349\u001b[0m             body\n\u001b[1;32m    350\u001b[0m         ]\u001b[39m.\u001b[39mcreate_workspace_position_constraints(\u001b[39mself\u001b[39m\u001b[39m.\u001b[39mworkspace)\n\u001b[1;32m    352\u001b[0m all_contact_sets \u001b[39m=\u001b[39m [\n\u001b[0;32m--> 353\u001b[0m     ContactSet\u001b[39m.\u001b[39;49mfrom_objs_robs(\n\u001b[1;32m    354\u001b[0m         [mode_ids_to_mode[mode_id] \u001b[39mfor\u001b[39;49;00m mode_id \u001b[39min\u001b[39;49;00m set_id],\n\u001b[1;32m    355\u001b[0m         \u001b[39mself\u001b[39;49m\u001b[39m.\u001b[39;49mobjects,\n\u001b[1;32m    356\u001b[0m         \u001b[39mself\u001b[39;49m\u001b[39m.\u001b[39;49mrobots,\n\u001b[1;32m    357\u001b[0m         additional_constraints\u001b[39m=\u001b[39;49mset_force_constraints_dict[set_id]\n\u001b[1;32m    358\u001b[0m         \u001b[39m+\u001b[39;49m workspace_pos_constraints,\n\u001b[1;32m    359\u001b[0m     )\n\u001b[1;32m    360\u001b[0m     \u001b[39mfor\u001b[39;00m set_id \u001b[39min\u001b[39;00m tqdm(set_ids)\n\u001b[1;32m    361\u001b[0m ]\n\u001b[1;32m    362\u001b[0m \u001b[39m# Do not need to prune if loading from saved file, there shouldn't be empty sets\u001b[39;00m\n\u001b[1;32m    363\u001b[0m \u001b[39mif\u001b[39;00m contact_set_mode_ids \u001b[39mis\u001b[39;00m \u001b[39mNone\u001b[39;00m:\n",
      "File \u001b[0;32m~/Documents/Software/large_gcs/large_gcs/contact/contact_set.py:182\u001b[0m, in \u001b[0;36mContactSet.from_objs_robs\u001b[0;34m(cls, contact_pair_modes, objects, robots, additional_constraints)\u001b[0m\n\u001b[1;32m    177\u001b[0m     \u001b[39mraise\u001b[39;00m \u001b[39mValueError\u001b[39;00m(\u001b[39m\"\u001b[39m\u001b[39mAll robots must be actuated\u001b[39m\u001b[39m\"\u001b[39m)\n\u001b[1;32m    179\u001b[0m \u001b[39mvars\u001b[39m \u001b[39m=\u001b[39m ContactSetDecisionVariables\u001b[39m.\u001b[39mfrom_contact_pair_modes(\n\u001b[1;32m    180\u001b[0m     objects, robots, contact_pair_modes\n\u001b[1;32m    181\u001b[0m )\n\u001b[0;32m--> 182\u001b[0m \u001b[39mreturn\u001b[39;00m \u001b[39mcls\u001b[39;49m(\u001b[39mvars\u001b[39;49m, contact_pair_modes, additional_constraints, \u001b[39mFalse\u001b[39;49;00m)\n",
      "File \u001b[0;32m~/Documents/Software/large_gcs/large_gcs/contact/contact_set.py:154\u001b[0m, in \u001b[0;36mContactSet.__init__\u001b[0;34m(self, vars, contact_pair_modes, additional_constraints, remove_constraints_not_in_vars)\u001b[0m\n\u001b[1;32m    152\u001b[0m \u001b[39mif\u001b[39;00m additional_constraints \u001b[39mis\u001b[39;00m \u001b[39mnot\u001b[39;00m \u001b[39mNone\u001b[39;00m:\n\u001b[1;32m    153\u001b[0m     \u001b[39mself\u001b[39m\u001b[39m.\u001b[39mconstraint_formulas\u001b[39m.\u001b[39mextend(additional_constraints)\n\u001b[0;32m--> 154\u001b[0m \u001b[39mself\u001b[39m\u001b[39m.\u001b[39m_polyhedron \u001b[39m=\u001b[39m HPolyhedronFromConstraints(\n\u001b[1;32m    155\u001b[0m     \u001b[39mself\u001b[39;49m\u001b[39m.\u001b[39;49mconstraint_formulas,\n\u001b[1;32m    156\u001b[0m     \u001b[39mself\u001b[39;49m\u001b[39m.\u001b[39;49mvars\u001b[39m.\u001b[39;49mall,\n\u001b[1;32m    157\u001b[0m     remove_constraints_not_in_vars\u001b[39m=\u001b[39;49mremove_constraints_not_in_vars,\n\u001b[1;32m    158\u001b[0m )\n\u001b[1;32m    159\u001b[0m \u001b[39mself\u001b[39m\u001b[39m.\u001b[39m_base_polyhedron \u001b[39m=\u001b[39m HPolyhedronFromConstraints(\n\u001b[1;32m    160\u001b[0m     \u001b[39mself\u001b[39m\u001b[39m.\u001b[39mbase_constraint_formulas,\n\u001b[1;32m    161\u001b[0m     \u001b[39mself\u001b[39m\u001b[39m.\u001b[39mvars\u001b[39m.\u001b[39mbase_all,\n\u001b[1;32m    162\u001b[0m     remove_constraints_not_in_vars\u001b[39m=\u001b[39mremove_constraints_not_in_vars,\n\u001b[1;32m    163\u001b[0m )\n",
      "File \u001b[0;32m~/Documents/Software/large_gcs/large_gcs/geometry/geometry_utils.py:54\u001b[0m, in \u001b[0;36mHPolyhedronFromConstraints\u001b[0;34m(constraints, variables, make_bounded, remove_constraints_not_in_vars, BOUND)\u001b[0m\n\u001b[1;32m     52\u001b[0m ub \u001b[39m=\u001b[39m np\u001b[39m.\u001b[39mones(variables\u001b[39m.\u001b[39mshape) \u001b[39m*\u001b[39m BOUND\n\u001b[1;32m     53\u001b[0m upper_limits \u001b[39m=\u001b[39m le(variables, ub)\n\u001b[0;32m---> 54\u001b[0m lower_limits \u001b[39m=\u001b[39m le(\u001b[39m-\u001b[39;49mub, variables)\n\u001b[1;32m     55\u001b[0m limits \u001b[39m=\u001b[39m np\u001b[39m.\u001b[39mconcatenate((upper_limits, lower_limits))\n\u001b[1;32m     56\u001b[0m constraints \u001b[39m=\u001b[39m np\u001b[39m.\u001b[39mappend(constraints, limits)\n",
      "File \u001b[0;32m~/Documents/Software/large_gcs/.venv/lib/python3.11/site-packages/numpy/lib/function_base.py:2329\u001b[0m, in \u001b[0;36mvectorize.__call__\u001b[0;34m(self, *args, **kwargs)\u001b[0m\n\u001b[1;32m   2326\u001b[0m     vargs \u001b[39m=\u001b[39m [args[_i] \u001b[39mfor\u001b[39;00m _i \u001b[39min\u001b[39;00m inds]\n\u001b[1;32m   2327\u001b[0m     vargs\u001b[39m.\u001b[39mextend([kwargs[_n] \u001b[39mfor\u001b[39;00m _n \u001b[39min\u001b[39;00m names])\n\u001b[0;32m-> 2329\u001b[0m \u001b[39mreturn\u001b[39;00m \u001b[39mself\u001b[39;49m\u001b[39m.\u001b[39;49m_vectorize_call(func\u001b[39m=\u001b[39;49mfunc, args\u001b[39m=\u001b[39;49mvargs)\n",
      "File \u001b[0;32m~/Documents/Software/large_gcs/.venv/lib/python3.11/site-packages/numpy/lib/function_base.py:2407\u001b[0m, in \u001b[0;36mvectorize._vectorize_call\u001b[0;34m(self, func, args)\u001b[0m\n\u001b[1;32m   2405\u001b[0m     res \u001b[39m=\u001b[39m func()\n\u001b[1;32m   2406\u001b[0m \u001b[39melse\u001b[39;00m:\n\u001b[0;32m-> 2407\u001b[0m     ufunc, otypes \u001b[39m=\u001b[39m \u001b[39mself\u001b[39;49m\u001b[39m.\u001b[39;49m_get_ufunc_and_otypes(func\u001b[39m=\u001b[39;49mfunc, args\u001b[39m=\u001b[39;49margs)\n\u001b[1;32m   2409\u001b[0m     \u001b[39m# Convert args to object arrays first\u001b[39;00m\n\u001b[1;32m   2410\u001b[0m     inputs \u001b[39m=\u001b[39m [asanyarray(a, dtype\u001b[39m=\u001b[39m\u001b[39mobject\u001b[39m) \u001b[39mfor\u001b[39;00m a \u001b[39min\u001b[39;00m args]\n",
      "File \u001b[0;32m~/Documents/Software/large_gcs/.venv/lib/python3.11/site-packages/numpy/lib/function_base.py:2367\u001b[0m, in \u001b[0;36mvectorize._get_ufunc_and_otypes\u001b[0;34m(self, func, args)\u001b[0m\n\u001b[1;32m   2363\u001b[0m     \u001b[39mraise\u001b[39;00m \u001b[39mValueError\u001b[39;00m(\u001b[39m'\u001b[39m\u001b[39mcannot call `vectorize` on size 0 inputs \u001b[39m\u001b[39m'\u001b[39m\n\u001b[1;32m   2364\u001b[0m                      \u001b[39m'\u001b[39m\u001b[39munless `otypes` is set\u001b[39m\u001b[39m'\u001b[39m)\n\u001b[1;32m   2366\u001b[0m inputs \u001b[39m=\u001b[39m [arg\u001b[39m.\u001b[39mflat[\u001b[39m0\u001b[39m] \u001b[39mfor\u001b[39;00m arg \u001b[39min\u001b[39;00m args]\n\u001b[0;32m-> 2367\u001b[0m outputs \u001b[39m=\u001b[39m func(\u001b[39m*\u001b[39;49minputs)\n\u001b[1;32m   2369\u001b[0m \u001b[39m# Performance note: profiling indicates that -- for simple\u001b[39;00m\n\u001b[1;32m   2370\u001b[0m \u001b[39m# functions at least -- this wrapping can almost double the\u001b[39;00m\n\u001b[1;32m   2371\u001b[0m \u001b[39m# execution time.\u001b[39;00m\n\u001b[1;32m   2372\u001b[0m \u001b[39m# Hence we make it optional.\u001b[39;00m\n\u001b[1;32m   2373\u001b[0m \u001b[39mif\u001b[39;00m \u001b[39mself\u001b[39m\u001b[39m.\u001b[39mcache:\n",
      "File \u001b[0;32m~/Documents/Software/drake-build/install/lib/python3.11/site-packages/pydrake/_math_extra.py:59\u001b[0m, in \u001b[0;36m_best_effort_rich_compare\u001b[0;34m(a, b, oper)\u001b[0m\n\u001b[1;32m     57\u001b[0m     \u001b[39mreturn\u001b[39;00m oper(a, b)\n\u001b[1;32m     58\u001b[0m \u001b[39mexcept\u001b[39;00m \u001b[39mRuntimeError\u001b[39;00m \u001b[39mas\u001b[39;00m e:\n\u001b[0;32m---> 59\u001b[0m     \u001b[39mif\u001b[39;00m \u001b[39m\"\u001b[39m\u001b[39mnot call `__bool__` / `__nonzero__` on `Formula`\u001b[39m\u001b[39m\"\u001b[39m \u001b[39min\u001b[39;00m \u001b[39mstr\u001b[39m(e):\n\u001b[1;32m     60\u001b[0m         \u001b[39mif\u001b[39;00m \u001b[39misinstance\u001b[39m(a, _sym_cls_list):\n\u001b[1;32m     61\u001b[0m             \u001b[39mreturn\u001b[39;00m oper(a, _sym\u001b[39m.\u001b[39mExpression(b))\n",
      "\u001b[0;31mKeyboardInterrupt\u001b[0m: "
     ]
    },
    {
     "name": "stderr",
     "output_type": "stream",
     "text": [
      "  2%|▏         | 4007/165888 [01:37<58:06, 46.44it/s]"
     ]
    }
   ],
   "source": [
    "generator.generate()"
   ]
  },
  {
   "cell_type": "code",
   "execution_count": 4,
   "metadata": {},
   "outputs": [
    {
     "data": {
      "image/png": "[encoded data removed]",
      "text/plain": [
       "<Figure size 640x480 with 1 Axes>"
      ]
     },
     "metadata": {},
     "output_type": "display_data"
    }
   ],
   "source": [
    "ws_x = 7\n",
    "ws_y = 5\n",
    "target_region_params = [\n",
    "    ContactRegionParams(region_vertices=[[3,0], [3,-3], [6,0], [6,-3]],\n",
    "                  obj_indices=[0,1,2]),\n",
    "]\n",
    "params = ContactGraphGeneratorParams(\n",
    "    name=\"cg_stackpush\",\n",
    "    obs_vertices=[[[-3, -2], [2, 1], [3, 1], [3, -2] ]],\n",
    "    obj_vertices=[[[1, 0.5], [1, -0.5], [2, -0.5], [2, 0.5]],\n",
    "                  [[1, 0.5], [1, -0.5], [2, -0.5], [2, 0.5]],\n",
    "                  [[1, 0.5], [1, -0.5], [2, -0.5], [2, 0.5]],],\n",
    "    rob_vertices=[[[0, 0], [0, 0.5], [2, 0], [2, 0.5]]],\n",
    "    source_obj_pos=[[-2.5, -0.7], [-1.1, 0.1], [0.4, 1]],\n",
    "    source_rob_pos=[[-5, 1]],\n",
    "    target_region_params=target_region_params,\n",
    "    n_pos_per_set=2,\n",
    "    workspace=[[-ws_x, ws_x], [-ws_y, ws_y]],\n",
    ")\n",
    "\n",
    "generator = ContactGraphGenerator(params)\n",
    "generator.plot()"
   ]
  },
  {
   "cell_type": "code",
   "execution_count": 5,
   "metadata": {},
   "outputs": [
    {
     "name": "stderr",
     "output_type": "stream",
     "text": [
      "INFO:large_gcs.graph.contact_graph:Generating contact sets for 5 bodies...\n",
      "INFO:large_gcs.graph.contact_graph:Generating contact pair modes for 10 body pairs...\n",
      "100%|██████████| 10/10 [00:00<00:00, 53.46it/s]"
     ]
    }
   ],
   "source": [
    "generator.generate()"
   ]
  },
  {
   "cell_type": "code",
   "execution_count": null,
   "metadata": {},
   "outputs": [],
   "source": []
  }
 ],
 "metadata": {
  "kernelspec": {
   "display_name": ".venv",
   "language": "python",
   "name": "python3"
  },
  "language_info": {
   "codemirror_mode": {
    "name": "ipython",
    "version": 3
   },
   "file_extension": ".py",
   "mimetype": "text/x-python",
   "name": "python",
   "nbconvert_exporter": "python",
   "pygments_lexer": "ipython3",
   "version": "3.11.4"
  },
  "orig_nbformat": 4
 },
 "nbformat": 4,
 "nbformat_minor": 2
}
