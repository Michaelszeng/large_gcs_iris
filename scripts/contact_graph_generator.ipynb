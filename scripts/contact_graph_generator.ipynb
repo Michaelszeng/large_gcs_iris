{
 "cells": [
  {
   "cell_type": "markdown",
   "metadata": {},
   "source": [
    "# Contact Graph Generator"
   ]
  },
  {
   "cell_type": "code",
   "execution_count": 1,
   "metadata": {},
   "outputs": [
    {
     "name": "stderr",
     "output_type": "stream",
     "text": [
      "/afs/csail.mit.edu/u/s/shaoyuan/Documents/Software/pypolycontain/pypolycontain/conversions.py:19: UserWarning: WARNING: You don't have CDD package installed. Unable to visualize polytopes. You may still visualize zonotopes.\n",
      "  warnings.warn(\"WARNING: You don't have CDD package installed. Unable to visualize polytopes. You may still visualize zonotopes.\")\n",
      "/afs/csail.mit.edu/u/s/shaoyuan/Documents/Software/pypolycontain/pypolycontain/containment.py:16: UserWarning: You don't have CDD package installed. Unable to run cone ray generation.\n",
      "  warnings.warn(\"You don't have CDD package installed. Unable to run cone ray generation.\")\n"
     ]
    }
   ],
   "source": [
    "import logging\n",
    "from large_gcs.graph_generators.contact_graph_generator import (\n",
    "    ContactGraphGeneratorParams,\n",
    "    ContactGraphGenerator,\n",
    ")\n",
    "from large_gcs.graph.incremental_contact_graph import IncrementalContactGraph\n",
    "from large_gcs.graph.contact_graph import ContactGraph\n",
    "from large_gcs.algorithms.search_algorithm import ReexploreLevel\n",
    "from large_gcs.algorithms.gcs_astar_convex_restriction import GcsAstarConvexRestriction\n",
    "from large_gcs.graph.contact_cost_constraint_factory import (\n",
    "    contact_shortcut_edge_cost_factory_under,\n",
    "    contact_shortcut_edge_cost_factory_over_obj_weighted,\n",
    ")\n",
    "from large_gcs.cost_estimators.shortcut_edge_ce import ShortcutEdgeCE\n",
    "from large_gcs.contact.contact_regions_set import ContactRegionParams\n",
    "\n",
    "import numpy as np\n",
    "from copy import deepcopy\n",
    "from IPython.display import HTML\n",
    "from matplotlib import pyplot as plt\n",
    "\n",
    "\n",
    "np.set_printoptions(formatter={\"float\": lambda x: \"{0:0.3f}\".format(x)})\n",
    "logging.basicConfig(level=logging.INFO)\n",
    "logging.getLogger(\"large_gcs\").setLevel(logging.INFO)\n",
    "logging.getLogger(\"drake\").setLevel(logging.WARNING)"
   ]
  },
  {
   "cell_type": "markdown",
   "metadata": {},
   "source": [
    "# For collecting results to configure pytest tests"
   ]
  },
  {
   "cell_type": "code",
   "execution_count": null,
   "metadata": {},
   "outputs": [],
   "source": [
    "from large_gcs.cost_estimators.factored_collision_free_ce import FactoredCollisionFreeCE\n",
    "from large_gcs.graph.graph import ShortestPathSolution\n",
    "\n",
    "\n",
    "graph_file = ContactGraphGeneratorParams.inc_graph_file_path_from_name(\"cg_trichal2\")\n",
    "# cg = ContactGraph.load_from_file(graph_file)\n",
    "cg = IncrementalContactGraph.load_from_file(\n",
    "    graph_file,\n",
    "    should_incl_simul_mode_switches=False,\n",
    "    should_add_const_edge_cost=False,\n",
    "    should_add_gcs=False,\n",
    ")\n",
    "cost_estimator = FactoredCollisionFreeCE(\n",
    "    cg,\n",
    "    use_combined_gcs=False,\n",
    "    add_transition_cost=True,\n",
    "    obj_multiplier=100.0,\n",
    ")\n",
    "gcs_astar = GcsAstarConvexRestriction(\n",
    "    cg,\n",
    "    cost_estimator=cost_estimator,\n",
    "    reexplore_level=ReexploreLevel.NONE,\n",
    ")\n",
    "sol: ShortestPathSolution = gcs_astar.run()"
   ]
  },
  {
   "cell_type": "code",
   "execution_count": null,
   "metadata": {},
   "outputs": [],
   "source": [
    "str(sol)"
   ]
  },
  {
   "cell_type": "code",
   "execution_count": null,
   "metadata": {},
   "outputs": [],
   "source": [
    "anim = cg.animate_solution()\n",
    "HTML(anim.to_html5_video())"
   ]
  },
  {
   "cell_type": "markdown",
   "metadata": {},
   "source": [
    "# Simple Demo"
   ]
  },
  {
   "cell_type": "code",
   "execution_count": 2,
   "metadata": {},
   "outputs": [
    {
     "data": {
      "image/png": "[encoded data removed]",
      "text/plain": [
       "<Figure size 640x480 with 1 Axes>"
      ]
     },
     "metadata": {},
     "output_type": "display_data"
    }
   ],
   "source": [
    "ws = 3\n",
    "target_regions = [\n",
    "    ContactRegionParams(\n",
    "        region_vertices=[[1.5, -1], [1.5, 1], [3, 1], [3, -1]], obj_indices=[0]\n",
    "    ),\n",
    "]\n",
    "\n",
    "params = ContactGraphGeneratorParams(\n",
    "    name=\"cg_simple_1\",\n",
    "    obs_vertices=[],\n",
    "    obj_vertices=[np.array([[0, 0], [1, 0], [1, 1], [0, 1]])],\n",
    "    rob_vertices=[np.array([[0, 0], [1, 0], [1, 1], [0, 1]])],\n",
    "    source_obj_pos=[[0, 0]],\n",
    "    source_rob_pos=[[-2, -2]],\n",
    "    target_region_params=target_regions,\n",
    "    n_pos_per_set=2,\n",
    "    workspace=[[-ws, ws], [-ws, ws]],\n",
    "    should_use_l1_norm_vertex_cost=True,\n",
    ")\n",
    "generator = ContactGraphGenerator(params)\n",
    "generator.plot()"
   ]
  },
  {
   "cell_type": "code",
   "execution_count": 3,
   "metadata": {},
   "outputs": [
    {
     "data": {
      "image/png": "[encoded data removed]",
      "text/plain": [
       "<Figure size 640x480 with 1 Axes>"
      ]
     },
     "metadata": {},
     "output_type": "display_data"
    }
   ],
   "source": [
    "ws = 3\n",
    "target_regions = [\n",
    "    ContactRegionParams(\n",
    "        region_vertices=[[1.5, -1], [1.5, 1], [3, 1], [3, -1]], rob_indices=[0]\n",
    "    ),\n",
    "]\n",
    "\n",
    "params = ContactGraphGeneratorParams(\n",
    "    name=\"cg_simple_1_1\",\n",
    "    obs_vertices=[np.array([[0, 0], [2, 0], [2, 2], [0, 2]]) + np.array([-1, -1])],\n",
    "    obj_vertices=[],\n",
    "    rob_vertices=[np.array([[0, 0], [1, 0], [1, 1], [0, 1]])],\n",
    "    source_obj_pos=[],\n",
    "    source_rob_pos=[[-2, -2]],\n",
    "    target_region_params=target_regions,\n",
    "    n_pos_per_set=2,\n",
    "    workspace=[[-ws, ws], [-ws, ws]],\n",
    "    should_use_l1_norm_vertex_cost=True,\n",
    ")\n",
    "generator = ContactGraphGenerator(params)\n",
    "generator.plot()"
   ]
  },
  {
   "cell_type": "code",
   "execution_count": 5,
   "metadata": {},
   "outputs": [
    {
     "name": "stderr",
     "output_type": "stream",
     "text": [
      "INFO:large_gcs.graph.contact_graph:Generating contact pair modes for 1 body pairs...\n",
      "100%|██████████| 1/1 [00:00<00:00, 118.50it/s]\n",
      "INFO:large_gcs.graph.contact_graph:Generating contact sets for 4 sets...\n",
      "100%|██████████| 4/4 [00:00<00:00, 1567.82it/s]\n",
      "INFO:large_gcs.graph.contact_graph:Pruning empty sets...\n",
      "100%|██████████| 4/4 [00:00<00:00, 184.82it/s]\n",
      "INFO:large_gcs.graph.contact_graph:4 sets remain after removing 0 empty sets\n",
      "INFO:large_gcs.graph.contact_graph:Creating vertex costs...\n",
      "100%|██████████| 6/6 [00:00<00:00, 15524.88it/s]\n",
      "INFO:large_gcs.graph.graph:Adding 6 vertices to graph...\n",
      "100%|██████████| 6/6 [00:00<00:00, 20712.61it/s]\n",
      "INFO:large_gcs.graph.contact_graph:Generating edges...(parallel)\n",
      "100%|██████████| 15/15 [00:00<00:00, 1169.13it/s]\n",
      "INFO:large_gcs.graph.contact_graph:11 edges generated\n",
      "INFO:large_gcs.graph.contact_graph:Creating edge costs...\n",
      "100%|██████████| 11/11 [00:00<00:00, 18157.16it/s]\n",
      "INFO:large_gcs.graph.contact_graph:Creating edge constraints...\n",
      "100%|██████████| 11/11 [00:00<00:00, 9467.95it/s]\n",
      "INFO:large_gcs.graph.graph:Adding 11 edges to graph...\n",
      "100%|██████████| 11/11 [00:00<00:00, 10207.38it/s]\n",
      "INFO:large_gcs.graph.contact_graph:Created contact graph: GraphParams(dim_bounds=(2, 6), n_vertices=6, n_edges=11, source=[array([-2, -2])], target='regions', workspace=array([[-3,  3],\n",
      "       [-3,  3]]), default_costs_constraints=None)\n"
     ]
    }
   ],
   "source": [
    "cg=generator.generate()"
   ]
  },
  {
   "cell_type": "code",
   "execution_count": 6,
   "metadata": {},
   "outputs": [
    {
     "name": "stderr",
     "output_type": "stream",
     "text": [
      "INFO:large_gcs.graph.contact_graph:Creating vertex costs...\n",
      "100%|██████████| 2/2 [00:00<00:00, 33156.55it/s]\n",
      "INFO:large_gcs.graph.graph:Adding 2 vertices to graph...\n",
      "100%|██████████| 2/2 [00:00<00:00, 19737.90it/s]\n",
      "INFO:large_gcs.graph.contact_graph:Generating contact pair modes for 1 body pairs...\n",
      "100%|██████████| 1/1 [00:00<00:00, 145.43it/s]\n",
      "INFO:large_gcs.graph.incremental_contact_graph:Calculating adjacent contact pair modes (6)\n",
      "100%|██████████| 6/6 [00:00<00:00, 632.37it/s]\n"
     ]
    },
    {
     "data": {
      "text/plain": [
       "<large_gcs.graph.incremental_contact_graph.IncrementalContactGraph at 0x7fe8a77c2240>"
      ]
     },
     "execution_count": 6,
     "metadata": {},
     "output_type": "execute_result"
    }
   ],
   "source": [
    "generator.generate_incremental_contact_graph()"
   ]
  },
  {
   "cell_type": "code",
   "execution_count": 7,
   "metadata": {},
   "outputs": [
    {
     "name": "stderr",
     "output_type": "stream",
     "text": [
      "INFO:large_gcs.graph.contact_graph:Creating vertex costs...\n",
      "100%|██████████| 2/2 [00:00<00:00, 51150.05it/s]\n",
      "INFO:large_gcs.graph.graph:Adding 2 vertices to graph...\n",
      "100%|██████████| 2/2 [00:00<00:00, 25191.02it/s]\n",
      "INFO:large_gcs.graph.contact_graph:Generating contact pair modes for 1 body pairs...\n",
      "100%|██████████| 1/1 [00:00<00:00, 164.52it/s]\n",
      "INFO:large_gcs.graph.incremental_contact_graph:Calculating adjacent contact pair modes (6)\n",
      "100%|██████████| 6/6 [00:00<00:00, 1953.56it/s]\n"
     ]
    },
    {
     "data": {
      "image/png": "[encoded data removed]",
      "text/plain": [
       "<Figure size 640x480 with 1 Axes>"
      ]
     },
     "metadata": {},
     "output_type": "display_data"
    }
   ],
   "source": [
    "cg=IncrementalContactGraph.load_from_file(params.inc_graph_file_path,\n",
    "                                          should_use_l1_norm_vertex_cost=True,)\n",
    "cg.plot()"
   ]
  },
  {
   "cell_type": "markdown",
   "metadata": {},
   "source": [
    "## Simple Demo 2"
   ]
  },
  {
   "cell_type": "code",
   "execution_count": null,
   "metadata": {},
   "outputs": [],
   "source": [
    "ws = 3\n",
    "params = ContactGraphGeneratorParams(\n",
    "    name=\"cg_simple_2\",\n",
    "    obs_vertices=[],\n",
    "    obj_vertices=[np.array([[0, 0], [1, 0], [1, 1], [0, 1]]) + np.array([2.5, 0.5])],\n",
    "    rob_vertices=[np.array([[-1, -1], [-1.5, -0.5], [-1.2, -1.5]])],\n",
    "    source_obj_pos=[[0, 0]],\n",
    "    source_rob_pos=[[-2, -2]],\n",
    "    target_obj_pos=[[2, 0]],\n",
    "    target_rob_pos=[[2.5, 2]],\n",
    "    n_pos_per_set=2,\n",
    "    workspace=[[-ws, ws], [-ws, ws]],\n",
    ")\n",
    "generator = ContactGraphGenerator(params)\n",
    "generator.plot()"
   ]
  },
  {
   "cell_type": "code",
   "execution_count": null,
   "metadata": {},
   "outputs": [],
   "source": [
    "generator.generate()"
   ]
  },
  {
   "cell_type": "code",
   "execution_count": null,
   "metadata": {},
   "outputs": [],
   "source": [
    "cg = ContactGraph.load_from_file(params.graph_file_path)"
   ]
  },
  {
   "cell_type": "code",
   "execution_count": null,
   "metadata": {},
   "outputs": [],
   "source": [
    "generator.generate_incremental_contact_graph()"
   ]
  },
  {
   "cell_type": "code",
   "execution_count": null,
   "metadata": {},
   "outputs": [],
   "source": [
    "cg_inc = IncrementalContactGraph.load_from_file(params.inc_graph_file_path)"
   ]
  },
  {
   "cell_type": "markdown",
   "metadata": {},
   "source": [
    "## Simple Demo 3 (Target Region)"
   ]
  },
  {
   "cell_type": "code",
   "execution_count": null,
   "metadata": {},
   "outputs": [],
   "source": [
    "ws = 3\n",
    "target_regions = [\n",
    "    ContactRegionParams(\n",
    "        region_vertices=[[1.5, -1], [1.5, 1], [3, 1], [3, -1]], obj_indices=[0]\n",
    "    ),\n",
    "]\n",
    "\n",
    "params = ContactGraphGeneratorParams(\n",
    "    name=\"cg_simple_3\",\n",
    "    obs_vertices=[],\n",
    "    obj_vertices=[np.array([[0, 0], [1, 0], [1, 1], [0, 1]]) + np.array([2.5, 0.5])],\n",
    "    rob_vertices=[np.array([[-1, -1], [-1.5, -0.5], [-1.2, -1.5]])],\n",
    "    source_obj_pos=[[0, 0]],\n",
    "    source_rob_pos=[[-2, -2]],\n",
    "    target_region_params=target_regions,\n",
    "    n_pos_per_set=2,\n",
    "    workspace=[[-ws, ws], [-ws, ws]],\n",
    ")\n",
    "generator = ContactGraphGenerator(params)\n",
    "generator.plot()"
   ]
  },
  {
   "cell_type": "code",
   "execution_count": null,
   "metadata": {},
   "outputs": [],
   "source": [
    "ws = 3.5\n",
    "target_regions = [\n",
    "    ContactRegionParams(\n",
    "        region_vertices=[[1.5, -1], [1.5, 1], [3, 1], [3, -1]], obj_indices=[0]\n",
    "    ),\n",
    "]\n",
    "\n",
    "params = ContactGraphGeneratorParams(\n",
    "    name=\"cg_simple_4\",\n",
    "    obs_vertices=[np.array([[0, 0], [2, 0], [2, 2], [0, 2]]) + np.array([-1, -1])],\n",
    "    obj_vertices=[np.array([[0, 0], [1, 0], [1, 1], [0, 1]])],\n",
    "    rob_vertices=[np.array([[0, 0], [0.5, 0], [0.5, 0.5], [0, 0.5]])],\n",
    "    source_obj_pos=[[-2, 0]],\n",
    "    source_rob_pos=[[0, -2]],\n",
    "    target_region_params=target_regions,\n",
    "    n_pos_per_set=2,\n",
    "    workspace=[[-ws, ws], [-ws, ws]],\n",
    "    should_add_const_edge_cost=True,\n",
    "    should_use_l1_norm_vertex_cost=True,\n",
    ")\n",
    "generator = ContactGraphGenerator(params)\n",
    "generator.plot()"
   ]
  },
  {
   "cell_type": "code",
   "execution_count": null,
   "metadata": {},
   "outputs": [],
   "source": [
    "ws = 3.5\n",
    "target_regions = [\n",
    "    ContactRegionParams(\n",
    "        region_vertices=[[1, -0.5], [1, 0.5], [3, 0.5], [3, -0.5]], obj_indices=[0]\n",
    "    ),\n",
    "]\n",
    "\n",
    "params = ContactGraphGeneratorParams(\n",
    "    name=\"cg_simple_5\",\n",
    "    obs_vertices=[np.array([[0, -1], [2, -1], [2, 2], [0, 2]]) + np.array([-1, -1])],\n",
    "    obj_vertices=[np.array([[0, 0], [1, 0], [1, 1], [0, 1]])],\n",
    "    rob_vertices=[np.array([[0, 0], [0.5, 0], [0.5, 0.5], [0, 0.5]])],\n",
    "    source_obj_pos=[[-2, 0]],\n",
    "    source_rob_pos=[[2, 2]],\n",
    "    target_region_params=target_regions,\n",
    "    n_pos_per_set=2,\n",
    "    workspace=[[-ws, ws], [-ws, ws]],\n",
    "    should_add_const_edge_cost=True,\n",
    "    should_use_l1_norm_vertex_cost=True,\n",
    ")\n",
    "generator = ContactGraphGenerator(params)\n",
    "generator.plot()"
   ]
  },
  {
   "cell_type": "code",
   "execution_count": null,
   "metadata": {},
   "outputs": [],
   "source": [
    "generator.generate()"
   ]
  },
  {
   "cell_type": "code",
   "execution_count": null,
   "metadata": {},
   "outputs": [],
   "source": [
    "generator.generate_incremental_contact_graph()"
   ]
  },
  {
   "cell_type": "code",
   "execution_count": null,
   "metadata": {},
   "outputs": [],
   "source": [
    "cg_inc = IncrementalContactGraph.load_from_file(params.inc_graph_file_path)"
   ]
  },
  {
   "cell_type": "code",
   "execution_count": null,
   "metadata": {},
   "outputs": [],
   "source": [
    "cost_estimator = ShortcutEdgeCE(\n",
    "    cg_inc,\n",
    "    shortcut_edge_cost_factory=contact_shortcut_edge_cost_factory_over_obj_weighted,\n",
    ")\n",
    "gcs_astar = GcsAstarConvexRestriction(\n",
    "    cg_inc,\n",
    "    cost_estimator=cost_estimator,\n",
    "    reexplore_level=ReexploreLevel.NONE,\n",
    ")\n",
    "sol = gcs_astar.run()"
   ]
  },
  {
   "cell_type": "markdown",
   "metadata": {},
   "source": [
    "# Triangle Challenge"
   ]
  },
  {
   "cell_type": "markdown",
   "metadata": {},
   "source": [
    "## Triangle Challenge 2"
   ]
  },
  {
   "cell_type": "code",
   "execution_count": null,
   "metadata": {},
   "outputs": [],
   "source": [
    "ws_x = 5\n",
    "ws_y = 4\n",
    "params = ContactGraphGeneratorParams(\n",
    "    name=\"cg_trichal2\",\n",
    "    obs_vertices=[[[-1, 2], [-1, -1], [2, 2]]],\n",
    "    obj_vertices=[[[1, 0.5], [1, -0.5], [2, -0.5], [2, 0.5]]],\n",
    "    rob_vertices=[[[3, 1], [3, 0], [3.5, 0]]],\n",
    "    source_obj_pos=[[3.25, 0]],\n",
    "    source_rob_pos=[[1.5, 0.5]],\n",
    "    target_obj_pos=[[-1.5, 0]],\n",
    "    target_rob_pos=[[-3, 0]],\n",
    "    n_pos_per_set=2,\n",
    "    workspace=[[-ws_x, ws_x], [-ws_y, ws_y]],\n",
    ")\n",
    "\n",
    "generator = ContactGraphGenerator(params)\n",
    "generator.plot()"
   ]
  },
  {
   "cell_type": "code",
   "execution_count": null,
   "metadata": {},
   "outputs": [],
   "source": [
    "generator.generate()"
   ]
  },
  {
   "cell_type": "code",
   "execution_count": null,
   "metadata": {},
   "outputs": [],
   "source": [
    "cg = ContactGraph.load_from_file(params.graph_file_path)"
   ]
  },
  {
   "cell_type": "code",
   "execution_count": null,
   "metadata": {},
   "outputs": [],
   "source": [
    "generator.generate_incremental_contact_graph()\n",
    "cg_inc = IncrementalContactGraph.load_from_file(params.inc_graph_file_path)"
   ]
  },
  {
   "cell_type": "markdown",
   "metadata": {},
   "source": [
    "### Testing solution methods"
   ]
  },
  {
   "cell_type": "code",
   "execution_count": null,
   "metadata": {},
   "outputs": [],
   "source": [
    "logging.getLogger(\"large_gcs.algorithms.gcs_astar_convex_restriction\").setLevel(\n",
    "    logging.DEBUG\n",
    ")\n",
    "cost_estimator = ShortcutEdgeCE(\n",
    "    cg, shortcut_edge_cost_factory=contact_shortcut_edge_cost_factory_over_obj_weighted\n",
    ")\n",
    "gcs_astar = GcsAstarConvexRestriction(\n",
    "    cg,\n",
    "    cost_estimator=cost_estimator,\n",
    "    reexplore_level=ReexploreLevel.NONE,\n",
    ")\n",
    "sol = gcs_astar.run()"
   ]
  },
  {
   "cell_type": "code",
   "execution_count": null,
   "metadata": {},
   "outputs": [],
   "source": [
    "anim = cg.animate_solution()\n",
    "HTML(anim.to_html5_video())"
   ]
  },
  {
   "cell_type": "markdown",
   "metadata": {},
   "source": [
    "## Triangle Challenge 3"
   ]
  },
  {
   "cell_type": "code",
   "execution_count": null,
   "metadata": {},
   "outputs": [],
   "source": [
    "ws_x = 5\n",
    "ws_y = 4\n",
    "params = ContactGraphGeneratorParams(\n",
    "    name=\"cg_trichal3\",\n",
    "    obs_vertices=[[[-1, 2], [-1, -1], [2, 2]]],\n",
    "    obj_vertices=[[[1, 0.5], [1, -0.5], [2, -0.5], [2, 0.5]]],\n",
    "    rob_vertices=[[[3, 1], [3, 0], [3.5, 0]]],\n",
    "    source_obj_pos=[[3.25, 0]],\n",
    "    source_rob_pos=[[-3, 0]],\n",
    "    target_obj_pos=[[-1.5, 0]],\n",
    "    target_rob_pos=[[1.5, 0.5]],\n",
    "    n_pos_per_set=2,\n",
    "    workspace=[[-ws_x, ws_x], [-ws_y, ws_y]],\n",
    ")\n",
    "\n",
    "generator = ContactGraphGenerator(params)\n",
    "generator.plot()"
   ]
  },
  {
   "cell_type": "code",
   "execution_count": null,
   "metadata": {},
   "outputs": [],
   "source": [
    "generator.generate()"
   ]
  },
  {
   "cell_type": "code",
   "execution_count": null,
   "metadata": {},
   "outputs": [],
   "source": [
    "generator.generate_incremental_contact_graph()\n",
    "cg_inc = IncrementalContactGraph.load_from_file(params.inc_graph_file_path)"
   ]
  },
  {
   "cell_type": "code",
   "execution_count": null,
   "metadata": {},
   "outputs": [],
   "source": [
    "cg = ContactGraph.load_from_file(params.graph_file_path)"
   ]
  },
  {
   "cell_type": "code",
   "execution_count": null,
   "metadata": {},
   "outputs": [],
   "source": [
    "generator.generate_incremental_contact_graph()\n",
    "cg_inc = IncrementalContactGraph.load_from_file(params.inc_graph_file_path)"
   ]
  },
  {
   "cell_type": "code",
   "execution_count": null,
   "metadata": {},
   "outputs": [],
   "source": [
    "cg_inc.plot()"
   ]
  },
  {
   "cell_type": "markdown",
   "metadata": {},
   "source": [
    "## Triangle Challenge 4 (Target Region)"
   ]
  },
  {
   "cell_type": "code",
   "execution_count": null,
   "metadata": {},
   "outputs": [],
   "source": [
    "ws_x = 5\n",
    "ws_y = 4\n",
    "target_region_params = [\n",
    "    ContactRegionParams(\n",
    "        region_vertices=[[-3, -0.75], [-3, 1], [-1, -0.75], [-1, 1]], obj_indices=[0]\n",
    "    ),\n",
    "]\n",
    "params = ContactGraphGeneratorParams(\n",
    "    name=\"cg_trichal4\",\n",
    "    obs_vertices=[[[-1, 2], [-1, -1], [2, 2]]],\n",
    "    obj_vertices=[[[1, 0.5], [1, -0.5], [2, -0.5], [2, 0.5]]],\n",
    "    rob_vertices=[[[3, 1], [3, 0], [3.5, 0]]],\n",
    "    source_obj_pos=[[3.25, 0]],\n",
    "    source_rob_pos=[[1.5, 0.5]],\n",
    "    target_region_params=target_region_params,\n",
    "    n_pos_per_set=2,\n",
    "    workspace=[[-ws_x, ws_x], [-ws_y, ws_y]],\n",
    ")\n",
    "\n",
    "generator = ContactGraphGenerator(params)\n",
    "generator.plot()"
   ]
  },
  {
   "cell_type": "code",
   "execution_count": null,
   "metadata": {},
   "outputs": [],
   "source": [
    "generator.generate()"
   ]
  },
  {
   "cell_type": "code",
   "execution_count": null,
   "metadata": {},
   "outputs": [],
   "source": [
    "generator.generate_incremental_contact_graph()\n",
    "cg_inc = IncrementalContactGraph.load_from_file(params.inc_graph_file_path)"
   ]
  },
  {
   "cell_type": "markdown",
   "metadata": {},
   "source": [
    "## Trichal 5-15"
   ]
  },
  {
   "cell_type": "code",
   "execution_count": null,
   "metadata": {},
   "outputs": [],
   "source": [
    "seed = 0\n",
    "ws_x = 5\n",
    "ws_y = 4\n",
    "bl = np.array([-ws_x, -ws_y])\n",
    "tr_width = 1.5\n",
    "target_region_vertices = np.array(\n",
    "    [\n",
    "        bl,\n",
    "        bl + np.array([tr_width, 0]),\n",
    "        bl + np.array([tr_width, tr_width]),\n",
    "        bl + np.array([0, tr_width]),\n",
    "    ]\n",
    ")\n",
    "generators = []\n",
    "i = 0\n",
    "while len(generators) < 10:\n",
    "    i += 1\n",
    "    np.random.seed(seed + i)\n",
    "    target_region_offset = np.random.uniform(\n",
    "        [0, 0], [2 * ws_x - tr_width, 2 * ws_y - tr_width]\n",
    "    )\n",
    "    target_region_params = [\n",
    "        ContactRegionParams(\n",
    "            region_vertices=target_region_vertices + target_region_offset,\n",
    "            obj_indices=[0],\n",
    "        ),\n",
    "    ]\n",
    "    buffer = 2\n",
    "    body_offsets = np.random.uniform(\n",
    "        [-ws_x + buffer, -ws_y + buffer], [ws_x - buffer, ws_y - buffer], size=(2, 2)\n",
    "    )\n",
    "\n",
    "    params = ContactGraphGeneratorParams(\n",
    "        name=\"cg_trichal\" + str(len(generators) + 5),\n",
    "        obs_vertices=[[[-1, 2], [-1, -1], [2, 2]]],\n",
    "        obj_vertices=[[[1, 0.5], [1, -0.5], [2, -0.5], [2, 0.5]]],\n",
    "        rob_vertices=[[[3, 1], [3, 0], [3.5, 0]]],\n",
    "        source_obj_pos=[np.zeros(2) + body_offsets[0]],\n",
    "        source_rob_pos=[np.zeros(2) + body_offsets[1]],\n",
    "        target_region_params=target_region_params,\n",
    "        n_pos_per_set=2,\n",
    "        workspace=[[-ws_x, ws_x], [-ws_y, ws_y]],\n",
    "    )\n",
    "\n",
    "    generator = ContactGraphGenerator(params)\n",
    "    is_valid = generator.is_valid()\n",
    "    # print(is_valid)\n",
    "    if is_valid:\n",
    "        generators.append(generator)\n",
    "        print(len(generators))\n",
    "    # generator.plot()\n",
    "    # plt.show()"
   ]
  },
  {
   "cell_type": "code",
   "execution_count": null,
   "metadata": {},
   "outputs": [],
   "source": [
    "for i, generator in enumerate(generators):\n",
    "    # generator.plot()\n",
    "    # plt.show()\n",
    "    generator.generate_incremental_contact_graph()"
   ]
  },
  {
   "cell_type": "markdown",
   "metadata": {},
   "source": [
    "# Maze a"
   ]
  },
  {
   "cell_type": "markdown",
   "metadata": {},
   "source": [
    "## Maze a1"
   ]
  },
  {
   "cell_type": "code",
   "execution_count": null,
   "metadata": {},
   "outputs": [],
   "source": [
    "ws_x = 5\n",
    "ws_y = 5\n",
    "params = ContactGraphGeneratorParams(\n",
    "    name=\"cg_maze_a1\",\n",
    "    obs_vertices=[\n",
    "        [[-2, -2.7], [2.2, 2.6], [-1.3, 0.5]],\n",
    "        [[0.5, -2], [2.7, -1.2], [2.4, 0.3]],\n",
    "    ],\n",
    "    obj_vertices=[[[1, 0.5], [1, -0.5], [2, -0.5], [2, 0.5]]],\n",
    "    rob_vertices=[[[3, 1], [3, 0], [3.5, 0]]],\n",
    "    source_obj_pos=[[3.25, 0]],\n",
    "    source_rob_pos=[[1.5, 0.6]],\n",
    "    target_obj_pos=[[-2.3, -0.7]],\n",
    "    target_rob_pos=[[-0.5, 2]],\n",
    "    n_pos_per_set=2,\n",
    "    workspace=[[-ws_x, ws_x], [-ws_y, ws_y]],\n",
    ")\n",
    "\n",
    "generator = ContactGraphGenerator(params)\n",
    "generator.plot()"
   ]
  },
  {
   "cell_type": "code",
   "execution_count": null,
   "metadata": {},
   "outputs": [],
   "source": [
    "generator.generate()"
   ]
  },
  {
   "cell_type": "code",
   "execution_count": null,
   "metadata": {},
   "outputs": [],
   "source": [
    "cg = ContactGraph.load_from_file(params.graph_file_path)"
   ]
  },
  {
   "cell_type": "code",
   "execution_count": null,
   "metadata": {},
   "outputs": [],
   "source": [
    "generator.generate_incremental_contact_graph()\n",
    "cg_inc = IncrementalContactGraph.load_from_file(params.inc_graph_file_path)"
   ]
  },
  {
   "cell_type": "markdown",
   "metadata": {},
   "source": [
    "## Maze a2"
   ]
  },
  {
   "cell_type": "code",
   "execution_count": null,
   "metadata": {},
   "outputs": [],
   "source": [
    "ws_x = 5\n",
    "ws_y = 5\n",
    "params = ContactGraphGeneratorParams(\n",
    "    name=\"cg_maze_a2\",\n",
    "    obs_vertices=[\n",
    "        [[-2, -2.7], [2.2, 2.6], [-1.3, 0.5]],\n",
    "        [[0.5, -2], [2.7, -1.2], [2.4, 0.3]],\n",
    "    ],\n",
    "    obj_vertices=[[[1, 0.5], [1, -0.5], [2, -0.5], [2, 0.5]]],\n",
    "    rob_vertices=[[[3, 1], [3, 0], [3.5, 0]]],\n",
    "    source_obj_pos=[[1.6, 0.6]],\n",
    "    source_rob_pos=[[3.25, 0]],\n",
    "    target_obj_pos=[[-2.3, -0.7]],\n",
    "    target_rob_pos=[[-0.5, 2]],\n",
    "    n_pos_per_set=2,\n",
    "    workspace=[[-ws_x, ws_x], [-ws_y, ws_y]],\n",
    ")\n",
    "\n",
    "generator = ContactGraphGenerator(params)\n",
    "generator.plot()"
   ]
  },
  {
   "cell_type": "code",
   "execution_count": null,
   "metadata": {},
   "outputs": [],
   "source": [
    "generator.generate()"
   ]
  },
  {
   "cell_type": "code",
   "execution_count": null,
   "metadata": {},
   "outputs": [],
   "source": [
    "cg = ContactGraph.load_from_file(params.graph_file_path)"
   ]
  },
  {
   "cell_type": "code",
   "execution_count": null,
   "metadata": {},
   "outputs": [],
   "source": [
    "generator.generate_incremental_contact_graph()\n",
    "cg_inc = IncrementalContactGraph.load_from_file(params.inc_graph_file_path)"
   ]
  },
  {
   "cell_type": "markdown",
   "metadata": {},
   "source": [
    "## Maze a3"
   ]
  },
  {
   "cell_type": "code",
   "execution_count": null,
   "metadata": {},
   "outputs": [],
   "source": [
    "ws_x = 5\n",
    "ws_y = 5\n",
    "bl = np.array([-ws_x, -ws_y])\n",
    "tr_width = 1.1\n",
    "target_region_vertices = np.array(\n",
    "    [\n",
    "        bl,\n",
    "        bl + np.array([tr_width, 0]),\n",
    "        bl + np.array([tr_width, tr_width]),\n",
    "        bl + np.array([0, tr_width]),\n",
    "    ]\n",
    ")\n",
    "target_region_offset = np.array([2.3, 4])\n",
    "target_region_params = [\n",
    "    ContactRegionParams(\n",
    "        region_vertices=target_region_vertices + target_region_offset,\n",
    "        obj_indices=[0],\n",
    "    ),\n",
    "]\n",
    "\n",
    "params = ContactGraphGeneratorParams(\n",
    "    name=\"cg_maze_a3\",\n",
    "    obs_vertices=[\n",
    "        [[-2, -2.7], [2.2, 2.6], [-1.3, 0.5]],\n",
    "        [[0.5, -2], [2.7, -1.2], [2.4, 0.3]],\n",
    "    ],\n",
    "    obj_vertices=[[[1, 0.5], [1, -0.5], [2, -0.5], [2, 0.5]]],\n",
    "    rob_vertices=[[[3, 1], [3, 0], [3.5, 0]]],\n",
    "    source_obj_pos=[[1.6, 0.6]],\n",
    "    source_rob_pos=[[3.25, 0]],\n",
    "    target_region_params=target_region_params,\n",
    "    n_pos_per_set=2,\n",
    "    workspace=[[-ws_x, ws_x], [-ws_y, ws_y]],\n",
    ")\n",
    "\n",
    "generator = ContactGraphGenerator(params)\n",
    "generator.plot()"
   ]
  },
  {
   "cell_type": "code",
   "execution_count": null,
   "metadata": {},
   "outputs": [],
   "source": [
    "generator.generate_incremental_contact_graph()\n",
    "cg_inc = IncrementalContactGraph.load_from_file(params.inc_graph_file_path)"
   ]
  },
  {
   "cell_type": "code",
   "execution_count": null,
   "metadata": {},
   "outputs": [],
   "source": [
    "ws_x = 5\n",
    "ws_y = 5\n",
    "bl = np.array([-ws_x, -ws_y])\n",
    "tr_width = 1.1\n",
    "target_region_vertices = np.array(\n",
    "    [\n",
    "        bl,\n",
    "        bl + np.array([tr_width, 0]),\n",
    "        bl + np.array([tr_width, tr_width]),\n",
    "        bl + np.array([0, tr_width]),\n",
    "    ]\n",
    ")\n",
    "target_region_offset = np.array([2, 0.3])\n",
    "target_region_params = [\n",
    "    ContactRegionParams(\n",
    "        region_vertices=target_region_vertices + target_region_offset,\n",
    "        obj_indices=[0],\n",
    "    ),\n",
    "]\n",
    "\n",
    "params = ContactGraphGeneratorParams(\n",
    "    name=\"cg_maze_c1\",\n",
    "    obs_vertices=[\n",
    "        [[-2, -2.7], [1.7, 2.6], [-3.3, 0.5]] + np.array([1, 1]),\n",
    "        [[0.5, -2], [2.7, -1.2], [2.4, 0.3]] + np.array([1, 1]),\n",
    "        [[0, -5], [2, -5], [-3, -2.5]],\n",
    "    ],\n",
    "    obj_vertices=[[[1, 0.5], [1, -0.5], [2, -0.5], [2, 0.5]]],\n",
    "    rob_vertices=[[[3, 1], [3, 0], [3.5, 0]]],\n",
    "    source_obj_pos=[[2.6, 1.6]],\n",
    "    source_rob_pos=[[4.25, 0]],\n",
    "    target_region_params=target_region_params,\n",
    "    n_pos_per_set=2,\n",
    "    workspace=[[-ws_x, ws_x], [-ws_y, ws_y]],\n",
    ")\n",
    "\n",
    "generator = ContactGraphGenerator(params)\n",
    "generator.plot()"
   ]
  },
  {
   "cell_type": "code",
   "execution_count": null,
   "metadata": {},
   "outputs": [],
   "source": [
    "ws_x = 5\n",
    "ws_y = 5\n",
    "bl = np.array([-ws_x, -ws_y])\n",
    "tr_width = 1.1\n",
    "target_region_vertices = np.array(\n",
    "    [\n",
    "        bl,\n",
    "        bl + np.array([tr_width, 0]),\n",
    "        bl + np.array([tr_width, tr_width]),\n",
    "        bl + np.array([0, tr_width]),\n",
    "    ]\n",
    ")\n",
    "target_region_offset = np.array([2, 0.3])\n",
    "target_region_params = [\n",
    "    ContactRegionParams(\n",
    "        region_vertices=target_region_vertices + target_region_offset,\n",
    "        obj_indices=[0],\n",
    "    ),\n",
    "]\n",
    "\n",
    "params = ContactGraphGeneratorParams(\n",
    "    name=\"cg_maze_c2\",\n",
    "    obs_vertices=[\n",
    "        [[-2, -2.7], [1.5, 2.4], [-3.3, 0.5], [-2, 2.5]] + np.array([1, 1]),\n",
    "        [\n",
    "            [0.5, -2],\n",
    "            [1.7, -3.2],\n",
    "            [2.7, -1.2],\n",
    "            [2.4, 0.3],\n",
    "        ]\n",
    "        + np.array([1, 1]),\n",
    "        [[0, -5], [2, -5], [-3, -2.5]],\n",
    "    ],\n",
    "    obj_vertices=[[[1, 0.5], [1, -0.5], [2, -0.5], [2, 0.5]]],\n",
    "    rob_vertices=[[[3, 1], [3, 0], [3.5, 0]]],\n",
    "    source_obj_pos=[[2.6, 1.6]],\n",
    "    source_rob_pos=[[4.25, 0]],\n",
    "    target_region_params=target_region_params,\n",
    "    n_pos_per_set=2,\n",
    "    workspace=[[-ws_x, ws_x], [-ws_y, ws_y]],\n",
    ")\n",
    "\n",
    "generator = ContactGraphGenerator(params)\n",
    "generator.plot()"
   ]
  },
  {
   "cell_type": "code",
   "execution_count": null,
   "metadata": {},
   "outputs": [],
   "source": [
    "generator.generate_incremental_contact_graph()\n",
    "cg_inc = IncrementalContactGraph.load_from_file(params.inc_graph_file_path)"
   ]
  },
  {
   "cell_type": "markdown",
   "metadata": {},
   "source": [
    "## Maze a10-a39"
   ]
  },
  {
   "cell_type": "code",
   "execution_count": null,
   "metadata": {},
   "outputs": [],
   "source": [
    "ws_x = 5\n",
    "ws_y = 5\n",
    "seed = 123\n",
    "bl = np.array([-ws_x, -ws_y])\n",
    "tr_width = 1.1\n",
    "target_region_vertices = np.array(\n",
    "    [\n",
    "        bl,\n",
    "        bl + np.array([tr_width, 0]),\n",
    "        bl + np.array([tr_width, tr_width]),\n",
    "        bl + np.array([0, tr_width]),\n",
    "    ]\n",
    ")\n",
    "generators = []\n",
    "i = 0\n",
    "while len(generators) < 30:\n",
    "    i += 1\n",
    "    np.random.seed(seed + i)\n",
    "    buffer = 2\n",
    "    target_region_offset = np.random.uniform(\n",
    "        [0, 0], [2 * ws_x - buffer, 2 * ws_y - buffer]\n",
    "    )\n",
    "    target_region_params = [\n",
    "        ContactRegionParams(\n",
    "            region_vertices=target_region_vertices + target_region_offset,\n",
    "            obj_indices=[0],\n",
    "        ),\n",
    "    ]\n",
    "\n",
    "    body_offsets = np.random.uniform(\n",
    "        [-ws_x + buffer, -ws_y + buffer], [ws_x - buffer, ws_y - buffer], size=(2, 2)\n",
    "    )\n",
    "    obs_offsets = np.random.uniform([-1.5, -1.5], [1.5, 1.5], size=(2, 2))\n",
    "    obs_a_vertices = np.array([[-2, -2.7], [2.2, 2.6], [-1.3, 0.5]]) + obs_offsets[0]\n",
    "    obs_b_vertices = np.array([[0.5, -2], [2.7, -1.2], [2.4, 0.3]]) + obs_offsets[1]\n",
    "    params = ContactGraphGeneratorParams(\n",
    "        name=\"cg_maze_a\" + str(len(generators) + 10),\n",
    "        obs_vertices=[\n",
    "            obs_a_vertices,\n",
    "            obs_b_vertices,\n",
    "        ],\n",
    "        obj_vertices=[[[1, 0.5], [1, -0.5], [2, -0.5], [2, 0.5]]],\n",
    "        rob_vertices=[[[3, 1], [3, 0], [3.5, 0]]],\n",
    "        source_obj_pos=[np.zeros(2) + body_offsets[0]],\n",
    "        source_rob_pos=[np.zeros(2) + body_offsets[1]],\n",
    "        target_region_params=target_region_params,\n",
    "        n_pos_per_set=2,\n",
    "        workspace=[[-ws_x, ws_x], [-ws_y, ws_y]],\n",
    "    )\n",
    "\n",
    "    generator = ContactGraphGenerator(params)\n",
    "    is_valid = generator.is_valid()\n",
    "    # print(is_valid)\n",
    "    if is_valid:\n",
    "        generators.append(generator)\n",
    "        print(len(generators))\n",
    "        generator.plot()\n",
    "        plt.show()"
   ]
  },
  {
   "cell_type": "code",
   "execution_count": null,
   "metadata": {},
   "outputs": [],
   "source": [
    "for i, generator in enumerate(generators):\n",
    "    if i < 10:\n",
    "        continue\n",
    "    # generator.plot()\n",
    "    # plt.show()\n",
    "    print(f\"Generating {i}\")\n",
    "    generator.generate_incremental_contact_graph()"
   ]
  },
  {
   "cell_type": "code",
   "execution_count": null,
   "metadata": {},
   "outputs": [],
   "source": [
    "base = \"cg_maze_a\"\n",
    "names = [base + str(i) for i in range(20, 40)]\n",
    "# print without quotes:\n",
    "print(*names, sep=\", \")"
   ]
  },
  {
   "cell_type": "markdown",
   "metadata": {},
   "source": [
    "# Maze B (Adversarial Feasibility Examples)"
   ]
  },
  {
   "cell_type": "markdown",
   "metadata": {},
   "source": [
    "These examples are designed to make solving the convex restriction using the shortcut edge heuristic fail because the first path explored is ultimately infeasible."
   ]
  },
  {
   "cell_type": "markdown",
   "metadata": {},
   "source": [
    "## b0\n",
    "This was a failed attempt to generate an adversarial example"
   ]
  },
  {
   "cell_type": "code",
   "execution_count": null,
   "metadata": {},
   "outputs": [],
   "source": [
    "ws_x = 5\n",
    "ws_y = 5\n",
    "target_region_params = [\n",
    "    ContactRegionParams(\n",
    "        region_vertices=[[-5, -3], [-4, -3], [-4, 2], [-5, 2]], obj_indices=[0]\n",
    "    ),\n",
    "]\n",
    "params = ContactGraphGeneratorParams(\n",
    "    name=\"cg_maze_b0\",\n",
    "    obs_vertices=[\n",
    "        [[-2, -3.5], [3, -3.5], [-2, 3.5]],\n",
    "        [[-5, -5], [-2.5, -5], [-5, -3]],\n",
    "        [[-5, 5], [-2.5, 5], [-5, 3]],\n",
    "    ],\n",
    "    obj_vertices=[[[1, 0.5], [1, -0.5], [2, -0.5], [2, 0.5]]],\n",
    "    rob_vertices=[[[3, 1], [3, 0], [3.5, 0]]],\n",
    "    source_obj_pos=[[1.6, 0.6]],\n",
    "    source_rob_pos=[[3.25, 0]],\n",
    "    target_region_params=target_region_params,\n",
    "    n_pos_per_set=2,\n",
    "    workspace=[[-ws_x, ws_x], [-ws_y, ws_y]],\n",
    ")\n",
    "\n",
    "generator = ContactGraphGenerator(params)\n",
    "generator.plot()"
   ]
  },
  {
   "cell_type": "code",
   "execution_count": null,
   "metadata": {},
   "outputs": [],
   "source": [
    "generator.generate_incremental_contact_graph()"
   ]
  },
  {
   "cell_type": "code",
   "execution_count": null,
   "metadata": {},
   "outputs": [],
   "source": [
    "ws_x = 5\n",
    "ws_y = 5\n",
    "target_region_params = [\n",
    "    ContactRegionParams(\n",
    "        region_vertices=[[-4.5, -4.5], [-3, -4.5], [-3, 4.5], [-4.5, 4.5]],\n",
    "        obj_indices=[0],\n",
    "    ),\n",
    "]\n",
    "params = ContactGraphGeneratorParams(\n",
    "    name=\"cg_maze_b0_1\",\n",
    "    obs_vertices=[\n",
    "        [[-2, -3.5], [3, -3.5], [-2, 3.5]],\n",
    "    ],\n",
    "    obj_vertices=[[[1, 0.5], [1, -0.5], [2, -0.5], [2, 0.5]]],\n",
    "    rob_vertices=[[[3, 1], [3, 0], [3.5, 0]]],\n",
    "    source_obj_pos=[[1.6, 0.6]],\n",
    "    source_rob_pos=[[3.25, 0]],\n",
    "    target_region_params=target_region_params,\n",
    "    n_pos_per_set=2,\n",
    "    workspace=[[-ws_x, ws_x], [-ws_y, ws_y]],\n",
    ")\n",
    "\n",
    "generator = ContactGraphGenerator(params)\n",
    "generator.plot()"
   ]
  },
  {
   "cell_type": "code",
   "execution_count": null,
   "metadata": {},
   "outputs": [],
   "source": [
    "generator.generate_incremental_contact_graph()"
   ]
  },
  {
   "cell_type": "code",
   "execution_count": null,
   "metadata": {},
   "outputs": [],
   "source": [
    "params = ContactGraphGeneratorParams(\n",
    "    name=\"cg_maze_b1\",\n",
    "    obs_vertices=[\n",
    "        [[-2.360, -3.821], [1.840, 1.479], [-1.660, -0.621]],\n",
    "    ],\n",
    "    obj_vertices=[[[1.000, 0.500], [1.000, -0.500], [2.000, -0.500], [2.000, 0.500]]],\n",
    "    rob_vertices=[[[3.000, 1.000], [3.000, 0.000], [3.500, 0.000]]],\n",
    "    source_obj_pos=[[0.329, -2.245]],\n",
    "    source_rob_pos=[[-0.037, 2.527]],\n",
    "    n_pos_per_set=2,\n",
    "    workspace=[[-5, 5], [-5, 5]],\n",
    "    target_obj_pos=None,\n",
    "    target_rob_pos=None,\n",
    "    target_region_params=[\n",
    "        ContactRegionParams(\n",
    "            region_vertices=[\n",
    "                [-3.867, -2.508],\n",
    "                [-2.767, -2.508],\n",
    "                [-2.767, -1.408],\n",
    "                [-3.867, -1.408],\n",
    "            ],\n",
    "            obj_indices=[0],\n",
    "            rob_indices=None,\n",
    "        )\n",
    "    ],\n",
    ")\n",
    "generator = ContactGraphGenerator(params)\n",
    "generator.plot()"
   ]
  },
  {
   "cell_type": "code",
   "execution_count": null,
   "metadata": {},
   "outputs": [],
   "source": [
    "params = ContactGraphGeneratorParams(\n",
    "    name=\"cg_maze_b1_1\",\n",
    "    obs_vertices=[\n",
    "        [[-2.360, -3.821], [1.840, 1.479], [-1.660, -0.621]],\n",
    "    ],\n",
    "    obj_vertices=[[[1.000, 0.500], [1.000, -0.500], [2.000, -0.500], [2.000, 0.500]]],\n",
    "    rob_vertices=[[[3.000, 1.000], [3.000, 0.000], [3.500, 0.000]]],\n",
    "    source_obj_pos=[[2.5, 3]],\n",
    "    source_rob_pos=[[0, -3]],  # [[4, 3]], #[[-0.037, 2.527]],\n",
    "    n_pos_per_set=2,\n",
    "    workspace=[[-5, 5], [-5, 5]],\n",
    "    target_obj_pos=None,\n",
    "    target_rob_pos=None,\n",
    "    target_region_params=[\n",
    "        ContactRegionParams(\n",
    "            region_vertices=[\n",
    "                [-3.867, -2.508],\n",
    "                [-2.767, -2.508],\n",
    "                [-2.767, -1.408],\n",
    "                [-3.867, -1.408],\n",
    "            ],\n",
    "            obj_indices=[0],\n",
    "            rob_indices=None,\n",
    "        )\n",
    "    ],\n",
    ")\n",
    "generator = ContactGraphGenerator(params)\n",
    "generator.plot()"
   ]
  },
  {
   "cell_type": "code",
   "execution_count": null,
   "metadata": {},
   "outputs": [],
   "source": [
    "generator.generate()"
   ]
  },
  {
   "cell_type": "code",
   "execution_count": null,
   "metadata": {},
   "outputs": [],
   "source": [
    "generator.generate_incremental_contact_graph()"
   ]
  },
  {
   "cell_type": "code",
   "execution_count": null,
   "metadata": {},
   "outputs": [],
   "source": [
    "generators[29]._params"
   ]
  },
  {
   "cell_type": "code",
   "execution_count": null,
   "metadata": {},
   "outputs": [],
   "source": [
    "# Based on cg_maze_a35 but without the second obstacle\n",
    "params = ContactGraphGeneratorParams(\n",
    "    name=\"cg_maze_b2\",\n",
    "    obs_vertices=[[[-2.124, -2.221], [2.076, 3.079], [-1.424, 0.979]]],\n",
    "    obj_vertices=[[[1.000, 0.500], [1.000, -0.500], [2.000, -0.500], [2.000, 0.500]]],\n",
    "    rob_vertices=[[[3.000, 1.000], [3.000, 0.000], [3.500, 0.000]]],\n",
    "    source_obj_pos=[[-2.137, -2.915]],\n",
    "    source_rob_pos=[[-0.147, 2.973]],\n",
    "    n_pos_per_set=2,\n",
    "    workspace=[[-5, 5], [-5, 5]],\n",
    "    target_obj_pos=None,\n",
    "    target_rob_pos=None,\n",
    "    target_region_params=[\n",
    "        ContactRegionParams(\n",
    "            region_vertices=[\n",
    "                [2.988, 2.325],\n",
    "                [4.088, 2.325],\n",
    "                [4.088, 3.425],\n",
    "                [2.988, 3.425],\n",
    "            ],\n",
    "            obj_indices=[0],\n",
    "            rob_indices=None,\n",
    "        )\n",
    "    ],\n",
    ")\n",
    "generator = ContactGraphGenerator(params)\n",
    "generator.plot()"
   ]
  },
  {
   "cell_type": "code",
   "execution_count": null,
   "metadata": {},
   "outputs": [],
   "source": [
    "generator.generate_incremental_contact_graph()"
   ]
  },
  {
   "cell_type": "code",
   "execution_count": null,
   "metadata": {},
   "outputs": [],
   "source": [
    "# Based on cg_maze_a39 but without the second obstacle\n",
    "\n",
    "params = ContactGraphGeneratorParams(\n",
    "    name=\"cg_maze_b3\",\n",
    "    obs_vertices=[[[-1.557, -1.683], [2.643, 3.617], [-0.857, 1.517]]],\n",
    "    obj_vertices=[[[1.000, 0.500], [1.000, -0.500], [2.000, -0.500], [2.000, 0.500]]],\n",
    "    rob_vertices=[[[3.000, 1.000], [3.000, 0.000], [3.500, 0.000]]],\n",
    "    source_obj_pos=[[-0.104, -1.618]],\n",
    "    source_rob_pos=[[2.723, -0.968]],\n",
    "    n_pos_per_set=2,\n",
    "    workspace=[[-5, 5], [-5, 5]],\n",
    "    target_obj_pos=None,\n",
    "    target_rob_pos=None,\n",
    "    target_region_params=[\n",
    "        ContactRegionParams(\n",
    "            region_vertices=[\n",
    "                [-1.477, 2.173],\n",
    "                [-0.377, 2.173],\n",
    "                [-0.377, 3.273],\n",
    "                [-1.477, 3.273],\n",
    "            ],\n",
    "            obj_indices=[0],\n",
    "            rob_indices=None,\n",
    "        )\n",
    "    ],\n",
    ")\n",
    "generator = ContactGraphGenerator(params)\n",
    "generator.plot()"
   ]
  },
  {
   "cell_type": "code",
   "execution_count": null,
   "metadata": {},
   "outputs": [],
   "source": [
    "generator.generate_incremental_contact_graph()"
   ]
  },
  {
   "cell_type": "markdown",
   "metadata": {},
   "source": [
    "# Maze D"
   ]
  },
  {
   "cell_type": "code",
   "execution_count": null,
   "metadata": {},
   "outputs": [],
   "source": [
    "ws = 3.5\n",
    "target_regions = [\n",
    "    ContactRegionParams(\n",
    "        region_vertices=[[-3.5, 1.5], [-2.5, 1.5], [-2.5, 3.5], [-3.5, 3.5]], obj_indices=[0]\n",
    "    ),\n",
    "]\n",
    "\n",
    "params = ContactGraphGeneratorParams(\n",
    "    name=\"cg_maze_d1\",\n",
    "    obs_vertices=[np.array([[0, 0], [5, 0], [5, 0.5], [0, 0.5]]) + np.array([-1.5, -1.5]),\n",
    "                  np.array([[0, 0], [5, 0], [5, 0.5], [0, 0.5]]) + np.array([-3.5, 1])],\n",
    "    obj_vertices=[np.array([[0, 0], [1, 0], [1, 1], [0, 1]])],\n",
    "    rob_vertices=[np.array([[0, 0], [0.5, 0], [0.5, 0.5], [0, 0.5]])],\n",
    "    source_obj_pos=[[2, -2.5]],\n",
    "    source_rob_pos=[[0, -2.5]],\n",
    "    target_region_params=target_regions,\n",
    "    n_pos_per_set=2,\n",
    "    workspace=[[-ws, ws], [-ws, ws]],\n",
    "    should_add_const_edge_cost=True,\n",
    "    should_use_l1_norm_vertex_cost=True,\n",
    ")\n",
    "generator = ContactGraphGenerator(params)\n",
    "generator.plot()"
   ]
  },
  {
   "cell_type": "code",
   "execution_count": null,
   "metadata": {},
   "outputs": [],
   "source": [
    "generator.generate_incremental_contact_graph()"
   ]
  },
  {
   "cell_type": "code",
   "execution_count": null,
   "metadata": {},
   "outputs": [],
   "source": [
    "generator.generate()"
   ]
  },
  {
   "cell_type": "markdown",
   "metadata": {},
   "source": [
    "# StackPush"
   ]
  },
  {
   "cell_type": "markdown",
   "metadata": {},
   "source": [
    "## StackPush a1 (2 objects)"
   ]
  },
  {
   "cell_type": "code",
   "execution_count": null,
   "metadata": {},
   "outputs": [],
   "source": [
    "ws_x = 7\n",
    "ws_y = 5\n",
    "target_region_params = [\n",
    "    ContactRegionParams(\n",
    "        region_vertices=[[3, 0], [3, -3], [6, 0], [6, -3]], obj_indices=[0, 1]\n",
    "    ),\n",
    "]\n",
    "params = ContactGraphGeneratorParams(\n",
    "    name=\"cg_stackpush_a1\",\n",
    "    obs_vertices=[[[-3, -2], [2, 1], [3, 1], [3, -2]]],\n",
    "    obj_vertices=[\n",
    "        [[1, 0.5], [1, -0.5], [2, -0.5], [2, 0.5]],\n",
    "        [[1, 0.5], [1, -0.5], [2, -0.5], [2, 0.5]],\n",
    "    ],\n",
    "    rob_vertices=[[[0, 0], [0, 0.5], [2, 0], [2, 0.5]]],\n",
    "    source_obj_pos=[[-2.5, -0.7], [-1.1, 0.1]],\n",
    "    source_rob_pos=[[-5, 1]],\n",
    "    target_region_params=target_region_params,\n",
    "    n_pos_per_set=2,\n",
    "    workspace=[[-ws_x, ws_x], [-ws_y, ws_y]],\n",
    ")\n",
    "\n",
    "generator = ContactGraphGenerator(params)\n",
    "generator.plot()"
   ]
  },
  {
   "cell_type": "code",
   "execution_count": null,
   "metadata": {},
   "outputs": [],
   "source": [
    "generator.generate_incremental_contact_graph()"
   ]
  },
  {
   "cell_type": "code",
   "execution_count": null,
   "metadata": {},
   "outputs": [],
   "source": [
    "cg_inc = IncrementalContactGraph.load_from_file(params.inc_graph_file_path)"
   ]
  },
  {
   "cell_type": "markdown",
   "metadata": {},
   "source": [
    "## StackPush a2 (3 objects)"
   ]
  },
  {
   "cell_type": "code",
   "execution_count": null,
   "metadata": {},
   "outputs": [],
   "source": [
    "ws_x = 7\n",
    "ws_y = 5\n",
    "target_region_params = [\n",
    "    ContactRegionParams(\n",
    "        region_vertices=[[3, 0], [3, -3], [6, 0], [6, -3]], obj_indices=[0, 1, 2]\n",
    "    ),\n",
    "]\n",
    "params = ContactGraphGeneratorParams(\n",
    "    name=\"cg_stackpush_a2\",\n",
    "    obs_vertices=[[[-3, -2], [2, 1], [3, 1], [3, -2]]],\n",
    "    obj_vertices=[\n",
    "        [[1, 0.5], [1, -0.5], [2, -0.5], [2, 0.5]],\n",
    "        [[1, 0.5], [1, -0.5], [2, -0.5], [2, 0.5]],\n",
    "        [[1, 0.5], [1, -0.5], [2, -0.5], [2, 0.5]],\n",
    "    ],\n",
    "    rob_vertices=[[[0, 0], [0, 0.5], [2, 0], [2, 0.5]]],\n",
    "    source_obj_pos=[[-2.5, -0.7], [-1.1, 0.1], [0.4, 1]],\n",
    "    source_rob_pos=[[-5, 1]],\n",
    "    target_region_params=target_region_params,\n",
    "    n_pos_per_set=2,\n",
    "    workspace=[[-ws_x, ws_x], [-ws_y, ws_y]],\n",
    ")\n",
    "\n",
    "generator = ContactGraphGenerator(params)\n",
    "generator.plot()"
   ]
  },
  {
   "cell_type": "code",
   "execution_count": null,
   "metadata": {},
   "outputs": [],
   "source": [
    "generator.generate_incremental_contact_graph()\n",
    "cg_inc = IncrementalContactGraph.load_from_file(params.inc_graph_file_path)"
   ]
  },
  {
   "cell_type": "markdown",
   "metadata": {},
   "source": [
    "## Stackpush a3 (5 objects)"
   ]
  },
  {
   "cell_type": "code",
   "execution_count": null,
   "metadata": {},
   "outputs": [],
   "source": [
    "ws_x = 7\n",
    "ws_y = 5\n",
    "target_region_params = [\n",
    "    ContactRegionParams(\n",
    "        region_vertices=[[3, 0], [3, -3], [6, 0], [6, -3]], obj_indices=[0, 1, 2, 3, 4]\n",
    "    ),\n",
    "]\n",
    "params = ContactGraphGeneratorParams(\n",
    "    name=\"cg_stackpush_a3\",\n",
    "    obs_vertices=[[[-3, -2], [2, 1], [3, 1], [3, -2]]],\n",
    "    obj_vertices=[\n",
    "        [[1, 0.5], [1, -0.5], [2, -0.5], [2, 0.5]],\n",
    "        [[1, 0.5], [1, -0.5], [2, -0.5], [2, 0.5]],\n",
    "        [[1, 0.5], [1, -0.5], [2, -0.5], [2, 0.5]],\n",
    "        [[1, 0.5], [1, -0.5], [2, -0.5], [2, 0.5]],\n",
    "        [[1, 0.5], [1, -0.5], [2, -0.5], [2, 0.5]],\n",
    "    ],\n",
    "    rob_vertices=[[[0, 0], [0, 0.5], [2, 0], [2, 0.5]]],\n",
    "    source_obj_pos=[[-2.5, -0.7], [-1.1, 0.1], [0.4, 1], [-2, -3.5], [1.5, -2.8]],\n",
    "    source_rob_pos=[[-5, 1]],\n",
    "    target_region_params=target_region_params,\n",
    "    n_pos_per_set=2,\n",
    "    workspace=[[-ws_x, ws_x], [-ws_y, ws_y]],\n",
    ")\n",
    "\n",
    "generator = ContactGraphGenerator(params)\n",
    "generator.plot()"
   ]
  },
  {
   "cell_type": "code",
   "execution_count": null,
   "metadata": {},
   "outputs": [],
   "source": [
    "generator.generate_incremental_contact_graph()\n",
    "cg_inc = IncrementalContactGraph.load_from_file(params.inc_graph_file_path)"
   ]
  },
  {
   "cell_type": "markdown",
   "metadata": {},
   "source": [
    "## Stackpush a4 (9 objects)"
   ]
  },
  {
   "cell_type": "code",
   "execution_count": null,
   "metadata": {},
   "outputs": [],
   "source": [
    "ws_x = 7\n",
    "ws_y = 5\n",
    "target_region_params = [\n",
    "    ContactRegionParams(\n",
    "        region_vertices=[[3, 0], [3, -3], [6, 0], [6, -3]], obj_indices=[0, 1, 2, 3, 4]\n",
    "    ),\n",
    "]\n",
    "params = ContactGraphGeneratorParams(\n",
    "    name=\"cg_stackpush_a4\",\n",
    "    obs_vertices=[[[-3, -2], [2, 1], [3, 1], [3, -2]]],\n",
    "    obj_vertices=[\n",
    "        [[1, 0.5], [1, -0.5], [2, -0.5], [2, 0.5]],\n",
    "        [[1, 0.5], [1, -0.5], [2, -0.5], [2, 0.5]],\n",
    "        [[1, 0.5], [1, -0.5], [2, -0.5], [2, 0.5]],\n",
    "        [[1, 0.5], [1, -0.5], [2, -0.5], [2, 0.5]],\n",
    "        [[1, 0.5], [1, -0.5], [2, -0.5], [2, 0.5]],\n",
    "        [[1, 0.5], [1, -0.5], [2, -0.5], [2, 0.5]],\n",
    "        [[1, 0.5], [1, -0.5], [2, -0.5], [2, 0.5]],\n",
    "        [[1, 0.5], [1, -0.5], [2, -0.5], [2, 0.5]],\n",
    "        [[1, 0.5], [1, -0.5], [2, -0.5], [2, 0.5]],\n",
    "    ],\n",
    "    rob_vertices=[[[0, 0], [0, 0.5], [2, 0], [2, 0.5]]],\n",
    "    source_obj_pos=[\n",
    "        [-3.2, 3],\n",
    "        [0, 2.5],\n",
    "        [4, 2],\n",
    "        [-2.5, -0.7],\n",
    "        [-1.1, 0.1],\n",
    "        [0.4, 1],\n",
    "        [-3, -3],\n",
    "        [-1.3, -3.5],\n",
    "        [1.5, -2.8],\n",
    "    ],\n",
    "    source_rob_pos=[[-5, 1]],\n",
    "    target_region_params=target_region_params,\n",
    "    n_pos_per_set=2,\n",
    "    workspace=[[-ws_x, ws_x], [-ws_y, ws_y]],\n",
    ")\n",
    "\n",
    "generator = ContactGraphGenerator(params)\n",
    "generator.plot()"
   ]
  },
  {
   "cell_type": "code",
   "execution_count": null,
   "metadata": {},
   "outputs": [],
   "source": [
    "generator.generate_incremental_contact_graph()\n",
    "cg_inc = IncrementalContactGraph.load_from_file(params.inc_graph_file_path)"
   ]
  },
  {
   "cell_type": "markdown",
   "metadata": {},
   "source": [
    "# Radial Sort"
   ]
  },
  {
   "cell_type": "markdown",
   "metadata": {},
   "source": [
    "## Radial Sort a1"
   ]
  },
  {
   "cell_type": "code",
   "execution_count": null,
   "metadata": {},
   "outputs": [],
   "source": [
    "ws_x = 10\n",
    "ws_y = 10\n",
    "target_region_params = [\n",
    "    ContactRegionParams(\n",
    "        region_vertices=[[0, 0], [2.54, -1], [2.55, 3.07], [0.5, 3.07]], obj_indices=[0]\n",
    "    ),\n",
    "    ContactRegionParams(\n",
    "        region_vertices=[[0, 0], [-2.54, -1], [-2.55, 3.07], [-0.5, 3.07]],\n",
    "        obj_indices=[1],\n",
    "    ),\n",
    "]\n",
    "box_obj_verts = [[1, 0.5], [1, -0.5], [2, -0.5], [2, 0.5]]\n",
    "params = ContactGraphGeneratorParams(\n",
    "    name=\"cg_radialsort_a1\",\n",
    "    obs_vertices=[\n",
    "        [[0, 0], [1.4, 7.88], [-1.4, 7.88]],\n",
    "        [[0, 0], [-7.5, -2.8], [-6.11, -5.12]],\n",
    "        [[0, 0], [7.5, -2.8], [6.11, -5.12]],\n",
    "    ],\n",
    "    obj_vertices=[box_obj_verts] * 2,\n",
    "    rob_vertices=[[[0, 0], [0, 0.5], [0.5, 0], [0.5, 0.5]]],\n",
    "    source_obj_pos=[\n",
    "        [-1.3, -2.3],\n",
    "        [1.2, -2.2],\n",
    "    ],\n",
    "    source_rob_pos=[[0.1, -3.5]],\n",
    "    target_region_params=target_region_params,\n",
    "    n_pos_per_set=2,\n",
    "    workspace=[[-ws_x, ws_x], [-ws_y, ws_y]],\n",
    ")\n",
    "\n",
    "generator = ContactGraphGenerator(params)\n",
    "generator.plot()"
   ]
  },
  {
   "cell_type": "code",
   "execution_count": null,
   "metadata": {},
   "outputs": [],
   "source": [
    "generator.generate_incremental_contact_graph()"
   ]
  },
  {
   "cell_type": "markdown",
   "metadata": {},
   "source": [
    "## Radial Sort a2"
   ]
  },
  {
   "cell_type": "code",
   "execution_count": null,
   "metadata": {},
   "outputs": [],
   "source": [
    "ws_x = 10\n",
    "ws_y = 10\n",
    "target_region_params = [\n",
    "    # Right\n",
    "    ContactRegionParams(\n",
    "        region_vertices=[[0, 0], [2.54, -1], [2.55, 3.07], [0.5, 3.07]],\n",
    "        obj_indices=[0, 2],\n",
    "    ),\n",
    "    # Left\n",
    "    ContactRegionParams(\n",
    "        region_vertices=[[0, 0], [-2.54, -1], [-2.55, 3.07], [-0.5, 3.07]],\n",
    "        obj_indices=[1],\n",
    "    ),\n",
    "]\n",
    "box_obj_verts = [[1, 0.5], [1, -0.5], [2, -0.5], [2, 0.5]]\n",
    "params = ContactGraphGeneratorParams(\n",
    "    name=\"cg_radialsort_a2\",\n",
    "    obs_vertices=[\n",
    "        [[0, 0], [1.4, 7.88], [-1.4, 7.88]],\n",
    "        [[0, 0], [-7.5, -2.8], [-6.11, -5.12]],\n",
    "        [[0, 0], [7.5, -2.8], [6.11, -5.12]],\n",
    "    ],\n",
    "    obj_vertices=[box_obj_verts] * 3,\n",
    "    rob_vertices=[[[0, 0], [0, 0.5], [0.5, 0], [0.5, 0.5]]],\n",
    "    source_obj_pos=[[-1.3, -2.3], [1.2, -2.2], [2.7, -3.4]],\n",
    "    source_rob_pos=[[0.1, -3.5]],\n",
    "    target_region_params=target_region_params,\n",
    "    n_pos_per_set=2,\n",
    "    workspace=[[-ws_x, ws_x], [-ws_y, ws_y]],\n",
    ")\n",
    "\n",
    "generator = ContactGraphGenerator(params)\n",
    "generator.plot()"
   ]
  },
  {
   "cell_type": "code",
   "execution_count": null,
   "metadata": {},
   "outputs": [],
   "source": [
    "generator.generate_incremental_contact_graph()"
   ]
  },
  {
   "cell_type": "code",
   "execution_count": null,
   "metadata": {},
   "outputs": [],
   "source": []
  }
 ],
 "metadata": {
  "kernelspec": {
   "display_name": ".venv",
   "language": "python",
   "name": "python3"
  },
  "language_info": {
   "codemirror_mode": {
    "name": "ipython",
    "version": 3
   },
   "file_extension": ".py",
   "mimetype": "text/x-python",
   "name": "python",
   "nbconvert_exporter": "python",
   "pygments_lexer": "ipython3",
   "version": "3.12.3"
  },
  "orig_nbformat": 4
 },
 "nbformat": 4,
 "nbformat_minor": 2
}
