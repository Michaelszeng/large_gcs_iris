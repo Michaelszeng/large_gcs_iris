{
 "cells": [
  {
   "cell_type": "code",
   "execution_count": 1,
   "metadata": {},
   "outputs": [],
   "source": [
    "from large_gcs.algorithms.gcs_star import GcsAstarReachability\n",
    "from large_gcs.cost_estimators.shortcut_edge_ce import ShortcutEdgeCE\n",
    "from large_gcs.graph.contact_cost_constraint_factory import (\n",
    "    contact_shortcut_edge_cost_factory_over_obj_weighted,\n",
    ")\n",
    "from large_gcs.graph.cost_constraint_factory import (\n",
    "    shortcut_edge_cost_factory,\n",
    ")\n",
    "from large_gcs.algorithms.search_algorithm import SearchNode\n",
    "from large_gcs.graph.graph import ShortestPathSolution\n",
    "from large_gcs.graph.incremental_contact_graph import IncrementalContactGraph\n",
    "from large_gcs.graph_generators.contact_graph_generator import (\n",
    "    ContactGraphGeneratorParams,\n",
    ")\n",
    "\n",
    "import numpy as np\n",
    "from IPython.display import HTML\n",
    "\n",
    "import logging\n",
    "\n",
    "logging.basicConfig(level=logging.WARN)\n",
    "logging.getLogger(\"large_gcs\").setLevel(logging.DEBUG)\n",
    "logging.getLogger(__name__).setLevel(logging.DEBUG)\n",
    "logger = logging.getLogger(__name__)"
   ]
  },
  {
   "cell_type": "code",
   "execution_count": 2,
   "metadata": {},
   "outputs": [
    {
     "name": "stderr",
     "output_type": "stream",
     "text": [
      "INFO:large_gcs.graph.contact_graph:Creating vertex costs...\n",
      "100%|██████████| 2/2 [00:00<00:00, 43240.25it/s]\n",
      "INFO:large_gcs.graph.graph:Adding 2 vertices to graph...\n",
      "100%|██████████| 2/2 [00:00<00:00, 20360.70it/s]\n",
      "INFO:large_gcs.graph.contact_graph:Generating contact pair modes for 3 body pairs...\n",
      "100%|██████████| 3/3 [00:00<00:00, 182.24it/s]\n",
      "INFO:large_gcs.graph.incremental_contact_graph:Calculating adjacent contact pair modes (100)\n",
      "100%|██████████| 100/100 [00:00<00:00, 4844.15it/s]\n"
     ]
    },
    {
     "data": {
      "image/png": "[encoded data removed]",
      "text/plain": [
       "<Figure size 640x480 with 1 Axes>"
      ]
     },
     "metadata": {},
     "output_type": "display_data"
    }
   ],
   "source": [
    "graph_file = ContactGraphGeneratorParams.inc_graph_file_path_from_name(\"cg_trichal2\")\n",
    "cg = IncrementalContactGraph.load_from_file(\n",
    "    graph_file,\n",
    "    should_incl_simul_mode_switches=False,\n",
    "    should_add_const_edge_cost=True,\n",
    "    should_add_gcs=True,\n",
    ")\n",
    "cg.plot()"
   ]
  },
  {
   "cell_type": "code",
   "execution_count": 3,
   "metadata": {},
   "outputs": [],
   "source": [
    "vertex_path = [\n",
    "    \"source\",\n",
    "    \"('NC|obs0_f0-obj0_v3', 'NC|obs0_f0-rob0_v1', 'NC|obj0_f3-rob0_v0')\",\n",
    "    \"('NC|obs0_f0-obj0_v3', 'NC|obs0_f0-rob0_v1', 'IC|obj0_v0-rob0_f0')\",\n",
    "    \"('NC|obs0_f0-obj0_v3', 'NC|obs0_f0-rob0_v1', 'IC|obj0_f3-rob0_v0')\",\n",
    "    \"('NC|obs0_f0-obj0_v3', 'NC|obs0_f0-rob0_v1', 'NC|obj0_f2-rob0_f2')\",\n",
    "]\n",
    "\n",
    "for v in vertex_path[1:]:\n",
    "    cg.generate_successors(v)\n",
    "\n",
    "# cg.generate_and_plot_samples_in_set(vertex_path[-1], 20)"
   ]
  },
  {
   "cell_type": "code",
   "execution_count": 4,
   "metadata": {},
   "outputs": [
    {
     "data": {
      "text/plain": [
       "['(\\'source\\', \"(\\'NC|obs0_f0-obj0_v3\\', \\'NC|obs0_f0-rob0_v1\\', \\'NC|obj0_f3-rob0_v0\\')\")',\n",
       " '(\"(\\'NC|obs0_f0-obj0_v3\\', \\'NC|obs0_f0-rob0_v1\\', \\'NC|obj0_f3-rob0_v0\\')\", \"(\\'NC|obs0_f0-obj0_v3\\', \\'NC|obs0_f0-rob0_v1\\', \\'IC|obj0_v0-rob0_f0\\')\")',\n",
       " '(\"(\\'NC|obs0_f0-obj0_v3\\', \\'NC|obs0_f0-rob0_v1\\', \\'IC|obj0_v0-rob0_f0\\')\", \"(\\'NC|obs0_f0-obj0_v3\\', \\'NC|obs0_f0-rob0_v1\\', \\'IC|obj0_f3-rob0_v0\\')\")',\n",
       " '(\"(\\'NC|obs0_f0-obj0_v3\\', \\'NC|obs0_f0-rob0_v1\\', \\'IC|obj0_f3-rob0_v0\\')\", \"(\\'NC|obs0_f0-obj0_v3\\', \\'NC|obs0_f0-rob0_v1\\', \\'NC|obj0_f2-rob0_f2\\')\")']"
      ]
     },
     "execution_count": 4,
     "metadata": {},
     "output_type": "execute_result"
    }
   ],
   "source": [
    "edge_path = []\n",
    "for i in range(len(vertex_path) - 1):\n",
    "    edge_path.append(f\"{str((vertex_path[i], vertex_path[i + 1]))}\")\n",
    "edge_path"
   ]
  },
  {
   "cell_type": "code",
   "execution_count": 5,
   "metadata": {},
   "outputs": [],
   "source": [
    "# Add the problematic sample to the graph\n",
    "\n",
    "from large_gcs.geometry.point import Point\n",
    "from large_gcs.graph.graph import Edge, Vertex\n",
    "\n",
    "\n",
    "proj_sample = [\n",
    "    3.25000000e00,\n",
    "    3.25000000e00,\n",
    "    -6.82246748e-09,\n",
    "    -6.82246748e-09,\n",
    "    2.41668222e00,\n",
    "    2.29658427e00,\n",
    "    8.33324114e-01,\n",
    "    8.33324433e-01,\n",
    "    -0.00000000e00,\n",
    "    -0.00000000e00,\n",
    "    -1.20097952e-01,\n",
    "    3.18708507e-07,\n",
    "    -1.20097952e-01,\n",
    "    3.18708507e-07,\n",
    "]\n",
    "\n",
    "# Create a new vertex for the sample and add it to the graph\n",
    "sample_vertex_name = f\"{vertex_path[-1]}_sample_{0}\"\n",
    "\n",
    "cg.add_vertex(vertex=Vertex(convex_set=Point(proj_sample)), name=sample_vertex_name)\n",
    "\n",
    "# Calculate the cost to come to the sample for the candidate path\n",
    "e = cg.edges[edge_path[-1]]\n",
    "edge_to_sample = Edge(\n",
    "    u=e.u,\n",
    "    v=sample_vertex_name,\n",
    "    costs=e.costs,\n",
    "    constraints=e.constraints,\n",
    ")\n",
    "cg.add_edge(edge_to_sample)\n",
    "cg.set_target(sample_vertex_name)\n",
    "active_edges = edge_path.copy()\n",
    "active_edges[-1] = edge_to_sample.key"
   ]
  },
  {
   "cell_type": "code",
   "execution_count": 6,
   "metadata": {},
   "outputs": [],
   "source": [
    "from pydrake.all import SolverOptions, MosekSolver, CommonSolverOption\n",
    "\n",
    "solver_options = SolverOptions()\n",
    "# solver_options.SetOption(MosekSolver().solver_id(), \"MSK_DPAR_BASIS_REL_TOL_S\", 1e-6)\n",
    "# solver_options.SetOption(MosekSolver().solver_id(), \"MSK_DPAR_BASIS_TOL_S\", 1e-3)\n",
    "# solver_options.SetOption(MosekSolver().solver_id(), \"MSK_DPAR_BASIS_TOL_X\", 1e-3)\n",
    "# solver_options.SetOption(MosekSolver().solver_id(), \"MSK_DPAR_INTPNT_TOL_PFEAS\", 1e-2)\n",
    "# solver_options.SetOption(MosekSolver().solver_id(), \"MSK_DPAR_INTPNT_TOL_INFEAS\", 1e-2)\n",
    "solver_options.SetOption(\n",
    "    MosekSolver().solver_id(), \"MSK_DPAR_INTPNT_CO_TOL_INFEAS\", 1e-2\n",
    ")\n",
    "solver_options.SetOption(\n",
    "    MosekSolver().solver_id(), \"MSK_DPAR_INTPNT_CO_TOL_PFEAS\", 1e-15\n",
    ")\n",
    "# solver_options.SetOption(MosekSolver().solver_id(), \"MSK_DPAR_INTPNT_CO_TOL_NEAR_REL\", 1e5)\n",
    "solver_options.SetOption(CommonSolverOption.kPrintToConsole, 1)"
   ]
  },
  {
   "cell_type": "code",
   "execution_count": 7,
   "metadata": {},
   "outputs": [
    {
     "name": "stdout",
     "output_type": "stream",
     "text": [
      "Problem\n",
      "  Name                   :                 \n",
      "  Objective sense        : minimize        \n",
      "  Type                   : CONIC (conic optimization problem)\n",
      "  Constraints            : 232             \n",
      "  Affine conic cons.     : 3 (15 rows)\n",
      "  Disjunctive cons.      : 0               \n",
      "  Cones                  : 0               \n",
      "  Scalar variables       : 65              \n",
      "  Matrix variables       : 0               \n",
      "  Integer variables      : 0               \n",
      "\n",
      "Optimizer started.\n",
      "Presolve started.\n",
      "Eliminator - tries                  : 0                 time                   : 0.00            \n",
      "Lin. dep.  - tries                  : 0                 time                   : 0.00            \n",
      "Lin. dep.  - primal attempts        : 0                 successes              : 0               \n",
      "Lin. dep.  - dual attempts          : 0                 successes              : 0               \n",
      "Lin. dep.  - primal deps.           : 0                 dual deps.             : 0               \n",
      "Presolve terminated. Time: 0.00    \n",
      "Optimizer terminated. Time: 0.00    \n",
      "\n",
      "\n",
      "Interior-point solution summary\n",
      "  Problem status  : PRIMAL_INFEASIBLE\n",
      "  Solution status : PRIMAL_INFEASIBLE_CER\n",
      "  Dual.    obj: 1.5255501060e-08    nrm: 2e+00    Viol.  con: 0e+00    var: 0e+00    acc: 0e+00  \n"
     ]
    }
   ],
   "source": [
    "sol = cg.solve_convex_restriction(\n",
    "    active_edges, skip_post_solve=True, solver_options=solver_options\n",
    ")"
   ]
  },
  {
   "cell_type": "code",
   "execution_count": 8,
   "metadata": {},
   "outputs": [
    {
     "data": {
      "text/plain": [
       "False"
      ]
     },
     "execution_count": 8,
     "metadata": {},
     "output_type": "execute_result"
    }
   ],
   "source": [
    "sol.is_success"
   ]
  },
  {
   "cell_type": "code",
   "execution_count": 9,
   "metadata": {},
   "outputs": [
    {
     "data": {
      "text/plain": [
       "<pydrake.solvers.MosekSolverDetails at 0x70c634c47570>"
      ]
     },
     "execution_count": 9,
     "metadata": {},
     "output_type": "execute_result"
    }
   ],
   "source": [
    "sol.result.get_solver_details()"
   ]
  },
  {
   "cell_type": "code",
   "execution_count": 14,
   "metadata": {},
   "outputs": [
    {
     "ename": "TypeError",
     "evalue": "GetInfeasibleConstraints(): incompatible function arguments. The following argument types are supported:\n    1. (self: pydrake.solvers.MathematicalProgramResult, prog: drake::solvers::MathematicalProgram, tol: Optional[float] = None) -> List[pydrake.solvers.Binding𝓣Constraint𝓤]\n\nInvoked with: <pydrake.solvers.MathematicalProgramResult object at 0x70c634c46770>",
     "output_type": "error",
     "traceback": [
      "\u001b[0;31m---------------------------------------------------------------------------\u001b[0m",
      "\u001b[0;31mTypeError\u001b[0m                                 Traceback (most recent call last)",
      "Cell \u001b[0;32mIn[14], line 1\u001b[0m\n\u001b[0;32m----> 1\u001b[0m \u001b[43msol\u001b[49m\u001b[38;5;241;43m.\u001b[39;49m\u001b[43mresult\u001b[49m\u001b[38;5;241;43m.\u001b[39;49m\u001b[43mGetInfeasibleConstraints\u001b[49m\u001b[43m(\u001b[49m\u001b[43m)\u001b[49m\n",
      "\u001b[0;31mTypeError\u001b[0m: GetInfeasibleConstraints(): incompatible function arguments. The following argument types are supported:\n    1. (self: pydrake.solvers.MathematicalProgramResult, prog: drake::solvers::MathematicalProgram, tol: Optional[float] = None) -> List[pydrake.solvers.Binding𝓣Constraint𝓤]\n\nInvoked with: <pydrake.solvers.MathematicalProgramResult object at 0x70c634c46770>"
     ]
    }
   ],
   "source": [
    "sol.result.GetInfeasibleConstraints()"
   ]
  },
  {
   "cell_type": "code",
   "execution_count": 10,
   "metadata": {},
   "outputs": [],
   "source": [
    "terminal_set = cg.vertices[vertex_path[-1]].convex_set.set"
   ]
  },
  {
   "cell_type": "code",
   "execution_count": 11,
   "metadata": {},
   "outputs": [
    {
     "data": {
      "text/plain": [
       "False"
      ]
     },
     "execution_count": 11,
     "metadata": {},
     "output_type": "execute_result"
    }
   ],
   "source": [
    "terminal_set.PointInSet(proj_sample, tol=0)"
   ]
  },
  {
   "cell_type": "code",
   "execution_count": 12,
   "metadata": {},
   "outputs": [
    {
     "data": {
      "text/plain": [
       "True"
      ]
     },
     "execution_count": 12,
     "metadata": {},
     "output_type": "execute_result"
    }
   ],
   "source": [
    "terminal_set.PointInSet(proj_sample)"
   ]
  },
  {
   "cell_type": "code",
   "execution_count": null,
   "metadata": {},
   "outputs": [],
   "source": []
  }
 ],
 "metadata": {
  "kernelspec": {
   "display_name": ".venv",
   "language": "python",
   "name": "python3"
  },
  "language_info": {
   "codemirror_mode": {
    "name": "ipython",
    "version": 3
   },
   "file_extension": ".py",
   "mimetype": "text/x-python",
   "name": "python",
   "nbconvert_exporter": "python",
   "pygments_lexer": "ipython3",
   "version": "3.10.12"
  }
 },
 "nbformat": 4,
 "nbformat_minor": 2
}
