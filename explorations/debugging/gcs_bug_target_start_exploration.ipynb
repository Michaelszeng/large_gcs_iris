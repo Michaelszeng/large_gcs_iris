{
 "cells": [
  {
   "cell_type": "code",
   "execution_count": 1,
   "metadata": {},
   "outputs": [
    {
     "name": "stderr",
     "output_type": "stream",
     "text": [
      "INFO:drake:Solved GCS shortest path using Mosek with convex_relaxation=false and preprocessing=false and no rounding.\n"
     ]
    },
    {
     "name": "stdout",
     "output_type": "stream",
     "text": [
      "9.476471310671645\n",
      "Mosek\n"
     ]
    }
   ],
   "source": [
    "from pydrake.all import (\n",
    "    GraphOfConvexSets,\n",
    "    GraphOfConvexSetsOptions,\n",
    "    Cost,\n",
    "    Binding,\n",
    "    Point,\n",
    ")\n",
    "import numpy as np\n",
    "from large_gcs.graph.cost_factory import create_l2norm_edge_cost\n",
    "\n",
    "\n",
    "gcs = GraphOfConvexSets()\n",
    "source_set = Point([0, 0])\n",
    "mid_set = Point([1, 1])\n",
    "target_set = Point([0, 9])\n",
    "gcs_edges = []\n",
    "v_t = gcs.AddVertex(target_set, \"t\")\n",
    "v_s = gcs.AddVertex(source_set, \"s\")\n",
    "v_m = gcs.AddVertex(mid_set, \"m\")\n",
    "edges = [(v_s, v_m), (v_m, v_t)]\n",
    "\n",
    "cost = create_l2norm_edge_cost(2)\n",
    "for edge in edges:\n",
    "    e = gcs.AddEdge(edge[0], edge[1])\n",
    "    gcs_edges.append(e)\n",
    "    x = np.array([e.xu(), e.xv()]).flatten()\n",
    "    binding = Binding[Cost](cost, x)\n",
    "    e.AddCost(binding)\n",
    "\n",
    "options = GraphOfConvexSetsOptions()\n",
    "options.convex_relaxation = False\n",
    "\n",
    "result = gcs.SolveShortestPath(\n",
    "    v_s,\n",
    "    v_t,\n",
    "    options,\n",
    ")\n",
    "assert result.is_success()\n",
    "print(result.get_optimal_cost())\n",
    "print(result.get_solver_id().name())"
   ]
  },
  {
   "cell_type": "markdown",
   "metadata": {},
   "source": [
    "Checking if SolveConvexRestriction works"
   ]
  },
  {
   "cell_type": "code",
   "execution_count": 2,
   "metadata": {},
   "outputs": [
    {
     "name": "stdout",
     "output_type": "stream",
     "text": [
      "9.476471310671645\n",
      "SNOPT\n"
     ]
    }
   ],
   "source": [
    "gcs_edge_ids = set([edge.id() for edge in gcs_edges])\n",
    "result = gcs.SolveConvexRestriction(gcs_edge_ids, options)\n",
    "assert result.is_success()\n",
    "print(result.get_optimal_cost())\n",
    "print(result.get_solver_id().name())"
   ]
  },
  {
   "cell_type": "code",
   "execution_count": 3,
   "metadata": {},
   "outputs": [],
   "source": [
    "from large_gcs.example_graphs.spp_gcs import create_spp_2d_graph\n",
    "from large_gcs.graph.cost_factory import create_l2norm_edge_cost\n",
    "from large_gcs.graph.graph import Edge, Graph"
   ]
  },
  {
   "cell_type": "code",
   "execution_count": 4,
   "metadata": {},
   "outputs": [
    {
     "name": "stdout",
     "output_type": "stream",
     "text": [
      "Adding 9 vertices to graph...\n"
     ]
    },
    {
     "name": "stderr",
     "output_type": "stream",
     "text": [
      "100%|██████████| 9/9 [00:00<00:00, 13530.01it/s]\n",
      "INFO:drake:Solved GCS shortest path using Mosek with convex_relaxation=false and preprocessing=false and no rounding.\n"
     ]
    },
    {
     "data": {
      "text/plain": [
       "ShortestPathSolution(is_success=True, cost=8.999999954188972, time=0.0017571449279785156, vertex_path=['s', 'p0', 't'], ambient_path=[array([0., 0.]), array([2.19636294e+00, 2.06277012e-04]), array([9., 0.])], flows=[1.0, 1.0], result=<pydrake.solvers.MathematicalProgramResult object at 0x1bd9d7f70>)"
      ]
     },
     "execution_count": 4,
     "metadata": {},
     "output_type": "execute_result"
    }
   ],
   "source": [
    "G = create_spp_2d_graph(create_l2norm_edge_cost)\n",
    "G2 = Graph(G._default_costs_constraints)\n",
    "G2.add_vertex(G.vertices[G.target_name], G.target_name)\n",
    "G2.add_vertex(G.vertices[G.source_name], G.source_name)\n",
    "m_name = \"p0\"\n",
    "G2.add_vertex(G.vertices[m_name], m_name)\n",
    "G2.set_target(G.target_name)\n",
    "G2.set_source(G.source_name)\n",
    "\n",
    "G2.add_edge(G.edges[(G.source_name, m_name)])\n",
    "\n",
    "direct_to_target = Edge(m_name, G.target_name)\n",
    "G2.add_edge(direct_to_target)\n",
    "\n",
    "G2.solve()"
   ]
  },
  {
   "cell_type": "code",
   "execution_count": 5,
   "metadata": {},
   "outputs": [
    {
     "data": {
      "text/plain": [
       "ShortestPathSolution(is_success=True, cost=9.0, time=0.0007450580596923828, vertex_path=['s', 'p0', 't'], ambient_path=[array([0., 0.]), array([1., 0.]), array([9., 0.])], flows=[], result=<pydrake.solvers.MathematicalProgramResult object at 0x1bd88ebf0>)"
      ]
     },
     "execution_count": 5,
     "metadata": {},
     "output_type": "execute_result"
    }
   ],
   "source": [
    "G2.solve_convex_restriction(G2.edges.values())"
   ]
  },
  {
   "cell_type": "code",
   "execution_count": null,
   "metadata": {},
   "outputs": [],
   "source": []
  }
 ],
 "metadata": {
  "kernelspec": {
   "display_name": ".venv",
   "language": "python",
   "name": "python3"
  },
  "language_info": {
   "codemirror_mode": {
    "name": "ipython",
    "version": 3
   },
   "file_extension": ".py",
   "mimetype": "text/x-python",
   "name": "python",
   "nbconvert_exporter": "python",
   "pygments_lexer": "ipython3",
   "version": "3.11.3"
  },
  "orig_nbformat": 4
 },
 "nbformat": 4,
 "nbformat_minor": 2
}
