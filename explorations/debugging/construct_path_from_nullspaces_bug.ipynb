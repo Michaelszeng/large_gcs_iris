{
 "cells": [
  {
   "cell_type": "code",
   "execution_count": 1,
   "metadata": {},
   "outputs": [
    {
     "name": "stdout",
     "output_type": "stream",
     "text": [
      "Set parameter Username\n",
      "Academic license - for non-commercial use only - expires 2025-06-05\n"
     ]
    },
    {
     "name": "stderr",
     "output_type": "stream",
     "text": [
      "/home/shaoyuan/Documents/Software/pypolycontain/pypolycontain/conversions.py:19: UserWarning: WARNING: You don't have CDD package installed. Unable to visualize polytopes. You may still visualize zonotopes.\n",
      "  warnings.warn(\"WARNING: You don't have CDD package installed. Unable to visualize polytopes. You may still visualize zonotopes.\")\n",
      "/home/shaoyuan/Documents/Software/pypolycontain/pypolycontain/containment.py:16: UserWarning: You don't have CDD package installed. Unable to run cone ray generation.\n",
      "  warnings.warn(\"You don't have CDD package installed. Unable to run cone ray generation.\")\n"
     ]
    }
   ],
   "source": [
    "from large_gcs.algorithms.search_algorithm import AlgMetrics, SearchNode\n",
    "from large_gcs.domination_checkers.reaches_new_containment import ReachesNewContainment\n",
    "from large_gcs.graph.incremental_contact_graph import IncrementalContactGraph\n",
    "from large_gcs.graph_generators.contact_graph_generator import ContactGraphGeneratorParams\n",
    "import numpy as np\n",
    "import logging\n",
    "from pydrake.all import (MathematicalProgram, HPolyhedron)\n",
    "\n",
    "logging.basicConfig(level=logging.WARN)\n",
    "logging.getLogger(\"large_gcs\").setLevel(logging.DEBUG)\n",
    "\n",
    "logger = logging.getLogger(__name__)\n",
    "logger.setLevel(logging.DEBUG)\n",
    "from large_gcs.domination_checkers.reaches_cheaper_containment import ReachesCheaperContainment\n"
   ]
  },
  {
   "cell_type": "code",
   "execution_count": 2,
   "metadata": {},
   "outputs": [
    {
     "name": "stderr",
     "output_type": "stream",
     "text": [
      "INFO:large_gcs.graph.contact_graph:Creating vertex costs...\n"
     ]
    },
    {
     "name": "stdout",
     "output_type": "stream",
     "text": [
      "Warning for adding constraints: zero or small (< 1e-13) coefficients, ignored\n",
      "Warning for adding constraints: zero or small (< 1e-13) coefficients, ignored\n"
     ]
    },
    {
     "name": "stderr",
     "output_type": "stream",
     "text": [
      "100%|██████████| 2/2 [00:00<00:00, 49056.19it/s]\n",
      "INFO:large_gcs.graph.graph:Adding 2 vertices to graph...\n",
      "100%|██████████| 2/2 [00:00<00:00, 17119.61it/s]\n",
      "INFO:large_gcs.graph.contact_graph:Generating contact pair modes for 3 body pairs...\n",
      "100%|██████████| 3/3 [00:00<00:00, 205.51it/s]\n",
      "INFO:large_gcs.graph.incremental_contact_graph:Calculating adjacent contact pair modes (100)\n",
      "100%|██████████| 100/100 [00:00<00:00, 24692.71it/s]\n",
      "INFO:__main__:Checking path: ['source', \"('NC|obs0_f0-obj0_v3', 'NC|obs0_f0-rob0_v1', 'NC|obj0_f3-rob0_v0')\"]\n",
      "DEBUG:large_gcs.domination_checkers.ah_containment_domination_checker:_create_path_AH_polytope_from_nullspace_sets\n",
      "DEBUG:large_gcs.domination_checkers.ah_containment_domination_checker:AHContainmentDominationChecker.get_nullspace_H_transformation\n",
      "INFO:__main__:Checking path: ['source', \"('NC|obs0_f0-obj0_v3', 'NC|obs0_f0-rob0_v1', 'NC|obj0_f3-rob0_v0')\", \"('NC|obs0_v1-obj0_f3', 'NC|obs0_f0-rob0_v1', 'NC|obj0_f3-rob0_v0')\"]\n",
      "DEBUG:large_gcs.domination_checkers.ah_containment_domination_checker:_create_path_AH_polytope_from_nullspace_sets\n",
      "DEBUG:large_gcs.domination_checkers.ah_containment_domination_checker:AHContainmentDominationChecker.get_nullspace_H_transformation\n",
      "INFO:__main__:Checking path: ['source', \"('NC|obs0_f0-obj0_v3', 'NC|obs0_f0-rob0_v1', 'NC|obj0_f3-rob0_v0')\", \"('NC|obs0_f0-obj0_v3', 'NC|obs0_f0-rob0_v1', 'NC|obj0_v0-rob0_f0')\"]\n",
      "DEBUG:large_gcs.domination_checkers.ah_containment_domination_checker:_create_path_AH_polytope_from_nullspace_sets\n",
      "DEBUG:large_gcs.domination_checkers.ah_containment_domination_checker:AHContainmentDominationChecker.get_nullspace_H_transformation\n",
      "INFO:__main__:Checking path: ['source', \"('NC|obs0_f0-obj0_v3', 'NC|obs0_f0-rob0_v1', 'NC|obj0_f3-rob0_v0')\", \"('NC|obs0_f0-obj0_v3', 'NC|obs0_f0-rob0_v1', 'NC|obj0_f2-rob0_f2')\"]\n",
      "DEBUG:large_gcs.domination_checkers.ah_containment_domination_checker:_create_path_AH_polytope_from_nullspace_sets\n",
      "DEBUG:large_gcs.domination_checkers.ah_containment_domination_checker:AHContainmentDominationChecker.get_nullspace_H_transformation\n"
     ]
    },
    {
     "name": "stdout",
     "output_type": "stream",
     "text": [
      "Warning for adding constraints: zero or small (< 1e-13) coefficients, ignored\n",
      "Warning for adding constraints: zero or small (< 1e-13) coefficients, ignored\n",
      "Warning for adding constraints: zero or small (< 1e-13) coefficients, ignored\n",
      "Warning for adding constraints: zero or small (< 1e-13) coefficients, ignored\n",
      "Warning for adding constraints: zero or small (< 1e-13) coefficients, ignored\n",
      "Warning for adding constraints: zero or small (< 1e-13) coefficients, ignored\n",
      "Warning for adding constraints: zero or small (< 1e-13) coefficients, ignored\n",
      "Warning for adding constraints: zero or small (< 1e-13) coefficients, ignored\n",
      "Warning for adding constraints: zero or small (< 1e-13) coefficients, ignored\n",
      "Warning for adding constraints: zero or small (< 1e-13) coefficients, ignored\n",
      "Warning for adding constraints: zero or small (< 1e-13) coefficients, ignored\n",
      "Warning for adding constraints: zero or small (< 1e-13) coefficients, ignored\n",
      "Warning for adding constraints: zero or small (< 1e-13) coefficients, ignored\n",
      "Warning for adding constraints: zero or small (< 1e-13) coefficients, ignored\n",
      "Warning for adding constraints: zero or small (< 1e-13) coefficients, ignored\n",
      "Warning for adding constraints: zero or small (< 1e-13) coefficients, ignored\n",
      "Warning for adding constraints: zero or small (< 1e-13) coefficients, ignored\n",
      "Warning for adding constraints: zero or small (< 1e-13) coefficients, ignored\n",
      "Warning for adding constraints: zero or small (< 1e-13) coefficients, ignored\n",
      "Warning for adding constraints: zero or small (< 1e-13) coefficients, ignored\n",
      "Warning for adding constraints: zero or small (< 1e-13) coefficients, ignored\n",
      "Warning for adding constraints: zero or small (< 1e-13) coefficients, ignored\n",
      "Warning for adding constraints: zero or small (< 1e-13) coefficients, ignored\n",
      "Warning for adding constraints: zero or small (< 1e-13) coefficients, ignored\n",
      "Warning for adding constraints: zero or small (< 1e-13) coefficients, ignored\n",
      "Warning for adding constraints: zero or small (< 1e-13) coefficients, ignored\n",
      "Warning for adding constraints: zero or small (< 1e-13) coefficients, ignored\n",
      "Warning for adding constraints: zero or small (< 1e-13) coefficients, ignored\n",
      "Warning for adding constraints: zero or small (< 1e-13) coefficients, ignored\n",
      "Warning for adding constraints: zero or small (< 1e-13) coefficients, ignored\n",
      "Warning for adding constraints: zero or small (< 1e-13) coefficients, ignored\n",
      "Warning for adding constraints: zero or small (< 1e-13) coefficients, ignored\n",
      "Warning for adding constraints: zero or small (< 1e-13) coefficients, ignored\n",
      "Warning for adding constraints: zero or small (< 1e-13) coefficients, ignored\n",
      "Warning for adding constraints: zero or small (< 1e-13) coefficients, ignored\n",
      "Warning for adding constraints: zero or small (< 1e-13) coefficients, ignored\n",
      "Warning for adding constraints: zero or small (< 1e-13) coefficients, ignored\n",
      "Warning for adding constraints: zero or small (< 1e-13) coefficients, ignored\n",
      "Warning for adding constraints: zero or small (< 1e-13) coefficients, ignored\n",
      "Warning for adding constraints: zero or small (< 1e-13) coefficients, ignored\n",
      "Warning for adding constraints: zero or small (< 1e-13) coefficients, ignored\n",
      "Warning for adding constraints: zero or small (< 1e-13) coefficients, ignored\n",
      "Warning for adding constraints: zero or small (< 1e-13) coefficients, ignored\n",
      "Warning for adding constraints: zero or small (< 1e-13) coefficients, ignored\n",
      "Warning for adding constraints: zero or small (< 1e-13) coefficients, ignored\n",
      "Warning for adding constraints: zero or small (< 1e-13) coefficients, ignored\n",
      "Warning for adding constraints: zero or small (< 1e-13) coefficients, ignored\n",
      "Warning for adding constraints: zero or small (< 1e-13) coefficients, ignored\n",
      "Warning for adding constraints: zero or small (< 1e-13) coefficients, ignored\n",
      "Warning for adding constraints: zero or small (< 1e-13) coefficients, ignored\n"
     ]
    },
    {
     "ename": "RuntimeError",
     "evalue": "AffineSubspace: Cannot take the affine hull of an empty set!",
     "output_type": "error",
     "traceback": [
      "\u001b[0;31m---------------------------------------------------------------------------\u001b[0m",
      "\u001b[0;31mRuntimeError\u001b[0m                              Traceback (most recent call last)",
      "Cell \u001b[0;32mIn[2], line 22\u001b[0m\n\u001b[1;32m     20\u001b[0m node \u001b[38;5;241m=\u001b[39m SearchNode\u001b[38;5;241m.\u001b[39mfrom_vertex_path(path)\n\u001b[1;32m     21\u001b[0m logger\u001b[38;5;241m.\u001b[39minfo(\u001b[38;5;124m\"\u001b[39m\u001b[38;5;124mChecking path: \u001b[39m\u001b[38;5;132;01m%s\u001b[39;00m\u001b[38;5;124m\"\u001b[39m, path)\n\u001b[0;32m---> 22\u001b[0m AH_poly_ns \u001b[38;5;241m=\u001b[39m \u001b[43mdom_ns\u001b[49m\u001b[38;5;241;43m.\u001b[39;49m\u001b[43m_create_path_AH_polytope_from_nullspace_sets\u001b[49m\u001b[43m(\u001b[49m\u001b[43mnode\u001b[49m\u001b[43m)\u001b[49m\n\u001b[1;32m     23\u001b[0m \u001b[38;5;66;03m# AH_poly_fs = dom_fs._create_path_AH_polytope(node)\u001b[39;00m\n\u001b[1;32m     24\u001b[0m \u001b[38;5;66;03m# They should be the same polyhedrons\u001b[39;00m\n\u001b[1;32m     25\u001b[0m \u001b[38;5;66;03m# assert dom_fs.is_contained_in(AH_poly_ns, AH_poly_fs)\u001b[39;00m\n\u001b[1;32m     26\u001b[0m \u001b[38;5;66;03m# assert dom_fs.is_contained_in(AH_poly_fs, AH_poly_ns)\u001b[39;00m\n",
      "File \u001b[0;32m~/Documents/Software/large_gcs/large_gcs/domination_checkers/ah_containment_domination_checker.py:199\u001b[0m, in \u001b[0;36mAHContainmentDominationChecker._create_path_AH_polytope_from_nullspace_sets\u001b[0;34m(self, node)\u001b[0m\n\u001b[1;32m    195\u001b[0m h_poly \u001b[38;5;241m=\u001b[39m HPolyhedron(prog)\n\u001b[1;32m    196\u001b[0m T_H, t_H \u001b[38;5;241m=\u001b[39m \u001b[38;5;28mself\u001b[39m\u001b[38;5;241m.\u001b[39mget_nullspace_H_transformation(\n\u001b[1;32m    197\u001b[0m     node, full_dim\u001b[38;5;241m=\u001b[39mfull_dim\n\u001b[1;32m    198\u001b[0m )\n\u001b[0;32m--> 199\u001b[0m K, k, T, t \u001b[38;5;241m=\u001b[39m \u001b[38;5;28;43mself\u001b[39;49m\u001b[38;5;241;43m.\u001b[39;49m\u001b[43m_nullspace_polyhedron_and_transformation_from_HPoly_and_T\u001b[49m\u001b[43m(\u001b[49m\n\u001b[1;32m    200\u001b[0m \u001b[43m    \u001b[49m\u001b[43mh_poly\u001b[49m\u001b[43m,\u001b[49m\u001b[43m \u001b[49m\u001b[43mT_H\u001b[49m\u001b[43m,\u001b[49m\u001b[43m \u001b[49m\u001b[43mt_H\u001b[49m\n\u001b[1;32m    201\u001b[0m \u001b[43m\u001b[49m\u001b[43m)\u001b[49m\n\u001b[1;32m    202\u001b[0m \u001b[38;5;66;03m# logger.debug(f\"K: {K.shape}, k: {k.shape}, T: {T.shape}, t: {t.shape}\")\u001b[39;00m\n\u001b[1;32m    203\u001b[0m \u001b[38;5;66;03m# logger.debug(f\"\\nK: \\n{K}, \\nk: \\n{k}, \\nT: \\n{T}, \\nt: \\n{t}\")\u001b[39;00m\n\u001b[1;32m    204\u001b[0m X \u001b[38;5;241m=\u001b[39m pp\u001b[38;5;241m.\u001b[39mH_polytope(K, k)\n",
      "File \u001b[0;32m~/Documents/Software/large_gcs/large_gcs/domination_checkers/ah_containment_domination_checker.py:134\u001b[0m, in \u001b[0;36mAHContainmentDominationChecker._nullspace_polyhedron_and_transformation_from_HPoly_and_T\u001b[0;34m(self, h_poly, T, t)\u001b[0m\n\u001b[1;32m    131\u001b[0m \u001b[38;5;28;01mdef\u001b[39;00m \u001b[38;5;21m_nullspace_polyhedron_and_transformation_from_HPoly_and_T\u001b[39m(\n\u001b[1;32m    132\u001b[0m     \u001b[38;5;28mself\u001b[39m, h_poly: HPolyhedron, T: np\u001b[38;5;241m.\u001b[39mndarray, t: np\u001b[38;5;241m.\u001b[39mndarray \u001b[38;5;241m=\u001b[39m \u001b[38;5;28;01mNone\u001b[39;00m\n\u001b[1;32m    133\u001b[0m ) \u001b[38;5;241m-\u001b[39m\u001b[38;5;241m>\u001b[39m Tuple[np\u001b[38;5;241m.\u001b[39mndarray, np\u001b[38;5;241m.\u001b[39mndarray, np\u001b[38;5;241m.\u001b[39mndarray, np\u001b[38;5;241m.\u001b[39mndarray]:\n\u001b[0;32m--> 134\u001b[0m     nullspace_set \u001b[38;5;241m=\u001b[39m \u001b[43mNullspaceSet\u001b[49m\u001b[38;5;241;43m.\u001b[39;49m\u001b[43mfrom_hpolyhedron\u001b[49m\u001b[43m(\u001b[49m\n\u001b[1;32m    135\u001b[0m \u001b[43m        \u001b[49m\u001b[43mh_poly\u001b[49m\u001b[43m,\u001b[49m\u001b[43m \u001b[49m\u001b[43mshould_reduce_inequalities\u001b[49m\u001b[38;5;241;43m=\u001b[39;49m\u001b[38;5;28;43;01mTrue\u001b[39;49;00m\n\u001b[1;32m    136\u001b[0m \u001b[43m    \u001b[49m\u001b[43m)\u001b[49m\n\u001b[1;32m    137\u001b[0m     T_prime \u001b[38;5;241m=\u001b[39m T \u001b[38;5;241m@\u001b[39m nullspace_set\u001b[38;5;241m.\u001b[39mV\n\u001b[1;32m    138\u001b[0m     \u001b[38;5;28;01mif\u001b[39;00m t \u001b[38;5;129;01mis\u001b[39;00m \u001b[38;5;28;01mNone\u001b[39;00m:\n",
      "File \u001b[0;32m~/Documents/Software/large_gcs/large_gcs/geometry/nullspace_set.py:31\u001b[0m, in \u001b[0;36mNullspaceSet.from_hpolyhedron\u001b[0;34m(cls, h_polyhedron, should_reduce_inequalities)\u001b[0m\n\u001b[1;32m     24\u001b[0m \u001b[38;5;129m@classmethod\u001b[39m\n\u001b[1;32m     25\u001b[0m \u001b[38;5;28;01mdef\u001b[39;00m \u001b[38;5;21mfrom_hpolyhedron\u001b[39m(\n\u001b[1;32m     26\u001b[0m     \u001b[38;5;28mcls\u001b[39m: \u001b[38;5;124m\"\u001b[39m\u001b[38;5;124mNullspaceSet\u001b[39m\u001b[38;5;124m\"\u001b[39m,\n\u001b[0;32m   (...)\u001b[0m\n\u001b[1;32m     29\u001b[0m ):\n\u001b[1;32m     30\u001b[0m     \u001b[38;5;66;03m# Find affine subspace of H x <= h\u001b[39;00m\n\u001b[0;32m---> 31\u001b[0m     affine_subspace \u001b[38;5;241m=\u001b[39m \u001b[43mAffineSubspace\u001b[49m\u001b[43m(\u001b[49m\u001b[43mh_polyhedron\u001b[49m\u001b[43m,\u001b[49m\u001b[43m \u001b[49m\u001b[43mtol\u001b[49m\u001b[38;5;241;43m=\u001b[39;49m\u001b[43mAFFINE_SUBSPACE_TOL\u001b[49m\u001b[43m)\u001b[49m\n\u001b[1;32m     32\u001b[0m     V \u001b[38;5;241m=\u001b[39m affine_subspace\u001b[38;5;241m.\u001b[39mbasis()\n\u001b[1;32m     34\u001b[0m     \u001b[38;5;66;03m# Check whether the affine subspace is a point\u001b[39;00m\n",
      "\u001b[0;31mRuntimeError\u001b[0m: AffineSubspace: Cannot take the affine hull of an empty set!"
     ]
    }
   ],
   "source": [
    "\n",
    "\n",
    "graph_file = ContactGraphGeneratorParams.inc_graph_file_path_from_name(\n",
    "    \"cg_trichal4\"\n",
    ")\n",
    "cg = IncrementalContactGraph.load_from_file(\n",
    "    graph_file,\n",
    "    should_incl_simul_mode_switches=False,\n",
    "    should_add_const_edge_cost=True,\n",
    "    should_add_gcs=True,\n",
    "    should_use_l1_norm_vertex_cost=True,\n",
    ")\n",
    "# fmt: off\n",
    "expansion_order = [['source', \"('NC|obs0_f0-obj0_v3', 'NC|obs0_f0-rob0_v1', 'NC|obj0_f3-rob0_v0')\"], ['source', \"('NC|obs0_f0-obj0_v3', 'NC|obs0_f0-rob0_v1', 'NC|obj0_f3-rob0_v0')\", \"('NC|obs0_v1-obj0_f3', 'NC|obs0_f0-rob0_v1', 'NC|obj0_f3-rob0_v0')\"], ['source', \"('NC|obs0_f0-obj0_v3', 'NC|obs0_f0-rob0_v1', 'NC|obj0_f3-rob0_v0')\", \"('NC|obs0_f0-obj0_v3', 'NC|obs0_f0-rob0_v1', 'NC|obj0_v0-rob0_f0')\"], ['source', \"('NC|obs0_f0-obj0_v3', 'NC|obs0_f0-rob0_v1', 'NC|obj0_f3-rob0_v0')\", \"('NC|obs0_f0-obj0_v3', 'NC|obs0_f0-rob0_v1', 'NC|obj0_f2-rob0_f2')\"], ['source', \"('NC|obs0_f0-obj0_v3', 'NC|obs0_f0-rob0_v1', 'NC|obj0_f3-rob0_v0')\", \"('NC|obs0_f0-obj0_v3', 'NC|obs0_f0-rob0_v1', 'NC|obj0_f2-rob0_f2')\", \"('NC|obs0_f0-obj0_v3', 'NC|obs0_f0-rob0_v1', 'IC|obj0_f1-rob0_f1')\"], ['source', \"('NC|obs0_f0-obj0_v3', 'NC|obs0_f0-rob0_v1', 'NC|obj0_f3-rob0_v0')\", \"('NC|obs0_f0-obj0_v3', 'NC|obs0_f0-rob0_v1', 'NC|obj0_f2-rob0_f2')\", \"('NC|obs0_f0-obj0_v3', 'NC|obs0_f0-rob0_v1', 'IC|obj0_f1-rob0_f1')\", \"('IC|obs0_f0-obj0_v3', 'NC|obs0_f0-rob0_v1', 'IC|obj0_f1-rob0_f1')\"], ['source', \"('NC|obs0_f0-obj0_v3', 'NC|obs0_f0-rob0_v1', 'NC|obj0_f3-rob0_v0')\", \"('NC|obs0_f0-obj0_v3', 'NC|obs0_f0-rob0_v1', 'NC|obj0_f2-rob0_f2')\", \"('NC|obs0_f0-obj0_v3', 'NC|obs0_f0-rob0_v1', 'IC|obj0_f1-rob0_f1')\", \"('IC|obs0_f0-obj0_v3', 'NC|obs0_f0-rob0_v1', 'IC|obj0_f1-rob0_f1')\", \"('NC|obs0_v0-obj0_f2', 'NC|obs0_f0-rob0_v1', 'IC|obj0_f1-rob0_f1')\"], ['source', \"('NC|obs0_f0-obj0_v3', 'NC|obs0_f0-rob0_v1', 'NC|obj0_f3-rob0_v0')\", \"('NC|obs0_f0-obj0_v3', 'NC|obs0_f0-rob0_v1', 'NC|obj0_f2-rob0_f2')\", \"('NC|obs0_f0-obj0_v3', 'NC|obs0_f0-rob0_v1', 'IC|obj0_f1-rob0_f1')\", \"('IC|obs0_f0-obj0_v3', 'NC|obs0_f0-rob0_v1', 'IC|obj0_f1-rob0_f1')\", \"('IC|obs0_v0-obj0_f2', 'NC|obs0_f0-rob0_v1', 'IC|obj0_f1-rob0_f1')\"], ['source', \"('NC|obs0_f0-obj0_v3', 'NC|obs0_f0-rob0_v1', 'NC|obj0_f3-rob0_v0')\", \"('NC|obs0_f0-obj0_v3', 'NC|obs0_f0-rob0_v1', 'NC|obj0_f2-rob0_f2')\", \"('NC|obs0_f0-obj0_v3', 'NC|obs0_f0-rob0_v1', 'IC|obj0_f1-rob0_f1')\", \"('IC|obs0_f0-obj0_v3', 'NC|obs0_f0-rob0_v1', 'IC|obj0_f1-rob0_f1')\", \"('NC|obs0_v0-obj0_f2', 'NC|obs0_f0-rob0_v1', 'IC|obj0_f1-rob0_f1')\", \"('NC|obs0_v0-obj0_f2', 'NC|obs0_f0-rob0_v1', 'NC|obj0_f1-rob0_f1')\"], ['source', \"('NC|obs0_f0-obj0_v3', 'NC|obs0_f0-rob0_v1', 'NC|obj0_f3-rob0_v0')\", \"('NC|obs0_f0-obj0_v3', 'NC|obs0_f0-rob0_v1', 'NC|obj0_f2-rob0_f2')\", \"('NC|obs0_f0-obj0_v3', 'NC|obs0_f0-rob0_v1', 'IC|obj0_f1-rob0_f1')\", \"('IC|obs0_f0-obj0_v3', 'NC|obs0_f0-rob0_v1', 'IC|obj0_f1-rob0_f1')\", \"('NC|obs0_v0-obj0_f2', 'NC|obs0_f0-rob0_v1', 'IC|obj0_f1-rob0_f1')\", \"('IC|obs0_f2-obj0_f1', 'NC|obs0_f0-rob0_v1', 'IC|obj0_f1-rob0_f1')\"], ['source', \"('NC|obs0_f0-obj0_v3', 'NC|obs0_f0-rob0_v1', 'NC|obj0_f3-rob0_v0')\", \"('NC|obs0_f0-obj0_v3', 'NC|obs0_f0-rob0_v1', 'NC|obj0_f2-rob0_f2')\", \"('NC|obs0_f0-obj0_v3', 'NC|obs0_f0-rob0_v1', 'IC|obj0_f1-rob0_f1')\", \"('IC|obs0_f0-obj0_v3', 'NC|obs0_f0-rob0_v1', 'IC|obj0_f1-rob0_f1')\", \"('NC|obs0_v0-obj0_f2', 'NC|obs0_f0-rob0_v1', 'IC|obj0_f1-rob0_f1')\", \"('IC|obs0_f2-obj0_f1', 'NC|obs0_f0-rob0_v1', 'IC|obj0_f1-rob0_f1')\", \"('IC|obs0_f2-obj0_f1', 'NC|obs0_f0-rob0_v1', 'IC|obj0_f0-rob0_v1')\"], ['source', \"('NC|obs0_f0-obj0_v3', 'NC|obs0_f0-rob0_v1', 'NC|obj0_f3-rob0_v0')\", \"('NC|obs0_f0-obj0_v3', 'NC|obs0_f0-rob0_v1', 'NC|obj0_f2-rob0_f2')\", \"('NC|obs0_f0-obj0_v3', 'NC|obs0_f0-rob0_v1', 'IC|obj0_f1-rob0_f1')\", \"('IC|obs0_f0-obj0_v3', 'NC|obs0_f0-rob0_v1', 'IC|obj0_f1-rob0_f1')\", \"('NC|obs0_v0-obj0_f2', 'NC|obs0_f0-rob0_v1', 'IC|obj0_f1-rob0_f1')\", \"('IC|obs0_f2-obj0_f1', 'NC|obs0_f0-rob0_v1', 'IC|obj0_f1-rob0_f1')\", \"('IC|obs0_f2-obj0_f1', 'NC|obs0_f0-rob0_v1', 'IC|obj0_f0-rob0_v1')\", \"('IC|obs0_f2-obj0_f1', 'NC|obs0_v0-rob0_f0', 'IC|obj0_f0-rob0_v1')\"], ['source', \"('NC|obs0_f0-obj0_v3', 'NC|obs0_f0-rob0_v1', 'NC|obj0_f3-rob0_v0')\", \"('NC|obs0_f0-obj0_v3', 'NC|obs0_f0-rob0_v1', 'NC|obj0_f2-rob0_f2')\", \"('NC|obs0_f0-obj0_v3', 'NC|obs0_f0-rob0_v1', 'IC|obj0_f1-rob0_f1')\", \"('IC|obs0_f0-obj0_v3', 'NC|obs0_f0-rob0_v1', 'IC|obj0_f1-rob0_f1')\", \"('NC|obs0_v0-obj0_f2', 'NC|obs0_f0-rob0_v1', 'IC|obj0_f1-rob0_f1')\", \"('IC|obs0_f2-obj0_f1', 'NC|obs0_f0-rob0_v1', 'IC|obj0_f1-rob0_f1')\", \"('IC|obs0_f2-obj0_f1', 'NC|obs0_f0-rob0_v1', 'IC|obj0_f0-rob0_v1')\", \"('IC|obs0_f2-obj0_f1', 'NC|obs0_v0-rob0_f0', 'IC|obj0_f0-rob0_v1')\", 'target']]\n",
    "# fmt: on\n",
    "dom_ns = ReachesCheaperContainment(graph=cg, construct_path_from_nullspaces=True)\n",
    "dom_ns.set_alg_metrics(AlgMetrics())\n",
    "dom_fs = ReachesCheaperContainment(graph=cg, construct_path_from_nullspaces=False)\n",
    "dom_fs.set_alg_metrics(AlgMetrics())\n",
    "for path in expansion_order[:-1]:\n",
    "    cg.add_vertex_path_to_graph(path)\n",
    "    node = SearchNode.from_vertex_path(path)\n",
    "    logger.info(\"Checking path: %s\", path)\n",
    "    AH_poly_ns = dom_ns._create_path_AH_polytope_from_nullspace_sets(node)\n",
    "    # AH_poly_fs = dom_fs._create_path_AH_polytope(node)\n",
    "    # They should be the same polyhedrons\n",
    "    # assert dom_fs.is_contained_in(AH_poly_ns, AH_poly_fs)\n",
    "    # assert dom_fs.is_contained_in(AH_poly_fs, AH_poly_ns)"
   ]
  },
  {
   "cell_type": "code",
   "execution_count": null,
   "metadata": {},
   "outputs": [],
   "source": []
  },
  {
   "cell_type": "code",
   "execution_count": 3,
   "metadata": {},
   "outputs": [],
   "source": [
    "path = expansion_order[0]\n",
    "cg.add_vertex_path_to_graph(path)\n",
    "node = SearchNode.from_vertex_path(path)\n",
    "# print(node.vertex_name)\n",
    "# cg.generate_and_plot_samples_in_set(node.vertex_name, 1)"
   ]
  },
  {
   "cell_type": "code",
   "execution_count": null,
   "metadata": {},
   "outputs": [],
   "source": [
    "cg.plot()"
   ]
  },
  {
   "cell_type": "code",
   "execution_count": null,
   "metadata": {},
   "outputs": [],
   "source": [
    "from large_gcs.contact.contact_set import ContactSet\n",
    "from large_gcs.geometry.geometry_utils import create_selection_matrix\n",
    "\n",
    "\n",
    "def get_H_transform_rob_first_pos(node, total_dims):\n",
    "    # First, collect all the decision variables\n",
    "    v_dims = [\n",
    "        cg.vertices[name].convex_set.dim for name in node.vertex_path\n",
    "    ]\n",
    "    current_index = 0\n",
    "    # Collect the indices of the decision variables for each vertex\n",
    "    x = []\n",
    "    for dim in v_dims:\n",
    "        x.append(list(range(current_index, current_index + dim)))\n",
    "        current_index += dim\n",
    "    logger.debug(f\"x: {x}\")\n",
    "    terminal_set: ContactSet = cg.vertices[node.vertex_name].convex_set\n",
    "    # selected_indices = list(terminal_set.vars.first_obj_first_pos_from_all(x[-1])) # same\n",
    "    # selected_indices = [8,10] # robot first pos knot point BUG\n",
    "    # selected_indices = [9,11] # robot second pos knot point\n",
    "    # selected_indices = [12,13] # robot force\n",
    "    # selected_indices = [9,12] # \n",
    "    selected_indices = np.concatenate(x)\n",
    "\n",
    "    logger.debug(f\"selected_indices: {selected_indices}\")\n",
    "    return create_selection_matrix(selected_indices, total_dims)\n"
   ]
  },
  {
   "cell_type": "markdown",
   "metadata": {},
   "source": [
    "DEBUG:__main__:x: [[0, 1, 2, 3], [4, 5, 6, 7, 8, 9, 10, 11, 12, 13]]\n",
    "DEBUG:__main__:selected_indices: [4, 6]"
   ]
  },
  {
   "cell_type": "code",
   "execution_count": 4,
   "metadata": {},
   "outputs": [
    {
     "name": "stderr",
     "output_type": "stream",
     "text": [
      "DEBUG:large_gcs.domination_checkers.ah_containment_domination_checker:_create_path_AH_polytope_from_nullspace_sets\n",
      "DEBUG:large_gcs.domination_checkers.ah_containment_domination_checker:AHContainmentDominationChecker.get_nullspace_H_transformation\n",
      "DEBUG:large_gcs.domination_checkers.ah_containment_domination_checker:_create_path_AH_polytope\n",
      "DEBUG:large_gcs.domination_checkers.ah_containment_domination_checker:Checking containment\n",
      "DEBUG:large_gcs.domination_checkers.ah_containment_domination_checker:Solving containment prog\n"
     ]
    },
    {
     "name": "stdout",
     "output_type": "stream",
     "text": [
      "Warning for adding constraints: zero or small (< 1e-13) coefficients, ignored\n",
      "Warning for adding constraints: zero or small (< 1e-13) coefficients, ignored\n",
      "Warning for adding constraints: zero or small (< 1e-13) coefficients, ignored\n",
      "Warning for adding constraints: zero or small (< 1e-13) coefficients, ignored\n",
      "Warning for adding constraints: zero or small (< 1e-13) coefficients, ignored\n",
      "Warning for adding constraints: zero or small (< 1e-13) coefficients, ignored\n",
      "Warning for adding constraints: zero or small (< 1e-13) coefficients, ignored\n",
      "Warning for adding constraints: zero or small (< 1e-13) coefficients, ignored\n"
     ]
    },
    {
     "ename": "AssertionError",
     "evalue": "",
     "output_type": "error",
     "traceback": [
      "\u001b[0;31m---------------------------------------------------------------------------\u001b[0m",
      "\u001b[0;31mAssertionError\u001b[0m                            Traceback (most recent call last)",
      "Cell \u001b[0;32mIn[4], line 7\u001b[0m\n\u001b[1;32m      5\u001b[0m AH_poly_ns \u001b[38;5;241m=\u001b[39m dom_ns\u001b[38;5;241m.\u001b[39m_create_path_AH_polytope_from_nullspace_sets(node)\n\u001b[1;32m      6\u001b[0m AH_poly_fs \u001b[38;5;241m=\u001b[39m dom_fs\u001b[38;5;241m.\u001b[39m_create_path_AH_polytope(node)\n\u001b[0;32m----> 7\u001b[0m \u001b[38;5;28;01massert\u001b[39;00m dom_fs\u001b[38;5;241m.\u001b[39mis_contained_in(AH_poly_ns, AH_poly_fs)\n\u001b[1;32m      8\u001b[0m \u001b[38;5;28;01massert\u001b[39;00m dom_fs\u001b[38;5;241m.\u001b[39mis_contained_in(AH_poly_fs, AH_poly_ns)\n\u001b[1;32m      9\u001b[0m \u001b[38;5;66;03m# cg.plot()\u001b[39;00m\n",
      "\u001b[0;31mAssertionError\u001b[0m: "
     ]
    }
   ],
   "source": [
    "from large_gcs.geometry.polyhedron import Polyhedron\n",
    "\n",
    "# dom_ns.get_H_transformation = get_H_transform_rob_first_pos\n",
    "# dom_fs.get_H_transformation = get_H_transform_rob_first_pos\n",
    "AH_poly_ns = dom_ns._create_path_AH_polytope_from_nullspace_sets(node)\n",
    "AH_poly_fs = dom_fs._create_path_AH_polytope(node)\n",
    "assert dom_fs.is_contained_in(AH_poly_ns, AH_poly_fs)\n",
    "assert dom_fs.is_contained_in(AH_poly_fs, AH_poly_ns)\n",
    "# cg.plot()\n",
    "\n"
   ]
  },
  {
   "cell_type": "code",
   "execution_count": null,
   "metadata": {},
   "outputs": [],
   "source": [
    "path_ns_poly = Polyhedron(H=AH_poly_ns.P.H, h=AH_poly_ns.P.h)\n",
    "path_ns_poly.transform_vertices(AH_poly_ns.T, AH_poly_ns.t)\n",
    "# path_ns_poly.plot_transformation(AH_poly_ns.T, AH_poly_ns.t)\n"
   ]
  },
  {
   "cell_type": "code",
   "execution_count": null,
   "metadata": {},
   "outputs": [],
   "source": [
    "path_fs_poly = Polyhedron(H=AH_poly_fs.P.H, h=AH_poly_fs.P.h)\n",
    "# path_fs_poly.plot_transformation(AH_poly_fs.T, AH_poly_fs.t, marker=\"x\")\n",
    "path_fs_poly.transform_vertices(AH_poly_fs.T, AH_poly_fs.t)\n",
    "\n"
   ]
  },
  {
   "cell_type": "code",
   "execution_count": null,
   "metadata": {},
   "outputs": [],
   "source": [
    "\n",
    "from large_gcs.contact.contact_set import ContactSet\n",
    "from large_gcs.geometry.nullspace_set import NullspaceSet\n",
    "\n",
    "\n",
    "\n",
    "# for i in range(len(node.vertex_path)):\n",
    "#     logger.debug(f\"vertex {i}: {node.vertex_path[i]}\")\n",
    "#     convex_set: ContactSet = cg.vertices[node.vertex_path[i]].convex_set\n",
    "#     ns_set: NullspaceSet = cg.vertices[node.vertex_path[i]].convex_set.nullspace_set\n",
    "#     logger.debug(f\"V: {ns_set.V.shape}, x_0: {ns_set.x_0.shape}\")\n",
    "#     logger.debug(f\"{convex_set.vars.all}\")\n",
    "#     logger.debug(f\"V: \\n{ns_set.V}, \\nx_0: \\n{ns_set.x_0}\")\n"
   ]
  },
  {
   "cell_type": "code",
   "execution_count": null,
   "metadata": {},
   "outputs": [],
   "source": [
    "prog_ns, full_dim = dom_ns.get_nullspace_path_mathematical_program(node)\n",
    "h_poly_ns = HPolyhedron(prog_ns)\n",
    "logger.debug(f\"{h_poly_ns.A().shape}, {h_poly_ns.b().shape}\")\n",
    "logger.debug(f\"\\n{h_poly_ns.A()}, \\n{h_poly_ns.b()}\")\n",
    "# T_H, t_H = dom_ns.get_nullspace_H_transformation(\n",
    "#         node, full_dim=full_dim, ns_dim=h_poly.ambient_dimension()\n",
    "#     )\n",
    "# # logger.debug(f\"T_H: {T_H.shape}, t_H: {t_H.shape}\")\n",
    "# # logger.debug(f\"\\nT_H: \\n{T_H}, \\nt_H: \\n{t_H}\")\n",
    "# K, k, T, t, V, x_0 = dom_fs._nullspace_polyhedron_and_transformation_from_HPoly_and_T(\n",
    "#     h_poly, T_H, t_H\n",
    "# )\n",
    "# logger.debug(f\"K: {K.shape}, k: {k.shape}, T: {T.shape}, t: {t.shape}, V: {V.shape}, x_0: {x_0.shape}\")\n",
    "# # logger.debug(f\"\\nK: \\n{K}, \\nk: \\n{k}, \\nT: \\n{T}, \\nt: \\n{t}\")\n",
    "# # T_H = dom_fs.get_H_transformation(node, h_poly.ambient_dimension())\n",
    "# # K, k, T, t = dom_fs._nullspace_polyhedron_and_transformation_from_HPoly_and_T(\n",
    "# #     h_poly, T_H\n",
    "# # )\n",
    "# # logger.debug(f\"K: {K.shape}, k: {k.shape}, T: {T.shape}, t: {t.shape}\")\n",
    "# # logger.debug(f\"\\nK: \\n{K}, \\nk: \\n{k}, \\nT: \\n{T}, \\nt: \\n{t}\")\n",
    "# # X = pp.H_polytope(K, k)\n",
    "# # return pp.AH_polytope(t, T, X)"
   ]
  },
  {
   "cell_type": "code",
   "execution_count": null,
   "metadata": {},
   "outputs": [],
   "source": [
    "# from IPython.display import Markdown, display\n",
    "# display(Markdown(prog.ToLatex()))"
   ]
  },
  {
   "cell_type": "code",
   "execution_count": null,
   "metadata": {},
   "outputs": [],
   "source": [
    "x_0 = np.array([ 1.76776695, -4.94974747,  6.776462  , -6.42991058, -5.89256958, 0.        ])"
   ]
  },
  {
   "cell_type": "code",
   "execution_count": null,
   "metadata": {},
   "outputs": [],
   "source": [
    "x_0.shape"
   ]
  },
  {
   "cell_type": "code",
   "execution_count": null,
   "metadata": {},
   "outputs": [],
   "source": [
    "ns_set: NullspaceSet = cg.vertices[node.vertex_path[1]].convex_set.nullspace_set\n",
    "ns_set.V.shape\n",
    "ns_set.V @ x_0\n"
   ]
  },
  {
   "cell_type": "code",
   "execution_count": null,
   "metadata": {},
   "outputs": [],
   "source": [
    "cg.source_pos"
   ]
  },
  {
   "cell_type": "code",
   "execution_count": null,
   "metadata": {},
   "outputs": [],
   "source": [
    "node.vertex_path"
   ]
  },
  {
   "cell_type": "markdown",
   "metadata": {},
   "source": [
    "path x_0 should be a feasible point in the path nullspace.\n",
    "\n",
    "Ax_0 should = b"
   ]
  },
  {
   "cell_type": "code",
   "execution_count": null,
   "metadata": {},
   "outputs": [],
   "source": [
    "h_poly_ns.A().shape, h_poly_ns.b().shape"
   ]
  },
  {
   "cell_type": "code",
   "execution_count": null,
   "metadata": {},
   "outputs": [],
   "source": [
    "h_poly_ns.A() @ x_0 - h_poly_ns.b()"
   ]
  },
  {
   "cell_type": "code",
   "execution_count": null,
   "metadata": {},
   "outputs": [],
   "source": []
  },
  {
   "cell_type": "code",
   "execution_count": null,
   "metadata": {},
   "outputs": [],
   "source": []
  },
  {
   "cell_type": "code",
   "execution_count": null,
   "metadata": {},
   "outputs": [],
   "source": [
    "from large_gcs.geometry.polyhedron import Polyhedron\n",
    "\n",
    "prog_ns, full_dim = dom_ns.get_nullspace_path_mathematical_program(node)\n",
    "h_poly_ns = HPolyhedron(prog_ns)\n",
    "# logger.debug(f\"{h_poly.A().shape}, {h_poly.b().shape}\")\n",
    "# logger.debug(f\"\\n{h_poly.A()}, \\n{h_poly.b()}\")\n",
    "dom_ns.get_H_transformation = get_H_transform_rob_first_pos\n",
    "T_H, t_H = dom_ns.get_nullspace_H_transformation(\n",
    "        node, full_dim=full_dim\n",
    "    )\n",
    "# # logger.debug(f\"T_H: {T_H.shape}, t_H: {t_H.shape}\")\n",
    "# # logger.debug(f\"\\nT_H: \\n{T_H}, \\nt_H: \\n{t_H}\")\n",
    "K, k, T, t = dom_fs._nullspace_polyhedron_and_transformation_from_HPoly_and_T(\n",
    "    h_poly_ns, T_H, t_H)\n",
    "\n",
    "prog_fs = dom_fs.get_path_constraint_mathematical_program(node)\n",
    "\n",
    "\n",
    "\n",
    "path_ns_poly = Polyhedron(H=K, h=k)\n",
    "path_ns_poly.plot_transformation(T, t)"
   ]
  },
  {
   "cell_type": "code",
   "execution_count": null,
   "metadata": {},
   "outputs": [],
   "source": []
  },
  {
   "cell_type": "code",
   "execution_count": null,
   "metadata": {},
   "outputs": [],
   "source": [
    "cg.plot()\n",
    "path_ns_poly.plot()\n"
   ]
  },
  {
   "cell_type": "code",
   "execution_count": null,
   "metadata": {},
   "outputs": [],
   "source": []
  }
 ],
 "metadata": {
  "kernelspec": {
   "display_name": ".venv",
   "language": "python",
   "name": "python3"
  },
  "language_info": {
   "codemirror_mode": {
    "name": "ipython",
    "version": 3
   },
   "file_extension": ".py",
   "mimetype": "text/x-python",
   "name": "python",
   "nbconvert_exporter": "python",
   "pygments_lexer": "ipython3",
   "version": "3.10.12"
  }
 },
 "nbformat": 4,
 "nbformat_minor": 2
}
