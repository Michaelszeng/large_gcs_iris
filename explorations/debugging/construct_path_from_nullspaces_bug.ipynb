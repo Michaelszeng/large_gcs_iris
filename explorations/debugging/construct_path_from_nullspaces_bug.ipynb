{
 "cells": [
  {
   "cell_type": "code",
   "execution_count": 1,
   "metadata": {},
   "outputs": [
    {
     "name": "stdout",
     "output_type": "stream",
     "text": [
      "Set parameter Username\n",
      "Academic license - for non-commercial use only - expires 2025-06-05\n"
     ]
    },
    {
     "name": "stderr",
     "output_type": "stream",
     "text": [
      "/home/shaoyuan/Documents/Software/pypolycontain/pypolycontain/conversions.py:19: UserWarning: WARNING: You don't have CDD package installed. Unable to visualize polytopes. You may still visualize zonotopes.\n",
      "  warnings.warn(\"WARNING: You don't have CDD package installed. Unable to visualize polytopes. You may still visualize zonotopes.\")\n",
      "/home/shaoyuan/Documents/Software/pypolycontain/pypolycontain/containment.py:16: UserWarning: You don't have CDD package installed. Unable to run cone ray generation.\n",
      "  warnings.warn(\"You don't have CDD package installed. Unable to run cone ray generation.\")\n"
     ]
    }
   ],
   "source": [
    "from large_gcs.algorithms.search_algorithm import AlgMetrics, SearchNode\n",
    "from large_gcs.domination_checkers.reaches_new_containment import ReachesNewContainment\n",
    "from large_gcs.graph.incremental_contact_graph import IncrementalContactGraph\n",
    "from large_gcs.graph_generators.contact_graph_generator import ContactGraphGeneratorParams\n",
    "from large_gcs.geometry.polyhedron import Polyhedron\n",
    "\n",
    "import numpy as np\n",
    "import logging\n",
    "from pydrake.all import (MathematicalProgram, HPolyhedron)\n",
    "\n",
    "logging.basicConfig(level=logging.WARN)\n",
    "logging.getLogger(\"large_gcs\").setLevel(logging.DEBUG)\n",
    "\n",
    "logger = logging.getLogger(__name__)\n",
    "logger.setLevel(logging.DEBUG)\n",
    "from large_gcs.domination_checkers.reaches_cheaper_containment import ReachesCheaperContainment\n"
   ]
  },
  {
   "cell_type": "code",
   "execution_count": 2,
   "metadata": {},
   "outputs": [
    {
     "name": "stderr",
     "output_type": "stream",
     "text": [
      "INFO:large_gcs.graph.contact_graph:Creating vertex costs...\n",
      "100%|██████████| 2/2 [00:00<00:00, 31068.92it/s]\n",
      "INFO:large_gcs.graph.graph:Adding 2 vertices to graph...\n",
      "100%|██████████| 2/2 [00:00<00:00, 16611.10it/s]\n",
      "INFO:large_gcs.graph.contact_graph:Generating contact pair modes for 3 body pairs...\n",
      "100%|██████████| 3/3 [00:00<00:00, 190.81it/s]\n",
      "INFO:large_gcs.graph.incremental_contact_graph:Calculating adjacent contact pair modes (100)\n",
      "100%|██████████| 100/100 [00:00<00:00, 27780.53it/s]\n",
      "INFO:__main__:Checking path: ['source', \"('NC|obs0_f0-obj0_v3', 'NC|obs0_f0-rob0_v1', 'NC|obj0_f3-rob0_v0')\"]\n",
      "DEBUG:large_gcs.domination_checkers.ah_containment_domination_checker:_create_path_AH_polytope_from_nullspace_sets\n",
      "DEBUG:large_gcs.domination_checkers.ah_containment_domination_checker:path prog is empty: False\n",
      "DEBUG:large_gcs.domination_checkers.ah_containment_domination_checker:AHContainmentDominationChecker.get_nullspace_H_transformation\n",
      "DEBUG:large_gcs.domination_checkers.ah_containment_domination_checker:X is empty: False\n",
      "DEBUG:large_gcs.domination_checkers.ah_containment_domination_checker:_create_path_AH_polytope\n",
      "DEBUG:__main__:Dimensions of AH_poly_ns: (11, 7), AH_poly_fs: (11, 7)\n",
      "DEBUG:large_gcs.domination_checkers.ah_containment_domination_checker:Checking containment\n",
      "DEBUG:large_gcs.domination_checkers.ah_containment_domination_checker:Solving containment prog\n",
      "DEBUG:large_gcs.domination_checkers.ah_containment_domination_checker:Checking containment\n",
      "DEBUG:large_gcs.domination_checkers.ah_containment_domination_checker:Solving containment prog\n",
      "INFO:__main__:Checking path: ['source', \"('NC|obs0_f0-obj0_v3', 'NC|obs0_f0-rob0_v1', 'NC|obj0_f3-rob0_v0')\", \"('NC|obs0_v1-obj0_f3', 'NC|obs0_f0-rob0_v1', 'NC|obj0_f3-rob0_v0')\"]\n",
      "DEBUG:large_gcs.domination_checkers.ah_containment_domination_checker:_create_path_AH_polytope_from_nullspace_sets\n",
      "DEBUG:large_gcs.domination_checkers.ah_containment_domination_checker:path prog is empty: False\n",
      "DEBUG:large_gcs.domination_checkers.ah_containment_domination_checker:AHContainmentDominationChecker.get_nullspace_H_transformation\n",
      "DEBUG:large_gcs.domination_checkers.ah_containment_domination_checker:X is empty: False\n",
      "DEBUG:large_gcs.domination_checkers.ah_containment_domination_checker:_create_path_AH_polytope\n",
      "DEBUG:__main__:Dimensions of AH_poly_ns: (11, 13), AH_poly_fs: (11, 13)\n",
      "DEBUG:large_gcs.domination_checkers.ah_containment_domination_checker:Checking containment\n",
      "DEBUG:large_gcs.domination_checkers.ah_containment_domination_checker:Solving containment prog\n",
      "DEBUG:large_gcs.domination_checkers.ah_containment_domination_checker:Checking containment\n",
      "DEBUG:large_gcs.domination_checkers.ah_containment_domination_checker:Solving containment prog\n",
      "INFO:__main__:Checking path: ['source', \"('NC|obs0_f0-obj0_v3', 'NC|obs0_f0-rob0_v1', 'NC|obj0_f3-rob0_v0')\", \"('NC|obs0_f0-obj0_v3', 'NC|obs0_f0-rob0_v1', 'NC|obj0_v0-rob0_f0')\"]\n",
      "DEBUG:large_gcs.domination_checkers.ah_containment_domination_checker:_create_path_AH_polytope_from_nullspace_sets\n",
      "DEBUG:large_gcs.domination_checkers.ah_containment_domination_checker:path prog is empty: False\n",
      "DEBUG:large_gcs.domination_checkers.ah_containment_domination_checker:AHContainmentDominationChecker.get_nullspace_H_transformation\n",
      "DEBUG:large_gcs.domination_checkers.ah_containment_domination_checker:X is empty: False\n",
      "DEBUG:large_gcs.domination_checkers.ah_containment_domination_checker:_create_path_AH_polytope\n",
      "DEBUG:__main__:Dimensions of AH_poly_ns: (11, 13), AH_poly_fs: (11, 13)\n",
      "DEBUG:large_gcs.domination_checkers.ah_containment_domination_checker:Checking containment\n",
      "DEBUG:large_gcs.domination_checkers.ah_containment_domination_checker:Solving containment prog\n",
      "DEBUG:large_gcs.domination_checkers.ah_containment_domination_checker:Checking containment\n",
      "DEBUG:large_gcs.domination_checkers.ah_containment_domination_checker:Solving containment prog\n",
      "INFO:__main__:Checking path: ['source', \"('NC|obs0_f0-obj0_v3', 'NC|obs0_f0-rob0_v1', 'NC|obj0_f3-rob0_v0')\", \"('NC|obs0_f0-obj0_v3', 'NC|obs0_f0-rob0_v1', 'NC|obj0_f2-rob0_f2')\"]\n",
      "DEBUG:large_gcs.domination_checkers.ah_containment_domination_checker:_create_path_AH_polytope_from_nullspace_sets\n",
      "DEBUG:large_gcs.domination_checkers.ah_containment_domination_checker:path prog is empty: False\n",
      "DEBUG:large_gcs.domination_checkers.ah_containment_domination_checker:AHContainmentDominationChecker.get_nullspace_H_transformation\n",
      "DEBUG:large_gcs.domination_checkers.ah_containment_domination_checker:X is empty: False\n",
      "DEBUG:large_gcs.domination_checkers.ah_containment_domination_checker:_create_path_AH_polytope\n",
      "DEBUG:__main__:Dimensions of AH_poly_ns: (11, 13), AH_poly_fs: (11, 13)\n",
      "DEBUG:large_gcs.domination_checkers.ah_containment_domination_checker:Checking containment\n",
      "DEBUG:large_gcs.domination_checkers.ah_containment_domination_checker:Solving containment prog\n",
      "DEBUG:large_gcs.domination_checkers.ah_containment_domination_checker:Checking containment\n",
      "DEBUG:large_gcs.domination_checkers.ah_containment_domination_checker:Solving containment prog\n",
      "INFO:__main__:Checking path: ['source', \"('NC|obs0_f0-obj0_v3', 'NC|obs0_f0-rob0_v1', 'NC|obj0_f3-rob0_v0')\", \"('NC|obs0_f0-obj0_v3', 'NC|obs0_f0-rob0_v1', 'NC|obj0_f2-rob0_f2')\", \"('NC|obs0_f0-obj0_v3', 'NC|obs0_f0-rob0_v1', 'IC|obj0_f1-rob0_f1')\"]\n",
      "DEBUG:large_gcs.domination_checkers.ah_containment_domination_checker:_create_path_AH_polytope_from_nullspace_sets\n",
      "DEBUG:large_gcs.domination_checkers.ah_containment_domination_checker:path prog is empty: False\n",
      "DEBUG:large_gcs.domination_checkers.ah_containment_domination_checker:AHContainmentDominationChecker.get_nullspace_H_transformation\n",
      "DEBUG:large_gcs.domination_checkers.ah_containment_domination_checker:X is empty: False\n",
      "DEBUG:large_gcs.domination_checkers.ah_containment_domination_checker:_create_path_AH_polytope\n",
      "DEBUG:__main__:Dimensions of AH_poly_ns: (12, 17), AH_poly_fs: (12, 17)\n",
      "DEBUG:large_gcs.domination_checkers.ah_containment_domination_checker:Checking containment\n",
      "DEBUG:large_gcs.domination_checkers.ah_containment_domination_checker:Solving containment prog\n",
      "DEBUG:large_gcs.domination_checkers.ah_containment_domination_checker:Checking containment\n",
      "DEBUG:large_gcs.domination_checkers.ah_containment_domination_checker:Solving containment prog\n",
      "INFO:__main__:Checking path: ['source', \"('NC|obs0_f0-obj0_v3', 'NC|obs0_f0-rob0_v1', 'NC|obj0_f3-rob0_v0')\", \"('NC|obs0_f0-obj0_v3', 'NC|obs0_f0-rob0_v1', 'NC|obj0_f2-rob0_f2')\", \"('NC|obs0_f0-obj0_v3', 'NC|obs0_f0-rob0_v1', 'IC|obj0_f1-rob0_f1')\", \"('IC|obs0_f0-obj0_v3', 'NC|obs0_f0-rob0_v1', 'IC|obj0_f1-rob0_f1')\"]\n",
      "DEBUG:large_gcs.domination_checkers.ah_containment_domination_checker:_create_path_AH_polytope_from_nullspace_sets\n",
      "DEBUG:large_gcs.domination_checkers.ah_containment_domination_checker:path prog is empty: False\n",
      "DEBUG:large_gcs.domination_checkers.ah_containment_domination_checker:AHContainmentDominationChecker.get_nullspace_H_transformation\n",
      "DEBUG:large_gcs.domination_checkers.ah_containment_domination_checker:X is empty: False\n",
      "DEBUG:large_gcs.domination_checkers.ah_containment_domination_checker:_create_path_AH_polytope\n",
      "DEBUG:__main__:Dimensions of AH_poly_ns: (13, 22), AH_poly_fs: (13, 22)\n",
      "DEBUG:large_gcs.domination_checkers.ah_containment_domination_checker:Checking containment\n",
      "DEBUG:large_gcs.domination_checkers.ah_containment_domination_checker:Solving containment prog\n",
      "DEBUG:large_gcs.domination_checkers.ah_containment_domination_checker:Checking containment\n",
      "DEBUG:large_gcs.domination_checkers.ah_containment_domination_checker:Solving containment prog\n",
      "INFO:__main__:Checking path: ['source', \"('NC|obs0_f0-obj0_v3', 'NC|obs0_f0-rob0_v1', 'NC|obj0_f3-rob0_v0')\", \"('NC|obs0_f0-obj0_v3', 'NC|obs0_f0-rob0_v1', 'NC|obj0_f2-rob0_f2')\", \"('NC|obs0_f0-obj0_v3', 'NC|obs0_f0-rob0_v1', 'IC|obj0_f1-rob0_f1')\", \"('IC|obs0_f0-obj0_v3', 'NC|obs0_f0-rob0_v1', 'IC|obj0_f1-rob0_f1')\", \"('NC|obs0_v0-obj0_f2', 'NC|obs0_f0-rob0_v1', 'IC|obj0_f1-rob0_f1')\"]\n",
      "DEBUG:large_gcs.domination_checkers.ah_containment_domination_checker:_create_path_AH_polytope_from_nullspace_sets\n",
      "DEBUG:large_gcs.domination_checkers.ah_containment_domination_checker:path prog is empty: False\n",
      "DEBUG:large_gcs.domination_checkers.ah_containment_domination_checker:AHContainmentDominationChecker.get_nullspace_H_transformation\n",
      "DEBUG:large_gcs.domination_checkers.ah_containment_domination_checker:X is empty: False\n",
      "DEBUG:large_gcs.domination_checkers.ah_containment_domination_checker:_create_path_AH_polytope\n",
      "DEBUG:__main__:Dimensions of AH_poly_ns: (12, 27), AH_poly_fs: (12, 27)\n",
      "DEBUG:large_gcs.domination_checkers.ah_containment_domination_checker:Checking containment\n",
      "DEBUG:large_gcs.domination_checkers.ah_containment_domination_checker:Solving containment prog\n",
      "DEBUG:large_gcs.domination_checkers.ah_containment_domination_checker:Checking containment\n",
      "DEBUG:large_gcs.domination_checkers.ah_containment_domination_checker:Solving containment prog\n",
      "INFO:__main__:Checking path: ['source', \"('NC|obs0_f0-obj0_v3', 'NC|obs0_f0-rob0_v1', 'NC|obj0_f3-rob0_v0')\", \"('NC|obs0_f0-obj0_v3', 'NC|obs0_f0-rob0_v1', 'NC|obj0_f2-rob0_f2')\", \"('NC|obs0_f0-obj0_v3', 'NC|obs0_f0-rob0_v1', 'IC|obj0_f1-rob0_f1')\", \"('IC|obs0_f0-obj0_v3', 'NC|obs0_f0-rob0_v1', 'IC|obj0_f1-rob0_f1')\", \"('IC|obs0_v0-obj0_f2', 'NC|obs0_f0-rob0_v1', 'IC|obj0_f1-rob0_f1')\"]\n",
      "DEBUG:large_gcs.domination_checkers.ah_containment_domination_checker:_create_path_AH_polytope_from_nullspace_sets\n",
      "DEBUG:large_gcs.domination_checkers.ah_containment_domination_checker:path prog is empty: False\n",
      "DEBUG:large_gcs.domination_checkers.ah_containment_domination_checker:AHContainmentDominationChecker.get_nullspace_H_transformation\n",
      "DEBUG:large_gcs.domination_checkers.ah_containment_domination_checker:X is empty: False\n",
      "DEBUG:large_gcs.domination_checkers.ah_containment_domination_checker:_create_path_AH_polytope\n",
      "DEBUG:__main__:Dimensions of AH_poly_ns: (13, 27), AH_poly_fs: (13, 27)\n",
      "DEBUG:large_gcs.domination_checkers.ah_containment_domination_checker:Checking containment\n",
      "DEBUG:large_gcs.domination_checkers.ah_containment_domination_checker:Solving containment prog\n",
      "DEBUG:large_gcs.domination_checkers.ah_containment_domination_checker:Checking containment\n",
      "DEBUG:large_gcs.domination_checkers.ah_containment_domination_checker:Solving containment prog\n",
      "INFO:__main__:Checking path: ['source', \"('NC|obs0_f0-obj0_v3', 'NC|obs0_f0-rob0_v1', 'NC|obj0_f3-rob0_v0')\", \"('NC|obs0_f0-obj0_v3', 'NC|obs0_f0-rob0_v1', 'NC|obj0_f2-rob0_f2')\", \"('NC|obs0_f0-obj0_v3', 'NC|obs0_f0-rob0_v1', 'IC|obj0_f1-rob0_f1')\", \"('IC|obs0_f0-obj0_v3', 'NC|obs0_f0-rob0_v1', 'IC|obj0_f1-rob0_f1')\", \"('NC|obs0_v0-obj0_f2', 'NC|obs0_f0-rob0_v1', 'IC|obj0_f1-rob0_f1')\", \"('NC|obs0_v0-obj0_f2', 'NC|obs0_f0-rob0_v1', 'NC|obj0_f1-rob0_f1')\"]\n",
      "DEBUG:large_gcs.domination_checkers.ah_containment_domination_checker:_create_path_AH_polytope_from_nullspace_sets\n",
      "DEBUG:large_gcs.domination_checkers.ah_containment_domination_checker:path prog is empty: False\n",
      "DEBUG:large_gcs.domination_checkers.ah_containment_domination_checker:AHContainmentDominationChecker.get_nullspace_H_transformation\n",
      "DEBUG:large_gcs.domination_checkers.ah_containment_domination_checker:X is empty: False\n",
      "DEBUG:large_gcs.domination_checkers.ah_containment_domination_checker:_create_path_AH_polytope\n",
      "DEBUG:__main__:Dimensions of AH_poly_ns: (11, 33), AH_poly_fs: (11, 33)\n",
      "DEBUG:large_gcs.domination_checkers.ah_containment_domination_checker:Checking containment\n",
      "DEBUG:large_gcs.domination_checkers.ah_containment_domination_checker:Solving containment prog\n",
      "DEBUG:large_gcs.domination_checkers.ah_containment_domination_checker:Checking containment\n",
      "DEBUG:large_gcs.domination_checkers.ah_containment_domination_checker:Solving containment prog\n",
      "INFO:__main__:Checking path: ['source', \"('NC|obs0_f0-obj0_v3', 'NC|obs0_f0-rob0_v1', 'NC|obj0_f3-rob0_v0')\", \"('NC|obs0_f0-obj0_v3', 'NC|obs0_f0-rob0_v1', 'NC|obj0_f2-rob0_f2')\", \"('NC|obs0_f0-obj0_v3', 'NC|obs0_f0-rob0_v1', 'IC|obj0_f1-rob0_f1')\", \"('IC|obs0_f0-obj0_v3', 'NC|obs0_f0-rob0_v1', 'IC|obj0_f1-rob0_f1')\", \"('NC|obs0_v0-obj0_f2', 'NC|obs0_f0-rob0_v1', 'IC|obj0_f1-rob0_f1')\", \"('IC|obs0_f2-obj0_f1', 'NC|obs0_f0-rob0_v1', 'IC|obj0_f1-rob0_f1')\"]\n",
      "DEBUG:large_gcs.domination_checkers.ah_containment_domination_checker:_create_path_AH_polytope_from_nullspace_sets\n",
      "DEBUG:large_gcs.domination_checkers.ah_containment_domination_checker:path prog is empty: False\n",
      "DEBUG:large_gcs.domination_checkers.ah_containment_domination_checker:AHContainmentDominationChecker.get_nullspace_H_transformation\n",
      "DEBUG:large_gcs.domination_checkers.ah_containment_domination_checker:X is empty: False\n",
      "DEBUG:large_gcs.domination_checkers.ah_containment_domination_checker:_create_path_AH_polytope\n",
      "DEBUG:__main__:Dimensions of AH_poly_ns: (13, 31), AH_poly_fs: (13, 31)\n",
      "DEBUG:large_gcs.domination_checkers.ah_containment_domination_checker:Checking containment\n",
      "DEBUG:large_gcs.domination_checkers.ah_containment_domination_checker:Solving containment prog\n",
      "DEBUG:large_gcs.domination_checkers.ah_containment_domination_checker:Checking containment\n",
      "DEBUG:large_gcs.domination_checkers.ah_containment_domination_checker:Solving containment prog\n",
      "INFO:__main__:Checking path: ['source', \"('NC|obs0_f0-obj0_v3', 'NC|obs0_f0-rob0_v1', 'NC|obj0_f3-rob0_v0')\", \"('NC|obs0_f0-obj0_v3', 'NC|obs0_f0-rob0_v1', 'NC|obj0_f2-rob0_f2')\", \"('NC|obs0_f0-obj0_v3', 'NC|obs0_f0-rob0_v1', 'IC|obj0_f1-rob0_f1')\", \"('IC|obs0_f0-obj0_v3', 'NC|obs0_f0-rob0_v1', 'IC|obj0_f1-rob0_f1')\", \"('NC|obs0_v0-obj0_f2', 'NC|obs0_f0-rob0_v1', 'IC|obj0_f1-rob0_f1')\", \"('IC|obs0_f2-obj0_f1', 'NC|obs0_f0-rob0_v1', 'IC|obj0_f1-rob0_f1')\", \"('IC|obs0_f2-obj0_f1', 'NC|obs0_f0-rob0_v1', 'IC|obj0_f0-rob0_v1')\"]\n",
      "DEBUG:large_gcs.domination_checkers.ah_containment_domination_checker:_create_path_AH_polytope_from_nullspace_sets\n",
      "DEBUG:large_gcs.domination_checkers.ah_containment_domination_checker:path prog is empty: False\n",
      "DEBUG:large_gcs.domination_checkers.ah_containment_domination_checker:AHContainmentDominationChecker.get_nullspace_H_transformation\n",
      "DEBUG:large_gcs.domination_checkers.ah_containment_domination_checker:X is empty: False\n",
      "DEBUG:large_gcs.domination_checkers.ah_containment_domination_checker:_create_path_AH_polytope\n",
      "DEBUG:__main__:Dimensions of AH_poly_ns: (13, 36), AH_poly_fs: (13, 36)\n",
      "DEBUG:large_gcs.domination_checkers.ah_containment_domination_checker:Checking containment\n",
      "DEBUG:large_gcs.domination_checkers.ah_containment_domination_checker:Solving containment prog\n",
      "DEBUG:large_gcs.domination_checkers.ah_containment_domination_checker:Checking containment\n",
      "DEBUG:large_gcs.domination_checkers.ah_containment_domination_checker:Solving containment prog\n",
      "INFO:__main__:Checking path: ['source', \"('NC|obs0_f0-obj0_v3', 'NC|obs0_f0-rob0_v1', 'NC|obj0_f3-rob0_v0')\", \"('NC|obs0_f0-obj0_v3', 'NC|obs0_f0-rob0_v1', 'NC|obj0_f2-rob0_f2')\", \"('NC|obs0_f0-obj0_v3', 'NC|obs0_f0-rob0_v1', 'IC|obj0_f1-rob0_f1')\", \"('IC|obs0_f0-obj0_v3', 'NC|obs0_f0-rob0_v1', 'IC|obj0_f1-rob0_f1')\", \"('NC|obs0_v0-obj0_f2', 'NC|obs0_f0-rob0_v1', 'IC|obj0_f1-rob0_f1')\", \"('IC|obs0_f2-obj0_f1', 'NC|obs0_f0-rob0_v1', 'IC|obj0_f1-rob0_f1')\", \"('IC|obs0_f2-obj0_f1', 'NC|obs0_f0-rob0_v1', 'IC|obj0_f0-rob0_v1')\", \"('IC|obs0_f2-obj0_f1', 'NC|obs0_v0-rob0_f0', 'IC|obj0_f0-rob0_v1')\"]\n",
      "DEBUG:large_gcs.domination_checkers.ah_containment_domination_checker:_create_path_AH_polytope_from_nullspace_sets\n",
      "DEBUG:large_gcs.domination_checkers.ah_containment_domination_checker:path prog is empty: False\n",
      "DEBUG:large_gcs.domination_checkers.ah_containment_domination_checker:AHContainmentDominationChecker.get_nullspace_H_transformation\n",
      "DEBUG:large_gcs.domination_checkers.ah_containment_domination_checker:X is empty: False\n",
      "DEBUG:large_gcs.domination_checkers.ah_containment_domination_checker:_create_path_AH_polytope\n",
      "DEBUG:__main__:Dimensions of AH_poly_ns: (13, 42), AH_poly_fs: (13, 42)\n",
      "DEBUG:large_gcs.domination_checkers.ah_containment_domination_checker:Checking containment\n",
      "DEBUG:large_gcs.domination_checkers.ah_containment_domination_checker:Solving containment prog\n",
      "DEBUG:large_gcs.domination_checkers.ah_containment_domination_checker:Checking containment\n",
      "DEBUG:large_gcs.domination_checkers.ah_containment_domination_checker:Solving containment prog\n"
     ]
    }
   ],
   "source": [
    "\n",
    "\n",
    "graph_file = ContactGraphGeneratorParams.inc_graph_file_path_from_name(\n",
    "    \"cg_trichal4\"\n",
    ")\n",
    "cg = IncrementalContactGraph.load_from_file(\n",
    "    graph_file,\n",
    "    should_incl_simul_mode_switches=False,\n",
    "    should_add_const_edge_cost=True,\n",
    "    should_add_gcs=True,\n",
    "    should_use_l1_norm_vertex_cost=True,\n",
    ")\n",
    "# fmt: off\n",
    "expansion_order = [['source', \"('NC|obs0_f0-obj0_v3', 'NC|obs0_f0-rob0_v1', 'NC|obj0_f3-rob0_v0')\"], ['source', \"('NC|obs0_f0-obj0_v3', 'NC|obs0_f0-rob0_v1', 'NC|obj0_f3-rob0_v0')\", \"('NC|obs0_v1-obj0_f3', 'NC|obs0_f0-rob0_v1', 'NC|obj0_f3-rob0_v0')\"], ['source', \"('NC|obs0_f0-obj0_v3', 'NC|obs0_f0-rob0_v1', 'NC|obj0_f3-rob0_v0')\", \"('NC|obs0_f0-obj0_v3', 'NC|obs0_f0-rob0_v1', 'NC|obj0_v0-rob0_f0')\"], ['source', \"('NC|obs0_f0-obj0_v3', 'NC|obs0_f0-rob0_v1', 'NC|obj0_f3-rob0_v0')\", \"('NC|obs0_f0-obj0_v3', 'NC|obs0_f0-rob0_v1', 'NC|obj0_f2-rob0_f2')\"], ['source', \"('NC|obs0_f0-obj0_v3', 'NC|obs0_f0-rob0_v1', 'NC|obj0_f3-rob0_v0')\", \"('NC|obs0_f0-obj0_v3', 'NC|obs0_f0-rob0_v1', 'NC|obj0_f2-rob0_f2')\", \"('NC|obs0_f0-obj0_v3', 'NC|obs0_f0-rob0_v1', 'IC|obj0_f1-rob0_f1')\"], ['source', \"('NC|obs0_f0-obj0_v3', 'NC|obs0_f0-rob0_v1', 'NC|obj0_f3-rob0_v0')\", \"('NC|obs0_f0-obj0_v3', 'NC|obs0_f0-rob0_v1', 'NC|obj0_f2-rob0_f2')\", \"('NC|obs0_f0-obj0_v3', 'NC|obs0_f0-rob0_v1', 'IC|obj0_f1-rob0_f1')\", \"('IC|obs0_f0-obj0_v3', 'NC|obs0_f0-rob0_v1', 'IC|obj0_f1-rob0_f1')\"], ['source', \"('NC|obs0_f0-obj0_v3', 'NC|obs0_f0-rob0_v1', 'NC|obj0_f3-rob0_v0')\", \"('NC|obs0_f0-obj0_v3', 'NC|obs0_f0-rob0_v1', 'NC|obj0_f2-rob0_f2')\", \"('NC|obs0_f0-obj0_v3', 'NC|obs0_f0-rob0_v1', 'IC|obj0_f1-rob0_f1')\", \"('IC|obs0_f0-obj0_v3', 'NC|obs0_f0-rob0_v1', 'IC|obj0_f1-rob0_f1')\", \"('NC|obs0_v0-obj0_f2', 'NC|obs0_f0-rob0_v1', 'IC|obj0_f1-rob0_f1')\"], ['source', \"('NC|obs0_f0-obj0_v3', 'NC|obs0_f0-rob0_v1', 'NC|obj0_f3-rob0_v0')\", \"('NC|obs0_f0-obj0_v3', 'NC|obs0_f0-rob0_v1', 'NC|obj0_f2-rob0_f2')\", \"('NC|obs0_f0-obj0_v3', 'NC|obs0_f0-rob0_v1', 'IC|obj0_f1-rob0_f1')\", \"('IC|obs0_f0-obj0_v3', 'NC|obs0_f0-rob0_v1', 'IC|obj0_f1-rob0_f1')\", \"('IC|obs0_v0-obj0_f2', 'NC|obs0_f0-rob0_v1', 'IC|obj0_f1-rob0_f1')\"], ['source', \"('NC|obs0_f0-obj0_v3', 'NC|obs0_f0-rob0_v1', 'NC|obj0_f3-rob0_v0')\", \"('NC|obs0_f0-obj0_v3', 'NC|obs0_f0-rob0_v1', 'NC|obj0_f2-rob0_f2')\", \"('NC|obs0_f0-obj0_v3', 'NC|obs0_f0-rob0_v1', 'IC|obj0_f1-rob0_f1')\", \"('IC|obs0_f0-obj0_v3', 'NC|obs0_f0-rob0_v1', 'IC|obj0_f1-rob0_f1')\", \"('NC|obs0_v0-obj0_f2', 'NC|obs0_f0-rob0_v1', 'IC|obj0_f1-rob0_f1')\", \"('NC|obs0_v0-obj0_f2', 'NC|obs0_f0-rob0_v1', 'NC|obj0_f1-rob0_f1')\"], ['source', \"('NC|obs0_f0-obj0_v3', 'NC|obs0_f0-rob0_v1', 'NC|obj0_f3-rob0_v0')\", \"('NC|obs0_f0-obj0_v3', 'NC|obs0_f0-rob0_v1', 'NC|obj0_f2-rob0_f2')\", \"('NC|obs0_f0-obj0_v3', 'NC|obs0_f0-rob0_v1', 'IC|obj0_f1-rob0_f1')\", \"('IC|obs0_f0-obj0_v3', 'NC|obs0_f0-rob0_v1', 'IC|obj0_f1-rob0_f1')\", \"('NC|obs0_v0-obj0_f2', 'NC|obs0_f0-rob0_v1', 'IC|obj0_f1-rob0_f1')\", \"('IC|obs0_f2-obj0_f1', 'NC|obs0_f0-rob0_v1', 'IC|obj0_f1-rob0_f1')\"], ['source', \"('NC|obs0_f0-obj0_v3', 'NC|obs0_f0-rob0_v1', 'NC|obj0_f3-rob0_v0')\", \"('NC|obs0_f0-obj0_v3', 'NC|obs0_f0-rob0_v1', 'NC|obj0_f2-rob0_f2')\", \"('NC|obs0_f0-obj0_v3', 'NC|obs0_f0-rob0_v1', 'IC|obj0_f1-rob0_f1')\", \"('IC|obs0_f0-obj0_v3', 'NC|obs0_f0-rob0_v1', 'IC|obj0_f1-rob0_f1')\", \"('NC|obs0_v0-obj0_f2', 'NC|obs0_f0-rob0_v1', 'IC|obj0_f1-rob0_f1')\", \"('IC|obs0_f2-obj0_f1', 'NC|obs0_f0-rob0_v1', 'IC|obj0_f1-rob0_f1')\", \"('IC|obs0_f2-obj0_f1', 'NC|obs0_f0-rob0_v1', 'IC|obj0_f0-rob0_v1')\"], ['source', \"('NC|obs0_f0-obj0_v3', 'NC|obs0_f0-rob0_v1', 'NC|obj0_f3-rob0_v0')\", \"('NC|obs0_f0-obj0_v3', 'NC|obs0_f0-rob0_v1', 'NC|obj0_f2-rob0_f2')\", \"('NC|obs0_f0-obj0_v3', 'NC|obs0_f0-rob0_v1', 'IC|obj0_f1-rob0_f1')\", \"('IC|obs0_f0-obj0_v3', 'NC|obs0_f0-rob0_v1', 'IC|obj0_f1-rob0_f1')\", \"('NC|obs0_v0-obj0_f2', 'NC|obs0_f0-rob0_v1', 'IC|obj0_f1-rob0_f1')\", \"('IC|obs0_f2-obj0_f1', 'NC|obs0_f0-rob0_v1', 'IC|obj0_f1-rob0_f1')\", \"('IC|obs0_f2-obj0_f1', 'NC|obs0_f0-rob0_v1', 'IC|obj0_f0-rob0_v1')\", \"('IC|obs0_f2-obj0_f1', 'NC|obs0_v0-rob0_f0', 'IC|obj0_f0-rob0_v1')\"], ['source', \"('NC|obs0_f0-obj0_v3', 'NC|obs0_f0-rob0_v1', 'NC|obj0_f3-rob0_v0')\", \"('NC|obs0_f0-obj0_v3', 'NC|obs0_f0-rob0_v1', 'NC|obj0_f2-rob0_f2')\", \"('NC|obs0_f0-obj0_v3', 'NC|obs0_f0-rob0_v1', 'IC|obj0_f1-rob0_f1')\", \"('IC|obs0_f0-obj0_v3', 'NC|obs0_f0-rob0_v1', 'IC|obj0_f1-rob0_f1')\", \"('NC|obs0_v0-obj0_f2', 'NC|obs0_f0-rob0_v1', 'IC|obj0_f1-rob0_f1')\", \"('IC|obs0_f2-obj0_f1', 'NC|obs0_f0-rob0_v1', 'IC|obj0_f1-rob0_f1')\", \"('IC|obs0_f2-obj0_f1', 'NC|obs0_f0-rob0_v1', 'IC|obj0_f0-rob0_v1')\", \"('IC|obs0_f2-obj0_f1', 'NC|obs0_v0-rob0_f0', 'IC|obj0_f0-rob0_v1')\", 'target']]\n",
    "# fmt: on\n",
    "dom_ns = ReachesCheaperContainment(graph=cg, construct_path_from_nullspaces=True)\n",
    "dom_ns.set_alg_metrics(AlgMetrics())\n",
    "dom_fs = ReachesCheaperContainment(graph=cg, construct_path_from_nullspaces=False)\n",
    "dom_fs.set_alg_metrics(AlgMetrics())\n",
    "for path in expansion_order[:-1]:\n",
    "    cg.add_vertex_path_to_graph(path)\n",
    "    node = SearchNode.from_vertex_path(path)\n",
    "    logger.info(\"Checking path: %s\", path)\n",
    "    AH_poly_ns = dom_ns._create_path_AH_polytope_from_nullspace_sets(node)\n",
    "    AH_poly_fs = dom_fs._create_path_AH_polytope(node)\n",
    "    logger.debug(f\"Dimensions of AH_poly_ns: {AH_poly_ns.T.shape}, AH_poly_fs: {AH_poly_fs.T.shape}\")\n",
    "    # They should be the same polyhedrons\n",
    "    assert dom_fs.is_contained_in(AH_poly_ns, AH_poly_fs)\n",
    "    assert dom_fs.is_contained_in(AH_poly_fs, AH_poly_ns)"
   ]
  },
  {
   "cell_type": "code",
   "execution_count": null,
   "metadata": {},
   "outputs": [],
   "source": []
  },
  {
   "cell_type": "code",
   "execution_count": 3,
   "metadata": {},
   "outputs": [],
   "source": [
    "path = expansion_order[0]\n",
    "cg.add_vertex_path_to_graph(path)\n",
    "node = SearchNode.from_vertex_path(path)\n",
    "# print(node.vertex_name)\n",
    "# cg.generate_and_plot_samples_in_set(node.vertex_name, 1)"
   ]
  },
  {
   "cell_type": "code",
   "execution_count": 4,
   "metadata": {},
   "outputs": [
    {
     "data": {
      "image/png": "[encoded data removed]",
      "text/plain": [
       "<Figure size 640x480 with 1 Axes>"
      ]
     },
     "metadata": {},
     "output_type": "display_data"
    }
   ],
   "source": [
    "cg.plot()"
   ]
  },
  {
   "cell_type": "code",
   "execution_count": 5,
   "metadata": {},
   "outputs": [],
   "source": [
    "from large_gcs.contact.contact_set import ContactSet\n",
    "from large_gcs.geometry.geometry_utils import create_selection_matrix\n",
    "\n",
    "\n",
    "def get_H_transform_rob_first_pos(node, total_dims):\n",
    "    # First, collect all the decision variables\n",
    "    v_dims = [\n",
    "        cg.vertices[name].convex_set.dim for name in node.vertex_path\n",
    "    ]\n",
    "    current_index = 0\n",
    "    # Collect the indices of the decision variables for each vertex\n",
    "    x = []\n",
    "    for dim in v_dims:\n",
    "        x.append(list(range(current_index, current_index + dim)))\n",
    "        current_index += dim\n",
    "    logger.debug(f\"x: {x}\")\n",
    "    terminal_set: ContactSet = cg.vertices[node.vertex_name].convex_set\n",
    "    # selected_indices = list(terminal_set.vars.first_obj_first_pos_from_all(x[-1])) # same\n",
    "    # selected_indices = [8,10] # robot first pos knot point BUG\n",
    "    # selected_indices = [9,11] # robot second pos knot point\n",
    "    # selected_indices = [12,13] # robot force\n",
    "    # selected_indices = [9,12] # \n",
    "    selected_indices = np.concatenate(x)\n",
    "\n",
    "    logger.debug(f\"selected_indices: {selected_indices}\")\n",
    "    return create_selection_matrix(selected_indices, total_dims)\n"
   ]
  },
  {
   "cell_type": "markdown",
   "metadata": {},
   "source": [
    "DEBUG:__main__:x: [[0, 1, 2, 3], [4, 5, 6, 7, 8, 9, 10, 11, 12, 13]]\n",
    "DEBUG:__main__:selected_indices: [4, 6]"
   ]
  },
  {
   "cell_type": "code",
   "execution_count": 6,
   "metadata": {},
   "outputs": [
    {
     "name": "stderr",
     "output_type": "stream",
     "text": [
      "DEBUG:large_gcs.domination_checkers.ah_containment_domination_checker:_create_path_AH_polytope_from_nullspace_sets\n",
      "DEBUG:large_gcs.domination_checkers.ah_containment_domination_checker:path prog is empty: False\n",
      "DEBUG:large_gcs.domination_checkers.ah_containment_domination_checker:AHContainmentDominationChecker.get_nullspace_H_transformation\n",
      "DEBUG:large_gcs.domination_checkers.ah_containment_domination_checker:X is empty: False\n",
      "DEBUG:large_gcs.domination_checkers.ah_containment_domination_checker:_create_path_AH_polytope\n",
      "DEBUG:large_gcs.domination_checkers.ah_containment_domination_checker:Checking containment\n",
      "DEBUG:large_gcs.domination_checkers.ah_containment_domination_checker:Solving containment prog\n",
      "DEBUG:large_gcs.domination_checkers.ah_containment_domination_checker:Checking containment\n",
      "DEBUG:large_gcs.domination_checkers.ah_containment_domination_checker:Solving containment prog\n"
     ]
    }
   ],
   "source": [
    "\n",
    "# dom_ns.get_H_transformation = get_H_transform_rob_first_pos\n",
    "# dom_fs.get_H_transformation = get_H_transform_rob_first_pos\n",
    "AH_poly_ns = dom_ns._create_path_AH_polytope_from_nullspace_sets(node, add_upper_bound=True)\n",
    "AH_poly_fs = dom_fs._create_path_AH_polytope(node)\n",
    "assert dom_fs.is_contained_in(AH_poly_ns, AH_poly_fs)\n",
    "assert dom_fs.is_contained_in(AH_poly_fs, AH_poly_ns)\n",
    "# cg.plot()\n",
    "\n"
   ]
  },
  {
   "cell_type": "code",
   "execution_count": 7,
   "metadata": {},
   "outputs": [
    {
     "ename": "SystemExit",
     "evalue": "Failure at geometry/optimization/vpolytope.cc:120 in VPolytope(): condition 'hpoly.IsBounded()' failed.",
     "output_type": "error",
     "traceback": [
      "An exception has occurred, use %tb to see the full traceback.\n",
      "\u001b[0;31mSystemExit\u001b[0m\u001b[0;31m:\u001b[0m Failure at geometry/optimization/vpolytope.cc:120 in VPolytope(): condition 'hpoly.IsBounded()' failed.\n"
     ]
    },
    {
     "name": "stderr",
     "output_type": "stream",
     "text": [
      "/home/shaoyuan/Documents/Software/large_gcs/.venv/lib/python3.10/site-packages/IPython/core/interactiveshell.py:3585: UserWarning: To exit: use 'exit', 'quit', or Ctrl-D.\n",
      "  warn(\"To exit: use 'exit', 'quit', or Ctrl-D.\", stacklevel=1)\n"
     ]
    }
   ],
   "source": [
    "path_ns_poly = Polyhedron(H=AH_poly_ns.P.H, h=AH_poly_ns.P.h)\n",
    "path_ns_poly.transform_vertices(AH_poly_ns.T, AH_poly_ns.t)\n",
    "# path_ns_poly.plot_transformation(AH_poly_ns.T, AH_poly_ns.t)\n"
   ]
  },
  {
   "cell_type": "code",
   "execution_count": null,
   "metadata": {},
   "outputs": [],
   "source": [
    "path_fs_poly = Polyhedron(H=AH_poly_fs.P.H, h=AH_poly_fs.P.h)\n",
    "# path_fs_poly.plot_transformation(AH_poly_fs.T, AH_poly_fs.t, marker=\"x\")\n",
    "path_fs_poly.transform_vertices(AH_poly_fs.T, AH_poly_fs.t)\n",
    "\n"
   ]
  },
  {
   "cell_type": "code",
   "execution_count": null,
   "metadata": {},
   "outputs": [],
   "source": [
    "\n",
    "from large_gcs.contact.contact_set import ContactSet\n",
    "from large_gcs.geometry.nullspace_set import NullspaceSet\n",
    "\n",
    "\n",
    "\n",
    "# for i in range(len(node.vertex_path)):\n",
    "#     logger.debug(f\"vertex {i}: {node.vertex_path[i]}\")\n",
    "#     convex_set: ContactSet = cg.vertices[node.vertex_path[i]].convex_set\n",
    "#     ns_set: NullspaceSet = cg.vertices[node.vertex_path[i]].convex_set.nullspace_set\n",
    "#     logger.debug(f\"V: {ns_set.V.shape}, x_0: {ns_set.x_0.shape}\")\n",
    "#     logger.debug(f\"{convex_set.vars.all}\")\n",
    "#     logger.debug(f\"V: \\n{ns_set.V}, \\nx_0: \\n{ns_set.x_0}\")\n"
   ]
  },
  {
   "cell_type": "code",
   "execution_count": null,
   "metadata": {},
   "outputs": [],
   "source": [
    "prog_ns, full_dim = dom_ns.get_nullspace_path_mathematical_program(node)\n",
    "h_poly_ns = HPolyhedron(prog_ns)\n",
    "logger.debug(f\"{h_poly_ns.A().shape}, {h_poly_ns.b().shape}\")\n",
    "logger.debug(f\"\\n{h_poly_ns.A()}, \\n{h_poly_ns.b()}\")\n",
    "# T_H, t_H = dom_ns.get_nullspace_H_transformation(\n",
    "#         node, full_dim=full_dim, ns_dim=h_poly.ambient_dimension()\n",
    "#     )\n",
    "# # logger.debug(f\"T_H: {T_H.shape}, t_H: {t_H.shape}\")\n",
    "# # logger.debug(f\"\\nT_H: \\n{T_H}, \\nt_H: \\n{t_H}\")\n",
    "# K, k, T, t, V, x_0 = dom_fs._nullspace_polyhedron_and_transformation_from_HPoly_and_T(\n",
    "#     h_poly, T_H, t_H\n",
    "# )\n",
    "# logger.debug(f\"K: {K.shape}, k: {k.shape}, T: {T.shape}, t: {t.shape}, V: {V.shape}, x_0: {x_0.shape}\")\n",
    "# # logger.debug(f\"\\nK: \\n{K}, \\nk: \\n{k}, \\nT: \\n{T}, \\nt: \\n{t}\")\n",
    "# # T_H = dom_fs.get_H_transformation(node, h_poly.ambient_dimension())\n",
    "# # K, k, T, t = dom_fs._nullspace_polyhedron_and_transformation_from_HPoly_and_T(\n",
    "# #     h_poly, T_H\n",
    "# # )\n",
    "# # logger.debug(f\"K: {K.shape}, k: {k.shape}, T: {T.shape}, t: {t.shape}\")\n",
    "# # logger.debug(f\"\\nK: \\n{K}, \\nk: \\n{k}, \\nT: \\n{T}, \\nt: \\n{t}\")\n",
    "# # X = pp.H_polytope(K, k)\n",
    "# # return pp.AH_polytope(t, T, X)"
   ]
  },
  {
   "cell_type": "code",
   "execution_count": null,
   "metadata": {},
   "outputs": [],
   "source": [
    "# from IPython.display import Markdown, display\n",
    "# display(Markdown(prog.ToLatex()))"
   ]
  },
  {
   "cell_type": "code",
   "execution_count": null,
   "metadata": {},
   "outputs": [],
   "source": [
    "x_0 = np.array([ 1.76776695, -4.94974747,  6.776462  , -6.42991058, -5.89256958, 0.        ])"
   ]
  },
  {
   "cell_type": "code",
   "execution_count": null,
   "metadata": {},
   "outputs": [],
   "source": [
    "x_0.shape"
   ]
  },
  {
   "cell_type": "code",
   "execution_count": null,
   "metadata": {},
   "outputs": [],
   "source": [
    "ns_set: NullspaceSet = cg.vertices[node.vertex_path[1]].convex_set.nullspace_set\n",
    "ns_set.V.shape\n",
    "ns_set.V @ x_0\n"
   ]
  },
  {
   "cell_type": "code",
   "execution_count": null,
   "metadata": {},
   "outputs": [],
   "source": [
    "cg.source_pos"
   ]
  },
  {
   "cell_type": "code",
   "execution_count": null,
   "metadata": {},
   "outputs": [],
   "source": [
    "node.vertex_path"
   ]
  },
  {
   "cell_type": "markdown",
   "metadata": {},
   "source": [
    "path x_0 should be a feasible point in the path nullspace.\n",
    "\n",
    "Ax_0 should = b"
   ]
  },
  {
   "cell_type": "code",
   "execution_count": null,
   "metadata": {},
   "outputs": [],
   "source": [
    "h_poly_ns.A().shape, h_poly_ns.b().shape"
   ]
  },
  {
   "cell_type": "code",
   "execution_count": null,
   "metadata": {},
   "outputs": [],
   "source": [
    "h_poly_ns.A() @ x_0 - h_poly_ns.b()"
   ]
  },
  {
   "cell_type": "code",
   "execution_count": null,
   "metadata": {},
   "outputs": [],
   "source": []
  },
  {
   "cell_type": "code",
   "execution_count": null,
   "metadata": {},
   "outputs": [],
   "source": []
  },
  {
   "cell_type": "code",
   "execution_count": null,
   "metadata": {},
   "outputs": [],
   "source": [
    "from large_gcs.geometry.polyhedron import Polyhedron\n",
    "\n",
    "prog_ns, full_dim = dom_ns.get_nullspace_path_mathematical_program(node)\n",
    "h_poly_ns = HPolyhedron(prog_ns)\n",
    "# logger.debug(f\"{h_poly.A().shape}, {h_poly.b().shape}\")\n",
    "# logger.debug(f\"\\n{h_poly.A()}, \\n{h_poly.b()}\")\n",
    "dom_ns.get_H_transformation = get_H_transform_rob_first_pos\n",
    "T_H, t_H = dom_ns.get_nullspace_H_transformation(\n",
    "        node, full_dim=full_dim\n",
    "    )\n",
    "# # logger.debug(f\"T_H: {T_H.shape}, t_H: {t_H.shape}\")\n",
    "# # logger.debug(f\"\\nT_H: \\n{T_H}, \\nt_H: \\n{t_H}\")\n",
    "K, k, T, t = dom_fs._nullspace_polyhedron_and_transformation_from_HPoly_and_T(\n",
    "    h_poly_ns, T_H, t_H)\n",
    "\n",
    "prog_fs = dom_fs.get_path_constraint_mathematical_program(node)\n",
    "\n",
    "\n",
    "\n",
    "path_ns_poly = Polyhedron(H=K, h=k)\n",
    "path_ns_poly.plot_transformation(T, t)"
   ]
  },
  {
   "cell_type": "code",
   "execution_count": null,
   "metadata": {},
   "outputs": [],
   "source": []
  },
  {
   "cell_type": "code",
   "execution_count": null,
   "metadata": {},
   "outputs": [],
   "source": [
    "cg.plot()\n",
    "path_ns_poly.plot()\n"
   ]
  },
  {
   "cell_type": "code",
   "execution_count": null,
   "metadata": {},
   "outputs": [],
   "source": []
  }
 ],
 "metadata": {
  "kernelspec": {
   "display_name": ".venv",
   "language": "python",
   "name": "python3"
  },
  "language_info": {
   "codemirror_mode": {
    "name": "ipython",
    "version": 3
   },
   "file_extension": ".py",
   "mimetype": "text/x-python",
   "name": "python",
   "nbconvert_exporter": "python",
   "pygments_lexer": "ipython3",
   "version": "3.10.12"
  }
 },
 "nbformat": 4,
 "nbformat_minor": 2
}
