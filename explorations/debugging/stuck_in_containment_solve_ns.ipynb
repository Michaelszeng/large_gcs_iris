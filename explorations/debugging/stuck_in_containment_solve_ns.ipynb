{
 "cells": [
  {
   "cell_type": "code",
   "execution_count": 1,
   "metadata": {},
   "outputs": [
    {
     "name": "stdout",
     "output_type": "stream",
     "text": [
      "Set parameter Username\n",
      "Academic license - for non-commercial use only - expires 2025-06-05\n"
     ]
    },
    {
     "name": "stderr",
     "output_type": "stream",
     "text": [
      "/home/shaoyuan/Documents/Software/pypolycontain/pypolycontain/conversions.py:19: UserWarning: WARNING: You don't have CDD package installed. Unable to visualize polytopes. You may still visualize zonotopes.\n",
      "  warnings.warn(\"WARNING: You don't have CDD package installed. Unable to visualize polytopes. You may still visualize zonotopes.\")\n",
      "/home/shaoyuan/Documents/Software/pypolycontain/pypolycontain/containment.py:16: UserWarning: You don't have CDD package installed. Unable to run cone ray generation.\n",
      "  warnings.warn(\"You don't have CDD package installed. Unable to run cone ray generation.\")\n"
     ]
    }
   ],
   "source": [
    "from large_gcs.algorithms.search_algorithm import AlgMetrics, SearchNode\n",
    "from large_gcs.domination_checkers.reaches_new_containment import ReachesNewContainment\n",
    "from large_gcs.graph.incremental_contact_graph import IncrementalContactGraph\n",
    "from large_gcs.graph_generators.contact_graph_generator import ContactGraphGeneratorParams\n",
    "from large_gcs.geometry.polyhedron import Polyhedron\n",
    "\n",
    "import numpy as np\n",
    "import logging\n",
    "from pydrake.all import (MathematicalProgram, HPolyhedron)\n",
    "\n",
    "logging.basicConfig(level=logging.WARN)\n",
    "logging.getLogger(\"large_gcs\").setLevel(logging.DEBUG)\n",
    "\n",
    "logger = logging.getLogger(__name__)\n",
    "logger.setLevel(logging.DEBUG)\n",
    "from large_gcs.domination_checkers.reaches_cheaper_containment import ReachesCheaperContainment\n"
   ]
  },
  {
   "cell_type": "code",
   "execution_count": 2,
   "metadata": {},
   "outputs": [
    {
     "name": "stderr",
     "output_type": "stream",
     "text": [
      "INFO:large_gcs.graph.contact_graph:Creating vertex costs...\n",
      "100%|██████████| 2/2 [00:00<00:00, 44384.17it/s]\n",
      "INFO:large_gcs.graph.graph:Adding 2 vertices to graph...\n",
      "100%|██████████| 2/2 [00:00<00:00, 21454.24it/s]\n",
      "INFO:large_gcs.graph.contact_graph:Generating contact pair modes for 3 body pairs...\n",
      "100%|██████████| 3/3 [00:00<00:00, 181.42it/s]\n",
      "INFO:large_gcs.graph.incremental_contact_graph:Calculating adjacent contact pair modes (62)\n",
      "100%|██████████| 62/62 [00:00<00:00, 9483.84it/s]\n"
     ]
    }
   ],
   "source": [
    "\n",
    "from large_gcs.domination_checkers.ah_containment_last_pos import ReachesCheaperLastPosContainment\n",
    "from large_gcs.domination_checkers.sampling_containment_domination_checker import ReachesCheaperLastPosSamplingContainment\n",
    "from large_gcs.domination_checkers.sampling_containment_double_domination_checker import ReachesCheaperLastPosSamplingContainmentDouble\n",
    "\n",
    "\n",
    "graph_file = ContactGraphGeneratorParams.inc_graph_file_path_from_name(\n",
    "    \"cg_simple_5\"\n",
    ")\n",
    "cg = IncrementalContactGraph.load_from_file(\n",
    "    graph_file,\n",
    "    should_incl_simul_mode_switches=False,\n",
    "    should_add_const_edge_cost=True,\n",
    "    should_add_gcs=True,\n",
    "    should_use_l1_norm_vertex_cost=True,\n",
    ")\n",
    "dom_ns = ReachesCheaperLastPosContainment(graph=cg, construct_path_from_nullspaces=True)\n",
    "dom_ns.set_alg_metrics(AlgMetrics())\n",
    "dom_fs = ReachesCheaperLastPosContainment(graph=cg, construct_path_from_nullspaces=False)\n",
    "dom_fs.set_alg_metrics(AlgMetrics())\n",
    "dom_double = ReachesCheaperLastPosSamplingContainmentDouble(graph=cg, construct_path_from_nullspaces=False, num_samples_per_vertex=1)\n",
    "dom_double.set_alg_metrics(AlgMetrics())"
   ]
  },
  {
   "cell_type": "code",
   "execution_count": 3,
   "metadata": {},
   "outputs": [],
   "source": [
    "cand_path =['source', \"('NC|obs0_f1-obj0_f1', 'NC|obs0_f0-rob0_f0', 'NC|obj0_f1-rob0_f3')\", \"('NC|obs0_f1-obj0_f1', 'NC|obs0_f1-rob0_f1', 'NC|obj0_f1-rob0_f3')\", \"('NC|obs0_f1-obj0_f1', 'NC|obs0_f1-rob0_f1', 'IC|obj0_f1-rob0_f3')\", \"('NC|obs0_f1-obj0_f1', 'NC|obs0_f1-rob0_f1', 'IC|obj0_f2-rob0_f0')\", \"('NC|obs0_f1-obj0_f1', 'NC|obs0_f1-rob0_f1', 'IC|obj0_f3-rob0_f1')\", \"('NC|obs0_f1-obj0_f1', 'NC|obs0_f1-rob0_f1', 'NC|obj0_f3-rob0_f1')\", \"('NC|obs0_f1-obj0_f1', 'NC|obs0_f0-rob0_f0', 'NC|obj0_f3-rob0_f1')\", \"('NC|obs0_f2-obj0_f2', 'NC|obs0_f0-rob0_f0', 'NC|obj0_f3-rob0_f1')\"]\n",
    "alt_path  =['source', \"('NC|obs0_f1-obj0_f1', 'NC|obs0_f0-rob0_f0', 'NC|obj0_f1-rob0_f3')\", \"('NC|obs0_f1-obj0_f1', 'NC|obs0_f1-rob0_f1', 'NC|obj0_f1-rob0_f3')\", \"('NC|obs0_f1-obj0_f1', 'NC|obs0_f1-rob0_f1', 'IC|obj0_f1-rob0_f3')\", \"('NC|obs0_f1-obj0_f1', 'NC|obs0_f1-rob0_f1', 'IC|obj0_f2-rob0_f0')\", \"('NC|obs0_f1-obj0_f1', 'NC|obs0_f1-rob0_f1', 'NC|obj0_f3-rob0_f1')\", \"('NC|obs0_f1-obj0_f1', 'NC|obs0_f0-rob0_f0', 'NC|obj0_f3-rob0_f1')\", \"('NC|obs0_f2-obj0_f2', 'NC|obs0_f0-rob0_f0', 'NC|obj0_f3-rob0_f1')\"]\n",
    "\n",
    "cg.add_vertex_path_to_graph(cand_path)\n",
    "cg.add_vertex_path_to_graph(alt_path)\n"
   ]
  },
  {
   "cell_type": "code",
   "execution_count": 4,
   "metadata": {},
   "outputs": [
    {
     "data": {
      "text/plain": [
       "9"
      ]
     },
     "execution_count": 4,
     "metadata": {},
     "output_type": "execute_result"
    }
   ],
   "source": [
    "len(cand_path)"
   ]
  },
  {
   "cell_type": "code",
   "execution_count": 5,
   "metadata": {},
   "outputs": [
    {
     "name": "stderr",
     "output_type": "stream",
     "text": [
      "DEBUG:large_gcs.domination_checkers.sampling_domination_checker:Adding samples for ('NC|obs0_f2-obj0_f2', 'NC|obs0_f0-rob0_f0', 'NC|obj0_f3-rob0_f1')\n",
      "DEBUG:large_gcs.geometry.convex_set:Sampled 1 points from convex set\n",
      "DEBUG:large_gcs.domination_checkers.ah_containment_domination_checker:create_path_AH_polytope_from_nullspace_sets\n",
      "DEBUG:large_gcs.domination_checkers.ah_containment_domination_checker:nullspace_polyhedron_and_transformation_from_HPoly_and_T: Shape of input h_poly: (314, 78)\n",
      "DEBUG:large_gcs.domination_checkers.ah_containment_domination_checker:create_path_AH_polytope_from_full_sets\n",
      "DEBUG:large_gcs.domination_checkers.ah_containment_domination_checker:nullspace_polyhedron_and_transformation_from_HPoly_and_T: Shape of input h_poly: (398, 120)\n",
      "DEBUG:large_gcs.domination_checkers.sampling_containment_double_domination_checker:Checking domination of candidate node terminating at vertex ('NC|obs0_f2-obj0_f2', 'NC|obs0_f0-rob0_f0', 'NC|obj0_f3-rob0_f1')\n",
      " via path: ['source', \"('NC|obs0_f1-obj0_f1', 'NC|obs0_f0-rob0_f0', 'NC|obj0_f1-rob0_f3')\", \"('NC|obs0_f1-obj0_f1', 'NC|obs0_f1-rob0_f1', 'NC|obj0_f1-rob0_f3')\", \"('NC|obs0_f1-obj0_f1', 'NC|obs0_f1-rob0_f1', 'IC|obj0_f1-rob0_f3')\", \"('NC|obs0_f1-obj0_f1', 'NC|obs0_f1-rob0_f1', 'IC|obj0_f2-rob0_f0')\", \"('NC|obs0_f1-obj0_f1', 'NC|obs0_f1-rob0_f1', 'IC|obj0_f3-rob0_f1')\", \"('NC|obs0_f1-obj0_f1', 'NC|obs0_f1-rob0_f1', 'NC|obj0_f3-rob0_f1')\", \"('NC|obs0_f1-obj0_f1', 'NC|obs0_f0-rob0_f0', 'NC|obj0_f3-rob0_f1')\", \"('NC|obs0_f2-obj0_f2', 'NC|obs0_f0-rob0_f0', 'NC|obj0_f3-rob0_f1')\"]\n",
      "DEBUG:large_gcs.domination_checkers.ah_containment_domination_checker:create_path_AH_polytope_from_nullspace_sets\n",
      "DEBUG:large_gcs.domination_checkers.ah_containment_domination_checker:nullspace_polyhedron_and_transformation_from_HPoly_and_T: Shape of input h_poly: (273, 69)\n",
      "DEBUG:large_gcs.domination_checkers.ah_containment_domination_checker:create_path_AH_polytope_from_full_sets\n",
      "DEBUG:large_gcs.domination_checkers.ah_containment_domination_checker:nullspace_polyhedron_and_transformation_from_HPoly_and_T: Shape of input h_poly: (345, 105)\n",
      "DEBUG:large_gcs.domination_checkers.sampling_containment_double_domination_checker:Checking if candidate node is dominated by alternate node with path:['source', \"('NC|obs0_f1-obj0_f1', 'NC|obs0_f0-rob0_f0', 'NC|obj0_f1-rob0_f3')\", \"('NC|obs0_f1-obj0_f1', 'NC|obs0_f1-rob0_f1', 'NC|obj0_f1-rob0_f3')\", \"('NC|obs0_f1-obj0_f1', 'NC|obs0_f1-rob0_f1', 'IC|obj0_f1-rob0_f3')\", \"('NC|obs0_f1-obj0_f1', 'NC|obs0_f1-rob0_f1', 'IC|obj0_f2-rob0_f0')\", \"('NC|obs0_f1-obj0_f1', 'NC|obs0_f1-rob0_f1', 'NC|obj0_f3-rob0_f1')\", \"('NC|obs0_f1-obj0_f1', 'NC|obs0_f0-rob0_f0', 'NC|obj0_f3-rob0_f1')\", \"('NC|obs0_f2-obj0_f2', 'NC|obs0_f0-rob0_f0', 'NC|obj0_f3-rob0_f1')\"]\n",
      "DEBUG:large_gcs.domination_checkers.sampling_containment_double_domination_checker:fs finished first\n"
     ]
    },
    {
     "data": {
      "text/plain": [
       "False"
      ]
     },
     "execution_count": 5,
     "metadata": {},
     "output_type": "execute_result"
    }
   ],
   "source": [
    "cand_node = SearchNode.from_vertex_path(cand_path)\n",
    "alt_node = SearchNode.from_vertex_path(alt_path)\n",
    "dom_double.is_dominated(cand_node, [alt_node])\n",
    "# finishes in 6.7s"
   ]
  },
  {
   "cell_type": "code",
   "execution_count": 8,
   "metadata": {},
   "outputs": [
    {
     "name": "stderr",
     "output_type": "stream",
     "text": [
      "DEBUG:large_gcs.domination_checkers.ah_containment_domination_checker:Checking domination of candidate node terminating at vertex ('NC|obs0_f2-obj0_f2', 'NC|obs0_f0-rob0_f0', 'NC|obj0_f3-rob0_f1')\n",
      " via path: ['source', \"('NC|obs0_f1-obj0_f1', 'NC|obs0_f0-rob0_f0', 'NC|obj0_f1-rob0_f3')\", \"('NC|obs0_f1-obj0_f1', 'NC|obs0_f1-rob0_f1', 'NC|obj0_f1-rob0_f3')\", \"('NC|obs0_f1-obj0_f1', 'NC|obs0_f1-rob0_f1', 'IC|obj0_f1-rob0_f3')\", \"('NC|obs0_f1-obj0_f1', 'NC|obs0_f1-rob0_f1', 'IC|obj0_f2-rob0_f0')\", \"('NC|obs0_f1-obj0_f1', 'NC|obs0_f1-rob0_f1', 'IC|obj0_f3-rob0_f1')\", \"('NC|obs0_f1-obj0_f1', 'NC|obs0_f1-rob0_f1', 'NC|obj0_f3-rob0_f1')\", \"('NC|obs0_f1-obj0_f1', 'NC|obs0_f0-rob0_f0', 'NC|obj0_f3-rob0_f1')\", \"('NC|obs0_f2-obj0_f2', 'NC|obs0_f0-rob0_f0', 'NC|obj0_f3-rob0_f1')\"]\n",
      "DEBUG:large_gcs.domination_checkers.ah_containment_domination_checker:create_path_AH_polytope_from_full_sets\n",
      "DEBUG:large_gcs.domination_checkers.ah_containment_domination_checker:nullspace_polyhedron_and_transformation_from_HPoly_and_T: Shape of input h_poly: (398, 120)\n",
      "DEBUG:large_gcs.domination_checkers.ah_containment_domination_checker:Checking if candidate node is dominated by alternate node with path:['source', \"('NC|obs0_f1-obj0_f1', 'NC|obs0_f0-rob0_f0', 'NC|obj0_f1-rob0_f3')\", \"('NC|obs0_f1-obj0_f1', 'NC|obs0_f1-rob0_f1', 'NC|obj0_f1-rob0_f3')\", \"('NC|obs0_f1-obj0_f1', 'NC|obs0_f1-rob0_f1', 'IC|obj0_f1-rob0_f3')\", \"('NC|obs0_f1-obj0_f1', 'NC|obs0_f1-rob0_f1', 'IC|obj0_f2-rob0_f0')\", \"('NC|obs0_f1-obj0_f1', 'NC|obs0_f1-rob0_f1', 'NC|obj0_f3-rob0_f1')\", \"('NC|obs0_f1-obj0_f1', 'NC|obs0_f0-rob0_f0', 'NC|obj0_f3-rob0_f1')\", \"('NC|obs0_f2-obj0_f2', 'NC|obs0_f0-rob0_f0', 'NC|obj0_f3-rob0_f1')\"]\n",
      "DEBUG:large_gcs.domination_checkers.ah_containment_domination_checker:create_path_AH_polytope_from_full_sets\n",
      "DEBUG:large_gcs.domination_checkers.ah_containment_domination_checker:nullspace_polyhedron_and_transformation_from_HPoly_and_T: Shape of input h_poly: (345, 105)\n",
      "DEBUG:large_gcs.domination_checkers.ah_containment_domination_checker:Checking containment\n",
      "DEBUG:large_gcs.domination_checkers.ah_containment_domination_checker:Solving containment prog\n"
     ]
    },
    {
     "data": {
      "text/plain": [
       "False"
      ]
     },
     "execution_count": 8,
     "metadata": {},
     "output_type": "execute_result"
    }
   ],
   "source": [
    "cand_node = SearchNode.from_vertex_path(cand_path)\n",
    "alt_node = SearchNode.from_vertex_path(alt_path)\n",
    "dom_fs.is_dominated(cand_node, [alt_node])\n",
    "# finishes in 3.4s"
   ]
  },
  {
   "cell_type": "code",
   "execution_count": 9,
   "metadata": {},
   "outputs": [
    {
     "name": "stderr",
     "output_type": "stream",
     "text": [
      "DEBUG:large_gcs.domination_checkers.ah_containment_domination_checker:Checking domination of candidate node terminating at vertex ('NC|obs0_f2-obj0_f2', 'NC|obs0_f0-rob0_f0', 'NC|obj0_f3-rob0_f1')\n",
      " via path: ['source', \"('NC|obs0_f1-obj0_f1', 'NC|obs0_f0-rob0_f0', 'NC|obj0_f1-rob0_f3')\", \"('NC|obs0_f1-obj0_f1', 'NC|obs0_f1-rob0_f1', 'NC|obj0_f1-rob0_f3')\", \"('NC|obs0_f1-obj0_f1', 'NC|obs0_f1-rob0_f1', 'IC|obj0_f1-rob0_f3')\", \"('NC|obs0_f1-obj0_f1', 'NC|obs0_f1-rob0_f1', 'IC|obj0_f2-rob0_f0')\", \"('NC|obs0_f1-obj0_f1', 'NC|obs0_f1-rob0_f1', 'IC|obj0_f3-rob0_f1')\", \"('NC|obs0_f1-obj0_f1', 'NC|obs0_f1-rob0_f1', 'NC|obj0_f3-rob0_f1')\", \"('NC|obs0_f1-obj0_f1', 'NC|obs0_f0-rob0_f0', 'NC|obj0_f3-rob0_f1')\", \"('NC|obs0_f2-obj0_f2', 'NC|obs0_f0-rob0_f0', 'NC|obj0_f3-rob0_f1')\"]\n",
      "DEBUG:large_gcs.domination_checkers.ah_containment_domination_checker:create_path_AH_polytope_from_nullspace_sets\n",
      "DEBUG:large_gcs.domination_checkers.ah_containment_domination_checker:nullspace_polyhedron_and_transformation_from_HPoly_and_T: Shape of input h_poly: (314, 78)\n",
      "DEBUG:large_gcs.domination_checkers.ah_containment_domination_checker:Checking if candidate node is dominated by alternate node with path:['source', \"('NC|obs0_f1-obj0_f1', 'NC|obs0_f0-rob0_f0', 'NC|obj0_f1-rob0_f3')\", \"('NC|obs0_f1-obj0_f1', 'NC|obs0_f1-rob0_f1', 'NC|obj0_f1-rob0_f3')\", \"('NC|obs0_f1-obj0_f1', 'NC|obs0_f1-rob0_f1', 'IC|obj0_f1-rob0_f3')\", \"('NC|obs0_f1-obj0_f1', 'NC|obs0_f1-rob0_f1', 'IC|obj0_f2-rob0_f0')\", \"('NC|obs0_f1-obj0_f1', 'NC|obs0_f1-rob0_f1', 'NC|obj0_f3-rob0_f1')\", \"('NC|obs0_f1-obj0_f1', 'NC|obs0_f0-rob0_f0', 'NC|obj0_f3-rob0_f1')\", \"('NC|obs0_f2-obj0_f2', 'NC|obs0_f0-rob0_f0', 'NC|obj0_f3-rob0_f1')\"]\n",
      "DEBUG:large_gcs.domination_checkers.ah_containment_domination_checker:create_path_AH_polytope_from_nullspace_sets\n",
      "DEBUG:large_gcs.domination_checkers.ah_containment_domination_checker:nullspace_polyhedron_and_transformation_from_HPoly_and_T: Shape of input h_poly: (273, 69)\n",
      "DEBUG:large_gcs.domination_checkers.ah_containment_domination_checker:Checking containment\n"
     ]
    }
   ],
   "source": [
    "cand_node = SearchNode.from_vertex_path(cand_path)\n",
    "alt_node = SearchNode.from_vertex_path(alt_path)\n",
    "dom_ns.is_dominated(cand_node, [alt_node])"
   ]
  },
  {
   "cell_type": "code",
   "execution_count": null,
   "metadata": {},
   "outputs": [],
   "source": []
  },
  {
   "cell_type": "code",
   "execution_count": null,
   "metadata": {},
   "outputs": [],
   "source": []
  }
 ],
 "metadata": {
  "kernelspec": {
   "display_name": ".venv",
   "language": "python",
   "name": "python3"
  },
  "language_info": {
   "codemirror_mode": {
    "name": "ipython",
    "version": 3
   },
   "file_extension": ".py",
   "mimetype": "text/x-python",
   "name": "python",
   "nbconvert_exporter": "python",
   "pygments_lexer": "ipython3",
   "version": "3.10.12"
  }
 },
 "nbformat": 4,
 "nbformat_minor": 2
}
