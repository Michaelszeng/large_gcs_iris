{
 "cells": [
  {
   "cell_type": "markdown",
   "metadata": {},
   "source": [
    "# Understanding whether the edge constraint is making solve convex restriction fail"
   ]
  },
  {
   "cell_type": "code",
   "execution_count": 1,
   "metadata": {},
   "outputs": [],
   "source": [
    "from large_gcs.geometry.point import Point\n",
    "from large_gcs.geometry.polyhedron import Polyhedron\n",
    "from large_gcs.graph.cost_constraint_factory import (\n",
    "    create_2d_x_equality_edge_constraint,\n",
    "    create_2d_y_equality_edge_constraint,\n",
    "    create_l2norm_edge_cost,\n",
    "    create_l2norm_squared_edge_cost,\n",
    ")\n",
    "from large_gcs.graph.graph import DefaultGraphCostsConstraints, Edge, Graph"
   ]
  },
  {
   "cell_type": "markdown",
   "metadata": {},
   "source": [
    "##  Two point graphs"
   ]
  },
  {
   "cell_type": "code",
   "execution_count": 2,
   "metadata": {},
   "outputs": [],
   "source": [
    "def create_two_point_hor_graph(add_constraint=False) -> Graph:\n",
    "    G = Graph()\n",
    "    sets = (\n",
    "        Point((0, 0)),\n",
    "        Point((1, 0)),\n",
    "    )\n",
    "    vertex_names = (\"s\", \"t\")\n",
    "    G.add_vertices_from_sets(sets, names=vertex_names)\n",
    "    G.set_source(\"s\")\n",
    "    G.set_target(\"t\")\n",
    "    if add_constraint:\n",
    "        G.add_edge(Edge(\"s\", \"t\", constraints=[create_2d_y_equality_edge_constraint()]))\n",
    "    else:\n",
    "        G.add_edge(Edge(\"s\", \"t\"))\n",
    "    return G"
   ]
  },
  {
   "cell_type": "code",
   "execution_count": 3,
   "metadata": {},
   "outputs": [
    {
     "name": "stderr",
     "output_type": "stream",
     "text": [
      "100%|██████████| 2/2 [00:00<00:00, 12210.49it/s]\n"
     ]
    },
    {
     "data": {
      "text/plain": [
       "ShortestPathSolution(is_success=True, cost=0.0, time=0.0020538229728117585, vertex_path=['s', 't'], ambient_path=[array([0., 0.]), array([1., 0.])], flows=[], result=<pydrake.solvers.MathematicalProgramResult object at 0x7f7c4bb9cc70>)"
      ]
     },
     "execution_count": 3,
     "metadata": {},
     "output_type": "execute_result"
    }
   ],
   "source": [
    "# No constraint\n",
    "G = create_two_point_hor_graph(add_constraint=False)\n",
    "G.solve_convex_restriction(G.edge_keys)"
   ]
  },
  {
   "cell_type": "code",
   "execution_count": 4,
   "metadata": {},
   "outputs": [
    {
     "name": "stderr",
     "output_type": "stream",
     "text": [
      "100%|██████████| 2/2 [00:00<00:00, 14169.95it/s]\n"
     ]
    },
    {
     "data": {
      "text/plain": [
       "ShortestPathSolution(is_success=True, cost=0.0, time=4.4204003643244505e-05, vertex_path=['s', 't'], ambient_path=[array([0., 0.]), array([1., 0.])], flows=[], result=<pydrake.solvers.MathematicalProgramResult object at 0x7f7c4a27dd70>)"
      ]
     },
     "execution_count": 4,
     "metadata": {},
     "output_type": "execute_result"
    }
   ],
   "source": [
    "# With constraint\n",
    "G = create_two_point_hor_graph(add_constraint=False)\n",
    "G.solve_convex_restriction(G.edge_keys)"
   ]
  },
  {
   "cell_type": "code",
   "execution_count": 5,
   "metadata": {},
   "outputs": [],
   "source": [
    "def create_two_point_ver_graph(add_constraint=False) -> Graph:\n",
    "    G = Graph()\n",
    "    sets = (\n",
    "        Point((0, 0)),\n",
    "        Point((0, 1)),\n",
    "    )\n",
    "    vertex_names = (\"s\", \"t\")\n",
    "    G.add_vertices_from_sets(sets, names=vertex_names)\n",
    "    G.set_source(\"s\")\n",
    "    G.set_target(\"t\")\n",
    "    if add_constraint:\n",
    "        G.add_edge(Edge(\"s\", \"t\", constraints=[create_2d_x_equality_edge_constraint()]))\n",
    "    else:\n",
    "        G.add_edge(Edge(\"s\", \"t\"))\n",
    "    return G"
   ]
  },
  {
   "cell_type": "code",
   "execution_count": 6,
   "metadata": {},
   "outputs": [
    {
     "name": "stderr",
     "output_type": "stream",
     "text": [
      "100%|██████████| 2/2 [00:00<00:00, 7951.29it/s]\n"
     ]
    },
    {
     "data": {
      "text/plain": [
       "ShortestPathSolution(is_success=True, cost=0.0, time=4.4248008634895086e-05, vertex_path=['s', 't'], ambient_path=[array([0., 0.]), array([0., 1.])], flows=[], result=<pydrake.solvers.MathematicalProgramResult object at 0x7f7c567bfc30>)"
      ]
     },
     "execution_count": 6,
     "metadata": {},
     "output_type": "execute_result"
    }
   ],
   "source": [
    "# No constraint\n",
    "G = create_two_point_ver_graph(add_constraint=False)\n",
    "G.solve_convex_restriction(G.edge_keys)"
   ]
  },
  {
   "cell_type": "code",
   "execution_count": 7,
   "metadata": {},
   "outputs": [
    {
     "name": "stderr",
     "output_type": "stream",
     "text": [
      "100%|██████████| 2/2 [00:00<00:00, 5957.82it/s]\n"
     ]
    },
    {
     "data": {
      "text/plain": [
       "ShortestPathSolution(is_success=True, cost=0.0, time=4.998204531148076e-05, vertex_path=['s', 't'], ambient_path=[array([0., 0.]), array([0., 1.])], flows=[], result=<pydrake.solvers.MathematicalProgramResult object at 0x7f7c31da1030>)"
      ]
     },
     "execution_count": 7,
     "metadata": {},
     "output_type": "execute_result"
    }
   ],
   "source": [
    "# With constraint\n",
    "G = create_two_point_ver_graph(add_constraint=True)\n",
    "G.solve_convex_restriction(G.edge_keys)"
   ]
  },
  {
   "cell_type": "markdown",
   "metadata": {},
   "source": [
    "## three point graphs"
   ]
  },
  {
   "cell_type": "code",
   "execution_count": 28,
   "metadata": {},
   "outputs": [],
   "source": [
    "def create_three_point_graph(add_constraint=False) -> Graph:\n",
    "    G = Graph()\n",
    "    sets = (\n",
    "        Point((0, 0)),\n",
    "        Polyhedron.from_vertices([[1, -1], [2, -1], [2, 1], [1, 1]]),\n",
    "        # Point((2,0)),\n",
    "        # Point((3,0)),\n",
    "        Point((1.5, 0.8)),\n",
    "    )\n",
    "    vertex_names = (\"s\", \"a\", \"t\")\n",
    "    G.add_vertices_from_sets(sets, names=vertex_names)\n",
    "    G.set_source(\"s\")\n",
    "    G.set_target(\"t\")\n",
    "    if add_constraint:\n",
    "        G.add_edge(Edge(\"s\", \"a\", constraints=[create_2d_y_equality_edge_constraint()]))\n",
    "        G.add_edge(Edge(\"a\", \"t\"))\n",
    "    else:\n",
    "        G.add_edge(Edge(\"s\", \"a\"))\n",
    "        G.add_edge(Edge(\"a\", \"t\"))\n",
    "    return G"
   ]
  },
  {
   "cell_type": "code",
   "execution_count": 29,
   "metadata": {},
   "outputs": [
    {
     "name": "stderr",
     "output_type": "stream",
     "text": [
      "100%|██████████| 3/3 [00:00<00:00, 15160.13it/s]"
     ]
    },
    {
     "name": "stdout",
     "output_type": "stream",
     "text": [
      "is_success: True, cost: 0, time: 5.63e-05, vertex_path: ['s', 'a', 't'], ambient_path: [array([0., 0.]), array([ 1., -1.]), array([1.5, 0.8])], flows: [], result: <pydrake.solvers.MathematicalProgramResult object at 0x7f7c304cdef0>\n"
     ]
    },
    {
     "name": "stderr",
     "output_type": "stream",
     "text": [
      "\n"
     ]
    },
    {
     "data": {
      "image/png": "[encoded data removed]",
      "text/plain": [
       "<Figure size 640x480 with 1 Axes>"
      ]
     },
     "metadata": {},
     "output_type": "display_data"
    }
   ],
   "source": [
    "# No constraint\n",
    "G = create_three_point_graph(add_constraint=False)\n",
    "G.plot_sets()\n",
    "G.plot_set_labels()\n",
    "G.plot_edges()\n",
    "sol = G.solve_convex_restriction(G.edge_keys)\n",
    "print(sol)\n",
    "G.plot_path(sol.ambient_path)"
   ]
  },
  {
   "cell_type": "code",
   "execution_count": 30,
   "metadata": {},
   "outputs": [
    {
     "name": "stderr",
     "output_type": "stream",
     "text": [
      "100%|██████████| 3/3 [00:00<00:00, 9931.26it/s]\n"
     ]
    },
    {
     "name": "stdout",
     "output_type": "stream",
     "text": [
      "is_success: True, cost: 0, time: 8.3e-05, vertex_path: ['s', 'a', 't'], ambient_path: [array([0., 0.]), array([ 1., -0.]), array([1.5, 0.8])], flows: [], result: <pydrake.solvers.MathematicalProgramResult object at 0x7f7c304e1170>\n"
     ]
    },
    {
     "data": {
      "image/png": "[encoded data removed]",
      "text/plain": [
       "<Figure size 640x480 with 1 Axes>"
      ]
     },
     "metadata": {},
     "output_type": "display_data"
    }
   ],
   "source": [
    "# With constraint\n",
    "G = create_three_point_graph(add_constraint=True)\n",
    "G.plot_sets()\n",
    "G.plot_set_labels()\n",
    "G.plot_edges()\n",
    "sol = G.solve_convex_restriction(G.edge_keys)\n",
    "print(sol)\n",
    "G.plot_path(sol.ambient_path)"
   ]
  },
  {
   "cell_type": "markdown",
   "metadata": {},
   "source": [
    "The constraint issue has been resolved, but the l2norm vs l2norm squared cost issue is still unresolved"
   ]
  },
  {
   "cell_type": "code",
   "execution_count": null,
   "metadata": {},
   "outputs": [],
   "source": []
  }
 ],
 "metadata": {
  "kernelspec": {
   "display_name": ".venv",
   "language": "python",
   "name": "python3"
  },
  "language_info": {
   "codemirror_mode": {
    "name": "ipython",
    "version": 3
   },
   "file_extension": ".py",
   "mimetype": "text/x-python",
   "name": "python",
   "nbconvert_exporter": "python",
   "pygments_lexer": "ipython3",
   "version": "3.8.10"
  }
 },
 "nbformat": 4,
 "nbformat_minor": 2
}
