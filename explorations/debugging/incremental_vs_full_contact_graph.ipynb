{
 "cells": [
  {
   "cell_type": "code",
   "execution_count": 1,
   "metadata": {},
   "outputs": [],
   "source": [
    "from large_gcs.contact.contact_regions_set import ContactRegionParams\n",
    "from large_gcs.graph_generators.contact_graph_generator import ContactGraphGenerator, ContactGraphGeneratorParams\n",
    "from large_gcs.graph.contact_graph import ContactGraph\n",
    "from large_gcs.graph_generators.contact_graph_generator import ContactGraphGeneratorParams\n",
    "from large_gcs.graph.incremental_contact_graph import IncrementalContactGraph\n",
    "\n",
    "import logging\n",
    "logging.basicConfig(level=logging.WARN)\n",
    "logging.getLogger(\"large_gcs\").setLevel(logging.DEBUG)\n",
    "logging.getLogger(\"large_gcs.geometry.convex_set\").setLevel(logging.INFO)\n",
    "logger = logging.getLogger(__name__)\n",
    "import numpy as np\n",
    "import matplotlib.pyplot as plt"
   ]
  },
  {
   "cell_type": "code",
   "execution_count": 2,
   "metadata": {},
   "outputs": [
    {
     "name": "stderr",
     "output_type": "stream",
     "text": [
      "INFO:large_gcs.graph.contact_graph:Generating contact pair modes for 1 body pairs...\n"
     ]
    },
    {
     "name": "stdout",
     "output_type": "stream",
     "text": [
      "Set parameter Username\n",
      "Academic license - for non-commercial use only - expires 2025-06-05\n"
     ]
    },
    {
     "name": "stderr",
     "output_type": "stream",
     "text": [
      "100%|██████████| 1/1 [00:00<00:00, 146.74it/s]\n",
      "INFO:large_gcs.graph.contact_graph:Loading 8 contact pair modes for 2 bodies...\n",
      "INFO:large_gcs.graph.contact_graph:Generating contact sets for 8 sets...\n",
      "100%|██████████| 8/8 [00:00<00:00, 3053.18it/s]\n",
      "INFO:large_gcs.graph.contact_graph:Creating vertex costs...\n",
      "100%|██████████| 10/10 [00:00<00:00, 22333.89it/s]\n",
      "INFO:large_gcs.graph.graph:Adding 10 vertices to graph...\n",
      "100%|██████████| 10/10 [00:00<00:00, 23953.76it/s]\n",
      "INFO:large_gcs.graph.contact_graph:Creating edge costs...\n",
      "100%|██████████| 48/48 [00:00<00:00, 26861.45it/s]\n",
      "INFO:large_gcs.graph.contact_graph:Creating edge constraints...\n",
      "100%|██████████| 48/48 [00:00<00:00, 17752.10it/s]\n",
      "INFO:large_gcs.graph.graph:Adding 48 edges to graph...\n",
      "100%|██████████| 48/48 [00:00<00:00, 20331.91it/s]\n",
      "INFO:large_gcs.graph.contact_graph:Created contact graph: GraphParams(dim_bounds=(4, 11), n_vertices=10, n_edges=48, source=[array([0, 0]), array([-2, -2])], target='regions', workspace=array([[-3,  3],\n",
      "       [-3,  3]]), default_costs_constraints=None)\n"
     ]
    },
    {
     "data": {
      "image/png": "[encoded data removed]",
      "text/plain": [
       "<Figure size 640x480 with 1 Axes>"
      ]
     },
     "metadata": {},
     "output_type": "display_data"
    }
   ],
   "source": [
    "graph_name = \"cg_simple_1\"\n",
    "graph_file = ContactGraphGeneratorParams.graph_file_path_from_name(\n",
    "    graph_name\n",
    ")\n",
    "cg = ContactGraph.load_from_file(\n",
    "    graph_file,\n",
    "    should_use_l1_norm_vertex_cost=True,\n",
    ")\n",
    "source_vertex = cg.source\n",
    "target_vertex = cg.target\n",
    "cg.plot()"
   ]
  },
  {
   "cell_type": "code",
   "execution_count": 3,
   "metadata": {},
   "outputs": [
    {
     "name": "stderr",
     "output_type": "stream",
     "text": [
      "INFO:large_gcs.graph.contact_graph:Creating vertex costs...\n",
      "100%|██████████| 2/2 [00:00<00:00, 32140.26it/s]\n",
      "INFO:large_gcs.graph.graph:Adding 2 vertices to graph...\n",
      "100%|██████████| 2/2 [00:00<00:00, 21959.71it/s]\n",
      "INFO:large_gcs.graph.contact_graph:Generating contact pair modes for 1 body pairs...\n",
      "100%|██████████| 1/1 [00:00<00:00, 134.56it/s]\n",
      "INFO:large_gcs.graph.incremental_contact_graph:Calculating adjacent contact pair modes (28)\n",
      "100%|██████████| 28/28 [00:00<00:00, 6438.62it/s]\n"
     ]
    },
    {
     "data": {
      "image/png": "[encoded data removed]",
      "text/plain": [
       "<Figure size 640x480 with 1 Axes>"
      ]
     },
     "metadata": {},
     "output_type": "display_data"
    }
   ],
   "source": [
    "\n",
    "\n",
    "graph_file_inc = ContactGraphGeneratorParams.inc_graph_file_path_from_name(graph_name)\n",
    "cg_inc = IncrementalContactGraph.load_from_file(\n",
    "    graph_file_inc,\n",
    "    should_use_l1_norm_vertex_cost=True,\n",
    ")\n",
    "cg_inc.plot()"
   ]
  },
  {
   "cell_type": "code",
   "execution_count": 4,
   "metadata": {},
   "outputs": [],
   "source": [
    "Q = [\"source\"]\n",
    "expanded = set()\n",
    "while len(Q) > 0:\n",
    "    v = Q.pop()\n",
    "    if v in expanded or v == \"target\":\n",
    "        continue\n",
    "    expanded.add(v)\n",
    "    cg_inc.generate_successors(v)\n",
    "    for u in cg_inc.successors(v):\n",
    "        if u in expanded:\n",
    "            continue\n",
    "        Q.append(u)"
   ]
  },
  {
   "cell_type": "code",
   "execution_count": 5,
   "metadata": {},
   "outputs": [
    {
     "data": {
      "text/plain": [
       "['source',\n",
       " 'target',\n",
       " \"('NC|obj0_f0-rob0_f2',)\",\n",
       " \"('IC|obj0_f0-rob0_f2',)\",\n",
       " \"('IC|obj0_f1-rob0_f3',)\",\n",
       " \"('IC|obj0_f3-rob0_f1',)\",\n",
       " \"('NC|obj0_f1-rob0_f3',)\",\n",
       " \"('NC|obj0_f3-rob0_f1',)\",\n",
       " \"('IC|obj0_f2-rob0_f0',)\",\n",
       " \"('NC|obj0_f2-rob0_f0',)\"]"
      ]
     },
     "execution_count": 5,
     "metadata": {},
     "output_type": "execute_result"
    }
   ],
   "source": [
    "cg_inc.vertex_names"
   ]
  },
  {
   "cell_type": "code",
   "execution_count": 6,
   "metadata": {},
   "outputs": [
    {
     "data": {
      "text/plain": [
       "['(\"source\", \"(\\'NC|obj0_f0-rob0_f2\\',)\")',\n",
       " '(\"(\\'NC|obj0_f0-rob0_f2\\',)\", \"(\\'IC|obj0_f0-rob0_f2\\',)\")',\n",
       " '(\"(\\'NC|obj0_f0-rob0_f2\\',)\", \"(\\'IC|obj0_f1-rob0_f3\\',)\")',\n",
       " '(\"(\\'NC|obj0_f0-rob0_f2\\',)\", \"(\\'IC|obj0_f3-rob0_f1\\',)\")',\n",
       " '(\"(\\'NC|obj0_f0-rob0_f2\\',)\", \"(\\'NC|obj0_f1-rob0_f3\\',)\")',\n",
       " '(\"(\\'NC|obj0_f0-rob0_f2\\',)\", \"(\\'NC|obj0_f3-rob0_f1\\',)\")',\n",
       " '(\"(\\'NC|obj0_f0-rob0_f2\\',)\", \"target\")',\n",
       " '(\"(\\'NC|obj0_f3-rob0_f1\\',)\", \"(\\'IC|obj0_f0-rob0_f2\\',)\")',\n",
       " '(\"(\\'NC|obj0_f3-rob0_f1\\',)\", \"(\\'IC|obj0_f2-rob0_f0\\',)\")',\n",
       " '(\"(\\'NC|obj0_f3-rob0_f1\\',)\", \"(\\'IC|obj0_f3-rob0_f1\\',)\")',\n",
       " '(\"(\\'NC|obj0_f3-rob0_f1\\',)\", \"(\\'NC|obj0_f0-rob0_f2\\',)\")',\n",
       " '(\"(\\'NC|obj0_f3-rob0_f1\\',)\", \"(\\'NC|obj0_f2-rob0_f0\\',)\")',\n",
       " '(\"(\\'NC|obj0_f3-rob0_f1\\',)\", \"target\")',\n",
       " '(\"(\\'NC|obj0_f2-rob0_f0\\',)\", \"(\\'IC|obj0_f1-rob0_f3\\',)\")',\n",
       " '(\"(\\'NC|obj0_f2-rob0_f0\\',)\", \"(\\'IC|obj0_f2-rob0_f0\\',)\")',\n",
       " '(\"(\\'NC|obj0_f2-rob0_f0\\',)\", \"(\\'IC|obj0_f3-rob0_f1\\',)\")',\n",
       " '(\"(\\'NC|obj0_f2-rob0_f0\\',)\", \"(\\'NC|obj0_f1-rob0_f3\\',)\")',\n",
       " '(\"(\\'NC|obj0_f2-rob0_f0\\',)\", \"(\\'NC|obj0_f3-rob0_f1\\',)\")',\n",
       " '(\"(\\'NC|obj0_f2-rob0_f0\\',)\", \"target\")',\n",
       " '(\"(\\'NC|obj0_f1-rob0_f3\\',)\", \"(\\'IC|obj0_f0-rob0_f2\\',)\")',\n",
       " '(\"(\\'NC|obj0_f1-rob0_f3\\',)\", \"(\\'IC|obj0_f1-rob0_f3\\',)\")',\n",
       " '(\"(\\'NC|obj0_f1-rob0_f3\\',)\", \"(\\'IC|obj0_f2-rob0_f0\\',)\")',\n",
       " '(\"(\\'NC|obj0_f1-rob0_f3\\',)\", \"(\\'NC|obj0_f0-rob0_f2\\',)\")',\n",
       " '(\"(\\'NC|obj0_f1-rob0_f3\\',)\", \"(\\'NC|obj0_f2-rob0_f0\\',)\")',\n",
       " '(\"(\\'IC|obj0_f2-rob0_f0\\',)\", \"(\\'IC|obj0_f1-rob0_f3\\',)\")',\n",
       " '(\"(\\'IC|obj0_f2-rob0_f0\\',)\", \"(\\'IC|obj0_f3-rob0_f1\\',)\")',\n",
       " '(\"(\\'IC|obj0_f2-rob0_f0\\',)\", \"(\\'NC|obj0_f1-rob0_f3\\',)\")',\n",
       " '(\"(\\'IC|obj0_f2-rob0_f0\\',)\", \"(\\'NC|obj0_f2-rob0_f0\\',)\")',\n",
       " '(\"(\\'IC|obj0_f2-rob0_f0\\',)\", \"(\\'NC|obj0_f3-rob0_f1\\',)\")',\n",
       " '(\"(\\'IC|obj0_f2-rob0_f0\\',)\", \"target\")',\n",
       " '(\"(\\'IC|obj0_f3-rob0_f1\\',)\", \"(\\'IC|obj0_f0-rob0_f2\\',)\")',\n",
       " '(\"(\\'IC|obj0_f3-rob0_f1\\',)\", \"(\\'IC|obj0_f2-rob0_f0\\',)\")',\n",
       " '(\"(\\'IC|obj0_f3-rob0_f1\\',)\", \"(\\'NC|obj0_f0-rob0_f2\\',)\")',\n",
       " '(\"(\\'IC|obj0_f3-rob0_f1\\',)\", \"(\\'NC|obj0_f2-rob0_f0\\',)\")',\n",
       " '(\"(\\'IC|obj0_f3-rob0_f1\\',)\", \"(\\'NC|obj0_f3-rob0_f1\\',)\")',\n",
       " '(\"(\\'IC|obj0_f3-rob0_f1\\',)\", \"target\")',\n",
       " '(\"(\\'IC|obj0_f0-rob0_f2\\',)\", \"(\\'IC|obj0_f1-rob0_f3\\',)\")',\n",
       " '(\"(\\'IC|obj0_f0-rob0_f2\\',)\", \"(\\'IC|obj0_f3-rob0_f1\\',)\")',\n",
       " '(\"(\\'IC|obj0_f0-rob0_f2\\',)\", \"(\\'NC|obj0_f0-rob0_f2\\',)\")',\n",
       " '(\"(\\'IC|obj0_f0-rob0_f2\\',)\", \"(\\'NC|obj0_f1-rob0_f3\\',)\")',\n",
       " '(\"(\\'IC|obj0_f0-rob0_f2\\',)\", \"(\\'NC|obj0_f3-rob0_f1\\',)\")',\n",
       " '(\"(\\'IC|obj0_f0-rob0_f2\\',)\", \"target\")',\n",
       " '(\"(\\'IC|obj0_f1-rob0_f3\\',)\", \"(\\'IC|obj0_f0-rob0_f2\\',)\")',\n",
       " '(\"(\\'IC|obj0_f1-rob0_f3\\',)\", \"(\\'IC|obj0_f2-rob0_f0\\',)\")',\n",
       " '(\"(\\'IC|obj0_f1-rob0_f3\\',)\", \"(\\'NC|obj0_f0-rob0_f2\\',)\")',\n",
       " '(\"(\\'IC|obj0_f1-rob0_f3\\',)\", \"(\\'NC|obj0_f1-rob0_f3\\',)\")',\n",
       " '(\"(\\'IC|obj0_f1-rob0_f3\\',)\", \"(\\'NC|obj0_f2-rob0_f0\\',)\")']"
      ]
     },
     "execution_count": 6,
     "metadata": {},
     "output_type": "execute_result"
    }
   ],
   "source": [
    "cg_inc.edge_keys"
   ]
  },
  {
   "cell_type": "code",
   "execution_count": 7,
   "metadata": {},
   "outputs": [
    {
     "data": {
      "text/plain": [
       "['(\"(\\'IC|obj0_f0-rob0_f2\\',)\", \"(\\'IC|obj0_f1-rob0_f3\\',)\")',\n",
       " '(\"(\\'IC|obj0_f1-rob0_f3\\',)\", \"(\\'IC|obj0_f0-rob0_f2\\',)\")',\n",
       " '(\"(\\'IC|obj0_f0-rob0_f2\\',)\", \"(\\'IC|obj0_f3-rob0_f1\\',)\")',\n",
       " '(\"(\\'IC|obj0_f3-rob0_f1\\',)\", \"(\\'IC|obj0_f0-rob0_f2\\',)\")',\n",
       " '(\"(\\'IC|obj0_f0-rob0_f2\\',)\", \"(\\'NC|obj0_f0-rob0_f2\\',)\")',\n",
       " '(\"(\\'NC|obj0_f0-rob0_f2\\',)\", \"(\\'IC|obj0_f0-rob0_f2\\',)\")',\n",
       " '(\"(\\'IC|obj0_f0-rob0_f2\\',)\", \"(\\'NC|obj0_f1-rob0_f3\\',)\")',\n",
       " '(\"(\\'NC|obj0_f1-rob0_f3\\',)\", \"(\\'IC|obj0_f0-rob0_f2\\',)\")',\n",
       " '(\"(\\'IC|obj0_f0-rob0_f2\\',)\", \"(\\'NC|obj0_f3-rob0_f1\\',)\")',\n",
       " '(\"(\\'NC|obj0_f3-rob0_f1\\',)\", \"(\\'IC|obj0_f0-rob0_f2\\',)\")',\n",
       " '(\"(\\'IC|obj0_f0-rob0_f2\\',)\", \"target\")',\n",
       " '(\"(\\'IC|obj0_f1-rob0_f3\\',)\", \"(\\'IC|obj0_f2-rob0_f0\\',)\")',\n",
       " '(\"(\\'IC|obj0_f2-rob0_f0\\',)\", \"(\\'IC|obj0_f1-rob0_f3\\',)\")',\n",
       " '(\"(\\'IC|obj0_f1-rob0_f3\\',)\", \"(\\'NC|obj0_f0-rob0_f2\\',)\")',\n",
       " '(\"(\\'NC|obj0_f0-rob0_f2\\',)\", \"(\\'IC|obj0_f1-rob0_f3\\',)\")',\n",
       " '(\"(\\'IC|obj0_f1-rob0_f3\\',)\", \"(\\'NC|obj0_f1-rob0_f3\\',)\")',\n",
       " '(\"(\\'NC|obj0_f1-rob0_f3\\',)\", \"(\\'IC|obj0_f1-rob0_f3\\',)\")',\n",
       " '(\"(\\'IC|obj0_f1-rob0_f3\\',)\", \"(\\'NC|obj0_f2-rob0_f0\\',)\")',\n",
       " '(\"(\\'NC|obj0_f2-rob0_f0\\',)\", \"(\\'IC|obj0_f1-rob0_f3\\',)\")',\n",
       " '(\"(\\'IC|obj0_f2-rob0_f0\\',)\", \"(\\'IC|obj0_f3-rob0_f1\\',)\")',\n",
       " '(\"(\\'IC|obj0_f3-rob0_f1\\',)\", \"(\\'IC|obj0_f2-rob0_f0\\',)\")',\n",
       " '(\"(\\'IC|obj0_f2-rob0_f0\\',)\", \"(\\'NC|obj0_f1-rob0_f3\\',)\")',\n",
       " '(\"(\\'NC|obj0_f1-rob0_f3\\',)\", \"(\\'IC|obj0_f2-rob0_f0\\',)\")',\n",
       " '(\"(\\'IC|obj0_f2-rob0_f0\\',)\", \"(\\'NC|obj0_f2-rob0_f0\\',)\")',\n",
       " '(\"(\\'NC|obj0_f2-rob0_f0\\',)\", \"(\\'IC|obj0_f2-rob0_f0\\',)\")',\n",
       " '(\"(\\'IC|obj0_f2-rob0_f0\\',)\", \"(\\'NC|obj0_f3-rob0_f1\\',)\")',\n",
       " '(\"(\\'NC|obj0_f3-rob0_f1\\',)\", \"(\\'IC|obj0_f2-rob0_f0\\',)\")',\n",
       " '(\"(\\'IC|obj0_f2-rob0_f0\\',)\", \"target\")',\n",
       " '(\"(\\'IC|obj0_f3-rob0_f1\\',)\", \"(\\'NC|obj0_f0-rob0_f2\\',)\")',\n",
       " '(\"(\\'NC|obj0_f0-rob0_f2\\',)\", \"(\\'IC|obj0_f3-rob0_f1\\',)\")',\n",
       " '(\"(\\'IC|obj0_f3-rob0_f1\\',)\", \"(\\'NC|obj0_f2-rob0_f0\\',)\")',\n",
       " '(\"(\\'NC|obj0_f2-rob0_f0\\',)\", \"(\\'IC|obj0_f3-rob0_f1\\',)\")',\n",
       " '(\"(\\'IC|obj0_f3-rob0_f1\\',)\", \"(\\'NC|obj0_f3-rob0_f1\\',)\")',\n",
       " '(\"(\\'NC|obj0_f3-rob0_f1\\',)\", \"(\\'IC|obj0_f3-rob0_f1\\',)\")',\n",
       " '(\"(\\'IC|obj0_f3-rob0_f1\\',)\", \"target\")',\n",
       " '(\"(\\'NC|obj0_f0-rob0_f2\\',)\", \"(\\'NC|obj0_f1-rob0_f3\\',)\")',\n",
       " '(\"(\\'NC|obj0_f1-rob0_f3\\',)\", \"(\\'NC|obj0_f0-rob0_f2\\',)\")',\n",
       " '(\"(\\'NC|obj0_f0-rob0_f2\\',)\", \"(\\'NC|obj0_f3-rob0_f1\\',)\")',\n",
       " '(\"(\\'NC|obj0_f3-rob0_f1\\',)\", \"(\\'NC|obj0_f0-rob0_f2\\',)\")',\n",
       " '(\"source\", \"(\\'NC|obj0_f0-rob0_f2\\',)\")',\n",
       " '(\"(\\'NC|obj0_f0-rob0_f2\\',)\", \"target\")',\n",
       " '(\"(\\'NC|obj0_f1-rob0_f3\\',)\", \"(\\'NC|obj0_f2-rob0_f0\\',)\")',\n",
       " '(\"(\\'NC|obj0_f2-rob0_f0\\',)\", \"(\\'NC|obj0_f1-rob0_f3\\',)\")',\n",
       " '(\"(\\'NC|obj0_f2-rob0_f0\\',)\", \"(\\'NC|obj0_f3-rob0_f1\\',)\")',\n",
       " '(\"(\\'NC|obj0_f3-rob0_f1\\',)\", \"(\\'NC|obj0_f2-rob0_f0\\',)\")',\n",
       " '(\"(\\'NC|obj0_f2-rob0_f0\\',)\", \"target\")',\n",
       " '(\"source\", \"(\\'NC|obj0_f3-rob0_f1\\',)\")',\n",
       " '(\"(\\'NC|obj0_f3-rob0_f1\\',)\", \"target\")']"
      ]
     },
     "execution_count": 7,
     "metadata": {},
     "output_type": "execute_result"
    }
   ],
   "source": [
    "cg.edge_keys"
   ]
  },
  {
   "cell_type": "code",
   "execution_count": 8,
   "metadata": {},
   "outputs": [
    {
     "data": {
      "text/plain": [
       "(10, 47)"
      ]
     },
     "execution_count": 8,
     "metadata": {},
     "output_type": "execute_result"
    }
   ],
   "source": [
    "cg_inc.n_vertices, cg_inc.n_edges"
   ]
  },
  {
   "cell_type": "code",
   "execution_count": null,
   "metadata": {},
   "outputs": [],
   "source": []
  }
 ],
 "metadata": {
  "kernelspec": {
   "display_name": ".venv",
   "language": "python",
   "name": "python3"
  },
  "language_info": {
   "codemirror_mode": {
    "name": "ipython",
    "version": 3
   },
   "file_extension": ".py",
   "mimetype": "text/x-python",
   "name": "python",
   "nbconvert_exporter": "python",
   "pygments_lexer": "ipython3",
   "version": "3.10.12"
  }
 },
 "nbformat": 4,
 "nbformat_minor": 2
}
