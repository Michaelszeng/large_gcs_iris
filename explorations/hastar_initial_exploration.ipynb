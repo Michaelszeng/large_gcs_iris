{
 "cells": [
  {
   "cell_type": "markdown",
   "metadata": {},
   "source": [
    "# Hierarchical A* Exploration\n",
    "based on The [Generalized A* Architecture by Felzenszwalb and McAllester](https://cs.brown.edu/people/pfelzens/papers/astar.pdf)"
   ]
  },
  {
   "cell_type": "code",
   "execution_count": 1,
   "metadata": {},
   "outputs": [],
   "source": [
    "from collections import namedtuple\n",
    "from dataclasses import dataclass\n",
    "from enum import Enum\n",
    "import heapq as heap\n",
    "from copy import copy\n",
    "from typing import Optional, List\n",
    "import numpy as np\n",
    "from IPython.display import HTML\n",
    "\n",
    "\n",
    "from large_gcs.graph.incremental_contact_graph import IncrementalContactGraph\n",
    "from large_gcs.graph.contact_graph import ContactGraph\n",
    "from large_gcs.graph.graph import ShortestPathSolution, Graph\n",
    "from large_gcs.graph_generators.contact_graph_generator import ContactGraphGeneratorParams\n",
    "from large_gcs.graph.factored_collision_free_graph import FactoredCollisionFreeGraph"
   ]
  },
  {
   "cell_type": "code",
   "execution_count": 2,
   "metadata": {},
   "outputs": [],
   "source": [
    "import logging\n",
    "logging.basicConfig(level=logging.ERROR)\n",
    "logging.getLogger(\"drake\").setLevel(logging.ERROR)"
   ]
  },
  {
   "cell_type": "markdown",
   "metadata": {},
   "source": [
    "Want to start with a simple example, trichal4"
   ]
  },
  {
   "cell_type": "code",
   "execution_count": 3,
   "metadata": {},
   "outputs": [
    {
     "name": "stdout",
     "output_type": "stream",
     "text": [
      "Set parameter Username\n",
      "Academic license - for non-commercial use only - expires 2024-04-01\n"
     ]
    },
    {
     "name": "stderr",
     "output_type": "stream",
     "text": [
      "100%|██████████| 2/2 [00:00<00:00, 13617.87it/s]\n",
      "100%|██████████| 2/2 [00:00<00:00, 8097.11it/s]\n",
      "100%|██████████| 3/3 [00:00<00:00, 66.29it/s]\n",
      "100%|██████████| 67/67 [00:00<00:00, 7016.86it/s]\n"
     ]
    },
    {
     "data": {
      "image/png": "[encoded data removed]",
      "text/plain": [
       "<Figure size 640x480 with 1 Axes>"
      ]
     },
     "metadata": {},
     "output_type": "display_data"
    }
   ],
   "source": [
    "graph_name = \"cg_trichal4\"\n",
    "graph_file = ContactGraphGeneratorParams.inc_graph_file_path_from_name(graph_name)\n",
    "cg_inc = IncrementalContactGraph.load_from_file(graph_file, should_add_gcs=True)\n",
    "cg_inc.target_name\n",
    "cg_inc.plot()"
   ]
  },
  {
   "cell_type": "code",
   "execution_count": null,
   "metadata": {},
   "outputs": [],
   "source": [
    "cg_inc.vertex_names\n",
    "cg_inc.target_name"
   ]
  },
  {
   "cell_type": "markdown",
   "metadata": {},
   "source": [
    "Level 1: CFree path of object (bodies with goal)\n",
    "Level 0: Full dimensional"
   ]
  },
  {
   "cell_type": "code",
   "execution_count": null,
   "metadata": {},
   "outputs": [],
   "source": [
    "graphs = []\n",
    "# Define level 0 graph\n",
    "graphs.append(cg_inc)\n",
    "# Define level 1 graph\n",
    "# Right now the body is hardcoded and limited to one, soon we will extend this to multiple bodies.\n",
    "body = graphs[0].objects[0]\n",
    "cg_factored_cfree = FactoredCollisionFreeGraph(\n",
    "                    movable_body=body,\n",
    "                    static_obstacles=graphs[0].obstacles,\n",
    "                    source_pos=graphs[0].source_pos[0],\n",
    "                    # target_pos=graphs[0].target_pos[0],\n",
    "                    target_region_params=graphs[0].target_region_params[0],\n",
    "                    cost_scaling=1.0,\n",
    "                    workspace=graphs[0].workspace,\n",
    "                    add_source_set=True,)\n",
    "graphs.append(cg_factored_cfree)\n",
    "graphs[1].plot()\n",
    "print(graphs[1].source_name)"
   ]
  },
  {
   "cell_type": "code",
   "execution_count": null,
   "metadata": {},
   "outputs": [],
   "source": [
    "graphs[1].edge_keys"
   ]
  },
  {
   "cell_type": "code",
   "execution_count": null,
   "metadata": {},
   "outputs": [],
   "source": [
    "\n",
    "\n",
    "class GeneralizedStatementType(Enum):\n",
    "    STATEMENT = 0\n",
    "    CONTEXT = 1\n",
    "\n",
    "@dataclass\n",
    "class GCSHANode:\n",
    "    priority: Optional[float]\n",
    "    abs_level: int\n",
    "    vertex_name: str\n",
    "    path: list\n",
    "    weight: Optional[float]\n",
    "    type: GeneralizedStatementType\n",
    "    parent: Optional['GCSHANode'] = None\n",
    "    sol: Optional[ShortestPathSolution] = None\n",
    "    \n",
    "    @property\n",
    "    def context_id(self) -> str:\n",
    "        node = copy(self)\n",
    "        node.type = GeneralizedStatementType.CONTEXT\n",
    "        return node.id\n",
    "        \n",
    "    @property\n",
    "    def id(self):\n",
    "        return f\"{self.abs_level}_{self.type.name}_{self.vertex_name}\"\n",
    "    \n",
    "    def __lt__(self, other):\n",
    "        return self.priority < other.priority\n",
    "\n",
    "@dataclass\n",
    "class StatementNode(GCSHANode):\n",
    "    type: GeneralizedStatementType = GeneralizedStatementType.STATEMENT\n",
    "\n",
    "    def __post_init__(self):\n",
    "        # super().__post_init__()\n",
    "        pass\n",
    "\n",
    "    @classmethod\n",
    "    def from_parent(cls, child_vertex_name: str, parent: 'GCSHANode'):\n",
    "        assert parent.type == GeneralizedStatementType.STATEMENT\n",
    "        return cls(priority=None, abs_level=parent.abs_level, vertex_name=child_vertex_name, \n",
    "                   path=parent.path + [(parent.vertex_name, child_vertex_name)],\n",
    "                   weight=None, parent=parent)\n",
    "\n",
    "@dataclass\n",
    "class ContextNode(GCSHANode):\n",
    "    # Each entry corresponds to vertex_cost(u) + edge_cost(u, v) for (u,v) in path that shares the same index\n",
    "    path_costs: List[float] = None\n",
    "    type: GeneralizedStatementType = GeneralizedStatementType.CONTEXT\n",
    "\n",
    "    def __post_init__(self):\n",
    "        # super().__post_init__()\n",
    "        pass\n",
    "    "
   ]
  },
  {
   "cell_type": "code",
   "execution_count": null,
   "metadata": {},
   "outputs": [],
   "source": [
    "from large_gcs.cost_estimators.factored_collision_free_ce import FactoredCollisionFreeCE\n",
    "\n",
    "def abs_full_problem(n: GCSHANode) -> List[GCSHANode]:\n",
    "    assert n.type == GeneralizedStatementType.STATEMENT\n",
    "    new_abs_level = n.abs_level + 1\n",
    "    abstract_nodes = []\n",
    "    # HACK find a better way to handle this case/feed this info in.\n",
    "    if n.vertex_name == graphs[0].target_name:\n",
    "        split_names = [graphs[1].target_name]\n",
    "    else:\n",
    "        split_names = FactoredCollisionFreeCE._convert_to_cfree_vertex_names(n.vertex_name)\n",
    "    for name in split_names:\n",
    "        # Temporary HACK, filter out robot sets (and we know they are all grouped together after object sets)\n",
    "        if \"rob\" in name:\n",
    "            break\n",
    "        abstract_nodes.append(\n",
    "            GCSHANode(priority=None, abs_level=new_abs_level,\n",
    "                      vertex_name=name, weight=None, path=[], type=GeneralizedStatementType.STATEMENT))\n",
    "    return abstract_nodes\n",
    "\n",
    "def abs_factored_cfree_bodies_with_goals(n: GCSHANode) -> List[GCSHANode]:\n",
    "    assert n.type == GeneralizedStatementType.STATEMENT\n",
    "    new_abs_level = n.abs_level + 1\n",
    "    new_vertex_name = \"ShortcutEdge\"\n",
    "    return [GCSHANode(priority=None, abs_level=new_abs_level, vertex_name=new_vertex_name, weight=0, path=[], type=GeneralizedStatementType.STATEMENT)]\n",
    "\n",
    "abs_fns = [abs_full_problem, abs_factored_cfree_bodies_with_goals]"
   ]
  },
  {
   "cell_type": "code",
   "execution_count": null,
   "metadata": {},
   "outputs": [],
   "source": [
    "abs_full_problem(GCSHANode(priority=None, abs_level=0, vertex_name=\"target\", weight=None, path=[], type=GeneralizedStatementType.STATEMENT))"
   ]
  },
  {
   "cell_type": "code",
   "execution_count": null,
   "metadata": {},
   "outputs": [],
   "source": [
    "# Test the abs function\n",
    "print(graphs[1].vertex_names[0])\n",
    "factored_cfree_vertex_name = graphs[1].vertex_names[0]\n",
    "test_factored_cfree_node = GCSHANode(priority=None, abs_level=1, vertex_name=factored_cfree_vertex_name, weight=None, path=[], type=GeneralizedStatementType.STATEMENT)\n",
    "print(abs_fns[1](test_factored_cfree_node))\n",
    "\n",
    "print()\n",
    "print(graphs[0].vertex_names[2])\n",
    "full_problem_vertex_name = graphs[0].vertex_names[2]\n",
    "test_full_problem_node = GCSHANode(priority=None, abs_level=0, vertex_name=full_problem_vertex_name, weight=None, path=[], type=GeneralizedStatementType.STATEMENT)\n",
    "print(abs_fns[0](test_full_problem_node))"
   ]
  },
  {
   "cell_type": "code",
   "execution_count": null,
   "metadata": {},
   "outputs": [],
   "source": [
    "class GcsHAstarConvexRestriction():\n",
    "    def __init__(self, graphs: List[ContactGraph], abs_fns):\n",
    "        self._graphs = graphs\n",
    "        self._abs_fns = abs_fns\n",
    "        self._S: dict[str, GCSHANode] = {}\n",
    "        self._Q: list[GCSHANode] = [] # priority queue\n",
    "        max_abs_level = len(graphs)\n",
    "        shotcut_edge_node = GCSHANode(priority=0, abs_level=max_abs_level, \n",
    "                                      vertex_name=\"ShortcutEdge\", path=[], weight=0,\n",
    "                                      type=GeneralizedStatementType.STATEMENT)\n",
    "        # n0 = GCSHANode(priority=0, abs_level=max_abs_level, vertex_name=graphs[max_abs_level].source_name, path=[], weight=0, type=GeneralizedStatementType.STATEMENT)\n",
    "        heap.heappush(self._Q, shotcut_edge_node)\n",
    "\n",
    "        # Compile targets at each level of abstraction\n",
    "        self._targets = {i: graphs[i].target_name for i in range(len(graphs))}\n",
    "        self._targets[max_abs_level] = \"ShortcutEdge\"\n",
    "        self._sources = {i: graphs[i].source_name for i in range(len(graphs))}\n",
    "        print(f\"targets: {self._targets}\")\n",
    "        # print(self._sources)\n",
    "\n",
    "        self._iteration = 0\n",
    "    \n",
    "    def run(self):\n",
    "        sol = None\n",
    "        while sol == None and len(self._Q) > 0:\n",
    "            sol = self._run_iteration()\n",
    "        if sol is None:\n",
    "            print(f\"Gcs HA* Convex Restriction failed to find a path to the target.\")\n",
    "            return\n",
    "\n",
    "        g = self._graphs[0]\n",
    "        g._post_solve(sol)\n",
    "        print(f\"Gcs HA* Convex Restriction complete! \\ncost: {sol.cost}, time: {sol.time}\\nvertex path: {np.array(sol.vertex_path)}\")\n",
    "        \n",
    "    \n",
    "    def _run_iteration(self):\n",
    "        self._iteration += 1\n",
    "        print(f\"\\niteration: {self._iteration}\")\n",
    "        print(f\"S {[(key, val.weight) for (key, val) in self._S.items()]}\")\n",
    "        # Make a copy of the priority queue.\n",
    "        pq_copy = copy(self._Q)\n",
    "        # Pop the top 10 items from the priority queue copy.\n",
    "        bottom_10 = []\n",
    "        for _ in range(min(10, len(pq_copy))):\n",
    "            n = heap.heappop(pq_copy)\n",
    "            bottom_10.append((n.id, n.priority))\n",
    "        print(f\"Lowest 10 in Q: {bottom_10}\")\n",
    "\n",
    "        n: GCSHANode = heap.heappop(self._Q)\n",
    "        print(f\"{n.id} popped off Q\")\n",
    "        # if n.id in self._S:\n",
    "        #     if n.weight < self._S[n.id].weight:\n",
    "        #         print(f\"new node has lower weight, updating\")\n",
    "        #     else:\n",
    "        #         print(f\"already in S with a lower weight, continuing\")\n",
    "        #         return\n",
    "        if n.id in self._S and n.abs_level < 1: # Only revisit nodes at level 1 or higher\n",
    "            if n.weight < self._S[n.id].weight:\n",
    "                print(f\"new node has lower weight, updating\")\n",
    "            else:\n",
    "                print(f\"already in S with a lower weight, continuing\")\n",
    "                return\n",
    "        self._S[n.id] = n\n",
    "\n",
    "        if n.type == GeneralizedStatementType.STATEMENT:\n",
    "            # Check if BASE rule applies (the goal of a level is reached)\n",
    "            if n.vertex_name == self._targets[n.abs_level]:\n",
    "                print(f\"Goal reached at level {n.abs_level}\")\n",
    "                self._execute_base_rule(n)\n",
    "                if n.abs_level == 0:\n",
    "                    return n.sol\n",
    "                else:\n",
    "                    return None\n",
    "\n",
    "            # Generate neighbors (vertices and edges) that you are about to explore\n",
    "            # print(f\"generating neighbors for {n.vertex_name}\")\n",
    "            self._graphs[n.abs_level].generate_neighbors(n.vertex_name)\n",
    "            # Get UP rules (edges at the same level)\n",
    "            edges = graphs[n.abs_level].outgoing_edges(n.vertex_name)\n",
    "\n",
    "            for edge in edges:\n",
    "                neighbor_in_path = any(\n",
    "                        (u == edge.v or v == edge.v) for (u, v) in n.path\n",
    "                    )\n",
    "                if not neighbor_in_path:\n",
    "                # if edge.v not in self._S: # No reexploring\n",
    "                    neighbor = StatementNode.from_parent(child_vertex_name=edge.v, parent=n)\n",
    "                    abs_neighbor_nodes = self._abs_fns[n.abs_level](neighbor)\n",
    "                    # print(f\"neighbor: {neighbor.id}\")\n",
    "                    # print(f\"abs neighbor nodes: {np.array([(abs_n.id, abs_n.context_id in self._S)  for abs_n in abs_neighbor_nodes])}\")\n",
    "                    # Check if all required contexts of the abstracted neighbor are in S\n",
    "                    if all([abs_n.context_id in self._S for abs_n in abs_neighbor_nodes]):\n",
    "                        self._execute_up_rule(neighbor)\n",
    "                    else:\n",
    "                        print(f\"required contexts for {neighbor.id} not in S , continuing\")\n",
    "\n",
    "        # CONTEXT and has other statements in path to convert to contexts\n",
    "        elif n.type == GeneralizedStatementType.CONTEXT:\n",
    "            if len(n.path) > 0:\n",
    "                # Get DOWN rules\n",
    "                # Go back one step along the path that was taken to calculate its context\n",
    "                self._execute_down_rule(n_antecedent=n)\n",
    "            else:\n",
    "                # The context for the source node has been added to S, so we can now add the source node to Q\n",
    "                self._execute_source_up_rule(n)\n",
    "\n",
    "    def _execute_base_rule(self, n_antecedent: StatementNode):\n",
    "        print(f\"Executing BASE rule for antecendent {n_antecedent.id}\")\n",
    "        # The antecedent will always be a goal node.\n",
    "        \n",
    "        # Extract path costs\n",
    "        path_costs = []\n",
    "        if len(n_antecedent.path) > 0:\n",
    "            original_g: ContactGraph = self._graphs[n_antecedent.abs_level]\n",
    "            print(f\"original sol cost: {n_antecedent.sol.cost}\")\n",
    "            # WORKAROUND individual costs not being available in solve convex restriction result.\n",
    "            # Create as new graph with just the path from the source to the goal and solve that as a full problem\n",
    "            temp_g = Graph()\n",
    "            temp_g.add_vertex(original_g.source, original_g.source_name)\n",
    "            for (u, v) in n_antecedent.path:\n",
    "                temp_g.add_vertex(original_g.vertices[v], v)\n",
    "                temp_g.add_edge(original_g.edges[(u, v)])\n",
    "            temp_g.set_source(original_g.source_name)\n",
    "            temp_g.set_target(original_g.target_name)\n",
    "            sol = temp_g.solve_shortest_path()\n",
    "            print(f\"temp sol cost: {sol.cost}\")\n",
    "            n_antecedent.sol = sol\n",
    "            g = temp_g\n",
    "            \n",
    "            for e in n_antecedent.path:\n",
    "                vertex_cost = g.vertices[e[1]].gcs_vertex.GetSolutionCost(n_antecedent.sol.result)\n",
    "                edge_cost = g.edges[e].gcs_edge.GetSolutionCost(n_antecedent.sol.result)\n",
    "                path_costs.append(vertex_cost + edge_cost)\n",
    "            print(f\"path: {sol.vertex_path}\")\n",
    "            print(f\"path costs: {path_costs}\")\n",
    "            print(f\"total cost: {sum(path_costs)}\")\n",
    "        n_next = ContextNode(\n",
    "            # Priority of the context is the weight of the statement\n",
    "            priority=n_antecedent.weight,\n",
    "            # Weight of the context of the goal statement is 0\n",
    "            weight=0,\n",
    "            abs_level=n_antecedent.abs_level,\n",
    "            vertex_name=n_antecedent.vertex_name,\n",
    "            path=n_antecedent.path,\n",
    "            path_costs=path_costs,\n",
    "            sol=n_antecedent.sol,\n",
    "        )\n",
    "        heap.heappush(self._Q, n_next)\n",
    "    \n",
    "    def _execute_down_rule(self, n_antecedent: ContextNode):\n",
    "        print(f\"Executing DOWN rule for antecedent {n_antecedent.id}\")\n",
    "        \n",
    "        child = ContextNode(\n",
    "            # Slightly confused about the priority, need to think through\n",
    "            priority=n_antecedent.sol.cost,\n",
    "            abs_level=n_antecedent.abs_level,\n",
    "            vertex_name=n_antecedent.path[-1][0], \n",
    "            # Weight of the prior context is parent's weight + vertex cost and edge cost (stored in path_costs)\n",
    "            weight=n_antecedent.weight + n_antecedent.path_costs[-1],\n",
    "            path=n_antecedent.path[:-1],\n",
    "            path_costs=n_antecedent.path_costs[:-1],\n",
    "            sol=n_antecedent.sol,\n",
    "            parent=n_antecedent)\n",
    "        \n",
    "        heap.heappush(self._Q, child)\n",
    "    \n",
    "    def _execute_source_up_rule(self, n_antecedent: ContextNode):\n",
    "        print(f\"Executing SOURCE UP rule for antecedent {n_antecedent.id}\")\n",
    "        lower_abs_level = n_antecedent.abs_level - 1\n",
    "        source_name = self._graphs[lower_abs_level].source_name\n",
    "        # add the source node of the next level to the queue\n",
    "        n_source = StatementNode(\n",
    "                    priority=n_antecedent.priority, # We want this to get popped off immediately after the context above is popped off\n",
    "                    abs_level=lower_abs_level,\n",
    "                    vertex_name=source_name,\n",
    "                    path=[],\n",
    "                    weight=0,\n",
    "                    type=GeneralizedStatementType.STATEMENT)\n",
    "        heap.heappush(self._Q, n_source)\n",
    "\n",
    "    \n",
    "    def _execute_up_rule(self, n_conclusion: GCSHANode):\n",
    "        print(f\"Executing UP rule for conclusion {n_conclusion.id}\")\n",
    "        g: ContactGraph = self._graphs[n_conclusion.abs_level]\n",
    "        abs_fn = self._abs_fns[n_conclusion.abs_level]\n",
    "\n",
    "        # Solve convex restriction on the path from the source to the conclusion to get the weight\n",
    "        g.set_target(n_conclusion.vertex_name)\n",
    "        sol = g.solve_convex_restriction(n_conclusion.path)\n",
    "        g.set_target(self._targets[n_conclusion.abs_level])\n",
    "        if not sol.is_success:\n",
    "            print(f\"Convex restriction failed for {n_conclusion.id} (Conclusion invalid)\")\n",
    "            # Conclusion invalid, do nothing, don't add to Q\n",
    "            return\n",
    "        n_conclusion.sol = sol\n",
    "        n_conclusion.weight = sol.cost\n",
    "        abs_nodes = abs_fn(n_conclusion)\n",
    "        n_conclusion.priority = n_conclusion.weight\n",
    "        for abs_node in abs_nodes:\n",
    "            abs_context = self._S[abs_node.context_id]\n",
    "            # Calculate rule_weight (transition cost)\n",
    "            # TODO Implement \n",
    "            rule_weight = 0\n",
    "            n_conclusion.priority += rule_weight + abs_context.weight\n",
    "        heap.heappush(self._Q, n_conclusion)\n"
   ]
  },
  {
   "cell_type": "code",
   "execution_count": null,
   "metadata": {},
   "outputs": [],
   "source": [
    "alg = GcsHAstarConvexRestriction(graphs, abs_fns)\n",
    "alg.run()"
   ]
  },
  {
   "cell_type": "code",
   "execution_count": null,
   "metadata": {},
   "outputs": [],
   "source": [
    "anim = graphs[0].animate_solution()\n",
    "HTML(anim.to_html5_video())"
   ]
  },
  {
   "cell_type": "markdown",
   "metadata": {},
   "source": [
    "## Diagnosing why GCS HA* doesn't find a path to the target."
   ]
  },
  {
   "cell_type": "markdown",
   "metadata": {},
   "source": [
    "Bug 1"
   ]
  },
  {
   "cell_type": "markdown",
   "metadata": {},
   "source": [
    "At iteration 19, when 0_STATEMENT_source is expanded, it has only one neighbor, 0_STATEMENT_('NC|obs0_f0-obj0_v3', 'NC|obs0_f0-rob0_v1', 'NC|obj0_f3-rob0_v0'). That makes sense.\n",
    "\n",
    "At iteration 20, when 0_STATEMENT_('NC|obs0_f0-obj0_v3', 'NC|obs0_f0-rob0_v1', 'NC|obj0_f3-rob0_v0') is expanded, it does not find any neighbors... This does not make sense, there should be many neighboring sets which get abstracted to a set that already has a context in S... Investigate this!\n",
    "\n",
    "Ok, this was a caused by a bug which was getting the outgoing edges before generating the neighbors in the graph. That is fixed, but the algorithm still isn't finding "
   ]
  },
  {
   "cell_type": "markdown",
   "metadata": {},
   "source": [
    "Now it fails at iteration 215\n",
    "\n",
    "Tracing the solution found by the shortcut edge heuristic,\n",
    "- [\"source\", [in S]\n",
    "- \"('NC|obs0_f0-obj0_v3', 'NC|obs0_f0-rob0_v1', 'NC|obj0_f3-rob0_v0')\",\" [iter]\n",
    "- ('NC|obs0_f0-obj0_v3', 'NC|obs0_f0-rob0_v1', 'NC|obj0_f2-rob0_f2')\", [iter 21]\n",
    "- \"('NC|obs0_f0-obj0_v3', 'NC|obs0_f0-rob0_v1', 'IC|obj0_f1-rob0_f1')\",\n",
    "- \"('IC|obs0_f0-obj0_v3', 'NC|obs0_f0-rob0_v1', 'IC|obj0_f1-rob0_f1')\", [put into Q iter 38 (but not with the above as parent)]\n",
    "- \"('IC|obs0_v0-obj0_f2', 'NC|obs0_f0-rob0_v1', 'IC|obj0_f1-rob0_f1')\", [never put into Q, because required context never put into S]\n",
    "  - The abs of C is 1_STATEMENT_('IC|obs0_v0-obj0_f2',), note that this is a critical mode on the path to the goal.\n",
    "    - it's popped off Q at iter 9, so why doesn't its context ever get put into S, I guess it's because to reach the goal, it will need to go through a set that has already been expanded (in level 1). Lets try allowing for reexpansions, and see what happens\n",
    "- \"('IC|obs0_v0-obj0_f2', 'NC|obs0_f0-rob0_v1', 'NC|obj0_f1-rob0_f1')\",\n",
    "- \"('NC|obs0_f2-obj0_f1', 'NC|obs0_f0-rob0_v1', 'NC|obj0_f1-rob0_f1')\",\n",
    "- \"('NC|obs0_f2-obj0_f1', 'NC|obs0_f0-rob0_v1', 'IC|obj0_f0-rob0_v1')\",\n",
    "- \"('NC|obs0_f2-obj0_f1', 'NC|obs0_f2-rob0_v0', 'IC|obj0_f0-rob0_v1')\",\n",
    "- \"target\"]\n",
    "\n",
    "Need to figure out why 1_CONTEXT_('IC|obs0_v0-obj0_f2',) is never put into S, related to this is how the algorithm handles infeasibility of high level plans.\n",
    "\n",
    "With allowing revisits at level 1, it finds a path, and only through 9 sets, which is pretty good! In fact I think it might be optimal\n"
   ]
  },
  {
   "cell_type": "markdown",
   "metadata": {},
   "source": [
    "## Correspondences between HA\\*LD terminology and GCSHA\\* terminology\n",
    "1. \"Statement\" -> convex set/ vertex in a GCS\n",
    "2. \"Rule\" -> edge or path that gets you from one set to another set within the graph\n",
    "3. Context(C) -> cost to go from set C to target\n",
    "4. BASE Rule -> When the goal at a particular level has been reached, putting Context(goal) into the Q so that the DOWN Rule at the next lower level of abstraction gets fired.\n",
    "5. DOWN Rule -> Referencing context of current set (current node), put parent node (context of earlier set along path to the goal) onto the Q.\n",
    "6. UP Rule -> From a particular set C, explore edges to neighbors (putting neighboring sets into the Q), with weight = cost to come to neighbor (convex restriction through C to neighbor) + Context(abs(neighbor))\n",
    "   1. Note: When this is fired, Context(abs(neighbor)) should already be in S (visited set). (Is this true? Or it seems like depending on the path that was found in the more abstract level, not every neighbor would have their context already in S, I think I might need another data structure, dictionary(?) of rules that are waiting to execute that are stalled because they are missing the context of the one higher level, need to think through this.)"
   ]
  },
  {
   "cell_type": "code",
   "execution_count": 4,
   "metadata": {},
   "outputs": [
    {
     "name": "stderr",
     "output_type": "stream",
     "text": [
      "100%|██████████| 7/7 [00:00<00:00, 9760.68it/s]\n",
      "100%|██████████| 7/7 [00:00<00:00, 7798.17it/s]\n",
      "100%|██████████| 21/21 [00:00<00:00, 15082.26it/s]\n",
      "100%|██████████| 22/22 [00:00<00:00, 12704.76it/s]\n",
      "100%|██████████| 22/22 [00:00<00:00, 8303.31it/s]\n",
      "100%|██████████| 22/22 [00:00<00:00, 7252.59it/s]\n"
     ]
    }
   ],
   "source": [
    "from large_gcs.algorithms.gcs_hastar import GcsHAstar\n",
    "from large_gcs.abstraction_models.contact_two import ContactTwo\n",
    "\n",
    "abs_model = ContactTwo().generate(cg_inc)\n",
    "reexplore_levels = [\"NONE\", \"FULL\"]\n",
    "gcs_hastar = GcsHAstar(abs_model, reexplore_levels)\n",
    "\n"
   ]
  },
  {
   "cell_type": "code",
   "execution_count": 5,
   "metadata": {},
   "outputs": [
    {
     "ename": "RuntimeError",
     "evalue": "Cycle detected in path ['source'\n \"('NC|obs0_f0-obj0_v3', 'NC|obs0_f0-rob0_v1', 'NC|obj0_f3-rob0_v0')\"\n \"('NC|obs0_f0-obj0_v3', 'NC|obs0_f0-rob0_v1', 'IC|obj0_f3-rob0_v0')\"\n \"('NC|obs0_f0-obj0_v3', 'NC|obs0_f0-rob0_v1', 'IC|obj0_f2-rob0_f2')\"]\n[['source'\n  \"('NC|obs0_f0-obj0_v3', 'NC|obs0_f0-rob0_v1', 'NC|obj0_f3-rob0_v0')\"]\n [\"('NC|obs0_f0-obj0_v3', 'NC|obs0_f0-rob0_v1', 'NC|obj0_f3-rob0_v0')\"\n  \"('NC|obs0_f0-obj0_v3', 'NC|obs0_f0-rob0_v1', 'IC|obj0_f3-rob0_v0')\"]\n [\"('NC|obs0_f0-obj0_v3', 'NC|obs0_f0-rob0_v1', 'IC|obj0_f3-rob0_v0')\"\n  \"('NC|obs0_f0-obj0_v3', 'NC|obs0_f0-rob0_v1', 'IC|obj0_f2-rob0_f2')\"]\n [\"('NC|obs0_f0-obj0_v3', 'NC|obs0_f0-rob0_v1', 'IC|obj0_f2-rob0_f2')\"\n  \"('NC|obs0_f0-obj0_v3', 'NC|obs0_f0-rob0_v1', 'IC|obj0_f3-rob0_v0')\"]]",
     "output_type": "error",
     "traceback": [
      "\u001b[0;31m---------------------------------------------------------------------------\u001b[0m",
      "\u001b[0;31mRuntimeError\u001b[0m                              Traceback (most recent call last)",
      "\u001b[1;32m/home/shaoyuan/Documents/Software/large_gcs/explorations/hastar_exploration.ipynb Cell 23\u001b[0m line \u001b[0;36m1\n\u001b[0;32m----> <a href='vscode-notebook-cell:/home/shaoyuan/Documents/Software/large_gcs/explorations/hastar_exploration.ipynb#X31sZmlsZQ%3D%3D?line=0'>1</a>\u001b[0m gcs_hastar\u001b[39m.\u001b[39;49mrun()\n",
      "File \u001b[0;32m~/Documents/Software/large_gcs/large_gcs/algorithms/gcs_hastar.py:52\u001b[0m, in \u001b[0;36mGcsHAstar.run\u001b[0;34m(self)\u001b[0m\n\u001b[1;32m     50\u001b[0m sol \u001b[39m=\u001b[39m \u001b[39mNone\u001b[39;00m\n\u001b[1;32m     51\u001b[0m \u001b[39mwhile\u001b[39;00m sol \u001b[39m==\u001b[39m \u001b[39mNone\u001b[39;00m \u001b[39mand\u001b[39;00m \u001b[39mlen\u001b[39m(\u001b[39mself\u001b[39m\u001b[39m.\u001b[39m_Q) \u001b[39m>\u001b[39m \u001b[39m0\u001b[39m:\n\u001b[0;32m---> 52\u001b[0m     sol \u001b[39m=\u001b[39m \u001b[39mself\u001b[39;49m\u001b[39m.\u001b[39;49m_run_iteration()\n\u001b[1;32m     53\u001b[0m \u001b[39mif\u001b[39;00m sol \u001b[39mis\u001b[39;00m \u001b[39mNone\u001b[39;00m:\n\u001b[1;32m     54\u001b[0m     logger\u001b[39m.\u001b[39mwarn(\u001b[39mf\u001b[39m\u001b[39m\"\u001b[39m\u001b[39mGcs HA* Convex Restriction failed to find a path to the target.\u001b[39m\u001b[39m\"\u001b[39m)\n",
      "File \u001b[0;32m~/Documents/Software/large_gcs/large_gcs/algorithms/gcs_hastar.py:102\u001b[0m, in \u001b[0;36mGcsHAstar._run_iteration\u001b[0;34m(self)\u001b[0m\n\u001b[1;32m    100\u001b[0m \u001b[39m# Check if all required contexts of the abstracted neighbor are in S\u001b[39;00m\n\u001b[1;32m    101\u001b[0m \u001b[39mif\u001b[39;00m \u001b[39mall\u001b[39m([abs_n\u001b[39m.\u001b[39mcontext_id \u001b[39min\u001b[39;00m \u001b[39mself\u001b[39m\u001b[39m.\u001b[39m_S \u001b[39mfor\u001b[39;00m abs_n \u001b[39min\u001b[39;00m abs_neighbor_nodes]):\n\u001b[0;32m--> 102\u001b[0m     \u001b[39mself\u001b[39;49m\u001b[39m.\u001b[39;49m_execute_up_rule(neighbor)\n\u001b[1;32m    103\u001b[0m \u001b[39melse\u001b[39;00m:\n\u001b[1;32m    104\u001b[0m     logger\u001b[39m.\u001b[39mdebug(\u001b[39mf\u001b[39m\u001b[39m\"\u001b[39m\u001b[39mrequired contexts for \u001b[39m\u001b[39m{\u001b[39;00mneighbor\u001b[39m.\u001b[39mid\u001b[39m}\u001b[39;00m\u001b[39m not in S , continuing\u001b[39m\u001b[39m\"\u001b[39m)\n",
      "File \u001b[0;32m~/Documents/Software/large_gcs/large_gcs/algorithms/gcs_hastar.py:206\u001b[0m, in \u001b[0;36mGcsHAstar._execute_up_rule\u001b[0;34m(self, n_conclusion)\u001b[0m\n\u001b[1;32m    204\u001b[0m \u001b[39m# Solve convex restriction on the path from the source to the conclusion to get the weight\u001b[39;00m\n\u001b[1;32m    205\u001b[0m g\u001b[39m.\u001b[39mset_target(n_conclusion\u001b[39m.\u001b[39mvertex_name)\n\u001b[0;32m--> 206\u001b[0m sol \u001b[39m=\u001b[39m g\u001b[39m.\u001b[39;49msolve_convex_restriction(n_conclusion\u001b[39m.\u001b[39;49mpath)\n\u001b[1;32m    207\u001b[0m g\u001b[39m.\u001b[39mset_target(\u001b[39mself\u001b[39m\u001b[39m.\u001b[39m_targets[n_conclusion\u001b[39m.\u001b[39mabs_level])\n\u001b[1;32m    208\u001b[0m \u001b[39mif\u001b[39;00m \u001b[39mnot\u001b[39;00m sol\u001b[39m.\u001b[39mis_success:\n",
      "File \u001b[0;32m~/Documents/Software/large_gcs/large_gcs/graph/incremental_contact_graph.py:294\u001b[0m, in \u001b[0;36mIncrementalContactGraph.solve_convex_restriction\u001b[0;34m(self, active_edges)\u001b[0m\n\u001b[1;32m    290\u001b[0m \u001b[39mdef\u001b[39;00m \u001b[39msolve_convex_restriction\u001b[39m(\n\u001b[1;32m    291\u001b[0m     \u001b[39mself\u001b[39m, active_edges: List[Tuple[\u001b[39mstr\u001b[39m, \u001b[39mstr\u001b[39m]]\n\u001b[1;32m    292\u001b[0m ) \u001b[39m-\u001b[39m\u001b[39m>\u001b[39m ShortestPathSolution:\n\u001b[1;32m    293\u001b[0m     \u001b[39mif\u001b[39;00m \u001b[39mself\u001b[39m\u001b[39m.\u001b[39m_should_add_gcs:\n\u001b[0;32m--> 294\u001b[0m         \u001b[39mreturn\u001b[39;00m \u001b[39msuper\u001b[39;49m()\u001b[39m.\u001b[39;49msolve_convex_restriction(active_edges)\n\u001b[1;32m    295\u001b[0m     \u001b[39melse\u001b[39;00m:\n\u001b[1;32m    296\u001b[0m         \u001b[39mraise\u001b[39;00m \u001b[39mValueError\u001b[39;00m(\n\u001b[1;32m    297\u001b[0m             \u001b[39mf\u001b[39m\u001b[39m\"\u001b[39m\u001b[39mIncremental graph should_add_gcs is False. Must set to True in order to solve.\u001b[39m\u001b[39m\"\u001b[39m\n\u001b[1;32m    298\u001b[0m         )\n",
      "File \u001b[0;32m~/Documents/Software/large_gcs/large_gcs/graph/graph.py:382\u001b[0m, in \u001b[0;36mGraph.solve_convex_restriction\u001b[0;34m(self, active_edges)\u001b[0m\n\u001b[1;32m    376\u001b[0m gcs_edges \u001b[39m=\u001b[39m [\u001b[39mself\u001b[39m\u001b[39m.\u001b[39medges[edge_key]\u001b[39m.\u001b[39mgcs_edge \u001b[39mfor\u001b[39;00m edge_key \u001b[39min\u001b[39;00m active_edges]\n\u001b[1;32m    377\u001b[0m result \u001b[39m=\u001b[39m \u001b[39mself\u001b[39m\u001b[39m.\u001b[39m_gcs\u001b[39m.\u001b[39mSolveConvexRestriction(\n\u001b[1;32m    378\u001b[0m     gcs_edges,\n\u001b[1;32m    379\u001b[0m     \u001b[39mself\u001b[39m\u001b[39m.\u001b[39m_gcs_options_wo_relaxation,\n\u001b[1;32m    380\u001b[0m )\n\u001b[0;32m--> 382\u001b[0m sol \u001b[39m=\u001b[39m \u001b[39mself\u001b[39;49m\u001b[39m.\u001b[39;49m_parse_convex_restriction_result(result, active_edges)\n\u001b[1;32m    384\u001b[0m \u001b[39m# Optional post solve hook for subclasses\u001b[39;00m\n\u001b[1;32m    385\u001b[0m \u001b[39mself\u001b[39m\u001b[39m.\u001b[39m_post_solve(sol)\n",
      "File \u001b[0;32m~/Documents/Software/large_gcs/large_gcs/graph/graph.py:474\u001b[0m, in \u001b[0;36mGraph._parse_convex_restriction_result\u001b[0;34m(self, result, active_edges)\u001b[0m\n\u001b[1;32m    472\u001b[0m     \u001b[39massert\u001b[39;00m \u001b[39mself\u001b[39m\u001b[39m.\u001b[39msource_name \u001b[39mis\u001b[39;00m \u001b[39mnot\u001b[39;00m \u001b[39mNone\u001b[39;00m\n\u001b[1;32m    473\u001b[0m     \u001b[39massert\u001b[39;00m \u001b[39mself\u001b[39m\u001b[39m.\u001b[39mtarget_name \u001b[39mis\u001b[39;00m \u001b[39mnot\u001b[39;00m \u001b[39mNone\u001b[39;00m\n\u001b[0;32m--> 474\u001b[0m     vertex_path \u001b[39m=\u001b[39m \u001b[39mself\u001b[39;49m\u001b[39m.\u001b[39;49m_convert_active_edges_to_vertex_path(\n\u001b[1;32m    475\u001b[0m         \u001b[39mself\u001b[39;49m\u001b[39m.\u001b[39;49msource_name, \u001b[39mself\u001b[39;49m\u001b[39m.\u001b[39;49mtarget_name, active_edges\n\u001b[1;32m    476\u001b[0m     )\n\u001b[1;32m    478\u001b[0m     ambient_path \u001b[39m=\u001b[39m [\n\u001b[1;32m    479\u001b[0m         result\u001b[39m.\u001b[39mGetSolution(\u001b[39mself\u001b[39m\u001b[39m.\u001b[39mvertices[v]\u001b[39m.\u001b[39mgcs_vertex\u001b[39m.\u001b[39mx()) \u001b[39mfor\u001b[39;00m v \u001b[39min\u001b[39;00m vertex_path\n\u001b[1;32m    480\u001b[0m     ]\n\u001b[1;32m    482\u001b[0m \u001b[39mreturn\u001b[39;00m ShortestPathSolution(\n\u001b[1;32m    483\u001b[0m     result\u001b[39m.\u001b[39mis_success(), cost, time, vertex_path, ambient_path, flows, result\n\u001b[1;32m    484\u001b[0m )\n",
      "File \u001b[0;32m~/Documents/Software/large_gcs/large_gcs/graph/graph.py:598\u001b[0m, in \u001b[0;36mGraph._convert_active_edges_to_vertex_path\u001b[0;34m(source_name, target_name, edges)\u001b[0m\n\u001b[1;32m    595\u001b[0m \u001b[39mwhile\u001b[39;00m path[\u001b[39m-\u001b[39m\u001b[39m1\u001b[39m] \u001b[39min\u001b[39;00m neighbors:\n\u001b[1;32m    596\u001b[0m     \u001b[39mif\u001b[39;00m neighbors[path[\u001b[39m-\u001b[39m\u001b[39m1\u001b[39m]] \u001b[39min\u001b[39;00m path:\n\u001b[1;32m    597\u001b[0m         \u001b[39m# We have a cycle\u001b[39;00m\n\u001b[0;32m--> 598\u001b[0m         \u001b[39mraise\u001b[39;00m \u001b[39mRuntimeError\u001b[39;00m(\n\u001b[1;32m    599\u001b[0m             \u001b[39mf\u001b[39m\u001b[39m\"\u001b[39m\u001b[39mCycle detected in path \u001b[39m\u001b[39m{\u001b[39;00mnp\u001b[39m.\u001b[39marray(path)\u001b[39m}\u001b[39;00m\u001b[39m\\n\u001b[39;00m\u001b[39m{\u001b[39;00mnp\u001b[39m.\u001b[39marray(edges)\u001b[39m}\u001b[39;00m\u001b[39m\"\u001b[39m\n\u001b[1;32m    600\u001b[0m         )\n\u001b[1;32m    601\u001b[0m     \u001b[39m# Add the neighbor to the path\u001b[39;00m\n\u001b[1;32m    602\u001b[0m     path\u001b[39m.\u001b[39mappend(neighbors[path[\u001b[39m-\u001b[39m\u001b[39m1\u001b[39m]])\n",
      "\u001b[0;31mRuntimeError\u001b[0m: Cycle detected in path ['source'\n \"('NC|obs0_f0-obj0_v3', 'NC|obs0_f0-rob0_v1', 'NC|obj0_f3-rob0_v0')\"\n \"('NC|obs0_f0-obj0_v3', 'NC|obs0_f0-rob0_v1', 'IC|obj0_f3-rob0_v0')\"\n \"('NC|obs0_f0-obj0_v3', 'NC|obs0_f0-rob0_v1', 'IC|obj0_f2-rob0_f2')\"]\n[['source'\n  \"('NC|obs0_f0-obj0_v3', 'NC|obs0_f0-rob0_v1', 'NC|obj0_f3-rob0_v0')\"]\n [\"('NC|obs0_f0-obj0_v3', 'NC|obs0_f0-rob0_v1', 'NC|obj0_f3-rob0_v0')\"\n  \"('NC|obs0_f0-obj0_v3', 'NC|obs0_f0-rob0_v1', 'IC|obj0_f3-rob0_v0')\"]\n [\"('NC|obs0_f0-obj0_v3', 'NC|obs0_f0-rob0_v1', 'IC|obj0_f3-rob0_v0')\"\n  \"('NC|obs0_f0-obj0_v3', 'NC|obs0_f0-rob0_v1', 'IC|obj0_f2-rob0_f2')\"]\n [\"('NC|obs0_f0-obj0_v3', 'NC|obs0_f0-rob0_v1', 'IC|obj0_f2-rob0_f2')\"\n  \"('NC|obs0_f0-obj0_v3', 'NC|obs0_f0-rob0_v1', 'IC|obj0_f3-rob0_v0')\"]]"
     ]
    }
   ],
   "source": [
    "gcs_hastar.run()"
   ]
  },
  {
   "cell_type": "code",
   "execution_count": null,
   "metadata": {},
   "outputs": [],
   "source": []
  }
 ],
 "metadata": {
  "kernelspec": {
   "display_name": ".venv",
   "language": "python",
   "name": "python3"
  },
  "language_info": {
   "codemirror_mode": {
    "name": "ipython",
    "version": 3
   },
   "file_extension": ".py",
   "mimetype": "text/x-python",
   "name": "python",
   "nbconvert_exporter": "python",
   "pygments_lexer": "ipython3",
   "version": "3.8.10"
  }
 },
 "nbformat": 4,
 "nbformat_minor": 2
}
