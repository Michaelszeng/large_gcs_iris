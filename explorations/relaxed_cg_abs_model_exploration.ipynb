{
 "cells": [
  {
   "cell_type": "code",
   "execution_count": 1,
   "metadata": {},
   "outputs": [],
   "source": [
    "from collections import namedtuple\n",
    "from dataclasses import dataclass\n",
    "from enum import Enum\n",
    "import heapq as heap\n",
    "from copy import copy\n",
    "from typing import Optional, List\n",
    "import numpy as np\n",
    "from IPython.display import HTML\n",
    "\n",
    "from large_gcs.graph.incremental_relaxed_contact_graph import IncrementalRelaxedContactGraph\n",
    "from large_gcs.graph.incremental_contact_graph import IncrementalContactGraph\n",
    "from large_gcs.graph.contact_graph import ContactGraph\n",
    "from large_gcs.graph.graph import ShortestPathSolution, Graph\n",
    "from large_gcs.graph_generators.contact_graph_generator import ContactGraphGeneratorParams\n",
    "from large_gcs.graph.factored_collision_free_graph import FactoredCollisionFreeGraph\n",
    "from large_gcs.cost_estimators.factored_collision_free_ce import FactoredCollisionFreeCE\n",
    "\n",
    "import logging\n",
    "logging.basicConfig(level=logging.INFO)\n",
    "logging.getLogger(\"drake\").setLevel(logging.ERROR)"
   ]
  },
  {
   "cell_type": "code",
   "execution_count": 2,
   "metadata": {},
   "outputs": [
    {
     "name": "stderr",
     "output_type": "stream",
     "text": [
      "INFO:large_gcs.graph.contact_graph:Creating vertex costs...\n"
     ]
    },
    {
     "name": "stdout",
     "output_type": "stream",
     "text": [
      "Set parameter Username\n",
      "Academic license - for non-commercial use only - expires 2024-04-01\n"
     ]
    },
    {
     "name": "stderr",
     "output_type": "stream",
     "text": [
      "100%|██████████| 2/2 [00:00<00:00, 12087.33it/s]\n",
      "INFO:large_gcs.graph.graph:Adding 2 vertices to graph...\n",
      "100%|██████████| 2/2 [00:00<00:00, 13025.79it/s]\n",
      "INFO:large_gcs.graph.contact_graph:Generating contact pair modes for 12 body pairs...\n",
      "100%|██████████| 12/12 [00:00<00:00, 69.00it/s]\n",
      "INFO:large_gcs.graph.incremental_contact_graph:Calculating adjacent contact pair modes (345)\n",
      "100%|██████████| 345/345 [00:00<00:00, 6150.69it/s]\n",
      "INFO:large_gcs.graph.contact_graph:Creating vertex costs...\n",
      "100%|██████████| 2/2 [00:00<00:00, 27685.17it/s]\n",
      "INFO:large_gcs.graph.graph:Adding 2 vertices to graph...\n",
      "100%|██████████| 2/2 [00:00<00:00, 21564.54it/s]\n",
      "INFO:large_gcs.graph.incremental_relaxed_contact_graph:Generating contact pair modes for 12 body pairs...\n",
      "100%|██████████| 9/9 [00:00<00:00, 72.46it/s]\n",
      "100%|██████████| 3/3 [00:00<00:00, 114.94it/s]\n",
      "INFO:large_gcs.graph.incremental_contact_graph:Calculating adjacent contact pair modes (264)\n",
      "100%|██████████| 264/264 [00:00<00:00, 6994.70it/s]\n"
     ]
    }
   ],
   "source": [
    "graph_name = \"cg_radialsort_a1\"\n",
    "graph_file = ContactGraphGeneratorParams.inc_graph_file_path_from_name(graph_name)\n",
    "cg_inc = IncrementalContactGraph.load_from_file(graph_file, should_add_gcs=True)\n",
    "cg_inc_relaxed = IncrementalRelaxedContactGraph.load_from_file(graph_file, should_add_gcs=True, should_incl_simul_mode_switches=False)"
   ]
  },
  {
   "cell_type": "code",
   "execution_count": 3,
   "metadata": {},
   "outputs": [],
   "source": [
    "full_v_name = cg_inc.vertex_names[2]\n",
    "rc_v_name = cg_inc_relaxed.vertex_names[2]"
   ]
  },
  {
   "cell_type": "code",
   "execution_count": 4,
   "metadata": {},
   "outputs": [
    {
     "name": "stdout",
     "output_type": "stream",
     "text": [
      "('NC|obs0_f1-obj0_v2', 'NC|obs0_f2-obj1_v3', 'NC|obs0_f1-rob0_v2', 'NC|obs1_f2-obj0_v3', 'NC|obs1_f2-obj1_v3', 'NC|obs1_f2-rob0_v3', 'NC|obs2_f1-obj0_v2', 'NC|obs2_f1-obj1_v2', 'NC|obs2_f1-rob0_v2', 'NC|obj0_f1-obj1_f3', 'NC|obj0_f0-rob0_f2', 'NC|obj1_f0-rob0_f2')\n",
      "('NC|obs0_f1-obj0_v2', 'NC|obs0_f2-obj1_v3', 'NC|obs0_f1-rob0_v2', 'NC|obs1_f2-obj0_v3', 'NC|obs1_f2-obj1_v3', 'NC|obs1_f2-rob0_v3', 'NC|obs2_f1-obj0_v2', 'NC|obs2_f1-obj1_v2', 'NC|obs2_f1-rob0_v2', 'RNC|obj0-obj1', 'RNC|obj0-rob0', 'RNC|obj1-rob0')\n"
     ]
    }
   ],
   "source": [
    "print(full_v_name)\n",
    "print(rc_v_name)"
   ]
  },
  {
   "cell_type": "code",
   "execution_count": 9,
   "metadata": {},
   "outputs": [
    {
     "name": "stdout",
     "output_type": "stream",
     "text": [
      "('NC|obs0_f1-obj0_v2', 'NC|obs0_f2-obj1_v3', 'NC|obs0_f1-rob0_v2', 'NC|obs1_f2-obj0_v3', 'NC|obs1_f2-obj1_v3', 'NC|obs1_f2-rob0_v3', 'NC|obs2_f1-obj0_v2', 'NC|obs2_f1-obj1_v2', 'NC|obs2_f1-rob0_v2', 'RNC|obj0-obj1', 'RNC|obj0-rob0', 'RNC|obj1-rob0')\n",
      "('NC|obs0_f1-obj0_v2', 'NC|obs0_f2-obj1_v3', 'NC|obs0_f1-rob0_v2', 'NC|obs1_f2-obj0_v3', 'NC|obs1_f2-obj1_v3', 'NC|obs1_f2-rob0_v3', 'NC|obs2_f1-obj0_v2', 'NC|obs2_f1-obj1_v2', 'NC|obs2_f1-rob0_v2', 'RNC|obj0-obj1', 'RNC|obj0-rob0', 'RNC|obj1-rob0')\n"
     ]
    }
   ],
   "source": [
    "print(rc_v_name)\n",
    "print(IncrementalRelaxedContactGraph.full_to_relaxed_contact_vertex_name(full_v_name))"
   ]
  },
  {
   "cell_type": "code",
   "execution_count": 6,
   "metadata": {},
   "outputs": [
    {
     "name": "stdout",
     "output_type": "stream",
     "text": [
      "NC|obs2_f1-rob0_v2 -> NC|obs2-rob0\n",
      "NC|obs1_v2-rob0_f32 -> NC|obs1-rob0\n"
     ]
    }
   ],
   "source": [
    "import re\n",
    "\n",
    "def convert_string(s):\n",
    "    # This regex will match the undesired parts, like _f1, _v2, or their combinations with other characters\n",
    "    pattern = r'(_f\\d+|_v\\d+|\\_f\\d+_\\w+|\\_v\\d+_\\w+)'\n",
    "    # This will replace those parts with an empty string\n",
    "    return re.sub(pattern, '', s)\n",
    "\n",
    "# Test the function\n",
    "test_strings = ['NC|obs2_f1-rob0_v2', 'NC|obs1_v2-rob0_f32']\n",
    "converted_strings = [convert_string(s) for s in test_strings]\n",
    "\n",
    "for original, converted in zip(test_strings, converted_strings):\n",
    "    print(f'{original} -> {converted}')\n"
   ]
  },
  {
   "cell_type": "code",
   "execution_count": 7,
   "metadata": {},
   "outputs": [
    {
     "name": "stdout",
     "output_type": "stream",
     "text": [
      "('IC|obs0_f1-obj0_v2', 'IC|obs0_f2-obj1_v3', 'NC|obs0_f1-rob0_v2', 'IC|obs1_f2-obj0_v3', 'NC|obs1_f2-obj1_v3', 'IC|obs1_f2-rob0_v3', 'NC|obs2_f1-obj0_v2', 'IC|obs2_f1-obj1_v2', 'NC|obs2_f1-rob0_v2', 'IC|obj0_v31-obj1_f33', 'NC|obj0_f0-rob0_f2', 'IC|obj1_f230-rob0_v2')\n",
      "('IC|obs0_f1-obj0_v2', 'IC|obs0_f2-obj1_v3', 'NC|obs0_f1-rob0_v2', 'IC|obs1_f2-obj0_v3', 'NC|obs1_f2-obj1_v3', 'IC|obs1_f2-rob0_v3', 'NC|obs2_f1-obj0_v2', 'IC|obs2_f1-obj1_v2', 'NC|obs2_f1-rob0_v2', 'RIC|obj0-obj1', 'RNC|obj0-rob0', 'RIC|obj1-rob0')\n"
     ]
    }
   ],
   "source": [
    "test = \"('IC|obs0_f1-obj0_v2', 'IC|obs0_f2-obj1_v3', 'NC|obs0_f1-rob0_v2', 'IC|obs1_f2-obj0_v3', 'NC|obs1_f2-obj1_v3', 'IC|obs1_f2-rob0_v3', 'NC|obs2_f1-obj0_v2', 'IC|obs2_f1-obj1_v2', 'NC|obs2_f1-rob0_v2', 'IC|obj0_v31-obj1_f33', 'NC|obj0_f0-rob0_f2', 'IC|obj1_f230-rob0_v2')\"\n",
    "print(test)\n",
    "rc_res = IncrementalRelaxedContactGraph.full_to_relaxed_contact_vertex_name(test)\n",
    "print(rc_res)"
   ]
  },
  {
   "cell_type": "code",
   "execution_count": 8,
   "metadata": {},
   "outputs": [
    {
     "name": "stdout",
     "output_type": "stream",
     "text": [
      "[\"('NC|obs0_f1-obj0_v2', 'NC|obs1_f2-obj0_v3', 'NC|obs2_f1-obj0_v2')\", \"('NC|obs0_f2-obj1_v3', 'NC|obs1_f2-obj1_v3', 'NC|obs2_f1-obj1_v2')\", \"('NC|obs0_f1-rob0_v2', 'NC|obs1_f2-rob0_v3', 'NC|obs2_f1-rob0_v2')\"]\n",
      "[\"('NC|obs0_f1-obj0_v2', 'NC|obs1_f2-obj0_v3', 'NC|obs2_f1-obj0_v2')\", \"('NC|obs0_f2-obj1_v3', 'NC|obs1_f2-obj1_v3', 'NC|obs2_f1-obj1_v2')\", \"('NC|obs0_f1-rob0_v2', 'NC|obs1_f2-rob0_v3', 'NC|obs2_f1-rob0_v2')\"]\n"
     ]
    }
   ],
   "source": [
    "print(FactoredCollisionFreeCE.convert_to_cfree_vertex_names(test))\n",
    "print(FactoredCollisionFreeCE.convert_to_cfree_vertex_names(rc_res))"
   ]
  },
  {
   "cell_type": "code",
   "execution_count": null,
   "metadata": {},
   "outputs": [],
   "source": []
  }
 ],
 "metadata": {
  "kernelspec": {
   "display_name": ".venv",
   "language": "python",
   "name": "python3"
  },
  "language_info": {
   "codemirror_mode": {
    "name": "ipython",
    "version": 3
   },
   "file_extension": ".py",
   "mimetype": "text/x-python",
   "name": "python",
   "nbconvert_exporter": "python",
   "pygments_lexer": "ipython3",
   "version": "3.8.10"
  }
 },
 "nbformat": 4,
 "nbformat_minor": 2
}
