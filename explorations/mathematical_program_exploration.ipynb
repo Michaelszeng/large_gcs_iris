{
 "cells": [
  {
   "cell_type": "code",
   "execution_count": null,
   "metadata": {},
   "outputs": [],
   "source": [
    "from pydrake.all import (\n",
    "    MathematicalProgram,\n",
    "    DecomposeLinearExpressions,\n",
    "    L2NormCost,\n",
    "    Binding,\n",
    "    Cost,\n",
    ")\n",
    "import numpy as np"
   ]
  },
  {
   "attachments": {},
   "cell_type": "markdown",
   "metadata": {},
   "source": [
    "## Understanding DecomposeLinearExpressions()"
   ]
  },
  {
   "cell_type": "code",
   "execution_count": null,
   "metadata": {},
   "outputs": [],
   "source": [
    "prog = MathematicalProgram()\n",
    "\n",
    "x = prog.NewContinuousVariables(3)\n",
    "exprs = [x[0] * 5 - x[1], x[1] * 2, x[2] * 3 + x[0]]\n",
    "A = DecomposeLinearExpressions(exprs, x)\n",
    "print(A)"
   ]
  },
  {
   "cell_type": "code",
   "execution_count": null,
   "metadata": {},
   "outputs": [],
   "source": [
    "prog = MathematicalProgram()\n",
    "\n",
    "x = prog.NewContinuousVariables(2, 2)\n",
    "exprs = x[0] - x[1]\n",
    "A = DecomposeLinearExpressions(exprs, x.flatten())\n",
    "print(A)\n",
    "b = np.zeros((A.shape[0], 1))\n",
    "print(b)\n",
    "l2_norm_cost = L2NormCost(A, b)\n",
    "prog.AddCost(l2_norm_cost, x.flatten())"
   ]
  },
  {
   "cell_type": "code",
   "execution_count": 8,
   "metadata": {},
   "outputs": [
    {
     "name": "stdout",
     "output_type": "stream",
     "text": [
      "[[ 1.  0. -1. -0.]\n",
      " [ 0.  1. -0. -1.]\n",
      " [-1. -0.  1.  0.]\n",
      " [-0. -1.  0.  1.]]\n",
      "( - 2 * (x(0,0) * x(1,0)) - 2 * (x(0,1) * x(1,1)) + pow(x(0,0), 2) + pow(x(1,0), 2) + pow(x(0,1), 2) + pow(x(1,1), 2))\n"
     ]
    }
   ],
   "source": [
    "import numpy as np\n",
    "from pydrake.all import MathematicalProgram, QuadraticCost\n",
    "\n",
    "n = 2  # Dimension of x1 and x2\n",
    "prog = MathematicalProgram()\n",
    "\n",
    "x = prog.NewContinuousVariables(2, n).reshape(1, 2 * n)\n",
    "I_n = np.identity(n)\n",
    "Q = np.block([[I_n, -I_n], [-I_n, I_n]])\n",
    "b = np.zeros((2 * n, 1))\n",
    "c = 0\n",
    "cost = QuadraticCost(Q, b, c)\n",
    "prog.AddCost(cost, x.flatten())\n",
    "expr = (x @ Q @ x.T).flatten()[0]\n",
    "print(Q)\n",
    "print(expr.Expand())"
   ]
  },
  {
   "cell_type": "code",
   "execution_count": 2,
   "metadata": {},
   "outputs": [
    {
     "name": "stdout",
     "output_type": "stream",
     "text": [
      "[[ 0.         -1.        ]\n",
      " [ 1.          0.        ]\n",
      " [ 0.          1.        ]\n",
      " [-1.          0.        ]\n",
      " [-0.83205029  0.5547002 ]]\n",
      "[-1.         11.          9.         -1.          0.83205029]\n"
     ]
    },
    {
     "name": "stderr",
     "output_type": "stream",
     "text": [
      "/var/folders/sl/37m0k__51_3_5c5j02w201r40000gn/T/ipykernel_2526/3839834863.py:12: RuntimeWarning: invalid value encountered in subtract\n",
      "  p_ROB_boundary_W = x[:,np.newaxis] - rob_radius\n",
      "/var/folders/sl/37m0k__51_3_5c5j02w201r40000gn/T/ipykernel_2526/3839834863.py:13: RuntimeWarning: invalid value encountered in matmul\n",
      "  exprs = A @ p_ROB_boundary_W - b\n",
      "/var/folders/sl/37m0k__51_3_5c5j02w201r40000gn/T/ipykernel_2526/3839834863.py:13: RuntimeWarning: invalid value encountered in subtract\n",
      "  exprs = A @ p_ROB_boundary_W - b\n"
     ]
    },
    {
     "data": {
      "image/png": "[encoded data removed]",
      "text/plain": [
       "<Figure size 640x480 with 1 Axes>"
      ]
     },
     "metadata": {},
     "output_type": "display_data"
    }
   ],
   "source": [
    "from pydrake.all import DecomposeAffineExpression, MathematicalProgram\n",
    "from large_gcs.geometry.polyhedron import Polyhedron\n",
    "from matplotlib import pyplot as plt\n",
    "import numpy as np\n",
    "\n",
    "S_coll_free_W = Polyhedron.from_vertices(([0, 0], [10, 0], [10, 8], [4, 8], [0, 2]))\n",
    "rob_radius = 1\n",
    "A = S_coll_free_W.set.A()\n",
    "b = S_coll_free_W.set.b()[:, np.newaxis]\n",
    "prog = MathematicalProgram()\n",
    "x = prog.NewContinuousVariables(2, \"x\")\n",
    "p_ROB_boundary_W = x[:, np.newaxis] - rob_radius\n",
    "exprs = A @ p_ROB_boundary_W - b\n",
    "A_new = []\n",
    "b_new = []\n",
    "map_var_to_index = {v.get_id(): i for i, v in enumerate(x)}\n",
    "\n",
    "for expr in exprs:\n",
    "    coeffs, c0 = DecomposeAffineExpression(expr[0], map_var_to_index)\n",
    "    A_new.append(coeffs)\n",
    "    b_new.append(c0 * -1)\n",
    "A_new = np.array(A_new)\n",
    "b_new = np.array(b_new)\n",
    "print(A_new)\n",
    "print(b_new)\n",
    "new_set = Polyhedron(A_new, b_new)\n",
    "fig = plt.figure()\n",
    "S_coll_free_W.plot()\n",
    "new_set.plot()\n",
    "plt.show()"
   ]
  },
  {
   "attachments": {},
   "cell_type": "markdown",
   "metadata": {},
   "source": [
    "Does DecomposeAffineExpression work when you have ExpressionMin as the expression? I think then it's not an affine expression..."
   ]
  },
  {
   "cell_type": "code",
   "execution_count": 3,
   "metadata": {},
   "outputs": [
    {
     "ename": "RuntimeError",
     "evalue": "Expression min((1 + x(0)), (2 + x(1)))is not a polynomial.\n",
     "output_type": "error",
     "traceback": [
      "\u001b[0;31m---------------------------------------------------------------------------\u001b[0m",
      "\u001b[0;31mRuntimeError\u001b[0m                              Traceback (most recent call last)",
      "Cell \u001b[0;32mIn[3], line 7\u001b[0m\n\u001b[1;32m      5\u001b[0m x \u001b[39m=\u001b[39m prog\u001b[39m.\u001b[39mNewContinuousVariables(\u001b[39m2\u001b[39m,\u001b[39m\"\u001b[39m\u001b[39mx\u001b[39m\u001b[39m\"\u001b[39m)\n\u001b[1;32m      6\u001b[0m expr \u001b[39m=\u001b[39m \u001b[39mmin\u001b[39m(x[\u001b[39m0\u001b[39m]\u001b[39m+\u001b[39m \u001b[39m1\u001b[39m, x[\u001b[39m1\u001b[39m] \u001b[39m+\u001b[39m \u001b[39m2\u001b[39m)\n\u001b[0;32m----> 7\u001b[0m coeffs, c0 \u001b[39m=\u001b[39m DecomposeAffineExpression(expr, {v\u001b[39m.\u001b[39;49mget_id(): i \u001b[39mfor\u001b[39;49;00m i, v \u001b[39min\u001b[39;49;00m \u001b[39menumerate\u001b[39;49m(x)})\n",
      "\u001b[0;31mRuntimeError\u001b[0m: Expression min((1 + x(0)), (2 + x(1)))is not a polynomial.\n"
     ]
    }
   ],
   "source": [
    "from pydrake.all import MathematicalProgram, DecomposeAffineExpression, min\n",
    "import numpy as np\n",
    "\n",
    "prog = MathematicalProgram()\n",
    "x = prog.NewContinuousVariables(2, \"x\")\n",
    "expr = min(x[0] + 1, x[1] + 2)\n",
    "coeffs, c0 = DecomposeAffineExpression(expr, {v.get_id(): i for i, v in enumerate(x)})"
   ]
  },
  {
   "cell_type": "code",
   "execution_count": 2,
   "metadata": {},
   "outputs": [
    {
     "data": {
      "text/plain": [
       "9.65685424949238"
      ]
     },
     "execution_count": 2,
     "metadata": {},
     "output_type": "execute_result"
    }
   ],
   "source": [
    "import numpy as np\n",
    "from math import sqrt\n",
    "a = np.array([2,0,2,0])\n",
    "np.linalg.norm(a) + 2*sqrt(2) +2*2"
   ]
  },
  {
   "cell_type": "code",
   "execution_count": null,
   "metadata": {},
   "outputs": [],
   "source": []
  }
 ],
 "metadata": {
  "kernelspec": {
   "display_name": ".venv",
   "language": "python",
   "name": "python3"
  },
  "language_info": {
   "codemirror_mode": {
    "name": "ipython",
    "version": 3
   },
   "file_extension": ".py",
   "mimetype": "text/x-python",
   "name": "python",
   "nbconvert_exporter": "python",
   "pygments_lexer": "ipython3",
   "version": "3.11.4"
  },
  "orig_nbformat": 4
 },
 "nbformat": 4,
 "nbformat_minor": 2
}
