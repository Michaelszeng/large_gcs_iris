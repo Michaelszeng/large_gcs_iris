{
 "cells": [
  {
   "cell_type": "code",
   "execution_count": 1,
   "metadata": {},
   "outputs": [],
   "source": [
    "import logging\n",
    "from large_gcs.graph_generators.contact_graph_generator import (\n",
    "    ContactGraphGeneratorParams,\n",
    "    ContactGraphGenerator,\n",
    ")\n",
    "from large_gcs.algorithms.search_algorithm import ReexploreLevel, TieBreak\n",
    "from large_gcs.graph.contact_graph import ContactGraph\n",
    "from large_gcs.algorithms.gcs_astar import GcsAstar\n",
    "from large_gcs.algorithms.gcs_astar_subopt import GcsAstarSubOpt\n",
    "from large_gcs.algorithms.gcs_astar_convex_restriction import GcsAstarConvexRestriction\n",
    "from large_gcs.algorithms.gcs_astar_tree import GcsAstarTree\n",
    "from large_gcs.graph.contact_cost_constraint_factory import (\n",
    "    contact_shortcut_edge_cost_factory_under,\n",
    "    contact_shortcut_edge_cost_factory_over_obj_weighted,\n",
    ")\n",
    "from large_gcs.cost_estimators.shortcut_edge_ce import ShortcutEdgeCE\n",
    "from large_gcs.cost_estimators.factored_collision_free_ce import FactoredCollisionFreeCE\n",
    "\n",
    "\n",
    "import numpy as np\n",
    "from copy import deepcopy\n",
    "from IPython.display import HTML, display\n",
    "\n",
    "\n",
    "np.set_printoptions(formatter={\"float\": lambda x: \"{0:0.3f}\".format(x)})\n",
    "logging.basicConfig(level=logging.WARNING)\n",
    "logging.getLogger(\"large_gcs\").setLevel(logging.INFO)\n",
    "logging.getLogger(\"drake\").setLevel(logging.WARNING)"
   ]
  },
  {
   "cell_type": "code",
   "execution_count": 2,
   "metadata": {},
   "outputs": [
    {
     "name": "stderr",
     "output_type": "stream",
     "text": [
      "INFO:large_gcs.graph.contact_graph:Loading 20 contact pair modes for 3 bodies...\n",
      "INFO:large_gcs.graph.contact_graph:Generating contact sets for 179 sets...\n"
     ]
    },
    {
     "name": "stdout",
     "output_type": "stream",
     "text": [
      "Set parameter Username\n",
      "Academic license - for non-commercial use only - expires 2024-03-04\n"
     ]
    },
    {
     "name": "stderr",
     "output_type": "stream",
     "text": [
      "100%|██████████| 179/179 [00:04<00:00, 43.65it/s]\n",
      "INFO:large_gcs.graph.contact_graph:Creating vertex costs...\n",
      "100%|██████████| 181/181 [00:00<00:00, 6897.40it/s]\n",
      "INFO:large_gcs.graph.graph:Adding 181 vertices to graph...\n",
      "100%|██████████| 181/181 [00:00<00:00, 13044.14it/s]\n",
      "INFO:large_gcs.graph.contact_graph:Creating edge costs...\n",
      "100%|██████████| 6408/6408 [00:00<00:00, 8102.93it/s]\n",
      "INFO:large_gcs.graph.contact_graph:Creating edge constraints...\n",
      "100%|██████████| 6408/6408 [00:01<00:00, 4161.03it/s]\n",
      "INFO:large_gcs.graph.graph:Adding 6408 edges to graph...\n",
      "100%|██████████| 6408/6408 [00:01<00:00, 3760.11it/s]\n",
      "INFO:large_gcs.graph.contact_graph:Created contact graph: GraphParams(dim_bounds=(4, 18), n_vertices=181, n_edges=6408, source=[array([3.250, 0.000]), array([1.500, 0.500])], target=[array([-1.500, 0.000]), array([-3,  0])], workspace=array([[-5,  5],\n",
      "       [-4,  4]]), default_costs_constraints=None)\n"
     ]
    }
   ],
   "source": [
    "cg = ContactGraph.load_from_file(ContactGraphGeneratorParams.graph_file_path_from_name(\"cg_trichal2\"))"
   ]
  },
  {
   "cell_type": "code",
   "execution_count": null,
   "metadata": {},
   "outputs": [],
   "source": [
    "cg.plot()"
   ]
  },
  {
   "cell_type": "code",
   "execution_count": null,
   "metadata": {},
   "outputs": [],
   "source": [
    "cost_estimator_se = ShortcutEdgeCE(cg, contact_shortcut_edge_cost_factory_over_obj_weighted)\n",
    "gcs_astar_se = GcsAstarConvexRestriction(\n",
    "    cg,\n",
    "    cost_estimator=cost_estimator_se,\n",
    "    reexplore_level=ReexploreLevel.NONE,\n",
    ")\n",
    "sol_se = gcs_astar_se.run()"
   ]
  },
  {
   "cell_type": "code",
   "execution_count": null,
   "metadata": {},
   "outputs": [],
   "source": [
    "anim = cg.animate_solution()\n",
    "HTML(anim.to_html5_video())"
   ]
  },
  {
   "cell_type": "code",
   "execution_count": null,
   "metadata": {},
   "outputs": [],
   "source": [
    "gcs_astar = GcsAstarSubOpt(cg, use_convex_relaxation=False, shortcut_edge_cost_factory=contact_shortcut_edge_cost_factory_over_obj_weighted)\n",
    "sol = gcs_astar.run(verbose=True)"
   ]
  },
  {
   "cell_type": "code",
   "execution_count": null,
   "metadata": {},
   "outputs": [],
   "source": [
    "cost_estimator_se = ShortcutEdgeCE(cg, contact_shortcut_edge_cost_factory_over_obj_weighted)\n",
    "gcs_astar_se = GcsAstarTree(\n",
    "    cg,\n",
    "    cost_estimator=cost_estimator_se,\n",
    "    reexplore_level=ReexploreLevel.NONE,\n",
    "    tiebreak=TieBreak.FIFO\n",
    ")\n",
    "sol_se = gcs_astar_se.run()"
   ]
  },
  {
   "cell_type": "code",
   "execution_count": null,
   "metadata": {},
   "outputs": [],
   "source": [
    "anim = cg.animate_solution()\n",
    "HTML(anim.to_html5_video())"
   ]
  },
  {
   "cell_type": "code",
   "execution_count": 5,
   "metadata": {},
   "outputs": [
    {
     "name": "stderr",
     "output_type": "stream",
     "text": [
      "INFO:large_gcs.cost_estimators.factored_collision_free_ce:creating 2 collision free graphs...\n",
      "0it [00:00, ?it/s]INFO:large_gcs.graph.factored_collision_free_graph:Creating vertex costs for factored_collision_free_graph...\n",
      "100%|██████████| 9/9 [00:00<00:00, 5247.98it/s]\n",
      "INFO:large_gcs.graph.graph:Adding 9 vertices to graph...\n",
      "100%|██████████| 9/9 [00:00<00:00, 14803.43it/s]\n",
      "INFO:large_gcs.graph.contact_graph:Generating edges...(parallel)\n",
      "100%|██████████| 36/36 [00:03<00:00, 11.52it/s]"
     ]
    },
    {
     "name": "stdout",
     "output_type": "stream",
     "text": [
      "Set parameter Username\n",
      "Set parameter Username\n",
      "Set parameter Username\n",
      "Academic license - for non-commercial use only - expires 2024-03-04\n",
      "Academic license - for non-commercial use only - expires 2024-03-04\n",
      "Set parameter Username\n",
      "Set parameter Username\n",
      "Academic license - for non-commercial use only - expires 2024-03-04\n",
      "Academic license - for non-commercial use only - expires 2024-03-04\n",
      "Set parameter Username\n",
      "Set parameter Username\n",
      "Academic license - for non-commercial use only - expires 2024-03-04\n",
      "Academic license - for non-commercial use only - expires 2024-03-04\n",
      "Academic license - for non-commercial use only - expires 2024-03-04\n",
      "Set parameter Username\n",
      "Academic license - for non-commercial use only - expires 2024-03-04\n",
      "Set parameter Username\n",
      "Academic license - for non-commercial use only - expires 2024-03-04\n",
      "Set parameter Username\n",
      "Academic license - for non-commercial use only - expires 2024-03-04\n",
      "Set parameter Username\n",
      "Academic license - for non-commercial use only - expires 2024-03-04\n",
      "Set parameter Username\n",
      "Academic license - for non-commercial use only - expires 2024-03-04\n",
      "Set parameter Username\n",
      "Academic license - for non-commercial use only - expires 2024-03-04\n",
      "Set parameter Username\n",
      "Academic license - for non-commercial use only - expires 2024-03-04\n",
      "Set parameter Username\n",
      "Academic license - for non-commercial use only - expires 2024-03-04\n",
      "Set parameter Username\n",
      "Academic license - for non-commercial use only - expires 2024-03-04\n"
     ]
    },
    {
     "name": "stderr",
     "output_type": "stream",
     "text": [
      "\n",
      "INFO:large_gcs.graph.contact_graph:64 edges generated\n",
      "INFO:large_gcs.graph.contact_graph:Creating edge costs...\n",
      "100%|██████████| 64/64 [00:00<00:00, 13490.57it/s]\n",
      "INFO:large_gcs.graph.contact_graph:Creating edge constraints...\n",
      "100%|██████████| 64/64 [00:00<00:00, 9057.14it/s]\n",
      "INFO:large_gcs.graph.graph:Adding 64 edges to graph...\n",
      "100%|██████████| 64/64 [00:00<00:00, 7437.53it/s]\n",
      "INFO:large_gcs.graph.factored_collision_free_graph:Created factored collision free graph for obj0: GraphParams(dim_bounds=(2, 4), n_vertices=9, n_edges=64, source=None, target=[array([-1.500, 0.000])], workspace=array([[-5,  5],\n",
      "       [-4,  4]]), default_costs_constraints=None)\n",
      "1it [00:03,  3.66s/it]INFO:large_gcs.graph.factored_collision_free_graph:Creating vertex costs for factored_collision_free_graph...\n",
      "100%|██████████| 4/4 [00:00<00:00, 11140.25it/s]\n",
      "INFO:large_gcs.graph.graph:Adding 4 vertices to graph...\n",
      "100%|██████████| 4/4 [00:00<00:00, 10894.30it/s]\n",
      "INFO:large_gcs.graph.contact_graph:Generating edges...(parallel)\n",
      "100%|██████████| 6/6 [00:01<00:00,  3.13it/s]\n",
      "INFO:large_gcs.graph.contact_graph:12 edges generated\n",
      "INFO:large_gcs.graph.contact_graph:Creating edge costs...\n"
     ]
    },
    {
     "name": "stdout",
     "output_type": "stream",
     "text": [
      "Set parameter UsernameSet parameter Username\n",
      "\n",
      "Set parameter Username\n",
      "Academic license - for non-commercial use only - expires 2024-03-04\n",
      "Academic license - for non-commercial use only - expires 2024-03-04\n",
      "Academic license - for non-commercial use only - expires 2024-03-04\n",
      "Set parameter Username\n",
      "Academic license - for non-commercial use only - expires 2024-03-04\n",
      "Set parameter Username\n",
      "Academic license - for non-commercial use only - expires 2024-03-04\n",
      "Set parameter Username\n",
      "Academic license - for non-commercial use only - expires 2024-03-04\n"
     ]
    },
    {
     "name": "stderr",
     "output_type": "stream",
     "text": [
      "100%|██████████| 12/12 [00:00<00:00, 10880.17it/s]\n",
      "INFO:large_gcs.graph.contact_graph:Creating edge constraints...\n",
      "100%|██████████| 12/12 [00:00<00:00, 5491.72it/s]\n",
      "INFO:large_gcs.graph.graph:Adding 12 edges to graph...\n",
      "100%|██████████| 12/12 [00:00<00:00, 2918.96it/s]\n",
      "INFO:large_gcs.graph.factored_collision_free_graph:Created factored collision free graph for rob0: GraphParams(dim_bounds=(2, 4), n_vertices=4, n_edges=12, source=None, target=[array([-3,  0])], workspace=array([[-5,  5],\n",
      "       [-4,  4]]), default_costs_constraints=None)\n",
      "2it [00:05,  2.94s/it]\n",
      "INFO:large_gcs.algorithms.gcs_astar_convex_restriction:Running GcsAstarConvexRestriction, reexplore_level: ReexploreLevel.NONE\n",
      "INFO:large_gcs.algorithms.gcs_astar_convex_restriction:visited_fd_vertices: {'source', 'target'}\n",
      "INFO:large_gcs.algorithms.gcs_astar_convex_restriction:\n",
      "n_vertices_visited: 2, n_edges_visited: 0, n_vertices_explored: 0, vertex_coverage: 0.011, edge_coverage: 0, time_wall_clock: 0, n_gcs_solves: 0, gcs_solve_time_total: 0, gcs_solve_time_iter_mean: 0, gcs_solve_time_last_10_mean: 0, gcs_solve_time_iter_std: 0, gcs_solve_time_iter_min: inf, gcs_solve_time_iter_max: 0, n_vertices_revisited: 0, n_vertices_reexplored: 0\n",
      "now exploring node source's 1 neighbors (0)\n",
      "INFO:large_gcs.algorithms.gcs_astar_convex_restriction:visited_fd_vertices: {'source', \"('NC|obs0_f0-obj0_v3', 'NC|obs0_f0-rob0_v1', 'NC|obj0_f3-rob0_v0')\", 'target'}\n",
      "INFO:large_gcs.algorithms.gcs_astar_convex_restriction:\n",
      "n_vertices_visited: 3, n_edges_visited: 1, n_vertices_explored: 1, vertex_coverage: 0.0166, edge_coverage: 0.0002, time_wall_clock: 0.156, n_gcs_solves: 3, gcs_solve_time_total: 0.12, gcs_solve_time_iter_mean: 0.04, gcs_solve_time_last_10_mean: 0, gcs_solve_time_iter_std: 0.0536, gcs_solve_time_iter_min: 0.000677, gcs_solve_time_iter_max: 0.116, n_vertices_revisited: 0, n_vertices_reexplored: 0\n",
      "now exploring node ('NC|obs0_f0-obj0_v3', 'NC|obs0_f0-rob0_v1', 'NC|obj0_f3-rob0_v0')'s 56 neighbors (25746.396962826497)\n",
      "INFO:large_gcs.algorithms.gcs_astar_convex_restriction:visited_fd_vertices: {'source', \"('NC|obs0_f0-obj0_v3', 'NC|obs0_f0-rob0_v1', 'NC|obj0_f3-rob0_v0')\", 'target', \"('NC|obs0_f0-obj0_v3', 'NC|obs0_f2-rob0_v0', 'NC|obj0_f0-rob0_v1')\"}\n",
      "INFO:large_gcs.algorithms.gcs_astar_convex_restriction:\n",
      "n_vertices_visited: 4, n_edges_visited: 2, n_vertices_explored: 56, vertex_coverage: 0.0221, edge_coverage: 0.0003, time_wall_clock: 0.791, n_gcs_solves: 59, gcs_solve_time_total: 0.141, gcs_solve_time_iter_mean: 0.00238, gcs_solve_time_last_10_mean: 0.000268, gcs_solve_time_iter_std: 0.0149, gcs_solve_time_iter_min: 0.000188, gcs_solve_time_iter_max: 0.116, n_vertices_revisited: 0, n_vertices_reexplored: 0\n",
      "now exploring node ('NC|obs0_f0-obj0_v3', 'NC|obs0_f2-rob0_v0', 'NC|obj0_f0-rob0_v1')'s 43 neighbors (25746.39696253677)\n",
      "INFO:large_gcs.algorithms.gcs_astar_convex_restriction:visited_fd_vertices: {'source', \"('NC|obs0_f0-obj0_v3', 'NC|obs0_f2-rob0_v0', 'NC|obj0_f3-rob0_v0')\", 'target', \"('NC|obs0_f0-obj0_v3', 'NC|obs0_f0-rob0_v1', 'NC|obj0_f3-rob0_v0')\"}\n",
      "INFO:large_gcs.algorithms.gcs_astar_convex_restriction:\n",
      "n_vertices_visited: 5, n_edges_visited: 2, n_vertices_explored: 98, vertex_coverage: 0.0276, edge_coverage: 0.0003, time_wall_clock: 1.27, n_gcs_solves: 101, gcs_solve_time_total: 0.156, gcs_solve_time_iter_mean: 0.00154, gcs_solve_time_last_10_mean: 0.000322, gcs_solve_time_iter_std: 0.0114, gcs_solve_time_iter_min: 0.000188, gcs_solve_time_iter_max: 0.116, n_vertices_revisited: 0, n_vertices_reexplored: 0\n",
      "now exploring node ('NC|obs0_f0-obj0_v3', 'NC|obs0_f2-rob0_v0', 'NC|obj0_f3-rob0_v0')'s 63 neighbors (51483.16951974807)\n",
      "INFO:large_gcs.algorithms.gcs_astar_convex_restriction:visited_fd_vertices: {\"('NC|obs0_f0-obj0_v3', 'NC|obs0_f1-rob0_f2', 'NC|obj0_f2-rob0_f2')\", 'source', \"('NC|obs0_f0-obj0_v3', 'NC|obs0_f2-rob0_v0', 'NC|obj0_f3-rob0_v0')\", 'target', \"('NC|obs0_f0-obj0_v3', 'NC|obs0_f0-rob0_v1', 'NC|obj0_f3-rob0_v0')\"}\n",
      "INFO:large_gcs.algorithms.gcs_astar_convex_restriction:\n",
      "n_vertices_visited: 6, n_edges_visited: 3, n_vertices_explored: 159, vertex_coverage: 0.0331, edge_coverage: 0.0005, time_wall_clock: 2, n_gcs_solves: 163, gcs_solve_time_total: 0.184, gcs_solve_time_iter_mean: 0.00113, gcs_solve_time_last_10_mean: 0.000348, gcs_solve_time_iter_std: 0.00901, gcs_solve_time_iter_min: 0.000188, gcs_solve_time_iter_max: 0.116, n_vertices_revisited: 0, n_vertices_reexplored: 0\n",
      "now exploring node ('NC|obs0_f0-obj0_v3', 'NC|obs0_f1-rob0_f2', 'NC|obj0_f2-rob0_f2')'s 67 neighbors (25754.162920541086)\n",
      "INFO:large_gcs.algorithms.gcs_astar_convex_restriction:visited_fd_vertices: {'source', \"('NC|obs0_f0-obj0_v3', 'NC|obs0_f0-rob0_v1', 'NC|obj0_f2-rob0_f2')\", 'target', \"('NC|obs0_f0-obj0_v3', 'NC|obs0_f0-rob0_v1', 'NC|obj0_f3-rob0_v0')\"}\n",
      "INFO:large_gcs.algorithms.gcs_astar_convex_restriction:\n",
      "n_vertices_visited: 7, n_edges_visited: 2, n_vertices_explored: 224, vertex_coverage: 0.0387, edge_coverage: 0.0003, time_wall_clock: 2.73, n_gcs_solves: 228, gcs_solve_time_total: 0.215, gcs_solve_time_iter_mean: 0.000942, gcs_solve_time_last_10_mean: 0.000336, gcs_solve_time_iter_std: 0.00763, gcs_solve_time_iter_min: 0.000188, gcs_solve_time_iter_max: 0.116, n_vertices_revisited: 0, n_vertices_reexplored: 0\n",
      "now exploring node ('NC|obs0_f0-obj0_v3', 'NC|obs0_f0-rob0_v1', 'NC|obj0_f2-rob0_f2')'s 65 neighbors (51484.89396616348)\n",
      "INFO:large_gcs.algorithms.gcs_astar_convex_restriction:visited_fd_vertices: {'source', \"('NC|obs0_f0-obj0_v3', 'NC|obs0_f0-rob0_v1', 'NC|obj0_f0-rob0_v1')\", 'target', \"('NC|obs0_f0-obj0_v3', 'NC|obs0_f0-rob0_v1', 'NC|obj0_f3-rob0_v0')\"}\n",
      "INFO:large_gcs.algorithms.gcs_astar_convex_restriction:\n",
      "n_vertices_visited: 8, n_edges_visited: 2, n_vertices_explored: 286, vertex_coverage: 0.0442, edge_coverage: 0.0003, time_wall_clock: 3.4, n_gcs_solves: 290, gcs_solve_time_total: 0.24, gcs_solve_time_iter_mean: 0.000827, gcs_solve_time_last_10_mean: 0.000271, gcs_solve_time_iter_std: 0.00677, gcs_solve_time_iter_min: 0.000188, gcs_solve_time_iter_max: 0.116, n_vertices_revisited: 0, n_vertices_reexplored: 0\n",
      "now exploring node ('NC|obs0_f0-obj0_v3', 'NC|obs0_f0-rob0_v1', 'NC|obj0_f0-rob0_v1')'s 67 neighbors (51484.94994107529)\n",
      "INFO:large_gcs.algorithms.gcs_astar_convex_restriction:visited_fd_vertices: {'source', \"('NC|obs0_f0-obj0_v3', 'NC|obs0_f0-rob0_v1', 'IC|obj0_v0-rob0_f0')\", 'target', \"('NC|obs0_f0-obj0_v3', 'NC|obs0_f0-rob0_v1', 'NC|obj0_f3-rob0_v0')\"}\n",
      "INFO:large_gcs.algorithms.gcs_astar_convex_restriction:\n",
      "n_vertices_visited: 9, n_edges_visited: 2, n_vertices_explored: 350, vertex_coverage: 0.0497, edge_coverage: 0.0003, time_wall_clock: 4.06, n_gcs_solves: 354, gcs_solve_time_total: 0.261, gcs_solve_time_iter_mean: 0.000738, gcs_solve_time_last_10_mean: 0.000286, gcs_solve_time_iter_std: 0.00613, gcs_solve_time_iter_min: 0.000188, gcs_solve_time_iter_max: 0.116, n_vertices_revisited: 0, n_vertices_reexplored: 0\n",
      "now exploring node ('NC|obs0_f0-obj0_v3', 'NC|obs0_f0-rob0_v1', 'IC|obj0_v0-rob0_f0')'s 43 neighbors (51485.66209764347)\n",
      "INFO:large_gcs.algorithms.gcs_astar_convex_restriction:visited_fd_vertices: {'source', 'target', \"('NC|obs0_f0-obj0_v3', 'NC|obs0_f0-rob0_v1', 'NC|obj0_f3-rob0_v0')\", \"('NC|obs0_f0-obj0_v3', 'NC|obs0_f0-rob0_v1', 'IC|obj0_f3-rob0_v0')\"}\n",
      "INFO:large_gcs.algorithms.gcs_astar_convex_restriction:\n",
      "n_vertices_visited: 10, n_edges_visited: 2, n_vertices_explored: 389, vertex_coverage: 0.0552, edge_coverage: 0.0003, time_wall_clock: 4.48, n_gcs_solves: 393, gcs_solve_time_total: 0.28, gcs_solve_time_iter_mean: 0.000712, gcs_solve_time_last_10_mean: 0.000422, gcs_solve_time_iter_std: 0.00582, gcs_solve_time_iter_min: 0.000188, gcs_solve_time_iter_max: 0.116, n_vertices_revisited: 0, n_vertices_reexplored: 0\n",
      "now exploring node ('NC|obs0_f0-obj0_v3', 'NC|obs0_f0-rob0_v1', 'IC|obj0_f3-rob0_v0')'s 34 neighbors (51485.796791379566)\n",
      "INFO:large_gcs.algorithms.gcs_astar_convex_restriction:visited_fd_vertices: {\"('NC|obs0_f0-obj0_v3', 'NC|obs0_f0-rob0_v1', 'IC|obj0_f2-rob0_f2')\", 'source', 'target', \"('NC|obs0_f0-obj0_v3', 'NC|obs0_f0-rob0_v1', 'NC|obj0_f3-rob0_v0')\"}\n",
      "INFO:large_gcs.algorithms.gcs_astar_convex_restriction:\n",
      "n_vertices_visited: 11, n_edges_visited: 2, n_vertices_explored: 418, vertex_coverage: 0.0608, edge_coverage: 0.0003, time_wall_clock: 4.8, n_gcs_solves: 422, gcs_solve_time_total: 0.29, gcs_solve_time_iter_mean: 0.000688, gcs_solve_time_last_10_mean: 0.000376, gcs_solve_time_iter_std: 0.00562, gcs_solve_time_iter_min: 0.000188, gcs_solve_time_iter_max: 0.116, n_vertices_revisited: 0, n_vertices_reexplored: 0\n",
      "now exploring node ('NC|obs0_f0-obj0_v3', 'NC|obs0_f0-rob0_v1', 'IC|obj0_f2-rob0_f2')'s 61 neighbors (51486.056378593996)\n",
      "INFO:large_gcs.algorithms.gcs_astar_convex_restriction:visited_fd_vertices: {'source', \"('NC|obs0_f0-obj0_v3', 'NC|obs0_f2-rob0_v0', 'NC|obj0_f3-rob0_v0')\", 'target', \"('NC|obs0_f0-obj0_v3', 'NC|obs0_f2-rob0_v0', 'NC|obj0_f2-rob0_f2')\", \"('NC|obs0_f0-obj0_v3', 'NC|obs0_f0-rob0_v1', 'NC|obj0_f3-rob0_v0')\"}\n",
      "INFO:large_gcs.algorithms.gcs_astar_convex_restriction:\n",
      "n_vertices_visited: 12, n_edges_visited: 3, n_vertices_explored: 474, vertex_coverage: 0.0663, edge_coverage: 0.0005, time_wall_clock: 5.41, n_gcs_solves: 478, gcs_solve_time_total: 0.311, gcs_solve_time_iter_mean: 0.000651, gcs_solve_time_last_10_mean: 0.000343, gcs_solve_time_iter_std: 0.00528, gcs_solve_time_iter_min: 0.000188, gcs_solve_time_iter_max: 0.116, n_vertices_revisited: 0, n_vertices_reexplored: 0\n",
      "now exploring node ('NC|obs0_f0-obj0_v3', 'NC|obs0_f2-rob0_v0', 'NC|obj0_f2-rob0_f2')'s 49 neighbors (51486.29900957245)\n",
      "INFO:large_gcs.algorithms.gcs_astar_convex_restriction:visited_fd_vertices: {\"('NC|obs0_f0-obj0_v3', 'NC|obs0_f0-rob0_v1', 'IC|obj0_f0-rob0_v1')\", 'source', \"('NC|obs0_f0-obj0_v3', 'NC|obs0_f0-rob0_v1', 'IC|obj0_v0-rob0_f0')\", 'target', \"('NC|obs0_f0-obj0_v3', 'NC|obs0_f0-rob0_v1', 'NC|obj0_f3-rob0_v0')\"}\n",
      "INFO:large_gcs.algorithms.gcs_astar_convex_restriction:\n",
      "n_vertices_visited: 13, n_edges_visited: 3, n_vertices_explored: 517, vertex_coverage: 0.0718, edge_coverage: 0.0005, time_wall_clock: 5.89, n_gcs_solves: 521, gcs_solve_time_total: 0.329, gcs_solve_time_iter_mean: 0.000632, gcs_solve_time_last_10_mean: 0.000357, gcs_solve_time_iter_std: 0.00506, gcs_solve_time_iter_min: 0.000188, gcs_solve_time_iter_max: 0.116, n_vertices_revisited: 0, n_vertices_reexplored: 0\n",
      "now exploring node ('NC|obs0_f0-obj0_v3', 'NC|obs0_f0-rob0_v1', 'IC|obj0_f0-rob0_v1')'s 49 neighbors (51487.903616737145)\n",
      "INFO:large_gcs.algorithms.gcs_astar_convex_restriction:visited_fd_vertices: {\"('NC|obs0_f0-obj0_v3', 'NC|obs0_f0-rob0_v1', 'IC|obj0_f0-rob0_v1')\", 'source', \"('NC|obs0_f0-obj0_v3', 'NC|obs0_f0-rob0_v1', 'IC|obj0_v0-rob0_f0')\", 'target', \"('NC|obs0_f1-obj0_f0', 'NC|obs0_f0-rob0_v1', 'IC|obj0_f1-rob0_f1')\", \"('NC|obs0_f0-obj0_v3', 'NC|obs0_f0-rob0_v1', 'NC|obj0_f3-rob0_v0')\"}\n",
      "INFO:large_gcs.algorithms.gcs_astar_convex_restriction:\n",
      "n_vertices_visited: 14, n_edges_visited: 4, n_vertices_explored: 563, vertex_coverage: 0.0773, edge_coverage: 0.0006, time_wall_clock: 6.55, n_gcs_solves: 568, gcs_solve_time_total: 0.471, gcs_solve_time_iter_mean: 0.000829, gcs_solve_time_last_10_mean: 0.000543, gcs_solve_time_iter_std: 0.00654, gcs_solve_time_iter_min: 0.000188, gcs_solve_time_iter_max: 0.116, n_vertices_revisited: 0, n_vertices_reexplored: 0\n",
      "now exploring node ('NC|obs0_f1-obj0_f0', 'NC|obs0_f0-rob0_v1', 'IC|obj0_f1-rob0_f1')'s 35 neighbors (51466.391908313286)\n",
      "INFO:large_gcs.algorithms.gcs_astar_convex_restriction:visited_fd_vertices: {\"('NC|obs0_f0-obj0_v3', 'NC|obs0_f0-rob0_v1', 'IC|obj0_f0-rob0_v1')\", 'source', \"('NC|obs0_f0-obj0_v3', 'NC|obs0_f0-rob0_v1', 'IC|obj0_v0-rob0_f0')\", 'target', \"('NC|obs0_f1-obj0_f0', 'NC|obs0_f0-rob0_v1', 'IC|obj0_f1-rob0_f1')\", \"('IC|obs0_f1-obj0_f0', 'NC|obs0_f0-rob0_v1', 'NC|obj0_f0-rob0_v1')\", \"('NC|obs0_f0-obj0_v3', 'NC|obs0_f0-rob0_v1', 'NC|obj0_f3-rob0_v0')\"}\n",
      "INFO:large_gcs.algorithms.gcs_astar_convex_restriction:\n",
      "n_vertices_visited: 15, n_edges_visited: 5, n_vertices_explored: 593, vertex_coverage: 0.0829, edge_coverage: 0.0008, time_wall_clock: 7.28, n_gcs_solves: 600, gcs_solve_time_total: 0.827, gcs_solve_time_iter_mean: 0.00138, gcs_solve_time_last_10_mean: 0.00145, gcs_solve_time_iter_std: 0.0111, gcs_solve_time_iter_min: 0.000188, gcs_solve_time_iter_max: 0.19, n_vertices_revisited: 0, n_vertices_reexplored: 0\n",
      "now exploring node ('IC|obs0_f1-obj0_f0', 'NC|obs0_f0-rob0_v1', 'NC|obj0_f0-rob0_v1')'s 33 neighbors (51359.44494118883)\n",
      "INFO:large_gcs.algorithms.gcs_astar_convex_restriction:visited_fd_vertices: {\"('NC|obs0_f0-obj0_v3', 'NC|obs0_f0-rob0_v1', 'IC|obj0_f0-rob0_v1')\", \"('IC|obs0_f1-obj0_f0', 'NC|obs0_f2-rob0_v0', 'NC|obj0_f0-rob0_v1')\", 'source', \"('NC|obs0_f0-obj0_v3', 'NC|obs0_f0-rob0_v1', 'IC|obj0_v0-rob0_f0')\", 'target', \"('NC|obs0_f1-obj0_f0', 'NC|obs0_f0-rob0_v1', 'IC|obj0_f1-rob0_f1')\", \"('IC|obs0_f1-obj0_f0', 'NC|obs0_f0-rob0_v1', 'NC|obj0_f0-rob0_v1')\", \"('NC|obs0_f0-obj0_v3', 'NC|obs0_f0-rob0_v1', 'NC|obj0_f3-rob0_v0')\"}\n",
      "INFO:large_gcs.algorithms.gcs_astar_convex_restriction:\n",
      "n_vertices_visited: 16, n_edges_visited: 6, n_vertices_explored: 625, vertex_coverage: 0.0884, edge_coverage: 0.0009, time_wall_clock: 7.69, n_gcs_solves: 632, gcs_solve_time_total: 0.869, gcs_solve_time_iter_mean: 0.00138, gcs_solve_time_last_10_mean: 0.00122, gcs_solve_time_iter_std: 0.0109, gcs_solve_time_iter_min: 0.000188, gcs_solve_time_iter_max: 0.19, n_vertices_revisited: 0, n_vertices_reexplored: 0\n",
      "now exploring node ('IC|obs0_f1-obj0_f0', 'NC|obs0_f2-rob0_v0', 'NC|obj0_f0-rob0_v1')'s 27 neighbors (51359.44493487375)\n",
      "INFO:large_gcs.algorithms.gcs_astar_convex_restriction:visited_fd_vertices: {\"('NC|obs0_f0-obj0_v3', 'NC|obs0_f0-rob0_v1', 'IC|obj0_f0-rob0_v1')\", 'source', \"('NC|obs0_f0-obj0_v3', 'NC|obs0_f0-rob0_v1', 'IC|obj0_v0-rob0_f0')\", 'target', \"('NC|obs0_f1-obj0_f0', 'NC|obs0_f0-rob0_v1', 'IC|obj0_f1-rob0_f1')\", \"('IC|obs0_f1-obj0_f0', 'NC|obs0_f0-rob0_v1', 'NC|obj0_f0-rob0_v1')\", \"('NC|obs0_f0-obj0_v3', 'NC|obs0_f0-rob0_v1', 'NC|obj0_f3-rob0_v0')\", \"('IC|obs0_f1-obj0_f0', 'NC|obs0_f2-rob0_v0', 'NC|obj0_f3-rob0_v0')\"}\n",
      "INFO:large_gcs.algorithms.gcs_astar_convex_restriction:\n",
      "n_vertices_visited: 17, n_edges_visited: 6, n_vertices_explored: 651, vertex_coverage: 0.0939, edge_coverage: 0.0009, time_wall_clock: 8.03, n_gcs_solves: 658, gcs_solve_time_total: 0.903, gcs_solve_time_iter_mean: 0.00137, gcs_solve_time_last_10_mean: 0.00124, gcs_solve_time_iter_std: 0.0106, gcs_solve_time_iter_min: 0.000188, gcs_solve_time_iter_max: 0.19, n_vertices_revisited: 0, n_vertices_reexplored: 0\n",
      "now exploring node ('IC|obs0_f1-obj0_f0', 'NC|obs0_f2-rob0_v0', 'NC|obj0_f3-rob0_v0')'s 58 neighbors (51359.444940841575)\n",
      "INFO:large_gcs.algorithms.gcs_astar_convex_restriction:visited_fd_vertices: {\"('NC|obs0_f0-obj0_v3', 'NC|obs0_f0-rob0_v1', 'IC|obj0_f0-rob0_v1')\", \"('IC|obs0_f1-obj0_f0', 'NC|obs0_f0-rob0_v1', 'IC|obj0_f0-rob0_v1')\", 'source', \"('NC|obs0_f0-obj0_v3', 'NC|obs0_f0-rob0_v1', 'IC|obj0_v0-rob0_f0')\", 'target', \"('NC|obs0_f1-obj0_f0', 'NC|obs0_f0-rob0_v1', 'IC|obj0_f1-rob0_f1')\", \"('NC|obs0_f0-obj0_v3', 'NC|obs0_f0-rob0_v1', 'NC|obj0_f3-rob0_v0')\"}\n",
      "INFO:large_gcs.algorithms.gcs_astar_convex_restriction:\n",
      "n_vertices_visited: 18, n_edges_visited: 5, n_vertices_explored: 707, vertex_coverage: 0.0994, edge_coverage: 0.0008, time_wall_clock: 8.78, n_gcs_solves: 714, gcs_solve_time_total: 0.973, gcs_solve_time_iter_mean: 0.00136, gcs_solve_time_last_10_mean: 0.000946, gcs_solve_time_iter_std: 0.0102, gcs_solve_time_iter_min: 0.000188, gcs_solve_time_iter_max: 0.19, n_vertices_revisited: 0, n_vertices_reexplored: 0\n",
      "now exploring node ('IC|obs0_f1-obj0_f0', 'NC|obs0_f0-rob0_v1', 'IC|obj0_f0-rob0_v1')'s 14 neighbors (51359.44494156454)\n",
      "INFO:large_gcs.algorithms.gcs_astar_convex_restriction:visited_fd_vertices: {\"('NC|obs0_f0-obj0_v3', 'NC|obs0_f0-rob0_v1', 'IC|obj0_f0-rob0_v1')\", 'source', \"('NC|obs0_f0-obj0_v3', 'NC|obs0_f0-rob0_v1', 'IC|obj0_v0-rob0_f0')\", 'target', \"('NC|obs0_f1-obj0_f0', 'NC|obs0_f0-rob0_v1', 'IC|obj0_f1-rob0_f1')\", \"('NC|obs0_f1-obj0_f0', 'NC|obs0_f2-rob0_v0', 'NC|obj0_f0-rob0_v1')\", \"('IC|obs0_f1-obj0_f0', 'NC|obs0_f0-rob0_v1', 'NC|obj0_f0-rob0_v1')\", \"('NC|obs0_f0-obj0_v3', 'NC|obs0_f0-rob0_v1', 'NC|obj0_f3-rob0_v0')\"}\n",
      "INFO:large_gcs.algorithms.gcs_astar_convex_restriction:\n",
      "n_vertices_visited: 19, n_edges_visited: 6, n_vertices_explored: 719, vertex_coverage: 0.105, edge_coverage: 0.0009, time_wall_clock: 8.96, n_gcs_solves: 726, gcs_solve_time_total: 0.993, gcs_solve_time_iter_mean: 0.00137, gcs_solve_time_last_10_mean: 0.00167, gcs_solve_time_iter_std: 0.0101, gcs_solve_time_iter_min: 0.000188, gcs_solve_time_iter_max: 0.19, n_vertices_revisited: 0, n_vertices_reexplored: 0\n",
      "now exploring node ('NC|obs0_f1-obj0_f0', 'NC|obs0_f2-rob0_v0', 'NC|obj0_f0-rob0_v1')'s 51 neighbors (51359.44494666913)\n",
      "INFO:large_gcs.algorithms.gcs_astar_convex_restriction:visited_fd_vertices: {\"('NC|obs0_f0-obj0_v3', 'NC|obs0_f0-rob0_v1', 'IC|obj0_f0-rob0_v1')\", 'source', \"('NC|obs0_f0-obj0_v3', 'NC|obs0_f0-rob0_v1', 'IC|obj0_v0-rob0_f0')\", \"('NC|obs0_f1-obj0_f0', 'NC|obs0_f2-rob0_v0', 'NC|obj0_f3-rob0_v0')\", 'target', \"('NC|obs0_f1-obj0_f0', 'NC|obs0_f0-rob0_v1', 'IC|obj0_f1-rob0_f1')\", \"('IC|obs0_f1-obj0_f0', 'NC|obs0_f0-rob0_v1', 'NC|obj0_f0-rob0_v1')\", \"('NC|obs0_f0-obj0_v3', 'NC|obs0_f0-rob0_v1', 'NC|obj0_f3-rob0_v0')\"}\n",
      "INFO:large_gcs.algorithms.gcs_astar_convex_restriction:\n",
      "n_vertices_visited: 20, n_edges_visited: 6, n_vertices_explored: 763, vertex_coverage: 0.111, edge_coverage: 0.0009, time_wall_clock: 9.52, n_gcs_solves: 770, gcs_solve_time_total: 1.04, gcs_solve_time_iter_mean: 0.00135, gcs_solve_time_last_10_mean: 0.000801, gcs_solve_time_iter_std: 0.00984, gcs_solve_time_iter_min: 0.000188, gcs_solve_time_iter_max: 0.19, n_vertices_revisited: 0, n_vertices_reexplored: 0\n",
      "now exploring node ('NC|obs0_f1-obj0_f0', 'NC|obs0_f2-rob0_v0', 'NC|obj0_f3-rob0_v0')'s 68 neighbors (51359.44495263695)\n",
      "INFO:large_gcs.algorithms.gcs_astar_convex_restriction:visited_fd_vertices: {\"('NC|obs0_f0-obj0_v3', 'NC|obs0_f0-rob0_v1', 'IC|obj0_f0-rob0_v1')\", 'source', \"('NC|obs0_f0-obj0_v3', 'NC|obs0_f0-rob0_v1', 'IC|obj0_v0-rob0_f0')\", 'target', \"('NC|obs0_f1-obj0_f0', 'NC|obs0_f0-rob0_v1', 'IC|obj0_f1-rob0_f1')\", \"('NC|obs0_f0-obj0_v3', 'NC|obs0_f0-rob0_v1', 'NC|obj0_f3-rob0_v0')\", \"('IC|obs0_f1-obj0_f0', 'NC|obs0_f0-rob0_v1', 'NC|obj0_f1-rob0_f1')\"}\n",
      "INFO:large_gcs.algorithms.gcs_astar_convex_restriction:\n",
      "n_vertices_visited: 21, n_edges_visited: 5, n_vertices_explored: 821, vertex_coverage: 0.116, edge_coverage: 0.0008, time_wall_clock: 10.3, n_gcs_solves: 828, gcs_solve_time_total: 1.11, gcs_solve_time_iter_mean: 0.00134, gcs_solve_time_last_10_mean: 0.000889, gcs_solve_time_iter_std: 0.00949, gcs_solve_time_iter_min: 0.000188, gcs_solve_time_iter_max: 0.19, n_vertices_revisited: 0, n_vertices_reexplored: 0\n",
      "now exploring node ('IC|obs0_f1-obj0_f0', 'NC|obs0_f0-rob0_v1', 'NC|obj0_f1-rob0_f1')'s 33 neighbors (51359.44514854454)\n",
      "INFO:large_gcs.algorithms.gcs_astar_convex_restriction:visited_fd_vertices: {\"('NC|obs0_f0-obj0_v3', 'NC|obs0_f0-rob0_v1', 'IC|obj0_f0-rob0_v1')\", 'source', \"('NC|obs0_f0-obj0_v3', 'NC|obs0_f0-rob0_v1', 'IC|obj0_v0-rob0_f0')\", 'target', \"('NC|obs0_f1-obj0_f0', 'NC|obs0_f0-rob0_v1', 'IC|obj0_f1-rob0_f1')\", \"('NC|obs0_f0-obj0_v3', 'NC|obs0_f0-rob0_v1', 'NC|obj0_f3-rob0_v0')\", \"('IC|obs0_f1-obj0_f0', 'NC|obs0_f0-rob0_v1', 'IC|obj0_f1-rob0_f1')\"}\n",
      "INFO:large_gcs.algorithms.gcs_astar_convex_restriction:\n",
      "n_vertices_visited: 22, n_edges_visited: 5, n_vertices_explored: 851, vertex_coverage: 0.121, edge_coverage: 0.0008, time_wall_clock: 10.6, n_gcs_solves: 858, gcs_solve_time_total: 1.15, gcs_solve_time_iter_mean: 0.00134, gcs_solve_time_last_10_mean: 0.00115, gcs_solve_time_iter_std: 0.00932, gcs_solve_time_iter_min: 0.000188, gcs_solve_time_iter_max: 0.19, n_vertices_revisited: 0, n_vertices_reexplored: 0\n",
      "now exploring node ('IC|obs0_f1-obj0_f0', 'NC|obs0_f0-rob0_v1', 'IC|obj0_f1-rob0_f1')'s 17 neighbors (51359.4451516331)\n",
      "INFO:large_gcs.algorithms.gcs_astar_convex_restriction:visited_fd_vertices: {\"('NC|obs0_f0-obj0_v3', 'NC|obs0_f0-rob0_v1', 'IC|obj0_f0-rob0_v1')\", 'source', \"('NC|obs0_f0-obj0_v3', 'NC|obs0_f0-rob0_v1', 'IC|obj0_v0-rob0_f0')\", 'target', \"('NC|obs0_f1-obj0_f0', 'NC|obs0_f0-rob0_v1', 'IC|obj0_f1-rob0_f1')\", \"('IC|obs0_f1-obj0_f0', 'NC|obs0_f1-rob0_f2', 'IC|obj0_f1-rob0_f1')\", \"('NC|obs0_f0-obj0_v3', 'NC|obs0_f0-rob0_v1', 'NC|obj0_f3-rob0_v0')\"}\n",
      "INFO:large_gcs.algorithms.gcs_astar_convex_restriction:\n",
      "n_vertices_visited: 23, n_edges_visited: 5, n_vertices_explored: 864, vertex_coverage: 0.127, edge_coverage: 0.0008, time_wall_clock: 10.8, n_gcs_solves: 871, gcs_solve_time_total: 1.17, gcs_solve_time_iter_mean: 0.00135, gcs_solve_time_last_10_mean: 0.00172, gcs_solve_time_iter_std: 0.00925, gcs_solve_time_iter_min: 0.000188, gcs_solve_time_iter_max: 0.19, n_vertices_revisited: 0, n_vertices_reexplored: 0\n",
      "now exploring node ('IC|obs0_f1-obj0_f0', 'NC|obs0_f1-rob0_f2', 'IC|obj0_f1-rob0_f1')'s 25 neighbors (51359.82831002176)\n",
      "INFO:large_gcs.algorithms.gcs_astar_convex_restriction:visited_fd_vertices: {\"('NC|obs0_f0-obj0_v3', 'NC|obs0_f0-rob0_v1', 'IC|obj0_f0-rob0_v1')\", 'source', \"('NC|obs0_f0-obj0_v3', 'NC|obs0_f0-rob0_v1', 'IC|obj0_v0-rob0_f0')\", 'target', \"('NC|obs0_f1-obj0_f0', 'NC|obs0_f0-rob0_v1', 'IC|obj0_f1-rob0_f1')\", \"('IC|obs0_f1-obj0_f0', 'NC|obs0_f1-rob0_f2', 'IC|obj0_f1-rob0_f1')\", \"('NC|obs0_f0-obj0_v3', 'NC|obs0_f0-rob0_v1', 'NC|obj0_f3-rob0_v0')\", \"('NC|obs0_f2-obj0_f1', 'NC|obs0_f1-rob0_f2', 'IC|obj0_f1-rob0_f1')\"}\n",
      "INFO:large_gcs.algorithms.gcs_astar_convex_restriction:\n",
      "n_vertices_visited: 24, n_edges_visited: 6, n_vertices_explored: 886, vertex_coverage: 0.133, edge_coverage: 0.0009, time_wall_clock: 11.2, n_gcs_solves: 895, gcs_solve_time_total: 1.31, gcs_solve_time_iter_mean: 0.00146, gcs_solve_time_last_10_mean: 0.00617, gcs_solve_time_iter_std: 0.00937, gcs_solve_time_iter_min: 0.000188, gcs_solve_time_iter_max: 0.19, n_vertices_revisited: 0, n_vertices_reexplored: 0\n",
      "now exploring node ('NC|obs0_f2-obj0_f1', 'NC|obs0_f1-rob0_f2', 'IC|obj0_f1-rob0_f1')'s 31 neighbors (26112.48517177935)\n",
      "INFO:large_gcs.algorithms.gcs_astar_convex_restriction:visited_fd_vertices: {\"('NC|obs0_f0-obj0_v3', 'NC|obs0_f0-rob0_v1', 'IC|obj0_f0-rob0_v1')\", \"('IC|obs0_f2-obj0_f1', 'NC|obs0_f1-rob0_f2', 'IC|obj0_f1-rob0_f1')\", 'source', \"('NC|obs0_f0-obj0_v3', 'NC|obs0_f0-rob0_v1', 'IC|obj0_v0-rob0_f0')\", 'target', \"('NC|obs0_f1-obj0_f0', 'NC|obs0_f0-rob0_v1', 'IC|obj0_f1-rob0_f1')\", \"('IC|obs0_f1-obj0_f0', 'NC|obs0_f1-rob0_f2', 'IC|obj0_f1-rob0_f1')\", \"('NC|obs0_f0-obj0_v3', 'NC|obs0_f0-rob0_v1', 'NC|obj0_f3-rob0_v0')\"}\n",
      "INFO:large_gcs.algorithms.gcs_astar_convex_restriction:\n",
      "n_vertices_visited: 25, n_edges_visited: 6, n_vertices_explored: 915, vertex_coverage: 0.138, edge_coverage: 0.0009, time_wall_clock: 11.6, n_gcs_solves: 924, gcs_solve_time_total: 1.36, gcs_solve_time_iter_mean: 0.00147, gcs_solve_time_last_10_mean: 0.00148, gcs_solve_time_iter_std: 0.00922, gcs_solve_time_iter_min: 0.000188, gcs_solve_time_iter_max: 0.19, n_vertices_revisited: 0, n_vertices_reexplored: 0\n",
      "now exploring node ('IC|obs0_f2-obj0_f1', 'NC|obs0_f1-rob0_f2', 'IC|obj0_f1-rob0_f1')'s 15 neighbors (26112.485171794433)\n",
      "INFO:large_gcs.algorithms.gcs_astar_convex_restriction:visited_fd_vertices: {\"('NC|obs0_f0-obj0_v3', 'NC|obs0_f0-rob0_v1', 'IC|obj0_f0-rob0_v1')\", \"('NC|obs0_f2-obj0_f1', 'NC|obs0_f1-rob0_f2', 'NC|obj0_f1-rob0_f1')\", 'source', \"('NC|obs0_f0-obj0_v3', 'NC|obs0_f0-rob0_v1', 'IC|obj0_v0-rob0_f0')\", 'target', \"('NC|obs0_f1-obj0_f0', 'NC|obs0_f0-rob0_v1', 'IC|obj0_f1-rob0_f1')\", \"('IC|obs0_f1-obj0_f0', 'NC|obs0_f1-rob0_f2', 'IC|obj0_f1-rob0_f1')\", \"('NC|obs0_f0-obj0_v3', 'NC|obs0_f0-rob0_v1', 'NC|obj0_f3-rob0_v0')\"}\n",
      "INFO:large_gcs.algorithms.gcs_astar_convex_restriction:\n",
      "n_vertices_visited: 26, n_edges_visited: 6, n_vertices_explored: 928, vertex_coverage: 0.144, edge_coverage: 0.0009, time_wall_clock: 11.8, n_gcs_solves: 937, gcs_solve_time_total: 1.38, gcs_solve_time_iter_mean: 0.00147, gcs_solve_time_last_10_mean: 0.00185, gcs_solve_time_iter_std: 0.00915, gcs_solve_time_iter_min: 0.000188, gcs_solve_time_iter_max: 0.19, n_vertices_revisited: 0, n_vertices_reexplored: 0\n",
      "now exploring node ('NC|obs0_f2-obj0_f1', 'NC|obs0_f1-rob0_f2', 'NC|obj0_f1-rob0_f1')'s 51 neighbors (26112.4851720628)\n",
      "INFO:large_gcs.algorithms.gcs_astar_convex_restriction:visited_fd_vertices: {'source', \"('NC|obs0_f0-obj0_v3', 'NC|obs0_f0-rob0_v1', 'IC|obj0_v0-rob0_f0')\", \"('NC|obs0_f1-obj0_f0', 'NC|obs0_f0-rob0_v1', 'IC|obj0_f1-rob0_f1')\", \"('IC|obs0_f1-obj0_f0', 'NC|obs0_f1-rob0_f2', 'IC|obj0_f1-rob0_f1')\", \"('NC|obs0_f0-obj0_v3', 'NC|obs0_f0-rob0_v1', 'NC|obj0_f3-rob0_v0')\", \"('NC|obs0_f0-obj0_v3', 'NC|obs0_f0-rob0_v1', 'IC|obj0_f0-rob0_v1')\", \"('IC|obs0_f2-obj0_f1', 'NC|obs0_f1-rob0_f2', 'NC|obj0_f1-rob0_f1')\", 'target'}\n",
      "INFO:large_gcs.algorithms.gcs_astar_convex_restriction:\n",
      "n_vertices_visited: 27, n_edges_visited: 6, n_vertices_explored: 971, vertex_coverage: 0.149, edge_coverage: 0.0009, time_wall_clock: 12.4, n_gcs_solves: 980, gcs_solve_time_total: 1.44, gcs_solve_time_iter_mean: 0.00146, gcs_solve_time_last_10_mean: 0.000869, gcs_solve_time_iter_std: 0.00895, gcs_solve_time_iter_min: 0.000188, gcs_solve_time_iter_max: 0.19, n_vertices_revisited: 0, n_vertices_reexplored: 0\n",
      "now exploring node ('IC|obs0_f2-obj0_f1', 'NC|obs0_f1-rob0_f2', 'NC|obj0_f1-rob0_f1')'s 27 neighbors (26112.485172065237)\n",
      "INFO:large_gcs.algorithms.gcs_astar_convex_restriction:visited_fd_vertices: {'source', \"('NC|obs0_f0-obj0_v3', 'NC|obs0_f0-rob0_v1', 'IC|obj0_v0-rob0_f0')\", \"('NC|obs0_f1-obj0_f0', 'NC|obs0_f0-rob0_v1', 'IC|obj0_f1-rob0_f1')\", \"('IC|obs0_f1-obj0_f0', 'NC|obs0_f1-rob0_f2', 'IC|obj0_f1-rob0_f1')\", \"('NC|obs0_f0-obj0_v3', 'NC|obs0_f0-rob0_v1', 'NC|obj0_f3-rob0_v0')\", \"('NC|obs0_f2-obj0_f1', 'NC|obs0_f1-rob0_f2', 'IC|obj0_f2-rob0_f2')\", \"('NC|obs0_f0-obj0_v3', 'NC|obs0_f0-rob0_v1', 'IC|obj0_f0-rob0_v1')\", 'target'}\n",
      "INFO:large_gcs.algorithms.gcs_astar_convex_restriction:\n",
      "n_vertices_visited: 28, n_edges_visited: 6, n_vertices_explored: 993, vertex_coverage: 0.155, edge_coverage: 0.0009, time_wall_clock: 12.7, n_gcs_solves: 1002, gcs_solve_time_total: 1.47, gcs_solve_time_iter_mean: 0.00147, gcs_solve_time_last_10_mean: 0.00187, gcs_solve_time_iter_std: 0.00885, gcs_solve_time_iter_min: 0.000188, gcs_solve_time_iter_max: 0.19, n_vertices_revisited: 0, n_vertices_reexplored: 0\n",
      "now exploring node ('NC|obs0_f2-obj0_f1', 'NC|obs0_f1-rob0_f2', 'IC|obj0_f2-rob0_f2')'s 43 neighbors (26112.792519615617)\n",
      "INFO:large_gcs.algorithms.gcs_astar_convex_restriction:visited_fd_vertices: {'source', \"('NC|obs0_f0-obj0_v3', 'NC|obs0_f0-rob0_v1', 'IC|obj0_v0-rob0_f0')\", \"('NC|obs0_f1-obj0_f0', 'NC|obs0_f0-rob0_v1', 'IC|obj0_f1-rob0_f1')\", \"('IC|obs0_f1-obj0_f0', 'NC|obs0_f1-rob0_f2', 'IC|obj0_f1-rob0_f1')\", \"('NC|obs0_f0-obj0_v3', 'NC|obs0_f0-rob0_v1', 'NC|obj0_f3-rob0_v0')\", \"('NC|obs0_f2-obj0_f1', 'NC|obs0_f1-rob0_f2', 'IC|obj0_f2-rob0_f2')\", \"('NC|obs0_f0-obj0_v3', 'NC|obs0_f0-rob0_v1', 'IC|obj0_f0-rob0_v1')\", 'target', \"('IC|obs0_f2-obj0_f1', 'NC|obs0_f2-rob0_v0', 'NC|obj0_f2-rob0_f2')\"}\n",
      "INFO:large_gcs.algorithms.gcs_astar_convex_restriction:\n",
      "n_vertices_visited: 29, n_edges_visited: 7, n_vertices_explored: 1029, vertex_coverage: 0.16, edge_coverage: 0.0011, time_wall_clock: 13.2, n_gcs_solves: 1038, gcs_solve_time_total: 1.53, gcs_solve_time_iter_mean: 0.00148, gcs_solve_time_last_10_mean: 0.00163, gcs_solve_time_iter_std: 0.0087, gcs_solve_time_iter_min: 0.000188, gcs_solve_time_iter_max: 0.19, n_vertices_revisited: 0, n_vertices_reexplored: 0\n",
      "now exploring node ('IC|obs0_f2-obj0_f1', 'NC|obs0_f2-rob0_v0', 'NC|obj0_f2-rob0_f2')'s 37 neighbors (26112.283633027935)\n",
      "INFO:large_gcs.algorithms.gcs_astar_convex_restriction:visited_fd_vertices: {'source', \"('NC|obs0_f0-obj0_v3', 'NC|obs0_f0-rob0_v1', 'IC|obj0_v0-rob0_f0')\", \"('NC|obs0_f1-obj0_f0', 'NC|obs0_f0-rob0_v1', 'IC|obj0_f1-rob0_f1')\", \"('IC|obs0_f1-obj0_f0', 'NC|obs0_f1-rob0_f2', 'IC|obj0_f1-rob0_f1')\", \"('NC|obs0_f0-obj0_v3', 'NC|obs0_f0-rob0_v1', 'NC|obj0_f3-rob0_v0')\", \"('NC|obs0_f2-obj0_f1', 'NC|obs0_f1-rob0_f2', 'IC|obj0_f2-rob0_f2')\", \"('NC|obs0_f0-obj0_v3', 'NC|obs0_f0-rob0_v1', 'IC|obj0_f0-rob0_v1')\", 'target', \"('NC|obs0_f2-obj0_f1', 'NC|obs0_f2-rob0_v0', 'NC|obj0_f2-rob0_f2')\"}\n",
      "INFO:large_gcs.algorithms.gcs_astar_convex_restriction:\n",
      "n_vertices_visited: 30, n_edges_visited: 7, n_vertices_explored: 1063, vertex_coverage: 0.166, edge_coverage: 0.0011, time_wall_clock: 13.7, n_gcs_solves: 1072, gcs_solve_time_total: 1.6, gcs_solve_time_iter_mean: 0.00149, gcs_solve_time_last_10_mean: 0.00219, gcs_solve_time_iter_std: 0.00856, gcs_solve_time_iter_min: 0.000188, gcs_solve_time_iter_max: 0.19, n_vertices_revisited: 0, n_vertices_reexplored: 0\n",
      "now exploring node ('NC|obs0_f2-obj0_f1', 'NC|obs0_f2-rob0_v0', 'NC|obj0_f2-rob0_f2')'s 66 neighbors (26112.283633741325)\n",
      "INFO:large_gcs.algorithms.gcs_astar_convex_restriction:visited_fd_vertices: {'source', \"('NC|obs0_f0-obj0_v3', 'NC|obs0_f0-rob0_v1', 'IC|obj0_v0-rob0_f0')\", \"('NC|obs0_f1-obj0_f0', 'NC|obs0_f0-rob0_v1', 'IC|obj0_f1-rob0_f1')\", \"('IC|obs0_f1-obj0_f0', 'NC|obs0_f1-rob0_f2', 'IC|obj0_f1-rob0_f1')\", \"('NC|obs0_f0-obj0_v3', 'NC|obs0_f0-rob0_v1', 'NC|obj0_f3-rob0_v0')\", \"('NC|obs0_f2-obj0_f1', 'NC|obs0_f1-rob0_f2', 'IC|obj0_f2-rob0_f2')\", \"('NC|obs0_f0-obj0_v3', 'NC|obs0_f0-rob0_v1', 'IC|obj0_f0-rob0_v1')\", 'target', \"('NC|obs0_f2-obj0_f1', 'NC|obs0_f2-rob0_v0', 'IC|obj0_f2-rob0_f2')\"}\n",
      "INFO:large_gcs.algorithms.gcs_astar_convex_restriction:\n",
      "n_vertices_visited: 31, n_edges_visited: 7, n_vertices_explored: 1116, vertex_coverage: 0.171, edge_coverage: 0.0011, time_wall_clock: 14.4, n_gcs_solves: 1125, gcs_solve_time_total: 1.68, gcs_solve_time_iter_mean: 0.00149, gcs_solve_time_last_10_mean: 0.00194, gcs_solve_time_iter_std: 0.00836, gcs_solve_time_iter_min: 0.000188, gcs_solve_time_iter_max: 0.19, n_vertices_revisited: 0, n_vertices_reexplored: 0\n",
      "now exploring node ('NC|obs0_f2-obj0_f1', 'NC|obs0_f2-rob0_v0', 'IC|obj0_f2-rob0_f2')'s 61 neighbors (26112.28596371332)\n",
      "INFO:large_gcs.algorithms.gcs_astar_convex_restriction:First time candidate sol is set through ('IC|obs0_f2-obj0_f1', 'NC|obs0_f2-rob0_v0', 'NC|obj0_f3-rob0_v0') with cost 27.20814012579448\n",
      "INFO:large_gcs.algorithms.gcs_astar_convex_restriction:New candidate sol is set through ('NC|obs0_f2-obj0_f1', 'NC|obs0_f2-rob0_v0', 'NC|obj0_f3-rob0_v0') with cost 27.20814012525267\n",
      "INFO:large_gcs.algorithms.gcs_astar_convex_restriction:Gcs A* Convex Restriction complete! \n",
      "cost: 27.20814012525267, time: 0.002608060836791992\n",
      "vertex path: ['source'\n",
      " \"('NC|obs0_f0-obj0_v3', 'NC|obs0_f0-rob0_v1', 'NC|obj0_f3-rob0_v0')\"\n",
      " \"('NC|obs0_f0-obj0_v3', 'NC|obs0_f0-rob0_v1', 'IC|obj0_v0-rob0_f0')\"\n",
      " \"('NC|obs0_f0-obj0_v3', 'NC|obs0_f0-rob0_v1', 'IC|obj0_f0-rob0_v1')\"\n",
      " \"('NC|obs0_f1-obj0_f0', 'NC|obs0_f0-rob0_v1', 'IC|obj0_f1-rob0_f1')\"\n",
      " \"('IC|obs0_f1-obj0_f0', 'NC|obs0_f1-rob0_f2', 'IC|obj0_f1-rob0_f1')\"\n",
      " \"('NC|obs0_f2-obj0_f1', 'NC|obs0_f1-rob0_f2', 'IC|obj0_f2-rob0_f2')\"\n",
      " \"('NC|obs0_f2-obj0_f1', 'NC|obs0_f2-rob0_v0', 'IC|obj0_f2-rob0_f2')\"\n",
      " \"('NC|obs0_f2-obj0_f1', 'NC|obs0_f2-rob0_v0', 'NC|obj0_f3-rob0_v0')\"\n",
      " 'target']\n",
      "n_vertices_visited: 31, n_edges_visited: 7, n_vertices_explored: 1164, vertex_coverage: 0.171, edge_coverage: 0.0011, time_wall_clock: 15.3, n_gcs_solves: 1174, gcs_solve_time_total: 1.91, gcs_solve_time_iter_mean: 0.00163, gcs_solve_time_last_10_mean: 0.00185, gcs_solve_time_iter_std: 0.00915, gcs_solve_time_iter_min: 0.000188, gcs_solve_time_iter_max: 0.19, n_vertices_revisited: 0, n_vertices_reexplored: 0\n"
     ]
    }
   ],
   "source": [
    "cost_estimator = FactoredCollisionFreeCE(cg, use_combined_gcs=False, obj_multiplier=100)\n",
    "gcs_astar = GcsAstarConvexRestriction(\n",
    "    cg,\n",
    "    cost_estimator=cost_estimator,\n",
    "    reexplore_level=ReexploreLevel.NONE,\n",
    ")\n",
    "sol = gcs_astar.run()"
   ]
  },
  {
   "cell_type": "code",
   "execution_count": null,
   "metadata": {},
   "outputs": [],
   "source": [
    "cost_estimator = FactoredCollisionFreeCE(cg, use_combined_gcs=True, obj_multiplier=100)\n",
    "gcs_astar = GcsAstarTree(\n",
    "    cg,\n",
    "    cost_estimator=cost_estimator,\n",
    "    reexplore_level=ReexploreLevel.NONE,\n",
    ")\n",
    "sol = gcs_astar.run()\n"
   ]
  },
  {
   "cell_type": "code",
   "execution_count": 4,
   "metadata": {},
   "outputs": [
    {
     "name": "stderr",
     "output_type": "stream",
     "text": [
      "INFO:large_gcs.cost_estimators.factored_collision_free_ce:creating 2 collision free graphs...\n",
      "0it [00:00, ?it/s]INFO:large_gcs.graph.factored_collision_free_graph:Creating vertex costs for factored_collision_free_graph...\n",
      "100%|██████████| 9/9 [00:00<00:00, 10191.34it/s]\n",
      "INFO:large_gcs.graph.graph:Adding 9 vertices to graph...\n",
      "100%|██████████| 9/9 [00:00<00:00, 13120.87it/s]\n",
      "INFO:large_gcs.graph.contact_graph:Generating edges...(parallel)\n",
      "100%|██████████| 36/36 [00:03<00:00, 11.97it/s]\n",
      "INFO:large_gcs.graph.contact_graph:64 edges generated\n",
      "INFO:large_gcs.graph.contact_graph:Creating edge costs...\n"
     ]
    },
    {
     "name": "stdout",
     "output_type": "stream",
     "text": [
      "Set parameter Username\n",
      "Set parameter Username\n",
      "Set parameter Username\n",
      "Academic license - for non-commercial use only - expires 2024-03-04\n",
      "Academic license - for non-commercial use only - expires 2024-03-04\n",
      "Academic license - for non-commercial use only - expires 2024-03-04\n",
      "Set parameter Username\n",
      "Set parameter Username\n",
      "Set parameter Username\n",
      "Set parameter Username\n",
      "Academic license - for non-commercial use only - expires 2024-03-04\n",
      "Academic license - for non-commercial use only - expires 2024-03-04\n",
      "Academic license - for non-commercial use only - expires 2024-03-04\n",
      "Academic license - for non-commercial use only - expires 2024-03-04\n",
      "Set parameter Username\n",
      "Academic license - for non-commercial use only - expires 2024-03-04\n",
      "Set parameter Username\n",
      "Academic license - for non-commercial use only - expires 2024-03-04\n",
      "Set parameter Username\n",
      "Set parameter Username\n",
      "Academic license - for non-commercial use only - expires 2024-03-04\n",
      "Academic license - for non-commercial use only - expires 2024-03-04\n",
      "Set parameter Username\n",
      "Academic license - for non-commercial use only - expires 2024-03-04\n",
      "Set parameter Username\n",
      "Academic license - for non-commercial use only - expires 2024-03-04\n",
      "Set parameter Username\n",
      "Academic license - for non-commercial use only - expires 2024-03-04\n",
      "Set parameter Username\n",
      "Academic license - for non-commercial use only - expires 2024-03-04\n",
      "Set parameter Username\n",
      "Academic license - for non-commercial use only - expires 2024-03-04\n"
     ]
    },
    {
     "name": "stderr",
     "output_type": "stream",
     "text": [
      "100%|██████████| 64/64 [00:00<00:00, 15187.30it/s]\n",
      "INFO:large_gcs.graph.contact_graph:Creating edge constraints...\n",
      "100%|██████████| 64/64 [00:00<00:00, 6802.21it/s]\n",
      "INFO:large_gcs.graph.graph:Adding 64 edges to graph...\n",
      "100%|██████████| 64/64 [00:00<00:00, 7025.27it/s]\n",
      "INFO:large_gcs.graph.factored_collision_free_graph:Created factored collision free graph for obj0: GraphParams(dim_bounds=(2, 4), n_vertices=9, n_edges=64, source=None, target=[array([-1.500, 0.000])], workspace=array([[-5,  5],\n",
      "       [-4,  4]]), default_costs_constraints=None)\n",
      "1it [00:03,  3.55s/it]INFO:large_gcs.graph.factored_collision_free_graph:Creating vertex costs for factored_collision_free_graph...\n",
      "100%|██████████| 4/4 [00:00<00:00, 3850.63it/s]\n",
      "INFO:large_gcs.graph.graph:Adding 4 vertices to graph...\n",
      "100%|██████████| 4/4 [00:00<00:00, 8418.07it/s]\n",
      "INFO:large_gcs.graph.contact_graph:Generating edges...(parallel)\n",
      "100%|██████████| 6/6 [00:01<00:00,  3.29it/s]\n",
      "INFO:large_gcs.graph.contact_graph:12 edges generated\n",
      "INFO:large_gcs.graph.contact_graph:Creating edge costs...\n"
     ]
    },
    {
     "name": "stdout",
     "output_type": "stream",
     "text": [
      "Set parameter Username\n",
      "Set parameter Username\n",
      "Set parameter Username\n",
      "Academic license - for non-commercial use only - expires 2024-03-04\n",
      "Academic license - for non-commercial use only - expires 2024-03-04\n",
      "Set parameter Username\n",
      "Set parameter Username\n",
      "Academic license - for non-commercial use only - expires 2024-03-04\n",
      "Academic license - for non-commercial use only - expires 2024-03-04\n",
      "Academic license - for non-commercial use only - expires 2024-03-04\n",
      "Set parameter Username\n",
      "Academic license - for non-commercial use only - expires 2024-03-04\n"
     ]
    },
    {
     "name": "stderr",
     "output_type": "stream",
     "text": [
      "100%|██████████| 12/12 [00:00<00:00, 11132.86it/s]\n",
      "INFO:large_gcs.graph.contact_graph:Creating edge constraints...\n",
      "100%|██████████| 12/12 [00:00<00:00, 5542.52it/s]\n",
      "INFO:large_gcs.graph.graph:Adding 12 edges to graph...\n",
      "100%|██████████| 12/12 [00:00<00:00, 2915.92it/s]\n",
      "INFO:large_gcs.graph.factored_collision_free_graph:Created factored collision free graph for rob0: GraphParams(dim_bounds=(2, 4), n_vertices=4, n_edges=12, source=None, target=[array([-3,  0])], workspace=array([[-5,  5],\n",
      "       [-4,  4]]), default_costs_constraints=None)\n",
      "2it [00:05,  2.84s/it]\n",
      "INFO:large_gcs.algorithms.gcs_astar_convex_restriction:Running GcsAstarConvexRestriction, reexplore_level: ReexploreLevel.NONE\n",
      "INFO:large_gcs.algorithms.gcs_astar_convex_restriction:visited_fd_vertices: {'source', 'target'}\n",
      "INFO:large_gcs.algorithms.gcs_astar_convex_restriction:\n",
      "n_vertices_visited: 2, n_edges_visited: 0, n_vertices_explored: 0, vertex_coverage: 0.011, edge_coverage: 0, time_wall_clock: 0, n_gcs_solves: 0, gcs_solve_time_total: 0, gcs_solve_time_iter_mean: 0, gcs_solve_time_last_10_mean: 0, gcs_solve_time_iter_std: 0, gcs_solve_time_iter_min: inf, gcs_solve_time_iter_max: 0, n_vertices_revisited: 0, n_vertices_reexplored: 0\n",
      "now exploring node source's 1 neighbors (0)\n",
      "INFO:large_gcs.cost_estimators.factored_collision_free_ce:adding cfree graphs to subgraph...\n",
      "INFO:large_gcs.algorithms.gcs_astar_convex_restriction:visited_fd_vertices: {'source', \"('NC|obs0_f0-obj0_v3', 'NC|obs0_f0-rob0_v1', 'NC|obj0_f3-rob0_v0')\", 'target'}\n",
      "INFO:large_gcs.algorithms.gcs_astar_convex_restriction:\n",
      "n_vertices_visited: 3, n_edges_visited: 77, n_vertices_explored: 1, vertex_coverage: 0.0166, edge_coverage: 0.012, time_wall_clock: 0.297, n_gcs_solves: 1, gcs_solve_time_total: 0.183, gcs_solve_time_iter_mean: 0.183, gcs_solve_time_last_10_mean: 0, gcs_solve_time_iter_std: 0, gcs_solve_time_iter_min: 0.183, gcs_solve_time_iter_max: 0.183, n_vertices_revisited: 0, n_vertices_reexplored: 0\n",
      "now exploring node ('NC|obs0_f0-obj0_v3', 'NC|obs0_f0-rob0_v1', 'NC|obj0_f3-rob0_v0')'s 56 neighbors (666.5117585015125)\n",
      "INFO:large_gcs.algorithms.gcs_astar_convex_restriction:visited_fd_vertices: {'source', \"('NC|obs0_f0-obj0_v3', 'NC|obs0_f0-rob0_v1', 'IC|obj0_f2-rob0_f2')\", \"('NC|obs0_f0-obj0_v3', 'NC|obs0_f0-rob0_v1', 'NC|obj0_f3-rob0_v0')\", 'target'}\n",
      "INFO:large_gcs.algorithms.gcs_astar_convex_restriction:\n",
      "n_vertices_visited: 4, n_edges_visited: 78, n_vertices_explored: 56, vertex_coverage: 0.0221, edge_coverage: 0.0122, time_wall_clock: 6.7, n_gcs_solves: 56, gcs_solve_time_total: 1.49, gcs_solve_time_iter_mean: 0.0266, gcs_solve_time_last_10_mean: 0.0024, gcs_solve_time_iter_std: 0.0588, gcs_solve_time_iter_min: 0.000372, gcs_solve_time_iter_max: 0.202, n_vertices_revisited: 0, n_vertices_reexplored: 0\n",
      "now exploring node ('NC|obs0_f0-obj0_v3', 'NC|obs0_f0-rob0_v1', 'IC|obj0_f2-rob0_f2')'s 61 neighbors (643.8781189612873)\n",
      "INFO:large_gcs.algorithms.gcs_astar_convex_restriction:visited_fd_vertices: {\"('NC|obs0_f0-obj0_v3', 'NC|obs0_f0-rob0_v1', 'IC|obj0_f1-rob0_f1')\", \"('NC|obs0_f0-obj0_v3', 'NC|obs0_f0-rob0_v1', 'IC|obj0_f2-rob0_f2')\", 'source', 'target', \"('NC|obs0_f0-obj0_v3', 'NC|obs0_f0-rob0_v1', 'NC|obj0_f3-rob0_v0')\"}\n",
      "INFO:large_gcs.algorithms.gcs_astar_convex_restriction:\n",
      "n_vertices_visited: 5, n_edges_visited: 79, n_vertices_explored: 116, vertex_coverage: 0.0276, edge_coverage: 0.0123, time_wall_clock: 13.8, n_gcs_solves: 116, gcs_solve_time_total: 2.66, gcs_solve_time_iter_mean: 0.0229, gcs_solve_time_last_10_mean: 0.00322, gcs_solve_time_iter_std: 0.0606, gcs_solve_time_iter_min: 0.000372, gcs_solve_time_iter_max: 0.307, n_vertices_revisited: 0, n_vertices_reexplored: 0\n",
      "now exploring node ('NC|obs0_f0-obj0_v3', 'NC|obs0_f0-rob0_v1', 'IC|obj0_f1-rob0_f1')'s 67 neighbors (276.68006169330243)\n",
      "INFO:large_gcs.algorithms.gcs_astar_convex_restriction:visited_fd_vertices: {\"('NC|obs0_f0-obj0_v3', 'NC|obs0_f0-rob0_v1', 'IC|obj0_f1-rob0_f1')\", \"('NC|obs0_f0-obj0_v3', 'NC|obs0_f0-rob0_v1', 'IC|obj0_f2-rob0_f2')\", \"('NC|obs0_f2-obj0_f1', 'NC|obs0_f0-rob0_v1', 'IC|obj0_f0-rob0_v1')\", 'source', 'target', \"('NC|obs0_f0-obj0_v3', 'NC|obs0_f0-rob0_v1', 'NC|obj0_f3-rob0_v0')\"}\n",
      "INFO:large_gcs.algorithms.gcs_astar_convex_restriction:\n",
      "n_vertices_visited: 6, n_edges_visited: 80, n_vertices_explored: 182, vertex_coverage: 0.0331, edge_coverage: 0.0125, time_wall_clock: 25.4, n_gcs_solves: 182, gcs_solve_time_total: 7.52, gcs_solve_time_iter_mean: 0.0413, gcs_solve_time_last_10_mean: 0.0969, gcs_solve_time_iter_std: 0.0731, gcs_solve_time_iter_min: 0.000372, gcs_solve_time_iter_max: 0.307, n_vertices_revisited: 0, n_vertices_reexplored: 0\n",
      "now exploring node ('NC|obs0_f2-obj0_f1', 'NC|obs0_f0-rob0_v1', 'IC|obj0_f0-rob0_v1')'s 35 neighbors (77.92237827438262)\n",
      "INFO:large_gcs.algorithms.gcs_astar_convex_restriction:visited_fd_vertices: {\"('NC|obs0_f0-obj0_v3', 'NC|obs0_f0-rob0_v1', 'IC|obj0_f1-rob0_f1')\", \"('NC|obs0_f0-obj0_v3', 'NC|obs0_f0-rob0_v1', 'IC|obj0_f2-rob0_f2')\", \"('NC|obs0_f2-obj0_f1', 'NC|obs0_f0-rob0_v1', 'IC|obj0_f0-rob0_v1')\", 'source', 'target', \"('NC|obs0_f0-obj0_v3', 'NC|obs0_f0-rob0_v1', 'NC|obj0_f3-rob0_v0')\", \"('IC|obs0_f2-obj0_f1', 'NC|obs0_f2-rob0_v0', 'IC|obj0_f0-rob0_v1')\"}\n",
      "INFO:large_gcs.algorithms.gcs_astar_convex_restriction:\n",
      "n_vertices_visited: 7, n_edges_visited: 81, n_vertices_explored: 216, vertex_coverage: 0.0387, edge_coverage: 0.0126, time_wall_clock: 32.4, n_gcs_solves: 216, gcs_solve_time_total: 11, gcs_solve_time_iter_mean: 0.0509, gcs_solve_time_last_10_mean: 0.0662, gcs_solve_time_iter_std: 0.0734, gcs_solve_time_iter_min: 0.000372, gcs_solve_time_iter_max: 0.307, n_vertices_revisited: 0, n_vertices_reexplored: 0\n",
      "now exploring node ('IC|obs0_f2-obj0_f1', 'NC|obs0_f2-rob0_v0', 'IC|obj0_f0-rob0_v1')'s 23 neighbors (25.654246807864876)\n",
      "INFO:large_gcs.algorithms.gcs_astar_convex_restriction:visited_fd_vertices: {\"('NC|obs0_f0-obj0_v3', 'NC|obs0_f0-rob0_v1', 'IC|obj0_f1-rob0_f1')\", \"('NC|obs0_f0-obj0_v3', 'NC|obs0_f0-rob0_v1', 'IC|obj0_f2-rob0_f2')\", \"('NC|obs0_f2-obj0_f1', 'NC|obs0_f0-rob0_v1', 'IC|obj0_f0-rob0_v1')\", \"('IC|obs0_f2-obj0_f1', 'NC|obs0_f2-rob0_v0', 'IC|obj0_v0-rob0_f0')\", 'source', 'target', \"('NC|obs0_f0-obj0_v3', 'NC|obs0_f0-rob0_v1', 'NC|obj0_f3-rob0_v0')\", \"('IC|obs0_f2-obj0_f1', 'NC|obs0_f2-rob0_v0', 'IC|obj0_f0-rob0_v1')\"}\n",
      "INFO:large_gcs.algorithms.gcs_astar_convex_restriction:\n",
      "n_vertices_visited: 8, n_edges_visited: 82, n_vertices_explored: 238, vertex_coverage: 0.0442, edge_coverage: 0.0128, time_wall_clock: 37.4, n_gcs_solves: 238, gcs_solve_time_total: 13.6, gcs_solve_time_iter_mean: 0.0573, gcs_solve_time_last_10_mean: 0.11, gcs_solve_time_iter_std: 0.0735, gcs_solve_time_iter_min: 0.000372, gcs_solve_time_iter_max: 0.307, n_vertices_revisited: 0, n_vertices_reexplored: 0\n",
      "now exploring node ('IC|obs0_f2-obj0_f1', 'NC|obs0_f2-rob0_v0', 'IC|obj0_v0-rob0_f0')'s 45 neighbors (25.149030396696972)\n",
      "INFO:large_gcs.algorithms.gcs_astar_convex_restriction:First time candidate sol is set through ('IC|obs0_f2-obj0_f1', 'NC|obs0_f2-rob0_v0', 'NC|obj0_f3-rob0_v0') with cost 25.146937836902538\n",
      "INFO:large_gcs.algorithms.gcs_astar_convex_restriction:Gcs A* Convex Restriction complete! \n",
      "cost: 25.146937836902538, time: 0.0019450187683105469\n",
      "vertex path: ['source'\n",
      " \"('NC|obs0_f0-obj0_v3', 'NC|obs0_f0-rob0_v1', 'NC|obj0_f3-rob0_v0')\"\n",
      " \"('NC|obs0_f0-obj0_v3', 'NC|obs0_f0-rob0_v1', 'IC|obj0_f2-rob0_f2')\"\n",
      " \"('NC|obs0_f0-obj0_v3', 'NC|obs0_f0-rob0_v1', 'IC|obj0_f1-rob0_f1')\"\n",
      " \"('NC|obs0_f2-obj0_f1', 'NC|obs0_f0-rob0_v1', 'IC|obj0_f0-rob0_v1')\"\n",
      " \"('IC|obs0_f2-obj0_f1', 'NC|obs0_f2-rob0_v0', 'IC|obj0_f0-rob0_v1')\"\n",
      " \"('IC|obs0_f2-obj0_f1', 'NC|obs0_f2-rob0_v0', 'IC|obj0_v0-rob0_f0')\"\n",
      " \"('IC|obs0_f2-obj0_f1', 'NC|obs0_f2-rob0_v0', 'NC|obj0_f3-rob0_v0')\"\n",
      " 'target']\n",
      "n_vertices_visited: 8, n_edges_visited: 82, n_vertices_explored: 281, vertex_coverage: 0.0442, edge_coverage: 0.0128, time_wall_clock: 47.6, n_gcs_solves: 281, gcs_solve_time_total: 19.1, gcs_solve_time_iter_mean: 0.0679, gcs_solve_time_last_10_mean: 0.0764, gcs_solve_time_iter_std: 0.0742, gcs_solve_time_iter_min: 0.000372, gcs_solve_time_iter_max: 0.307, n_vertices_revisited: 0, n_vertices_reexplored: 0\n"
     ]
    }
   ],
   "source": [
    "cost_estimator = FactoredCollisionFreeCE(cg, use_combined_gcs=True, obj_multiplier=100)\n",
    "gcs_astar = GcsAstarConvexRestriction(\n",
    "    cg,\n",
    "    cost_estimator=cost_estimator,\n",
    "    reexplore_level=ReexploreLevel.NONE,\n",
    ")\n",
    "sol = gcs_astar.run(animate_intermediate=False)"
   ]
  },
  {
   "cell_type": "code",
   "execution_count": null,
   "metadata": {},
   "outputs": [],
   "source": [
    "cg.incoming_edges(cg.target_name)"
   ]
  },
  {
   "cell_type": "code",
   "execution_count": null,
   "metadata": {},
   "outputs": [],
   "source": [
    "cg.contact_spp_sol.vertex_path"
   ]
  },
  {
   "cell_type": "code",
   "execution_count": null,
   "metadata": {},
   "outputs": [],
   "source": [
    "anim = cg.animate_solution()\n",
    "HTML(anim.to_html5_video())"
   ]
  },
  {
   "cell_type": "markdown",
   "metadata": {},
   "source": [
    "## Path refinement?"
   ]
  },
  {
   "cell_type": "code",
   "execution_count": null,
   "metadata": {},
   "outputs": [],
   "source": [
    "vertex_inclusion = ['source',\n",
    " \"('NC|obs0_f0-obj0_v3', 'NC|obs0_f0-rob0_v1', 'NC|obs1_f2-obj0_v1', 'NC|obs1_f1-rob0_v2', 'NC|obj0_f1-rob0_f1')\",\n",
    " \"('NC|obs0_f0-obj0_v3', 'NC|obs0_f0-rob0_v1', 'NC|obs1_f2-obj0_v1', 'NC|obs1_f2-rob0_v0', 'NC|obj0_f1-rob0_f1')\",\n",
    " \"('NC|obs0_f0-obj0_v3', 'NC|obs0_f0-rob0_v1', 'NC|obs1_f2-obj0_v1', 'NC|obs1_f2-rob0_v0', 'IC|obj0_f1-rob0_f1')\",\n",
    " \"('IC|obs0_f0-obj0_v3', 'NC|obs0_f0-rob0_v1', 'NC|obs1_f2-obj0_v1', 'NC|obs1_f2-rob0_v0', 'IC|obj0_f1-rob0_f1')\",\n",
    " \"('IC|obs0_v0-obj0_f2', 'NC|obs0_f0-rob0_v1', 'NC|obs1_f2-obj0_v1', 'NC|obs1_f2-rob0_v0', 'IC|obj0_f1-rob0_f1')\",\n",
    " \"('IC|obs0_v0-obj0_f1', 'NC|obs0_f0-rob0_v1', 'NC|obs1_f2-obj0_v1', 'NC|obs1_f0-rob0_v1', 'IC|obj0_f1-rob0_f1')\",\n",
    " \"('IC|obs0_v0-obj0_f1', 'NC|obs0_f0-rob0_v1', 'NC|obs1_f2-obj0_v1', 'NC|obs1_f0-rob0_v1', 'IC|obj0_f0-rob0_v1')\",\n",
    " \"('IC|obs0_v0-obj0_f1', 'NC|obs0_f0-rob0_v1', 'NC|obs1_f2-obj0_v1', 'NC|obs1_f2-rob0_v0', 'IC|obj0_f0-rob0_v1')\",\n",
    " \"('NC|obs0_f2-obj0_v1', 'NC|obs0_f0-rob0_v1', 'NC|obs1_f2-obj0_v1', 'NC|obs1_f2-rob0_v0', 'NC|obj0_f0-rob0_v1')\",\n",
    " \"('NC|obs0_f2-obj0_v1', 'NC|obs0_f2-rob0_v0', 'NC|obs1_f2-obj0_v1', 'NC|obs1_f2-rob0_v0', 'NC|obj0_f0-rob0_v1')\",\n",
    " \"('NC|obs0_f2-obj0_v1', 'NC|obs0_f2-rob0_v0', 'NC|obs1_f2-obj0_v1', 'NC|obs1_f2-rob0_v0', 'IC|obj0_f0-rob0_v1')\",\n",
    " \"('NC|obs0_f2-obj0_v1', 'NC|obs0_f2-rob0_v0', 'NC|obs1_f2-obj0_v1', 'NC|obs1_f2-rob0_v0', 'IC|obj0_f1-rob0_f1')\",\n",
    " \"('NC|obs0_f2-obj0_v1', 'NC|obs0_f1-rob0_v0', 'NC|obs1_f2-obj0_v1', 'NC|obs1_f2-rob0_v0', 'IC|obj0_f2-rob0_f2')\",\n",
    " \"('NC|obs0_f2-obj0_v1', 'NC|obs0_f1-rob0_v0', 'NC|obs1_f2-obj0_v1', 'NC|obs1_f2-rob0_v0', 'IC|obj0_f3-rob0_v0')\",\n",
    " \"('NC|obs0_f2-obj0_v1', 'NC|obs0_f1-rob0_v0', 'NC|obs1_f2-obj0_v1', 'NC|obs1_f2-rob0_v0', 'NC|obj0_f2-rob0_f2')\",\n",
    " 'target']\n",
    "# Partial revisits\n",
    "# vertex_inclusion = [\"source\",\"('NC|obs0_f0-obj0_v3', 'NC|obs0_f0-rob0_v1', 'NC|obs1_f2-obj0_v1', 'NC|obs1_f1-rob0_v2', 'NC|obj0_f1-rob0_f1')\",\"('NC|obs0_f0-obj0_v3', 'NC|obs0_f0-rob0_v1', 'NC|obs1_f2-obj0_v1', 'NC|obs1_f2-rob0_v0', 'NC|obj0_f2-rob0_f2')\",\"('NC|obs0_f0-obj0_v3', 'NC|obs0_f0-rob0_v1', 'NC|obs1_f2-obj0_v1', 'NC|obs1_f2-rob0_v0', 'IC|obj0_f1-rob0_f1')\",\"('IC|obs0_f0-obj0_v3', 'NC|obs0_f0-rob0_v1', 'NC|obs1_f2-obj0_v1', 'NC|obs1_f2-rob0_v0', 'IC|obj0_f2-rob0_f2')\",\"('IC|obs0_f0-obj0_v3', 'NC|obs0_f0-rob0_v1', 'NC|obs1_f2-obj0_v1', 'NC|obs1_f2-rob0_v0', 'IC|obj0_f1-rob0_f1')\",\"('IC|obs0_v0-obj0_f2', 'NC|obs0_f0-rob0_v1', 'NC|obs1_f2-obj0_v1', 'NC|obs1_f2-rob0_v0', 'IC|obj0_f1-rob0_f1')\",\"('IC|obs0_v0-obj0_f1', 'NC|obs0_f0-rob0_v1', 'NC|obs1_f2-obj0_v1', 'NC|obs1_f0-rob0_v1', 'IC|obj0_f1-rob0_f1')\",\"('IC|obs0_v0-obj0_f1', 'NC|obs0_f0-rob0_v1', 'NC|obs1_f2-obj0_v1', 'NC|obs1_f0-rob0_v1', 'IC|obj0_f0-rob0_v1')\",\"('IC|obs0_v0-obj0_f1', 'NC|obs0_f0-rob0_v1', 'NC|obs1_f2-obj0_v1', 'NC|obs1_f2-rob0_v0', 'NC|obj0_f1-rob0_f1')\",\"('IC|obs0_v0-obj0_f1', 'NC|obs0_f0-rob0_v1', 'NC|obs1_f2-obj0_v1', 'NC|obs1_f2-rob0_v0', 'IC|obj0_f0-rob0_v1')\",\"('IC|obs0_f2-obj0_v1', 'NC|obs0_f0-rob0_v1', 'NC|obs1_f2-obj0_v1', 'NC|obs1_f2-rob0_v0', 'NC|obj0_f0-rob0_v1')\",\"('IC|obs0_v0-obj0_f1', 'NC|obs0_f2-rob0_v0', 'NC|obs1_f2-obj0_v1', 'NC|obs1_f2-rob0_v0', 'NC|obj0_f0-rob0_v1')\",\"('IC|obs0_f2-obj0_v1', 'NC|obs0_f2-rob0_v0', 'NC|obs1_f2-obj0_v1', 'NC|obs1_f2-rob0_v0', 'IC|obj0_v0-rob0_f0')\",\"('NC|obs0_f2-obj0_v1', 'NC|obs0_f1-rob0_v0', 'NC|obs1_f2-obj0_v1', 'NC|obs1_f2-rob0_v0', 'IC|obj0_f3-rob0_v0')\",\"('NC|obs0_f2-obj0_v1', 'NC|obs0_f1-rob0_v0', 'NC|obs1_f2-obj0_v1', 'NC|obs1_f2-rob0_v0', 'IC|obj0_f2-rob0_f2')\",\"('NC|obs0_f2-obj0_v1', 'NC|obs0_f1-rob0_v0', 'NC|obs1_f2-obj0_v1', 'NC|obs1_f2-rob0_v0', 'IC|obj0_f1-rob0_f1')\",\"('NC|obs0_f2-obj0_v1', 'NC|obs0_f2-rob0_v0', 'NC|obs1_f2-obj0_v1', 'NC|obs1_f2-rob0_v0', 'IC|obj0_f2-rob0_f2')\",\"('NC|obs0_f2-obj0_v1', 'NC|obs0_f1-rob0_v0', 'NC|obs1_f2-obj0_v1', 'NC|obs1_f2-rob0_v0', 'NC|obj0_f2-rob0_f2')\",\"target\"]\n",
    "cg = ContactGraph.load_from_file(ContactGraphGeneratorParams.graph_file_path_from_name(\"cg_maze_a2\"),\n",
    "                                 vertex_inclusion=vertex_inclusion)"
   ]
  },
  {
   "cell_type": "code",
   "execution_count": null,
   "metadata": {},
   "outputs": [],
   "source": [
    "sol = cg.solve_shortest_path()"
   ]
  },
  {
   "cell_type": "code",
   "execution_count": null,
   "metadata": {},
   "outputs": [],
   "source": [
    "anim = cg.animate_solution()\n",
    "HTML(anim.to_html5_video())"
   ]
  },
  {
   "cell_type": "code",
   "execution_count": null,
   "metadata": {},
   "outputs": [],
   "source": [
    "print(sol.cost)\n",
    "print(len(sol.vertex_path))"
   ]
  },
  {
   "cell_type": "markdown",
   "metadata": {},
   "source": [
    "# Initial testing and development"
   ]
  },
  {
   "cell_type": "code",
   "execution_count": null,
   "metadata": {},
   "outputs": [],
   "source": [
    "fcfg = cost_estimator._cfree_graphs[0]\n",
    "fcfg.plot()\n",
    "fcfg.vertex_names\n"
   ]
  },
  {
   "cell_type": "code",
   "execution_count": null,
   "metadata": {},
   "outputs": [],
   "source": [
    "cg.vertex_names[:5]"
   ]
  },
  {
   "cell_type": "code",
   "execution_count": null,
   "metadata": {},
   "outputs": [],
   "source": [
    "import re\n",
    "def find_obj_rob_numbers(s):\n",
    "    match = re.search(r'(obj|rob)(\\d+)', s)\n",
    "    if match:\n",
    "        return match.group(2)  # group 2 is the second capture group, which contains the digits\n",
    "    else:\n",
    "        return None\n",
    "\n",
    "print(find_obj_rob_numbers(\"'(IC|obs0_f0-obj92_v3',)\"))  # prints 92\n",
    "print(find_obj_rob_numbers(\"'(NC|obs0_f0-rob111_v1',)\"))  # prints 111"
   ]
  },
  {
   "cell_type": "code",
   "execution_count": null,
   "metadata": {},
   "outputs": [],
   "source": [
    "import ast\n",
    "\n",
    "test_vertex_names = [\n",
    "    \"('IC|obs0_f0-obj0_v3', 'NC|obs0_f0-rob0_v1', 'NC|obs1_f1-obj0_v0', 'NC|obs1_f0-rob0_v1', 'NC|obj0_f0-rob0_v1', 'IC|obs0_f0-obj5_v3', 'NC|obs0_f0-rob5_v1',)\",\n",
    "    \"('IC|obs0_f0-obj0_v3', 'NC|obs0_f0-rob0_v1', 'NC|obs1_f1-obj0_v0', 'NC|obs1_f0-rob0_v1', 'NC|obj0_f1-rob0_f1', 'NC|obj2_f8-rob2_f1', 'NC|obs3_f1-obj5_v0',)\"\n",
    " ]\n",
    "    \n",
    "def split_vertex_names(vertex_names):\n",
    "    res = []\n",
    "    for vertex in vertex_names:\n",
    "        # Convert string representation of tuple to actual tuple\n",
    "        tuple_vertex = ast.literal_eval(vertex)\n",
    "        \n",
    "        # Initialize dictionaries to store modes for each obj and rob\n",
    "        obj_modes = {}\n",
    "        rob_modes = {}\n",
    "        \n",
    "        for mode in tuple_vertex:\n",
    "            # Check if mode contains both obj and rob\n",
    "            if 'obj' in mode and 'rob' in mode:\n",
    "                continue\n",
    "            \n",
    "            # Extract the entity number from the mode string\n",
    "            entity_num = find_obj_rob_numbers(mode)\n",
    "            # Add mode to appropriate dictionary\n",
    "            if 'obj' in mode:\n",
    "                if entity_num not in obj_modes:\n",
    "                    obj_modes[entity_num] = []\n",
    "                obj_modes[entity_num].append(mode)\n",
    "            elif 'rob' in mode:\n",
    "                if entity_num not in rob_modes:\n",
    "                    rob_modes[entity_num] = []\n",
    "                rob_modes[entity_num].append(mode)\n",
    "        \n",
    "        # Combine mode dictionaries into a list of tuples and add to result\n",
    "        vertex_res = []\n",
    "        for entity_num, modes in obj_modes.items():\n",
    "            vertex_res.append(str(tuple(modes)))\n",
    "        for entity_num, modes in rob_modes.items():\n",
    "            vertex_res.append(str(tuple(modes)))\n",
    "        res.append(vertex_res)\n",
    "    return res\n",
    "\n",
    "def split_vertex_name(vertex):\n",
    "    # Convert string representation of tuple to actual tuple\n",
    "    tuple_vertex = ast.literal_eval(vertex)\n",
    "    \n",
    "    # Initialize dictionaries to store modes for each obj and rob\n",
    "    obj_modes = {}\n",
    "    rob_modes = {}\n",
    "    \n",
    "    for mode in tuple_vertex:\n",
    "        # Check if mode contains both obj and rob\n",
    "        if 'obj' in mode and 'rob' in mode:\n",
    "            continue\n",
    "        \n",
    "        # Extract the entity number from the mode string\n",
    "        entity_num = find_obj_rob_numbers(mode)\n",
    "        # Add mode to appropriate dictionary\n",
    "        if 'obj' in mode:\n",
    "            if entity_num not in obj_modes:\n",
    "                obj_modes[entity_num] = []\n",
    "            obj_modes[entity_num].append(mode)\n",
    "        elif 'rob' in mode:\n",
    "            if entity_num not in rob_modes:\n",
    "                rob_modes[entity_num] = []\n",
    "            rob_modes[entity_num].append(mode)\n",
    "    \n",
    "    # Combine mode dictionaries into a list of tuples and add to result\n",
    "    vertex_res = []\n",
    "    for entity_num, modes in obj_modes.items():\n",
    "        vertex_res.append(str(tuple(modes)))\n",
    "    for entity_num, modes in rob_modes.items():\n",
    "        vertex_res.append(str(tuple(modes)))\n",
    "    return vertex_res\n",
    "\n",
    "# split_vertex_names(cg.vertex_names[:1])\n",
    "split_vertex_names(test_vertex_names)"
   ]
  },
  {
   "cell_type": "code",
   "execution_count": null,
   "metadata": {},
   "outputs": [],
   "source": [
    "for cfree_vs in split_vertex_names(cg.vertex_names[:100]):\n",
    "    for i, cfree_v in enumerate(cfree_vs):\n",
    "        res = cfree_v in cost_estimator._cfree_graphs[i].vertex_names\n",
    "        if not res:\n",
    "            print(f\"body{i}: {cfree_v} not in cfree_graph!\")\n",
    "        # print(f\"body{i}: {cfree_v} in cfree_graph: {res}\")"
   ]
  },
  {
   "cell_type": "code",
   "execution_count": null,
   "metadata": {},
   "outputs": [],
   "source": [
    "# fcfg.set_source(fcfg.vertex_names[1])\n",
    "# sol = fcfg.solve()\n",
    "# anim = fcfg.animate_solution()\n",
    "# HTML(anim.to_html5_video())"
   ]
  },
  {
   "cell_type": "code",
   "execution_count": null,
   "metadata": {},
   "outputs": [],
   "source": [
    "# for g in cost_estimator._collision_free_graphs:\n",
    "#     for v in g.vertex_names:\n",
    "#         if v == \"target\":\n",
    "#             continue\n",
    "#         g.set_source(v)\n",
    "#         sol = g.solve()\n",
    "#         print(f\"Reaching target from {v} succeeded: {sol.is_success}\")\n",
    "#         anim = g.animate_solution()\n",
    "#         display(HTML(anim.to_html5_video()))"
   ]
  },
  {
   "cell_type": "markdown",
   "metadata": {},
   "source": [
    "## Validating Combined Factored GCS"
   ]
  },
  {
   "cell_type": "code",
   "execution_count": null,
   "metadata": {},
   "outputs": [],
   "source": [
    "from large_gcs.graph.graph import Graph, ShortestPathSolution"
   ]
  },
  {
   "cell_type": "code",
   "execution_count": null,
   "metadata": {},
   "outputs": [],
   "source": [
    "cg = ContactGraph.load_from_file(ContactGraphGeneratorParams.graph_file_path_from_name(\"cg_trichal2\"))"
   ]
  },
  {
   "cell_type": "code",
   "execution_count": null,
   "metadata": {},
   "outputs": [],
   "source": [
    "# v_path = ['source',\n",
    "#  \"('NC|obs0_f0-obj0_v3', 'NC|obs0_f0-rob0_v1', 'NC|obj0_f3-rob0_v0')\",\n",
    "#  \"('NC|obs0_f0-obj0_v3', 'NC|obs0_f0-rob0_v1', 'IC|obj0_v0-rob0_f0')\",\n",
    "#  \"('NC|obs0_f0-obj0_v3', 'NC|obs0_f0-rob0_v1', 'IC|obj0_f0-rob0_v1')\",\n",
    "#  \"('NC|obs0_f1-obj0_f0', 'NC|obs0_f0-rob0_v1', 'IC|obj0_f1-rob0_f1')\",\n",
    "#  \"('IC|obs0_f1-obj0_f0', 'NC|obs0_f1-rob0_f2', 'IC|obj0_f1-rob0_f1')\",\n",
    "#  \"('NC|obs0_f2-obj0_f1', 'NC|obs0_f1-rob0_f2', 'IC|obj0_f2-rob0_f2')\",\n",
    "#  \"('NC|obs0_f2-obj0_f1', 'NC|obs0_f2-rob0_v0', 'IC|obj0_f2-rob0_f2')\",\n",
    "#  \"('NC|obs0_f2-obj0_f1', 'NC|obs0_f2-rob0_v0', 'NC|obj0_f3-rob0_v0')\",\n",
    "#  'target']\n",
    "# active_edges = [cg.edges[v_path[i], v_path[i+1]] for i in range(3)]\n",
    "# cost_estimator = FactoredCollisionFreeCE(cg, use_combined_gcs=True, obj_multiplier=100)\n",
    "# subgraph = Graph()\n",
    "# cost_estimator.estimate_cost(cg, cg.edges[v_path[0], v_path[1]], active_edges=active_edges, use_convex_relaxation=True)\n"
   ]
  }
 ],
 "metadata": {
  "kernelspec": {
   "display_name": ".venv",
   "language": "python",
   "name": "python3"
  },
  "language_info": {
   "codemirror_mode": {
    "name": "ipython",
    "version": 3
   },
   "file_extension": ".py",
   "mimetype": "text/x-python",
   "name": "python",
   "nbconvert_exporter": "python",
   "pygments_lexer": "ipython3",
   "version": "3.11.4"
  },
  "orig_nbformat": 4
 },
 "nbformat": 4,
 "nbformat_minor": 2
}
