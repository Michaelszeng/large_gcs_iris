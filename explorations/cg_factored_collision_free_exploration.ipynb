{
 "cells": [
  {
   "cell_type": "code",
   "execution_count": 1,
   "metadata": {},
   "outputs": [],
   "source": [
    "import logging\n",
    "from large_gcs.graph_generators.contact_graph_generator import (\n",
    "    ContactGraphGeneratorParams,\n",
    "    ContactGraphGenerator,\n",
    ")\n",
    "from large_gcs.algorithms.search_algorithm import ReexploreLevel, TieBreak\n",
    "from large_gcs.graph.contact_graph import ContactGraph\n",
    "from large_gcs.algorithms.gcs_astar import GcsAstar\n",
    "from large_gcs.algorithms.gcs_astar_subopt import GcsAstarSubOpt\n",
    "from large_gcs.algorithms.gcs_astar_convex_restriction import GcsAstarConvexRestriction\n",
    "from large_gcs.algorithms.gcs_astar_tree import GcsAstarTree\n",
    "from large_gcs.graph.contact_cost_constraint_factory import (\n",
    "    contact_shortcut_edge_cost_factory_under,\n",
    "    contact_shortcut_edge_cost_factory_over_obj_weighted,\n",
    ")\n",
    "from large_gcs.cost_estimators.shortcut_edge_ce import ShortcutEdgeCE\n",
    "from large_gcs.cost_estimators.factored_collision_free_ce import FactoredCollisionFreeCE\n",
    "\n",
    "\n",
    "import numpy as np\n",
    "from copy import deepcopy\n",
    "from IPython.display import HTML, display\n",
    "\n",
    "\n",
    "np.set_printoptions(formatter={\"float\": lambda x: \"{0:0.3f}\".format(x)})\n",
    "logging.basicConfig(level=logging.WARNING)\n",
    "logging.getLogger(\"large_gcs\").setLevel(logging.INFO)\n",
    "logging.getLogger(\"drake\").setLevel(logging.WARNING)"
   ]
  },
  {
   "cell_type": "code",
   "execution_count": 2,
   "metadata": {},
   "outputs": [
    {
     "name": "stderr",
     "output_type": "stream",
     "text": [
      "INFO:large_gcs.graph.contact_graph:Loading 20 contact pair modes for 3 bodies...\n",
      "INFO:large_gcs.graph.contact_graph:Generating contact sets for 179 sets...\n"
     ]
    },
    {
     "name": "stdout",
     "output_type": "stream",
     "text": [
      "Set parameter Username\n",
      "Academic license - for non-commercial use only - expires 2024-03-04\n"
     ]
    },
    {
     "name": "stderr",
     "output_type": "stream",
     "text": [
      "100%|██████████| 179/179 [00:03<00:00, 44.84it/s]\n",
      "INFO:large_gcs.graph.contact_graph:Creating vertex costs...\n",
      "100%|██████████| 181/181 [00:00<00:00, 7941.76it/s]\n",
      "INFO:large_gcs.graph.graph:Adding 181 vertices to graph...\n",
      "100%|██████████| 181/181 [00:00<00:00, 11728.60it/s]\n",
      "INFO:large_gcs.graph.contact_graph:Creating edge costs...\n",
      "100%|██████████| 6408/6408 [00:00<00:00, 8064.45it/s]\n",
      "INFO:large_gcs.graph.contact_graph:Creating edge constraints...\n",
      "100%|██████████| 6408/6408 [00:01<00:00, 4165.14it/s]\n",
      "INFO:large_gcs.graph.graph:Adding 6408 edges to graph...\n",
      "100%|██████████| 6408/6408 [00:01<00:00, 3612.80it/s]\n",
      "INFO:large_gcs.graph.contact_graph:Created contact graph: GraphParams(dim_bounds=(4, 18), n_vertices=181, n_edges=6408, source=[array([3.250, 0.000]), array([1.500, 0.500])], target=[array([-1.500, 0.000]), array([-3,  0])], workspace=array([[-5,  5],\n",
      "       [-4,  4]]), default_costs_constraints=None)\n"
     ]
    }
   ],
   "source": [
    "cg = ContactGraph.load_from_file(ContactGraphGeneratorParams.graph_file_path_from_name(\"cg_trichal2\"))"
   ]
  },
  {
   "cell_type": "code",
   "execution_count": null,
   "metadata": {},
   "outputs": [],
   "source": [
    "cg.plot()"
   ]
  },
  {
   "cell_type": "code",
   "execution_count": null,
   "metadata": {},
   "outputs": [],
   "source": [
    "cost_estimator_se = ShortcutEdgeCE(cg, contact_shortcut_edge_cost_factory_over_obj_weighted)\n",
    "gcs_astar_se = GcsAstarConvexRestriction(\n",
    "    cg,\n",
    "    cost_estimator=cost_estimator_se,\n",
    "    reexplore_level=ReexploreLevel.NONE,\n",
    ")\n",
    "sol_se = gcs_astar_se.run()"
   ]
  },
  {
   "cell_type": "code",
   "execution_count": null,
   "metadata": {},
   "outputs": [],
   "source": [
    "anim = cg.animate_solution()\n",
    "HTML(anim.to_html5_video())"
   ]
  },
  {
   "cell_type": "code",
   "execution_count": null,
   "metadata": {},
   "outputs": [],
   "source": [
    "gcs_astar = GcsAstarSubOpt(cg, use_convex_relaxation=False, shortcut_edge_cost_factory=contact_shortcut_edge_cost_factory_over_obj_weighted)\n",
    "sol = gcs_astar.run(verbose=True)"
   ]
  },
  {
   "cell_type": "code",
   "execution_count": null,
   "metadata": {},
   "outputs": [],
   "source": [
    "cost_estimator_se = ShortcutEdgeCE(cg, contact_shortcut_edge_cost_factory_over_obj_weighted)\n",
    "gcs_astar_se = GcsAstarTree(\n",
    "    cg,\n",
    "    cost_estimator=cost_estimator_se,\n",
    "    reexplore_level=ReexploreLevel.NONE,\n",
    "    tiebreak=TieBreak.FIFO\n",
    ")\n",
    "sol_se = gcs_astar_se.run()"
   ]
  },
  {
   "cell_type": "code",
   "execution_count": null,
   "metadata": {},
   "outputs": [],
   "source": [
    "anim = cg.animate_solution()\n",
    "HTML(anim.to_html5_video())"
   ]
  },
  {
   "cell_type": "code",
   "execution_count": null,
   "metadata": {},
   "outputs": [],
   "source": [
    "cost_estimator = FactoredCollisionFreeCE(cg, use_combined_gcs=False, obj_multiplier=100)\n",
    "gcs_astar = GcsAstarConvexRestriction(\n",
    "    cg,\n",
    "    cost_estimator=cost_estimator,\n",
    "    reexplore_level=ReexploreLevel.NONE,\n",
    ")\n",
    "sol = gcs_astar.run()"
   ]
  },
  {
   "cell_type": "code",
   "execution_count": null,
   "metadata": {},
   "outputs": [],
   "source": [
    "cost_estimator = FactoredCollisionFreeCE(cg, use_combined_gcs=True, obj_multiplier=100)\n",
    "gcs_astar = GcsAstarTree(\n",
    "    cg,\n",
    "    cost_estimator=cost_estimator,\n",
    "    reexplore_level=ReexploreLevel.NONE,\n",
    ")\n",
    "sol = gcs_astar.run()\n"
   ]
  },
  {
   "cell_type": "code",
   "execution_count": 4,
   "metadata": {},
   "outputs": [
    {
     "name": "stderr",
     "output_type": "stream",
     "text": [
      "INFO:large_gcs.cost_estimators.factored_collision_free_ce:creating 2 collision free graphs...\n",
      "0it [00:00, ?it/s]INFO:large_gcs.graph.factored_collision_free_graph:Creating vertex costs for factored_collision_free_graph...\n",
      "100%|██████████| 9/9 [00:00<00:00, 9148.99it/s]\n",
      "INFO:large_gcs.graph.graph:Adding 9 vertices to graph...\n",
      "100%|██████████| 9/9 [00:00<00:00, 16732.60it/s]\n",
      "INFO:large_gcs.graph.contact_graph:Generating edges...(parallel)\n",
      "100%|██████████| 36/36 [00:02<00:00, 12.50it/s]"
     ]
    },
    {
     "name": "stdout",
     "output_type": "stream",
     "text": [
      "Set parameter Username\n",
      "Academic license - for non-commercial use only - expires 2024-03-04\n",
      "Set parameter Username\n",
      "Academic license - for non-commercial use only - expires 2024-03-04\n",
      "Set parameter Username\n",
      "Set parameter Username\n",
      "Set parameter Username\n",
      "Set parameter Username\n",
      "Academic license - for non-commercial use only - expires 2024-03-04\n",
      "Academic license - for non-commercial use only - expires 2024-03-04\n",
      "Academic license - for non-commercial use only - expires 2024-03-04\n",
      "Academic license - for non-commercial use only - expires 2024-03-04\n",
      "Set parameter Username\n",
      "Academic license - for non-commercial use only - expires 2024-03-04\n",
      "Set parameter Username\n",
      "Academic license - for non-commercial use only - expires 2024-03-04\n",
      "Set parameter Username\n",
      "Academic license - for non-commercial use only - expires 2024-03-04\n",
      "Set parameter Username\n",
      "Academic license - for non-commercial use only - expires 2024-03-04\n",
      "Set parameter Username\n",
      "Academic license - for non-commercial use only - expires 2024-03-04\n",
      "Set parameter Username\n",
      "Academic license - for non-commercial use only - expires 2024-03-04\n",
      "Set parameter Username\n",
      "Set parameter Username\n",
      "Academic license - for non-commercial use only - expires 2024-03-04\n",
      "Academic license - for non-commercial use only - expires 2024-03-04\n",
      "Set parameter Username\n",
      "Academic license - for non-commercial use only - expires 2024-03-04\n",
      "Set parameter Username\n",
      "Academic license - for non-commercial use only - expires 2024-03-04\n"
     ]
    },
    {
     "name": "stderr",
     "output_type": "stream",
     "text": [
      "\n",
      "INFO:large_gcs.graph.contact_graph:64 edges generated\n",
      "INFO:large_gcs.graph.contact_graph:Creating edge costs...\n",
      "100%|██████████| 64/64 [00:00<00:00, 15141.04it/s]\n",
      "INFO:large_gcs.graph.contact_graph:Creating edge constraints...\n",
      "100%|██████████| 64/64 [00:00<00:00, 6663.08it/s]\n",
      "INFO:large_gcs.graph.graph:Adding 64 edges to graph...\n",
      "100%|██████████| 64/64 [00:00<00:00, 7067.07it/s]\n",
      "INFO:large_gcs.graph.factored_collision_free_graph:Created factored collision free graph for obj0: GraphParams(dim_bounds=(2, 4), n_vertices=9, n_edges=64, source=None, target=[array([-1.500, 0.000])], workspace=array([[-5,  5],\n",
      "       [-4,  4]]), default_costs_constraints=None)\n",
      "1it [00:03,  3.44s/it]INFO:large_gcs.graph.factored_collision_free_graph:Creating vertex costs for factored_collision_free_graph...\n",
      "100%|██████████| 4/4 [00:00<00:00, 11459.85it/s]\n",
      "INFO:large_gcs.graph.graph:Adding 4 vertices to graph...\n",
      "100%|██████████| 4/4 [00:00<00:00, 7660.83it/s]\n",
      "INFO:large_gcs.graph.contact_graph:Generating edges...(parallel)\n",
      "100%|██████████| 6/6 [00:01<00:00,  3.46it/s]\n",
      "INFO:large_gcs.graph.contact_graph:12 edges generated\n",
      "INFO:large_gcs.graph.contact_graph:Creating edge costs...\n"
     ]
    },
    {
     "name": "stdout",
     "output_type": "stream",
     "text": [
      "Set parameter Username\n",
      "Set parameter Username\n",
      "Set parameter Username\n",
      "Set parameter Username\n",
      "Set parameter Username\n",
      "Set parameter Username\n",
      "Academic license - for non-commercial use only - expires 2024-03-04\n",
      "Academic license - for non-commercial use only - expires 2024-03-04\n",
      "Academic license - for non-commercial use only - expires 2024-03-04\n",
      "Academic license - for non-commercial use only - expires 2024-03-04\n",
      "Academic license - for non-commercial use only - expires 2024-03-04\n",
      "Academic license - for non-commercial use only - expires 2024-03-04\n"
     ]
    },
    {
     "name": "stderr",
     "output_type": "stream",
     "text": [
      "100%|██████████| 12/12 [00:00<00:00, 12049.71it/s]\n",
      "INFO:large_gcs.graph.contact_graph:Creating edge constraints...\n",
      "100%|██████████| 12/12 [00:00<00:00, 6571.57it/s]\n",
      "INFO:large_gcs.graph.graph:Adding 12 edges to graph...\n",
      "100%|██████████| 12/12 [00:00<00:00, 6202.30it/s]\n",
      "INFO:large_gcs.graph.factored_collision_free_graph:Created factored collision free graph for rob0: GraphParams(dim_bounds=(2, 4), n_vertices=4, n_edges=12, source=None, target=[array([-3,  0])], workspace=array([[-5,  5],\n",
      "       [-4,  4]]), default_costs_constraints=None)\n",
      "2it [00:05,  2.72s/it]\n",
      "INFO:large_gcs.algorithms.gcs_astar_convex_restriction:Running GcsAstarConvexRestriction, reexplore_level: ReexploreLevel.NONE\n",
      "INFO:large_gcs.algorithms.gcs_astar_convex_restriction:visited_fd_vertices: {'source', 'target'}\n",
      "INFO:large_gcs.algorithms.gcs_astar_convex_restriction:\n",
      "n_vertices_visited: 2, n_edges_visited: 0, n_vertices_explored: 0, vertex_coverage: 0.011, edge_coverage: 0, time_wall_clock: 0, n_gcs_solves: 0, gcs_solve_time_total: 0, gcs_solve_time_iter_mean: 0, gcs_solve_time_last_10_mean: 0, gcs_solve_time_iter_std: 0, gcs_solve_time_iter_min: inf, gcs_solve_time_iter_max: 0, n_vertices_revisited: 0, n_vertices_reexplored: 0\n",
      "now exploring node source's 1 neighbors (0)\n",
      "INFO:large_gcs.cost_estimators.factored_collision_free_ce:adding cfree graphs to subgraph...\n",
      "INFO:large_gcs.algorithms.gcs_astar_convex_restriction:visited_fd_vertices: {'source', 'target', \"('NC|obs0_f0-obj0_v3', 'NC|obs0_f0-rob0_v1', 'NC|obj0_f3-rob0_v0')\"}\n",
      "INFO:large_gcs.algorithms.gcs_astar_convex_restriction:\n",
      "n_vertices_visited: 3, n_edges_visited: 77, n_vertices_explored: 1, vertex_coverage: 0.0166, edge_coverage: 0.012, time_wall_clock: 0.308, n_gcs_solves: 2, gcs_solve_time_total: 0.184, gcs_solve_time_iter_mean: 0.0918, gcs_solve_time_last_10_mean: 0, gcs_solve_time_iter_std: 0.0911, gcs_solve_time_iter_min: 0.000687, gcs_solve_time_iter_max: 0.183, n_vertices_revisited: 0, n_vertices_reexplored: 0\n",
      "now exploring node ('NC|obs0_f0-obj0_v3', 'NC|obs0_f0-rob0_v1', 'NC|obj0_f3-rob0_v0')'s 56 neighbors (666.5117585015125)\n",
      "INFO:large_gcs.algorithms.gcs_astar_convex_restriction:visited_fd_vertices: {'source', \"('NC|obs0_f0-obj0_v3', 'NC|obs0_f0-rob0_v1', 'IC|obj0_f2-rob0_f2')\", 'target', \"('NC|obs0_f0-obj0_v3', 'NC|obs0_f0-rob0_v1', 'NC|obj0_f3-rob0_v0')\"}\n",
      "INFO:large_gcs.algorithms.gcs_astar_convex_restriction:\n",
      "n_vertices_visited: 4, n_edges_visited: 78, n_vertices_explored: 56, vertex_coverage: 0.0221, edge_coverage: 0.0122, time_wall_clock: 2.67, n_gcs_solves: 64, gcs_solve_time_total: 1.38, gcs_solve_time_iter_mean: 0.0215, gcs_solve_time_last_10_mean: 0.000197, gcs_solve_time_iter_std: 0.0564, gcs_solve_time_iter_min: 0.000162, gcs_solve_time_iter_max: 0.196, n_vertices_revisited: 0, n_vertices_reexplored: 0\n",
      "now exploring node ('NC|obs0_f0-obj0_v3', 'NC|obs0_f0-rob0_v1', 'IC|obj0_f2-rob0_f2')'s 61 neighbors (643.8781189612873)\n",
      "INFO:large_gcs.algorithms.gcs_astar_convex_restriction:visited_fd_vertices: {\"('NC|obs0_f0-obj0_v3', 'NC|obs0_f0-rob0_v1', 'IC|obj0_f2-rob0_f2')\", 'target', \"('NC|obs0_f0-obj0_v3', 'NC|obs0_f0-rob0_v1', 'IC|obj0_f1-rob0_f1')\", 'source', \"('NC|obs0_f0-obj0_v3', 'NC|obs0_f0-rob0_v1', 'NC|obj0_f3-rob0_v0')\"}\n",
      "INFO:large_gcs.algorithms.gcs_astar_convex_restriction:\n",
      "n_vertices_visited: 5, n_edges_visited: 79, n_vertices_explored: 116, vertex_coverage: 0.0276, edge_coverage: 0.0123, time_wall_clock: 4.48, n_gcs_solves: 128, gcs_solve_time_total: 2.25, gcs_solve_time_iter_mean: 0.0175, gcs_solve_time_last_10_mean: 0.000276, gcs_solve_time_iter_std: 0.0546, gcs_solve_time_iter_min: 0.000162, gcs_solve_time_iter_max: 0.283, n_vertices_revisited: 0, n_vertices_reexplored: 0\n",
      "now exploring node ('NC|obs0_f0-obj0_v3', 'NC|obs0_f0-rob0_v1', 'IC|obj0_f1-rob0_f1')'s 67 neighbors (276.68006169330243)\n",
      "INFO:large_gcs.algorithms.gcs_astar_convex_restriction:visited_fd_vertices: {\"('NC|obs0_f2-obj0_f1', 'NC|obs0_f0-rob0_v1', 'IC|obj0_f0-rob0_v1')\", \"('NC|obs0_f0-obj0_v3', 'NC|obs0_f0-rob0_v1', 'IC|obj0_f2-rob0_f2')\", 'target', \"('NC|obs0_f0-obj0_v3', 'NC|obs0_f0-rob0_v1', 'IC|obj0_f1-rob0_f1')\", 'source', \"('NC|obs0_f0-obj0_v3', 'NC|obs0_f0-rob0_v1', 'NC|obj0_f3-rob0_v0')\"}\n",
      "INFO:large_gcs.algorithms.gcs_astar_convex_restriction:\n",
      "n_vertices_visited: 6, n_edges_visited: 80, n_vertices_explored: 182, vertex_coverage: 0.0331, edge_coverage: 0.0125, time_wall_clock: 12.6, n_gcs_solves: 224, gcs_solve_time_total: 6.79, gcs_solve_time_iter_mean: 0.0303, gcs_solve_time_last_10_mean: 0.053, gcs_solve_time_iter_std: 0.0641, gcs_solve_time_iter_min: 0.000162, gcs_solve_time_iter_max: 0.283, n_vertices_revisited: 0, n_vertices_reexplored: 0\n",
      "now exploring node ('NC|obs0_f2-obj0_f1', 'NC|obs0_f0-rob0_v1', 'IC|obj0_f0-rob0_v1')'s 35 neighbors (77.92237827438262)\n",
      "INFO:large_gcs.algorithms.gcs_astar_convex_restriction:visited_fd_vertices: {\"('IC|obs0_f2-obj0_f1', 'NC|obs0_f2-rob0_v0', 'IC|obj0_f0-rob0_v1')\", \"('NC|obs0_f2-obj0_f1', 'NC|obs0_f0-rob0_v1', 'IC|obj0_f0-rob0_v1')\", \"('NC|obs0_f0-obj0_v3', 'NC|obs0_f0-rob0_v1', 'IC|obj0_f2-rob0_f2')\", 'target', \"('NC|obs0_f0-obj0_v3', 'NC|obs0_f0-rob0_v1', 'IC|obj0_f1-rob0_f1')\", 'source', \"('NC|obs0_f0-obj0_v3', 'NC|obs0_f0-rob0_v1', 'NC|obj0_f3-rob0_v0')\"}\n",
      "INFO:large_gcs.algorithms.gcs_astar_convex_restriction:\n",
      "n_vertices_visited: 7, n_edges_visited: 81, n_vertices_explored: 216, vertex_coverage: 0.0387, edge_coverage: 0.0126, time_wall_clock: 19.6, n_gcs_solves: 288, gcs_solve_time_total: 10.3, gcs_solve_time_iter_mean: 0.0359, gcs_solve_time_last_10_mean: 0.0394, gcs_solve_time_iter_std: 0.0646, gcs_solve_time_iter_min: 0.000162, gcs_solve_time_iter_max: 0.283, n_vertices_revisited: 0, n_vertices_reexplored: 0\n",
      "now exploring node ('IC|obs0_f2-obj0_f1', 'NC|obs0_f2-rob0_v0', 'IC|obj0_f0-rob0_v1')'s 23 neighbors (25.654246807864876)\n",
      "INFO:large_gcs.algorithms.gcs_astar_convex_restriction:visited_fd_vertices: {\"('IC|obs0_f2-obj0_f1', 'NC|obs0_f2-rob0_v0', 'IC|obj0_v0-rob0_f0')\", \"('IC|obs0_f2-obj0_f1', 'NC|obs0_f2-rob0_v0', 'IC|obj0_f0-rob0_v1')\", \"('NC|obs0_f2-obj0_f1', 'NC|obs0_f0-rob0_v1', 'IC|obj0_f0-rob0_v1')\", \"('NC|obs0_f0-obj0_v3', 'NC|obs0_f0-rob0_v1', 'IC|obj0_f2-rob0_f2')\", 'target', \"('NC|obs0_f0-obj0_v3', 'NC|obs0_f0-rob0_v1', 'IC|obj0_f1-rob0_f1')\", 'source', \"('NC|obs0_f0-obj0_v3', 'NC|obs0_f0-rob0_v1', 'NC|obj0_f3-rob0_v0')\"}\n",
      "INFO:large_gcs.algorithms.gcs_astar_convex_restriction:\n",
      "n_vertices_visited: 8, n_edges_visited: 82, n_vertices_explored: 238, vertex_coverage: 0.0442, edge_coverage: 0.0128, time_wall_clock: 25.1, n_gcs_solves: 332, gcs_solve_time_total: 13.2, gcs_solve_time_iter_mean: 0.0397, gcs_solve_time_last_10_mean: 0.0433, gcs_solve_time_iter_std: 0.0659, gcs_solve_time_iter_min: 0.000162, gcs_solve_time_iter_max: 0.283, n_vertices_revisited: 0, n_vertices_reexplored: 0\n",
      "now exploring node ('IC|obs0_f2-obj0_f1', 'NC|obs0_f2-rob0_v0', 'IC|obj0_v0-rob0_f0')'s 45 neighbors (25.149030396696972)\n",
      "INFO:large_gcs.algorithms.gcs_astar_convex_restriction:First time candidate sol is set through ('IC|obs0_f2-obj0_f1', 'NC|obs0_f2-rob0_v0', 'NC|obj0_f3-rob0_v0') with cost 25.146937836902538\n",
      "INFO:large_gcs.algorithms.gcs_astar_convex_restriction:Gcs A* Convex Restriction complete! \n",
      "cost: 25.146937836902538, time: 0.0018649101257324219\n",
      "vertex path: ['source'\n",
      " \"('NC|obs0_f0-obj0_v3', 'NC|obs0_f0-rob0_v1', 'NC|obj0_f3-rob0_v0')\"\n",
      " \"('NC|obs0_f0-obj0_v3', 'NC|obs0_f0-rob0_v1', 'IC|obj0_f2-rob0_f2')\"\n",
      " \"('NC|obs0_f0-obj0_v3', 'NC|obs0_f0-rob0_v1', 'IC|obj0_f1-rob0_f1')\"\n",
      " \"('NC|obs0_f2-obj0_f1', 'NC|obs0_f0-rob0_v1', 'IC|obj0_f0-rob0_v1')\"\n",
      " \"('IC|obs0_f2-obj0_f1', 'NC|obs0_f2-rob0_v0', 'IC|obj0_f0-rob0_v1')\"\n",
      " \"('IC|obs0_f2-obj0_f1', 'NC|obs0_f2-rob0_v0', 'IC|obj0_v0-rob0_f0')\"\n",
      " \"('IC|obs0_f2-obj0_f1', 'NC|obs0_f2-rob0_v0', 'NC|obj0_f3-rob0_v0')\"\n",
      " 'target']\n",
      "n_vertices_visited: 8, n_edges_visited: 82, n_vertices_explored: 281, vertex_coverage: 0.0442, edge_coverage: 0.0128, time_wall_clock: 36.4, n_gcs_solves: 416, gcs_solve_time_total: 18.9, gcs_solve_time_iter_mean: 0.0454, gcs_solve_time_last_10_mean: 0.0474, gcs_solve_time_iter_std: 0.068, gcs_solve_time_iter_min: 0.000162, gcs_solve_time_iter_max: 0.283, n_vertices_revisited: 0, n_vertices_reexplored: 0\n"
     ]
    }
   ],
   "source": [
    "cost_estimator = FactoredCollisionFreeCE(cg, use_combined_gcs=True, obj_multiplier=100)\n",
    "gcs_astar = GcsAstarConvexRestriction(\n",
    "    cg,\n",
    "    cost_estimator=cost_estimator,\n",
    "    reexplore_level=ReexploreLevel.NONE,\n",
    ")\n",
    "sol = gcs_astar.run(animate_intermediate=False)"
   ]
  },
  {
   "cell_type": "code",
   "execution_count": null,
   "metadata": {},
   "outputs": [],
   "source": [
    "cg.contact_spp_sol.vertex_path"
   ]
  },
  {
   "cell_type": "code",
   "execution_count": null,
   "metadata": {},
   "outputs": [],
   "source": [
    "anim = cg.animate_solution()\n",
    "HTML(anim.to_html5_video())"
   ]
  },
  {
   "cell_type": "markdown",
   "metadata": {},
   "source": [
    "## Path refinement?"
   ]
  },
  {
   "cell_type": "code",
   "execution_count": null,
   "metadata": {},
   "outputs": [],
   "source": [
    "vertex_inclusion = ['source',\n",
    " \"('NC|obs0_f0-obj0_v3', 'NC|obs0_f0-rob0_v1', 'NC|obs1_f2-obj0_v1', 'NC|obs1_f1-rob0_v2', 'NC|obj0_f1-rob0_f1')\",\n",
    " \"('NC|obs0_f0-obj0_v3', 'NC|obs0_f0-rob0_v1', 'NC|obs1_f2-obj0_v1', 'NC|obs1_f2-rob0_v0', 'NC|obj0_f1-rob0_f1')\",\n",
    " \"('NC|obs0_f0-obj0_v3', 'NC|obs0_f0-rob0_v1', 'NC|obs1_f2-obj0_v1', 'NC|obs1_f2-rob0_v0', 'IC|obj0_f1-rob0_f1')\",\n",
    " \"('IC|obs0_f0-obj0_v3', 'NC|obs0_f0-rob0_v1', 'NC|obs1_f2-obj0_v1', 'NC|obs1_f2-rob0_v0', 'IC|obj0_f1-rob0_f1')\",\n",
    " \"('IC|obs0_v0-obj0_f2', 'NC|obs0_f0-rob0_v1', 'NC|obs1_f2-obj0_v1', 'NC|obs1_f2-rob0_v0', 'IC|obj0_f1-rob0_f1')\",\n",
    " \"('IC|obs0_v0-obj0_f1', 'NC|obs0_f0-rob0_v1', 'NC|obs1_f2-obj0_v1', 'NC|obs1_f0-rob0_v1', 'IC|obj0_f1-rob0_f1')\",\n",
    " \"('IC|obs0_v0-obj0_f1', 'NC|obs0_f0-rob0_v1', 'NC|obs1_f2-obj0_v1', 'NC|obs1_f0-rob0_v1', 'IC|obj0_f0-rob0_v1')\",\n",
    " \"('IC|obs0_v0-obj0_f1', 'NC|obs0_f0-rob0_v1', 'NC|obs1_f2-obj0_v1', 'NC|obs1_f2-rob0_v0', 'IC|obj0_f0-rob0_v1')\",\n",
    " \"('NC|obs0_f2-obj0_v1', 'NC|obs0_f0-rob0_v1', 'NC|obs1_f2-obj0_v1', 'NC|obs1_f2-rob0_v0', 'NC|obj0_f0-rob0_v1')\",\n",
    " \"('NC|obs0_f2-obj0_v1', 'NC|obs0_f2-rob0_v0', 'NC|obs1_f2-obj0_v1', 'NC|obs1_f2-rob0_v0', 'NC|obj0_f0-rob0_v1')\",\n",
    " \"('NC|obs0_f2-obj0_v1', 'NC|obs0_f2-rob0_v0', 'NC|obs1_f2-obj0_v1', 'NC|obs1_f2-rob0_v0', 'IC|obj0_f0-rob0_v1')\",\n",
    " \"('NC|obs0_f2-obj0_v1', 'NC|obs0_f2-rob0_v0', 'NC|obs1_f2-obj0_v1', 'NC|obs1_f2-rob0_v0', 'IC|obj0_f1-rob0_f1')\",\n",
    " \"('NC|obs0_f2-obj0_v1', 'NC|obs0_f1-rob0_v0', 'NC|obs1_f2-obj0_v1', 'NC|obs1_f2-rob0_v0', 'IC|obj0_f2-rob0_f2')\",\n",
    " \"('NC|obs0_f2-obj0_v1', 'NC|obs0_f1-rob0_v0', 'NC|obs1_f2-obj0_v1', 'NC|obs1_f2-rob0_v0', 'IC|obj0_f3-rob0_v0')\",\n",
    " \"('NC|obs0_f2-obj0_v1', 'NC|obs0_f1-rob0_v0', 'NC|obs1_f2-obj0_v1', 'NC|obs1_f2-rob0_v0', 'NC|obj0_f2-rob0_f2')\",\n",
    " 'target']\n",
    "# Partial revisits\n",
    "# vertex_inclusion = [\"source\",\"('NC|obs0_f0-obj0_v3', 'NC|obs0_f0-rob0_v1', 'NC|obs1_f2-obj0_v1', 'NC|obs1_f1-rob0_v2', 'NC|obj0_f1-rob0_f1')\",\"('NC|obs0_f0-obj0_v3', 'NC|obs0_f0-rob0_v1', 'NC|obs1_f2-obj0_v1', 'NC|obs1_f2-rob0_v0', 'NC|obj0_f2-rob0_f2')\",\"('NC|obs0_f0-obj0_v3', 'NC|obs0_f0-rob0_v1', 'NC|obs1_f2-obj0_v1', 'NC|obs1_f2-rob0_v0', 'IC|obj0_f1-rob0_f1')\",\"('IC|obs0_f0-obj0_v3', 'NC|obs0_f0-rob0_v1', 'NC|obs1_f2-obj0_v1', 'NC|obs1_f2-rob0_v0', 'IC|obj0_f2-rob0_f2')\",\"('IC|obs0_f0-obj0_v3', 'NC|obs0_f0-rob0_v1', 'NC|obs1_f2-obj0_v1', 'NC|obs1_f2-rob0_v0', 'IC|obj0_f1-rob0_f1')\",\"('IC|obs0_v0-obj0_f2', 'NC|obs0_f0-rob0_v1', 'NC|obs1_f2-obj0_v1', 'NC|obs1_f2-rob0_v0', 'IC|obj0_f1-rob0_f1')\",\"('IC|obs0_v0-obj0_f1', 'NC|obs0_f0-rob0_v1', 'NC|obs1_f2-obj0_v1', 'NC|obs1_f0-rob0_v1', 'IC|obj0_f1-rob0_f1')\",\"('IC|obs0_v0-obj0_f1', 'NC|obs0_f0-rob0_v1', 'NC|obs1_f2-obj0_v1', 'NC|obs1_f0-rob0_v1', 'IC|obj0_f0-rob0_v1')\",\"('IC|obs0_v0-obj0_f1', 'NC|obs0_f0-rob0_v1', 'NC|obs1_f2-obj0_v1', 'NC|obs1_f2-rob0_v0', 'NC|obj0_f1-rob0_f1')\",\"('IC|obs0_v0-obj0_f1', 'NC|obs0_f0-rob0_v1', 'NC|obs1_f2-obj0_v1', 'NC|obs1_f2-rob0_v0', 'IC|obj0_f0-rob0_v1')\",\"('IC|obs0_f2-obj0_v1', 'NC|obs0_f0-rob0_v1', 'NC|obs1_f2-obj0_v1', 'NC|obs1_f2-rob0_v0', 'NC|obj0_f0-rob0_v1')\",\"('IC|obs0_v0-obj0_f1', 'NC|obs0_f2-rob0_v0', 'NC|obs1_f2-obj0_v1', 'NC|obs1_f2-rob0_v0', 'NC|obj0_f0-rob0_v1')\",\"('IC|obs0_f2-obj0_v1', 'NC|obs0_f2-rob0_v0', 'NC|obs1_f2-obj0_v1', 'NC|obs1_f2-rob0_v0', 'IC|obj0_v0-rob0_f0')\",\"('NC|obs0_f2-obj0_v1', 'NC|obs0_f1-rob0_v0', 'NC|obs1_f2-obj0_v1', 'NC|obs1_f2-rob0_v0', 'IC|obj0_f3-rob0_v0')\",\"('NC|obs0_f2-obj0_v1', 'NC|obs0_f1-rob0_v0', 'NC|obs1_f2-obj0_v1', 'NC|obs1_f2-rob0_v0', 'IC|obj0_f2-rob0_f2')\",\"('NC|obs0_f2-obj0_v1', 'NC|obs0_f1-rob0_v0', 'NC|obs1_f2-obj0_v1', 'NC|obs1_f2-rob0_v0', 'IC|obj0_f1-rob0_f1')\",\"('NC|obs0_f2-obj0_v1', 'NC|obs0_f2-rob0_v0', 'NC|obs1_f2-obj0_v1', 'NC|obs1_f2-rob0_v0', 'IC|obj0_f2-rob0_f2')\",\"('NC|obs0_f2-obj0_v1', 'NC|obs0_f1-rob0_v0', 'NC|obs1_f2-obj0_v1', 'NC|obs1_f2-rob0_v0', 'NC|obj0_f2-rob0_f2')\",\"target\"]\n",
    "cg = ContactGraph.load_from_file(ContactGraphGeneratorParams.graph_file_path_from_name(\"cg_maze_a2\"),\n",
    "                                 vertex_inclusion=vertex_inclusion)"
   ]
  },
  {
   "cell_type": "code",
   "execution_count": null,
   "metadata": {},
   "outputs": [],
   "source": [
    "sol = cg.solve_shortest_path()"
   ]
  },
  {
   "cell_type": "code",
   "execution_count": null,
   "metadata": {},
   "outputs": [],
   "source": [
    "anim = cg.animate_solution()\n",
    "HTML(anim.to_html5_video())"
   ]
  },
  {
   "cell_type": "code",
   "execution_count": null,
   "metadata": {},
   "outputs": [],
   "source": [
    "print(sol.cost)\n",
    "print(len(sol.vertex_path))"
   ]
  },
  {
   "cell_type": "markdown",
   "metadata": {},
   "source": [
    "# Initial testing and development"
   ]
  },
  {
   "cell_type": "code",
   "execution_count": null,
   "metadata": {},
   "outputs": [],
   "source": [
    "fcfg = cost_estimator._cfree_graphs[0]\n",
    "fcfg.plot()\n",
    "fcfg.vertex_names\n"
   ]
  },
  {
   "cell_type": "code",
   "execution_count": null,
   "metadata": {},
   "outputs": [],
   "source": [
    "cg.vertex_names[:5]"
   ]
  },
  {
   "cell_type": "code",
   "execution_count": null,
   "metadata": {},
   "outputs": [],
   "source": [
    "import re\n",
    "def find_obj_rob_numbers(s):\n",
    "    match = re.search(r'(obj|rob)(\\d+)', s)\n",
    "    if match:\n",
    "        return match.group(2)  # group 2 is the second capture group, which contains the digits\n",
    "    else:\n",
    "        return None\n",
    "\n",
    "print(find_obj_rob_numbers(\"'(IC|obs0_f0-obj92_v3',)\"))  # prints 92\n",
    "print(find_obj_rob_numbers(\"'(NC|obs0_f0-rob111_v1',)\"))  # prints 111"
   ]
  },
  {
   "cell_type": "code",
   "execution_count": null,
   "metadata": {},
   "outputs": [],
   "source": [
    "import ast\n",
    "\n",
    "test_vertex_names = [\n",
    "    \"('IC|obs0_f0-obj0_v3', 'NC|obs0_f0-rob0_v1', 'NC|obs1_f1-obj0_v0', 'NC|obs1_f0-rob0_v1', 'NC|obj0_f0-rob0_v1', 'IC|obs0_f0-obj5_v3', 'NC|obs0_f0-rob5_v1',)\",\n",
    "    \"('IC|obs0_f0-obj0_v3', 'NC|obs0_f0-rob0_v1', 'NC|obs1_f1-obj0_v0', 'NC|obs1_f0-rob0_v1', 'NC|obj0_f1-rob0_f1', 'NC|obj2_f8-rob2_f1', 'NC|obs3_f1-obj5_v0',)\"\n",
    " ]\n",
    "    \n",
    "def split_vertex_names(vertex_names):\n",
    "    res = []\n",
    "    for vertex in vertex_names:\n",
    "        # Convert string representation of tuple to actual tuple\n",
    "        tuple_vertex = ast.literal_eval(vertex)\n",
    "        \n",
    "        # Initialize dictionaries to store modes for each obj and rob\n",
    "        obj_modes = {}\n",
    "        rob_modes = {}\n",
    "        \n",
    "        for mode in tuple_vertex:\n",
    "            # Check if mode contains both obj and rob\n",
    "            if 'obj' in mode and 'rob' in mode:\n",
    "                continue\n",
    "            \n",
    "            # Extract the entity number from the mode string\n",
    "            entity_num = find_obj_rob_numbers(mode)\n",
    "            # Add mode to appropriate dictionary\n",
    "            if 'obj' in mode:\n",
    "                if entity_num not in obj_modes:\n",
    "                    obj_modes[entity_num] = []\n",
    "                obj_modes[entity_num].append(mode)\n",
    "            elif 'rob' in mode:\n",
    "                if entity_num not in rob_modes:\n",
    "                    rob_modes[entity_num] = []\n",
    "                rob_modes[entity_num].append(mode)\n",
    "        \n",
    "        # Combine mode dictionaries into a list of tuples and add to result\n",
    "        vertex_res = []\n",
    "        for entity_num, modes in obj_modes.items():\n",
    "            vertex_res.append(str(tuple(modes)))\n",
    "        for entity_num, modes in rob_modes.items():\n",
    "            vertex_res.append(str(tuple(modes)))\n",
    "        res.append(vertex_res)\n",
    "    return res\n",
    "\n",
    "def split_vertex_name(vertex):\n",
    "    # Convert string representation of tuple to actual tuple\n",
    "    tuple_vertex = ast.literal_eval(vertex)\n",
    "    \n",
    "    # Initialize dictionaries to store modes for each obj and rob\n",
    "    obj_modes = {}\n",
    "    rob_modes = {}\n",
    "    \n",
    "    for mode in tuple_vertex:\n",
    "        # Check if mode contains both obj and rob\n",
    "        if 'obj' in mode and 'rob' in mode:\n",
    "            continue\n",
    "        \n",
    "        # Extract the entity number from the mode string\n",
    "        entity_num = find_obj_rob_numbers(mode)\n",
    "        # Add mode to appropriate dictionary\n",
    "        if 'obj' in mode:\n",
    "            if entity_num not in obj_modes:\n",
    "                obj_modes[entity_num] = []\n",
    "            obj_modes[entity_num].append(mode)\n",
    "        elif 'rob' in mode:\n",
    "            if entity_num not in rob_modes:\n",
    "                rob_modes[entity_num] = []\n",
    "            rob_modes[entity_num].append(mode)\n",
    "    \n",
    "    # Combine mode dictionaries into a list of tuples and add to result\n",
    "    vertex_res = []\n",
    "    for entity_num, modes in obj_modes.items():\n",
    "        vertex_res.append(str(tuple(modes)))\n",
    "    for entity_num, modes in rob_modes.items():\n",
    "        vertex_res.append(str(tuple(modes)))\n",
    "    return vertex_res\n",
    "\n",
    "# split_vertex_names(cg.vertex_names[:1])\n",
    "split_vertex_names(test_vertex_names)"
   ]
  },
  {
   "cell_type": "code",
   "execution_count": null,
   "metadata": {},
   "outputs": [],
   "source": [
    "for cfree_vs in split_vertex_names(cg.vertex_names[:100]):\n",
    "    for i, cfree_v in enumerate(cfree_vs):\n",
    "        res = cfree_v in cost_estimator._cfree_graphs[i].vertex_names\n",
    "        if not res:\n",
    "            print(f\"body{i}: {cfree_v} not in cfree_graph!\")\n",
    "        # print(f\"body{i}: {cfree_v} in cfree_graph: {res}\")"
   ]
  },
  {
   "cell_type": "code",
   "execution_count": null,
   "metadata": {},
   "outputs": [],
   "source": [
    "# fcfg.set_source(fcfg.vertex_names[1])\n",
    "# sol = fcfg.solve()\n",
    "# anim = fcfg.animate_solution()\n",
    "# HTML(anim.to_html5_video())"
   ]
  },
  {
   "cell_type": "code",
   "execution_count": null,
   "metadata": {},
   "outputs": [],
   "source": [
    "# for g in cost_estimator._collision_free_graphs:\n",
    "#     for v in g.vertex_names:\n",
    "#         if v == \"target\":\n",
    "#             continue\n",
    "#         g.set_source(v)\n",
    "#         sol = g.solve()\n",
    "#         print(f\"Reaching target from {v} succeeded: {sol.is_success}\")\n",
    "#         anim = g.animate_solution()\n",
    "#         display(HTML(anim.to_html5_video()))"
   ]
  },
  {
   "cell_type": "markdown",
   "metadata": {},
   "source": [
    "## Validating Combined Factored GCS"
   ]
  },
  {
   "cell_type": "code",
   "execution_count": null,
   "metadata": {},
   "outputs": [],
   "source": [
    "from large_gcs.graph.graph import Graph, ShortestPathSolution"
   ]
  },
  {
   "cell_type": "code",
   "execution_count": null,
   "metadata": {},
   "outputs": [],
   "source": [
    "cg = ContactGraph.load_from_file(ContactGraphGeneratorParams.graph_file_path_from_name(\"cg_trichal2\"))"
   ]
  },
  {
   "cell_type": "code",
   "execution_count": null,
   "metadata": {},
   "outputs": [],
   "source": [
    "# v_path = ['source',\n",
    "#  \"('NC|obs0_f0-obj0_v3', 'NC|obs0_f0-rob0_v1', 'NC|obj0_f3-rob0_v0')\",\n",
    "#  \"('NC|obs0_f0-obj0_v3', 'NC|obs0_f0-rob0_v1', 'IC|obj0_v0-rob0_f0')\",\n",
    "#  \"('NC|obs0_f0-obj0_v3', 'NC|obs0_f0-rob0_v1', 'IC|obj0_f0-rob0_v1')\",\n",
    "#  \"('NC|obs0_f1-obj0_f0', 'NC|obs0_f0-rob0_v1', 'IC|obj0_f1-rob0_f1')\",\n",
    "#  \"('IC|obs0_f1-obj0_f0', 'NC|obs0_f1-rob0_f2', 'IC|obj0_f1-rob0_f1')\",\n",
    "#  \"('NC|obs0_f2-obj0_f1', 'NC|obs0_f1-rob0_f2', 'IC|obj0_f2-rob0_f2')\",\n",
    "#  \"('NC|obs0_f2-obj0_f1', 'NC|obs0_f2-rob0_v0', 'IC|obj0_f2-rob0_f2')\",\n",
    "#  \"('NC|obs0_f2-obj0_f1', 'NC|obs0_f2-rob0_v0', 'NC|obj0_f3-rob0_v0')\",\n",
    "#  'target']\n",
    "# active_edges = [cg.edges[v_path[i], v_path[i+1]] for i in range(3)]\n",
    "# cost_estimator = FactoredCollisionFreeCE(cg, use_combined_gcs=True, obj_multiplier=100)\n",
    "# subgraph = Graph()\n",
    "# cost_estimator.estimate_cost(cg, cg.edges[v_path[0], v_path[1]], active_edges=active_edges, use_convex_relaxation=True)\n"
   ]
  }
 ],
 "metadata": {
  "kernelspec": {
   "display_name": ".venv",
   "language": "python",
   "name": "python3"
  },
  "language_info": {
   "codemirror_mode": {
    "name": "ipython",
    "version": 3
   },
   "file_extension": ".py",
   "mimetype": "text/x-python",
   "name": "python",
   "nbconvert_exporter": "python",
   "pygments_lexer": "ipython3",
   "version": "3.11.4"
  },
  "orig_nbformat": 4
 },
 "nbformat": 4,
 "nbformat_minor": 2
}
