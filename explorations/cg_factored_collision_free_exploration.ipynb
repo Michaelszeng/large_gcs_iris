{
 "cells": [
  {
   "cell_type": "code",
   "execution_count": 1,
   "metadata": {},
   "outputs": [],
   "source": [
    "import logging\n",
    "from large_gcs.graph_generators.contact_graph_generator import (\n",
    "    ContactGraphGeneratorParams,\n",
    "    ContactGraphGenerator,\n",
    ")\n",
    "from large_gcs.algorithms.search_algorithm import ReexploreLevel, TieBreak\n",
    "from large_gcs.graph.contact_graph import ContactGraph\n",
    "from large_gcs.algorithms.gcs_astar import GcsAstar\n",
    "from large_gcs.algorithms.gcs_astar_subopt import GcsAstarSubOpt\n",
    "from large_gcs.algorithms.gcs_astar_convex_restriction import GcsAstarConvexRestriction\n",
    "from large_gcs.algorithms.gcs_astar_tree import GcsAstarTree\n",
    "from large_gcs.graph.contact_cost_constraint_factory import (\n",
    "    contact_shortcut_edge_cost_factory_under,\n",
    "    contact_shortcut_edge_cost_factory_over_obj_weighted,\n",
    ")\n",
    "from large_gcs.cost_estimators.shortcut_edge_ce import ShortcutEdgeCE\n",
    "from large_gcs.cost_estimators.factored_collision_free_ce import FactoredCollisionFreeCE\n",
    "\n",
    "\n",
    "import numpy as np\n",
    "from copy import deepcopy\n",
    "from IPython.display import HTML, display\n",
    "\n",
    "\n",
    "np.set_printoptions(formatter={\"float\": lambda x: \"{0:0.3f}\".format(x)})\n",
    "logging.basicConfig(level=logging.WARNING)\n",
    "logging.getLogger(\"large_gcs\").setLevel(logging.INFO)\n",
    "logging.getLogger(\"drake\").setLevel(logging.WARNING)"
   ]
  },
  {
   "cell_type": "code",
   "execution_count": 2,
   "metadata": {},
   "outputs": [
    {
     "name": "stderr",
     "output_type": "stream",
     "text": [
      "INFO:large_gcs.graph.contact_graph:Loading 20 contact pair modes for 3 bodies...\n",
      "INFO:large_gcs.graph.contact_graph:Generating contact sets for 179 sets...\n"
     ]
    },
    {
     "name": "stdout",
     "output_type": "stream",
     "text": [
      "Set parameter Username\n",
      "Academic license - for non-commercial use only - expires 2024-03-04\n"
     ]
    },
    {
     "name": "stderr",
     "output_type": "stream",
     "text": [
      "100%|██████████| 179/179 [00:03<00:00, 49.41it/s]\n",
      "INFO:large_gcs.graph.contact_graph:Creating vertex costs...\n",
      "100%|██████████| 181/181 [00:00<00:00, 11030.59it/s]\n",
      "INFO:large_gcs.graph.graph:Adding 181 vertices to graph...\n",
      "100%|██████████| 181/181 [00:00<00:00, 12691.10it/s]\n",
      "INFO:large_gcs.graph.contact_graph:Creating edge costs...\n",
      "100%|██████████| 6408/6408 [00:00<00:00, 9305.60it/s]\n",
      "INFO:large_gcs.graph.contact_graph:Creating edge constraints...\n",
      "100%|██████████| 6408/6408 [00:01<00:00, 4678.02it/s]\n",
      "INFO:large_gcs.graph.graph:Adding 6408 edges to graph...\n",
      "100%|██████████| 6408/6408 [00:01<00:00, 4198.83it/s]\n",
      "INFO:large_gcs.graph.contact_graph:Created contact graph: GraphParams(dim_bounds=(4, 18), n_vertices=181, n_edges=6408, source=[array([3.250, 0.000]), array([1.500, 0.500])], target=[array([-1.500, 0.000]), array([-3,  0])], workspace=array([[-5,  5],\n",
      "       [-4,  4]]), default_costs_constraints=None)\n"
     ]
    }
   ],
   "source": [
    "cg = ContactGraph.load_from_file(ContactGraphGeneratorParams.graph_file_path_from_name(\"cg_trichal2\"))"
   ]
  },
  {
   "cell_type": "code",
   "execution_count": null,
   "metadata": {},
   "outputs": [],
   "source": [
    "cg.plot()"
   ]
  },
  {
   "cell_type": "code",
   "execution_count": null,
   "metadata": {},
   "outputs": [],
   "source": [
    "cost_estimator_se = ShortcutEdgeCE(cg, contact_shortcut_edge_cost_factory_over_obj_weighted)\n",
    "gcs_astar_se = GcsAstarConvexRestriction(\n",
    "    cg,\n",
    "    cost_estimator=cost_estimator_se,\n",
    "    reexplore_level=ReexploreLevel.NONE,\n",
    ")\n",
    "sol_se = gcs_astar_se.run()"
   ]
  },
  {
   "cell_type": "code",
   "execution_count": null,
   "metadata": {},
   "outputs": [],
   "source": [
    "anim = cg.animate_solution()\n",
    "HTML(anim.to_html5_video())"
   ]
  },
  {
   "cell_type": "code",
   "execution_count": null,
   "metadata": {},
   "outputs": [],
   "source": [
    "gcs_astar = GcsAstarSubOpt(cg, use_convex_relaxation=False, shortcut_edge_cost_factory=contact_shortcut_edge_cost_factory_over_obj_weighted)\n",
    "sol = gcs_astar.run(verbose=True)"
   ]
  },
  {
   "cell_type": "code",
   "execution_count": null,
   "metadata": {},
   "outputs": [],
   "source": [
    "cost_estimator_se = ShortcutEdgeCE(cg, contact_shortcut_edge_cost_factory_over_obj_weighted)\n",
    "gcs_astar_se = GcsAstarTree(\n",
    "    cg,\n",
    "    cost_estimator=cost_estimator_se,\n",
    "    reexplore_level=ReexploreLevel.NONE,\n",
    "    tiebreak=TieBreak.FIFO\n",
    ")\n",
    "sol_se = gcs_astar_se.run()"
   ]
  },
  {
   "cell_type": "code",
   "execution_count": null,
   "metadata": {},
   "outputs": [],
   "source": [
    "anim = cg.animate_solution()\n",
    "HTML(anim.to_html5_video())"
   ]
  },
  {
   "cell_type": "code",
   "execution_count": null,
   "metadata": {},
   "outputs": [],
   "source": [
    "cost_estimator = FactoredCollisionFreeCE(cg, use_combined_gcs=False, obj_multiplier=100)\n",
    "gcs_astar = GcsAstarConvexRestriction(\n",
    "    cg,\n",
    "    cost_estimator=cost_estimator,\n",
    "    reexplore_level=ReexploreLevel.NONE,\n",
    ")\n",
    "sol = gcs_astar.run()"
   ]
  },
  {
   "cell_type": "code",
   "execution_count": null,
   "metadata": {},
   "outputs": [],
   "source": [
    "cost_estimator = FactoredCollisionFreeCE(cg, use_combined_gcs=True, obj_multiplier=100)\n",
    "gcs_astar = GcsAstarTree(\n",
    "    cg,\n",
    "    cost_estimator=cost_estimator,\n",
    "    reexplore_level=ReexploreLevel.NONE,\n",
    ")\n",
    "sol = gcs_astar.run()\n"
   ]
  },
  {
   "cell_type": "code",
   "execution_count": 3,
   "metadata": {},
   "outputs": [
    {
     "name": "stderr",
     "output_type": "stream",
     "text": [
      "INFO:large_gcs.cost_estimators.factored_collision_free_ce:creating 2 collision free graphs...\n",
      "0it [00:00, ?it/s]INFO:large_gcs.graph.contact_graph:Creating vertex costs...\n",
      "100%|██████████| 9/9 [00:00<00:00, 10296.98it/s]\n",
      "INFO:large_gcs.graph.graph:Adding 9 vertices to graph...\n",
      "100%|██████████| 9/9 [00:00<00:00, 15276.70it/s]\n",
      "INFO:large_gcs.graph.contact_graph:Generating edges...(parallel)\n",
      "100%|██████████| 36/36 [00:03<00:00, 11.12it/s]\n",
      "INFO:large_gcs.graph.contact_graph:64 edges generated\n",
      "INFO:large_gcs.graph.contact_graph:Creating edge costs...\n"
     ]
    },
    {
     "name": "stdout",
     "output_type": "stream",
     "text": [
      "Set parameter Username\n",
      "Set parameter Username\n",
      "Set parameter Username\n",
      "Set parameter Username\n",
      "Academic license - for non-commercial use only - expires 2024-03-04\n",
      "Set parameter Username\n",
      "Set parameter Username\n",
      "Academic license - for non-commercial use only - expires 2024-03-04\n",
      "Academic license - for non-commercial use only - expires 2024-03-04\n",
      "Academic license - for non-commercial use only - expires 2024-03-04\n",
      "Academic license - for non-commercial use only - expires 2024-03-04\n",
      "Academic license - for non-commercial use only - expires 2024-03-04\n",
      "Set parameter Username\n",
      "Academic license - for non-commercial use only - expires 2024-03-04\n",
      "Set parameter Username\n",
      "Academic license - for non-commercial use only - expires 2024-03-04\n",
      "Set parameter Username\n",
      "Academic license - for non-commercial use only - expires 2024-03-04\n",
      "Set parameter Username\n",
      "Set parameter Username\n",
      "Set parameter Username\n",
      "Academic license - for non-commercial use only - expires 2024-03-04\n",
      "Academic license - for non-commercial use only - expires 2024-03-04\n",
      "Academic license - for non-commercial use only - expires 2024-03-04\n",
      "Set parameter Username\n",
      "Academic license - for non-commercial use only - expires 2024-03-04\n",
      "Set parameter Username\n",
      "Academic license - for non-commercial use only - expires 2024-03-04\n",
      "Set parameter Username\n",
      "Set parameter Username\n",
      "Academic license - for non-commercial use only - expires 2024-03-04\n",
      "Academic license - for non-commercial use only - expires 2024-03-04\n"
     ]
    },
    {
     "name": "stderr",
     "output_type": "stream",
     "text": [
      "100%|██████████| 64/64 [00:00<00:00, 17486.51it/s]\n",
      "INFO:large_gcs.graph.contact_graph:Creating edge constraints...\n",
      "100%|██████████| 64/64 [00:00<00:00, 7736.78it/s]\n",
      "INFO:large_gcs.graph.graph:Adding 64 edges to graph...\n",
      "100%|██████████| 64/64 [00:00<00:00, 6978.51it/s]\n",
      "INFO:large_gcs.graph.factored_collision_free_graph:Created factored collision free graph for obj0: GraphParams(dim_bounds=(2, 4), n_vertices=9, n_edges=64, source=None, target=[array([-1.500, 0.000])], workspace=array([[-5,  5],\n",
      "       [-4,  4]]), default_costs_constraints=None)\n",
      "1it [00:03,  3.74s/it]INFO:large_gcs.graph.contact_graph:Creating vertex costs...\n",
      "100%|██████████| 4/4 [00:00<00:00, 5934.64it/s]\n",
      "INFO:large_gcs.graph.graph:Adding 4 vertices to graph...\n",
      "100%|██████████| 4/4 [00:00<00:00, 8639.14it/s]\n",
      "INFO:large_gcs.graph.contact_graph:Generating edges...(parallel)\n",
      "100%|██████████| 6/6 [00:02<00:00,  2.87it/s]\n",
      "INFO:large_gcs.graph.contact_graph:12 edges generated\n",
      "INFO:large_gcs.graph.contact_graph:Creating edge costs...\n"
     ]
    },
    {
     "name": "stdout",
     "output_type": "stream",
     "text": [
      "Set parameter Username\n",
      "Set parameter Username\n",
      "Set parameter Username\n",
      "Set parameter Username\n",
      "Set parameter Username\n",
      "Academic license - for non-commercial use only - expires 2024-03-04\n",
      "Academic license - for non-commercial use only - expires 2024-03-04\n",
      "Academic license - for non-commercial use only - expires 2024-03-04\n",
      "Academic license - for non-commercial use only - expires 2024-03-04\n",
      "Academic license - for non-commercial use only - expires 2024-03-04\n",
      "Set parameter Username\n",
      "Academic license - for non-commercial use only - expires 2024-03-04\n"
     ]
    },
    {
     "name": "stderr",
     "output_type": "stream",
     "text": [
      "100%|██████████| 12/12 [00:00<00:00, 11394.98it/s]\n",
      "INFO:large_gcs.graph.contact_graph:Creating edge constraints...\n",
      "100%|██████████| 12/12 [00:00<00:00, 5631.20it/s]\n",
      "INFO:large_gcs.graph.graph:Adding 12 edges to graph...\n",
      "100%|██████████| 12/12 [00:00<00:00, 5222.21it/s]\n",
      "INFO:large_gcs.graph.factored_collision_free_graph:Created factored collision free graph for rob0: GraphParams(dim_bounds=(2, 4), n_vertices=4, n_edges=12, source=None, target=[array([-3,  0])], workspace=array([[-5,  5],\n",
      "       [-4,  4]]), default_costs_constraints=None)\n",
      "2it [00:06,  3.06s/it]\n",
      "INFO:large_gcs.algorithms.gcs_astar_convex_restriction:Running GcsAstarConvexRestriction, reexplore_level: ReexploreLevel.NONE\n",
      "INFO:large_gcs.algorithms.gcs_astar_convex_restriction:\n",
      "n_vertices_visited: 2, n_edges_visited: 0, n_vertices_explored: 0, vertex_coverage: 0.011, edge_coverage: 0, time_wall_clock: 0, n_gcs_solves: 0, gcs_solve_time_total: 0, gcs_solve_time_iter_mean: 0, gcs_solve_time_last_10_mean: 0, gcs_solve_time_iter_std: 0, gcs_solve_time_iter_min: inf, gcs_solve_time_iter_max: 0, n_vertices_revisited: 0, n_vertices_reexplored: 0\n",
      "now exploring node source's 1 neighbors (0)\n",
      "INFO:large_gcs.cost_estimators.factored_collision_free_ce:adding cfree graphs to subgraph...\n",
      "INFO:large_gcs.algorithms.gcs_astar_convex_restriction:\n",
      "n_vertices_visited: 3, n_edges_visited: 1, n_vertices_explored: 1, vertex_coverage: 0.0166, edge_coverage: 0.0002, time_wall_clock: 0.169, n_gcs_solves: 1, gcs_solve_time_total: 0.109, gcs_solve_time_iter_mean: 0.109, gcs_solve_time_last_10_mean: 0, gcs_solve_time_iter_std: 0, gcs_solve_time_iter_min: 0.109, gcs_solve_time_iter_max: 0.109, n_vertices_revisited: 0, n_vertices_reexplored: 0\n",
      "now exploring node ('NC|obs0_f0-obj0_v3', 'NC|obs0_f0-rob0_v1', 'NC|obj0_f3-rob0_v0')'s 56 neighbors (10.23353304007045)\n"
     ]
    },
    {
     "name": "stdout",
     "output_type": "stream",
     "text": [
      "adding vertices to graph:\n",
      "vertex_path[0]: source\n",
      "vertex_path[1]: ('NC|obs0_f0-obj0_v3', 'NC|obs0_f0-rob0_v1', 'NC|obj0_f3-rob0_v0')\n",
      "vertex_path[2]: ('NC|obs0_f0-obj0_v3',)+('NC|obs0_f0-rob0_v1',)\n",
      "('NC|obs0_f0-obj0_v3',) factored x_pos.shape: (2, 2)\n",
      "('NC|obs0_f0-rob0_v1',) factored x_pos.shape: (2, 2)\n",
      "vertex_path[3]: ('NC|obs0_f2-obj0_f1',)+('NC|obs0_f2-rob0_v0',)\n",
      "('NC|obs0_f2-obj0_f1',) factored x_pos.shape: (2, 2)\n",
      "('NC|obs0_f2-rob0_v0',) factored x_pos.shape: (2, 2)\n",
      "vertex_path[4]: target_obj0+target_rob0\n",
      "target_obj0 factored x_pos.shape: (2, 1)\n",
      "target_rob0 factored x_pos.shape: (2, 1)\n",
      "adding vertices to graph:\n",
      "('NC|obs0_f0-obj0_v3', 'NC|obs0_f0-rob0_v1', 'NC|obj0_f3-rob0_v0')\n"
     ]
    },
    {
     "name": "stderr",
     "output_type": "stream",
     "text": [
      "INFO:large_gcs.cost_estimators.factored_collision_free_ce:adding cfree graphs to subgraph...\n"
     ]
    },
    {
     "name": "stdout",
     "output_type": "stream",
     "text": [
      "vertex_path[0]: source\n",
      "vertex_path[1]: ('NC|obs0_f0-obj0_v3', 'NC|obs0_f0-rob0_v1', 'NC|obj0_f3-rob0_v0')\n",
      "vertex_path[2]: ('NC|obs0_f0-obj0_v3', 'NC|obs0_f0-rob0_v1', 'IC|obj0_f2-rob0_f2')\n",
      "vertex_path[3]: ('NC|obs0_f0-obj0_v3',)+('NC|obs0_f0-rob0_v1',)\n",
      "('NC|obs0_f0-obj0_v3',) factored x_pos.shape: (2, 2)\n",
      "('NC|obs0_f0-rob0_v1',) factored x_pos.shape: (2, 2)\n",
      "vertex_path[4]: ('NC|obs0_f2-obj0_f1',)+('NC|obs0_f2-rob0_v0',)\n",
      "('NC|obs0_f2-obj0_f1',) factored x_pos.shape: (2, 2)\n",
      "('NC|obs0_f2-rob0_v0',) factored x_pos.shape: (2, 2)\n",
      "vertex_path[5]: target_obj0+target_rob0\n",
      "target_obj0 factored x_pos.shape: (2, 1)\n",
      "target_rob0 factored x_pos.shape: (2, 1)\n",
      "vertex_path[0]: source\n",
      "vertex_path[1]: ('NC|obs0_f0-obj0_v3', 'NC|obs0_f0-rob0_v1', 'NC|obj0_f3-rob0_v0')\n",
      "vertex_path[2]: ('NC|obs0_f0-obj0_v3', 'NC|obs0_f0-rob0_v1', 'IC|obj0_f3-rob0_v0')\n",
      "vertex_path[3]: ('NC|obs0_f0-obj0_v3',)+('NC|obs0_f0-rob0_v1',)\n",
      "('NC|obs0_f0-obj0_v3',) factored x_pos.shape: (2, 2)\n",
      "('NC|obs0_f0-rob0_v1',) factored x_pos.shape: (2, 2)\n",
      "vertex_path[4]: ('NC|obs0_f2-obj0_f1',)+('NC|obs0_f2-rob0_v0',)\n",
      "('NC|obs0_f2-obj0_f1',) factored x_pos.shape: (2, 2)\n",
      "('NC|obs0_f2-rob0_v0',) factored x_pos.shape: (2, 2)\n",
      "vertex_path[5]: target_obj0+target_rob0\n",
      "target_obj0 factored x_pos.shape: (2, 1)\n",
      "target_rob0 factored x_pos.shape: (2, 1)\n",
      "vertex_path[0]: source\n",
      "vertex_path[1]: ('NC|obs0_f0-obj0_v3', 'NC|obs0_f0-rob0_v1', 'NC|obj0_f3-rob0_v0')\n",
      "vertex_path[2]: ('NC|obs0_f0-obj0_v3', 'NC|obs0_f0-rob0_v1', 'IC|obj0_v0-rob0_f0')\n",
      "vertex_path[3]: ('NC|obs0_f0-obj0_v3',)+('NC|obs0_f0-rob0_v1',)\n",
      "('NC|obs0_f0-obj0_v3',) factored x_pos.shape: (2, 2)\n",
      "('NC|obs0_f0-rob0_v1',) factored x_pos.shape: (2, 2)\n",
      "vertex_path[4]: ('NC|obs0_f2-obj0_f1',)+('NC|obs0_f2-rob0_v0',)\n",
      "('NC|obs0_f2-obj0_f1',) factored x_pos.shape: (2, 2)\n",
      "('NC|obs0_f2-rob0_v0',) factored x_pos.shape: (2, 2)\n",
      "vertex_path[5]: target_obj0+target_rob0\n",
      "target_obj0 factored x_pos.shape: (2, 1)\n",
      "target_rob0 factored x_pos.shape: (2, 1)\n",
      "vertex_path[0]: source\n",
      "vertex_path[1]: ('NC|obs0_f0-obj0_v3', 'NC|obs0_f0-rob0_v1', 'NC|obj0_f3-rob0_v0')\n",
      "vertex_path[2]: ('NC|obs0_f0-obj0_v3', 'NC|obs0_f0-rob0_v1', 'NC|obj0_f0-rob0_v1')\n",
      "vertex_path[3]: ('NC|obs0_f0-obj0_v3',)+('NC|obs0_f0-rob0_v1',)\n",
      "('NC|obs0_f0-obj0_v3',) factored x_pos.shape: (2, 2)\n",
      "('NC|obs0_f0-rob0_v1',) factored x_pos.shape: (2, 2)\n",
      "vertex_path[4]: ('NC|obs0_f2-obj0_f1',)+('NC|obs0_f2-rob0_v0',)\n",
      "('NC|obs0_f2-obj0_f1',) factored x_pos.shape: (2, 2)\n",
      "('NC|obs0_f2-rob0_v0',) factored x_pos.shape: (2, 2)\n",
      "vertex_path[5]: target_obj0+target_rob0\n",
      "target_obj0 factored x_pos.shape: (2, 1)\n",
      "target_rob0 factored x_pos.shape: (2, 1)\n",
      "vertex_path[0]: source\n",
      "vertex_path[1]: ('NC|obs0_f0-obj0_v3', 'NC|obs0_f0-rob0_v1', 'NC|obj0_f3-rob0_v0')\n",
      "vertex_path[2]: ('NC|obs0_f0-obj0_v3', 'NC|obs0_f0-rob0_v1', 'NC|obj0_f2-rob0_f2')\n",
      "vertex_path[3]: ('NC|obs0_f0-obj0_v3',)+('NC|obs0_f0-rob0_v1',)\n",
      "('NC|obs0_f0-obj0_v3',) factored x_pos.shape: (2, 2)\n",
      "('NC|obs0_f0-rob0_v1',) factored x_pos.shape: (2, 2)\n",
      "vertex_path[4]: ('NC|obs0_f2-obj0_f1',)+('NC|obs0_f2-rob0_v0',)\n",
      "('NC|obs0_f2-obj0_f1',) factored x_pos.shape: (2, 2)\n",
      "('NC|obs0_f2-rob0_v0',) factored x_pos.shape: (2, 2)\n",
      "vertex_path[5]: target_obj0+target_rob0\n",
      "target_obj0 factored x_pos.shape: (2, 1)\n",
      "target_rob0 factored x_pos.shape: (2, 1)\n",
      "vertex_path[0]: source\n",
      "vertex_path[1]: ('NC|obs0_f0-obj0_v3', 'NC|obs0_f0-rob0_v1', 'NC|obj0_f3-rob0_v0')\n",
      "vertex_path[2]: ('NC|obs0_f0-obj0_v3', 'NC|obs0_f2-rob0_v0', 'NC|obj0_f0-rob0_v1')\n",
      "vertex_path[3]: ('NC|obs0_f0-obj0_v3',)+('NC|obs0_f2-rob0_v0',)\n",
      "('NC|obs0_f0-obj0_v3',) factored x_pos.shape: (2, 2)\n",
      "('NC|obs0_f2-rob0_v0',) factored x_pos.shape: (2, 2)\n",
      "vertex_path[4]: ('NC|obs0_f2-obj0_f1',)+target_rob0\n",
      "('NC|obs0_f2-obj0_f1',) factored x_pos.shape: (2, 2)\n",
      "target_rob0 factored x_pos.shape: (2, 1)\n",
      "vertex_path[5]: target_obj0+target_rob0\n",
      "target_obj0 factored x_pos.shape: (2, 1)\n",
      "target_rob0 factored x_pos.shape: (2, 1)\n",
      "vertex_path[0]: source\n",
      "vertex_path[1]: ('NC|obs0_f0-obj0_v3', 'NC|obs0_f0-rob0_v1', 'NC|obj0_f3-rob0_v0')\n",
      "vertex_path[2]: ('NC|obs0_f0-obj0_v3', 'NC|obs0_f2-rob0_v0', 'NC|obj0_f3-rob0_v0')\n",
      "vertex_path[3]: ('NC|obs0_f0-obj0_v3',)+('NC|obs0_f2-rob0_v0',)\n",
      "('NC|obs0_f0-obj0_v3',) factored x_pos.shape: (2, 2)\n",
      "('NC|obs0_f2-rob0_v0',) factored x_pos.shape: (2, 2)\n",
      "vertex_path[4]: ('NC|obs0_f2-obj0_f1',)+target_rob0\n",
      "('NC|obs0_f2-obj0_f1',) factored x_pos.shape: (2, 2)\n",
      "target_rob0 factored x_pos.shape: (2, 1)\n",
      "vertex_path[5]: target_obj0+target_rob0\n",
      "target_obj0 factored x_pos.shape: (2, 1)\n",
      "target_rob0 factored x_pos.shape: (2, 1)\n",
      "adding vertices to graph:\n",
      "('NC|obs0_f0-obj0_v3', 'NC|obs0_f0-rob0_v1', 'NC|obj0_f3-rob0_v0')\n",
      "('IC|obs0_f2-obj0_f1',)\n",
      "('IC|obs0_f1-obj0_f0',)\n",
      "('IC|obs0_f0-obj0_v3',)\n",
      "('IC|obs0_f1-obj0_f0',)\n",
      "('IC|obs0_v0-obj0_f2',)\n",
      "('IC|obs0_f1-obj0_f0',)\n",
      "('IC|obs0_v1-obj0_f3',)\n",
      "('IC|obs0_f1-obj0_f0',)\n",
      "('NC|obs0_f1-obj0_f0',)\n",
      "('IC|obs0_f1-obj0_f0',)\n",
      "('NC|obs0_f2-obj0_f1',)\n",
      "('IC|obs0_f1-obj0_f0',)\n",
      "('NC|obs0_f0-obj0_v3',)\n",
      "('IC|obs0_f1-obj0_f0',)\n",
      "target_obj0\n",
      "('IC|obs0_f1-obj0_f0',)\n",
      "('IC|obs0_f0-obj0_v3',)\n",
      "('IC|obs0_f2-obj0_f1',)\n",
      "('IC|obs0_v0-obj0_f2',)\n",
      "('IC|obs0_f2-obj0_f1',)\n",
      "('NC|obs0_f1-obj0_f0',)\n",
      "('IC|obs0_f2-obj0_f1',)\n",
      "('NC|obs0_f2-obj0_f1',)\n",
      "('IC|obs0_f2-obj0_f1',)\n",
      "('NC|obs0_f0-obj0_v3',)\n",
      "('IC|obs0_f2-obj0_f1',)\n",
      "target_obj0\n",
      "('IC|obs0_f2-obj0_f1',)\n",
      "('IC|obs0_v0-obj0_f2',)\n",
      "('IC|obs0_f0-obj0_v3',)\n",
      "('IC|obs0_v1-obj0_f3',)\n",
      "('IC|obs0_f0-obj0_v3',)\n",
      "('NC|obs0_f1-obj0_f0',)\n",
      "('IC|obs0_f0-obj0_v3',)\n",
      "('NC|obs0_f2-obj0_f1',)\n",
      "('IC|obs0_f0-obj0_v3',)\n",
      "('NC|obs0_f0-obj0_v3',)\n",
      "('IC|obs0_f0-obj0_v3',)\n",
      "target_obj0\n",
      "('IC|obs0_f0-obj0_v3',)\n",
      "('NC|obs0_f1-obj0_f0',)\n",
      "('IC|obs0_v0-obj0_f2',)\n",
      "('NC|obs0_f2-obj0_f1',)\n",
      "('IC|obs0_v0-obj0_f2',)\n",
      "('NC|obs0_f0-obj0_v3',)\n",
      "('IC|obs0_v0-obj0_f2',)\n",
      "target_obj0\n",
      "('IC|obs0_v0-obj0_f2',)\n",
      "('NC|obs0_f1-obj0_f0',)\n",
      "('IC|obs0_v1-obj0_f3',)\n",
      "('NC|obs0_f0-obj0_v3',)\n",
      "('IC|obs0_v1-obj0_f3',)\n",
      "('NC|obs0_f2-obj0_f1',)\n",
      "('NC|obs0_f1-obj0_f0',)\n",
      "('NC|obs0_f0-obj0_v3',)\n",
      "('NC|obs0_f1-obj0_f0',)\n",
      "target_obj0\n",
      "('NC|obs0_f1-obj0_f0',)\n",
      "('NC|obs0_f0-obj0_v3',)\n",
      "('NC|obs0_f2-obj0_f1',)\n",
      "target_obj0\n",
      "('NC|obs0_f2-obj0_f1',)\n",
      "target_obj0\n",
      "('NC|obs0_f0-obj0_v3',)\n",
      "('NC|obs0_f0-rob0_v1',)\n",
      "('NC|obs0_f1-rob0_f2',)\n",
      "('NC|obs0_f2-rob0_v0',)\n",
      "('NC|obs0_f1-rob0_f2',)\n",
      "target_rob0\n",
      "('NC|obs0_f1-rob0_f2',)\n",
      "('NC|obs0_f2-rob0_v0',)\n",
      "('NC|obs0_f0-rob0_v1',)\n",
      "target_rob0\n",
      "('NC|obs0_f0-rob0_v1',)\n",
      "target_rob0\n",
      "('NC|obs0_f2-rob0_v0',)\n",
      "('NC|obs0_f0-obj0_v3', 'NC|obs0_f2-rob0_v0', 'NC|obj0_f3-rob0_v0')\n"
     ]
    },
    {
     "ename": "KeyError",
     "evalue": "\"('IC|obs0_f2-obj0_f1',)\"",
     "output_type": "error",
     "traceback": [
      "\u001b[0;31m---------------------------------------------------------------------------\u001b[0m",
      "\u001b[0;31mKeyError\u001b[0m                                  Traceback (most recent call last)",
      "Cell \u001b[0;32mIn[3], line 7\u001b[0m\n\u001b[1;32m      1\u001b[0m cost_estimator \u001b[39m=\u001b[39m FactoredCollisionFreeCE(cg, use_combined_gcs\u001b[39m=\u001b[39m\u001b[39mTrue\u001b[39;00m, obj_multiplier\u001b[39m=\u001b[39m\u001b[39m100\u001b[39m)\n\u001b[1;32m      2\u001b[0m gcs_astar \u001b[39m=\u001b[39m GcsAstarConvexRestriction(\n\u001b[1;32m      3\u001b[0m     cg,\n\u001b[1;32m      4\u001b[0m     cost_estimator\u001b[39m=\u001b[39mcost_estimator,\n\u001b[1;32m      5\u001b[0m     reexplore_level\u001b[39m=\u001b[39mReexploreLevel\u001b[39m.\u001b[39mNONE,\n\u001b[1;32m      6\u001b[0m )\n\u001b[0;32m----> 7\u001b[0m sol \u001b[39m=\u001b[39m gcs_astar\u001b[39m.\u001b[39;49mrun()\n",
      "File \u001b[0;32m~/Documents/Software/large_gcs/large_gcs/algorithms/gcs_astar_convex_restriction.py:95\u001b[0m, in \u001b[0;36mGcsAstarConvexRestriction.run\u001b[0;34m(self, animate_intermediate, final_plot)\u001b[0m\n\u001b[1;32m     89\u001b[0m         logger\u001b[39m.\u001b[39minfo(\n\u001b[1;32m     90\u001b[0m             \u001b[39mf\u001b[39m\u001b[39m\"\u001b[39m\u001b[39mGcs A* Convex Restriction complete! \u001b[39m\u001b[39m\\n\u001b[39;00m\u001b[39mcost: \u001b[39m\u001b[39m{\u001b[39;00msol\u001b[39m.\u001b[39mcost\u001b[39m}\u001b[39;00m\u001b[39m, time: \u001b[39m\u001b[39m{\u001b[39;00msol\u001b[39m.\u001b[39mtime\u001b[39m}\u001b[39;00m\u001b[39m\\n\u001b[39;00m\u001b[39mvertex path: \u001b[39m\u001b[39m{\u001b[39;00mnp\u001b[39m.\u001b[39marray(sol\u001b[39m.\u001b[39mvertex_path)\u001b[39m}\u001b[39;00m\u001b[39m\\n\u001b[39;00m\u001b[39m{\u001b[39;00m\u001b[39mself\u001b[39m\u001b[39m.\u001b[39malg_metrics\u001b[39m}\u001b[39;00m\u001b[39m\"\u001b[39m\n\u001b[1;32m     91\u001b[0m         )\n\u001b[1;32m     93\u001b[0m         \u001b[39mreturn\u001b[39;00m sol\n\u001b[0;32m---> 95\u001b[0m     \u001b[39mself\u001b[39;49m\u001b[39m.\u001b[39;49m_run_iteration()\n\u001b[1;32m     96\u001b[0m     \u001b[39mself\u001b[39m\u001b[39m.\u001b[39m_alg_metrics\u001b[39m.\u001b[39mtime_wall_clock \u001b[39m=\u001b[39m time\u001b[39m.\u001b[39mtime() \u001b[39m-\u001b[39m \u001b[39mself\u001b[39m\u001b[39m.\u001b[39m_start_time\n\u001b[1;32m     98\u001b[0m logger\u001b[39m.\u001b[39mwarn(\u001b[39m\"\u001b[39m\u001b[39mGcs A* Convex Restriction failed to find a path to the target.\u001b[39m\u001b[39m\"\u001b[39m)\n",
      "File \u001b[0;32m~/Documents/Software/large_gcs/large_gcs/algorithms/gcs_astar_convex_restriction.py:115\u001b[0m, in \u001b[0;36mGcsAstarConvexRestriction._run_iteration\u001b[0;34m(self)\u001b[0m\n\u001b[1;32m    112\u001b[0m     \u001b[39mself\u001b[39m\u001b[39m.\u001b[39m_alg_metrics\u001b[39m.\u001b[39mn_vertices_visited \u001b[39m+\u001b[39m\u001b[39m=\u001b[39m \u001b[39m1\u001b[39m\n\u001b[1;32m    114\u001b[0m \u001b[39mself\u001b[39m\u001b[39m.\u001b[39m_visited_vertices\u001b[39m.\u001b[39madd(node)\n\u001b[0;32m--> 115\u001b[0m \u001b[39mself\u001b[39;49m\u001b[39m.\u001b[39;49m_set_visited_vertices_and_edges(active_edges)\n\u001b[1;32m    117\u001b[0m edges \u001b[39m=\u001b[39m \u001b[39mself\u001b[39m\u001b[39m.\u001b[39m_graph\u001b[39m.\u001b[39moutgoing_edges(node)\n\u001b[1;32m    119\u001b[0m logger\u001b[39m.\u001b[39minfo(\n\u001b[1;32m    120\u001b[0m     \u001b[39mf\u001b[39m\u001b[39m\"\u001b[39m\u001b[39m\\n\u001b[39;00m\u001b[39m{\u001b[39;00m\u001b[39mself\u001b[39m\u001b[39m.\u001b[39malg_metrics\u001b[39m}\u001b[39;00m\u001b[39m\\n\u001b[39;00m\u001b[39mnow exploring node \u001b[39m\u001b[39m{\u001b[39;00mnode\u001b[39m}\u001b[39;00m\u001b[39m'\u001b[39m\u001b[39ms \u001b[39m\u001b[39m{\u001b[39;00m\u001b[39mlen\u001b[39m(edges)\u001b[39m}\u001b[39;00m\u001b[39m neighbors (\u001b[39m\u001b[39m{\u001b[39;00mestimated_cost\u001b[39m}\u001b[39;00m\u001b[39m)\u001b[39m\u001b[39m\"\u001b[39m\n\u001b[1;32m    121\u001b[0m )\n",
      "File \u001b[0;32m~/Documents/Software/large_gcs/large_gcs/algorithms/gcs_astar_convex_restriction.py:207\u001b[0m, in \u001b[0;36mGcsAstarConvexRestriction._set_visited_vertices_and_edges\u001b[0;34m(self, edges)\u001b[0m\n\u001b[1;32m    205\u001b[0m     \u001b[39mprint\u001b[39m(edge\u001b[39m.\u001b[39mv)\n\u001b[1;32m    206\u001b[0m \u001b[39mfor\u001b[39;00m v \u001b[39min\u001b[39;00m vertex_list:\n\u001b[0;32m--> 207\u001b[0m     \u001b[39mself\u001b[39m\u001b[39m.\u001b[39m_visited\u001b[39m.\u001b[39madd_vertex(\u001b[39mself\u001b[39;49m\u001b[39m.\u001b[39;49m_graph\u001b[39m.\u001b[39;49mvertices[v], v)\n\u001b[1;32m    208\u001b[0m \u001b[39mself\u001b[39m\u001b[39m.\u001b[39m_visited\u001b[39m.\u001b[39mset_source(\u001b[39mself\u001b[39m\u001b[39m.\u001b[39m_graph\u001b[39m.\u001b[39msource_name)\n\u001b[1;32m    209\u001b[0m \u001b[39mself\u001b[39m\u001b[39m.\u001b[39m_visited\u001b[39m.\u001b[39mset_target(\u001b[39mself\u001b[39m\u001b[39m.\u001b[39m_graph\u001b[39m.\u001b[39mtarget_name)\n",
      "\u001b[0;31mKeyError\u001b[0m: \"('IC|obs0_f2-obj0_f1',)\""
     ]
    }
   ],
   "source": [
    "cost_estimator = FactoredCollisionFreeCE(cg, use_combined_gcs=True, obj_multiplier=100)\n",
    "gcs_astar = GcsAstarConvexRestriction(\n",
    "    cg,\n",
    "    cost_estimator=cost_estimator,\n",
    "    reexplore_level=ReexploreLevel.NONE,\n",
    ")\n",
    "sol = gcs_astar.run()"
   ]
  },
  {
   "cell_type": "code",
   "execution_count": null,
   "metadata": {},
   "outputs": [],
   "source": [
    "cg.contact_spp_sol.vertex_path"
   ]
  },
  {
   "cell_type": "code",
   "execution_count": null,
   "metadata": {},
   "outputs": [],
   "source": [
    "anim = cg.animate_solution()\n",
    "HTML(anim.to_html5_video())"
   ]
  },
  {
   "cell_type": "markdown",
   "metadata": {},
   "source": [
    "## Path refinement?"
   ]
  },
  {
   "cell_type": "code",
   "execution_count": null,
   "metadata": {},
   "outputs": [],
   "source": [
    "vertex_inclusion = ['source',\n",
    " \"('NC|obs0_f0-obj0_v3', 'NC|obs0_f0-rob0_v1', 'NC|obs1_f2-obj0_v1', 'NC|obs1_f1-rob0_v2', 'NC|obj0_f1-rob0_f1')\",\n",
    " \"('NC|obs0_f0-obj0_v3', 'NC|obs0_f0-rob0_v1', 'NC|obs1_f2-obj0_v1', 'NC|obs1_f2-rob0_v0', 'NC|obj0_f1-rob0_f1')\",\n",
    " \"('NC|obs0_f0-obj0_v3', 'NC|obs0_f0-rob0_v1', 'NC|obs1_f2-obj0_v1', 'NC|obs1_f2-rob0_v0', 'IC|obj0_f1-rob0_f1')\",\n",
    " \"('IC|obs0_f0-obj0_v3', 'NC|obs0_f0-rob0_v1', 'NC|obs1_f2-obj0_v1', 'NC|obs1_f2-rob0_v0', 'IC|obj0_f1-rob0_f1')\",\n",
    " \"('IC|obs0_v0-obj0_f2', 'NC|obs0_f0-rob0_v1', 'NC|obs1_f2-obj0_v1', 'NC|obs1_f2-rob0_v0', 'IC|obj0_f1-rob0_f1')\",\n",
    " \"('IC|obs0_v0-obj0_f1', 'NC|obs0_f0-rob0_v1', 'NC|obs1_f2-obj0_v1', 'NC|obs1_f0-rob0_v1', 'IC|obj0_f1-rob0_f1')\",\n",
    " \"('IC|obs0_v0-obj0_f1', 'NC|obs0_f0-rob0_v1', 'NC|obs1_f2-obj0_v1', 'NC|obs1_f0-rob0_v1', 'IC|obj0_f0-rob0_v1')\",\n",
    " \"('IC|obs0_v0-obj0_f1', 'NC|obs0_f0-rob0_v1', 'NC|obs1_f2-obj0_v1', 'NC|obs1_f2-rob0_v0', 'IC|obj0_f0-rob0_v1')\",\n",
    " \"('NC|obs0_f2-obj0_v1', 'NC|obs0_f0-rob0_v1', 'NC|obs1_f2-obj0_v1', 'NC|obs1_f2-rob0_v0', 'NC|obj0_f0-rob0_v1')\",\n",
    " \"('NC|obs0_f2-obj0_v1', 'NC|obs0_f2-rob0_v0', 'NC|obs1_f2-obj0_v1', 'NC|obs1_f2-rob0_v0', 'NC|obj0_f0-rob0_v1')\",\n",
    " \"('NC|obs0_f2-obj0_v1', 'NC|obs0_f2-rob0_v0', 'NC|obs1_f2-obj0_v1', 'NC|obs1_f2-rob0_v0', 'IC|obj0_f0-rob0_v1')\",\n",
    " \"('NC|obs0_f2-obj0_v1', 'NC|obs0_f2-rob0_v0', 'NC|obs1_f2-obj0_v1', 'NC|obs1_f2-rob0_v0', 'IC|obj0_f1-rob0_f1')\",\n",
    " \"('NC|obs0_f2-obj0_v1', 'NC|obs0_f1-rob0_v0', 'NC|obs1_f2-obj0_v1', 'NC|obs1_f2-rob0_v0', 'IC|obj0_f2-rob0_f2')\",\n",
    " \"('NC|obs0_f2-obj0_v1', 'NC|obs0_f1-rob0_v0', 'NC|obs1_f2-obj0_v1', 'NC|obs1_f2-rob0_v0', 'IC|obj0_f3-rob0_v0')\",\n",
    " \"('NC|obs0_f2-obj0_v1', 'NC|obs0_f1-rob0_v0', 'NC|obs1_f2-obj0_v1', 'NC|obs1_f2-rob0_v0', 'NC|obj0_f2-rob0_f2')\",\n",
    " 'target']\n",
    "# Partial revisits\n",
    "# vertex_inclusion = [\"source\",\"('NC|obs0_f0-obj0_v3', 'NC|obs0_f0-rob0_v1', 'NC|obs1_f2-obj0_v1', 'NC|obs1_f1-rob0_v2', 'NC|obj0_f1-rob0_f1')\",\"('NC|obs0_f0-obj0_v3', 'NC|obs0_f0-rob0_v1', 'NC|obs1_f2-obj0_v1', 'NC|obs1_f2-rob0_v0', 'NC|obj0_f2-rob0_f2')\",\"('NC|obs0_f0-obj0_v3', 'NC|obs0_f0-rob0_v1', 'NC|obs1_f2-obj0_v1', 'NC|obs1_f2-rob0_v0', 'IC|obj0_f1-rob0_f1')\",\"('IC|obs0_f0-obj0_v3', 'NC|obs0_f0-rob0_v1', 'NC|obs1_f2-obj0_v1', 'NC|obs1_f2-rob0_v0', 'IC|obj0_f2-rob0_f2')\",\"('IC|obs0_f0-obj0_v3', 'NC|obs0_f0-rob0_v1', 'NC|obs1_f2-obj0_v1', 'NC|obs1_f2-rob0_v0', 'IC|obj0_f1-rob0_f1')\",\"('IC|obs0_v0-obj0_f2', 'NC|obs0_f0-rob0_v1', 'NC|obs1_f2-obj0_v1', 'NC|obs1_f2-rob0_v0', 'IC|obj0_f1-rob0_f1')\",\"('IC|obs0_v0-obj0_f1', 'NC|obs0_f0-rob0_v1', 'NC|obs1_f2-obj0_v1', 'NC|obs1_f0-rob0_v1', 'IC|obj0_f1-rob0_f1')\",\"('IC|obs0_v0-obj0_f1', 'NC|obs0_f0-rob0_v1', 'NC|obs1_f2-obj0_v1', 'NC|obs1_f0-rob0_v1', 'IC|obj0_f0-rob0_v1')\",\"('IC|obs0_v0-obj0_f1', 'NC|obs0_f0-rob0_v1', 'NC|obs1_f2-obj0_v1', 'NC|obs1_f2-rob0_v0', 'NC|obj0_f1-rob0_f1')\",\"('IC|obs0_v0-obj0_f1', 'NC|obs0_f0-rob0_v1', 'NC|obs1_f2-obj0_v1', 'NC|obs1_f2-rob0_v0', 'IC|obj0_f0-rob0_v1')\",\"('IC|obs0_f2-obj0_v1', 'NC|obs0_f0-rob0_v1', 'NC|obs1_f2-obj0_v1', 'NC|obs1_f2-rob0_v0', 'NC|obj0_f0-rob0_v1')\",\"('IC|obs0_v0-obj0_f1', 'NC|obs0_f2-rob0_v0', 'NC|obs1_f2-obj0_v1', 'NC|obs1_f2-rob0_v0', 'NC|obj0_f0-rob0_v1')\",\"('IC|obs0_f2-obj0_v1', 'NC|obs0_f2-rob0_v0', 'NC|obs1_f2-obj0_v1', 'NC|obs1_f2-rob0_v0', 'IC|obj0_v0-rob0_f0')\",\"('NC|obs0_f2-obj0_v1', 'NC|obs0_f1-rob0_v0', 'NC|obs1_f2-obj0_v1', 'NC|obs1_f2-rob0_v0', 'IC|obj0_f3-rob0_v0')\",\"('NC|obs0_f2-obj0_v1', 'NC|obs0_f1-rob0_v0', 'NC|obs1_f2-obj0_v1', 'NC|obs1_f2-rob0_v0', 'IC|obj0_f2-rob0_f2')\",\"('NC|obs0_f2-obj0_v1', 'NC|obs0_f1-rob0_v0', 'NC|obs1_f2-obj0_v1', 'NC|obs1_f2-rob0_v0', 'IC|obj0_f1-rob0_f1')\",\"('NC|obs0_f2-obj0_v1', 'NC|obs0_f2-rob0_v0', 'NC|obs1_f2-obj0_v1', 'NC|obs1_f2-rob0_v0', 'IC|obj0_f2-rob0_f2')\",\"('NC|obs0_f2-obj0_v1', 'NC|obs0_f1-rob0_v0', 'NC|obs1_f2-obj0_v1', 'NC|obs1_f2-rob0_v0', 'NC|obj0_f2-rob0_f2')\",\"target\"]\n",
    "cg = ContactGraph.load_from_file(ContactGraphGeneratorParams.graph_file_path_from_name(\"cg_maze_a2\"),\n",
    "                                 vertex_inclusion=vertex_inclusion)"
   ]
  },
  {
   "cell_type": "code",
   "execution_count": null,
   "metadata": {},
   "outputs": [],
   "source": [
    "sol = cg.solve_shortest_path()"
   ]
  },
  {
   "cell_type": "code",
   "execution_count": null,
   "metadata": {},
   "outputs": [],
   "source": [
    "anim = cg.animate_solution()\n",
    "HTML(anim.to_html5_video())"
   ]
  },
  {
   "cell_type": "code",
   "execution_count": null,
   "metadata": {},
   "outputs": [],
   "source": [
    "print(sol.cost)\n",
    "print(len(sol.vertex_path))"
   ]
  },
  {
   "cell_type": "markdown",
   "metadata": {},
   "source": [
    "# Initial testing and development"
   ]
  },
  {
   "cell_type": "code",
   "execution_count": null,
   "metadata": {},
   "outputs": [],
   "source": [
    "fcfg = cost_estimator._cfree_graphs[0]\n",
    "fcfg.plot()\n",
    "fcfg.vertex_names\n"
   ]
  },
  {
   "cell_type": "code",
   "execution_count": null,
   "metadata": {},
   "outputs": [],
   "source": [
    "cg.vertex_names[:5]"
   ]
  },
  {
   "cell_type": "code",
   "execution_count": null,
   "metadata": {},
   "outputs": [],
   "source": [
    "import re\n",
    "def find_obj_rob_numbers(s):\n",
    "    match = re.search(r'(obj|rob)(\\d+)', s)\n",
    "    if match:\n",
    "        return match.group(2)  # group 2 is the second capture group, which contains the digits\n",
    "    else:\n",
    "        return None\n",
    "\n",
    "print(find_obj_rob_numbers(\"'(IC|obs0_f0-obj92_v3',)\"))  # prints 92\n",
    "print(find_obj_rob_numbers(\"'(NC|obs0_f0-rob111_v1',)\"))  # prints 111"
   ]
  },
  {
   "cell_type": "code",
   "execution_count": null,
   "metadata": {},
   "outputs": [],
   "source": [
    "import ast\n",
    "\n",
    "test_vertex_names = [\n",
    "    \"('IC|obs0_f0-obj0_v3', 'NC|obs0_f0-rob0_v1', 'NC|obs1_f1-obj0_v0', 'NC|obs1_f0-rob0_v1', 'NC|obj0_f0-rob0_v1', 'IC|obs0_f0-obj5_v3', 'NC|obs0_f0-rob5_v1',)\",\n",
    "    \"('IC|obs0_f0-obj0_v3', 'NC|obs0_f0-rob0_v1', 'NC|obs1_f1-obj0_v0', 'NC|obs1_f0-rob0_v1', 'NC|obj0_f1-rob0_f1', 'NC|obj2_f8-rob2_f1', 'NC|obs3_f1-obj5_v0',)\"\n",
    " ]\n",
    "    \n",
    "def split_vertex_names(vertex_names):\n",
    "    res = []\n",
    "    for vertex in vertex_names:\n",
    "        # Convert string representation of tuple to actual tuple\n",
    "        tuple_vertex = ast.literal_eval(vertex)\n",
    "        \n",
    "        # Initialize dictionaries to store modes for each obj and rob\n",
    "        obj_modes = {}\n",
    "        rob_modes = {}\n",
    "        \n",
    "        for mode in tuple_vertex:\n",
    "            # Check if mode contains both obj and rob\n",
    "            if 'obj' in mode and 'rob' in mode:\n",
    "                continue\n",
    "            \n",
    "            # Extract the entity number from the mode string\n",
    "            entity_num = find_obj_rob_numbers(mode)\n",
    "            # Add mode to appropriate dictionary\n",
    "            if 'obj' in mode:\n",
    "                if entity_num not in obj_modes:\n",
    "                    obj_modes[entity_num] = []\n",
    "                obj_modes[entity_num].append(mode)\n",
    "            elif 'rob' in mode:\n",
    "                if entity_num not in rob_modes:\n",
    "                    rob_modes[entity_num] = []\n",
    "                rob_modes[entity_num].append(mode)\n",
    "        \n",
    "        # Combine mode dictionaries into a list of tuples and add to result\n",
    "        vertex_res = []\n",
    "        for entity_num, modes in obj_modes.items():\n",
    "            vertex_res.append(str(tuple(modes)))\n",
    "        for entity_num, modes in rob_modes.items():\n",
    "            vertex_res.append(str(tuple(modes)))\n",
    "        res.append(vertex_res)\n",
    "    return res\n",
    "\n",
    "def split_vertex_name(vertex):\n",
    "    # Convert string representation of tuple to actual tuple\n",
    "    tuple_vertex = ast.literal_eval(vertex)\n",
    "    \n",
    "    # Initialize dictionaries to store modes for each obj and rob\n",
    "    obj_modes = {}\n",
    "    rob_modes = {}\n",
    "    \n",
    "    for mode in tuple_vertex:\n",
    "        # Check if mode contains both obj and rob\n",
    "        if 'obj' in mode and 'rob' in mode:\n",
    "            continue\n",
    "        \n",
    "        # Extract the entity number from the mode string\n",
    "        entity_num = find_obj_rob_numbers(mode)\n",
    "        # Add mode to appropriate dictionary\n",
    "        if 'obj' in mode:\n",
    "            if entity_num not in obj_modes:\n",
    "                obj_modes[entity_num] = []\n",
    "            obj_modes[entity_num].append(mode)\n",
    "        elif 'rob' in mode:\n",
    "            if entity_num not in rob_modes:\n",
    "                rob_modes[entity_num] = []\n",
    "            rob_modes[entity_num].append(mode)\n",
    "    \n",
    "    # Combine mode dictionaries into a list of tuples and add to result\n",
    "    vertex_res = []\n",
    "    for entity_num, modes in obj_modes.items():\n",
    "        vertex_res.append(str(tuple(modes)))\n",
    "    for entity_num, modes in rob_modes.items():\n",
    "        vertex_res.append(str(tuple(modes)))\n",
    "    return vertex_res\n",
    "\n",
    "# split_vertex_names(cg.vertex_names[:1])\n",
    "split_vertex_names(test_vertex_names)"
   ]
  },
  {
   "cell_type": "code",
   "execution_count": null,
   "metadata": {},
   "outputs": [],
   "source": [
    "for cfree_vs in split_vertex_names(cg.vertex_names[:100]):\n",
    "    for i, cfree_v in enumerate(cfree_vs):\n",
    "        res = cfree_v in cost_estimator._cfree_graphs[i].vertex_names\n",
    "        if not res:\n",
    "            print(f\"body{i}: {cfree_v} not in cfree_graph!\")\n",
    "        # print(f\"body{i}: {cfree_v} in cfree_graph: {res}\")"
   ]
  },
  {
   "cell_type": "code",
   "execution_count": null,
   "metadata": {},
   "outputs": [],
   "source": [
    "# fcfg.set_source(fcfg.vertex_names[1])\n",
    "# sol = fcfg.solve()\n",
    "# anim = fcfg.animate_solution()\n",
    "# HTML(anim.to_html5_video())"
   ]
  },
  {
   "cell_type": "code",
   "execution_count": null,
   "metadata": {},
   "outputs": [],
   "source": [
    "# for g in cost_estimator._collision_free_graphs:\n",
    "#     for v in g.vertex_names:\n",
    "#         if v == \"target\":\n",
    "#             continue\n",
    "#         g.set_source(v)\n",
    "#         sol = g.solve()\n",
    "#         print(f\"Reaching target from {v} succeeded: {sol.is_success}\")\n",
    "#         anim = g.animate_solution()\n",
    "#         display(HTML(anim.to_html5_video()))"
   ]
  },
  {
   "cell_type": "markdown",
   "metadata": {},
   "source": [
    "## Validating Combined Factored GCS"
   ]
  },
  {
   "cell_type": "code",
   "execution_count": null,
   "metadata": {},
   "outputs": [],
   "source": [
    "from large_gcs.graph.graph import Graph, ShortestPathSolution"
   ]
  },
  {
   "cell_type": "code",
   "execution_count": null,
   "metadata": {},
   "outputs": [],
   "source": [
    "cg = ContactGraph.load_from_file(ContactGraphGeneratorParams.graph_file_path_from_name(\"cg_trichal2\"))"
   ]
  },
  {
   "cell_type": "code",
   "execution_count": null,
   "metadata": {},
   "outputs": [],
   "source": [
    "# v_path = ['source',\n",
    "#  \"('NC|obs0_f0-obj0_v3', 'NC|obs0_f0-rob0_v1', 'NC|obj0_f3-rob0_v0')\",\n",
    "#  \"('NC|obs0_f0-obj0_v3', 'NC|obs0_f0-rob0_v1', 'IC|obj0_v0-rob0_f0')\",\n",
    "#  \"('NC|obs0_f0-obj0_v3', 'NC|obs0_f0-rob0_v1', 'IC|obj0_f0-rob0_v1')\",\n",
    "#  \"('NC|obs0_f1-obj0_f0', 'NC|obs0_f0-rob0_v1', 'IC|obj0_f1-rob0_f1')\",\n",
    "#  \"('IC|obs0_f1-obj0_f0', 'NC|obs0_f1-rob0_f2', 'IC|obj0_f1-rob0_f1')\",\n",
    "#  \"('NC|obs0_f2-obj0_f1', 'NC|obs0_f1-rob0_f2', 'IC|obj0_f2-rob0_f2')\",\n",
    "#  \"('NC|obs0_f2-obj0_f1', 'NC|obs0_f2-rob0_v0', 'IC|obj0_f2-rob0_f2')\",\n",
    "#  \"('NC|obs0_f2-obj0_f1', 'NC|obs0_f2-rob0_v0', 'NC|obj0_f3-rob0_v0')\",\n",
    "#  'target']\n",
    "# active_edges = [cg.edges[v_path[i], v_path[i+1]] for i in range(3)]\n",
    "# cost_estimator = FactoredCollisionFreeCE(cg, use_combined_gcs=True, obj_multiplier=100)\n",
    "# subgraph = Graph()\n",
    "# cost_estimator.estimate_cost(cg, cg.edges[v_path[0], v_path[1]], active_edges=active_edges, use_convex_relaxation=True)\n"
   ]
  }
 ],
 "metadata": {
  "kernelspec": {
   "display_name": ".venv",
   "language": "python",
   "name": "python3"
  },
  "language_info": {
   "codemirror_mode": {
    "name": "ipython",
    "version": 3
   },
   "file_extension": ".py",
   "mimetype": "text/x-python",
   "name": "python",
   "nbconvert_exporter": "python",
   "pygments_lexer": "ipython3",
   "version": "3.11.4"
  },
  "orig_nbformat": 4
 },
 "nbformat": 4,
 "nbformat_minor": 2
}
