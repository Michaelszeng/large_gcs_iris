{
 "cells": [
  {
   "cell_type": "code",
   "execution_count": 3,
   "metadata": {},
   "outputs": [
    {
     "name": "stderr",
     "output_type": "stream",
     "text": [
      "100%|██████████| 1/1 [00:00<00:00, 331.20it/s]\n",
      "100%|██████████| 4/4 [00:00<00:00, 4479.90it/s]\n",
      "100%|██████████| 6/6 [00:00<00:00, 32939.56it/s]\n",
      "100%|██████████| 6/6 [00:00<00:00, 21788.59it/s]\n",
      "100%|██████████| 11/11 [00:00<00:00, 39842.27it/s]\n",
      "100%|██████████| 11/11 [00:00<00:00, 22473.13it/s]\n",
      "100%|██████████| 11/11 [00:00<00:00, 22817.68it/s]\n"
     ]
    }
   ],
   "source": [
    "from large_gcs.graph.contact_graph import ContactGraph\n",
    "from large_gcs.graph_generators.contact_graph_generator import ContactGraphGeneratorParams\n",
    "\n",
    "\n",
    "graph_file = ContactGraphGeneratorParams.graph_file_path_from_name(\"cg_simple_1_1\")\n",
    "cg = ContactGraph.load_from_file(graph_file,\n",
    "                                 should_use_l1_norm_vertex_cost=True,)"
   ]
  },
  {
   "cell_type": "code",
   "execution_count": 8,
   "metadata": {},
   "outputs": [
    {
     "name": "stdout",
     "output_type": "stream",
     "text": [
      "Vertex(convex_set=<large_gcs.contact.contact_set.ContactSet object at 0x7757f8e3e380>, costs=[<pydrake.solvers.L1NormCost object at 0x77584d73c4b0>], constraints=[], gcs_vertex=<pydrake.geometry.optimization.GraphOfConvexSets.Vertex object at 0x77584c34efb0>)\n",
      "Edge(u=\"('NC|obs0_f1-rob0_f3',)\", v=\"('NC|obs0_f0-rob0_f2',)\", costs=[<pydrake.solvers.LinearCost object at 0x7757f854e4f0>], constraints=[<pydrake.solvers.LinearEqualityConstraint object at 0x77584df13e70>], gcs_edge=<pydrake.geometry.optimization.GraphOfConvexSets.Edge object at 0x77584efd9ff0>, key_suffix=None)\n",
      "Edge(u=\"('NC|obs0_f0-rob0_f2',)\", v=\"('NC|obs0_f1-rob0_f3',)\", costs=[<pydrake.solvers.LinearCost object at 0x77584c38abb0>], constraints=[<pydrake.solvers.LinearEqualityConstraint object at 0x7757f8528a30>], gcs_edge=<pydrake.geometry.optimization.GraphOfConvexSets.Edge object at 0x77584de97b30>, key_suffix=None)\n"
     ]
    }
   ],
   "source": [
    "v_name = cg.vertex_names[0]\n",
    "vertex = cg.vertices[v_name]\n",
    "incoming_edge = cg.incoming_edges(v_name)[0]\n",
    "outgoing_edge = cg.outgoing_edges(v_name)[0]\n",
    "print(vertex)\n",
    "print(incoming_edge)\n",
    "print(outgoing_edge)"
   ]
  },
  {
   "cell_type": "code",
   "execution_count": 25,
   "metadata": {},
   "outputs": [
    {
     "data": {
      "text/plain": [
       "<pydrake.solvers.L1NormCost at 0x77584d73c4b0>"
      ]
     },
     "execution_count": 25,
     "metadata": {},
     "output_type": "execute_result"
    }
   ],
   "source": [
    "vertex.costs[0]"
   ]
  },
  {
   "cell_type": "code",
   "execution_count": 19,
   "metadata": {},
   "outputs": [
    {
     "data": {
      "text/plain": [
       "[<pydrake.solvers.LinearCost at 0x7757f854e4f0>]"
      ]
     },
     "execution_count": 19,
     "metadata": {},
     "output_type": "execute_result"
    }
   ],
   "source": [
    "incoming_edge.costs"
   ]
  },
  {
   "cell_type": "code",
   "execution_count": 20,
   "metadata": {},
   "outputs": [
    {
     "data": {
      "text/plain": [
       "[<pydrake.solvers.LinearEqualityConstraint at 0x77584df13e70>]"
      ]
     },
     "execution_count": 20,
     "metadata": {},
     "output_type": "execute_result"
    }
   ],
   "source": [
    "incoming_edge.constraints"
   ]
  },
  {
   "cell_type": "code",
   "execution_count": 24,
   "metadata": {},
   "outputs": [
    {
     "name": "stderr",
     "output_type": "stream",
     "text": [
      "100%|██████████| 1/1 [00:00<00:00, 21290.88it/s]\n"
     ]
    }
   ],
   "source": [
    "from multiprocessing import Pool\n",
    "\n",
    "from tqdm import tqdm\n",
    "\n",
    "def process_triplet(inputs):\n",
    "    return None\n",
    "\n",
    "\n",
    "with Pool() as pool:\n",
    "    inputs = [(vertex.convex_set.set, cg.vertices[incoming_edge.u].convex_set.set, cg.vertices[outgoing_edge.v].convex_set.set)]\n",
    "    results = list(tqdm(pool.imap(process_triplet, inputs), total=len(inputs)))"
   ]
  },
  {
   "cell_type": "code",
   "execution_count": null,
   "metadata": {},
   "outputs": [],
   "source": []
  }
 ],
 "metadata": {
  "kernelspec": {
   "display_name": ".venv",
   "language": "python",
   "name": "python3"
  },
  "language_info": {
   "codemirror_mode": {
    "name": "ipython",
    "version": 3
   },
   "file_extension": ".py",
   "mimetype": "text/x-python",
   "name": "python",
   "nbconvert_exporter": "python",
   "pygments_lexer": "ipython3",
   "version": "3.10.12"
  }
 },
 "nbformat": 4,
 "nbformat_minor": 2
}
