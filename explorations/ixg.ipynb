{
 "cells": [
  {
   "cell_type": "markdown",
   "metadata": {},
   "source": [
    "Testing the lower bound graph"
   ]
  },
  {
   "cell_type": "code",
   "execution_count": 1,
   "metadata": {},
   "outputs": [
    {
     "name": "stdout",
     "output_type": "stream",
     "text": [
      "Set parameter Username\n",
      "Academic license - for non-commercial use only - expires 2025-06-05\n"
     ]
    },
    {
     "name": "stderr",
     "output_type": "stream",
     "text": [
      "100%|██████████| 1/1 [00:00<00:00, 120.44it/s]\n",
      "100%|██████████| 14/14 [00:00<00:00, 3375.31it/s]\n",
      "100%|██████████| 16/16 [00:00<00:00, 29654.82it/s]\n",
      "100%|██████████| 16/16 [00:00<00:00, 32624.63it/s]\n",
      "100%|██████████| 112/112 [00:00<00:00, 28432.52it/s]\n",
      "100%|██████████| 112/112 [00:00<00:00, 17989.59it/s]\n",
      "100%|██████████| 112/112 [00:00<00:00, 19167.70it/s]\n"
     ]
    },
    {
     "data": {
      "image/png": "[encoded data removed]",
      "text/plain": [
       "<Figure size 640x480 with 1 Axes>"
      ]
     },
     "metadata": {},
     "output_type": "display_data"
    }
   ],
   "source": [
    "from large_gcs.graph.contact_graph import ContactGraph\n",
    "from large_gcs.graph_generators.contact_graph_generator import ContactGraphGeneratorParams\n",
    "\n",
    "\n",
    "graph_file = ContactGraphGeneratorParams.graph_file_path_from_name(\n",
    "    \"cg_simple_3\"\n",
    ")\n",
    "cg = ContactGraph.load_from_file(\n",
    "    graph_file,\n",
    "    should_use_l1_norm_vertex_cost=True,\n",
    ")\n",
    "cg.plot()"
   ]
  },
  {
   "cell_type": "code",
   "execution_count": 2,
   "metadata": {},
   "outputs": [
    {
     "name": "stderr",
     "output_type": "stream",
     "text": [
      "Edge pairs: 100%|██████████| 30/30 [00:00<00:00, 2889.17it/s]\n",
      "Edge pairs: 100%|██████████| 30/30 [00:00<00:00, 3174.86it/s]\n",
      "Edge pairs: 100%|██████████| 30/30 [00:00<00:00, 3026.48it/s]\n",
      "Edge pairs: 100%|██████████| 30/30 [00:00<00:00, 3111.12it/s]\n",
      "Edge pairs: 100%|██████████| 30/30 [00:00<00:00, 2882.88it/s]\n",
      "Edge pairs: 100%|██████████| 30/30 [00:00<00:00, 2881.23it/s]\n",
      "Edge pairs: 100%|██████████| 30/30 [00:00<00:00, 2675.11it/s]\n",
      "Edge pairs: 100%|██████████| 81/81 [00:00<00:00, 2891.15it/s]\n",
      "Edge pairs: 100%|██████████| 72/72 [00:00<00:00, 2986.39it/s]\n",
      "Edge pairs: 100%|██████████| 72/72 [00:00<00:00, 2805.79it/s]\n",
      "Edge pairs: 100%|██████████| 81/81 [00:00<00:00, 2879.75it/s]\n",
      "Edge pairs: 100%|██████████| 100/100 [00:00<00:00, 2919.91it/s]\n",
      "Edge pairs: 100%|██████████| 90/90 [00:00<00:00, 2886.03it/s]\n",
      "Edge pairs: 100%|██████████| 100/100 [00:00<00:00, 2956.50it/s]\n",
      "Edge pairs: 0it [00:00, ?it/s]\n",
      "Edge pairs: 0it [00:00, ?it/s]\n",
      "Vertices: 100%|██████████| 16/16 [00:00<00:00, 53.91it/s]\n",
      "LBG Vertex pairs:   0%|          | 2/921403 [00:00<08:55, 1720.03it/s]\n",
      "Edges:   0%|          | 0/112 [00:00<?, ?it/s]\n"
     ]
    },
    {
     "ename": "SystemExit",
     "evalue": "Failure at bazel-out/k8-opt/bin/tools/install/libdrake/_virtual_includes/drake_shared_library/drake/geometry/optimization/convex_set.h:162 in PointInSet(): condition 'x.size() == ambient_dimension()' failed.",
     "output_type": "error",
     "traceback": [
      "An exception has occurred, use %tb to see the full traceback.\n",
      "\u001b[0;31mSystemExit\u001b[0m\u001b[0;31m:\u001b[0m Failure at bazel-out/k8-opt/bin/tools/install/libdrake/_virtual_includes/drake_shared_library/drake/geometry/optimization/convex_set.h:162 in PointInSet(): condition 'x.size() == ambient_dimension()' failed.\n"
     ]
    },
    {
     "name": "stderr",
     "output_type": "stream",
     "text": [
      "/home/shaoyuan/Documents/Software/large_gcs/.venv/lib/python3.10/site-packages/IPython/core/interactiveshell.py:3585: UserWarning: To exit: use 'exit', 'quit', or Ctrl-D.\n",
      "  warn(\"To exit: use 'exit', 'quit', or Ctrl-D.\", stacklevel=1)\n"
     ]
    }
   ],
   "source": [
    "from large_gcs.graph.lower_bound_graph import LowerBoundGraph\n",
    "\n",
    "\n",
    "lbg = LowerBoundGraph(cg)"
   ]
  },
  {
   "cell_type": "code",
   "execution_count": null,
   "metadata": {},
   "outputs": [],
   "source": []
  }
 ],
 "metadata": {
  "kernelspec": {
   "display_name": ".venv",
   "language": "python",
   "name": "python3"
  },
  "language_info": {
   "codemirror_mode": {
    "name": "ipython",
    "version": 3
   },
   "file_extension": ".py",
   "mimetype": "text/x-python",
   "name": "python",
   "nbconvert_exporter": "python",
   "pygments_lexer": "ipython3",
   "version": "3.10.12"
  }
 },
 "nbformat": 4,
 "nbformat_minor": 2
}
