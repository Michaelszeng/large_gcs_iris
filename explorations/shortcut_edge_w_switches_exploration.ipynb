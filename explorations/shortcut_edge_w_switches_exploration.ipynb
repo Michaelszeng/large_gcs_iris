{
 "cells": [
  {
   "cell_type": "code",
   "execution_count": 1,
   "metadata": {},
   "outputs": [],
   "source": [
    "import logging\n",
    "import ast\n",
    "from itertools import product\n",
    "from large_gcs.graph_generators.contact_graph_generator import (\n",
    "    ContactGraphGeneratorParams,\n",
    "    ContactGraphGenerator,\n",
    ")\n",
    "from large_gcs.algorithms.search_algorithm import AlgMetrics\n",
    "from large_gcs.graph.graph import Graph, Vertex, Edge\n",
    "from large_gcs.graph.incremental_contact_graph import IncrementalContactGraph\n",
    "from large_gcs.graph.contact_graph import ContactGraph\n",
    "from large_gcs.graph.contact_cost_constraint_factory import (\n",
    "    contact_shortcut_edge_l2norm_cost_factory_obj_weighted,\n",
    "    contact_shortcut_edge_l2norm_cost_factory_obj_weighted,\n",
    ")\n",
    "from large_gcs.cost_estimators.shortcut_edge_ce import ShortcutEdgeCE\n",
    "\n",
    "from large_gcs.contact.contact_regions_set import ContactRegionParams\n",
    "\n",
    "import numpy as np\n",
    "from copy import deepcopy\n",
    "from IPython.display import HTML\n",
    "\n",
    "\n",
    "np.set_printoptions(formatter={\"float\": lambda x: \"{0:0.3f}\".format(x)})\n",
    "logging.basicConfig(level=logging.INFO)\n",
    "logging.getLogger(\"large_gcs\").setLevel(logging.INFO)\n",
    "logging.getLogger(\"drake\").setLevel(logging.WARNING)"
   ]
  },
  {
   "cell_type": "code",
   "execution_count": 16,
   "metadata": {},
   "outputs": [
    {
     "name": "stderr",
     "output_type": "stream",
     "text": [
      "INFO:large_gcs.graph.contact_graph:Creating vertex costs...\n",
      "100%|██████████| 2/2 [00:00<00:00, 7928.74it/s]\n",
      "INFO:large_gcs.graph.graph:Adding 2 vertices to graph...\n",
      "100%|██████████| 2/2 [00:00<00:00, 20213.51it/s]\n",
      "INFO:large_gcs.graph.contact_graph:Generating contact pair modes for 3 body pairs...\n",
      "100%|██████████| 3/3 [00:00<00:00, 43.43it/s]\n",
      "INFO:large_gcs.graph.incremental_contact_graph:Calculating adjacent contact pair modes (100)\n",
      "100%|██████████| 100/100 [00:03<00:00, 31.98it/s]\n"
     ]
    },
    {
     "data": {
      "text/plain": [
       "{'IC|obs0_f2-obj0_f1', 'NC|obs0_f2-obj0_f1'}"
      ]
     },
     "execution_count": 16,
     "metadata": {},
     "output_type": "execute_result"
    }
   ],
   "source": [
    "base_name = \"cg_trichal4\"\n",
    "cg_inc = IncrementalContactGraph.load_from_file(\n",
    "    ContactGraphGeneratorParams.inc_graph_file_path_from_name(base_name),\n",
    "    should_incl_simul_mode_switches=False,\n",
    "    should_add_const_edge_cost=True,\n",
    "    should_add_gcs=True,\n",
    "    should_use_l1_norm_vertex_cost=True,\n",
    ")\n",
    "cg_inc._modes_w_possible_edge_to_target"
   ]
  },
  {
   "cell_type": "code",
   "execution_count": 17,
   "metadata": {},
   "outputs": [
    {
     "data": {
      "image/png": "[encoded data removed]",
      "text/plain": [
       "<Figure size 640x480 with 1 Axes>"
      ]
     },
     "metadata": {},
     "output_type": "display_data"
    }
   ],
   "source": [
    "cg_inc.plot()"
   ]
  },
  {
   "cell_type": "code",
   "execution_count": 8,
   "metadata": {},
   "outputs": [
    {
     "name": "stdout",
     "output_type": "stream",
     "text": [
      "0 modes not adj to target for source\n",
      "1 modes not adj to target for ('NC|obs0_f0-obj0_v3', 'NC|obs0_f0-rob0_v1', 'NC|obj0_f3-rob0_v0')\n",
      "1 modes not adj to target for ('NC|obs0_f0-obj0_v3', 'NC|obs0_f0-rob0_v1', 'NC|obj0_f2-rob0_f2')\n",
      "1 modes not adj to target for ('NC|obs0_f0-obj0_v3', 'NC|obs0_f0-rob0_v1', 'IC|obj0_f1-rob0_f1')\n",
      "1 modes not adj to target for ('IC|obs0_f0-obj0_v3', 'NC|obs0_f0-rob0_v1', 'IC|obj0_f1-rob0_f1')\n",
      "1 modes not adj to target for ('IC|obs0_v0-obj0_f2', 'NC|obs0_f0-rob0_v1', 'IC|obj0_f1-rob0_f1')\n",
      "0 modes not adj to target for ('IC|obs0_f2-obj0_f1', 'NC|obs0_f0-rob0_v1', 'IC|obj0_f1-rob0_f1')\n",
      "0 modes not adj to target for ('IC|obs0_f2-obj0_f1', 'NC|obs0_f0-rob0_v1', 'IC|obj0_f0-rob0_v1')\n",
      "0 modes not adj to target for ('IC|obs0_f2-obj0_f1', 'NC|obs0_v0-rob0_f0', 'IC|obj0_f0-rob0_v1')\n",
      "0 modes not adj to target for target\n"
     ]
    }
   ],
   "source": [
    "# This vertex path is a solution\n",
    "vertex_path=['source', \"('NC|obs0_f0-obj0_v3', 'NC|obs0_f0-rob0_v1', 'NC|obj0_f3-rob0_v0')\", \"('NC|obs0_f0-obj0_v3', 'NC|obs0_f0-rob0_v1', 'NC|obj0_f2-rob0_f2')\", \"('NC|obs0_f0-obj0_v3', 'NC|obs0_f0-rob0_v1', 'IC|obj0_f1-rob0_f1')\", \"('IC|obs0_f0-obj0_v3', 'NC|obs0_f0-rob0_v1', 'IC|obj0_f1-rob0_f1')\", \"('IC|obs0_v0-obj0_f2', 'NC|obs0_f0-rob0_v1', 'IC|obj0_f1-rob0_f1')\", \"('IC|obs0_f2-obj0_f1', 'NC|obs0_f0-rob0_v1', 'IC|obj0_f1-rob0_f1')\", \"('IC|obs0_f2-obj0_f1', 'NC|obs0_f0-rob0_v1', 'IC|obj0_f0-rob0_v1')\", \"('IC|obs0_f2-obj0_f1', 'NC|obs0_v0-rob0_f0', 'IC|obj0_f0-rob0_v1')\", 'target']\n",
    "for v_name in vertex_path:\n",
    "    print(f\"{cg_inc.num_modes_not_adj_to_target(v_name)} modes not adj to target for {v_name}\")"
   ]
  },
  {
   "cell_type": "code",
   "execution_count": 18,
   "metadata": {},
   "outputs": [
    {
     "data": {
      "text/plain": [
       "{('obs0', 'obj0'): ['IC|obs0_f1-obj0_f0',\n",
       "  'IC|obs0_f2-obj0_f1',\n",
       "  'IC|obs0_f0-obj0_v3',\n",
       "  'IC|obs0_v0-obj0_f2',\n",
       "  'IC|obs0_v1-obj0_f3',\n",
       "  'NC|obs0_f1-obj0_f0',\n",
       "  'NC|obs0_f2-obj0_f1',\n",
       "  'NC|obs0_f0-obj0_v3',\n",
       "  'NC|obs0_v0-obj0_f2',\n",
       "  'NC|obs0_v1-obj0_f3'],\n",
       " ('obs0', 'rob0'): ['NC|obs0_f1-rob0_f2',\n",
       "  'NC|obs0_f0-rob0_v1',\n",
       "  'NC|obs0_f2-rob0_v0',\n",
       "  'NC|obs0_v0-rob0_f0',\n",
       "  'NC|obs0_v1-rob0_f1'],\n",
       " ('obj0', 'rob0'): ['IC|obj0_f1-rob0_f1',\n",
       "  'IC|obj0_f2-rob0_f2',\n",
       "  'IC|obj0_f0-rob0_v1',\n",
       "  'IC|obj0_f3-rob0_v0',\n",
       "  'IC|obj0_v0-rob0_f0',\n",
       "  'NC|obj0_f1-rob0_f1',\n",
       "  'NC|obj0_f2-rob0_f2',\n",
       "  'NC|obj0_f0-rob0_v1',\n",
       "  'NC|obj0_f3-rob0_v0',\n",
       "  'NC|obj0_v0-rob0_f0']}"
      ]
     },
     "execution_count": 18,
     "metadata": {},
     "output_type": "execute_result"
    }
   ],
   "source": [
    "cg_inc._body_pair_to_mode_ids"
   ]
  },
  {
   "cell_type": "code",
   "execution_count": 9,
   "metadata": {},
   "outputs": [
    {
     "name": "stderr",
     "output_type": "stream",
     "text": [
      "INFO:large_gcs.graph.contact_graph:Creating vertex costs...\n",
      "100%|██████████| 2/2 [00:00<00:00, 8097.11it/s]\n",
      "INFO:large_gcs.graph.graph:Adding 2 vertices to graph...\n",
      "100%|██████████| 2/2 [00:00<00:00, 18517.90it/s]\n",
      "INFO:large_gcs.graph.contact_graph:Generating contact pair modes for 10 body pairs...\n",
      "100%|██████████| 10/10 [00:00<00:00, 40.30it/s]\n",
      "INFO:large_gcs.graph.incremental_contact_graph:Calculating adjacent contact pair modes (313)\n",
      "100%|██████████| 313/313 [00:03<00:00, 98.44it/s] \n"
     ]
    },
    {
     "data": {
      "text/plain": [
       "{'IC|obs0_f0-obj0_f2',\n",
       " 'IC|obs0_f0-obj1_f2',\n",
       " 'IC|obs0_f0-obj2_f2',\n",
       " 'IC|obs0_f1-obj0_f3',\n",
       " 'IC|obs0_f1-obj1_f3',\n",
       " 'IC|obs0_f1-obj2_f3',\n",
       " 'NC|obs0_f0-obj0_f2',\n",
       " 'NC|obs0_f0-obj1_f2',\n",
       " 'NC|obs0_f0-obj2_f2',\n",
       " 'NC|obs0_f1-obj0_f3',\n",
       " 'NC|obs0_f1-obj1_f3',\n",
       " 'NC|obs0_f1-obj2_f3'}"
      ]
     },
     "execution_count": 9,
     "metadata": {},
     "output_type": "execute_result"
    }
   ],
   "source": [
    "base_name = \"cg_stackpush_d2\"\n",
    "cg_inc = IncrementalContactGraph.load_from_file(\n",
    "    ContactGraphGeneratorParams.inc_graph_file_path_from_name(base_name),\n",
    "    should_incl_simul_mode_switches=False,\n",
    "    should_add_const_edge_cost=True,\n",
    "    should_add_gcs=True,\n",
    "    should_use_l1_norm_vertex_cost=True,\n",
    ")\n",
    "cg_inc._modes_w_possible_edge_to_target"
   ]
  },
  {
   "cell_type": "code",
   "execution_count": 10,
   "metadata": {},
   "outputs": [
    {
     "name": "stdout",
     "output_type": "stream",
     "text": [
      "0 modes not adj to target for source\n",
      "3 modes not adj to target for ('NC|obs0_f3-obj0_v1', 'NC|obs0_f3-obj1_v1', 'NC|obs0_f3-obj2_v1', 'NC|obs0_f0-rob0_f2', 'NC|obj0_f1-obj1_f3', 'NC|obj0_f1-obj2_f3', 'NC|obj0_f0-rob0_f2', 'NC|obj1_f1-obj2_f3', 'NC|obj1_f0-rob0_f2', 'NC|obj2_f0-rob0_f2')\n",
      "3 modes not adj to target for ('NC|obs0_f3-obj0_v1', 'NC|obs0_f3-obj1_v1', 'NC|obs0_f3-obj2_v1', 'NC|obs0_f3-rob0_v1', 'NC|obj0_f1-obj1_f3', 'NC|obj0_f1-obj2_f3', 'NC|obj0_f0-rob0_f2', 'NC|obj1_f1-obj2_f3', 'NC|obj1_f0-rob0_f2', 'NC|obj2_f0-rob0_f2')\n",
      "3 modes not adj to target for ('NC|obs0_f3-obj0_v1', 'NC|obs0_f3-obj1_v1', 'NC|obs0_f3-obj2_v1', 'NC|obs0_f3-rob0_v1', 'NC|obj0_f1-obj1_f3', 'NC|obj0_f1-obj2_f3', 'IC|obj0_f3-rob0_f1', 'NC|obj1_f1-obj2_f3', 'NC|obj1_f0-rob0_f2', 'NC|obj2_f0-rob0_f2')\n",
      "3 modes not adj to target for ('IC|obs0_f3-obj0_v1', 'NC|obs0_f3-obj1_v1', 'NC|obs0_f3-obj2_v1', 'NC|obs0_f3-rob0_v1', 'NC|obj0_f1-obj1_f3', 'NC|obj0_f1-obj2_f3', 'IC|obj0_f3-rob0_f1', 'NC|obj1_f1-obj2_f3', 'NC|obj1_f0-rob0_f2', 'NC|obj2_f0-rob0_f2')\n",
      "3 modes not adj to target for ('IC|obs0_f3-obj0_v1', 'NC|obs0_f3-obj1_v1', 'NC|obs0_f3-obj2_v1', 'NC|obs0_f3-rob0_v1', 'IC|obj0_f1-obj1_f3', 'NC|obj0_f1-obj2_f3', 'IC|obj0_f3-rob0_f1', 'NC|obj1_f1-obj2_f3', 'NC|obj1_f0-rob0_f2', 'NC|obj2_f0-rob0_f2')\n",
      "3 modes not adj to target for ('IC|obs0_f3-obj0_v1', 'IC|obs0_f3-obj1_v1', 'NC|obs0_f3-obj2_v1', 'NC|obs0_f3-rob0_v1', 'IC|obj0_f1-obj1_f3', 'NC|obj0_f1-obj2_f3', 'IC|obj0_f3-rob0_f1', 'NC|obj1_f1-obj2_f3', 'NC|obj1_f0-rob0_f2', 'NC|obj2_f0-rob0_f2')\n",
      "3 modes not adj to target for ('IC|obs0_f3-obj0_v1', 'IC|obs0_f3-obj1_v1', 'NC|obs0_f3-obj2_v1', 'NC|obs0_f3-rob0_v1', 'IC|obj0_f1-obj1_f3', 'NC|obj0_f1-obj2_f3', 'IC|obj0_f3-rob0_f1', 'IC|obj1_f1-obj2_f3', 'NC|obj1_f0-rob0_f2', 'NC|obj2_f0-rob0_f2')\n",
      "3 modes not adj to target for ('IC|obs0_f3-obj0_v1', 'IC|obs0_f3-obj1_v1', 'IC|obs0_f3-obj2_v1', 'NC|obs0_f3-rob0_v1', 'IC|obj0_f1-obj1_f3', 'NC|obj0_f1-obj2_f3', 'IC|obj0_f3-rob0_f1', 'IC|obj1_f1-obj2_f3', 'NC|obj1_f0-rob0_f2', 'NC|obj2_f0-rob0_f2')\n",
      "3 modes not adj to target for ('IC|obs0_f3-obj0_v1', 'IC|obs0_f3-obj1_v1', 'IC|obs0_f2-obj2_f0', 'NC|obs0_f3-rob0_v1', 'IC|obj0_f1-obj1_f3', 'NC|obj0_f1-obj2_f3', 'IC|obj0_f3-rob0_f1', 'IC|obj1_f1-obj2_f3', 'NC|obj1_f0-rob0_f2', 'NC|obj2_f0-rob0_f2')\n",
      "3 modes not adj to target for ('IC|obs0_f3-obj0_v1', 'NC|obs0_f2-obj1_f0', 'IC|obs0_f2-obj2_f0', 'NC|obs0_f3-rob0_v1', 'IC|obj0_f1-obj1_f3', 'NC|obj0_f1-obj2_f3', 'IC|obj0_f3-rob0_f1', 'IC|obj1_f1-obj2_f3', 'NC|obj1_f0-rob0_f2', 'NC|obj2_f0-rob0_f2')\n",
      "2 modes not adj to target for ('IC|obs0_f3-obj0_v1', 'NC|obs0_f2-obj1_f0', 'NC|obs0_f1-obj2_f3', 'NC|obs0_f3-rob0_v1', 'IC|obj0_f1-obj1_f3', 'NC|obj0_f1-obj2_f3', 'IC|obj0_f3-rob0_f1', 'IC|obj1_f1-obj2_f3', 'NC|obj1_f0-rob0_f2', 'NC|obj2_f0-rob0_f2')\n",
      "2 modes not adj to target for ('NC|obs0_f2-obj0_f0', 'NC|obs0_f2-obj1_f0', 'NC|obs0_f1-obj2_f3', 'NC|obs0_f3-rob0_v1', 'IC|obj0_f1-obj1_f3', 'NC|obj0_f1-obj2_f3', 'IC|obj0_f3-rob0_f1', 'IC|obj1_f1-obj2_f3', 'NC|obj1_f0-rob0_f2', 'NC|obj2_f0-rob0_f2')\n",
      "2 modes not adj to target for ('NC|obs0_f2-obj0_f0', 'NC|obs0_f2-obj1_f0', 'NC|obs0_f1-obj2_f3', 'NC|obs0_f3-rob0_v1', 'IC|obj0_f1-obj1_f3', 'NC|obj0_f1-obj2_f3', 'IC|obj0_f3-rob0_f1', 'IC|obj1_f1-obj2_f3', 'NC|obj1_f3-rob0_f1', 'NC|obj2_f0-rob0_f2')\n",
      "2 modes not adj to target for ('NC|obs0_f2-obj0_f0', 'NC|obs0_f2-obj1_f0', 'NC|obs0_f1-obj2_f3', 'NC|obs0_f3-rob0_v1', 'IC|obj0_f1-obj1_f3', 'NC|obj0_f1-obj2_f3', 'IC|obj0_f3-rob0_f1', 'IC|obj1_f1-obj2_f3', 'NC|obj1_f3-rob0_f1', 'NC|obj2_f3-rob0_f1')\n",
      "1 modes not adj to target for ('IC|obs0_f1-obj0_f3', 'NC|obs0_f2-obj1_f0', 'NC|obs0_f1-obj2_f3', 'NC|obs0_f3-rob0_v1', 'IC|obj0_f1-obj1_f3', 'NC|obj0_f1-obj2_f3', 'IC|obj0_f3-rob0_f1', 'IC|obj1_f1-obj2_f3', 'NC|obj1_f3-rob0_f1', 'NC|obj2_f3-rob0_f1')\n",
      "1 modes not adj to target for ('IC|obs0_f1-obj0_f3', 'NC|obs0_f2-obj1_f0', 'NC|obs0_f1-obj2_f3', 'NC|obs0_f3-rob0_v1', 'IC|obj0_f1-obj1_f3', 'NC|obj0_f1-obj2_f3', 'IC|obj0_f2-rob0_f0', 'IC|obj1_f1-obj2_f3', 'NC|obj1_f3-rob0_f1', 'NC|obj2_f3-rob0_f1')\n",
      "1 modes not adj to target for ('IC|obs0_f1-obj0_f3', 'NC|obs0_f2-obj1_f0', 'NC|obs0_f1-obj2_f3', 'NC|obs0_f2-rob0_f0', 'IC|obj0_f1-obj1_f3', 'NC|obj0_f1-obj2_f3', 'IC|obj0_f2-rob0_f0', 'IC|obj1_f1-obj2_f3', 'NC|obj1_f3-rob0_f1', 'NC|obj2_f3-rob0_f1')\n",
      "0 modes not adj to target for ('IC|obs0_f1-obj0_f3', 'NC|obs0_f1-obj1_f3', 'NC|obs0_f1-obj2_f3', 'NC|obs0_f2-rob0_f0', 'IC|obj0_f1-obj1_f3', 'NC|obj0_f1-obj2_f3', 'IC|obj0_f2-rob0_f0', 'IC|obj1_f1-obj2_f3', 'NC|obj1_f3-rob0_f1', 'NC|obj2_f3-rob0_f1')\n",
      "0 modes not adj to target for ('IC|obs0_f1-obj0_f3', 'NC|obs0_f1-obj1_f3', 'NC|obs0_f1-obj2_f3', 'NC|obs0_f2-rob0_f0', 'IC|obj0_f1-obj1_f3', 'NC|obj0_f1-obj2_f3', 'IC|obj0_f2-rob0_f0', 'IC|obj1_f1-obj2_f3', 'IC|obj1_f2-rob0_f0', 'NC|obj2_f3-rob0_f1')\n",
      "0 modes not adj to target for ('IC|obs0_f1-obj0_f3', 'NC|obs0_f1-obj1_f3', 'NC|obs0_f1-obj2_f3', 'NC|obs0_f2-rob0_f0', 'IC|obj0_f1-obj1_f3', 'NC|obj0_f1-obj2_f3', 'IC|obj0_f2-rob0_f0', 'IC|obj1_f1-obj2_f3', 'IC|obj1_f2-rob0_f0', 'IC|obj2_f2-rob0_f0')\n",
      "0 modes not adj to target for ('IC|obs0_f1-obj0_f3', 'NC|obs0_f1-obj1_f3', 'NC|obs0_f1-obj2_f3', 'NC|obs0_f1-rob0_f3', 'IC|obj0_f1-obj1_f3', 'NC|obj0_f1-obj2_f3', 'IC|obj0_f2-rob0_f0', 'IC|obj1_f1-obj2_f3', 'IC|obj1_f2-rob0_f0', 'IC|obj2_f2-rob0_f0')\n",
      "0 modes not adj to target for target\n"
     ]
    }
   ],
   "source": [
    "vertex_path = [\"source\",\"('NC|obs0_f3-obj0_v1', 'NC|obs0_f3-obj1_v1', 'NC|obs0_f3-obj2_v1', 'NC|obs0_f0-rob0_f2', 'NC|obj0_f1-obj1_f3', 'NC|obj0_f1-obj2_f3', 'NC|obj0_f0-rob0_f2', 'NC|obj1_f1-obj2_f3', 'NC|obj1_f0-rob0_f2', 'NC|obj2_f0-rob0_f2')\",\"('NC|obs0_f3-obj0_v1', 'NC|obs0_f3-obj1_v1', 'NC|obs0_f3-obj2_v1', 'NC|obs0_f3-rob0_v1', 'NC|obj0_f1-obj1_f3', 'NC|obj0_f1-obj2_f3', 'NC|obj0_f0-rob0_f2', 'NC|obj1_f1-obj2_f3', 'NC|obj1_f0-rob0_f2', 'NC|obj2_f0-rob0_f2')\",\"('NC|obs0_f3-obj0_v1', 'NC|obs0_f3-obj1_v1', 'NC|obs0_f3-obj2_v1', 'NC|obs0_f3-rob0_v1', 'NC|obj0_f1-obj1_f3', 'NC|obj0_f1-obj2_f3', 'IC|obj0_f3-rob0_f1', 'NC|obj1_f1-obj2_f3', 'NC|obj1_f0-rob0_f2', 'NC|obj2_f0-rob0_f2')\",\"('IC|obs0_f3-obj0_v1', 'NC|obs0_f3-obj1_v1', 'NC|obs0_f3-obj2_v1', 'NC|obs0_f3-rob0_v1', 'NC|obj0_f1-obj1_f3', 'NC|obj0_f1-obj2_f3', 'IC|obj0_f3-rob0_f1', 'NC|obj1_f1-obj2_f3', 'NC|obj1_f0-rob0_f2', 'NC|obj2_f0-rob0_f2')\",\"('IC|obs0_f3-obj0_v1', 'NC|obs0_f3-obj1_v1', 'NC|obs0_f3-obj2_v1', 'NC|obs0_f3-rob0_v1', 'IC|obj0_f1-obj1_f3', 'NC|obj0_f1-obj2_f3', 'IC|obj0_f3-rob0_f1', 'NC|obj1_f1-obj2_f3', 'NC|obj1_f0-rob0_f2', 'NC|obj2_f0-rob0_f2')\",\"('IC|obs0_f3-obj0_v1', 'IC|obs0_f3-obj1_v1', 'NC|obs0_f3-obj2_v1', 'NC|obs0_f3-rob0_v1', 'IC|obj0_f1-obj1_f3', 'NC|obj0_f1-obj2_f3', 'IC|obj0_f3-rob0_f1', 'NC|obj1_f1-obj2_f3', 'NC|obj1_f0-rob0_f2', 'NC|obj2_f0-rob0_f2')\",\"('IC|obs0_f3-obj0_v1', 'IC|obs0_f3-obj1_v1', 'NC|obs0_f3-obj2_v1', 'NC|obs0_f3-rob0_v1', 'IC|obj0_f1-obj1_f3', 'NC|obj0_f1-obj2_f3', 'IC|obj0_f3-rob0_f1', 'IC|obj1_f1-obj2_f3', 'NC|obj1_f0-rob0_f2', 'NC|obj2_f0-rob0_f2')\",\"('IC|obs0_f3-obj0_v1', 'IC|obs0_f3-obj1_v1', 'IC|obs0_f3-obj2_v1', 'NC|obs0_f3-rob0_v1', 'IC|obj0_f1-obj1_f3', 'NC|obj0_f1-obj2_f3', 'IC|obj0_f3-rob0_f1', 'IC|obj1_f1-obj2_f3', 'NC|obj1_f0-rob0_f2', 'NC|obj2_f0-rob0_f2')\",\"('IC|obs0_f3-obj0_v1', 'IC|obs0_f3-obj1_v1', 'IC|obs0_f2-obj2_f0', 'NC|obs0_f3-rob0_v1', 'IC|obj0_f1-obj1_f3', 'NC|obj0_f1-obj2_f3', 'IC|obj0_f3-rob0_f1', 'IC|obj1_f1-obj2_f3', 'NC|obj1_f0-rob0_f2', 'NC|obj2_f0-rob0_f2')\",\"('IC|obs0_f3-obj0_v1', 'NC|obs0_f2-obj1_f0', 'IC|obs0_f2-obj2_f0', 'NC|obs0_f3-rob0_v1', 'IC|obj0_f1-obj1_f3', 'NC|obj0_f1-obj2_f3', 'IC|obj0_f3-rob0_f1', 'IC|obj1_f1-obj2_f3', 'NC|obj1_f0-rob0_f2', 'NC|obj2_f0-rob0_f2')\",\"('IC|obs0_f3-obj0_v1', 'NC|obs0_f2-obj1_f0', 'NC|obs0_f1-obj2_f3', 'NC|obs0_f3-rob0_v1', 'IC|obj0_f1-obj1_f3', 'NC|obj0_f1-obj2_f3', 'IC|obj0_f3-rob0_f1', 'IC|obj1_f1-obj2_f3', 'NC|obj1_f0-rob0_f2', 'NC|obj2_f0-rob0_f2')\",\"('NC|obs0_f2-obj0_f0', 'NC|obs0_f2-obj1_f0', 'NC|obs0_f1-obj2_f3', 'NC|obs0_f3-rob0_v1', 'IC|obj0_f1-obj1_f3', 'NC|obj0_f1-obj2_f3', 'IC|obj0_f3-rob0_f1', 'IC|obj1_f1-obj2_f3', 'NC|obj1_f0-rob0_f2', 'NC|obj2_f0-rob0_f2')\",\"('NC|obs0_f2-obj0_f0', 'NC|obs0_f2-obj1_f0', 'NC|obs0_f1-obj2_f3', 'NC|obs0_f3-rob0_v1', 'IC|obj0_f1-obj1_f3', 'NC|obj0_f1-obj2_f3', 'IC|obj0_f3-rob0_f1', 'IC|obj1_f1-obj2_f3', 'NC|obj1_f3-rob0_f1', 'NC|obj2_f0-rob0_f2')\",\"('NC|obs0_f2-obj0_f0', 'NC|obs0_f2-obj1_f0', 'NC|obs0_f1-obj2_f3', 'NC|obs0_f3-rob0_v1', 'IC|obj0_f1-obj1_f3', 'NC|obj0_f1-obj2_f3', 'IC|obj0_f3-rob0_f1', 'IC|obj1_f1-obj2_f3', 'NC|obj1_f3-rob0_f1', 'NC|obj2_f3-rob0_f1')\",\"('IC|obs0_f1-obj0_f3', 'NC|obs0_f2-obj1_f0', 'NC|obs0_f1-obj2_f3', 'NC|obs0_f3-rob0_v1', 'IC|obj0_f1-obj1_f3', 'NC|obj0_f1-obj2_f3', 'IC|obj0_f3-rob0_f1', 'IC|obj1_f1-obj2_f3', 'NC|obj1_f3-rob0_f1', 'NC|obj2_f3-rob0_f1')\",\"('IC|obs0_f1-obj0_f3', 'NC|obs0_f2-obj1_f0', 'NC|obs0_f1-obj2_f3', 'NC|obs0_f3-rob0_v1', 'IC|obj0_f1-obj1_f3', 'NC|obj0_f1-obj2_f3', 'IC|obj0_f2-rob0_f0', 'IC|obj1_f1-obj2_f3', 'NC|obj1_f3-rob0_f1', 'NC|obj2_f3-rob0_f1')\",\"('IC|obs0_f1-obj0_f3', 'NC|obs0_f2-obj1_f0', 'NC|obs0_f1-obj2_f3', 'NC|obs0_f2-rob0_f0', 'IC|obj0_f1-obj1_f3', 'NC|obj0_f1-obj2_f3', 'IC|obj0_f2-rob0_f0', 'IC|obj1_f1-obj2_f3', 'NC|obj1_f3-rob0_f1', 'NC|obj2_f3-rob0_f1')\",\"('IC|obs0_f1-obj0_f3', 'NC|obs0_f1-obj1_f3', 'NC|obs0_f1-obj2_f3', 'NC|obs0_f2-rob0_f0', 'IC|obj0_f1-obj1_f3', 'NC|obj0_f1-obj2_f3', 'IC|obj0_f2-rob0_f0', 'IC|obj1_f1-obj2_f3', 'NC|obj1_f3-rob0_f1', 'NC|obj2_f3-rob0_f1')\",\"('IC|obs0_f1-obj0_f3', 'NC|obs0_f1-obj1_f3', 'NC|obs0_f1-obj2_f3', 'NC|obs0_f2-rob0_f0', 'IC|obj0_f1-obj1_f3', 'NC|obj0_f1-obj2_f3', 'IC|obj0_f2-rob0_f0', 'IC|obj1_f1-obj2_f3', 'IC|obj1_f2-rob0_f0', 'NC|obj2_f3-rob0_f1')\",\"('IC|obs0_f1-obj0_f3', 'NC|obs0_f1-obj1_f3', 'NC|obs0_f1-obj2_f3', 'NC|obs0_f2-rob0_f0', 'IC|obj0_f1-obj1_f3', 'NC|obj0_f1-obj2_f3', 'IC|obj0_f2-rob0_f0', 'IC|obj1_f1-obj2_f3', 'IC|obj1_f2-rob0_f0', 'IC|obj2_f2-rob0_f0')\",\"('IC|obs0_f1-obj0_f3', 'NC|obs0_f1-obj1_f3', 'NC|obs0_f1-obj2_f3', 'NC|obs0_f1-rob0_f3', 'IC|obj0_f1-obj1_f3', 'NC|obj0_f1-obj2_f3', 'IC|obj0_f2-rob0_f0', 'IC|obj1_f1-obj2_f3', 'IC|obj1_f2-rob0_f0', 'IC|obj2_f2-rob0_f0')\",\"target\"]\n",
    "for v_name in vertex_path:\n",
    "    print(f\"{cg_inc.num_modes_not_adj_to_target(v_name)} modes not adj to target for {v_name}\")"
   ]
  },
  {
   "cell_type": "code",
   "execution_count": 11,
   "metadata": {},
   "outputs": [
    {
     "name": "stderr",
     "output_type": "stream",
     "text": [
      "INFO:large_gcs.graph.contact_graph:Creating vertex costs...\n",
      "100%|██████████| 2/2 [00:00<00:00, 4609.13it/s]\n",
      "INFO:large_gcs.graph.graph:Adding 2 vertices to graph...\n",
      "100%|██████████| 2/2 [00:00<00:00, 8330.30it/s]\n",
      "INFO:large_gcs.graph.contact_graph:Generating contact pair modes for 3 body pairs...\n",
      "100%|██████████| 3/3 [00:00<00:00, 37.61it/s]\n",
      "INFO:large_gcs.graph.incremental_contact_graph:Calculating adjacent contact pair modes (151)\n",
      "100%|██████████| 151/151 [00:03<00:00, 47.79it/s]\n"
     ]
    },
    {
     "data": {
      "text/plain": [
       "{'NC|obs0_f2-obj0_v1', 'NC|obs0_v0-obj0_f1'}"
      ]
     },
     "execution_count": 11,
     "metadata": {},
     "output_type": "execute_result"
    }
   ],
   "source": [
    "base_name = \"cg_maze_b1\"\n",
    "cg_inc = IncrementalContactGraph.load_from_file(\n",
    "    ContactGraphGeneratorParams.inc_graph_file_path_from_name(base_name),\n",
    "    should_incl_simul_mode_switches=False,\n",
    "    should_add_const_edge_cost=True,\n",
    "    should_add_gcs=True,\n",
    "    should_use_l1_norm_vertex_cost=True,\n",
    ")\n",
    "cg_inc._modes_w_possible_edge_to_target"
   ]
  },
  {
   "cell_type": "code",
   "execution_count": 12,
   "metadata": {},
   "outputs": [
    {
     "name": "stdout",
     "output_type": "stream",
     "text": [
      "0 modes not adj to target for source\n",
      "1 modes not adj to target for ('NC|obs0_f0-obj0_v3', 'NC|obs0_f1-rob0_v0', 'NC|obj0_f2-rob0_f2')\n",
      "1 modes not adj to target for ('NC|obs0_f0-obj0_v3', 'NC|obs0_f1-rob0_v0', 'NC|obj0_f1-rob0_f1')\n",
      "1 modes not adj to target for ('NC|obs0_f0-obj0_v3', 'NC|obs0_v1-rob0_f1', 'NC|obj0_f1-rob0_f1')\n",
      "1 modes not adj to target for ('NC|obs0_f0-obj0_v3', 'NC|obs0_f0-rob0_v1', 'NC|obj0_f1-rob0_f1')\n",
      "1 modes not adj to target for ('NC|obs0_f0-obj0_v3', 'NC|obs0_f0-rob0_v1', 'IC|obj0_f2-rob0_f2')\n",
      "1 modes not adj to target for ('NC|obs0_f0-obj0_v3', 'NC|obs0_f0-rob0_v1', 'IC|obj0_f1-rob0_f1')\n",
      "1 modes not adj to target for ('NC|obs0_v0-obj0_f2', 'NC|obs0_f0-rob0_v1', 'IC|obj0_f1-rob0_f1')\n",
      "1 modes not adj to target for ('NC|obs0_v0-obj0_f2', 'NC|obs0_v0-rob0_f0', 'IC|obj0_f1-rob0_f1')\n",
      "1 modes not adj to target for ('NC|obs0_v0-obj0_f2', 'NC|obs0_v0-rob0_f0', 'NC|obj0_f2-rob0_f2')\n",
      "1 modes not adj to target for ('NC|obs0_v0-obj0_f2', 'NC|obs0_v0-rob0_f0', 'IC|obj0_f3-rob0_v0')\n",
      "1 modes not adj to target for ('NC|obs0_v0-obj0_f2', 'NC|obs0_v0-rob0_f0', 'IC|obj0_v0-rob0_f0')\n",
      "1 modes not adj to target for ('IC|obs0_v0-obj0_f1', 'NC|obs0_v0-rob0_f0', 'IC|obj0_v0-rob0_f0')\n",
      "1 modes not adj to target for ('IC|obs0_v0-obj0_f1', 'NC|obs0_v0-rob0_f0', 'NC|obj0_f0-rob0_v1')\n",
      "0 modes not adj to target for ('NC|obs0_v0-obj0_f1', 'NC|obs0_v0-rob0_f0', 'NC|obj0_f0-rob0_v1')\n",
      "0 modes not adj to target for ('NC|obs0_v0-obj0_f1', 'NC|obs0_v0-rob0_f0', 'IC|obj0_f1-rob0_f1')\n",
      "0 modes not adj to target for ('NC|obs0_v0-obj0_f1', 'NC|obs0_v0-rob0_f0', 'IC|obj0_f0-rob0_v1')\n",
      "0 modes not adj to target for target\n"
     ]
    }
   ],
   "source": [
    "vertex_path = [\"source\",\"('NC|obs0_f0-obj0_v3', 'NC|obs0_f1-rob0_v0', 'NC|obj0_f2-rob0_f2')\",\"('NC|obs0_f0-obj0_v3', 'NC|obs0_f1-rob0_v0', 'NC|obj0_f1-rob0_f1')\",\"('NC|obs0_f0-obj0_v3', 'NC|obs0_v1-rob0_f1', 'NC|obj0_f1-rob0_f1')\",\"('NC|obs0_f0-obj0_v3', 'NC|obs0_f0-rob0_v1', 'NC|obj0_f1-rob0_f1')\",\"('NC|obs0_f0-obj0_v3', 'NC|obs0_f0-rob0_v1', 'IC|obj0_f2-rob0_f2')\",\"('NC|obs0_f0-obj0_v3', 'NC|obs0_f0-rob0_v1', 'IC|obj0_f1-rob0_f1')\",\"('NC|obs0_v0-obj0_f2', 'NC|obs0_f0-rob0_v1', 'IC|obj0_f1-rob0_f1')\",\"('NC|obs0_v0-obj0_f2', 'NC|obs0_v0-rob0_f0', 'IC|obj0_f1-rob0_f1')\",\"('NC|obs0_v0-obj0_f2', 'NC|obs0_v0-rob0_f0', 'NC|obj0_f2-rob0_f2')\",\"('NC|obs0_v0-obj0_f2', 'NC|obs0_v0-rob0_f0', 'IC|obj0_f3-rob0_v0')\",\"('NC|obs0_v0-obj0_f2', 'NC|obs0_v0-rob0_f0', 'IC|obj0_v0-rob0_f0')\",\"('IC|obs0_v0-obj0_f1', 'NC|obs0_v0-rob0_f0', 'IC|obj0_v0-rob0_f0')\",\"('IC|obs0_v0-obj0_f1', 'NC|obs0_v0-rob0_f0', 'NC|obj0_f0-rob0_v1')\",\"('NC|obs0_v0-obj0_f1', 'NC|obs0_v0-rob0_f0', 'NC|obj0_f0-rob0_v1')\",\"('NC|obs0_v0-obj0_f1', 'NC|obs0_v0-rob0_f0', 'IC|obj0_f1-rob0_f1')\",\"('NC|obs0_v0-obj0_f1', 'NC|obs0_v0-rob0_f0', 'IC|obj0_f0-rob0_v1')\",\"target\"]\n",
    "for v_name in vertex_path:\n",
    "    print(f\"{cg_inc.num_modes_not_adj_to_target(v_name)} modes not adj to target for {v_name}\")"
   ]
  },
  {
   "cell_type": "code",
   "execution_count": 13,
   "metadata": {},
   "outputs": [],
   "source": [
    "# from large_gcs.algorithms.gcs_star import GcsAstarReachability\n",
    "# from large_gcs.domination_checkers.reaches_cheaper_sampling import ReachesCheaperSampling\n",
    "\n",
    "\n",
    "# cost_estimator = ShortcutEdgeCE(cg_inc, contact_shortcut_edge_l2norm_cost_factory_obj_weighted, add_const_cost=True)\n",
    "# domination_checker = ReachesCheaperSampling(cg_inc, 1)\n",
    "# alg = GcsAstarReachability(cg_inc, cost_estimator, domination_checker)\n",
    "\n",
    "# alg.run()"
   ]
  }
 ],
 "metadata": {
  "kernelspec": {
   "display_name": ".venv",
   "language": "python",
   "name": "python3"
  },
  "language_info": {
   "codemirror_mode": {
    "name": "ipython",
    "version": 3
   },
   "file_extension": ".py",
   "mimetype": "text/x-python",
   "name": "python",
   "nbconvert_exporter": "python",
   "pygments_lexer": "ipython3",
   "version": "3.12.3"
  },
  "orig_nbformat": 4
 },
 "nbformat": 4,
 "nbformat_minor": 2
}
