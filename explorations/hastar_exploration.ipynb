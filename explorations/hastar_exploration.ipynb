{
 "cells": [
  {
   "cell_type": "markdown",
   "metadata": {},
   "source": [
    "# Hierarchical A* Exploration\n",
    "based on The [Generalized A* Architecture by Felzenszwalb and McAllester](https://cs.brown.edu/people/pfelzens/papers/astar.pdf)"
   ]
  },
  {
   "cell_type": "code",
   "execution_count": 1,
   "metadata": {},
   "outputs": [],
   "source": [
    "from collections import namedtuple\n",
    "from dataclasses import dataclass\n",
    "from enum import Enum\n",
    "import heapq as heap\n",
    "from copy import copy\n",
    "from typing import Optional, List\n",
    "import numpy as np\n",
    "from IPython.display import HTML\n",
    "\n",
    "\n",
    "from large_gcs.graph.incremental_contact_graph import IncrementalContactGraph\n",
    "from large_gcs.graph.contact_graph import ContactGraph\n",
    "from large_gcs.graph.graph import ShortestPathSolution, Graph\n",
    "from large_gcs.graph_generators.contact_graph_generator import ContactGraphGeneratorParams\n",
    "from large_gcs.graph.factored_collision_free_graph import FactoredCollisionFreeGraph"
   ]
  },
  {
   "cell_type": "code",
   "execution_count": 2,
   "metadata": {},
   "outputs": [],
   "source": [
    "import logging\n",
    "logging.basicConfig(level=logging.INFO)\n",
    "logging.getLogger(\"drake\").setLevel(logging.ERROR)"
   ]
  },
  {
   "cell_type": "markdown",
   "metadata": {},
   "source": [
    "Want to start with a simple example, trichal4"
   ]
  },
  {
   "cell_type": "code",
   "execution_count": 3,
   "metadata": {},
   "outputs": [
    {
     "name": "stderr",
     "output_type": "stream",
     "text": [
      "INFO:large_gcs.graph.contact_graph:Creating vertex costs...\n"
     ]
    },
    {
     "name": "stdout",
     "output_type": "stream",
     "text": [
      "Set parameter Username\n",
      "Academic license - for non-commercial use only - expires 2024-04-01\n"
     ]
    },
    {
     "name": "stderr",
     "output_type": "stream",
     "text": [
      "100%|██████████| 2/2 [00:00<00:00, 18001.30it/s]\n",
      "INFO:large_gcs.graph.graph:Adding 2 vertices to graph...\n",
      "100%|██████████| 2/2 [00:00<00:00, 11983.73it/s]\n",
      "INFO:large_gcs.graph.contact_graph:Generating contact pair modes for 3 body pairs...\n",
      "100%|██████████| 3/3 [00:00<00:00, 70.95it/s]\n",
      "INFO:large_gcs.graph.incremental_contact_graph:Calculating adjacent contact pair modes (67)\n",
      "100%|██████████| 67/67 [00:00<00:00, 19245.20it/s]\n"
     ]
    },
    {
     "data": {
      "image/png": "[encoded data removed]",
      "text/plain": [
       "<Figure size 640x480 with 1 Axes>"
      ]
     },
     "metadata": {},
     "output_type": "display_data"
    }
   ],
   "source": [
    "graph_name = \"cg_trichal4\"\n",
    "graph_file = ContactGraphGeneratorParams.inc_graph_file_path_from_name(graph_name)\n",
    "cg_inc = IncrementalContactGraph.load_from_file(graph_file, should_add_gcs=True)\n",
    "cg_inc.target_name\n",
    "cg_inc.plot()"
   ]
  },
  {
   "cell_type": "code",
   "execution_count": 4,
   "metadata": {},
   "outputs": [
    {
     "name": "stderr",
     "output_type": "stream",
     "text": [
      "INFO:large_gcs.graph.factored_collision_free_graph:Creating vertex costs for factored_collision_free_graph...\n",
      "100%|██████████| 7/7 [00:00<00:00, 11468.80it/s]\n",
      "INFO:large_gcs.graph.graph:Adding 7 vertices to graph...\n",
      "100%|██████████| 7/7 [00:00<00:00, 10345.36it/s]\n",
      "INFO:large_gcs.graph.contact_graph:Generating edges...(parallel)\n",
      "100%|██████████| 21/21 [00:00<00:00, 8722.56it/s]\n",
      "INFO:large_gcs.graph.contact_graph:22 edges generated\n",
      "INFO:large_gcs.graph.contact_graph:Creating edge costs...\n",
      "100%|██████████| 22/22 [00:00<00:00, 12309.86it/s]\n",
      "INFO:large_gcs.graph.contact_graph:Creating edge constraints...\n",
      "100%|██████████| 22/22 [00:00<00:00, 6380.05it/s]\n",
      "INFO:large_gcs.graph.graph:Adding 22 edges to graph...\n",
      "100%|██████████| 22/22 [00:00<00:00, 8141.41it/s]\n",
      "INFO:large_gcs.graph.factored_collision_free_graph:Created factored collision free graph for obj0: GraphParams(dim_bounds=(2, 4), n_vertices=7, n_edges=22, source=[array([3.25, 0.  ])], target='regions', workspace=array([[-5,  5],\n",
      "       [-4,  4]]), default_costs_constraints=None)\n"
     ]
    }
   ],
   "source": [
    "from large_gcs.algorithms.gcs_hastar import GcsHAstar\n",
    "from large_gcs.abstraction_models.contact_two import ContactTwo\n",
    "\n",
    "abs_model = ContactTwo().generate(cg_inc)\n",
    "reexplore_levels = [\"NONE\", \"FULL\"]\n",
    "gcs_hastar = GcsHAstar(abs_model, reexplore_levels)\n",
    "\n"
   ]
  },
  {
   "cell_type": "code",
   "execution_count": null,
   "metadata": {},
   "outputs": [],
   "source": [
    "gcs_hastar.run()"
   ]
  },
  {
   "cell_type": "code",
   "execution_count": null,
   "metadata": {},
   "outputs": [],
   "source": []
  }
 ],
 "metadata": {
  "kernelspec": {
   "display_name": ".venv",
   "language": "python",
   "name": "python3"
  },
  "language_info": {
   "codemirror_mode": {
    "name": "ipython",
    "version": 3
   },
   "file_extension": ".py",
   "mimetype": "text/x-python",
   "name": "python",
   "nbconvert_exporter": "python",
   "pygments_lexer": "ipython3",
   "version": "3.8.10"
  }
 },
 "nbformat": 4,
 "nbformat_minor": 2
}
