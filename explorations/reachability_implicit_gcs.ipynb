{
 "cells": [
  {
   "cell_type": "markdown",
   "metadata": {},
   "source": [
    "# Implicitly defined reachable sets within GCS"
   ]
  },
  {
   "cell_type": "code",
   "execution_count": null,
   "metadata": {},
   "outputs": [],
   "source": [
    "import numpy as np\n",
    "from large_gcs.graph_generators.hor_vert_gcs import create_simplest_hor_vert_graph\n",
    "\n",
    "# from explorations.hor_vert_gcs_bug import create_simplest_hor_vert_graph\n",
    "\n",
    "import logging\n",
    "\n",
    "logging.basicConfig(level=logging.WARN)\n",
    "logging.getLogger(\"large_gcs\").setLevel(logging.DEBUG)"
   ]
  },
  {
   "cell_type": "markdown",
   "metadata": {},
   "source": [
    "## Simple Example Graph"
   ]
  },
  {
   "cell_type": "code",
   "execution_count": null,
   "metadata": {},
   "outputs": [],
   "source": [
    "g = create_simplest_hor_vert_graph()\n",
    "g.plot_sets()\n",
    "g.plot_edges()\n",
    "g.plot_set_labels()"
   ]
  },
  {
   "cell_type": "code",
   "execution_count": null,
   "metadata": {},
   "outputs": [],
   "source": [
    "sol = g.solve_shortest_path()\n",
    "g.plot_sets()\n",
    "g.plot_edges()\n",
    "g.plot_path(sol.ambient_path)"
   ]
  },
  {
   "cell_type": "code",
   "execution_count": null,
   "metadata": {},
   "outputs": [],
   "source": [
    "print(g.edge_keys)\n",
    "sol_conv_res = g.solve_convex_restriction([(\"s\", \"p1\"), (\"p1\", \"p2\"), (\"p2\", \"t\")])\n",
    "\n",
    "sol_conv_res\n",
    "g.plot_sets()\n",
    "g.plot_path(sol_conv_res.ambient_path)"
   ]
  },
  {
   "cell_type": "code",
   "execution_count": null,
   "metadata": {},
   "outputs": [],
   "source": [
    "for vertex_name, v in g.vertices.items():\n",
    "    print(vertex_name, v.gcs_vertex.set().IsBounded())"
   ]
  },
  {
   "cell_type": "markdown",
   "metadata": {},
   "source": [
    "# Sampling Procedure\n",
    "To determine if A is dominated by B"
   ]
  },
  {
   "cell_type": "code",
   "execution_count": null,
   "metadata": {},
   "outputs": [],
   "source": [
    "# Sample 100 points in p2\n",
    "p2_samples = np.array(g.vertices[\"p2\"].convex_set.get_samples(100))\n",
    "g.plot_sets()\n",
    "g.plot_points(p2_samples)"
   ]
  },
  {
   "cell_type": "code",
   "execution_count": null,
   "metadata": {},
   "outputs": [],
   "source": [
    "# Project these samples into revised set based on path\n",
    "\n",
    "\n",
    "def project_sample_to_revised_set(sample, vertex_sampled, active_edges):\n",
    "    prog = MathematicalProgram()\n",
    "    vertex_names = [active_edges[0][0]] + [edge[1] for edge in active_edges]\n",
    "    # gcs vertices\n",
    "    vertices = [g.vertices[name].gcs_vertex for name in vertex_names]\n",
    "    edges = [g.edges[edge].gcs_edge for edge in active_edges]\n",
    "    for v in vertices:\n",
    "        if v.set().ambient_dimension() == 0:\n",
    "            continue\n",
    "        prog.AddDecisionVariables(v.x())\n",
    "        v.set().AddPointInSetConstraints(prog, v.x())\n",
    "\n",
    "        # Vertex Costs\n",
    "        for binding in v.GetCosts():\n",
    "            prog.AddCost(binding)\n",
    "        # Vertex Constraints\n",
    "        for binding in v.GetConstraints():\n",
    "            prog.AddConstraint(binding)\n",
    "\n",
    "    for e in edges:\n",
    "        # Edge Costs\n",
    "        for binding in e.GetCosts():\n",
    "            prog.AddCost(binding)\n",
    "        # Edge Constraints\n",
    "        for binding in e.GetConstraints():\n",
    "            prog.AddConstraint(binding)\n",
    "\n",
    "    result = Solve(prog)\n",
    "    if not result.is_success():\n",
    "        raise RuntimeError(\"Failed to solve\")\n",
    "    return result\n",
    "\n",
    "\n",
    "# active_edges = [(\"s\", \"p1\"), (\"p1\", \"p2\")]\n",
    "active_edges = [(\"s\", \"p1\"), (\"p1\", \"p2\"), (\"p2\", \"t\")]\n",
    "res = project_sample_to_revised_set(p2_samples[0], \"p2\", active_edges)\n",
    "print(f\"optimal_cost: {res.get_optimal_cost()}\")\n",
    "print(sol.cost)"
   ]
  },
  {
   "cell_type": "code",
   "execution_count": null,
   "metadata": {},
   "outputs": [],
   "source": []
  },
  {
   "cell_type": "markdown",
   "metadata": {},
   "source": [
    "# GcsAstarReachability"
   ]
  },
  {
   "cell_type": "code",
   "execution_count": 1,
   "metadata": {},
   "outputs": [],
   "source": [
    "from large_gcs.algorithms.gcs_astar_reachability import GcsAstarReachability\n",
    "from large_gcs.cost_estimators.shortcut_edge_ce import ShortcutEdgeCE\n",
    "from large_gcs.graph.contact_cost_constraint_factory import (\n",
    "    contact_shortcut_edge_cost_factory_over_obj_weighted,\n",
    ")\n",
    "from large_gcs.graph.cost_constraint_factory import (\n",
    "    shortcut_edge_cost_factory,\n",
    ")\n",
    "import numpy as np\n",
    "\n",
    "from large_gcs.graph_generators.hor_vert_gcs import create_simplest_hor_vert_graph, create_polyhedral_hor_vert_graph\n",
    "# from explorations.hor_vert_gcs_bug import create_simplest_hor_vert_graph\n",
    "\n",
    "import logging\n",
    "\n",
    "logging.basicConfig(level=logging.WARN)\n",
    "logging.getLogger(\"large_gcs\").setLevel(logging.DEBUG)"
   ]
  },
  {
   "cell_type": "code",
   "execution_count": 2,
   "metadata": {},
   "outputs": [
    {
     "name": "stderr",
     "output_type": "stream",
     "text": [
      "INFO:large_gcs.graph.graph:Adding 5 vertices to graph...\n",
      "100%|██████████| 5/5 [00:00<00:00, 19691.57it/s]\n",
      "INFO:large_gcs.algorithms.gcs_astar_reachability:Running GcsAstarReachability\n",
      "INFO:large_gcs.algorithms.gcs_astar_reachability:exploring edge s -> p0\n",
      "DEBUG:large_gcs.cost_estimators.shortcut_edge_ce:conv_res_active_edges: [\"('s', 'p0')\", \"('p0', 't')_shortcut\"]\n",
      "DEBUG:large_gcs.graph.graph:active edge keys: [\"('s', 'p0')\", \"('p0', 't')_shortcut\"]\n",
      "DEBUG:large_gcs.graph.graph:is_success: True\n",
      "DEBUG:large_gcs.cost_estimators.shortcut_edge_ce:Removing edge ('p0', 't')_shortcut\n",
      "DEBUG:large_gcs.algorithms.gcs_astar_reachability:edge s -> p0 is feasible\n",
      "DEBUG:large_gcs.algorithms.gcs_astar_reachability:Adding samples for p0\n",
      "DEBUG:large_gcs.algorithms.gcs_astar_reachability:reaches new, active edges: [\"('s', 'p0')\", \"('p0', 'p0_sample_0')\"]\n",
      "DEBUG:large_gcs.graph.graph:active edge keys: [\"('s', 'p0')\", \"('p0', 'p0_sample_0')\"]\n",
      "DEBUG:large_gcs.graph.graph:is_success: True\n",
      "DEBUG:large_gcs.algorithms.gcs_astar_reachability:reaches new, active edges: [\"('s', 'p0')\", \"('p0', 'p0_sample_1')\"]\n",
      "DEBUG:large_gcs.graph.graph:active edge keys: [\"('s', 'p0')\", \"('p0', 'p0_sample_1')\"]\n",
      "DEBUG:large_gcs.graph.graph:is_success: True\n",
      "DEBUG:large_gcs.algorithms.gcs_astar_reachability:reaches new, active edges: [\"('s', 'p0')\", \"('p0', 'p0_sample_2')\"]\n",
      "DEBUG:large_gcs.graph.graph:active edge keys: [\"('s', 'p0')\", \"('p0', 'p0_sample_2')\"]\n",
      "DEBUG:large_gcs.graph.graph:is_success: True\n",
      "DEBUG:large_gcs.algorithms.gcs_astar_reachability:p0 Reached new samples: True\n",
      "INFO:large_gcs.algorithms.gcs_astar_reachability:exploring edge s -> p1\n",
      "DEBUG:large_gcs.cost_estimators.shortcut_edge_ce:conv_res_active_edges: [\"('s', 'p1')\", \"('p1', 't')_shortcut\"]\n",
      "DEBUG:large_gcs.graph.graph:active edge keys: [\"('s', 'p1')\", \"('p1', 't')_shortcut\"]\n",
      "DEBUG:large_gcs.graph.graph:is_success: True\n",
      "DEBUG:large_gcs.cost_estimators.shortcut_edge_ce:Removing edge ('p1', 't')_shortcut\n",
      "DEBUG:large_gcs.algorithms.gcs_astar_reachability:edge s -> p1 is feasible\n",
      "DEBUG:large_gcs.algorithms.gcs_astar_reachability:Adding samples for p1\n",
      "DEBUG:large_gcs.algorithms.gcs_astar_reachability:reaches new, active edges: [\"('s', 'p1')\", \"('p1', 'p1_sample_0')\"]\n",
      "DEBUG:large_gcs.graph.graph:active edge keys: [\"('s', 'p1')\", \"('p1', 'p1_sample_0')\"]\n",
      "DEBUG:large_gcs.graph.graph:is_success: True\n",
      "DEBUG:large_gcs.algorithms.gcs_astar_reachability:reaches new, active edges: [\"('s', 'p1')\", \"('p1', 'p1_sample_1')\"]\n",
      "DEBUG:large_gcs.graph.graph:active edge keys: [\"('s', 'p1')\", \"('p1', 'p1_sample_1')\"]\n",
      "DEBUG:large_gcs.graph.graph:is_success: True\n",
      "DEBUG:large_gcs.algorithms.gcs_astar_reachability:reaches new, active edges: [\"('s', 'p1')\", \"('p1', 'p1_sample_2')\"]\n",
      "DEBUG:large_gcs.graph.graph:active edge keys: [\"('s', 'p1')\", \"('p1', 'p1_sample_2')\"]\n",
      "DEBUG:large_gcs.graph.graph:is_success: True\n",
      "DEBUG:large_gcs.algorithms.gcs_astar_reachability:p1 Reached new samples: True\n",
      "INFO:large_gcs.algorithms.gcs_astar_reachability:exploring edge p0 -> p2\n",
      "DEBUG:large_gcs.cost_estimators.shortcut_edge_ce:conv_res_active_edges: [\"('s', 'p0')\", \"('p0', 'p2')\", \"('p2', 't')_shortcut\"]\n",
      "DEBUG:large_gcs.graph.graph:active edge keys: [\"('s', 'p0')\", \"('p0', 'p2')\", \"('p2', 't')_shortcut\"]\n",
      "DEBUG:large_gcs.graph.graph:is_success: True\n",
      "DEBUG:large_gcs.cost_estimators.shortcut_edge_ce:Removing edge ('p2', 't')_shortcut\n",
      "DEBUG:large_gcs.algorithms.gcs_astar_reachability:edge p0 -> p2 is feasible\n",
      "DEBUG:large_gcs.algorithms.gcs_astar_reachability:Adding samples for p2\n",
      "DEBUG:large_gcs.algorithms.gcs_astar_reachability:reaches new, active edges: [\"('s', 'p0')\", \"('p0', 'p2')\", \"('p2', 'p2_sample_0')\"]\n",
      "DEBUG:large_gcs.graph.graph:active edge keys: [\"('s', 'p0')\", \"('p0', 'p2')\", \"('p2', 'p2_sample_0')\"]\n",
      "DEBUG:large_gcs.graph.graph:is_success: False\n",
      "DEBUG:large_gcs.algorithms.gcs_astar_reachability:reaches new, active edges: [\"('s', 'p0')\", \"('p0', 'p2')\", \"('p2', 'p2_sample_1')\"]\n",
      "DEBUG:large_gcs.graph.graph:active edge keys: [\"('s', 'p0')\", \"('p0', 'p2')\", \"('p2', 'p2_sample_1')\"]\n",
      "DEBUG:large_gcs.graph.graph:is_success: True\n",
      "DEBUG:large_gcs.algorithms.gcs_astar_reachability:reaches new, active edges: [\"('s', 'p0')\", \"('p0', 'p2')\", \"('p2', 'p2_sample_2')\"]\n",
      "DEBUG:large_gcs.graph.graph:active edge keys: [\"('s', 'p0')\", \"('p0', 'p2')\", \"('p2', 'p2_sample_2')\"]\n",
      "DEBUG:large_gcs.graph.graph:is_success: True\n",
      "DEBUG:large_gcs.algorithms.gcs_astar_reachability:p2 Reached new samples: True\n",
      "INFO:large_gcs.algorithms.gcs_astar_reachability:exploring edge p2 -> t\n",
      "DEBUG:large_gcs.cost_estimators.shortcut_edge_ce:conv_res_active_edges: [\"('s', 'p0')\", \"('p0', 'p2')\", \"('p2', 't')\"]\n",
      "DEBUG:large_gcs.graph.graph:active edge keys: [\"('s', 'p0')\", \"('p0', 'p2')\", \"('p2', 't')\"]\n",
      "DEBUG:large_gcs.graph.graph:is_success: False\n",
      "DEBUG:large_gcs.algorithms.gcs_astar_reachability:edge p2 -> t not actually feasible\n",
      "INFO:large_gcs.algorithms.gcs_astar_reachability:exploring edge p1 -> p2\n",
      "DEBUG:large_gcs.cost_estimators.shortcut_edge_ce:conv_res_active_edges: [\"('s', 'p1')\", \"('p1', 'p2')\", \"('p2', 't')_shortcut\"]\n",
      "DEBUG:large_gcs.graph.graph:active edge keys: [\"('s', 'p1')\", \"('p1', 'p2')\", \"('p2', 't')_shortcut\"]\n",
      "DEBUG:large_gcs.graph.graph:is_success: True\n",
      "DEBUG:large_gcs.cost_estimators.shortcut_edge_ce:Removing edge ('p2', 't')_shortcut\n",
      "DEBUG:large_gcs.algorithms.gcs_astar_reachability:edge p1 -> p2 is feasible\n",
      "DEBUG:large_gcs.algorithms.gcs_astar_reachability:reaches new, active edges: [\"('s', 'p1')\", \"('p1', 'p2')\", \"('p2', 'p2_sample_0')\"]\n",
      "DEBUG:large_gcs.graph.graph:active edge keys: [\"('s', 'p1')\", \"('p1', 'p2')\", \"('p2', 'p2_sample_0')\"]\n",
      "DEBUG:large_gcs.graph.graph:is_success: True\n",
      "DEBUG:large_gcs.algorithms.gcs_astar_reachability:p2 Reached new samples: True\n",
      "INFO:large_gcs.algorithms.gcs_astar_reachability:exploring edge p2 -> t\n",
      "DEBUG:large_gcs.cost_estimators.shortcut_edge_ce:conv_res_active_edges: [\"('s', 'p1')\", \"('p1', 'p2')\", \"('p2', 't')\"]\n",
      "DEBUG:large_gcs.graph.graph:active edge keys: [\"('s', 'p1')\", \"('p1', 'p2')\", \"('p2', 't')\"]\n",
      "DEBUG:large_gcs.graph.graph:is_success: True\n",
      "DEBUG:large_gcs.algorithms.gcs_astar_reachability:edge p2 -> t is feasible\n",
      "INFO:large_gcs.algorithms.gcs_astar_reachability:GcsAstarReachability complete! \n",
      "cost: 10.799999999992144, time: 0.0006451759836636484\n",
      "vertex path: ['s' 'p1' 'p2' 't']\n",
      "n_vertices_expanded: {0: 5}, n_vertices_visited: {0: 6}, time_wall_clock: 0.2, n_gcs_solves: 16, gcs_solve_time_total: 0.00576, gcs_solve_time_iter_mean: 0.00036, gcs_solve_time_last_10_mean: 0.000383, gcs_solve_time_iter_std: 0.000265, gcs_solve_time_iter_min: 9.98e-05, gcs_solve_time_iter_max: 0.000838, n_vertices_reexpanded: {0: 0}, n_vertices_revisited: {0: 0}\n"
     ]
    }
   ],
   "source": [
    "# g = create_simplest_hor_vert_graph()\n",
    "g = create_polyhedral_hor_vert_graph()\n",
    "cost_estimator_se = ShortcutEdgeCE(g, shortcut_edge_cost_factory)\n",
    "alg = GcsAstarReachability(g, cost_estimator_se, num_samples_per_vertex=3)\n",
    "sol = alg.run()"
   ]
  },
  {
   "cell_type": "code",
   "execution_count": null,
   "metadata": {},
   "outputs": [],
   "source": [
    "# g.edges[\"('p0', 'p0_sample_1')\"]"
   ]
  },
  {
   "cell_type": "code",
   "execution_count": null,
   "metadata": {},
   "outputs": [],
   "source": [
    "g.plot_sets()\n",
    "g.plot_edges()\n",
    "g.plot_set_labels()\n",
    "g.plot_path(sol.ambient_path)"
   ]
  },
  {
   "cell_type": "code",
   "execution_count": null,
   "metadata": {},
   "outputs": [],
   "source": [
    "# sol = g.solve_convex_restriction([('s', 'p1'), ('p1', 'p1_sample_0')])\n",
    "sol = g.solve_convex_restriction([(\"s\", \"p1\"), (\"p1\", \"p2\"), (\"p2\", \"t\")])"
   ]
  },
  {
   "cell_type": "code",
   "execution_count": null,
   "metadata": {},
   "outputs": [],
   "source": [
    "sol"
   ]
  },
  {
   "cell_type": "code",
   "execution_count": null,
   "metadata": {},
   "outputs": [],
   "source": []
  }
 ],
 "metadata": {
  "kernelspec": {
   "display_name": ".venv",
   "language": "python",
   "name": "python3"
  },
  "language_info": {
   "codemirror_mode": {
    "name": "ipython",
    "version": 3
   },
   "file_extension": ".py",
   "mimetype": "text/x-python",
   "name": "python",
   "nbconvert_exporter": "python",
   "pygments_lexer": "ipython3",
   "version": "3.8.10"
  }
 },
 "nbformat": 4,
 "nbformat_minor": 2
}
