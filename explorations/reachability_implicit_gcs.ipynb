{
 "cells": [
  {
   "cell_type": "markdown",
   "metadata": {},
   "source": [
    "# Implicitly defined reachable sets within GCS"
   ]
  },
  {
   "cell_type": "code",
   "execution_count": null,
   "metadata": {},
   "outputs": [],
   "source": [
    "import numpy as np\n",
    "from large_gcs.graph_generators.hor_vert_gcs import create_simplest_hor_vert_graph\n",
    "\n",
    "# from explorations.hor_vert_gcs_bug import create_simplest_hor_vert_graph\n",
    "\n",
    "from pydrake.all import (MathematicalProgram, MathematicalProgramResult, Solve)\n",
    "\n",
    "import logging\n",
    "\n",
    "logging.basicConfig(level=logging.WARN)\n",
    "logging.getLogger(\"large_gcs\").setLevel(logging.DEBUG)"
   ]
  },
  {
   "cell_type": "markdown",
   "metadata": {},
   "source": [
    "## Simple Example Graph"
   ]
  },
  {
   "cell_type": "code",
   "execution_count": null,
   "metadata": {},
   "outputs": [],
   "source": [
    "g = create_simplest_hor_vert_graph()\n",
    "g.plot_sets()\n",
    "g.plot_edges()\n",
    "g.plot_set_labels()"
   ]
  },
  {
   "cell_type": "code",
   "execution_count": null,
   "metadata": {},
   "outputs": [],
   "source": [
    "sol = g.solve_shortest_path()\n",
    "g.plot_sets()\n",
    "g.plot_edges()\n",
    "g.plot_path(sol.ambient_path)"
   ]
  },
  {
   "cell_type": "code",
   "execution_count": null,
   "metadata": {},
   "outputs": [],
   "source": [
    "print(g.edge_keys)\n",
    "# sol_conv_res = g.solve_convex_restriction([(\"s\", \"p1\"), (\"p1\", \"p2\"), (\"p2\", \"t\")])\n",
    "\n",
    "# sol_conv_res\n",
    "# g.plot_sets()\n",
    "# g.plot_path(sol_conv_res.ambient_path)"
   ]
  },
  {
   "cell_type": "code",
   "execution_count": null,
   "metadata": {},
   "outputs": [],
   "source": [
    "for vertex_name, v in g.vertices.items():\n",
    "    print(vertex_name, v.gcs_vertex.set().IsBounded())"
   ]
  },
  {
   "cell_type": "markdown",
   "metadata": {},
   "source": [
    "# Sampling Procedure\n",
    "To determine if A is dominated by B"
   ]
  },
  {
   "cell_type": "code",
   "execution_count": null,
   "metadata": {},
   "outputs": [],
   "source": [
    "# Sample 100 points in p2\n",
    "p2_samples = np.array(g.vertices[\"p2\"].convex_set.get_samples(100))\n",
    "g.plot_sets()\n",
    "g.plot_points(p2_samples)"
   ]
  },
  {
   "cell_type": "code",
   "execution_count": null,
   "metadata": {},
   "outputs": [],
   "source": [
    "# Project these samples into revised set based on path\n",
    "\n",
    "\n",
    "def project_sample_to_revised_set(samples, vertex_sampled, active_edges):\n",
    "    prog = MathematicalProgram()\n",
    "    vertex_names = [g.edges[active_edges[0]].u] + [g.edges[e].v for e in active_edges]\n",
    "    # gcs vertices\n",
    "    vertices = [g.vertices[name].gcs_vertex for name in vertex_names]\n",
    "    edges = [g.edges[edge].gcs_edge for edge in active_edges]\n",
    "    vertex_vars = [prog.NewContinuousVariables(rows=samples.shape[0], cols=v.ambient_dimension(), name=f\"{v_name}_vars\") for v, v_name in zip(vertices, vertex_names)]\n",
    "    sample_vars = vertex_vars[vertex_names.index(vertex_sampled)]\n",
    "    for v, v_name, v_vars in zip(vertices, vertex_names, vertex_vars):\n",
    "        if v_name == vertex_sampled:\n",
    "            for x, sample in zip(v_vars, samples):\n",
    "                v.set().AddPointInSetConstraints(prog, x)\n",
    "                # Add the distance to the sample as a cost\n",
    "                prog.AddCost((x - sample).dot(x - sample))\n",
    "                # Vertex Constraints\n",
    "                for binding in v.GetConstraints():\n",
    "                    constraint = binding.evaluator()\n",
    "                    prog.AddConstraint(constraint, x)\n",
    "        else:\n",
    "            for x in v_vars:\n",
    "                v.set().AddPointInSetConstraints(prog, x)\n",
    "\n",
    "                # Vertex Constraints\n",
    "                for binding in v.GetConstraints():\n",
    "                    constraint = binding.evaluator()\n",
    "                    prog.AddConstraint(constraint, x)\n",
    "\n",
    "    for e, e_name in zip(edges, active_edges):\n",
    "        # Edge Costs\n",
    "        # for binding in e.GetCosts():\n",
    "        #     cost = binding.evaluator()\n",
    "        #     variables = binding.variables()\n",
    "        #     prog.AddCost(cost, variables)\n",
    "        \n",
    "        # Edge Constraints\n",
    "        for binding in e.GetConstraints():\n",
    "            constraint = binding.evaluator()\n",
    "            variables = binding.variables()\n",
    "            u_name, v_name = g.edges[e_name].u, g.edges[e_name].v\n",
    "            u_idx, v_idx = vertex_names.index(u_name), vertex_names.index(v_name)\n",
    "            for ux, vx in zip(vertex_vars[u_idx], vertex_vars[v_idx]):\n",
    "                variables[:len(ux)] = ux\n",
    "                variables[-len(vx):] = vx\n",
    "                prog.AddConstraint(constraint, variables)\n",
    "\n",
    "    result = Solve(prog)\n",
    "    if not result.is_success():\n",
    "        raise RuntimeError(\"Failed to solve\")\n",
    "    return result.GetSolution(sample_vars)\n",
    "\n",
    "\n",
    "active_edges = [\"('s', 'p1')\", \"('p1', 'p2')\"]\n",
    "# active_edges = [\"('s', 'p1')\", \"('p1', 'p2')\", \"('p2', 't')\"]\n",
    "new_samples = project_sample_to_revised_set(p2_samples, \"p2\", active_edges)\n",
    "# print(new_samples)\n",
    "g.plot_points(new_samples)\n",
    "g.plot_sets()"
   ]
  },
  {
   "cell_type": "markdown",
   "metadata": {},
   "source": [
    "# GcsAstarReachability"
   ]
  },
  {
   "cell_type": "code",
   "execution_count": null,
   "metadata": {},
   "outputs": [],
   "source": [
    "from large_gcs.algorithms.gcs_astar_reachability import GcsAstarReachability\n",
    "from large_gcs.cost_estimators.shortcut_edge_ce import ShortcutEdgeCE\n",
    "from large_gcs.graph.contact_cost_constraint_factory import (\n",
    "    contact_shortcut_edge_cost_factory_over_obj_weighted,\n",
    ")\n",
    "from large_gcs.graph.cost_constraint_factory import (\n",
    "    shortcut_edge_cost_factory,\n",
    ")\n",
    "import numpy as np\n",
    "\n",
    "from large_gcs.graph_generators.hor_vert_gcs import create_simplest_hor_vert_graph, create_polyhedral_hor_vert_graph\n",
    "# from explorations.hor_vert_gcs_bug import create_simplest_hor_vert_graph\n",
    "\n",
    "import logging\n",
    "\n",
    "logging.basicConfig(level=logging.WARN)\n",
    "logging.getLogger(\"large_gcs\").setLevel(logging.DEBUG)"
   ]
  },
  {
   "cell_type": "code",
   "execution_count": null,
   "metadata": {},
   "outputs": [],
   "source": [
    "g = create_simplest_hor_vert_graph()\n",
    "# g = create_polyhedral_hor_vert_graph()\n",
    "cost_estimator_se = ShortcutEdgeCE(g, shortcut_edge_cost_factory)\n",
    "alg = GcsAstarReachability(g, cost_estimator_se, num_samples_per_vertex=5)\n",
    "sol = alg.run()"
   ]
  },
  {
   "cell_type": "code",
   "execution_count": null,
   "metadata": {},
   "outputs": [],
   "source": [
    "str(sol)"
   ]
  },
  {
   "cell_type": "code",
   "execution_count": null,
   "metadata": {},
   "outputs": [],
   "source": [
    "# g.edges[\"('p0', 'p0_sample_1')\"]"
   ]
  },
  {
   "cell_type": "code",
   "execution_count": null,
   "metadata": {},
   "outputs": [],
   "source": [
    "g.plot_sets()\n",
    "g.plot_edges()\n",
    "g.plot_set_labels()\n",
    "g.plot_path(sol.ambient_path)"
   ]
  },
  {
   "cell_type": "code",
   "execution_count": null,
   "metadata": {},
   "outputs": [],
   "source": [
    "# sol = g.solve_convex_restriction([('s', 'p1'), ('p1', 'p1_sample_0')])\n",
    "# sol = g.solve_convex_restriction([(\"s\", \"p1\"), (\"p1\", \"p2\"), (\"p2\", \"t\")])"
   ]
  },
  {
   "cell_type": "code",
   "execution_count": null,
   "metadata": {},
   "outputs": [],
   "source": [
    "from large_gcs.algorithms.gcs_astar_convex_restriction import GcsAstarConvexRestriction\n",
    "\n",
    "g = create_polyhedral_hor_vert_graph()\n",
    "cost_estimator_se = ShortcutEdgeCE(g, shortcut_edge_cost_factory)\n",
    "alg = GcsAstarConvexRestriction(g, cost_estimator_se)\n",
    "sol = alg.run()"
   ]
  },
  {
   "cell_type": "markdown",
   "metadata": {},
   "source": [
    "Note how GcsAstarConvexRestriction fails because it doesn't have the sampling to determine reachability procedure that GcsAstarReachability has"
   ]
  },
  {
   "cell_type": "code",
   "execution_count": null,
   "metadata": {},
   "outputs": [],
   "source": []
  },
  {
   "cell_type": "markdown",
   "metadata": {},
   "source": [
    "# Applying GcsAstarReachability to Contact Graph that fails for GcsAstarConvexRestriction\n",
    "cg_maze_b1"
   ]
  },
  {
   "cell_type": "code",
   "execution_count": 1,
   "metadata": {},
   "outputs": [],
   "source": [
    "from large_gcs.algorithms.gcs_astar_reachability import GcsAstarReachability\n",
    "from large_gcs.cost_estimators.shortcut_edge_ce import ShortcutEdgeCE\n",
    "from large_gcs.graph.contact_cost_constraint_factory import (\n",
    "    contact_shortcut_edge_cost_factory_over_obj_weighted,\n",
    ")\n",
    "from large_gcs.graph.cost_constraint_factory import (\n",
    "    shortcut_edge_cost_factory,\n",
    ")\n",
    "from large_gcs.algorithms.search_algorithm import SearchNode\n",
    "\n",
    "import numpy as np\n",
    "\n",
    "import logging\n",
    "\n",
    "logging.basicConfig(level=logging.WARN)\n",
    "logging.getLogger(\"large_gcs\").setLevel(logging.INFO)"
   ]
  },
  {
   "cell_type": "code",
   "execution_count": 2,
   "metadata": {},
   "outputs": [
    {
     "name": "stderr",
     "output_type": "stream",
     "text": [
      "INFO:large_gcs.graph.contact_graph:Creating vertex costs...\n",
      "100%|██████████| 2/2 [00:00<00:00, 43690.67it/s]\n",
      "INFO:large_gcs.graph.graph:Adding 2 vertices to graph...\n",
      "100%|██████████| 2/2 [00:00<00:00, 13357.66it/s]\n",
      "INFO:large_gcs.graph.contact_graph:Generating contact pair modes for 3 body pairs...\n",
      "100%|██████████| 3/3 [00:00<00:00, 53.55it/s]\n",
      "INFO:large_gcs.graph.incremental_contact_graph:Calculating adjacent contact pair modes (151)\n",
      "100%|██████████| 151/151 [00:00<00:00, 739.64it/s]\n",
      "INFO:large_gcs.algorithms.gcs_astar_reachability:Running GcsAstarReachability\n",
      "INFO:large_gcs.algorithms.gcs_astar_reachability:\n",
      "n_vertices_expanded: {0: 1}, n_vertices_visited: {0: 0}, time_wall_clock: 0, n_gcs_solves: 0, gcs_solve_time_total: 0, gcs_solve_time_iter_mean: 0, gcs_solve_time_last_10_mean: 0, gcs_solve_time_iter_std: 0, gcs_solve_time_iter_min: inf, gcs_solve_time_iter_max: 0, n_vertices_reexpanded: {0: 0}, n_vertices_revisited: {0: 0}\n",
      "now exploring node source's 1 neighbors (0)\n",
      "INFO:large_gcs.algorithms.gcs_astar_reachability:Added to Q: Path to ('NC|obs0_f1-obj0_v1', 'NC|obs0_f0-rob0_v1', 'NC|obj0_f0-rob0_v1') reaches new samples\n",
      "INFO:large_gcs.algorithms.gcs_astar_reachability:\n",
      "n_vertices_expanded: {0: 2}, n_vertices_visited: {0: 1}, time_wall_clock: 0.0115, n_gcs_solves: 1, gcs_solve_time_total: 0.000993, gcs_solve_time_iter_mean: 0.000993, gcs_solve_time_last_10_mean: 0, gcs_solve_time_iter_std: 0, gcs_solve_time_iter_min: 0.000993, gcs_solve_time_iter_max: 0.000993, n_vertices_reexpanded: {0: 0}, n_vertices_revisited: {0: 0}\n",
      "now exploring node ('NC|obs0_f1-obj0_v1', 'NC|obs0_f0-rob0_v1', 'NC|obj0_f0-rob0_v1')'s 17 neighbors (575.4675302063665)\n",
      "INFO:large_gcs.algorithms.gcs_astar_reachability:Added to Q: Path to ('NC|obs0_v1-obj0_f0', 'NC|obs0_f0-rob0_v1', 'NC|obj0_f0-rob0_v1') reaches new samples\n",
      "INFO:large_gcs.algorithms.gcs_astar_reachability:Added to Q: Path to ('NC|obs0_v1-obj0_f3', 'NC|obs0_f0-rob0_v1', 'NC|obj0_f0-rob0_v1') reaches new samples\n",
      "INFO:large_gcs.algorithms.gcs_astar_reachability:Added to Q: Path to ('NC|obs0_f1-obj0_v1', 'NC|obs0_v0-rob0_f0', 'NC|obj0_f0-rob0_v1') reaches new samples\n",
      "INFO:large_gcs.algorithms.gcs_astar_reachability:Added to Q: Path to ('NC|obs0_f1-obj0_v1', 'NC|obs0_v1-rob0_f1', 'NC|obj0_f0-rob0_v1') reaches new samples\n",
      "INFO:large_gcs.algorithms.gcs_astar_reachability:Added to Q: Path to ('NC|obs0_f1-obj0_v1', 'NC|obs0_v1-rob0_f2', 'NC|obj0_f0-rob0_v1') reaches new samples\n",
      "INFO:large_gcs.algorithms.gcs_astar_reachability:Added to Q: Path to ('NC|obs0_f1-obj0_v1', 'NC|obs0_f0-rob0_v1', 'IC|obj0_f1-rob0_f1') reaches new samples\n",
      "INFO:large_gcs.algorithms.gcs_astar_reachability:Added to Q: Path to ('NC|obs0_f1-obj0_v1', 'NC|obs0_f0-rob0_v1', 'IC|obj0_f0-rob0_v1') reaches new samples\n",
      "INFO:large_gcs.algorithms.gcs_astar_reachability:Added to Q: Path to ('NC|obs0_f1-obj0_v1', 'NC|obs0_f0-rob0_v1', 'NC|obj0_f1-rob0_f1') reaches new samples\n",
      "INFO:large_gcs.algorithms.gcs_astar_reachability:Added to Q: Path to ('NC|obs0_f1-obj0_v1', 'NC|obs0_f0-rob0_v1', 'NC|obj0_f3-rob0_v0') reaches new samples\n",
      "INFO:large_gcs.algorithms.gcs_astar_reachability:Added to Q: Path to ('NC|obs0_f1-obj0_v1', 'NC|obs0_f0-rob0_v1', 'NC|obj0_v0-rob0_f0') reaches new samples\n",
      "INFO:large_gcs.algorithms.gcs_astar_reachability:\n",
      "n_vertices_expanded: {0: 3}, n_vertices_visited: {0: 18}, time_wall_clock: 3.45, n_gcs_solves: 18, gcs_solve_time_total: 0.015, gcs_solve_time_iter_mean: 0.000833, gcs_solve_time_last_10_mean: 0.00113, gcs_solve_time_iter_std: 0.000492, gcs_solve_time_iter_min: 0.000202, gcs_solve_time_iter_max: 0.00208, n_vertices_reexpanded: {0: 0}, n_vertices_revisited: {0: 0}\n",
      "now exploring node ('NC|obs0_f1-obj0_v1', 'NC|obs0_f0-rob0_v1', 'IC|obj0_f1-rob0_f1')'s 10 neighbors (543.4999837857055)\n",
      "INFO:large_gcs.algorithms.gcs_astar_reachability:Added to Q: Path to ('NC|obs0_v1-obj0_f0', 'NC|obs0_f0-rob0_v1', 'IC|obj0_f1-rob0_f1') reaches new samples\n",
      "INFO:large_gcs.algorithms.gcs_astar_reachability:Added to Q: Path to ('NC|obs0_v1-obj0_f3', 'NC|obs0_f0-rob0_v1', 'IC|obj0_f1-rob0_f1') reaches new samples\n",
      "INFO:large_gcs.algorithms.gcs_astar_reachability:Added to Q: Path to ('NC|obs0_f1-obj0_v1', 'NC|obs0_v1-rob0_f1', 'IC|obj0_f1-rob0_f1') reaches new samples\n",
      "INFO:large_gcs.algorithms.gcs_astar_reachability:Added to Q: Path to ('NC|obs0_f1-obj0_v1', 'NC|obs0_v1-rob0_f2', 'IC|obj0_f1-rob0_f1') reaches new samples\n",
      "WARNING:large_gcs.algorithms.gcs_astar_reachability:Failed to project sample 4 for vertex ('NC|obs0_f1-obj0_v1', 'NC|obs0_f0-rob0_v1', 'IC|obj0_f0-rob0_v1'), original sample: [3.42455283e+00 3.42455283e+00 3.25959205e+00 4.08006806e+00\n",
      " 3.51744902e+00 3.67853941e+00 2.09291613e+00 2.91339214e+00\n",
      " 1.10955652e-15 8.20476008e-01 1.61090397e-01 8.20476008e-01\n",
      " 1.61090397e-01 9.92447216e+02 9.91626740e+02 8.20476008e-01]\n"
     ]
    },
    {
     "ename": "SystemExit",
     "evalue": "Failure at bazel-out/k8-opt/bin/tools/install/libdrake/_virtual_includes/drake_shared_library/drake/solvers/binding.h:31 in Binding(): condition 'c->num_vars() == v.rows() || c->num_vars() == Eigen::Dynamic' failed.",
     "output_type": "error",
     "traceback": [
      "An exception has occurred, use %tb to see the full traceback.\n",
      "\u001b[0;31mSystemExit\u001b[0m\u001b[0;31m:\u001b[0m Failure at bazel-out/k8-opt/bin/tools/install/libdrake/_virtual_includes/drake_shared_library/drake/solvers/binding.h:31 in Binding(): condition 'c->num_vars() == v.rows() || c->num_vars() == Eigen::Dynamic' failed.\n"
     ]
    },
    {
     "name": "stderr",
     "output_type": "stream",
     "text": [
      "/home/shaoyuan/Documents/Software/large_gcs/.venv/lib/python3.8/site-packages/IPython/core/interactiveshell.py:3516: UserWarning: To exit: use 'exit', 'quit', or Ctrl-D.\n",
      "  warn(\"To exit: use 'exit', 'quit', or Ctrl-D.\", stacklevel=1)\n"
     ]
    }
   ],
   "source": [
    "from large_gcs.graph.graph import ShortestPathSolution\n",
    "from large_gcs.graph.incremental_contact_graph import IncrementalContactGraph\n",
    "from large_gcs.graph_generators.contact_graph_generator import ContactGraphGeneratorParams\n",
    "\n",
    "# cg_maze_b1_1 cg_maze_b1\n",
    "graph_file = ContactGraphGeneratorParams.inc_graph_file_path_from_name(\"cg_maze_b1_1\")\n",
    "cg = IncrementalContactGraph.load_from_file(\n",
    "    graph_file,\n",
    "    should_incl_simul_mode_switches=False,\n",
    "    should_add_const_edge_cost=True,\n",
    "    should_add_gcs=True,\n",
    ")\n",
    "cost_estimator = ShortcutEdgeCE(\n",
    "    cg,\n",
    "    shortcut_edge_cost_factory=contact_shortcut_edge_cost_factory_over_obj_weighted,\n",
    ")\n",
    "alg = GcsAstarReachability(cg, cost_estimator, num_samples_per_vertex=5)\n",
    "sol: ShortestPathSolution = alg.run()"
   ]
  },
  {
   "cell_type": "code",
   "execution_count": null,
   "metadata": {},
   "outputs": [],
   "source": [
    "\n",
    "\n",
    "v_path = ['source', \"('NC|obs0_f1-obj0_v1', 'NC|obs0_f0-rob0_v1', 'NC|obj0_f0-rob0_v1')\", \"('NC|obs0_f1-obj0_v1', 'NC|obs0_f0-rob0_v1', 'IC|obj0_f1-rob0_f1')\", \"('NC|obs0_f1-obj0_v1', 'NC|obs0_f0-rob0_v1', 'IC|obj0_f0-rob0_v1')\"]\n",
    "n = SearchNode(priority=544.4999870205717, \n",
    "                  vertex_name=\"('NC|obs0_f1-obj0_v1', 'NC|obs0_f0-rob0_v1', 'IC|obj0_f0-rob0_v1')\", \n",
    "                  edge_path=[\n",
    "                      '(\\'source\\', \"(\\'NC|obs0_f1-obj0_v1\\', \\'NC|obs0_f0-rob0_v1\\', \\'NC|obj0_f0-rob0_v1\\')\")', \n",
    "                      '(\"(\\'NC|obs0_f1-obj0_v1\\', \\'NC|obs0_f0-rob0_v1\\', \\'NC|obj0_f0-rob0_v1\\')\", \"(\\'NC|obs0_f1-obj0_v1\\', \\'NC|obs0_f0-rob0_v1\\', \\'IC|obj0_f1-rob0_f1\\')\")', \n",
    "                      '(\"(\\'NC|obs0_f1-obj0_v1\\', \\'NC|obs0_f0-rob0_v1\\', \\'IC|obj0_f1-rob0_f1\\')\", \"(\\'NC|obs0_f1-obj0_v1\\', \\'NC|obs0_f0-rob0_v1\\', \\'IC|obj0_f0-rob0_v1\\')\")'\n",
    "                      ], \n",
    "                vertex_path=[\n",
    "                    'source', \n",
    "                    \"('NC|obs0_f1-obj0_v1', 'NC|obs0_f0-rob0_v1', 'NC|obj0_f0-rob0_v1')\", \n",
    "                    \"('NC|obs0_f1-obj0_v1', 'NC|obs0_f0-rob0_v1', 'IC|obj0_f1-rob0_f1')\", \n",
    "                    \"('NC|obs0_f1-obj0_v1', 'NC|obs0_f0-rob0_v1', 'IC|obj0_f0-rob0_v1')\"\n",
    "                    ]\n",
    "                )\n",
    "alg._set_samples[n.vertex_name].project(alg._graph, n)\n"
   ]
  },
  {
   "cell_type": "markdown",
   "metadata": {},
   "source": [
    "The equality constraints on edges can collapse the feasible region in the next set to some measure 0 subspace which then have probability 0 of being sampled"
   ]
  },
  {
   "cell_type": "code",
   "execution_count": null,
   "metadata": {},
   "outputs": [],
   "source": []
  }
 ],
 "metadata": {
  "kernelspec": {
   "display_name": ".venv",
   "language": "python",
   "name": "python3"
  },
  "language_info": {
   "codemirror_mode": {
    "name": "ipython",
    "version": 3
   },
   "file_extension": ".py",
   "mimetype": "text/x-python",
   "name": "python",
   "nbconvert_exporter": "python",
   "pygments_lexer": "ipython3",
   "version": "3.8.10"
  }
 },
 "nbformat": 4,
 "nbformat_minor": 2
}
