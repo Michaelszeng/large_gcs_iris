{
 "cells": [
  {
   "cell_type": "markdown",
   "metadata": {},
   "source": [
    "# Implicitly defined reachable sets within GCS"
   ]
  },
  {
   "cell_type": "code",
   "execution_count": null,
   "metadata": {},
   "outputs": [],
   "source": [
    "import numpy as np\n",
    "from large_gcs.graph_generators.hor_vert_gcs import create_simplest_hor_vert_graph\n",
    "\n",
    "# from explorations.hor_vert_gcs_bug import create_simplest_hor_vert_graph\n",
    "\n",
    "import logging\n",
    "\n",
    "logging.basicConfig(level=logging.WARN)\n",
    "logging.getLogger(\"large_gcs\").setLevel(logging.DEBUG)"
   ]
  },
  {
   "cell_type": "markdown",
   "metadata": {},
   "source": [
    "## Simple Example Graph"
   ]
  },
  {
   "cell_type": "code",
   "execution_count": null,
   "metadata": {},
   "outputs": [],
   "source": [
    "g = create_simplest_hor_vert_graph()\n",
    "g.plot_sets()\n",
    "g.plot_edges()\n",
    "g.plot_set_labels()"
   ]
  },
  {
   "cell_type": "code",
   "execution_count": null,
   "metadata": {},
   "outputs": [],
   "source": [
    "sol = g.solve_shortest_path()\n",
    "g.plot_sets()\n",
    "g.plot_edges()\n",
    "g.plot_path(sol.ambient_path)"
   ]
  },
  {
   "cell_type": "code",
   "execution_count": null,
   "metadata": {},
   "outputs": [],
   "source": [
    "print(g.edge_keys)\n",
    "sol_conv_res = g.solve_convex_restriction([(\"s\", \"p1\"), (\"p1\", \"p2\"), (\"p2\", \"t\")])\n",
    "\n",
    "sol_conv_res\n",
    "g.plot_sets()\n",
    "g.plot_path(sol_conv_res.ambient_path)"
   ]
  },
  {
   "cell_type": "code",
   "execution_count": null,
   "metadata": {},
   "outputs": [],
   "source": [
    "for vertex_name, v in g.vertices.items():\n",
    "    print(vertex_name, v.gcs_vertex.set().IsBounded())"
   ]
  },
  {
   "cell_type": "markdown",
   "metadata": {},
   "source": [
    "# Sampling Procedure\n",
    "To determine if A is dominated by B"
   ]
  },
  {
   "cell_type": "code",
   "execution_count": null,
   "metadata": {},
   "outputs": [],
   "source": [
    "# Sample 100 points in p2\n",
    "p2_samples = np.array(g.vertices[\"p2\"].convex_set.get_samples(100))\n",
    "g.plot_sets()\n",
    "g.plot_points(p2_samples)"
   ]
  },
  {
   "cell_type": "code",
   "execution_count": null,
   "metadata": {},
   "outputs": [],
   "source": [
    "# Project these samples into revised set based on path\n",
    "\n",
    "\n",
    "def project_sample_to_revised_set(sample, vertex_sampled, active_edges):\n",
    "    prog = MathematicalProgram()\n",
    "    vertex_names = [active_edges[0][0]] + [edge[1] for edge in active_edges]\n",
    "    # gcs vertices\n",
    "    vertices = [g.vertices[name].gcs_vertex for name in vertex_names]\n",
    "    edges = [g.edges[edge].gcs_edge for edge in active_edges]\n",
    "    for v in vertices:\n",
    "        if v.set().ambient_dimension() == 0:\n",
    "            continue\n",
    "        prog.AddDecisionVariables(v.x())\n",
    "        v.set().AddPointInSetConstraints(prog, v.x())\n",
    "\n",
    "        # Vertex Costs\n",
    "        for binding in v.GetCosts():\n",
    "            prog.AddCost(binding)\n",
    "        # Vertex Constraints\n",
    "        for binding in v.GetConstraints():\n",
    "            prog.AddConstraint(binding)\n",
    "\n",
    "    for e in edges:\n",
    "        # Edge Costs\n",
    "        for binding in e.GetCosts():\n",
    "            prog.AddCost(binding)\n",
    "        # Edge Constraints\n",
    "        for binding in e.GetConstraints():\n",
    "            prog.AddConstraint(binding)\n",
    "\n",
    "    result = Solve(prog)\n",
    "    if not result.is_success():\n",
    "        raise RuntimeError(\"Failed to solve\")\n",
    "    return result\n",
    "\n",
    "\n",
    "# active_edges = [(\"s\", \"p1\"), (\"p1\", \"p2\")]\n",
    "active_edges = [(\"s\", \"p1\"), (\"p1\", \"p2\"), (\"p2\", \"t\")]\n",
    "res = project_sample_to_revised_set(p2_samples[0], \"p2\", active_edges)\n",
    "print(f\"optimal_cost: {res.get_optimal_cost()}\")\n",
    "print(sol.cost)"
   ]
  },
  {
   "cell_type": "code",
   "execution_count": null,
   "metadata": {},
   "outputs": [],
   "source": []
  },
  {
   "cell_type": "markdown",
   "metadata": {},
   "source": [
    "# GcsAstarReachability"
   ]
  },
  {
   "cell_type": "code",
   "execution_count": null,
   "metadata": {},
   "outputs": [],
   "source": [
    "from large_gcs.algorithms.gcs_astar_reachability import GcsAstarReachability\n",
    "from large_gcs.cost_estimators.shortcut_edge_ce import ShortcutEdgeCE\n",
    "from large_gcs.graph.contact_cost_constraint_factory import (\n",
    "    contact_shortcut_edge_cost_factory_over_obj_weighted,\n",
    ")\n",
    "from large_gcs.graph.cost_constraint_factory import (\n",
    "    shortcut_edge_cost_factory,\n",
    ")\n",
    "import numpy as np\n",
    "\n",
    "# from large_gcs.graph_generators.hor_vert_gcs import create_simplest_hor_vert_graph\n",
    "from explorations.hor_vert_gcs_bug import create_simplest_hor_vert_graph\n",
    "\n",
    "import logging\n",
    "\n",
    "logging.basicConfig(level=logging.WARN)\n",
    "logging.getLogger(\"large_gcs\").setLevel(logging.DEBUG)"
   ]
  },
  {
   "cell_type": "code",
   "execution_count": null,
   "metadata": {},
   "outputs": [],
   "source": [
    "g = create_simplest_hor_vert_graph()\n",
    "cost_estimator_se = ShortcutEdgeCE(g, shortcut_edge_cost_factory)\n",
    "alg = GcsAstarReachability(g, cost_estimator_se, num_samples_per_vertex=3)\n",
    "sol = alg.run()"
   ]
  },
  {
   "cell_type": "code",
   "execution_count": null,
   "metadata": {},
   "outputs": [],
   "source": [
    "alg._set_samples"
   ]
  },
  {
   "cell_type": "code",
   "execution_count": null,
   "metadata": {},
   "outputs": [],
   "source": [
    "g.edges.keys()"
   ]
  },
  {
   "cell_type": "code",
   "execution_count": null,
   "metadata": {},
   "outputs": [],
   "source": [
    "g.plot_sets()"
   ]
  },
  {
   "cell_type": "code",
   "execution_count": null,
   "metadata": {},
   "outputs": [],
   "source": [
    "# sol = g.solve_convex_restriction([('s', 'p1'), ('p1', 'p1_sample_0')])\n",
    "sol = g.solve_convex_restriction([(\"s\", \"p1\"), (\"p1\", \"p2\"), (\"p2\", \"t\")])"
   ]
  },
  {
   "cell_type": "code",
   "execution_count": null,
   "metadata": {},
   "outputs": [],
   "source": [
    "sol"
   ]
  },
  {
   "cell_type": "code",
   "execution_count": null,
   "metadata": {},
   "outputs": [],
   "source": []
  }
 ],
 "metadata": {
  "kernelspec": {
   "display_name": ".venv",
   "language": "python",
   "name": "python3"
  },
  "language_info": {
   "codemirror_mode": {
    "name": "ipython",
    "version": 3
   },
   "file_extension": ".py",
   "mimetype": "text/x-python",
   "name": "python",
   "nbconvert_exporter": "python",
   "pygments_lexer": "ipython3",
   "version": "3.11.6"
  }
 },
 "nbformat": 4,
 "nbformat_minor": 2
}
