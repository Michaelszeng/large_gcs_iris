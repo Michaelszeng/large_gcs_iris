{
 "cells": [
  {
   "cell_type": "code",
   "execution_count": 1,
   "metadata": {},
   "outputs": [
    {
     "name": "stdout",
     "output_type": "stream",
     "text": [
      "Set parameter Username\n",
      "Academic license - for non-commercial use only - expires 2025-06-05\n"
     ]
    },
    {
     "name": "stderr",
     "output_type": "stream",
     "text": [
      "/home/shaoyuan/Documents/Software/pypolycontain/pypolycontain/conversions.py:19: UserWarning: WARNING: You don't have CDD package installed. Unable to visualize polytopes. You may still visualize zonotopes.\n",
      "  warnings.warn(\"WARNING: You don't have CDD package installed. Unable to visualize polytopes. You may still visualize zonotopes.\")\n",
      "/home/shaoyuan/Documents/Software/pypolycontain/pypolycontain/containment.py:16: UserWarning: You don't have CDD package installed. Unable to run cone ray generation.\n",
      "  warnings.warn(\"You don't have CDD package installed. Unable to run cone ray generation.\")\n"
     ]
    }
   ],
   "source": [
    "import pickle\n",
    "import numpy as np\n",
    "from large_gcs.algorithms.gcs_astar_reachability import GcsAstarReachability\n",
    "from large_gcs.cost_estimators.shortcut_edge_ce import ShortcutEdgeCE\n",
    "from large_gcs.domination_checkers.reaches_cheaper_sampling import ReachesCheaperSampling\n",
    "from large_gcs.domination_checkers.reaches_new_sampling import ReachesNewSampling\n",
    "from large_gcs.graph.cfree_cost_constraint_factory import create_cfree_shortcut_edge_factory_over, create_cfree_shortcut_edge_factory_under\n",
    "from large_gcs.graph.cfree_graph import CFreeGraph\n",
    "from large_gcs.geometry.polyhedron import Polyhedron\n",
    "\n",
    "from pydrake.all import (CalcPairwiseIntersections)\n",
    "\n",
    "import logging\n",
    "logging.basicConfig(level=logging.DEBUG)\n",
    "logger = logging.getLogger(__name__)\n",
    "\n"
   ]
  },
  {
   "cell_type": "code",
   "execution_count": 2,
   "metadata": {},
   "outputs": [],
   "source": [
    "file_name = '../example_graphs/problem_1_regions.pkl'\n",
    "with open(file_name, 'rb') as file:\n",
    "    hpolys = pickle.load(file)\n",
    "\n",
    "# adj_file_name = '../temp/problem_0_adj.pkl'\n",
    "# with open(adj_file_name, 'rb') as file:\n",
    "#     adj_list = pickle.load(file)"
   ]
  },
  {
   "cell_type": "code",
   "execution_count": 3,
   "metadata": {},
   "outputs": [
    {
     "data": {
      "text/plain": [
       "671"
      ]
     },
     "execution_count": 3,
     "metadata": {},
     "output_type": "execute_result"
    }
   ],
   "source": [
    "len(hpolys)"
   ]
  },
  {
   "cell_type": "code",
   "execution_count": 4,
   "metadata": {},
   "outputs": [],
   "source": [
    "hpolys = hpolys[:400]"
   ]
  },
  {
   "cell_type": "code",
   "execution_count": 5,
   "metadata": {},
   "outputs": [],
   "source": [
    "adj_list = CalcPairwiseIntersections(hpolys, [3, 4, 5])"
   ]
  },
  {
   "cell_type": "code",
   "execution_count": 6,
   "metadata": {},
   "outputs": [
    {
     "data": {
      "text/plain": [
       "5946"
      ]
     },
     "execution_count": 6,
     "metadata": {},
     "output_type": "execute_result"
    }
   ],
   "source": [
    "len(adj_list)"
   ]
  },
  {
   "cell_type": "code",
   "execution_count": 7,
   "metadata": {},
   "outputs": [],
   "source": [
    "with open('../example_graphs/problem_3_regions.pkl', 'wb') as file:\n",
    "    pickle.dump(hpolys, file)\n",
    "\n",
    "with open('../example_graphs/problem_3_adj.pkl', 'wb') as file:\n",
    "    pickle.dump(adj_list, file)"
   ]
  },
  {
   "cell_type": "code",
   "execution_count": null,
   "metadata": {},
   "outputs": [],
   "source": [
    "# file_name = '../temp/problem_1_regions.pkl'\n",
    "# with open(file_name, 'rb') as file:\n",
    "#     hpolys = pickle.load(file)\n",
    "\n",
    "# adj_file_name = '../temp/problem_1_adj.pkl'\n",
    "# with open(adj_file_name, 'rb') as file:\n",
    "#     adj_list = pickle.load(file)\n",
    "\n",
    "# source = np.array([4.25, 0.25, 0.15, 0, 0, 0])\n",
    "# target = np.array([4.25, 4.25, 0.15, np.pi, np.pi, np.pi])"
   ]
  },
  {
   "cell_type": "code",
   "execution_count": null,
   "metadata": {},
   "outputs": [],
   "source": [
    "len(hpolys), len(adj_list)"
   ]
  },
  {
   "cell_type": "code",
   "execution_count": null,
   "metadata": {},
   "outputs": [],
   "source": [
    "hpolys[0].ambient_dimension()"
   ]
  },
  {
   "cell_type": "code",
   "execution_count": null,
   "metadata": {},
   "outputs": [],
   "source": [
    "\n",
    "g = CFreeGraph(source=source, target=target, hpolys=hpolys, adj_list=adj_list)\n",
    "cost_estimator = ShortcutEdgeCE(graph=g, shortcut_edge_cost_factory=create_cfree_shortcut_edge_factory_over)\n",
    "domination_checker = ReachesNewSampling(graph=g, num_samples_per_vertex=1)\n",
    "alg = GcsAstarReachability(\n",
    "    graph=g,\n",
    "    cost_estimator=cost_estimator,\n",
    "    domination_checker=domination_checker,\n",
    "    should_invert_S=True,\n",
    ")\n"
   ]
  },
  {
   "cell_type": "code",
   "execution_count": null,
   "metadata": {},
   "outputs": [],
   "source": [
    "g.params"
   ]
  },
  {
   "cell_type": "code",
   "execution_count": null,
   "metadata": {},
   "outputs": [],
   "source": [
    "sol = alg.run()"
   ]
  },
  {
   "cell_type": "code",
   "execution_count": 9,
   "metadata": {},
   "outputs": [
    {
     "data": {
      "text/plain": [
       "13"
      ]
     },
     "execution_count": 9,
     "metadata": {},
     "output_type": "execute_result"
    }
   ],
   "source": [
    "ambient_path = [[4.25,0.25,0.15,0,0,0],[4.25,0.25,0.15,0,0,0,0.26586284059541176,0.27987215771244767,0.1205563374778117,-0.4404943725302447,-1.5393803996020226,-0.7226071073234783],[0.26586284059541176,0.27987215771244767,0.12055633747721468,-0.4404943725302447,-1.5393803996020226,-0.7226071073234783,0.26505953955408545,0.7154104183481117,0.11207440062758722,-0.5673340877732463,-2.690339515674395,-0.9307268124466008],[0.26505953955408545,0.7154104183707866,0.11207440062700612,-0.5673340877732463,3.5928457915051912,-0.9307268124466008,0.7350207372563665,0.7847282059283358,0.10319133207036554,-0.5673340857682208,2.3872724968725088,-1.1487493868704843],[0.7350207372563665,0.7847282059681381,0.1031913320698074,-0.5673340857566834,2.3872724968250085,-1.1487493868900067,0.7649814764176052,1.222175993958108,0.09506525199833746,-0.09768117665184849,1.391089193573407,-1.3482029980503891],[0.7649814764176052,1.222175993958108,0.09506525199781868,-0.09768117665184849,1.391089193573407,-1.3482029980647614,2.735006621993521,1.2792461444311825,0.0750911087263609,1.0689094998712014,0.10204737861034992,-2.698470524780234],[2.735006621993521,1.2792461444311825,0.07509110872598068,1.0689094998712014,0.10204737859197768,-2.698470524780234,2.7649805973447026,1.6343007096036462,0.07207196861848586,1.247802731953886,0.1020473780444365,-2.9001999868012103],[2.7649805973447026,1.6343007096036462,0.07207196861829711,1.2478027319875655,0.10204737804315092,3.382985318628844,3.234325990511695,1.768805472319325,0.0676014538324113,1.5497405511954767,0.2891780626100145,3.1121021006770246],[3.234325990511695,1.768805472319325,0.06760145383319326,1.5497405511954767,0.2891780626100145,3.1121021006770246,3.2644456813155105,3.655322892148229,0.11088576918870334,3.5996242139265764,1.7754756228029918,2.3500584828844087],[3.2644456813155105,3.655322892148229,0.11088576918974924,-2.68356109325301,1.7754756228029918,2.3500584828844087,3.735035670008092,3.732069669862956,0.1186331424740622,-2.518302772073975,2.0118263272133583,2.183940398489105],[3.735035670008092,3.732069669862956,0.11863314247505144,-2.518302772026839,2.011826327261071,2.183940398504965,3.764981458293326,4.183916998289838,0.1342199476316655,-2.3483749721732976,3.052851730093475,2.414553805888634],[3.764981458293326,4.183916998289838,0.13421994763310566,3.934810333333599,3.052851730177194,2.4145538060024996,4.25,4.25,0.15,3.141592653589793,3.141592653589793,3.141592653589793],[4.25,4.25,0.15,3.141592653589793,3.141592653589793,3.141592653589793]]\n",
    "# import pprint\n",
    "# pprint.pprint(ambient_path)\n",
    "len(ambient_path)"
   ]
  },
  {
   "cell_type": "code",
   "execution_count": null,
   "metadata": {},
   "outputs": [],
   "source": []
  }
 ],
 "metadata": {
  "kernelspec": {
   "display_name": ".venv",
   "language": "python",
   "name": "python3"
  },
  "language_info": {
   "codemirror_mode": {
    "name": "ipython",
    "version": 3
   },
   "file_extension": ".py",
   "mimetype": "text/x-python",
   "name": "python",
   "nbconvert_exporter": "python",
   "pygments_lexer": "ipython3",
   "version": "3.10.12"
  }
 },
 "nbformat": 4,
 "nbformat_minor": 2
}
