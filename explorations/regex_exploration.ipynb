{
 "cells": [
  {
   "cell_type": "code",
   "execution_count": 1,
   "metadata": {},
   "outputs": [],
   "source": [
    "import re"
   ]
  },
  {
   "cell_type": "code",
   "execution_count": 14,
   "metadata": {},
   "outputs": [
    {
     "name": "stdout",
     "output_type": "stream",
     "text": [
      "None\n",
      "None\n",
      "<re.Match object; span=(0, 66), match=\"('NC|obs0_f0-obj0_v3', 'NC|obs0_f0-rob0_v1', 'NC|>\n",
      "<re.Match object; span=(0, 66), match=\"('IC|obs0_f0-obj0_v3', 'NC|obs0_f0-rob0_v1', 'IC|>\n"
     ]
    }
   ],
   "source": [
    "regex_pattern = \"^(?!.*(source|'\\(NC\\|obs0_f0-obj0_v3', 'NC\\|obs0_f0-rob0_v1', 'NC\\|obj0_f1-rob0_f1'\\)|'\\(IC\\|obs0_f0-obj0_v3', 'NC\\|obs0_f0-rob0_v1', 'IC\\|obj0_f1-rob0_f1'\\)|'\\(IC\\|obs0_v0-obj0_f2', 'NC\\|obs0_f0-rob0_v1', 'IC\\|obj0_f1-rob0_f1'\\)|'\\(IC\\|obs0_v0-obj0_f2', 'NC\\|obs0_f2-rob0_v0', 'IC\\|obj0_f0-rob0_v1'\\)|'\\(IC\\|obs0_f2-obj0_f1', 'NC\\|obs0_f2-rob0_v0', 'IC\\|obj0_f0-rob0_v1'\\)|'\\(IC\\|obs0_f2-obj0_f1', 'NC\\|obs0_f2-rob0_v0', 'NC\\|obj0_f0-rob0_v1'\\)|'\\(IC\\|obs0_f2-obj0_f1', 'NC\\|obs0_f2-rob0_v0', 'NC\\|obj0_f3-rob0_v0'\\)|target)).*$\"\n",
    "strings_to_test = [\n",
    "    \"source\",\n",
    "    \"target\",\n",
    "    \"('NC|obs0_f0-obj0_v3', 'NC|obs0_f0-rob0_v1', 'NC|obj0_f1-rob0_f1')\",\n",
    "    \"('IC|obs0_f0-obj0_v3', 'NC|obs0_f0-rob0_v1', 'IC|obj0_f1-rob0_f1')\",\n",
    "]\n",
    "for string in strings_to_test:\n",
    "    print(re.search(regex_pattern, string))"
   ]
  },
  {
   "cell_type": "code",
   "execution_count": 19,
   "metadata": {},
   "outputs": [
    {
     "name": "stdout",
     "output_type": "stream",
     "text": [
      "False\n"
     ]
    }
   ],
   "source": [
    "import re\n",
    "\n",
    "substrings = [\n",
    "    \"source\",\n",
    "    \"('NC|obs0_f0-obj0_v3', 'NC|obs0_f0-rob0_v1', 'NC|obj0_f1-rob0_f1')\",\n",
    "    # ... other substrings ...\n",
    "    \"target\",\n",
    "]\n",
    "\n",
    "string = \"('NC|obs0_f4-obj0_v2', 'NC|obs0_f0-rob0_v1', 'NC|obj0_f1-rob0_f1')\"\n",
    "print(any(substring in string for substring in substrings))\n",
    "\n",
    "# for substring in substrings:\n",
    "#     if re.search(substring, string):\n",
    "#         print(f\"The string contains the substring {substring}\")\n",
    "#         break\n",
    "# else:\n",
    "#     print(\"The string does not contain any of the substrings\")"
   ]
  },
  {
   "cell_type": "code",
   "execution_count": null,
   "metadata": {},
   "outputs": [],
   "source": []
  }
 ],
 "metadata": {
  "kernelspec": {
   "display_name": ".venv",
   "language": "python",
   "name": "python3"
  },
  "language_info": {
   "codemirror_mode": {
    "name": "ipython",
    "version": 3
   },
   "file_extension": ".py",
   "mimetype": "text/x-python",
   "name": "python",
   "nbconvert_exporter": "python",
   "pygments_lexer": "ipython3",
   "version": "3.11.3"
  },
  "orig_nbformat": 4
 },
 "nbformat": 4,
 "nbformat_minor": 2
}
