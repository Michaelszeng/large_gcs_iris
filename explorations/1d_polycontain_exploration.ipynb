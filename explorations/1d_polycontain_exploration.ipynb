{
 "cells": [
  {
   "cell_type": "code",
   "execution_count": 1,
   "metadata": {},
   "outputs": [
    {
     "name": "stderr",
     "output_type": "stream",
     "text": [
      "/Users/chewchiashaoyuan/Documents/Software/pypolycontain/pypolycontain/conversions.py:19: UserWarning: WARNING: You don't have CDD package installed. Unable to visualize polytopes. You may still visualize zonotopes.\n",
      "  warnings.warn(\"WARNING: You don't have CDD package installed. Unable to visualize polytopes. You may still visualize zonotopes.\")\n",
      "/Users/chewchiashaoyuan/Documents/Software/pypolycontain/pypolycontain/containment.py:16: UserWarning: You don't have CDD package installed. Unable to run cone ray generation.\n",
      "  warnings.warn(\"You don't have CDD package installed. Unable to run cone ray generation.\")\n",
      "100%|██████████| 3/3 [00:00<00:00, 10416.32it/s]\n"
     ]
    },
    {
     "data": {
      "image/png": "[encoded data removed]",
      "text/plain": [
       "<Figure size 640x480 with 1 Axes>"
      ]
     },
     "metadata": {},
     "output_type": "display_data"
    }
   ],
   "source": [
    "from large_gcs.geometry.polyhedron import Polyhedron\n",
    "import numpy as np\n",
    "\n",
    "from large_gcs.graph.cost_constraint_factory import (\n",
    "    create_2d_x_equality_edge_constraint,\n",
    "    create_2d_y_equality_edge_constraint,\n",
    "    create_l1norm_edge_cost,\n",
    ")\n",
    "from large_gcs.graph.graph import DefaultGraphCostsConstraints, Edge, Graph\n",
    "from large_gcs.algorithms.search_algorithm import SearchNode\n",
    "from large_gcs.domination_checkers.ah_containment_domination_checker import (\n",
    "    AHContainmentDominationChecker,\n",
    ")\n",
    "\n",
    "\n",
    "def create_simple_1d_graph() -> Graph:\n",
    "    dim = 1\n",
    "    # Convex sets\n",
    "    sets = (\n",
    "        # s\n",
    "        Polyhedron.from_vertices([[0], [1]]),\n",
    "        # t\n",
    "        Polyhedron.from_vertices([[2], [3]]),\n",
    "        # p0\n",
    "        Polyhedron.from_vertices([[0.5], [1.5]]),\n",
    "    )\n",
    "\n",
    "    # Vertex names\n",
    "    vertex_names = [\"s\", \"t\"]\n",
    "    vertex_names += [f\"p{i}\" for i in range(len(sets) - 2)]\n",
    "\n",
    "    # Edge costs\n",
    "    # edge_cost = create_l2norm_squared_edge_cost(dim)\n",
    "    edge_cost = create_l1norm_edge_cost(dim)\n",
    "    default_costs_constraints = DefaultGraphCostsConstraints(edge_costs=[edge_cost])\n",
    "    # Add convex sets to graph\n",
    "    G = Graph(default_costs_constraints)\n",
    "    G.add_vertices_from_sets(sets, names=vertex_names)\n",
    "    G.set_source(\"s\")\n",
    "    G.set_target(\"t\")\n",
    "\n",
    "    # Edges\n",
    "    hor_edges = {\n",
    "        \"s\": (\"t\",),\n",
    "        \"p0\": (\"t\",),\n",
    "    }\n",
    "\n",
    "    def add_edges(edges, constraints):\n",
    "        for u, vs in edges.items():\n",
    "            for v in vs:\n",
    "                # print(f\"Adding edge {u} -> {v}\")\n",
    "                G.add_edge(Edge(u, v, constraints=constraints))\n",
    "\n",
    "    add_edges(hor_edges, None)\n",
    "    return G\n",
    "\n",
    "\n",
    "G = create_simple_1d_graph()\n",
    "G.plot_sets()\n",
    "# G.plot_edges()\n",
    "# G.plot_set_labels()\n",
    "import matplotlib.pyplot as plt\n",
    "\n",
    "# Setting major and minor ticks\n",
    "ax = plt.gca()  # Get current axis\n",
    "ax.xaxis.set_major_locator(plt.MultipleLocator(1))  # Major ticks at every 1\n",
    "ax.xaxis.set_minor_locator(plt.MultipleLocator(0.2))  # Minor ticks at every 0.2\n",
    "ax.yaxis.set_major_locator(plt.MultipleLocator(0.5))\n",
    "ax.yaxis.set_minor_locator(plt.MultipleLocator(0.1))\n",
    "plt.grid()"
   ]
  },
  {
   "cell_type": "code",
   "execution_count": 2,
   "metadata": {},
   "outputs": [],
   "source": [
    "domination_checker = AHContainmentDominationChecker(graph=G)\n",
    "\n",
    "n = SearchNode.from_vertex_path([\"s\", \"t\"])\n",
    "n_prime = SearchNode.from_vertex_path([\"p0\", \"t\"])\n",
    "A_n, b_n = domination_checker.get_epigraph_matrices(\n",
    "    n, cost_upper_bound=5, add_upper_bound=True\n",
    ")\n",
    "T_n = domination_checker.get_projection_transformation(\n",
    "    n, A=A_n, include_cost_epigraph=True\n",
    ")\n",
    "A_n_prime, b_n_prime = domination_checker.get_epigraph_matrices(\n",
    "    n_prime, cost_upper_bound=5, add_upper_bound=True\n",
    ")\n",
    "T_n_prime = domination_checker.get_projection_transformation(\n",
    "    n_prime, A=A_n_prime, include_cost_epigraph=True\n",
    ")"
   ]
  },
  {
   "cell_type": "code",
   "execution_count": 3,
   "metadata": {},
   "outputs": [
    {
     "data": {
      "text/plain": [
       "array([[ 1.],\n",
       "       [-1.]])"
      ]
     },
     "execution_count": 3,
     "metadata": {},
     "output_type": "execute_result"
    }
   ],
   "source": [
    "G.vertices[\"t\"].convex_set.set.A()"
   ]
  },
  {
   "cell_type": "code",
   "execution_count": 4,
   "metadata": {},
   "outputs": [
    {
     "data": {
      "text/plain": [
       "(array([[ 1.,  0.,  0.,  0.],\n",
       "        [-1.,  0.,  0.,  0.],\n",
       "        [ 0.,  1.,  0.,  0.],\n",
       "        [ 0., -1.,  0.,  0.],\n",
       "        [ 1., -1., -1.,  0.],\n",
       "        [-1.,  1., -1.,  0.],\n",
       "        [ 0.,  0.,  1., -1.],\n",
       "        [ 0.,  0.,  0.,  1.]]),\n",
       " array([ 1., -0.,  3., -2.,  0.,  0.,  0.,  5.]),\n",
       " array([[0., 1., 0., 0.],\n",
       "        [0., 0., 0., 1.]]))"
      ]
     },
     "execution_count": 4,
     "metadata": {},
     "output_type": "execute_result"
    }
   ],
   "source": [
    "A_n, b_n, T_n"
   ]
  },
  {
   "cell_type": "code",
   "execution_count": 5,
   "metadata": {},
   "outputs": [
    {
     "data": {
      "text/plain": [
       "((2, 4), (8, 4))"
      ]
     },
     "execution_count": 5,
     "metadata": {},
     "output_type": "execute_result"
    }
   ],
   "source": [
    "T_n.shape, A_n.shape"
   ]
  },
  {
   "cell_type": "code",
   "execution_count": 6,
   "metadata": {},
   "outputs": [
    {
     "data": {
      "text/plain": [
       "array([[0],\n",
       "       [1],\n",
       "       [2],\n",
       "       [3]])"
      ]
     },
     "execution_count": 6,
     "metadata": {},
     "output_type": "execute_result"
    }
   ],
   "source": [
    "np.arange(A_n.shape[1]).reshape(-1, 1)"
   ]
  },
  {
   "cell_type": "code",
   "execution_count": 7,
   "metadata": {},
   "outputs": [
    {
     "data": {
      "text/plain": [
       "array([[1.],\n",
       "       [3.]])"
      ]
     },
     "execution_count": 7,
     "metadata": {},
     "output_type": "execute_result"
    }
   ],
   "source": [
    "T_n @ np.arange(A_n.shape[1]).reshape(-1, 1)"
   ]
  },
  {
   "cell_type": "code",
   "execution_count": 8,
   "metadata": {},
   "outputs": [
    {
     "data": {
      "text/plain": [
       "array([[1.],\n",
       "       [3.]])"
      ]
     },
     "execution_count": 8,
     "metadata": {},
     "output_type": "execute_result"
    }
   ],
   "source": [
    "T_n_prime @ np.arange(A_n_prime.shape[1]).reshape(-1, 1)"
   ]
  },
  {
   "cell_type": "code",
   "execution_count": 9,
   "metadata": {},
   "outputs": [
    {
     "name": "stderr",
     "output_type": "stream",
     "text": [
      "Could not compute center\n",
      "Could not compute center\n"
     ]
    },
    {
     "data": {
      "image/png": "[encoded data removed]",
      "text/plain": [
       "<Figure size 640x480 with 1 Axes>"
      ]
     },
     "metadata": {},
     "output_type": "display_data"
    }
   ],
   "source": [
    "P_n_prime = Polyhedron(A=A_n_prime, b=b_n_prime)\n",
    "P_n_prime.plot_transformation(T_n_prime, color=\"b\", linestyle=\"dashed\")\n",
    "P_n = Polyhedron(A=A_n, b=b_n)\n",
    "P_n.plot_transformation(T_n, color=\"r\", linestyle=\"dotted\")\n",
    "G.plot_sets()"
   ]
  },
  {
   "cell_type": "code",
   "execution_count": 10,
   "metadata": {},
   "outputs": [
    {
     "data": {
      "text/plain": [
       "True"
      ]
     },
     "execution_count": 10,
     "metadata": {},
     "output_type": "execute_result"
    }
   ],
   "source": [
    "domination_checker.is_contained_in(A_n, b_n, T_n, A_n_prime, b_n_prime, T_n_prime)\n",
    "# Should return True"
   ]
  },
  {
   "cell_type": "code",
   "execution_count": 11,
   "metadata": {},
   "outputs": [
    {
     "data": {
      "text/plain": [
       "False"
      ]
     },
     "execution_count": 11,
     "metadata": {},
     "output_type": "execute_result"
    }
   ],
   "source": [
    "domination_checker.is_contained_in(A_n_prime, b_n_prime, T_n_prime, A_n, b_n, T_n)\n",
    "# Should return False"
   ]
  },
  {
   "cell_type": "code",
   "execution_count": null,
   "metadata": {},
   "outputs": [],
   "source": []
  }
 ],
 "metadata": {
  "kernelspec": {
   "display_name": ".venv",
   "language": "python",
   "name": "python3"
  },
  "language_info": {
   "codemirror_mode": {
    "name": "ipython",
    "version": 3
   },
   "file_extension": ".py",
   "mimetype": "text/x-python",
   "name": "python",
   "nbconvert_exporter": "python",
   "pygments_lexer": "ipython3",
   "version": "3.11.6"
  }
 },
 "nbformat": 4,
 "nbformat_minor": 2
}
