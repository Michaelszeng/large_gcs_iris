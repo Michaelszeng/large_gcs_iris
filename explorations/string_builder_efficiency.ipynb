{
 "cells": [
  {
   "cell_type": "code",
   "execution_count": 1,
   "metadata": {},
   "outputs": [
    {
     "name": "stdout",
     "output_type": "stream",
     "text": [
      "Concatenation using +: 19.529987435002113 seconds\n",
      "Concatenation using format: 38.150933060998796 seconds\n",
      "Concatenation using f-string: 28.916764698995394 seconds\n",
      "Concatenation using join: 33.434535180997045 seconds\n"
     ]
    }
   ],
   "source": [
    "import timeit\n",
    "\n",
    "u = \"('NC|obs0_v1-obj0_f3', 'NC|obs0_v1-rob0_f1', 'IC|obj0_f3-rob0_v0', 'NC|obs0_v1-obj0_f3', 'NC|obs0_v1-rob0_f1', 'IC|obj0_f3-rob0_v0', 'NC|obs0_v1-obj0_f3', 'NC|obs0_v1-rob0_f1', 'IC|obj0_f3-rob0_v0', 'NC|obs0_v1-obj0_f3', 'NC|obs0_v1-rob0_f1', 'IC|obj0_f3-rob0_v0')\"\n",
    "v = \"('NC|obs0_v1-obj0_f3', 'NC|obs0_v1-rob0_f1', 'IC|obj0_f3-rob0_v0', 'NC|obs0_v1-obj0_f3', 'NC|obs0_v1-rob0_f1', 'IC|obj0_f3-rob0_v0', 'NC|obs0_v1-obj0_f3', 'NC|obs0_v1-rob0_f1', 'IC|obj0_f3-rob0_v0', 'NC|obs0_v1-obj0_f3', 'NC|obs0_v1-rob0_f1', 'IC|obj0_f3-rob0_v0')\"\n",
    "B = int(1e8)\n",
    "# Concatenation using +\n",
    "time_plus = timeit.timeit(lambda: u + v, number=B)\n",
    "print(f\"Concatenation using +: {time_plus} seconds\")\n",
    "\n",
    "# Concatenation using format\n",
    "time_format = timeit.timeit(lambda: \"{}{}\".format(u, v), number=B)\n",
    "print(f\"Concatenation using format: {time_format} seconds\")\n",
    "\n",
    "# Concatenation using f-string\n",
    "time_fstring = timeit.timeit(lambda: f\"{u}{v}\", number=B)\n",
    "print(f\"Concatenation using f-string: {time_fstring} seconds\")\n",
    "\n",
    "# Concatenation using join\n",
    "time_join = timeit.timeit(lambda: ''.join([u, v]), number=B)\n",
    "print(f\"Concatenation using join: {time_join} seconds\")\n"
   ]
  },
  {
   "cell_type": "code",
   "execution_count": 2,
   "metadata": {},
   "outputs": [
    {
     "name": "stdout",
     "output_type": "stream",
     "text": [
      "Concatenation using +: 22.018150353003875 seconds\n"
     ]
    }
   ],
   "source": [
    "time_plus = timeit.timeit(lambda: u + v, number=B)\n",
    "print(f\"Concatenation using +: {time_plus} seconds\")"
   ]
  },
  {
   "cell_type": "code",
   "execution_count": null,
   "metadata": {},
   "outputs": [],
   "source": []
  }
 ],
 "metadata": {
  "kernelspec": {
   "display_name": ".venv",
   "language": "python",
   "name": "python3"
  },
  "language_info": {
   "codemirror_mode": {
    "name": "ipython",
    "version": 3
   },
   "file_extension": ".py",
   "mimetype": "text/x-python",
   "name": "python",
   "nbconvert_exporter": "python",
   "pygments_lexer": "ipython3",
   "version": "3.12.3"
  }
 },
 "nbformat": 4,
 "nbformat_minor": 2
}
