{
 "cells": [
  {
   "cell_type": "code",
   "execution_count": 4,
   "metadata": {},
   "outputs": [],
   "source": [
    "import logging\n",
    "from large_gcs.graph_generators.contact_graph_generator import (\n",
    "    ContactGraphGeneratorParams,\n",
    "    ContactGraphGenerator,\n",
    ")\n",
    "from large_gcs.graph.incremental_contact_graph import IncrementalContactGraph\n",
    "from large_gcs.graph.contact_graph import ContactGraph\n",
    "from large_gcs.algorithms.search_algorithm import ReexploreLevel\n",
    "from large_gcs.algorithms.gcs_astar import GcsAstar\n",
    "from large_gcs.algorithms.gcs_astar_convex_restriction import GcsAstarConvexRestriction\n",
    "from large_gcs.graph.contact_cost_constraint_factory import (\n",
    "    contact_shortcut_edge_cost_factory_under,\n",
    "    contact_shortcut_edge_cost_factory_over_obj_weighted,\n",
    ")\n",
    "from large_gcs.cost_estimators.shortcut_edge_ce import ShortcutEdgeCE\n",
    "from large_gcs.contact.contact_regions_set import ContactRegionParams\n",
    "\n",
    "import numpy as np\n",
    "from copy import deepcopy\n",
    "from IPython.display import HTML\n",
    "\n",
    "\n",
    "np.set_printoptions(formatter={\"float\": lambda x: \"{0:0.3f}\".format(x)})\n",
    "logging.basicConfig(level=logging.INFO)\n",
    "# logging.getLogger().setLevel(logging.INFO)\n",
    "logging.getLogger(\"drake\").setLevel(logging.WARNING)"
   ]
  },
  {
   "cell_type": "code",
   "execution_count": 12,
   "metadata": {},
   "outputs": [],
   "source": [
    "base_name = \"cg_trichal4\""
   ]
  },
  {
   "cell_type": "code",
   "execution_count": 13,
   "metadata": {},
   "outputs": [
    {
     "name": "stderr",
     "output_type": "stream",
     "text": [
      "INFO:large_gcs.graph.contact_graph:Generating contact pair modes for 3 body pairs...\n",
      "100%|██████████| 3/3 [00:00<00:00, 73.55it/s]\n",
      "INFO:large_gcs.graph.contact_graph:Loading 20 contact pair modes for 3 bodies...\n",
      "INFO:large_gcs.graph.contact_graph:Generating contact sets for 179 sets...\n",
      "100%|██████████| 179/179 [00:00<00:00, 395.65it/s]\n",
      "INFO:large_gcs.graph.contact_graph:Creating vertex costs...\n",
      "100%|██████████| 181/181 [00:00<00:00, 12247.43it/s]\n",
      "INFO:large_gcs.graph.graph:Adding 181 vertices to graph...\n",
      "100%|██████████| 181/181 [00:00<00:00, 11589.31it/s]\n",
      "INFO:large_gcs.graph.contact_graph:Creating edge costs...\n",
      "100%|██████████| 6464/6464 [00:00<00:00, 8216.29it/s]\n",
      "INFO:large_gcs.graph.contact_graph:Creating edge constraints...\n",
      "100%|██████████| 6464/6464 [00:01<00:00, 5539.13it/s]\n",
      "INFO:large_gcs.graph.graph:Adding 6464 edges to graph...\n",
      "100%|██████████| 6464/6464 [00:01<00:00, 4545.97it/s]\n",
      "INFO:large_gcs.graph.contact_graph:Created contact graph: GraphParams(dim_bounds=(4, 18), n_vertices=181, n_edges=6464, source=[array([3.250, 0.000]), array([1.500, 0.500])], target='regions', workspace=array([[-5,  5],\n",
      "       [-4,  4]]), default_costs_constraints=None)\n"
     ]
    }
   ],
   "source": [
    "cg = ContactGraph.load_from_file(ContactGraphGeneratorParams.graph_file_path_from_name(base_name))"
   ]
  },
  {
   "cell_type": "code",
   "execution_count": 15,
   "metadata": {},
   "outputs": [
    {
     "name": "stderr",
     "output_type": "stream",
     "text": [
      "INFO:large_gcs.graph.contact_graph:Creating vertex costs...\n",
      "100%|██████████| 2/2 [00:00<00:00, 50840.05it/s]\n",
      "INFO:large_gcs.graph.graph:Adding 2 vertices to graph...\n",
      "100%|██████████| 2/2 [00:00<00:00, 24105.20it/s]\n",
      "INFO:large_gcs.graph.contact_graph:Generating contact pair modes for 3 body pairs...\n",
      "100%|██████████| 3/3 [00:00<00:00, 56.83it/s]\n",
      "INFO:large_gcs.graph.incremental_contact_graph:Calculating adjacent contact pair modes (67)\n",
      "100%|██████████| 67/67 [00:00<00:00, 3827.13it/s]\n"
     ]
    }
   ],
   "source": [
    "cg_inc = IncrementalContactGraph.load_from_file(ContactGraphGeneratorParams.inc_graph_file_path_from_name(base_name))"
   ]
  },
  {
   "cell_type": "code",
   "execution_count": 16,
   "metadata": {},
   "outputs": [
    {
     "data": {
      "text/plain": [
       "{'IC|obs0_f2-obj0_f1', 'NC|obs0_f2-obj0_f1'}"
      ]
     },
     "execution_count": 16,
     "metadata": {},
     "output_type": "execute_result"
    }
   ],
   "source": [
    "cg_inc._modes_w_possible_edge_to_target"
   ]
  },
  {
   "cell_type": "code",
   "execution_count": 17,
   "metadata": {},
   "outputs": [
    {
     "data": {
      "text/plain": [
       "[Edge(u=\"('IC|obs0_f2-obj0_f1', 'NC|obs0_f1-rob0_f2', 'NC|obj0_f1-rob0_f1')\", v='target', costs=[<pydrake.solvers.LinearCost object at 0x7f34858ba1b0>], constraints=[<pydrake.solvers.LinearEqualityConstraint object at 0x7f348579f570>], gcs_edge=<pydrake.geometry.optimization.GraphOfConvexSets.Edge object at 0x7f34856c1030>),\n",
       " Edge(u=\"('IC|obs0_f2-obj0_f1', 'NC|obs0_f1-rob0_f2', 'NC|obj0_f2-rob0_f2')\", v='target', costs=[<pydrake.solvers.LinearCost object at 0x7f34858bc530>], constraints=[<pydrake.solvers.LinearEqualityConstraint object at 0x7f34857a1cf0>], gcs_edge=<pydrake.geometry.optimization.GraphOfConvexSets.Edge object at 0x7f34856496f0>),\n",
       " Edge(u=\"('IC|obs0_f2-obj0_f1', 'NC|obs0_f1-rob0_f2', 'NC|obj0_f3-rob0_v0')\", v='target', costs=[<pydrake.solvers.LinearCost object at 0x7f34858be470>], constraints=[<pydrake.solvers.LinearEqualityConstraint object at 0x7f34857a4c70>], gcs_edge=<pydrake.geometry.optimization.GraphOfConvexSets.Edge object at 0x7f348564bf70>),\n",
       " Edge(u=\"('IC|obs0_f2-obj0_f1', 'NC|obs0_f0-rob0_v1', 'NC|obj0_f1-rob0_f1')\", v='target', costs=[<pydrake.solvers.LinearCost object at 0x7f34858441f0>], constraints=[<pydrake.solvers.LinearEqualityConstraint object at 0x7f34857a93b0>], gcs_edge=<pydrake.geometry.optimization.GraphOfConvexSets.Edge object at 0x7f3485655e70>),\n",
       " Edge(u=\"('IC|obs0_f2-obj0_f1', 'NC|obs0_f0-rob0_v1', 'NC|obj0_f2-rob0_f2')\", v='target', costs=[<pydrake.solvers.LinearCost object at 0x7f3485844870>], constraints=[<pydrake.solvers.LinearEqualityConstraint object at 0x7f34857aa570>], gcs_edge=<pydrake.geometry.optimization.GraphOfConvexSets.Edge object at 0x7f34856584b0>),\n",
       " Edge(u=\"('IC|obs0_f2-obj0_f1', 'NC|obs0_f0-rob0_v1', 'NC|obj0_f0-rob0_v1')\", v='target', costs=[<pydrake.solvers.LinearCost object at 0x7f34858468f0>], constraints=[<pydrake.solvers.LinearEqualityConstraint object at 0x7f34857ad6f0>], gcs_edge=<pydrake.geometry.optimization.GraphOfConvexSets.Edge object at 0x7f348565bc30>),\n",
       " Edge(u=\"('IC|obs0_f2-obj0_f1', 'NC|obs0_f0-rob0_v1', 'NC|obj0_f3-rob0_v0')\", v='target', costs=[<pydrake.solvers.LinearCost object at 0x7f34858476b0>], constraints=[<pydrake.solvers.LinearEqualityConstraint object at 0x7f34857ae2b0>], gcs_edge=<pydrake.geometry.optimization.GraphOfConvexSets.Edge object at 0x7f348565ccb0>),\n",
       " Edge(u=\"('IC|obs0_f2-obj0_f1', 'NC|obs0_f2-rob0_v0', 'IC|obj0_f2-rob0_f2')\", v='target', costs=[<pydrake.solvers.LinearCost object at 0x7f34858491b0>], constraints=[<pydrake.solvers.LinearEqualityConstraint object at 0x7f34857af370>], gcs_edge=<pydrake.geometry.optimization.GraphOfConvexSets.Edge object at 0x7f3485663bb0>),\n",
       " Edge(u=\"('IC|obs0_f2-obj0_f1', 'NC|obs0_f2-rob0_v0', 'IC|obj0_f0-rob0_v1')\", v='target', costs=[<pydrake.solvers.LinearCost object at 0x7f348584b1b0>], constraints=[<pydrake.solvers.LinearEqualityConstraint object at 0x7f34857b0df0>], gcs_edge=<pydrake.geometry.optimization.GraphOfConvexSets.Edge object at 0x7f3485663db0>),\n",
       " Edge(u=\"('IC|obs0_f2-obj0_f1', 'NC|obs0_f2-rob0_v0', 'IC|obj0_f3-rob0_v0')\", v='target', costs=[<pydrake.solvers.LinearCost object at 0x7f348584d130>], constraints=[<pydrake.solvers.LinearEqualityConstraint object at 0x7f34857b28b0>], gcs_edge=<pydrake.geometry.optimization.GraphOfConvexSets.Edge object at 0x7f3485668e70>),\n",
       " Edge(u=\"('IC|obs0_f2-obj0_f1', 'NC|obs0_f2-rob0_v0', 'IC|obj0_v0-rob0_f0')\", v='target', costs=[<pydrake.solvers.LinearCost object at 0x7f348584f170>], constraints=[<pydrake.solvers.LinearEqualityConstraint object at 0x7f34857b5330>], gcs_edge=<pydrake.geometry.optimization.GraphOfConvexSets.Edge object at 0x7f348566d0b0>),\n",
       " Edge(u=\"('IC|obs0_f2-obj0_f1', 'NC|obs0_f2-rob0_v0', 'NC|obj0_f2-rob0_f2')\", v='target', costs=[<pydrake.solvers.LinearCost object at 0x7f3485850970>], constraints=[<pydrake.solvers.LinearEqualityConstraint object at 0x7f34857b7170>], gcs_edge=<pydrake.geometry.optimization.GraphOfConvexSets.Edge object at 0x7f348566ee70>),\n",
       " Edge(u=\"('IC|obs0_f2-obj0_f1', 'NC|obs0_f2-rob0_v0', 'NC|obj0_f0-rob0_v1')\", v='target', costs=[<pydrake.solvers.LinearCost object at 0x7f34858520b0>], constraints=[<pydrake.solvers.LinearEqualityConstraint object at 0x7f34857b82f0>], gcs_edge=<pydrake.geometry.optimization.GraphOfConvexSets.Edge object at 0x7f3485673230>),\n",
       " Edge(u=\"('IC|obs0_f2-obj0_f1', 'NC|obs0_f2-rob0_v0', 'NC|obj0_f3-rob0_v0')\", v='target', costs=[<pydrake.solvers.LinearCost object at 0x7f34858555b0>], constraints=[<pydrake.solvers.LinearEqualityConstraint object at 0x7f34857ba170>], gcs_edge=<pydrake.geometry.optimization.GraphOfConvexSets.Edge object at 0x7f3485677d70>),\n",
       " Edge(u=\"('NC|obs0_f2-obj0_f1', 'NC|obs0_f1-rob0_f2', 'NC|obj0_f1-rob0_f1')\", v='target', costs=[<pydrake.solvers.LinearCost object at 0x7f34857c87f0>], constraints=[<pydrake.solvers.LinearEqualityConstraint object at 0x7f348572f670>], gcs_edge=<pydrake.geometry.optimization.GraphOfConvexSets.Edge object at 0x7f3485560d30>),\n",
       " Edge(u=\"('NC|obs0_f2-obj0_f1', 'NC|obs0_f1-rob0_f2', 'NC|obj0_f2-rob0_f2')\", v='target', costs=[<pydrake.solvers.LinearCost object at 0x7f34857cb470>], constraints=[<pydrake.solvers.LinearEqualityConstraint object at 0x7f34857304b0>], gcs_edge=<pydrake.geometry.optimization.GraphOfConvexSets.Edge object at 0x7f34855618f0>),\n",
       " Edge(u=\"('NC|obs0_f2-obj0_f1', 'NC|obs0_f1-rob0_f2', 'NC|obj0_f3-rob0_v0')\", v='target', costs=[<pydrake.solvers.LinearCost object at 0x7f34857cc230>], constraints=[<pydrake.solvers.LinearEqualityConstraint object at 0x7f34857316f0>], gcs_edge=<pydrake.geometry.optimization.GraphOfConvexSets.Edge object at 0x7f3485566eb0>),\n",
       " Edge(u=\"('NC|obs0_f2-obj0_f1', 'NC|obs0_f0-rob0_v1', 'NC|obj0_f1-rob0_f1')\", v='target', costs=[<pydrake.solvers.LinearCost object at 0x7f34857d48f0>], constraints=[<pydrake.solvers.LinearEqualityConstraint object at 0x7f348573a2f0>], gcs_edge=<pydrake.geometry.optimization.GraphOfConvexSets.Edge object at 0x7f34855761b0>),\n",
       " Edge(u=\"('NC|obs0_f2-obj0_f1', 'NC|obs0_f0-rob0_v1', 'NC|obj0_f2-rob0_f2')\", v='target', costs=[<pydrake.solvers.LinearCost object at 0x7f34857d6070>], constraints=[<pydrake.solvers.LinearEqualityConstraint object at 0x7f348573b7b0>], gcs_edge=<pydrake.geometry.optimization.GraphOfConvexSets.Edge object at 0x7f348557b270>),\n",
       " Edge(u=\"('NC|obs0_f2-obj0_f1', 'NC|obs0_f0-rob0_v1', 'NC|obj0_f0-rob0_v1')\", v='target', costs=[<pydrake.solvers.LinearCost object at 0x7f34857d73b0>], constraints=[<pydrake.solvers.LinearEqualityConstraint object at 0x7f348573de70>], gcs_edge=<pydrake.geometry.optimization.GraphOfConvexSets.Edge object at 0x7f348557c230>),\n",
       " Edge(u=\"('NC|obs0_f2-obj0_f1', 'NC|obs0_f0-rob0_v1', 'NC|obj0_f3-rob0_v0')\", v='target', costs=[<pydrake.solvers.LinearCost object at 0x7f34857d8770>], constraints=[<pydrake.solvers.LinearEqualityConstraint object at 0x7f348573f0f0>], gcs_edge=<pydrake.geometry.optimization.GraphOfConvexSets.Edge object at 0x7f348557f230>),\n",
       " Edge(u=\"('NC|obs0_f2-obj0_f1', 'NC|obs0_f2-rob0_v0', 'IC|obj0_f1-rob0_f1')\", v='target', costs=[<pydrake.solvers.LinearCost object at 0x7f34857d98b0>], constraints=[<pydrake.solvers.LinearEqualityConstraint object at 0x7f3485740530>], gcs_edge=<pydrake.geometry.optimization.GraphOfConvexSets.Edge object at 0x7f3485581cf0>),\n",
       " Edge(u=\"('NC|obs0_f2-obj0_f1', 'NC|obs0_f2-rob0_v0', 'IC|obj0_f2-rob0_f2')\", v='target', costs=[<pydrake.solvers.LinearCost object at 0x7f34857db4f0>], constraints=[<pydrake.solvers.LinearEqualityConstraint object at 0x7f34857413f0>], gcs_edge=<pydrake.geometry.optimization.GraphOfConvexSets.Edge object at 0x7f3485505530>),\n",
       " Edge(u=\"('NC|obs0_f2-obj0_f1', 'NC|obs0_f2-rob0_v0', 'IC|obj0_f0-rob0_v1')\", v='target', costs=[<pydrake.solvers.LinearCost object at 0x7f34857dbeb0>], constraints=[<pydrake.solvers.LinearEqualityConstraint object at 0x7f34856c26b0>], gcs_edge=<pydrake.geometry.optimization.GraphOfConvexSets.Edge object at 0x7f34855086b0>),\n",
       " Edge(u=\"('NC|obs0_f2-obj0_f1', 'NC|obs0_f2-rob0_v0', 'IC|obj0_f3-rob0_v0')\", v='target', costs=[<pydrake.solvers.LinearCost object at 0x7f34857dc7f0>], constraints=[<pydrake.solvers.LinearEqualityConstraint object at 0x7f34856c3670>], gcs_edge=<pydrake.geometry.optimization.GraphOfConvexSets.Edge object at 0x7f348550a330>),\n",
       " Edge(u=\"('NC|obs0_f2-obj0_f1', 'NC|obs0_f2-rob0_v0', 'IC|obj0_v0-rob0_f0')\", v='target', costs=[<pydrake.solvers.LinearCost object at 0x7f34857dd4f0>], constraints=[<pydrake.solvers.LinearEqualityConstraint object at 0x7f34856c3eb0>], gcs_edge=<pydrake.geometry.optimization.GraphOfConvexSets.Edge object at 0x7f348550be70>),\n",
       " Edge(u=\"('NC|obs0_f2-obj0_f1', 'NC|obs0_f2-rob0_v0', 'NC|obj0_f1-rob0_f1')\", v='target', costs=[<pydrake.solvers.LinearCost object at 0x7f34857de4b0>], constraints=[<pydrake.solvers.LinearEqualityConstraint object at 0x7f34856c4eb0>], gcs_edge=<pydrake.geometry.optimization.GraphOfConvexSets.Edge object at 0x7f348550d4b0>),\n",
       " Edge(u=\"('NC|obs0_f2-obj0_f1', 'NC|obs0_f2-rob0_v0', 'NC|obj0_f2-rob0_f2')\", v='target', costs=[<pydrake.solvers.LinearCost object at 0x7f34857df4f0>], constraints=[<pydrake.solvers.LinearEqualityConstraint object at 0x7f34856c7130>], gcs_edge=<pydrake.geometry.optimization.GraphOfConvexSets.Edge object at 0x7f348550dc30>),\n",
       " Edge(u=\"('NC|obs0_f2-obj0_f1', 'NC|obs0_f2-rob0_v0', 'NC|obj0_f0-rob0_v1')\", v='target', costs=[<pydrake.solvers.LinearCost object at 0x7f34857e0370>], constraints=[<pydrake.solvers.LinearEqualityConstraint object at 0x7f34856c79b0>], gcs_edge=<pydrake.geometry.optimization.GraphOfConvexSets.Edge object at 0x7f3485513430>),\n",
       " Edge(u=\"('NC|obs0_f2-obj0_f1', 'NC|obs0_f2-rob0_v0', 'NC|obj0_f3-rob0_v0')\", v='target', costs=[<pydrake.solvers.LinearCost object at 0x7f34857e1370>], constraints=[<pydrake.solvers.LinearEqualityConstraint object at 0x7f34856c88f0>], gcs_edge=<pydrake.geometry.optimization.GraphOfConvexSets.Edge object at 0x7f3485513fb0>)]"
      ]
     },
     "execution_count": 17,
     "metadata": {},
     "output_type": "execute_result"
    }
   ],
   "source": [
    "cg.incoming_edges(\"target\")"
   ]
  },
  {
   "cell_type": "code",
   "execution_count": 10,
   "metadata": {},
   "outputs": [
    {
     "data": {
      "text/plain": [
       "[Edge(u='source', v=\"('NC|obs0_f0-obj0_v3', 'NC|obs0_f2-rob0_v0', 'NC|obj0_f3-rob0_v0')\", costs=[<pydrake.solvers.LinearCost object at 0x7f34443d3a30>], constraints=[<pydrake.solvers.LinearEqualityConstraint object at 0x7f34443d3b70>], gcs_edge=None)]"
      ]
     },
     "execution_count": 10,
     "metadata": {},
     "output_type": "execute_result"
    }
   ],
   "source": [
    "cg_inc.outgoing_edges(\"source\")"
   ]
  },
  {
   "cell_type": "code",
   "execution_count": 11,
   "metadata": {},
   "outputs": [
    {
     "data": {
      "text/plain": [
       "[Edge(u='source', v=\"('NC|obs0_f0-obj0_v3', 'NC|obs0_f2-rob0_v0', 'NC|obj0_f3-rob0_v0')\", costs=[<pydrake.solvers.LinearCost object at 0x7f3440552b70>], constraints=[<pydrake.solvers.LinearEqualityConstraint object at 0x7f34404b6d70>], gcs_edge=<pydrake.geometry.optimization.GraphOfConvexSets.Edge object at 0x7f3440245370>)]"
      ]
     },
     "execution_count": 11,
     "metadata": {},
     "output_type": "execute_result"
    }
   ],
   "source": [
    "cg.outgoing_edges(\"source\")"
   ]
  },
  {
   "cell_type": "code",
   "execution_count": null,
   "metadata": {},
   "outputs": [],
   "source": [
    "cg.edge_keys"
   ]
  },
  {
   "cell_type": "code",
   "execution_count": null,
   "metadata": {},
   "outputs": [],
   "source": [
    "cg.plot()"
   ]
  },
  {
   "cell_type": "code",
   "execution_count": null,
   "metadata": {},
   "outputs": [],
   "source": [
    "cg.adj_modes"
   ]
  },
  {
   "cell_type": "code",
   "execution_count": null,
   "metadata": {},
   "outputs": [],
   "source": []
  }
 ],
 "metadata": {
  "kernelspec": {
   "display_name": ".venv",
   "language": "python",
   "name": "python3"
  },
  "language_info": {
   "codemirror_mode": {
    "name": "ipython",
    "version": 3
   },
   "file_extension": ".py",
   "mimetype": "text/x-python",
   "name": "python",
   "nbconvert_exporter": "python",
   "pygments_lexer": "ipython3",
   "version": "3.8.10"
  },
  "orig_nbformat": 4
 },
 "nbformat": 4,
 "nbformat_minor": 2
}
