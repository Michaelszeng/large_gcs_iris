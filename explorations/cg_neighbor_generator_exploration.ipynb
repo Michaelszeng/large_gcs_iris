{
 "cells": [
  {
   "cell_type": "code",
   "execution_count": 3,
   "metadata": {},
   "outputs": [],
   "source": [
    "import logging\n",
    "from large_gcs.graph_generators.contact_graph_generator import (\n",
    "    ContactGraphGeneratorParams,\n",
    "    ContactGraphGenerator,\n",
    ")\n",
    "from large_gcs.graph.incremental_contact_graph import IncrementalContactGraph\n",
    "from large_gcs.graph.contact_graph import ContactGraph\n",
    "from large_gcs.algorithms.search_algorithm import ReexploreLevel\n",
    "from large_gcs.algorithms.gcs_astar import GcsAstar\n",
    "from large_gcs.algorithms.gcs_astar_convex_restriction import GcsAstarConvexRestriction\n",
    "from large_gcs.graph.contact_cost_constraint_factory import (\n",
    "    contact_shortcut_edge_cost_factory_under,\n",
    "    contact_shortcut_edge_cost_factory_over_obj_weighted,\n",
    ")\n",
    "from large_gcs.cost_estimators.shortcut_edge_ce import ShortcutEdgeCE\n",
    "from large_gcs.contact.contact_regions_set import ContactRegionParams\n",
    "\n",
    "import numpy as np\n",
    "from copy import deepcopy\n",
    "from IPython.display import HTML\n",
    "\n",
    "\n",
    "np.set_printoptions(formatter={\"float\": lambda x: \"{0:0.3f}\".format(x)})\n",
    "logging.basicConfig(level=logging.INFO)\n",
    "# logging.getLogger().setLevel(logging.INFO)\n",
    "logging.getLogger(\"drake\").setLevel(logging.WARNING)"
   ]
  },
  {
   "cell_type": "code",
   "execution_count": 4,
   "metadata": {},
   "outputs": [
    {
     "name": "stdout",
     "output_type": "stream",
     "text": [
      "Set parameter Username\n",
      "Academic license - for non-commercial use only - expires 2024-03-04\n"
     ]
    }
   ],
   "source": [
    "ws_x = 5\n",
    "ws_y = 4\n",
    "params = ContactGraphGeneratorParams(\n",
    "    name=\"cg_trichal2_inc\",\n",
    "    obs_vertices=[[[-1, 2], [-1, -1], [2, 2]]],\n",
    "    obj_vertices=[[[1, 0.5], [1, -0.5], [2, -0.5], [2, 0.5]]],\n",
    "    rob_vertices=[[[3, 1], [3, 0], [3.5, 0]]],\n",
    "    source_obj_pos=[[3.25, 0]],\n",
    "    source_rob_pos=[[1.5, 0.5]],\n",
    "    target_obj_pos=[[-1.5, 0]],\n",
    "    target_rob_pos=[[-3, 0]],\n",
    "    n_pos_per_set=2,\n",
    "    workspace=[[-ws_x, ws_x], [-ws_y, ws_y]],\n",
    ")\n",
    "\n",
    "generator = ContactGraphGenerator(params)"
   ]
  },
  {
   "cell_type": "code",
   "execution_count": 5,
   "metadata": {},
   "outputs": [
    {
     "name": "stderr",
     "output_type": "stream",
     "text": [
      "INFO:large_gcs.graph.contact_graph:Creating vertex costs...\n",
      "100%|██████████| 2/2 [00:00<00:00, 14716.86it/s]\n",
      "INFO:large_gcs.graph.graph:Adding 2 vertices to graph...\n",
      "100%|██████████| 2/2 [00:00<00:00, 2481.10it/s]\n"
     ]
    }
   ],
   "source": [
    "cg = generator.generate_incremental_contact_graph(save_to_file=False)"
   ]
  },
  {
   "cell_type": "code",
   "execution_count": 6,
   "metadata": {},
   "outputs": [
    {
     "data": {
      "text/plain": [
       "['source', 'target']"
      ]
     },
     "execution_count": 6,
     "metadata": {},
     "output_type": "execute_result"
    }
   ],
   "source": [
    "cg.vertex_names"
   ]
  },
  {
   "cell_type": "code",
   "execution_count": 7,
   "metadata": {},
   "outputs": [
    {
     "data": {
      "text/plain": [
       "[]"
      ]
     },
     "execution_count": 7,
     "metadata": {},
     "output_type": "execute_result"
    }
   ],
   "source": [
    "cg.edge_keys"
   ]
  },
  {
   "cell_type": "code",
   "execution_count": null,
   "metadata": {},
   "outputs": [],
   "source": []
  }
 ],
 "metadata": {
  "kernelspec": {
   "display_name": ".venv",
   "language": "python",
   "name": "python3"
  },
  "language_info": {
   "codemirror_mode": {
    "name": "ipython",
    "version": 3
   },
   "file_extension": ".py",
   "mimetype": "text/x-python",
   "name": "python",
   "nbconvert_exporter": "python",
   "pygments_lexer": "ipython3",
   "version": "3.11.4"
  },
  "orig_nbformat": 4
 },
 "nbformat": 4,
 "nbformat_minor": 2
}
