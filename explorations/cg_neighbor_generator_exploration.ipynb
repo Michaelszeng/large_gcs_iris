{
 "cells": [
  {
   "cell_type": "code",
   "execution_count": 1,
   "metadata": {},
   "outputs": [],
   "source": [
    "import logging\n",
    "import ast\n",
    "from itertools import product\n",
    "from large_gcs.graph_generators.contact_graph_generator import (\n",
    "    ContactGraphGeneratorParams,\n",
    "    ContactGraphGenerator,\n",
    ")\n",
    "from large_gcs.algorithms.search_algorithm import AlgMetrics\n",
    "from large_gcs.graph.graph import Graph, Vertex, Edge\n",
    "from large_gcs.graph.incremental_contact_graph import IncrementalContactGraph\n",
    "from large_gcs.graph.contact_graph import ContactGraph\n",
    "from large_gcs.algorithms.search_algorithm import ReexploreLevel\n",
    "from large_gcs.algorithms.gcs_astar import GcsAstar\n",
    "from large_gcs.algorithms.gcs_astar_convex_restriction import GcsAstarConvexRestriction\n",
    "from large_gcs.graph.contact_cost_constraint_factory import (\n",
    "    contact_shortcut_edge_cost_factory_under,\n",
    "    contact_shortcut_edge_cost_factory_over_obj_weighted,\n",
    ")\n",
    "from large_gcs.cost_estimators.shortcut_edge_ce import ShortcutEdgeCE\n",
    "from large_gcs.cost_estimators.factored_collision_free_ce import FactoredCollisionFreeCE\n",
    "\n",
    "from large_gcs.contact.contact_regions_set import ContactRegionParams\n",
    "\n",
    "import numpy as np\n",
    "from copy import deepcopy\n",
    "from IPython.display import HTML\n",
    "\n",
    "\n",
    "np.set_printoptions(formatter={\"float\": lambda x: \"{0:0.3f}\".format(x)})\n",
    "logging.basicConfig(level=logging.INFO)\n",
    "logging.getLogger(\"large_gcs\").setLevel(logging.INFO)\n",
    "logging.getLogger(\"drake\").setLevel(logging.WARNING)"
   ]
  },
  {
   "cell_type": "code",
   "execution_count": 2,
   "metadata": {},
   "outputs": [],
   "source": [
    "base_name = \"cg_trichal2\""
   ]
  },
  {
   "cell_type": "markdown",
   "metadata": {},
   "source": [
    "# Shortcut Edge CE full test"
   ]
  },
  {
   "cell_type": "code",
   "execution_count": 3,
   "metadata": {},
   "outputs": [
    {
     "name": "stderr",
     "output_type": "stream",
     "text": [
      "INFO:large_gcs.graph.contact_graph:Generating contact pair modes for 3 body pairs...\n"
     ]
    },
    {
     "name": "stdout",
     "output_type": "stream",
     "text": [
      "Set parameter Username\n",
      "Academic license - for non-commercial use only - expires 2024-04-01\n"
     ]
    },
    {
     "name": "stderr",
     "output_type": "stream",
     "text": [
      "100%|██████████| 3/3 [00:00<00:00, 68.78it/s]\n",
      "INFO:large_gcs.graph.contact_graph:Loading 20 contact pair modes for 3 bodies...\n",
      "INFO:large_gcs.graph.contact_graph:Generating contact sets for 179 sets...\n",
      "100%|██████████| 179/179 [00:00<00:00, 481.34it/s]\n",
      "INFO:large_gcs.graph.contact_graph:Creating vertex costs...\n",
      "100%|██████████| 181/181 [00:00<00:00, 8498.76it/s]\n",
      "INFO:large_gcs.graph.graph:Adding 181 vertices to graph...\n",
      "100%|██████████| 181/181 [00:00<00:00, 9283.06it/s]\n",
      "INFO:large_gcs.graph.contact_graph:Creating edge costs...\n",
      "100%|██████████| 6120/6120 [00:00<00:00, 7760.11it/s]\n",
      "INFO:large_gcs.graph.contact_graph:Creating edge constraints...\n",
      "100%|██████████| 6120/6120 [00:01<00:00, 5276.90it/s]\n",
      "INFO:large_gcs.graph.graph:Adding 6120 edges to graph...\n",
      "100%|██████████| 6120/6120 [00:01<00:00, 4947.81it/s]\n",
      "INFO:large_gcs.graph.contact_graph:Created contact graph: GraphParams(dim_bounds=(4, 18), n_vertices=181, n_edges=6120, source=[array([3.250, 0.000]), array([1.500, 0.500])], target=[array([-1.500, 0.000]), array([-3,  0])], workspace=array([[-5,  5],\n",
      "       [-4,  4]]), default_costs_constraints=None)\n"
     ]
    }
   ],
   "source": [
    "cg = ContactGraph.load_from_file(\n",
    "    ContactGraphGeneratorParams.graph_file_path_from_name(base_name)\n",
    ")"
   ]
  },
  {
   "cell_type": "code",
   "execution_count": 4,
   "metadata": {},
   "outputs": [
    {
     "name": "stderr",
     "output_type": "stream",
     "text": [
      "INFO:large_gcs.graph.contact_graph:Creating vertex costs...\n",
      "100%|██████████| 2/2 [00:00<00:00, 25970.92it/s]\n",
      "INFO:large_gcs.graph.graph:Adding 2 vertices to graph...\n",
      "100%|██████████| 2/2 [00:00<00:00, 12748.64it/s]\n",
      "INFO:large_gcs.graph.contact_graph:Generating contact pair modes for 3 body pairs...\n",
      "100%|██████████| 3/3 [00:00<00:00, 59.15it/s]\n",
      "INFO:large_gcs.graph.incremental_contact_graph:Calculating adjacent contact pair modes (67)\n",
      "100%|██████████| 67/67 [00:00<00:00, 7927.85it/s]\n"
     ]
    }
   ],
   "source": [
    "cg_inc = IncrementalContactGraph.load_from_file(\n",
    "    ContactGraphGeneratorParams.inc_graph_file_path_from_name(base_name)\n",
    ")"
   ]
  },
  {
   "cell_type": "code",
   "execution_count": 5,
   "metadata": {},
   "outputs": [
    {
     "name": "stderr",
     "output_type": "stream",
     "text": [
      "INFO:large_gcs.algorithms.gcs_astar_convex_restriction:Running GcsAstarConvexRestriction, reexplore_level: ReexploreLevel.NONE\n",
      "INFO:large_gcs.algorithms.gcs_astar_convex_restriction:\n",
      "n_vertices_visited: 2, n_edges_visited: 0, n_vertices_explored: 0, vertex_coverage: 0.011, edge_coverage: 0, time_wall_clock: 0, n_gcs_solves: 0, gcs_solve_time_total: 0, gcs_solve_time_iter_mean: 0, gcs_solve_time_last_10_mean: 0, gcs_solve_time_iter_std: 0, gcs_solve_time_iter_min: inf, gcs_solve_time_iter_max: 0, n_vertices_revisited: 0, n_vertices_reexplored: 0\n",
      "now exploring node source's 1 neighbors (0)\n",
      "INFO:large_gcs.algorithms.gcs_astar_convex_restriction:\n",
      "n_vertices_visited: 3, n_edges_visited: 1, n_vertices_explored: 1, vertex_coverage: 0.0166, edge_coverage: 0.0002, time_wall_clock: 0.0131, n_gcs_solves: 1, gcs_solve_time_total: 0.000818, gcs_solve_time_iter_mean: 0.000818, gcs_solve_time_last_10_mean: 0, gcs_solve_time_iter_std: 0, gcs_solve_time_iter_min: 0.000818, gcs_solve_time_iter_max: 0.000818, n_vertices_revisited: 0, n_vertices_reexplored: 0\n",
      "now exploring node ('NC|obs0_f0-obj0_v3', 'NC|obs0_f0-rob0_v1', 'NC|obj0_f3-rob0_v0')'s 48 neighbors (238.26001654659783)\n",
      "INFO:large_gcs.algorithms.gcs_astar_convex_restriction:\n",
      "n_vertices_visited: 4, n_edges_visited: 2, n_vertices_explored: 48, vertex_coverage: 0.0221, edge_coverage: 0.0003, time_wall_clock: 0.429, n_gcs_solves: 48, gcs_solve_time_total: 0.0212, gcs_solve_time_iter_mean: 0.000441, gcs_solve_time_last_10_mean: 0.00082, gcs_solve_time_iter_std: 0.000372, gcs_solve_time_iter_min: 0.000151, gcs_solve_time_iter_max: 0.00157, n_vertices_revisited: 0, n_vertices_reexplored: 0\n",
      "now exploring node ('NC|obs0_f0-obj0_v3', 'NC|obs0_f2-rob0_v0', 'NC|obj0_f3-rob0_v0')'s 61 neighbors (234.99940573595023)\n",
      "INFO:large_gcs.algorithms.gcs_astar_convex_restriction:\n",
      "n_vertices_visited: 5, n_edges_visited: 2, n_vertices_explored: 108, vertex_coverage: 0.0276, edge_coverage: 0.0003, time_wall_clock: 0.956, n_gcs_solves: 108, gcs_solve_time_total: 0.0443, gcs_solve_time_iter_mean: 0.00041, gcs_solve_time_last_10_mean: 0.000652, gcs_solve_time_iter_std: 0.000306, gcs_solve_time_iter_min: 0.000151, gcs_solve_time_iter_max: 0.00157, n_vertices_revisited: 0, n_vertices_reexplored: 0\n",
      "now exploring node ('NC|obs0_f0-obj0_v3', 'NC|obs0_f2-rob0_v0', 'NC|obj0_f0-rob0_v1')'s 35 neighbors (235.6507541491958)\n",
      "INFO:large_gcs.algorithms.gcs_astar_convex_restriction:\n",
      "n_vertices_visited: 6, n_edges_visited: 3, n_vertices_explored: 141, vertex_coverage: 0.0331, edge_coverage: 0.0005, time_wall_clock: 1.26, n_gcs_solves: 141, gcs_solve_time_total: 0.0558, gcs_solve_time_iter_mean: 0.000395, gcs_solve_time_last_10_mean: 0.000444, gcs_solve_time_iter_std: 0.000284, gcs_solve_time_iter_min: 0.000151, gcs_solve_time_iter_max: 0.00157, n_vertices_revisited: 0, n_vertices_reexplored: 0\n",
      "now exploring node ('NC|obs0_f0-obj0_v3', 'NC|obs0_f2-rob0_v0', 'NC|obj0_f2-rob0_f2')'s 47 neighbors (237.589307615389)\n",
      "INFO:large_gcs.algorithms.gcs_astar_convex_restriction:\n",
      "n_vertices_visited: 7, n_edges_visited: 2, n_vertices_explored: 186, vertex_coverage: 0.0387, edge_coverage: 0.0003, time_wall_clock: 1.67, n_gcs_solves: 186, gcs_solve_time_total: 0.0793, gcs_solve_time_iter_mean: 0.000426, gcs_solve_time_last_10_mean: 0.00068, gcs_solve_time_iter_std: 0.0003, gcs_solve_time_iter_min: 0.000151, gcs_solve_time_iter_max: 0.00194, n_vertices_revisited: 0, n_vertices_reexplored: 0\n",
      "now exploring node ('NC|obs0_f0-obj0_v3', 'NC|obs0_f0-rob0_v1', 'NC|obj0_f0-rob0_v1')'s 59 neighbors (239.26001772227076)\n",
      "INFO:large_gcs.algorithms.gcs_astar_convex_restriction:\n",
      "n_vertices_visited: 8, n_edges_visited: 3, n_vertices_explored: 242, vertex_coverage: 0.0442, edge_coverage: 0.0005, time_wall_clock: 2.18, n_gcs_solves: 242, gcs_solve_time_total: 0.1, gcs_solve_time_iter_mean: 0.000414, gcs_solve_time_last_10_mean: 0.000553, gcs_solve_time_iter_std: 0.000291, gcs_solve_time_iter_min: 0.000151, gcs_solve_time_iter_max: 0.00194, n_vertices_revisited: 0, n_vertices_reexplored: 0\n",
      "now exploring node ('NC|obs0_f0-obj0_v3', 'NC|obs0_f0-rob0_v1', 'IC|obj0_f1-rob0_f1')'s 59 neighbors (95.04280180725218)\n",
      "INFO:large_gcs.algorithms.gcs_astar_convex_restriction:\n",
      "n_vertices_visited: 9, n_edges_visited: 4, n_vertices_explored: 299, vertex_coverage: 0.0497, edge_coverage: 0.0007, time_wall_clock: 2.7, n_gcs_solves: 299, gcs_solve_time_total: 0.133, gcs_solve_time_iter_mean: 0.000446, gcs_solve_time_last_10_mean: 0.000794, gcs_solve_time_iter_std: 0.000306, gcs_solve_time_iter_min: 0.000151, gcs_solve_time_iter_max: 0.00194, n_vertices_revisited: 0, n_vertices_reexplored: 0\n",
      "now exploring node ('IC|obs0_f0-obj0_v3', 'NC|obs0_f0-rob0_v1', 'IC|obj0_f1-rob0_f1')'s 35 neighbors (56.67769354935606)\n",
      "INFO:large_gcs.algorithms.gcs_astar_convex_restriction:\n",
      "n_vertices_visited: 10, n_edges_visited: 5, n_vertices_explored: 332, vertex_coverage: 0.0552, edge_coverage: 0.0008, time_wall_clock: 3.03, n_gcs_solves: 332, gcs_solve_time_total: 0.173, gcs_solve_time_iter_mean: 0.000521, gcs_solve_time_last_10_mean: 0.00121, gcs_solve_time_iter_std: 0.000405, gcs_solve_time_iter_min: 0.000151, gcs_solve_time_iter_max: 0.0024, n_vertices_revisited: 0, n_vertices_reexplored: 0\n",
      "now exploring node ('IC|obs0_v0-obj0_f2', 'NC|obs0_f0-rob0_v1', 'IC|obj0_f1-rob0_f1')'s 25 neighbors (46.593868044007095)\n",
      "INFO:large_gcs.algorithms.gcs_astar_convex_restriction:\n",
      "n_vertices_visited: 11, n_edges_visited: 6, n_vertices_explored: 354, vertex_coverage: 0.0608, edge_coverage: 0.001, time_wall_clock: 3.27, n_gcs_solves: 354, gcs_solve_time_total: 0.212, gcs_solve_time_iter_mean: 0.0006, gcs_solve_time_last_10_mean: 0.00182, gcs_solve_time_iter_std: 0.0005, gcs_solve_time_iter_min: 0.000151, gcs_solve_time_iter_max: 0.0025, n_vertices_revisited: 0, n_vertices_reexplored: 0\n",
      "now exploring node ('IC|obs0_f2-obj0_f1', 'NC|obs0_f0-rob0_v1', 'IC|obj0_f0-rob0_v1')'s 23 neighbors (29.254015560147383)\n",
      "INFO:large_gcs.algorithms.gcs_astar_convex_restriction:\n",
      "n_vertices_visited: 12, n_edges_visited: 7, n_vertices_explored: 376, vertex_coverage: 0.0663, edge_coverage: 0.0011, time_wall_clock: 3.52, n_gcs_solves: 376, gcs_solve_time_total: 0.253, gcs_solve_time_iter_mean: 0.000674, gcs_solve_time_last_10_mean: 0.00177, gcs_solve_time_iter_std: 0.000576, gcs_solve_time_iter_min: 0.000151, gcs_solve_time_iter_max: 0.00264, n_vertices_revisited: 0, n_vertices_reexplored: 0\n",
      "now exploring node ('IC|obs0_f2-obj0_f1', 'NC|obs0_f2-rob0_v0', 'IC|obj0_v0-rob0_f0')'s 45 neighbors (23.274330069336216)\n",
      "INFO:large_gcs.algorithms.gcs_astar_convex_restriction:\n",
      "n_vertices_visited: 13, n_edges_visited: 7, n_vertices_explored: 420, vertex_coverage: 0.0718, edge_coverage: 0.0011, time_wall_clock: 4, n_gcs_solves: 420, gcs_solve_time_total: 0.339, gcs_solve_time_iter_mean: 0.000808, gcs_solve_time_last_10_mean: 0.00213, gcs_solve_time_iter_std: 0.000676, gcs_solve_time_iter_min: 0.000151, gcs_solve_time_iter_max: 0.00264, n_vertices_revisited: 0, n_vertices_reexplored: 0\n",
      "now exploring node ('IC|obs0_f2-obj0_f1', 'NC|obs0_f2-rob0_v0', 'IC|obj0_f0-rob0_v1')'s 23 neighbors (23.93325727129914)\n",
      "INFO:large_gcs.algorithms.gcs_astar_convex_restriction:\n",
      "n_vertices_visited: 14, n_edges_visited: 8, n_vertices_explored: 441, vertex_coverage: 0.0773, edge_coverage: 0.0013, time_wall_clock: 4.23, n_gcs_solves: 441, gcs_solve_time_total: 0.381, gcs_solve_time_iter_mean: 0.000864, gcs_solve_time_last_10_mean: 0.00209, gcs_solve_time_iter_std: 0.00071, gcs_solve_time_iter_min: 0.000151, gcs_solve_time_iter_max: 0.00264, n_vertices_revisited: 0, n_vertices_reexplored: 0\n",
      "now exploring node ('NC|obs0_f2-obj0_f1', 'NC|obs0_f2-rob0_v0', 'IC|obj0_v0-rob0_f0')'s 61 neighbors (23.801146055494186)\n",
      "INFO:large_gcs.algorithms.gcs_astar_convex_restriction:\n",
      "n_vertices_visited: 15, n_edges_visited: 7, n_vertices_explored: 495, vertex_coverage: 0.0829, edge_coverage: 0.0011, time_wall_clock: 4.85, n_gcs_solves: 495, gcs_solve_time_total: 0.503, gcs_solve_time_iter_mean: 0.00102, gcs_solve_time_last_10_mean: 0.00196, gcs_solve_time_iter_std: 0.000816, gcs_solve_time_iter_min: 0.000151, gcs_solve_time_iter_max: 0.00385, n_vertices_revisited: 0, n_vertices_reexplored: 0\n",
      "now exploring node ('NC|obs0_f2-obj0_f1', 'NC|obs0_f2-rob0_v0', 'IC|obj0_f0-rob0_v1')'s 45 neighbors (23.93325744307856)\n",
      "INFO:large_gcs.algorithms.gcs_astar_convex_restriction:\n",
      "n_vertices_visited: 16, n_edges_visited: 8, n_vertices_explored: 534, vertex_coverage: 0.0884, edge_coverage: 0.0013, time_wall_clock: 5.28, n_gcs_solves: 534, gcs_solve_time_total: 0.567, gcs_solve_time_iter_mean: 0.00106, gcs_solve_time_last_10_mean: 0.00117, gcs_solve_time_iter_std: 0.000824, gcs_solve_time_iter_min: 0.000151, gcs_solve_time_iter_max: 0.00385, n_vertices_revisited: 0, n_vertices_reexplored: 0\n",
      "now exploring node ('NC|obs0_f2-obj0_f1', 'NC|obs0_f2-rob0_v0', 'NC|obj0_f3-rob0_v0')'s 78 neighbors (24.234057032470066)\n",
      "INFO:large_gcs.algorithms.gcs_astar_convex_restriction:\n",
      "n_vertices_visited: 17, n_edges_visited: 8, n_vertices_explored: 605, vertex_coverage: 0.0939, edge_coverage: 0.0013, time_wall_clock: 6.08, n_gcs_solves: 605, gcs_solve_time_total: 0.705, gcs_solve_time_iter_mean: 0.00116, gcs_solve_time_last_10_mean: 0.00116, gcs_solve_time_iter_std: 0.000842, gcs_solve_time_iter_min: 0.000151, gcs_solve_time_iter_max: 0.00385, n_vertices_revisited: 0, n_vertices_reexplored: 0\n",
      "now exploring node ('IC|obs0_f2-obj0_f1', 'NC|obs0_f2-rob0_v0', 'NC|obj0_f3-rob0_v0')'s 62 neighbors (24.234057032480905)\n",
      "INFO:large_gcs.algorithms.gcs_astar_convex_restriction:\n",
      "n_vertices_visited: 18, n_edges_visited: 8, n_vertices_explored: 664, vertex_coverage: 0.0994, edge_coverage: 0.0013, time_wall_clock: 6.73, n_gcs_solves: 664, gcs_solve_time_total: 0.816, gcs_solve_time_iter_mean: 0.00123, gcs_solve_time_last_10_mean: 0.0019, gcs_solve_time_iter_std: 0.000832, gcs_solve_time_iter_min: 0.000151, gcs_solve_time_iter_max: 0.00385, n_vertices_revisited: 0, n_vertices_reexplored: 0\n",
      "now exploring node ('NC|obs0_f2-obj0_f1', 'NC|obs0_f2-rob0_v0', 'IC|obj0_f3-rob0_v0')'s 55 neighbors (24.27433010755091)\n",
      "INFO:large_gcs.algorithms.gcs_astar_convex_restriction:\n",
      "n_vertices_visited: 19, n_edges_visited: 8, n_vertices_explored: 712, vertex_coverage: 0.105, edge_coverage: 0.0013, time_wall_clock: 7.25, n_gcs_solves: 712, gcs_solve_time_total: 0.897, gcs_solve_time_iter_mean: 0.00126, gcs_solve_time_last_10_mean: 0.00118, gcs_solve_time_iter_std: 0.000818, gcs_solve_time_iter_min: 0.000151, gcs_solve_time_iter_max: 0.00385, n_vertices_revisited: 0, n_vertices_reexplored: 0\n",
      "now exploring node ('IC|obs0_f2-obj0_f1', 'NC|obs0_f2-rob0_v0', 'IC|obj0_f3-rob0_v0')'s 44 neighbors (24.274330107568524)\n",
      "INFO:large_gcs.algorithms.gcs_astar_convex_restriction:\n",
      "n_vertices_visited: 20, n_edges_visited: 8, n_vertices_explored: 751, vertex_coverage: 0.111, edge_coverage: 0.0013, time_wall_clock: 7.69, n_gcs_solves: 751, gcs_solve_time_total: 0.968, gcs_solve_time_iter_mean: 0.00129, gcs_solve_time_last_10_mean: 0.00185, gcs_solve_time_iter_std: 0.000809, gcs_solve_time_iter_min: 0.000151, gcs_solve_time_iter_max: 0.00385, n_vertices_revisited: 0, n_vertices_reexplored: 0\n",
      "now exploring node ('IC|obs0_f2-obj0_f1', 'NC|obs0_f2-rob0_v0', 'NC|obj0_f0-rob0_v1')'s 35 neighbors (24.488818596418636)\n",
      "INFO:large_gcs.algorithms.gcs_astar_convex_restriction:\n",
      "n_vertices_visited: 21, n_edges_visited: 8, n_vertices_explored: 779, vertex_coverage: 0.116, edge_coverage: 0.0013, time_wall_clock: 8.01, n_gcs_solves: 779, gcs_solve_time_total: 1.03, gcs_solve_time_iter_mean: 0.00133, gcs_solve_time_last_10_mean: 0.00245, gcs_solve_time_iter_std: 0.000821, gcs_solve_time_iter_min: 0.000151, gcs_solve_time_iter_max: 0.00385, n_vertices_revisited: 0, n_vertices_reexplored: 0\n",
      "now exploring node ('NC|obs0_f2-obj0_f1', 'NC|obs0_f2-rob0_v0', 'NC|obj0_f0-rob0_v1')'s 62 neighbors (24.488818596440836)\n",
      "INFO:large_gcs.algorithms.gcs_astar_convex_restriction:Gcs A* Convex Restriction complete! \n",
      "cost: 24.512826012087707, time: 0.001881839707493782\n",
      "vertex path: ['source'\n",
      " \"('NC|obs0_f0-obj0_v3', 'NC|obs0_f0-rob0_v1', 'NC|obj0_f3-rob0_v0')\"\n",
      " \"('NC|obs0_f0-obj0_v3', 'NC|obs0_f0-rob0_v1', 'NC|obj0_f0-rob0_v1')\"\n",
      " \"('NC|obs0_f0-obj0_v3', 'NC|obs0_f0-rob0_v1', 'IC|obj0_f1-rob0_f1')\"\n",
      " \"('IC|obs0_f0-obj0_v3', 'NC|obs0_f0-rob0_v1', 'IC|obj0_f1-rob0_f1')\"\n",
      " \"('IC|obs0_v0-obj0_f2', 'NC|obs0_f0-rob0_v1', 'IC|obj0_f1-rob0_f1')\"\n",
      " \"('IC|obs0_f2-obj0_f1', 'NC|obs0_f0-rob0_v1', 'IC|obj0_f0-rob0_v1')\"\n",
      " \"('IC|obs0_f2-obj0_f1', 'NC|obs0_f2-rob0_v0', 'IC|obj0_v0-rob0_f0')\"\n",
      " \"('NC|obs0_f2-obj0_f1', 'NC|obs0_f2-rob0_v0', 'NC|obj0_f3-rob0_v0')\"\n",
      " 'target']\n",
      "n_vertices_visited: 21, n_edges_visited: 8, n_vertices_explored: 829, vertex_coverage: 0.116, edge_coverage: 0.0013, time_wall_clock: 8.54, n_gcs_solves: 829, gcs_solve_time_total: 1.11, gcs_solve_time_iter_mean: 0.00134, gcs_solve_time_last_10_mean: 0.0011, gcs_solve_time_iter_std: 0.000815, gcs_solve_time_iter_min: 0.000151, gcs_solve_time_iter_max: 0.00385, n_vertices_revisited: 0, n_vertices_reexplored: 0\n"
     ]
    }
   ],
   "source": [
    "cost_estimator_se = ShortcutEdgeCE(\n",
    "    cg, contact_shortcut_edge_cost_factory_over_obj_weighted\n",
    ")\n",
    "gcs_astar_se = GcsAstarConvexRestriction(\n",
    "    cg,\n",
    "    cost_estimator=cost_estimator_se,\n",
    "    reexplore_level=ReexploreLevel.NONE,\n",
    ")\n",
    "sol_se = gcs_astar_se.run()"
   ]
  },
  {
   "cell_type": "code",
   "execution_count": 7,
   "metadata": {},
   "outputs": [
    {
     "name": "stderr",
     "output_type": "stream",
     "text": [
      "INFO:large_gcs.algorithms.gcs_astar_convex_restriction:Running GcsAstarConvexRestriction, reexplore_level: ReexploreLevel.NONE\n",
      "INFO:large_gcs.algorithms.gcs_astar_convex_restriction:\n",
      "n_vertices_visited: 2, n_edges_visited: 0, n_vertices_explored: 0, vertex_coverage: 0.011, edge_coverage: 0, time_wall_clock: 0, n_gcs_solves: 0, gcs_solve_time_total: 0, gcs_solve_time_iter_mean: 0, gcs_solve_time_last_10_mean: 0, gcs_solve_time_iter_std: 0, gcs_solve_time_iter_min: inf, gcs_solve_time_iter_max: 0, n_vertices_revisited: 0, n_vertices_reexplored: 0\n",
      "now exploring node source's 1 neighbors (0)\n",
      "INFO:large_gcs.algorithms.gcs_astar_convex_restriction:\n",
      "n_vertices_visited: 3, n_edges_visited: 1, n_vertices_explored: 1, vertex_coverage: 0.0166, edge_coverage: 0.0011, time_wall_clock: 0.0146, n_gcs_solves: 1, gcs_solve_time_total: 0.000863, gcs_solve_time_iter_mean: 0.000863, gcs_solve_time_last_10_mean: 0, gcs_solve_time_iter_std: 0, gcs_solve_time_iter_min: 0.000863, gcs_solve_time_iter_max: 0.000863, n_vertices_revisited: 0, n_vertices_reexplored: 0\n",
      "now exploring node ('NC|obs0_f0-obj0_v3', 'NC|obs0_f0-rob0_v1', 'NC|obj0_f3-rob0_v0')'s 48 neighbors (238.26001654659783)\n",
      "INFO:large_gcs.algorithms.gcs_astar_convex_restriction:\n",
      "n_vertices_visited: 4, n_edges_visited: 2, n_vertices_explored: 49, vertex_coverage: 0.0221, edge_coverage: 0.0022, time_wall_clock: 0.516, n_gcs_solves: 49, gcs_solve_time_total: 0.0231, gcs_solve_time_iter_mean: 0.000471, gcs_solve_time_last_10_mean: 0.000203, gcs_solve_time_iter_std: 0.000532, gcs_solve_time_iter_min: 0.000136, gcs_solve_time_iter_max: 0.00337, n_vertices_revisited: 0, n_vertices_reexplored: 0\n",
      "now exploring node ('NC|obs0_f0-obj0_v3', 'NC|obs0_f2-rob0_v0', 'NC|obj0_f3-rob0_v0')'s 62 neighbors (234.99940573595023)\n",
      "INFO:large_gcs.algorithms.gcs_astar_convex_restriction:\n",
      "n_vertices_visited: 5, n_edges_visited: 2, n_vertices_explored: 110, vertex_coverage: 0.0276, edge_coverage: 0.0022, time_wall_clock: 1.08, n_gcs_solves: 110, gcs_solve_time_total: 0.0481, gcs_solve_time_iter_mean: 0.000437, gcs_solve_time_last_10_mean: 0.000329, gcs_solve_time_iter_std: 0.000408, gcs_solve_time_iter_min: 0.000136, gcs_solve_time_iter_max: 0.00337, n_vertices_revisited: 0, n_vertices_reexplored: 0\n",
      "now exploring node ('NC|obs0_f0-obj0_v3', 'NC|obs0_f2-rob0_v0', 'NC|obj0_f0-rob0_v1')'s 35 neighbors (235.6507541491958)\n",
      "INFO:large_gcs.algorithms.gcs_astar_convex_restriction:\n",
      "n_vertices_visited: 6, n_edges_visited: 3, n_vertices_explored: 143, vertex_coverage: 0.0331, edge_coverage: 0.0033, time_wall_clock: 1.42, n_gcs_solves: 143, gcs_solve_time_total: 0.0594, gcs_solve_time_iter_mean: 0.000415, gcs_solve_time_last_10_mean: 0.000304, gcs_solve_time_iter_std: 0.000374, gcs_solve_time_iter_min: 0.000136, gcs_solve_time_iter_max: 0.00337, n_vertices_revisited: 0, n_vertices_reexplored: 0\n",
      "now exploring node ('NC|obs0_f0-obj0_v3', 'NC|obs0_f2-rob0_v0', 'NC|obj0_f2-rob0_f2')'s 47 neighbors (237.589307615389)\n",
      "INFO:large_gcs.algorithms.gcs_astar_convex_restriction:\n",
      "n_vertices_visited: 7, n_edges_visited: 2, n_vertices_explored: 188, vertex_coverage: 0.0387, edge_coverage: 0.0022, time_wall_clock: 1.88, n_gcs_solves: 188, gcs_solve_time_total: 0.0809, gcs_solve_time_iter_mean: 0.00043, gcs_solve_time_last_10_mean: 0.000324, gcs_solve_time_iter_std: 0.00037, gcs_solve_time_iter_min: 0.000136, gcs_solve_time_iter_max: 0.00337, n_vertices_revisited: 0, n_vertices_reexplored: 0\n",
      "now exploring node ('NC|obs0_f0-obj0_v3', 'NC|obs0_f0-rob0_v1', 'NC|obj0_f0-rob0_v1')'s 59 neighbors (239.26001772227076)\n",
      "INFO:large_gcs.algorithms.gcs_astar_convex_restriction:\n",
      "n_vertices_visited: 8, n_edges_visited: 3, n_vertices_explored: 244, vertex_coverage: 0.0442, edge_coverage: 0.0033, time_wall_clock: 2.43, n_gcs_solves: 244, gcs_solve_time_total: 0.102, gcs_solve_time_iter_mean: 0.000418, gcs_solve_time_last_10_mean: 0.000283, gcs_solve_time_iter_std: 0.000354, gcs_solve_time_iter_min: 0.000136, gcs_solve_time_iter_max: 0.00337, n_vertices_revisited: 0, n_vertices_reexplored: 0\n",
      "now exploring node ('NC|obs0_f0-obj0_v3', 'NC|obs0_f0-rob0_v1', 'IC|obj0_f1-rob0_f1')'s 59 neighbors (95.04280180725218)\n",
      "INFO:large_gcs.algorithms.gcs_astar_convex_restriction:\n",
      "n_vertices_visited: 9, n_edges_visited: 4, n_vertices_explored: 301, vertex_coverage: 0.0497, edge_coverage: 0.0044, time_wall_clock: 2.99, n_gcs_solves: 301, gcs_solve_time_total: 0.134, gcs_solve_time_iter_mean: 0.000446, gcs_solve_time_last_10_mean: 0.000403, gcs_solve_time_iter_std: 0.000347, gcs_solve_time_iter_min: 0.000136, gcs_solve_time_iter_max: 0.00337, n_vertices_revisited: 0, n_vertices_reexplored: 0\n",
      "now exploring node ('IC|obs0_f0-obj0_v3', 'NC|obs0_f0-rob0_v1', 'IC|obj0_f1-rob0_f1')'s 35 neighbors (56.67769354935606)\n",
      "INFO:large_gcs.algorithms.gcs_astar_convex_restriction:\n",
      "n_vertices_visited: 10, n_edges_visited: 5, n_vertices_explored: 334, vertex_coverage: 0.0552, edge_coverage: 0.0055, time_wall_clock: 3.36, n_gcs_solves: 334, gcs_solve_time_total: 0.172, gcs_solve_time_iter_mean: 0.000514, gcs_solve_time_last_10_mean: 0.00109, gcs_solve_time_iter_std: 0.000417, gcs_solve_time_iter_min: 0.000136, gcs_solve_time_iter_max: 0.00337, n_vertices_revisited: 0, n_vertices_reexplored: 0\n",
      "now exploring node ('IC|obs0_v0-obj0_f2', 'NC|obs0_f0-rob0_v1', 'IC|obj0_f1-rob0_f1')'s 25 neighbors (46.593868044007095)\n",
      "INFO:large_gcs.algorithms.gcs_astar_convex_restriction:\n",
      "n_vertices_visited: 11, n_edges_visited: 6, n_vertices_explored: 356, vertex_coverage: 0.0608, edge_coverage: 0.0066, time_wall_clock: 3.64, n_gcs_solves: 356, gcs_solve_time_total: 0.205, gcs_solve_time_iter_mean: 0.000577, gcs_solve_time_last_10_mean: 0.00151, gcs_solve_time_iter_std: 0.000477, gcs_solve_time_iter_min: 0.000136, gcs_solve_time_iter_max: 0.00337, n_vertices_revisited: 0, n_vertices_reexplored: 0\n",
      "now exploring node ('IC|obs0_f2-obj0_f1', 'NC|obs0_f0-rob0_v1', 'IC|obj0_f0-rob0_v1')'s 23 neighbors (29.254015560147383)\n",
      "INFO:large_gcs.algorithms.gcs_astar_convex_restriction:\n",
      "n_vertices_visited: 12, n_edges_visited: 7, n_vertices_explored: 378, vertex_coverage: 0.0663, edge_coverage: 0.0077, time_wall_clock: 3.94, n_gcs_solves: 378, gcs_solve_time_total: 0.25, gcs_solve_time_iter_mean: 0.000662, gcs_solve_time_last_10_mean: 0.00212, gcs_solve_time_iter_std: 0.000582, gcs_solve_time_iter_min: 0.000136, gcs_solve_time_iter_max: 0.00337, n_vertices_revisited: 0, n_vertices_reexplored: 0\n",
      "now exploring node ('IC|obs0_f2-obj0_f1', 'NC|obs0_f2-rob0_v0', 'IC|obj0_v0-rob0_f0')'s 45 neighbors (23.274330069336216)\n",
      "INFO:large_gcs.algorithms.gcs_astar_convex_restriction:\n",
      "n_vertices_visited: 13, n_edges_visited: 7, n_vertices_explored: 422, vertex_coverage: 0.0718, edge_coverage: 0.0077, time_wall_clock: 4.48, n_gcs_solves: 422, gcs_solve_time_total: 0.336, gcs_solve_time_iter_mean: 0.000796, gcs_solve_time_last_10_mean: 0.00173, gcs_solve_time_iter_std: 0.000688, gcs_solve_time_iter_min: 0.000136, gcs_solve_time_iter_max: 0.00337, n_vertices_revisited: 0, n_vertices_reexplored: 0\n",
      "now exploring node ('IC|obs0_f2-obj0_f1', 'NC|obs0_f2-rob0_v0', 'IC|obj0_f0-rob0_v1')'s 23 neighbors (23.93325727129914)\n",
      "INFO:large_gcs.algorithms.gcs_astar_convex_restriction:\n",
      "n_vertices_visited: 14, n_edges_visited: 8, n_vertices_explored: 443, vertex_coverage: 0.0773, edge_coverage: 0.0088, time_wall_clock: 4.74, n_gcs_solves: 443, gcs_solve_time_total: 0.373, gcs_solve_time_iter_mean: 0.000842, gcs_solve_time_last_10_mean: 0.00181, gcs_solve_time_iter_std: 0.000705, gcs_solve_time_iter_min: 0.000136, gcs_solve_time_iter_max: 0.00337, n_vertices_revisited: 0, n_vertices_reexplored: 0\n",
      "now exploring node ('NC|obs0_f2-obj0_f1', 'NC|obs0_f2-rob0_v0', 'IC|obj0_v0-rob0_f0')'s 61 neighbors (23.801146055494186)\n",
      "INFO:large_gcs.algorithms.gcs_astar_convex_restriction:\n",
      "n_vertices_visited: 15, n_edges_visited: 7, n_vertices_explored: 497, vertex_coverage: 0.0829, edge_coverage: 0.0077, time_wall_clock: 5.39, n_gcs_solves: 497, gcs_solve_time_total: 0.488, gcs_solve_time_iter_mean: 0.000981, gcs_solve_time_last_10_mean: 0.00171, gcs_solve_time_iter_std: 0.000791, gcs_solve_time_iter_min: 0.000136, gcs_solve_time_iter_max: 0.00337, n_vertices_revisited: 0, n_vertices_reexplored: 0\n",
      "now exploring node ('NC|obs0_f2-obj0_f1', 'NC|obs0_f2-rob0_v0', 'IC|obj0_f0-rob0_v1')'s 45 neighbors (23.93325744307856)\n",
      "INFO:large_gcs.algorithms.gcs_astar_convex_restriction:\n",
      "n_vertices_visited: 16, n_edges_visited: 8, n_vertices_explored: 536, vertex_coverage: 0.0884, edge_coverage: 0.0088, time_wall_clock: 5.83, n_gcs_solves: 536, gcs_solve_time_total: 0.551, gcs_solve_time_iter_mean: 0.00103, gcs_solve_time_last_10_mean: 0.00129, gcs_solve_time_iter_std: 0.000799, gcs_solve_time_iter_min: 0.000136, gcs_solve_time_iter_max: 0.00337, n_vertices_revisited: 0, n_vertices_reexplored: 0\n",
      "now exploring node ('NC|obs0_f2-obj0_f1', 'NC|obs0_f2-rob0_v0', 'NC|obj0_f3-rob0_v0')'s 78 neighbors (24.234057032470066)\n",
      "INFO:large_gcs.algorithms.gcs_astar_convex_restriction:\n",
      "n_vertices_visited: 17, n_edges_visited: 8, n_vertices_explored: 607, vertex_coverage: 0.0939, edge_coverage: 0.0088, time_wall_clock: 6.64, n_gcs_solves: 607, gcs_solve_time_total: 0.681, gcs_solve_time_iter_mean: 0.00112, gcs_solve_time_last_10_mean: 0.00112, gcs_solve_time_iter_std: 0.000811, gcs_solve_time_iter_min: 0.000136, gcs_solve_time_iter_max: 0.00337, n_vertices_revisited: 0, n_vertices_reexplored: 0\n",
      "now exploring node ('IC|obs0_f2-obj0_f1', 'NC|obs0_f2-rob0_v0', 'NC|obj0_f3-rob0_v0')'s 62 neighbors (24.234057032480905)\n",
      "INFO:large_gcs.algorithms.gcs_astar_convex_restriction:\n",
      "n_vertices_visited: 18, n_edges_visited: 8, n_vertices_explored: 666, vertex_coverage: 0.0994, edge_coverage: 0.0088, time_wall_clock: 7.33, n_gcs_solves: 666, gcs_solve_time_total: 0.798, gcs_solve_time_iter_mean: 0.0012, gcs_solve_time_last_10_mean: 0.00243, gcs_solve_time_iter_std: 0.000818, gcs_solve_time_iter_min: 0.000136, gcs_solve_time_iter_max: 0.00337, n_vertices_revisited: 0, n_vertices_reexplored: 0\n",
      "now exploring node ('NC|obs0_f2-obj0_f1', 'NC|obs0_f2-rob0_v0', 'IC|obj0_f3-rob0_v0')'s 55 neighbors (24.27433010755091)\n",
      "INFO:large_gcs.algorithms.gcs_astar_convex_restriction:\n",
      "n_vertices_visited: 19, n_edges_visited: 8, n_vertices_explored: 714, vertex_coverage: 0.105, edge_coverage: 0.0088, time_wall_clock: 7.89, n_gcs_solves: 714, gcs_solve_time_total: 0.88, gcs_solve_time_iter_mean: 0.00123, gcs_solve_time_last_10_mean: 0.00124, gcs_solve_time_iter_std: 0.000811, gcs_solve_time_iter_min: 0.000136, gcs_solve_time_iter_max: 0.00337, n_vertices_revisited: 0, n_vertices_reexplored: 0\n",
      "now exploring node ('IC|obs0_f2-obj0_f1', 'NC|obs0_f2-rob0_v0', 'IC|obj0_f3-rob0_v0')'s 44 neighbors (24.274330107568524)\n",
      "INFO:large_gcs.algorithms.gcs_astar_convex_restriction:\n",
      "n_vertices_visited: 20, n_edges_visited: 8, n_vertices_explored: 753, vertex_coverage: 0.111, edge_coverage: 0.0088, time_wall_clock: 8.33, n_gcs_solves: 753, gcs_solve_time_total: 0.947, gcs_solve_time_iter_mean: 0.00126, gcs_solve_time_last_10_mean: 0.00174, gcs_solve_time_iter_std: 0.000798, gcs_solve_time_iter_min: 0.000136, gcs_solve_time_iter_max: 0.00337, n_vertices_revisited: 0, n_vertices_reexplored: 0\n",
      "now exploring node ('IC|obs0_f2-obj0_f1', 'NC|obs0_f2-rob0_v0', 'NC|obj0_f0-rob0_v1')'s 35 neighbors (24.488818596418636)\n",
      "INFO:large_gcs.algorithms.gcs_astar_convex_restriction:\n",
      "n_vertices_visited: 21, n_edges_visited: 8, n_vertices_explored: 781, vertex_coverage: 0.116, edge_coverage: 0.0088, time_wall_clock: 8.68, n_gcs_solves: 781, gcs_solve_time_total: 1, gcs_solve_time_iter_mean: 0.00128, gcs_solve_time_last_10_mean: 0.00198, gcs_solve_time_iter_std: 0.000796, gcs_solve_time_iter_min: 0.000136, gcs_solve_time_iter_max: 0.00337, n_vertices_revisited: 0, n_vertices_reexplored: 0\n",
      "now exploring node ('NC|obs0_f2-obj0_f1', 'NC|obs0_f2-rob0_v0', 'NC|obj0_f0-rob0_v1')'s 62 neighbors (24.488818596440836)\n",
      "INFO:large_gcs.algorithms.gcs_astar_convex_restriction:Gcs A* Convex Restriction complete! \n",
      "cost: 24.512826012087707, time: 0.0015257736667990685\n",
      "vertex path: ['source'\n",
      " \"('NC|obs0_f0-obj0_v3', 'NC|obs0_f0-rob0_v1', 'NC|obj0_f3-rob0_v0')\"\n",
      " \"('NC|obs0_f0-obj0_v3', 'NC|obs0_f0-rob0_v1', 'NC|obj0_f0-rob0_v1')\"\n",
      " \"('NC|obs0_f0-obj0_v3', 'NC|obs0_f0-rob0_v1', 'IC|obj0_f1-rob0_f1')\"\n",
      " \"('IC|obs0_f0-obj0_v3', 'NC|obs0_f0-rob0_v1', 'IC|obj0_f1-rob0_f1')\"\n",
      " \"('IC|obs0_v0-obj0_f2', 'NC|obs0_f0-rob0_v1', 'IC|obj0_f1-rob0_f1')\"\n",
      " \"('IC|obs0_f2-obj0_f1', 'NC|obs0_f0-rob0_v1', 'IC|obj0_f0-rob0_v1')\"\n",
      " \"('IC|obs0_f2-obj0_f1', 'NC|obs0_f2-rob0_v0', 'IC|obj0_v0-rob0_f0')\"\n",
      " \"('NC|obs0_f2-obj0_f1', 'NC|obs0_f2-rob0_v0', 'NC|obj0_f3-rob0_v0')\"\n",
      " 'target']\n",
      "n_vertices_visited: 21, n_edges_visited: 8, n_vertices_explored: 831, vertex_coverage: 0.116, edge_coverage: 0.0088, time_wall_clock: 9.24, n_gcs_solves: 831, gcs_solve_time_total: 1.08, gcs_solve_time_iter_mean: 0.00131, gcs_solve_time_last_10_mean: 0.00105, gcs_solve_time_iter_std: 0.000801, gcs_solve_time_iter_min: 0.000136, gcs_solve_time_iter_max: 0.00337, n_vertices_revisited: 0, n_vertices_reexplored: 0\n"
     ]
    }
   ],
   "source": [
    "logging.getLogger(\"large_gcs.algorithms.gcs_astar_convex_restriction\").setLevel(\n",
    "    logging.INFO\n",
    ")\n",
    "cost_estimator_se = ShortcutEdgeCE(\n",
    "    cg_inc, contact_shortcut_edge_cost_factory_over_obj_weighted\n",
    ")\n",
    "gcs_astar_se = GcsAstarConvexRestriction(\n",
    "    cg_inc,\n",
    "    cost_estimator=cost_estimator_se,\n",
    "    reexplore_level=ReexploreLevel.NONE,\n",
    ")\n",
    "sol_se = gcs_astar_se.run()"
   ]
  },
  {
   "cell_type": "markdown",
   "metadata": {},
   "source": [
    "# Why does it say that some edges are infeasible when they are feasible in the standard contact graph?"
   ]
  },
  {
   "cell_type": "markdown",
   "metadata": {},
   "source": [
    "## Testing a short path"
   ]
  },
  {
   "cell_type": "code",
   "execution_count": null,
   "metadata": {},
   "outputs": [],
   "source": [
    "cg_inc = IncrementalContactGraph.load_from_file(\n",
    "    ContactGraphGeneratorParams.inc_graph_file_path_from_name(base_name)\n",
    ")\n",
    "v_path = [\n",
    "    \"source\",\n",
    "    \"('NC|obs0_f0-obj0_v3', 'NC|obs0_f0-rob0_v1', 'NC|obj0_f3-rob0_v0')\",\n",
    "    \"('NC|obs0_f0-obj0_v3', 'NC|obs0_f2-rob0_v0', 'NC|obj0_f3-rob0_v0')\",\n",
    "    \"('NC|obs0_f0-obj0_v3', 'NC|obs0_f2-rob0_v0', 'NC|obj0_f0-rob0_v1')\",\n",
    "]\n",
    "\n",
    "active_edges = []\n",
    "for i in range(len(v_path) - 1):\n",
    "    active_edges.append((v_path[i], v_path[i + 1]))\n",
    "\n",
    "for v in v_path[1:]:\n",
    "    cg_inc.generate_neighbors(v)\n",
    "    print(len(cg_inc.outgoing_edges(v)))"
   ]
  },
  {
   "cell_type": "code",
   "execution_count": null,
   "metadata": {},
   "outputs": [],
   "source": [
    "# cg.set_target(v2)\n",
    "# cg.solve_convex_restriction(active_edges)\n",
    "cg_inc.set_target(v_path[-1])\n",
    "cg_inc.solve_convex_restriction(active_edges)"
   ]
  },
  {
   "cell_type": "markdown",
   "metadata": {},
   "source": [
    "The above works, so that suggests to me that the problem lies somewhere in the shortcut CE..."
   ]
  },
  {
   "cell_type": "code",
   "execution_count": null,
   "metadata": {},
   "outputs": [],
   "source": [
    "cg_inc.set_target(\"target\")\n",
    "cg_inc.set_source(\"source\")\n",
    "cost_estimator_se = ShortcutEdgeCE(\n",
    "    cg_inc, contact_shortcut_edge_cost_factory_over_obj_weighted\n",
    ")\n",
    "cost_estimator_se.set_alg_metrics(AlgMetrics())\n",
    "subgraph = Graph()\n",
    "for v in v_path[:-1]:\n",
    "    subgraph.add_vertex(cg_inc.vertices[v], v)\n",
    "for e in active_edges[:-1]:\n",
    "    subgraph.add_edge(cg_inc.edges[e])\n",
    "subgraph.add_vertex(cg_inc.vertices[\"target\"], \"target\")\n",
    "subgraph.set_source(v_path[0])\n",
    "subgraph.set_target(\"target\")\n",
    "print(f\"subgraph vertices: {subgraph.vertex_names}\")\n",
    "print(f\"subgraph edges: {subgraph.edge_keys}\")\n",
    "edge_to_explore = cg_inc.edges[active_edges[-1]]\n",
    "print(f\"edge to explore: {edge_to_explore}\")\n",
    "cost_estimator_se.estimate_cost(\n",
    "    subgraph, edge=edge_to_explore, solve_convex_restriction=True\n",
    ")"
   ]
  },
  {
   "cell_type": "markdown",
   "metadata": {},
   "source": [
    "This also works, I wonder what the problem is..."
   ]
  },
  {
   "cell_type": "markdown",
   "metadata": {},
   "source": [
    "In the full shortcut CE test, the standard contact graph has these edges:"
   ]
  },
  {
   "cell_type": "code",
   "execution_count": null,
   "metadata": {},
   "outputs": [],
   "source": [
    "correct = [\n",
    "    (\"source\", \"('NC|obs0_f0-obj0_v3', 'NC|obs0_f0-rob0_v1', 'NC|obj0_f3-rob0_v0')\"),\n",
    "    (\n",
    "        \"('NC|obs0_f0-obj0_v3', 'NC|obs0_f0-rob0_v1', 'NC|obj0_f3-rob0_v0')\",\n",
    "        \"('NC|obs0_f0-obj0_v3', 'NC|obs0_f2-rob0_v0', 'NC|obj0_f3-rob0_v0')\",\n",
    "    ),\n",
    "    (\"('NC|obs0_f0-obj0_v3', 'NC|obs0_f2-rob0_v0', 'NC|obj0_f0-rob0_v1')\", \"target\"),\n",
    "    (\n",
    "        \"('NC|obs0_f0-obj0_v3', 'NC|obs0_f2-rob0_v0', 'NC|obj0_f3-rob0_v0')\",\n",
    "        \"('NC|obs0_f0-obj0_v3', 'NC|obs0_f2-rob0_v0', 'NC|obj0_f0-rob0_v1')\",\n",
    "    ),\n",
    "]\n",
    "wrong = [\n",
    "    (\"source\", \"('NC|obs0_f0-obj0_v3', 'NC|obs0_f0-rob0_v1', 'NC|obj0_f3-rob0_v0')\"),\n",
    "    (\"('NC|obs0_f0-obj0_v3', 'NC|obs0_f0-rob0_v1', 'NC|obj0_f3-rob0_v0')\", \"target\"),\n",
    "    (\n",
    "        \"('NC|obs0_f0-obj0_v3', 'NC|obs0_f0-rob0_v1', 'NC|obj0_f3-rob0_v0')\",\n",
    "        \"('NC|obs0_f0-obj0_v3', 'NC|obs0_f2-rob0_v0', 'NC|obj0_f3-rob0_v0')\",\n",
    "    ),\n",
    "    (\"('NC|obs0_f0-obj0_v3', 'NC|obs0_f2-rob0_v0', 'NC|obj0_f0-rob0_v1')\", \"target\"),\n",
    "    (\n",
    "        \"('NC|obs0_f0-obj0_v3', 'NC|obs0_f2-rob0_v0', 'NC|obj0_f3-rob0_v0')\",\n",
    "        \"('NC|obs0_f0-obj0_v3', 'NC|obs0_f2-rob0_v0', 'NC|obj0_f0-rob0_v1')\",\n",
    "    ),\n",
    "]"
   ]
  },
  {
   "cell_type": "markdown",
   "metadata": {},
   "source": [
    "## Testing the full solution path built up incrementally\n",
    "Let me do a quick test, if I generate the neighbors all along the solution path, does solving it work and are all the neighbors correct?"
   ]
  },
  {
   "cell_type": "code",
   "execution_count": null,
   "metadata": {},
   "outputs": [],
   "source": [
    "cg_inc = IncrementalContactGraph.load_from_file(\n",
    "    ContactGraphGeneratorParams.inc_graph_file_path_from_name(base_name)\n",
    ")"
   ]
  },
  {
   "cell_type": "code",
   "execution_count": null,
   "metadata": {},
   "outputs": [],
   "source": [
    "v_path = [\n",
    "    \"source\",\n",
    "    \"('NC|obs0_f0-obj0_v3', 'NC|obs0_f0-rob0_v1', 'NC|obj0_f3-rob0_v0')\",\n",
    "    \"('NC|obs0_f0-obj0_v3', 'NC|obs0_f0-rob0_v1', 'NC|obj0_f0-rob0_v1')\",\n",
    "    \"('NC|obs0_f0-obj0_v3', 'NC|obs0_f0-rob0_v1', 'IC|obj0_f1-rob0_f1')\",\n",
    "    \"('IC|obs0_f0-obj0_v3', 'NC|obs0_f0-rob0_v1', 'IC|obj0_f1-rob0_f1')\",\n",
    "    \"('IC|obs0_v0-obj0_f2', 'NC|obs0_f0-rob0_v1', 'IC|obj0_f1-rob0_f1')\",\n",
    "    \"('IC|obs0_f2-obj0_f1', 'NC|obs0_f0-rob0_v1', 'IC|obj0_f0-rob0_v1')\",\n",
    "    \"('IC|obs0_f2-obj0_f1', 'NC|obs0_f2-rob0_v0', 'IC|obj0_v0-rob0_f0')\",\n",
    "    \"('NC|obs0_f2-obj0_f1', 'NC|obs0_f2-rob0_v0', 'NC|obj0_f3-rob0_v0')\",\n",
    "    \"target\",\n",
    "]\n",
    "active_edges = []\n",
    "for v in range(len(v_path) - 1):\n",
    "    active_edges.append((v_path[v], v_path[v + 1]))"
   ]
  },
  {
   "cell_type": "code",
   "execution_count": null,
   "metadata": {},
   "outputs": [],
   "source": [
    "for v in v_path:\n",
    "    if v != \"source\" and v != \"target\":\n",
    "        cg_inc.generate_neighbors(v)"
   ]
  },
  {
   "cell_type": "code",
   "execution_count": null,
   "metadata": {},
   "outputs": [],
   "source": [
    "cg_inc.set_target(v_path[-1])\n",
    "cg_inc.solve_convex_restriction(active_edges)"
   ]
  },
  {
   "cell_type": "code",
   "execution_count": null,
   "metadata": {},
   "outputs": [],
   "source": [
    "cg.solve_convex_restriction(active_edges)"
   ]
  },
  {
   "cell_type": "markdown",
   "metadata": {},
   "source": [
    "# Why are different numbers of outgoing neighbors generated compared to the standard contact graph?"
   ]
  },
  {
   "cell_type": "code",
   "execution_count": null,
   "metadata": {},
   "outputs": [],
   "source": [
    "def are_all_graphs_edges_valid(g, verbose=False):\n",
    "    no_intersections = []\n",
    "    for u, v in g.edge_keys:\n",
    "        if not g._check_intersection(\n",
    "            (g.vertices[u].convex_set.base_set, g.vertices[v].convex_set.base_set)\n",
    "        ):\n",
    "            no_intersections.append((u, v))\n",
    "\n",
    "    print(f\"num invalid edges: {len(no_intersections)}/{len(g.edge_keys)}\")\n",
    "    if verbose:\n",
    "        print(f\"invalid edges: {np.array(no_intersections)}\")\n",
    "\n",
    "\n",
    "# are_all_graphs_edges_valid(cg)"
   ]
  },
  {
   "cell_type": "code",
   "execution_count": null,
   "metadata": {},
   "outputs": [],
   "source": [
    "are_all_graphs_edges_valid(cg_inc, verbose=True)"
   ]
  },
  {
   "cell_type": "code",
   "execution_count": null,
   "metadata": {},
   "outputs": [],
   "source": [
    "# First edge investigated\n",
    "u = \"('NC|obs0_f0-obj0_v3', 'NC|obs0_f0-rob0_v1', 'NC|obj0_f3-rob0_v0')\"\n",
    "v = \"('NC|obs0_f2-obj0_f1', 'NC|obs0_f0-rob0_v1', 'NC|obj0_f2-rob0_f2')\"\n",
    "v_contact_pair_mode_ids = ast.literal_eval(v)\n",
    "\n",
    "# for mode_id in v_contact_pair_mode_ids:\n",
    "#     print(f\"cg_inc: {len(cg_inc._contact_pair_modes[mode_id].base_constraint_formulas)}, cg: {len(cg._contact_pair_modes[mode_id].base_constraint_formulas)}\")\n",
    "\n",
    "cg_inc._generate_vertex_neighbor(u, v_contact_pair_mode_ids)\n",
    "v_cg = cg._create_contact_set_from_contact_pair_mode_ids(v_contact_pair_mode_ids)\n",
    "v_cg_inc = cg_inc._create_contact_set_from_contact_pair_mode_ids(\n",
    "    v_contact_pair_mode_ids\n",
    ")\n",
    "\n",
    "print(cg._check_intersection((cg.vertices[u].convex_set.base_set, v_cg.base_set)))\n",
    "print(\n",
    "    cg._check_intersection(\n",
    "        (cg.vertices[u].convex_set.base_set, cg.vertices[v].convex_set.base_set)\n",
    "    )\n",
    ")\n",
    "print((u, v) in cg.edges)\n",
    "\n",
    "# # # This is different\n",
    "# print(len(v_cg.base_constraint_formulas))\n",
    "# print(len(v_cg_inc.base_constraint_formulas))"
   ]
  },
  {
   "cell_type": "code",
   "execution_count": null,
   "metadata": {},
   "outputs": [],
   "source": [
    "print(len(cg._contact_pair_modes))\n",
    "print(len(cg_inc._contact_pair_modes))\n",
    "mode_id = \"NC|obs0_f0-obj0_v3\"\n",
    "# mode_id = 'NC|obj0_f2-rob0_f2'\n",
    "print(len(cg._contact_pair_modes[mode_id].base_constraint_formulas))\n",
    "print(len(cg_inc._contact_pair_modes[mode_id].base_constraint_formulas))"
   ]
  },
  {
   "cell_type": "code",
   "execution_count": null,
   "metadata": {},
   "outputs": [],
   "source": [
    "cg.vertices[u].convex_set.base_set.ambient_dimension()"
   ]
  },
  {
   "cell_type": "code",
   "execution_count": null,
   "metadata": {},
   "outputs": [],
   "source": [
    "np.allclose(\n",
    "    cg_inc.vertices[u].convex_set.base_set.A(), cg.vertices[u].convex_set.base_set.A()\n",
    ")"
   ]
  },
  {
   "cell_type": "code",
   "execution_count": null,
   "metadata": {},
   "outputs": [],
   "source": [
    "def are_vertex_sets_the_same(u):\n",
    "    return np.allclose(\n",
    "        cg_inc.vertices[u].convex_set.base_set.A(),\n",
    "        cg.vertices[u].convex_set.base_set.A(),\n",
    "    ) and np.allclose(\n",
    "        cg_inc.vertices[u].convex_set.base_set.A(),\n",
    "        cg.vertices[u].convex_set.base_set.A(),\n",
    "    )\n",
    "\n",
    "\n",
    "# are_vertex_sets_the_same(\"('NC|obs0_f0-obj0_v3', 'NC|obs0_f2-rob0_v0', 'NC|obj0_f3-rob0_v0')\")\n",
    "# are_vertex_sets_the_same(\"('NC|obs0_f0-obj0_v3', 'NC|obs0_f1-rob0_f2', 'NC|obj0_f2-rob0_f2')\")\n",
    "are_vertex_sets_the_same(\n",
    "    \"('NC|obs0_f0-obj0_v3', 'NC|obs0_f2-rob0_v0', 'NC|obj0_f0-rob0_v1')\"\n",
    ")"
   ]
  },
  {
   "cell_type": "code",
   "execution_count": null,
   "metadata": {},
   "outputs": [],
   "source": [
    "def print_dim_A_b(vertex_name):\n",
    "    print(f\"\\ncomparing dimensions of {vertex_name}\")\n",
    "    print(f\"shape of A cg: {cg.vertices[vertex_name].convex_set.base_set.A().shape}\")\n",
    "    print(\n",
    "        f\"shape of A cg_inc: {cg_inc.vertices[vertex_name].convex_set.base_set.A().shape}\"\n",
    "    )\n",
    "    print(f\"shape of b cg: {cg.vertices[vertex_name].convex_set.base_set.b().shape}\")\n",
    "    print(\n",
    "        f\"shape of b cg_inc: {cg_inc.vertices[vertex_name].convex_set.base_set.b().shape}\"\n",
    "    )\n",
    "\n",
    "\n",
    "def print_dim_A_b_set(convex_set):\n",
    "    print(f\"\\ncomparing base dimensions of {convex_set}\")\n",
    "    print(f\"shape of A: {convex_set.base_set.A().shape}\")\n",
    "    print(f\"shape of b: {convex_set.base_set.b().shape}\")"
   ]
  },
  {
   "cell_type": "code",
   "execution_count": null,
   "metadata": {},
   "outputs": [],
   "source": [
    "for v in cg_inc.vertex_names:\n",
    "    if v == \"source\" or v == \"target\":\n",
    "        continue\n",
    "    print_dim_A_b(v)"
   ]
  },
  {
   "cell_type": "code",
   "execution_count": null,
   "metadata": {},
   "outputs": [],
   "source": [
    "print_dim_A_b(v)"
   ]
  },
  {
   "cell_type": "code",
   "execution_count": null,
   "metadata": {},
   "outputs": [],
   "source": [
    "cg_inc.vertices[u].convex_set.base_set.A()"
   ]
  },
  {
   "cell_type": "code",
   "execution_count": null,
   "metadata": {},
   "outputs": [],
   "source": [
    "cg_inc.vertices[u].convex_set.plot_base_set()"
   ]
  },
  {
   "cell_type": "code",
   "execution_count": null,
   "metadata": {},
   "outputs": [],
   "source": [
    "(u, v) in cg_inc.edges"
   ]
  },
  {
   "cell_type": "code",
   "execution_count": null,
   "metadata": {},
   "outputs": [],
   "source": [
    "cg_inc._modes_w_possible_edge_to_target"
   ]
  },
  {
   "cell_type": "code",
   "execution_count": null,
   "metadata": {},
   "outputs": [],
   "source": [
    "cost_estimator = FactoredCollisionFreeCE(cg, use_combined_gcs=True, obj_multiplier=100)\n",
    "\n",
    "gcs_astar = GcsAstarConvexRestriction(\n",
    "    cg,\n",
    "    cost_estimator=cost_estimator,\n",
    "    reexplore_level=ReexploreLevel.NONE,\n",
    ")\n",
    "sol = gcs_astar.run()"
   ]
  },
  {
   "cell_type": "code",
   "execution_count": null,
   "metadata": {},
   "outputs": [],
   "source": [
    "anim = cg.animate_solution()\n",
    "HTML(anim.to_html5_video())"
   ]
  },
  {
   "cell_type": "code",
   "execution_count": null,
   "metadata": {},
   "outputs": [],
   "source": [
    "v1 = \"('NC|obs0_f0-obj0_v3', 'NC|obs0_f0-rob0_v1', 'NC|obj0_f3-rob0_v0')\"\n",
    "v2 = \"('NC|obs0_f0-obj0_v3', 'NC|obs0_f2-rob0_v0', 'NC|obj0_f3-rob0_v0')\"\n",
    "active_edges = [\n",
    "    (\"source\", v1),\n",
    "    (v1, v2),\n",
    "]\n",
    "# cg.set_target(v2)\n",
    "# cg.solve_convex_restriction(active_edges)\n",
    "cg_inc.set_target(v2)\n",
    "cg_inc.solve_convex_restriction(active_edges)"
   ]
  },
  {
   "cell_type": "code",
   "execution_count": null,
   "metadata": {},
   "outputs": [],
   "source": [
    "# First vertex investigated\n",
    "# vertex_name = \"('NC|obs0_f0-obj0_v3', 'NC|obs0_f0-rob0_v1', 'NC|obj0_f3-rob0_v0')\"\n",
    "# Second vertex investigated\n",
    "vertex_name = \"('NC|obs0_f0-obj0_v3', 'NC|obs0_f2-rob0_v0', 'NC|obj0_f3-rob0_v0')\"\n",
    "cg_edges = set([e.v for e in cg.outgoing_edges(vertex_name)])\n",
    "cg_inc_edges = set([e.v for e in cg_inc.outgoing_edges(vertex_name)])\n",
    "only_in_cg = np.array(list(cg_edges - cg_inc_edges))\n",
    "only_in_cg_inc = np.array(list(cg_inc_edges - cg_edges))\n",
    "print(f\"{only_in_cg.size} Only in cg: \\n{only_in_cg}\")\n",
    "print(f\"{only_in_cg_inc.size} Only in cg_inc: \\n{only_in_cg_inc}\")\n",
    "\n",
    "only_in_cg = only_in_cg[only_in_cg != \"source\"]\n",
    "\n",
    "# mode_ids = ast.literal_eval(vertex_name)\n",
    "# mode_ids_for_each_body_pair = []\n",
    "# for id in mode_ids:\n",
    "#     mode_ids_for_each_body_pair.append(\n",
    "#         [id] + cg_inc._adj_modes[id]\n",
    "#     )\n",
    "# set_ids = list(product(*mode_ids_for_each_body_pair))\n",
    "# set_ids_str = [str(set_id) for set_id in set_ids]\n",
    "# in_cg_not_in_set_ids = np.array(list(set(only_in_cg) - set(set_ids_str)))\n",
    "# print(f\"{in_cg_not_in_set_ids.size} In cg but not in set_ids: \\n{in_cg_not_in_set_ids}\")\n",
    "\n",
    "# for set_id in only_in_cg:\n",
    "#     mode_ids = ast.literal_eval(set_id)\n",
    "#     print(f\"Generating {set_id}...\")\n",
    "#     cg_inc._generate_vertex_neighbor(vertex_name, mode_ids)\n",
    "\n",
    "# # Verify that extra edges in cg actually have intersection\n",
    "# for v in only_in_cg:\n",
    "#     assert cg._check_intersection((cg.vertices[vertex_name].convex_set.base_set, cg.vertices[v].convex_set.base_set))\n",
    "\n",
    "# # Verify that these sets are not empty\n",
    "# for v in only_in_cg_inc:\n",
    "#     assert not cg.vertices[v].convex_set.set.IsEmpty()\n",
    "\n",
    "# # Are these not generated because they aren't in the adjacent modes?\n",
    "# u_mode_ids = ast.literal_eval(vertex_name)\n",
    "# for set_id in only_in_cg:\n",
    "#     if set_id == \"source\": continue\n",
    "#     v_mode_ids = ast.literal_eval(set_id)\n",
    "#     print()\n",
    "#     for i in range(len(u_mode_ids)):\n",
    "#         print(f\"{v_mode_ids[i]} in adj_modes to {u_mode_ids[i]}: {v_mode_ids[i] in cg_inc._adj_modes[u_mode_ids[i]] + [u_mode_ids[i]]}\")"
   ]
  },
  {
   "cell_type": "code",
   "execution_count": null,
   "metadata": {},
   "outputs": [],
   "source": [
    "cost_estimator = FactoredCollisionFreeCE(\n",
    "    cg_inc, use_combined_gcs=True, obj_multiplier=100\n",
    ")\n",
    "\n",
    "gcs_astar = GcsAstarConvexRestriction(\n",
    "    cg_inc,\n",
    "    cost_estimator=cost_estimator,\n",
    "    reexplore_level=ReexploreLevel.NONE,\n",
    ")\n",
    "sol = gcs_astar.run()"
   ]
  },
  {
   "cell_type": "code",
   "execution_count": null,
   "metadata": {},
   "outputs": [],
   "source": [
    "anim = cg.animate_solution()\n",
    "HTML(anim.to_html5_video())"
   ]
  },
  {
   "cell_type": "code",
   "execution_count": null,
   "metadata": {},
   "outputs": [],
   "source": [
    "# from itertools import product\n",
    "# mode_ids_for_each_body_pair = [\n",
    "#     ['A1', 'A2', 'A3', 'A4', 'A5', 'A6', 'A7'],\n",
    "#     ['B1', 'B2', 'B3',],\n",
    "#     ['C1', 'C2', 'C3', 'C4', 'C5', 'C6'],\n",
    "# ]\n",
    "# mode_ids = ('A1', 'B1', 'C1')\n",
    "# set_ids = list(product(*mode_ids_for_each_body_pair))\n",
    "# print(f\"Generating {len(set_ids)-1}\")\n",
    "# for set_id in set_ids:\n",
    "#     if set_id != mode_ids:\n",
    "#         print(f\"Generating {set_id}\")\n",
    "#     else:\n",
    "#         print(f\"SKIPPING {set_id}\")"
   ]
  },
  {
   "cell_type": "code",
   "execution_count": null,
   "metadata": {},
   "outputs": [],
   "source": []
  }
 ],
 "metadata": {
  "kernelspec": {
   "display_name": ".venv",
   "language": "python",
   "name": "python3"
  },
  "language_info": {
   "codemirror_mode": {
    "name": "ipython",
    "version": 3
   },
   "file_extension": ".py",
   "mimetype": "text/x-python",
   "name": "python",
   "nbconvert_exporter": "python",
   "pygments_lexer": "ipython3",
   "version": "3.8.10"
  },
  "orig_nbformat": 4
 },
 "nbformat": 4,
 "nbformat_minor": 2
}
