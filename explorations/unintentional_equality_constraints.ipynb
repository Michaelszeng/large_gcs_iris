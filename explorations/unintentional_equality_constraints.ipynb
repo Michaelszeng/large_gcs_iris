{
 "cells": [
  {
   "cell_type": "markdown",
   "metadata": {},
   "source": [
    "# Unintentional Equality Constraints in Contact Sets\n",
    "\n",
    "Leading to multi-level deep null space polyhedrons"
   ]
  },
  {
   "cell_type": "code",
   "execution_count": 1,
   "metadata": {},
   "outputs": [],
   "source": [
    "import numpy as np\n",
    "import logging\n",
    "from large_gcs.geometry.polyhedron import Polyhedron\n",
    "from large_gcs.graph.incremental_contact_graph import IncrementalContactGraph\n",
    "from large_gcs.graph_generators.contact_graph_generator import (\n",
    "    ContactGraphGeneratorParams,\n",
    ")\n",
    "from large_gcs.graph.graph import Vertex\n",
    "\n",
    "\n",
    "logging.basicConfig(level=logging.WARN)\n",
    "logging.getLogger(\"large_gcs\").setLevel(logging.DEBUG)"
   ]
  },
  {
   "cell_type": "code",
   "execution_count": 2,
   "metadata": {},
   "outputs": [
    {
     "name": "stderr",
     "output_type": "stream",
     "text": [
      "INFO:large_gcs.graph.contact_graph:Creating vertex costs...\n"
     ]
    },
    {
     "name": "stdout",
     "output_type": "stream",
     "text": [
      "Set parameter Username\n",
      "Academic license - for non-commercial use only - expires 2025-06-05\n"
     ]
    },
    {
     "name": "stderr",
     "output_type": "stream",
     "text": [
      "100%|██████████| 2/2 [00:00<00:00, 64035.18it/s]\n",
      "INFO:large_gcs.graph.graph:Adding 2 vertices to graph...\n",
      "100%|██████████| 2/2 [00:00<00:00, 30283.78it/s]\n",
      "INFO:large_gcs.graph.contact_graph:Generating contact pair modes for 10 body pairs...\n",
      "100%|██████████| 10/10 [00:00<00:00, 156.55it/s]\n",
      "INFO:large_gcs.graph.incremental_contact_graph:Calculating adjacent contact pair modes (313)\n",
      "100%|██████████| 313/313 [00:00<00:00, 40374.50it/s]\n"
     ]
    }
   ],
   "source": [
    "graph_file = ContactGraphGeneratorParams.inc_graph_file_path_from_name(\n",
    "    \"cg_stackpush_a2\"\n",
    ")\n",
    "cg = IncrementalContactGraph.load_from_file(\n",
    "    graph_file,\n",
    "    should_incl_simul_mode_switches=False,\n",
    "    should_add_const_edge_cost=True,\n",
    "    should_add_gcs=True,\n",
    ")"
   ]
  },
  {
   "cell_type": "code",
   "execution_count": 3,
   "metadata": {},
   "outputs": [],
   "source": [
    "contact_pair_mode_ids = (\n",
    "    \"IC|obs0_f2-obj0_f0\",\n",
    "    \"IC|obs0_f2-obj1_f0\",\n",
    "    \"IC|obs0_f2-obj2_f0\",\n",
    "    \"NC|obs0_f3-rob0_v1\",\n",
    "    \"IC|obj0_f1-obj1_f3\",\n",
    "    \"NC|obj0_f1-obj2_f3\",\n",
    "    \"IC|obj0_f3-rob0_f1\",\n",
    "    \"IC|obj1_f1-obj2_f3\",\n",
    "    \"NC|obj1_f3-rob0_f1\",\n",
    "    \"NC|obj2_f3-rob0_f1\",\n",
    ")\n",
    "v_name = str(contact_pair_mode_ids)\n",
    "contact_set = cg._create_contact_set_from_contact_pair_mode_ids(contact_pair_mode_ids)\n",
    "vertex = Vertex(\n",
    "    contact_set,\n",
    "    cg._create_single_vertex_costs(contact_set),\n",
    "    constraints=cg._create_single_vertex_constraints(contact_set),\n",
    ")\n",
    "cg.add_vertex(vertex, v_name)\n",
    "chebyshev_center = contact_set.set.ChebyshevCenter()\n",
    "# cg.plot_samples_in_set(v_name, np.array([chebyshev_center]))\n",
    "# chebyshev_center"
   ]
  },
  {
   "cell_type": "code",
   "execution_count": null,
   "metadata": {},
   "outputs": [],
   "source": [
    "cg.plot()"
   ]
  },
  {
   "cell_type": "code",
   "execution_count": null,
   "metadata": {},
   "outputs": [],
   "source": [
    "cg.plot_samples_in_set(v_name, np.array([chebyshev_center]))"
   ]
  },
  {
   "cell_type": "markdown",
   "metadata": {},
   "source": [
    "There is only one point that satisfies these constraints, and when the tolerance is set to 0, even the Chebyshev Center is not considered to be in the set due to small numerical errors."
   ]
  },
  {
   "cell_type": "code",
   "execution_count": null,
   "metadata": {},
   "outputs": [],
   "source": [
    "contact_set.vars.pos"
   ]
  },
  {
   "cell_type": "code",
   "execution_count": null,
   "metadata": {},
   "outputs": [],
   "source": [
    "contact_set.vars.pos_from_all(chebyshev_center)"
   ]
  },
  {
   "cell_type": "code",
   "execution_count": null,
   "metadata": {},
   "outputs": [],
   "source": [
    "contact_set._polyhedron._A.shape"
   ]
  },
  {
   "cell_type": "markdown",
   "metadata": {},
   "source": [
    "In this set all the bodies are in contact with the top face of the obstacle, so they can't move at all since the left and right bodies are just touching corners.\n",
    "The robot is moving down from 2.25 to -0.75."
   ]
  },
  {
   "cell_type": "code",
   "execution_count": null,
   "metadata": {},
   "outputs": [],
   "source": [
    "contact_set.set.PointInSet(chebyshev_center)"
   ]
  },
  {
   "cell_type": "code",
   "execution_count": null,
   "metadata": {},
   "outputs": [],
   "source": [
    "contact_set.set.IsEmpty()"
   ]
  },
  {
   "cell_type": "code",
   "execution_count": null,
   "metadata": {},
   "outputs": [],
   "source": [
    "# contact_set._polyhedron._has_equality_constraints"
   ]
  },
  {
   "cell_type": "code",
   "execution_count": null,
   "metadata": {},
   "outputs": [],
   "source": [
    "# contact_set._polyhedron._null_space_polyhedron._has_equality_constraints"
   ]
  },
  {
   "cell_type": "markdown",
   "metadata": {},
   "source": [
    "The original set is 32 dimensional, with 190 constraints."
   ]
  },
  {
   "cell_type": "code",
   "execution_count": null,
   "metadata": {},
   "outputs": [],
   "source": [
    "contact_set._polyhedron.set.A().shape"
   ]
  },
  {
   "cell_type": "markdown",
   "metadata": {},
   "source": [
    "The problem is that when we try to sample, multiple levels of null space polyhedrons get created. because after removing the intentional equality constraints, the unintentional ones begin to show up. And for some reason the lowest level one is empty (when it shouldn't be) there should be 2 dimensions that can move, the first knot point of the y position of the robot and the second knot point of the y position of the robot.\n",
    "\n",
    "The relevant files are:\n",
    "large_gcs/geometry/polyhedron.py\n",
    "large_gcs/contact/contact_set.py\n",
    "large_gcs/geometry/convex_set.py"
   ]
  },
  {
   "cell_type": "code",
   "execution_count": null,
   "metadata": {},
   "outputs": [],
   "source": [
    "contact_set.get_samples(10)"
   ]
  },
  {
   "cell_type": "markdown",
   "metadata": {},
   "source": [
    "The behavior I chose to implement in this situation is to just return the chebyshev center as the only sample in the event that the sampling fails due to the chebyshev center not being in the set. This seems fine to me since there will only be one feasible point anyways so it does not make sense to return multiple samples."
   ]
  },
  {
   "cell_type": "code",
   "execution_count": null,
   "metadata": {},
   "outputs": [],
   "source": [
    "len(contact_set.get_samples(10))"
   ]
  },
  {
   "cell_type": "code",
   "execution_count": null,
   "metadata": {},
   "outputs": [],
   "source": [
    "P = contact_set._polyhedron\n",
    "E = P._null_space_polyhedron.set.MaximumVolumeInscribedEllipsoid()"
   ]
  },
  {
   "cell_type": "code",
   "execution_count": null,
   "metadata": {},
   "outputs": [],
   "source": [
    "contact_set.vars.all.shape"
   ]
  },
  {
   "cell_type": "code",
   "execution_count": null,
   "metadata": {},
   "outputs": [],
   "source": [
    "contact_set.dim"
   ]
  },
  {
   "cell_type": "code",
   "execution_count": null,
   "metadata": {},
   "outputs": [],
   "source": [
    "cg.params"
   ]
  },
  {
   "cell_type": "code",
   "execution_count": null,
   "metadata": {},
   "outputs": [],
   "source": []
  }
 ],
 "metadata": {
  "kernelspec": {
   "display_name": ".venv",
   "language": "python",
   "name": "python3"
  },
  "language_info": {
   "codemirror_mode": {
    "name": "ipython",
    "version": 3
   },
   "file_extension": ".py",
   "mimetype": "text/x-python",
   "name": "python",
   "nbconvert_exporter": "python",
   "pygments_lexer": "ipython3",
   "version": "3.10.12"
  }
 },
 "nbformat": 4,
 "nbformat_minor": 2
}
