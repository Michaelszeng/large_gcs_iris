{
 "cells": [
  {
   "cell_type": "code",
   "execution_count": 1,
   "metadata": {},
   "outputs": [
    {
     "name": "stderr",
     "output_type": "stream",
     "text": [
      "/home/shaoyuan/Documents/Software/pypolycontain/pypolycontain/conversions.py:19: UserWarning: WARNING: You don't have CDD package installed. Unable to visualize polytopes. You may still visualize zonotopes.\n",
      "  warnings.warn(\"WARNING: You don't have CDD package installed. Unable to visualize polytopes. You may still visualize zonotopes.\")\n",
      "/home/shaoyuan/Documents/Software/pypolycontain/pypolycontain/containment.py:16: UserWarning: You don't have CDD package installed. Unable to run cone ray generation.\n",
      "  warnings.warn(\"You don't have CDD package installed. Unable to run cone ray generation.\")\n"
     ]
    }
   ],
   "source": [
    "from large_gcs.algorithms.gcs_astar_reachability import GcsAstarReachability\n",
    "from large_gcs.cost_estimators.shortcut_edge_ce import ShortcutEdgeCE\n",
    "from large_gcs.graph.contact_cost_constraint_factory import (\n",
    "    contact_shortcut_edge_cost_factory_over_obj_weighted,\n",
    ")\n",
    "from large_gcs.graph.cost_constraint_factory import (\n",
    "    shortcut_edge_cost_factory,\n",
    ")\n",
    "from large_gcs.algorithms.search_algorithm import SearchNode\n",
    "from large_gcs.graph.graph import ShortestPathSolution\n",
    "from large_gcs.graph.incremental_contact_graph import IncrementalContactGraph\n",
    "from large_gcs.graph_generators.contact_graph_generator import (\n",
    "    ContactGraphGeneratorParams,\n",
    ")\n",
    "from large_gcs.domination_checkers.sampling_domination_checker import SetSamples\n",
    "from large_gcs.contact.contact_set import ContactSet\n",
    "from large_gcs.graph.contact_cost_constraint_factory import contact_shortcut_edge_l1_norm_cost_factory_over_obj_weighted\n",
    "from large_gcs.algorithms.search_algorithm import AlgMetrics\n",
    "from large_gcs.domination_checkers.reaches_cheaper_sampling import ReachesCheaperSampling\n",
    "from large_gcs.domination_checkers.reaches_cheaper_last_pos_sampling import ReachesCheaperLastPosSampling\n",
    "from large_gcs.domination_checkers.reaches_cheaper_containment import ReachesCheaperContainment\n",
    "import numpy as np\n",
    "from IPython.display import HTML\n",
    "\n",
    "import logging\n",
    "\n",
    "logging.basicConfig(level=logging.WARN)\n",
    "logging.getLogger(\"large_gcs\").setLevel(logging.DEBUG)\n",
    "logging.getLogger(__name__).setLevel(logging.DEBUG)\n",
    "logger = logging.getLogger(__name__)"
   ]
  },
  {
   "cell_type": "code",
   "execution_count": 2,
   "metadata": {},
   "outputs": [
    {
     "name": "stderr",
     "output_type": "stream",
     "text": [
      "WARNING:large_gcs.geometry.polyhedron:This method should not be used, it is very slow.\n",
      "WARNING:large_gcs.geometry.polyhedron:This method should not be used, it is very slow.\n",
      "WARNING:large_gcs.geometry.polyhedron:This method should not be used, it is very slow.\n",
      "WARNING:large_gcs.geometry.polyhedron:This method should not be used, it is very slow.\n",
      "WARNING:large_gcs.geometry.polyhedron:This method should not be used, it is very slow.\n",
      "INFO:large_gcs.graph.contact_graph:Creating vertex costs...\n",
      "100%|██████████| 2/2 [00:00<00:00, 30393.51it/s]\n",
      "INFO:large_gcs.graph.graph:Adding 2 vertices to graph...\n",
      "100%|██████████| 2/2 [00:00<00:00, 14388.69it/s]\n",
      "INFO:large_gcs.graph.contact_graph:Generating contact pair modes for 3 body pairs...\n",
      "100%|██████████| 3/3 [00:00<00:00, 201.51it/s]\n",
      "WARNING:large_gcs.geometry.polyhedron:This method should not be used, it is very slow.\n",
      "INFO:large_gcs.graph.incremental_contact_graph:Calculating adjacent contact pair modes (151)\n",
      "100%|██████████| 151/151 [00:00<00:00, 3664.89it/s]\n"
     ]
    },
    {
     "data": {
      "image/png": "[encoded data removed]",
      "text/plain": [
       "<Figure size 640x480 with 1 Axes>"
      ]
     },
     "metadata": {},
     "output_type": "display_data"
    }
   ],
   "source": [
    "graph_file = ContactGraphGeneratorParams.inc_graph_file_path_from_name(\"cg_maze_b1\")\n",
    "cg = IncrementalContactGraph.load_from_file(\n",
    "    graph_file,\n",
    "    should_incl_simul_mode_switches=False,\n",
    "    should_add_const_edge_cost=True,\n",
    "    should_add_gcs=True,\n",
    "    should_use_l1_norm_vertex_cost=True,\n",
    ")\n",
    "cg.plot()"
   ]
  },
  {
   "cell_type": "code",
   "execution_count": 3,
   "metadata": {},
   "outputs": [],
   "source": [
    "vertex_path = ['source', \"('NC|obs0_f0-obj0_v3', 'NC|obs0_f1-rob0_v0', 'NC|obj0_f2-rob0_f2')\", \"('NC|obs0_f0-obj0_v3', 'NC|obs0_v1-rob0_f2', 'NC|obj0_f2-rob0_f2')\", \"('NC|obs0_f0-obj0_v3', 'NC|obs0_f0-rob0_v1', 'NC|obj0_f2-rob0_f2')\"]\n",
    "\n",
    "cg.set_target(\"target\")\n",
    "for v in vertex_path[:-1]:\n",
    "    cg.generate_neighbors(v)"
   ]
  },
  {
   "cell_type": "code",
   "execution_count": 4,
   "metadata": {},
   "outputs": [],
   "source": [
    "n = SearchNode.from_vertex_path(vertex_path)\n",
    "# set_samples = SetSamples.from_vertex(n.vertex_name, cg.vertices[n.vertex_name], 1)\n",
    "# # cg.plot_samples_in_set(n.vertex_name, set_samples.samples)\n",
    "\n",
    "# for sample in set_samples.samples:\n",
    "#     cg.plot_samples_in_set(n.vertex_name, np.array([sample]))"
   ]
  },
  {
   "cell_type": "markdown",
   "metadata": {},
   "source": [
    "## AH Containment"
   ]
  },
  {
   "cell_type": "code",
   "execution_count": 6,
   "metadata": {},
   "outputs": [
    {
     "name": "stderr",
     "output_type": "stream",
     "text": [
      "DEBUG:large_gcs.domination_checkers.ah_containment_domination_checker:Total number of decision variables 47, sum of v_dims 34\n",
      "DEBUG:large_gcs.domination_checkers.ah_containment_domination_checker:processing vertex constraint vertices[0]\n",
      "DEBUG:large_gcs.domination_checkers.ah_containment_domination_checker:processing vertex constraint vertices[1]\n",
      "DEBUG:large_gcs.domination_checkers.ah_containment_domination_checker:processing vertex constraint vertices[2]\n",
      "DEBUG:large_gcs.domination_checkers.ah_containment_domination_checker:processing vertex constraint vertices[3]\n",
      "DEBUG:large_gcs.domination_checkers.ah_containment_domination_checker:processing edge constraint edge[0]\n",
      "DEBUG:large_gcs.domination_checkers.ah_containment_domination_checker:constraint <pydrake.solvers.LinearEqualityConstraint object at 0x7c9facf77970>\n",
      "DEBUG:large_gcs.domination_checkers.ah_containment_domination_checker:Adding linear equality constraint\n",
      "DEBUG:large_gcs.domination_checkers.ah_containment_domination_checker:processing edge constraint edge[1]\n",
      "DEBUG:large_gcs.domination_checkers.ah_containment_domination_checker:constraint <pydrake.solvers.LinearEqualityConstraint object at 0x7ca00cf43c30>\n",
      "DEBUG:large_gcs.domination_checkers.ah_containment_domination_checker:Adding linear equality constraint\n",
      "DEBUG:large_gcs.domination_checkers.ah_containment_domination_checker:processing edge constraint edge[2]\n",
      "DEBUG:large_gcs.domination_checkers.ah_containment_domination_checker:constraint <pydrake.solvers.LinearEqualityConstraint object at 0x7ca00cf581b0>\n",
      "DEBUG:large_gcs.domination_checkers.ah_containment_domination_checker:Adding linear equality constraint\n",
      "DEBUG:large_gcs.domination_checkers.ah_containment_domination_checker:constraint <pydrake.solvers.LinearConstraint object at 0x7ca00cf59470>\n",
      "DEBUG:large_gcs.domination_checkers.ah_containment_domination_checker:Adding linear constraint\n",
      "DEBUG:large_gcs.domination_checkers.ah_containment_domination_checker:constraint <pydrake.solvers.LinearConstraint object at 0x7c9fa2f8f9f0>\n",
      "DEBUG:large_gcs.domination_checkers.ah_containment_domination_checker:Adding linear constraint\n",
      "DEBUG:large_gcs.domination_checkers.ah_containment_domination_checker:constraint <pydrake.solvers.LinearConstraint object at 0x7ca00cf06070>\n",
      "DEBUG:large_gcs.domination_checkers.ah_containment_domination_checker:Adding linear constraint\n",
      "DEBUG:large_gcs.domination_checkers.ah_containment_domination_checker:constraint <pydrake.solvers.LinearConstraint object at 0x7c9fa2f8bf70>\n",
      "DEBUG:large_gcs.domination_checkers.ah_containment_domination_checker:Adding linear constraint\n",
      "DEBUG:large_gcs.domination_checkers.ah_containment_domination_checker:constraint <pydrake.solvers.LinearConstraint object at 0x7c9fa2f89e30>\n",
      "DEBUG:large_gcs.domination_checkers.ah_containment_domination_checker:Adding linear constraint\n",
      "DEBUG:large_gcs.domination_checkers.ah_containment_domination_checker:constraint <pydrake.solvers.LinearConstraint object at 0x7c9f5638f9f0>\n",
      "DEBUG:large_gcs.domination_checkers.ah_containment_domination_checker:Adding linear constraint\n",
      "DEBUG:large_gcs.domination_checkers.ah_containment_domination_checker:Getting H projection transformation\n"
     ]
    },
    {
     "data": {
      "text/plain": [
       "((147, 47), (11, 47))"
      ]
     },
     "execution_count": 6,
     "metadata": {},
     "output_type": "execute_result"
    }
   ],
   "source": [
    "domination_checker = ReachesCheaperContainment(cg)\n",
    "domination_checker.set_alg_metrics(AlgMetrics())\n",
    "A, b, C, d = domination_checker.get_path_A_b_C_d(n)\n",
    "H = np.vstack([A, C, -C])\n",
    "h = np.hstack([b, d, -d])\n",
    "T_H = domination_checker.get_H_transformation(n, H.shape[0])\n",
    "H.shape, T_H.shape"
   ]
  },
  {
   "cell_type": "code",
   "execution_count": 7,
   "metadata": {},
   "outputs": [
    {
     "name": "stdout",
     "output_type": "stream",
     "text": [
      "[24, 25, 26, 27, 28, 29, 30, 31, 32, 33, 46]\n"
     ]
    },
    {
     "data": {
      "text/plain": [
       "(11, 47)"
      ]
     },
     "execution_count": 7,
     "metadata": {},
     "output_type": "execute_result"
    }
   ],
   "source": [
    "from large_gcs.geometry.geometry_utils import create_selection_matrix\n",
    "\n",
    "vertices = [cg.vertices[name].gcs_vertex for name in n.vertex_path]\n",
    "\n",
    "v_dims = [v.ambient_dimension() for v in vertices]\n",
    "current_index = 0\n",
    "\n",
    "x = []\n",
    "for i, dim in enumerate(v_dims):\n",
    "    x.append(list(range(current_index, current_index + dim)))\n",
    "    current_index += dim\n",
    "\n",
    "N = 47\n",
    "con_var_indices = x[-1] + [N - 1]\n",
    "print(con_var_indices)\n",
    "S = create_selection_matrix(con_var_indices, N)\n",
    "S.shape"
   ]
  },
  {
   "cell_type": "code",
   "execution_count": 10,
   "metadata": {},
   "outputs": [
    {
     "data": {
      "text/plain": [
       "array([25, 27, 29, 31])"
      ]
     },
     "execution_count": 10,
     "metadata": {},
     "output_type": "execute_result"
    }
   ],
   "source": [
    "terminal_set:ContactSet = cg.vertices[n.vertex_name].convex_set\n",
    "con_var_indices = terminal_set.vars.last_pos_from_all(x[-1])\n",
    "con_var_indices"
   ]
  },
  {
   "cell_type": "code",
   "execution_count": 8,
   "metadata": {},
   "outputs": [],
   "source": [
    "assert np.allclose(S, T_H)"
   ]
  },
  {
   "cell_type": "code",
   "execution_count": 9,
   "metadata": {},
   "outputs": [
    {
     "data": {
      "text/plain": [
       "array([[0., 0., 0., 0., 0., 0., 0., 0., 0., 0., 0., 0., 0., 0., 0., 0.,\n",
       "        0., 0., 0., 0., 0., 0., 0., 0., 1., 0., 0., 0., 0., 0., 0., 0.,\n",
       "        0., 0., 0., 0., 0., 0., 0., 0., 0., 0., 0., 0., 0., 0., 0.],\n",
       "       [0., 0., 0., 0., 0., 0., 0., 0., 0., 0., 0., 0., 0., 0., 0., 0.,\n",
       "        0., 0., 0., 0., 0., 0., 0., 0., 0., 1., 0., 0., 0., 0., 0., 0.,\n",
       "        0., 0., 0., 0., 0., 0., 0., 0., 0., 0., 0., 0., 0., 0., 0.],\n",
       "       [0., 0., 0., 0., 0., 0., 0., 0., 0., 0., 0., 0., 0., 0., 0., 0.,\n",
       "        0., 0., 0., 0., 0., 0., 0., 0., 0., 0., 1., 0., 0., 0., 0., 0.,\n",
       "        0., 0., 0., 0., 0., 0., 0., 0., 0., 0., 0., 0., 0., 0., 0.],\n",
       "       [0., 0., 0., 0., 0., 0., 0., 0., 0., 0., 0., 0., 0., 0., 0., 0.,\n",
       "        0., 0., 0., 0., 0., 0., 0., 0., 0., 0., 0., 1., 0., 0., 0., 0.,\n",
       "        0., 0., 0., 0., 0., 0., 0., 0., 0., 0., 0., 0., 0., 0., 0.],\n",
       "       [0., 0., 0., 0., 0., 0., 0., 0., 0., 0., 0., 0., 0., 0., 0., 0.,\n",
       "        0., 0., 0., 0., 0., 0., 0., 0., 0., 0., 0., 0., 1., 0., 0., 0.,\n",
       "        0., 0., 0., 0., 0., 0., 0., 0., 0., 0., 0., 0., 0., 0., 0.],\n",
       "       [0., 0., 0., 0., 0., 0., 0., 0., 0., 0., 0., 0., 0., 0., 0., 0.,\n",
       "        0., 0., 0., 0., 0., 0., 0., 0., 0., 0., 0., 0., 0., 1., 0., 0.,\n",
       "        0., 0., 0., 0., 0., 0., 0., 0., 0., 0., 0., 0., 0., 0., 0.],\n",
       "       [0., 0., 0., 0., 0., 0., 0., 0., 0., 0., 0., 0., 0., 0., 0., 0.,\n",
       "        0., 0., 0., 0., 0., 0., 0., 0., 0., 0., 0., 0., 0., 0., 1., 0.,\n",
       "        0., 0., 0., 0., 0., 0., 0., 0., 0., 0., 0., 0., 0., 0., 0.],\n",
       "       [0., 0., 0., 0., 0., 0., 0., 0., 0., 0., 0., 0., 0., 0., 0., 0.,\n",
       "        0., 0., 0., 0., 0., 0., 0., 0., 0., 0., 0., 0., 0., 0., 0., 1.,\n",
       "        0., 0., 0., 0., 0., 0., 0., 0., 0., 0., 0., 0., 0., 0., 0.],\n",
       "       [0., 0., 0., 0., 0., 0., 0., 0., 0., 0., 0., 0., 0., 0., 0., 0.,\n",
       "        0., 0., 0., 0., 0., 0., 0., 0., 0., 0., 0., 0., 0., 0., 0., 0.,\n",
       "        1., 0., 0., 0., 0., 0., 0., 0., 0., 0., 0., 0., 0., 0., 0.],\n",
       "       [0., 0., 0., 0., 0., 0., 0., 0., 0., 0., 0., 0., 0., 0., 0., 0.,\n",
       "        0., 0., 0., 0., 0., 0., 0., 0., 0., 0., 0., 0., 0., 0., 0., 0.,\n",
       "        0., 1., 0., 0., 0., 0., 0., 0., 0., 0., 0., 0., 0., 0., 0.],\n",
       "       [0., 0., 0., 0., 0., 0., 0., 0., 0., 0., 0., 0., 0., 0., 0., 0.,\n",
       "        0., 0., 0., 0., 0., 0., 0., 0., 0., 0., 0., 0., 0., 0., 0., 0.,\n",
       "        0., 0., 0., 0., 0., 0., 0., 0., 0., 0., 0., 0., 0., 0., 1.]])"
      ]
     },
     "execution_count": 9,
     "metadata": {},
     "output_type": "execute_result"
    }
   ],
   "source": [
    "S"
   ]
  },
  {
   "cell_type": "markdown",
   "metadata": {},
   "source": [
    "## Sampling"
   ]
  },
  {
   "cell_type": "code",
   "execution_count": null,
   "metadata": {},
   "outputs": [],
   "source": [
    "\n",
    "\n",
    "\n",
    "domination_checker = ReachesCheaperLastPosSampling(cg, 1, False)\n",
    "domination_checker.set_alg_metrics(AlgMetrics())\n",
    "domination_checker.is_dominated(n, [n])"
   ]
  },
  {
   "cell_type": "markdown",
   "metadata": {},
   "source": [
    "## Constraining the last position knot point"
   ]
  },
  {
   "cell_type": "code",
   "execution_count": null,
   "metadata": {},
   "outputs": [],
   "source": [
    "# Extract last position knot point from sample\n",
    "\n",
    "contact_set: ContactSet = cg.vertices[n.vertex_name].convex_set\n",
    "contact_set.vars.pos"
   ]
  },
  {
   "cell_type": "code",
   "execution_count": null,
   "metadata": {},
   "outputs": [],
   "source": [
    "last_pos = contact_set.vars.pos[:, :, -1]\n",
    "last_pos"
   ]
  },
  {
   "cell_type": "code",
   "execution_count": null,
   "metadata": {},
   "outputs": [],
   "source": [
    "pos_sample = contact_set.vars.pos_from_all(set_samples.samples[0])\n",
    "pos_sample"
   ]
  },
  {
   "cell_type": "code",
   "execution_count": null,
   "metadata": {},
   "outputs": [],
   "source": [
    "last_pos_sample = pos_sample[:, :, -1]\n",
    "last_pos_sample"
   ]
  },
  {
   "cell_type": "code",
   "execution_count": null,
   "metadata": {},
   "outputs": [],
   "source": [
    "from pydrake.all import DecomposeAffineExpressions\n",
    "\n",
    "\n",
    "exprs = last_pos.flatten() - last_pos_sample.flatten()\n",
    "A, b = DecomposeAffineExpressions(exprs, contact_set.vars.all)"
   ]
  },
  {
   "cell_type": "code",
   "execution_count": null,
   "metadata": {},
   "outputs": [],
   "source": [
    "A"
   ]
  },
  {
   "cell_type": "code",
   "execution_count": null,
   "metadata": {},
   "outputs": [],
   "source": [
    "b"
   ]
  },
  {
   "cell_type": "code",
   "execution_count": null,
   "metadata": {},
   "outputs": [],
   "source": [
    "from large_gcs.graph.contact_cost_constraint_factory import vertex_constraint_last_pos_equality\n",
    "\n",
    "\n",
    "constraint = vertex_constraint_last_pos_equality(contact_set.vars, set_samples.samples[0])"
   ]
  },
  {
   "cell_type": "code",
   "execution_count": null,
   "metadata": {},
   "outputs": [],
   "source": [
    "from IPython.display import display, Math\n",
    "\n",
    "\n",
    "display(Math(constraint.ToLatex(contact_set.vars.all)))"
   ]
  },
  {
   "cell_type": "code",
   "execution_count": null,
   "metadata": {},
   "outputs": [],
   "source": [
    "from large_gcs.graph.contact_cost_constraint_factory import vertex_constraint_last_pos_eps_equality\n",
    "\n",
    "\n",
    "constraint = vertex_constraint_last_pos_eps_equality(contact_set.vars, set_samples.samples[0], 1e-3)\n",
    "display(Math(constraint.ToLatex(contact_set.vars.all)))"
   ]
  },
  {
   "cell_type": "code",
   "execution_count": null,
   "metadata": {},
   "outputs": [],
   "source": []
  }
 ],
 "metadata": {
  "kernelspec": {
   "display_name": ".venv",
   "language": "python",
   "name": "python3"
  },
  "language_info": {
   "codemirror_mode": {
    "name": "ipython",
    "version": 3
   },
   "file_extension": ".py",
   "mimetype": "text/x-python",
   "name": "python",
   "nbconvert_exporter": "python",
   "pygments_lexer": "ipython3",
   "version": "3.12.3"
  }
 },
 "nbformat": 4,
 "nbformat_minor": 2
}
