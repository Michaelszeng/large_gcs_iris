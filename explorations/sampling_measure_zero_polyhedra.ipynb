{
 "cells": [
  {
   "cell_type": "markdown",
   "metadata": {},
   "source": [
    "# Sampling Measure Zero Polyhedra"
   ]
  },
  {
   "cell_type": "markdown",
   "metadata": {},
   "source": [
    "We start with a HPolyhedron defined by\n",
    "$$\n",
    "    Ax \\leq b\n",
    "$$\n",
    "$$\n",
    "    Cx = d\n",
    "$$"
   ]
  },
  {
   "cell_type": "markdown",
   "metadata": {},
   "source": [
    "## Defining the original polyhedron P"
   ]
  },
  {
   "cell_type": "code",
   "execution_count": 1,
   "metadata": {},
   "outputs": [
    {
     "data": {
      "image/png": "[encoded data removed]",
      "text/plain": [
       "<Figure size 640x480 with 1 Axes>"
      ]
     },
     "metadata": {},
     "output_type": "display_data"
    }
   ],
   "source": [
    "from large_gcs.geometry.polyhedron import Polyhedron\n",
    "import numpy as np\n",
    "import matplotlib.pyplot as plt\n",
    "\n",
    "P_verts = np.array([[1,1],[3,1]])\n",
    "P = Polyhedron.from_vertices(P_verts)\n",
    "P._vertices = P_verts\n",
    "P.plot()"
   ]
  },
  {
   "cell_type": "code",
   "execution_count": 2,
   "metadata": {},
   "outputs": [
    {
     "data": {
      "text/plain": [
       "array([[ 1., -0.],\n",
       "       [-1.,  0.],\n",
       "       [ 0.,  1.],\n",
       "       [-0., -1.]])"
      ]
     },
     "execution_count": 2,
     "metadata": {},
     "output_type": "execute_result"
    }
   ],
   "source": [
    "P.set.A()"
   ]
  },
  {
   "cell_type": "code",
   "execution_count": 3,
   "metadata": {},
   "outputs": [
    {
     "data": {
      "text/plain": [
       "array([ 3., -1.,  1., -1.])"
      ]
     },
     "execution_count": 3,
     "metadata": {},
     "output_type": "execute_result"
    }
   ],
   "source": [
    "P.set.b()"
   ]
  },
  {
   "cell_type": "code",
   "execution_count": 4,
   "metadata": {},
   "outputs": [
    {
     "data": {
      "text/plain": [
       "True"
      ]
     },
     "execution_count": 4,
     "metadata": {},
     "output_type": "execute_result"
    }
   ],
   "source": [
    "P.has_equality_constraints()"
   ]
  },
  {
   "cell_type": "code",
   "execution_count": 5,
   "metadata": {},
   "outputs": [],
   "source": [
    "A,b,C,d = P.get_separated_inequality_equality_constraints()"
   ]
  },
  {
   "cell_type": "code",
   "execution_count": 6,
   "metadata": {},
   "outputs": [
    {
     "data": {
      "text/plain": [
       "array([[ 1., -0.],\n",
       "       [-1.,  0.]])"
      ]
     },
     "execution_count": 6,
     "metadata": {},
     "output_type": "execute_result"
    }
   ],
   "source": [
    "A"
   ]
  },
  {
   "cell_type": "code",
   "execution_count": 7,
   "metadata": {},
   "outputs": [
    {
     "data": {
      "text/plain": [
       "array([ 3., -1.])"
      ]
     },
     "execution_count": 7,
     "metadata": {},
     "output_type": "execute_result"
    }
   ],
   "source": [
    "b"
   ]
  },
  {
   "cell_type": "code",
   "execution_count": 8,
   "metadata": {},
   "outputs": [
    {
     "data": {
      "text/plain": [
       "array([[0., 1.]])"
      ]
     },
     "execution_count": 8,
     "metadata": {},
     "output_type": "execute_result"
    }
   ],
   "source": [
    "C"
   ]
  },
  {
   "cell_type": "code",
   "execution_count": 9,
   "metadata": {},
   "outputs": [
    {
     "data": {
      "text/plain": [
       "array([1.])"
      ]
     },
     "execution_count": 9,
     "metadata": {},
     "output_type": "execute_result"
    }
   ],
   "source": [
    "d"
   ]
  },
  {
   "cell_type": "markdown",
   "metadata": {},
   "source": [
    "## Finding the null space of a matrix"
   ]
  },
  {
   "cell_type": "code",
   "execution_count": 10,
   "metadata": {},
   "outputs": [
    {
     "name": "stdout",
     "output_type": "stream",
     "text": [
      "Basis for the kernel of X:\n",
      "[[-4.08248290e-01]\n",
      " [ 8.16496581e-01]\n",
      " [-4.08248290e-01]\n",
      " [-4.99600361e-16]]\n"
     ]
    },
    {
     "data": {
      "text/plain": [
       "array([[-8.8817842e-16],\n",
       "       [ 0.0000000e+00],\n",
       "       [-8.8817842e-16]])"
      ]
     },
     "execution_count": 10,
     "metadata": {},
     "output_type": "execute_result"
    }
   ],
   "source": [
    "import numpy as np\n",
    "from scipy.linalg import null_space\n",
    "\n",
    "# Define your matrix X\n",
    "X = np.array([\n",
    "    [1, 2, 3, 5],\n",
    "    [4, 5, 6, 2],\n",
    "    [7, 8, 9, 1]\n",
    "])\n",
    "\n",
    "# Find the basis for the kernel of X\n",
    "kernel_basis = null_space(X)\n",
    "\n",
    "print(\"Basis for the kernel of X:\")\n",
    "print(kernel_basis)\n",
    "X @ kernel_basis\n"
   ]
  },
  {
   "cell_type": "markdown",
   "metadata": {},
   "source": [
    "### Find the basis of the null space of C"
   ]
  },
  {
   "cell_type": "code",
   "execution_count": 11,
   "metadata": {},
   "outputs": [
    {
     "data": {
      "text/plain": [
       "array([[-1.],\n",
       "       [ 0.]])"
      ]
     },
     "execution_count": 11,
     "metadata": {},
     "output_type": "execute_result"
    }
   ],
   "source": [
    "V = null_space(C)\n",
    "V"
   ]
  },
  {
   "cell_type": "code",
   "execution_count": 12,
   "metadata": {},
   "outputs": [
    {
     "data": {
      "text/plain": [
       "(2, 1)"
      ]
     },
     "execution_count": 12,
     "metadata": {},
     "output_type": "execute_result"
    }
   ],
   "source": [
    "V.shape"
   ]
  },
  {
   "cell_type": "markdown",
   "metadata": {},
   "source": [
    "## Find $x_0$ such that $Cx_0 = d$"
   ]
  },
  {
   "cell_type": "code",
   "execution_count": 13,
   "metadata": {},
   "outputs": [
    {
     "data": {
      "text/plain": [
       "array([0., 1.])"
      ]
     },
     "execution_count": 13,
     "metadata": {},
     "output_type": "execute_result"
    }
   ],
   "source": [
    "# Compute the pseudo-inverse of C\n",
    "C_pinv = np.linalg.pinv(C)\n",
    "\n",
    "# Use the pseudo-inverse to find x_0\n",
    "x_0 = np.dot(C_pinv, d)\n",
    "x_0"
   ]
  },
  {
   "cell_type": "code",
   "execution_count": 14,
   "metadata": {},
   "outputs": [],
   "source": [
    "Q = Polyhedron(A = A@V, b = b - A @ x_0)"
   ]
  },
  {
   "cell_type": "code",
   "execution_count": 15,
   "metadata": {},
   "outputs": [
    {
     "data": {
      "text/plain": [
       "(20, 1)"
      ]
     },
     "execution_count": 15,
     "metadata": {},
     "output_type": "execute_result"
    }
   ],
   "source": [
    "q_samples = Q.get_samples(20)\n",
    "q_samples.shape"
   ]
  },
  {
   "cell_type": "code",
   "execution_count": 16,
   "metadata": {},
   "outputs": [
    {
     "data": {
      "text/plain": [
       "(2, 1)"
      ]
     },
     "execution_count": 16,
     "metadata": {},
     "output_type": "execute_result"
    }
   ],
   "source": [
    "V.shape"
   ]
  },
  {
   "cell_type": "code",
   "execution_count": 17,
   "metadata": {},
   "outputs": [
    {
     "data": {
      "text/plain": [
       "array([[1.06226446, 1.        ],\n",
       "       [2.09444119, 1.        ],\n",
       "       [2.4059411 , 1.        ],\n",
       "       [1.99267464, 1.        ],\n",
       "       [1.42384866, 1.        ],\n",
       "       [2.48129449, 1.        ],\n",
       "       [1.34773034, 1.        ],\n",
       "       [2.36689911, 1.        ],\n",
       "       [2.01882192, 1.        ],\n",
       "       [1.42041815, 1.        ],\n",
       "       [1.97513785, 1.        ],\n",
       "       [2.99436313, 1.        ],\n",
       "       [2.08793435, 1.        ],\n",
       "       [1.24648517, 1.        ],\n",
       "       [1.11985194, 1.        ],\n",
       "       [2.16191336, 1.        ],\n",
       "       [2.53968787, 1.        ],\n",
       "       [1.02707825, 1.        ],\n",
       "       [1.30306442, 1.        ],\n",
       "       [1.53440255, 1.        ]])"
      ]
     },
     "execution_count": 17,
     "metadata": {},
     "output_type": "execute_result"
    }
   ],
   "source": [
    "p_samples = q_samples @ V.T + x_0\n",
    "p_samples"
   ]
  },
  {
   "cell_type": "code",
   "execution_count": 18,
   "metadata": {},
   "outputs": [
    {
     "data": {
      "text/plain": [
       "<matplotlib.collections.PathCollection at 0x7feb745fc9d0>"
      ]
     },
     "execution_count": 18,
     "metadata": {},
     "output_type": "execute_result"
    },
    {
     "data": {
      "image/png": "[encoded data removed]",
      "text/plain": [
       "<Figure size 640x480 with 1 Axes>"
      ]
     },
     "metadata": {},
     "output_type": "display_data"
    }
   ],
   "source": [
    "P.plot()\n",
    "plt.scatter(p_samples[:,0], p_samples[:,1], c = 'r', marker='x')"
   ]
  },
  {
   "cell_type": "markdown",
   "metadata": {},
   "source": [
    "Now that we've built in this functionality into the `Polyhedron` class, can simply call `get_samples`"
   ]
  },
  {
   "cell_type": "code",
   "execution_count": 19,
   "metadata": {},
   "outputs": [
    {
     "data": {
      "text/plain": [
       "array([[1.06226446, 1.        ],\n",
       "       [2.09444119, 1.        ],\n",
       "       [2.4059411 , 1.        ],\n",
       "       [1.99267464, 1.        ],\n",
       "       [1.42384866, 1.        ],\n",
       "       [2.48129449, 1.        ],\n",
       "       [1.34773034, 1.        ],\n",
       "       [2.36689911, 1.        ],\n",
       "       [2.01882192, 1.        ],\n",
       "       [1.42041815, 1.        ],\n",
       "       [1.97513785, 1.        ],\n",
       "       [2.99436313, 1.        ],\n",
       "       [2.08793435, 1.        ],\n",
       "       [1.24648517, 1.        ],\n",
       "       [1.11985194, 1.        ],\n",
       "       [2.16191336, 1.        ],\n",
       "       [2.53968787, 1.        ],\n",
       "       [1.02707825, 1.        ],\n",
       "       [1.30306442, 1.        ],\n",
       "       [1.53440255, 1.        ]])"
      ]
     },
     "execution_count": 19,
     "metadata": {},
     "output_type": "execute_result"
    }
   ],
   "source": [
    "samples = P.get_samples(20)\n",
    "len(samples)\n",
    "samples"
   ]
  },
  {
   "cell_type": "markdown",
   "metadata": {},
   "source": [
    "# Check that it works for contact sets with equality constraints"
   ]
  },
  {
   "cell_type": "code",
   "execution_count": 20,
   "metadata": {},
   "outputs": [
    {
     "name": "stderr",
     "output_type": "stream",
     "text": [
      "100%|██████████| 1/1 [00:00<00:00, 28.52it/s]\n",
      "100%|██████████| 11/11 [00:00<00:00, 296.40it/s]\n",
      "100%|██████████| 13/13 [00:00<00:00, 7036.51it/s]\n",
      "100%|██████████| 13/13 [00:00<00:00, 8903.65it/s]\n",
      "100%|██████████| 52/52 [00:00<00:00, 4485.89it/s]\n",
      "100%|██████████| 52/52 [00:00<00:00, 3930.44it/s]\n",
      "100%|██████████| 52/52 [00:00<00:00, 5032.74it/s]\n"
     ]
    },
    {
     "name": "stdout",
     "output_type": "stream",
     "text": [
      "[array([   2.        ,    2.        ,   -1.5       ,   -1.5       ,\n",
      "          2.76666955,    2.76666955,   -2.49998453,   -2.49998453,\n",
      "          0.        ,    0.        ,    0.        ,    0.        ,\n",
      "          0.        , 1000.        , 1000.        ,    0.        ]), array([   2.        ,    2.        ,   -1.5       ,   -1.5       ,\n",
      "          2.76666955,    2.76666955,   -2.49998453,   -2.49998453,\n",
      "          0.        ,    0.        ,    0.        ,    0.        ,\n",
      "          0.        , 1000.        , 1000.        ,    0.        ]), array([   2.        ,    2.        ,   -1.5       ,   -1.5       ,\n",
      "          2.76666955,    2.76666955,   -2.49998453,   -2.49998453,\n",
      "          0.        ,    0.        ,    0.        ,    0.        ,\n",
      "          0.        , 1000.        , 1000.        ,    0.        ]), array([   2.        ,    2.        ,   -1.5       ,   -1.5       ,\n",
      "          2.76666955,    2.76666955,   -2.49998453,   -2.49998453,\n",
      "          0.        ,    0.        ,    0.        ,    0.        ,\n",
      "          0.        , 1000.        , 1000.        ,    0.        ]), array([   2.        ,    2.        ,   -1.5       ,   -1.5       ,\n",
      "          2.76666955,    2.76666955,   -2.49998453,   -2.49998453,\n",
      "          0.        ,    0.        ,    0.        ,    0.        ,\n",
      "          0.        , 1000.        , 1000.        ,    0.        ])]\n"
     ]
    },
    {
     "ename": "IndexError",
     "evalue": "list index out of range",
     "output_type": "error",
     "traceback": [
      "\u001b[0;31m---------------------------------------------------------------------------\u001b[0m",
      "\u001b[0;31mIndexError\u001b[0m                                Traceback (most recent call last)",
      "Cell \u001b[0;32mIn[20], line 10\u001b[0m\n\u001b[1;32m      8\u001b[0m v \u001b[38;5;241m=\u001b[39m cg\u001b[38;5;241m.\u001b[39mvertex_names[\u001b[38;5;241m0\u001b[39m]\n\u001b[1;32m      9\u001b[0m \u001b[38;5;66;03m# samples = cg.vertices[v].convex_set.get_samples(20)\u001b[39;00m\n\u001b[0;32m---> 10\u001b[0m \u001b[43mcg\u001b[49m\u001b[38;5;241;43m.\u001b[39;49m\u001b[43mplot_samples_in_set\u001b[49m\u001b[43m(\u001b[49m\u001b[43mv\u001b[49m\u001b[43m,\u001b[49m\u001b[43m \u001b[49m\u001b[38;5;241;43m5\u001b[39;49m\u001b[43m)\u001b[49m\n",
      "File \u001b[0;32m~/Documents/Software/large_gcs/large_gcs/graph/contact_graph.py:492\u001b[0m, in \u001b[0;36mContactGraph.plot_samples_in_set\u001b[0;34m(self, set_name, n_samples, **kwargs)\u001b[0m\n\u001b[1;32m    490\u001b[0m samples \u001b[38;5;241m=\u001b[39m \u001b[38;5;28mlist\u001b[39m(vertex\u001b[38;5;241m.\u001b[39mconvex_set\u001b[38;5;241m.\u001b[39mget_samples(n_samples))\n\u001b[1;32m    491\u001b[0m \u001b[38;5;28mprint\u001b[39m(samples)\n\u001b[0;32m--> 492\u001b[0m contact_sol \u001b[38;5;241m=\u001b[39m \u001b[38;5;28;43mself\u001b[39;49m\u001b[38;5;241;43m.\u001b[39;49m\u001b[43mcreate_contact_spp_sol\u001b[49m\u001b[43m(\u001b[49m\u001b[43m[\u001b[49m\u001b[43mset_name\u001b[49m\u001b[43m]\u001b[49m\u001b[43m,\u001b[49m\u001b[43m \u001b[49m\u001b[43msamples\u001b[49m\u001b[43m)\u001b[49m\n\u001b[1;32m    493\u001b[0m \u001b[38;5;28mself\u001b[39m\u001b[38;5;241m.\u001b[39m_plot_path(contact_sol)\n\u001b[1;32m    495\u001b[0m \u001b[38;5;28;01mraise\u001b[39;00m \u001b[38;5;167;01mNotImplementedError\u001b[39;00m\n",
      "File \u001b[0;32m~/Documents/Software/large_gcs/large_gcs/graph/contact_graph.py:418\u001b[0m, in \u001b[0;36mContactGraph.create_contact_spp_sol\u001b[0;34m(self, vertex_path, ambient_path, ref_graph)\u001b[0m\n\u001b[1;32m    416\u001b[0m \u001b[38;5;28;01mfor\u001b[39;00m i, x \u001b[38;5;129;01min\u001b[39;00m \u001b[38;5;28menumerate\u001b[39m(ambient_path):\n\u001b[1;32m    417\u001b[0m     pos_transition_map[\u001b[38;5;28mlen\u001b[39m(pos_list)] \u001b[38;5;241m=\u001b[39m i\n\u001b[0;32m--> 418\u001b[0m     \u001b[38;5;28;01mif\u001b[39;00m \u001b[38;5;124m\"\u001b[39m\u001b[38;5;124m+\u001b[39m\u001b[38;5;124m\"\u001b[39m \u001b[38;5;129;01min\u001b[39;00m \u001b[43mvertex_path\u001b[49m\u001b[43m[\u001b[49m\u001b[43mi\u001b[49m\u001b[43m]\u001b[49m:\n\u001b[1;32m    419\u001b[0m         \u001b[38;5;66;03m# This is a factored vertex\u001b[39;00m\n\u001b[1;32m    420\u001b[0m         factored_vertices \u001b[38;5;241m=\u001b[39m vertex_path[i]\u001b[38;5;241m.\u001b[39msplit(\u001b[38;5;124m\"\u001b[39m\u001b[38;5;124m+\u001b[39m\u001b[38;5;124m\"\u001b[39m)\n\u001b[1;32m    421\u001b[0m         x_positions \u001b[38;5;241m=\u001b[39m []\n",
      "\u001b[0;31mIndexError\u001b[0m: list index out of range"
     ]
    },
    {
     "data": {
      "image/png": "[encoded data removed]",
      "text/plain": [
       "<Figure size 640x480 with 1 Axes>"
      ]
     },
     "metadata": {},
     "output_type": "display_data"
    }
   ],
   "source": [
    "from large_gcs.graph.contact_graph import ContactGraph\n",
    "from large_gcs.graph_generators.contact_graph_generator import ContactGraphGeneratorParams\n",
    "\n",
    "\n",
    "graph_file = ContactGraphGeneratorParams.graph_file_path_from_name(\"cg_simple_2\")\n",
    "cg = ContactGraph.load_from_file(graph_file)\n",
    "cg.plot()\n",
    "v = cg.vertex_names[0]\n",
    "# samples = cg.vertices[v].convex_set.get_samples(20)\n",
    "cg.plot_samples_in_set(v, 5)"
   ]
  },
  {
   "cell_type": "code",
   "execution_count": null,
   "metadata": {},
   "outputs": [],
   "source": []
  }
 ],
 "metadata": {
  "kernelspec": {
   "display_name": ".venv",
   "language": "python",
   "name": "python3"
  },
  "language_info": {
   "codemirror_mode": {
    "name": "ipython",
    "version": 3
   },
   "file_extension": ".py",
   "mimetype": "text/x-python",
   "name": "python",
   "nbconvert_exporter": "python",
   "pygments_lexer": "ipython3",
   "version": "3.8.10"
  }
 },
 "nbformat": 4,
 "nbformat_minor": 2
}
