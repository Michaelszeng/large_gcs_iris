{
 "cells": [
  {
   "cell_type": "markdown",
   "metadata": {},
   "source": [
    "# Sampling Measure Zero Polyhedra"
   ]
  },
  {
   "cell_type": "markdown",
   "metadata": {},
   "source": [
    "We start with a HPolyhedron defined by\n",
    "$$\n",
    "    Ax \\leq b\n",
    "$$\n",
    "$$\n",
    "    Cx = d\n",
    "$$"
   ]
  },
  {
   "cell_type": "markdown",
   "metadata": {},
   "source": [
    "## Defining the original polyhedron P"
   ]
  },
  {
   "cell_type": "code",
   "execution_count": null,
   "metadata": {},
   "outputs": [],
   "source": [
    "from large_gcs.geometry.polyhedron import Polyhedron\n",
    "import numpy as np\n",
    "import matplotlib.pyplot as plt\n",
    "\n",
    "P_verts = np.array([[1,1],[3,1]])\n",
    "P = Polyhedron.from_vertices(P_verts)\n",
    "P._vertices = P_verts\n",
    "P.plot()"
   ]
  },
  {
   "cell_type": "code",
   "execution_count": null,
   "metadata": {},
   "outputs": [],
   "source": [
    "P.set.A()"
   ]
  },
  {
   "cell_type": "code",
   "execution_count": null,
   "metadata": {},
   "outputs": [],
   "source": [
    "P.set.b()"
   ]
  },
  {
   "cell_type": "code",
   "execution_count": null,
   "metadata": {},
   "outputs": [],
   "source": [
    "P.has_equality_constraints()"
   ]
  },
  {
   "cell_type": "code",
   "execution_count": null,
   "metadata": {},
   "outputs": [],
   "source": [
    "A,b,C,d = P.get_separated_inequality_equality_constraints()"
   ]
  },
  {
   "cell_type": "code",
   "execution_count": null,
   "metadata": {},
   "outputs": [],
   "source": [
    "A"
   ]
  },
  {
   "cell_type": "code",
   "execution_count": null,
   "metadata": {},
   "outputs": [],
   "source": [
    "b"
   ]
  },
  {
   "cell_type": "code",
   "execution_count": null,
   "metadata": {},
   "outputs": [],
   "source": [
    "C"
   ]
  },
  {
   "cell_type": "code",
   "execution_count": null,
   "metadata": {},
   "outputs": [],
   "source": [
    "d"
   ]
  },
  {
   "cell_type": "markdown",
   "metadata": {},
   "source": [
    "## Finding the null space of a matrix"
   ]
  },
  {
   "cell_type": "code",
   "execution_count": null,
   "metadata": {},
   "outputs": [],
   "source": [
    "import numpy as np\n",
    "from scipy.linalg import null_space\n",
    "\n",
    "# Define your matrix X\n",
    "X = np.array([\n",
    "    [1, 2, 3, 5],\n",
    "    [4, 5, 6, 2],\n",
    "    [7, 8, 9, 1]\n",
    "])\n",
    "\n",
    "# Find the basis for the kernel of X\n",
    "kernel_basis = null_space(X)\n",
    "\n",
    "print(\"Basis for the kernel of X:\")\n",
    "print(kernel_basis)\n",
    "X @ kernel_basis\n"
   ]
  },
  {
   "cell_type": "markdown",
   "metadata": {},
   "source": [
    "### Find the basis of the null space of C"
   ]
  },
  {
   "cell_type": "code",
   "execution_count": null,
   "metadata": {},
   "outputs": [],
   "source": [
    "V = null_space(C)\n",
    "V"
   ]
  },
  {
   "cell_type": "code",
   "execution_count": null,
   "metadata": {},
   "outputs": [],
   "source": [
    "V.shape"
   ]
  },
  {
   "cell_type": "markdown",
   "metadata": {},
   "source": [
    "## Find $x_0$ such that $Cx_0 = d$"
   ]
  },
  {
   "cell_type": "code",
   "execution_count": null,
   "metadata": {},
   "outputs": [],
   "source": [
    "# Compute the pseudo-inverse of C\n",
    "C_pinv = np.linalg.pinv(C)\n",
    "\n",
    "# Use the pseudo-inverse to find x_0\n",
    "x_0 = np.dot(C_pinv, d)\n",
    "x_0"
   ]
  },
  {
   "cell_type": "code",
   "execution_count": null,
   "metadata": {},
   "outputs": [],
   "source": [
    "# Alternatively, solve the system Cx = d in a least squares sense\n",
    "x_0 = np.linalg.lstsq(C, d, rcond=None)[0]\n",
    "x_0"
   ]
  },
  {
   "cell_type": "code",
   "execution_count": null,
   "metadata": {},
   "outputs": [],
   "source": [
    "Q = Polyhedron(A = A@V, b = b - A @ x_0)"
   ]
  },
  {
   "cell_type": "code",
   "execution_count": null,
   "metadata": {},
   "outputs": [],
   "source": [
    "q_samples = Q.get_samples(20)\n",
    "q_samples.shape"
   ]
  },
  {
   "cell_type": "code",
   "execution_count": null,
   "metadata": {},
   "outputs": [],
   "source": [
    "V.shape"
   ]
  },
  {
   "cell_type": "code",
   "execution_count": null,
   "metadata": {},
   "outputs": [],
   "source": [
    "p_samples = q_samples @ V.T + x_0\n",
    "p_samples"
   ]
  },
  {
   "cell_type": "code",
   "execution_count": null,
   "metadata": {},
   "outputs": [],
   "source": [
    "P.plot()\n",
    "plt.scatter(p_samples[:,0], p_samples[:,1], c = 'r', marker='x')"
   ]
  },
  {
   "cell_type": "markdown",
   "metadata": {},
   "source": [
    "Now that we've built in this functionality into the `Polyhedron` class, can simply call `get_samples`"
   ]
  },
  {
   "cell_type": "code",
   "execution_count": null,
   "metadata": {},
   "outputs": [],
   "source": [
    "samples = P.get_samples(20)\n",
    "len(samples)\n",
    "samples"
   ]
  },
  {
   "cell_type": "markdown",
   "metadata": {},
   "source": [
    "# Check that it works for contact sets with equality constraints"
   ]
  },
  {
   "cell_type": "code",
   "execution_count": null,
   "metadata": {},
   "outputs": [],
   "source": [
    "from large_gcs.graph.contact_graph import ContactGraph\n",
    "from large_gcs.graph_generators.contact_graph_generator import ContactGraphGeneratorParams\n",
    "\n",
    "\n",
    "graph_file = ContactGraphGeneratorParams.graph_file_path_from_name(\"cg_simple_2\")\n",
    "cg = ContactGraph.load_from_file(graph_file)\n",
    "cg.plot()\n"
   ]
  },
  {
   "cell_type": "code",
   "execution_count": null,
   "metadata": {},
   "outputs": [],
   "source": [
    "for v in cg.vertex_names:\n",
    "    cg.plot_samples_in_set(v, 20)"
   ]
  },
  {
   "cell_type": "markdown",
   "metadata": {},
   "source": [
    "# Edge Case\n",
    "Sets that collapse to a single point because of a bunch of inequalities resulting in an equality constraint that is not of the form $$ax \\leq b, ax \\geq b$$ and so cannot be easily detected."
   ]
  },
  {
   "cell_type": "code",
   "execution_count": 1,
   "metadata": {},
   "outputs": [],
   "source": [
    "import numpy as np\n",
    "import logging\n",
    "from large_gcs.geometry.polyhedron import Polyhedron\n",
    "from large_gcs.graph.incremental_contact_graph import IncrementalContactGraph\n",
    "from large_gcs.graph_generators.contact_graph_generator import ContactGraphGeneratorParams\n",
    "from large_gcs.graph.graph import Vertex\n",
    "\n",
    "\n",
    "logging.basicConfig(level=logging.WARN)\n",
    "logging.getLogger(\"large_gcs\").setLevel(logging.DEBUG)\n"
   ]
  },
  {
   "cell_type": "code",
   "execution_count": 2,
   "metadata": {},
   "outputs": [
    {
     "name": "stderr",
     "output_type": "stream",
     "text": [
      "INFO:large_gcs.graph.contact_graph:Creating vertex costs...\n",
      "100%|██████████| 2/2 [00:00<00:00, 4990.25it/s]\n",
      "INFO:large_gcs.graph.graph:Adding 2 vertices to graph...\n",
      "100%|██████████| 2/2 [00:00<00:00, 6553.60it/s]\n",
      "INFO:large_gcs.graph.contact_graph:Generating contact pair modes for 3 body pairs...\n",
      "100%|██████████| 3/3 [00:00<00:00, 45.79it/s]\n",
      "INFO:large_gcs.graph.incremental_contact_graph:Calculating adjacent contact pair modes (151)\n",
      "100%|██████████| 151/151 [00:02<00:00, 64.89it/s]\n",
      "DEBUG:large_gcs.geometry.polyhedron:\n",
      " A.shape: (50, 14), b.shape: (50,), C.shape: (8, 14), d.shape: (8,)\n",
      "DEBUG:large_gcs.geometry.polyhedron:ranks: A: 14, C: 8\n",
      "DEBUG:large_gcs.geometry.polyhedron:\n",
      " A.shape: (60, 16), b.shape: (60,), C.shape: (12, 16), d.shape: (12,)\n",
      "DEBUG:large_gcs.geometry.polyhedron:ranks: A: 16, C: 12\n"
     ]
    },
    {
     "data": {
      "image/png": "[encoded data removed]",
      "text/plain": [
       "<Figure size 640x480 with 2 Axes>"
      ]
     },
     "metadata": {},
     "output_type": "display_data"
    }
   ],
   "source": [
    "\n",
    "\n",
    "graph_file = ContactGraphGeneratorParams.inc_graph_file_path_from_name(\"cg_maze_b1\")\n",
    "cg = IncrementalContactGraph.load_from_file(\n",
    "    graph_file,\n",
    "    should_incl_simul_mode_switches=False,\n",
    "    should_add_const_edge_cost=True,\n",
    "    should_add_gcs=True,\n",
    ")\n",
    "contact_pair_mode_ids = (\n",
    "        \"IC|obs0_f2-obj0_v1\",\n",
    "        \"NC|obs0_v0-rob0_f0\",\n",
    "        \"IC|obj0_f1-rob0_f1\",\n",
    "    )\n",
    "v_name = str(contact_pair_mode_ids)\n",
    "contact_set = cg._create_contact_set_from_contact_pair_mode_ids(\n",
    "    contact_pair_mode_ids\n",
    ")\n",
    "vertex = Vertex(\n",
    "    contact_set,\n",
    "    cg._create_single_vertex_costs(contact_set),\n",
    "    constraints=cg._create_single_vertex_constraints(contact_set)\n",
    ")\n",
    "cg.add_vertex(vertex, v_name)\n",
    "chebyshev_center = contact_set.set.ChebyshevCenter()\n",
    "cg.plot_samples_in_set(v_name, np.array([chebyshev_center]))\n"
   ]
  },
  {
   "cell_type": "markdown",
   "metadata": {},
   "source": [
    "There is only one point that satisfies these constraints, and when the tolerance is set to 0, even the Chebyshev Center is not considered to be in the set due to small numerical errors."
   ]
  },
  {
   "cell_type": "code",
   "execution_count": 8,
   "metadata": {},
   "outputs": [
    {
     "data": {
      "text/plain": [
       "False"
      ]
     },
     "execution_count": 8,
     "metadata": {},
     "output_type": "execute_result"
    }
   ],
   "source": [
    "contact_set.set.PointInSet(chebyshev_center, tol=0)"
   ]
  },
  {
   "cell_type": "markdown",
   "metadata": {},
   "source": [
    "The behavior I chose to implement in this situation is to just return the chebyshev center as the only sample in the event that the sampling fails due to the chebyshev center not being in the set. This seems fine to me since there will only be one feasible point anyways so it does not make sense to return multiple samples."
   ]
  },
  {
   "cell_type": "code",
   "execution_count": 6,
   "metadata": {},
   "outputs": [
    {
     "name": "stderr",
     "output_type": "stream",
     "text": [
      "WARNING:large_gcs.geometry.convex_set:Set has no interior, returning chebyshev center as sample\n"
     ]
    },
    {
     "data": {
      "text/plain": [
       "1"
      ]
     },
     "execution_count": 6,
     "metadata": {},
     "output_type": "execute_result"
    }
   ],
   "source": [
    "len(contact_set.get_samples(10))"
   ]
  },
  {
   "cell_type": "code",
   "execution_count": 7,
   "metadata": {},
   "outputs": [
    {
     "ename": "RuntimeError",
     "evalue": "Solver Mosek failed to solve the maximum inscribed ellipse problem; it terminated with SolutionResult SolverSpecificError). Make sure that your polyhedron is bounded and has an interior.",
     "output_type": "error",
     "traceback": [
      "\u001b[0;31m---------------------------------------------------------------------------\u001b[0m",
      "\u001b[0;31mRuntimeError\u001b[0m                              Traceback (most recent call last)",
      "Cell \u001b[0;32mIn[7], line 2\u001b[0m\n\u001b[1;32m      1\u001b[0m P \u001b[38;5;241m=\u001b[39m contact_set\u001b[38;5;241m.\u001b[39m_polyhedron\n\u001b[0;32m----> 2\u001b[0m E \u001b[38;5;241m=\u001b[39m \u001b[43mP\u001b[49m\u001b[38;5;241;43m.\u001b[39;49m\u001b[43m_null_space_polyhedron\u001b[49m\u001b[38;5;241;43m.\u001b[39;49m\u001b[43mset\u001b[49m\u001b[38;5;241;43m.\u001b[39;49m\u001b[43mMaximumVolumeInscribedEllipsoid\u001b[49m\u001b[43m(\u001b[49m\u001b[43m)\u001b[49m\n",
      "\u001b[0;31mRuntimeError\u001b[0m: Solver Mosek failed to solve the maximum inscribed ellipse problem; it terminated with SolutionResult SolverSpecificError). Make sure that your polyhedron is bounded and has an interior."
     ]
    }
   ],
   "source": [
    "P = contact_set._polyhedron\n",
    "E = P._null_space_polyhedron.set.MaximumVolumeInscribedEllipsoid()"
   ]
  },
  {
   "cell_type": "code",
   "execution_count": null,
   "metadata": {},
   "outputs": [],
   "source": []
  }
 ],
 "metadata": {
  "kernelspec": {
   "display_name": ".venv",
   "language": "python",
   "name": "python3"
  },
  "language_info": {
   "codemirror_mode": {
    "name": "ipython",
    "version": 3
   },
   "file_extension": ".py",
   "mimetype": "text/x-python",
   "name": "python",
   "nbconvert_exporter": "python",
   "pygments_lexer": "ipython3",
   "version": "3.11.6"
  }
 },
 "nbformat": 4,
 "nbformat_minor": 2
}
