{
 "cells": [
  {
   "cell_type": "code",
   "execution_count": 7,
   "metadata": {},
   "outputs": [
    {
     "name": "stdout",
     "output_type": "stream",
     "text": [
      "base class\n",
      "derived class is doing something else 2\n",
      "derived class is doing something else 20\n"
     ]
    }
   ],
   "source": [
    "class BaseClass:\n",
    "    def __init__(self):\n",
    "        self.x = 1\n",
    "\n",
    "    def do_something(self):\n",
    "        print(\"base class\")\n",
    "\n",
    "\n",
    "class DerivedClass(BaseClass):\n",
    "    def __init__(self, should_do_something_else=False):\n",
    "        self.x = 2\n",
    "\n",
    "        def new_do_something():\n",
    "            print(f\"derived class is doing something else {self.x}\")\n",
    "\n",
    "        if should_do_something_else:\n",
    "            self.do_something = new_do_something\n",
    "\n",
    "    def change_x(self, x):\n",
    "        self.x = x\n",
    "\n",
    "\n",
    "a = DerivedClass()\n",
    "a.do_something()\n",
    "\n",
    "b = DerivedClass(should_do_something_else=True)\n",
    "b.do_something()\n",
    "b.change_x(20)\n",
    "b.do_something()"
   ]
  },
  {
   "cell_type": "code",
   "execution_count": null,
   "metadata": {},
   "outputs": [],
   "source": []
  }
 ],
 "metadata": {
  "kernelspec": {
   "display_name": ".venv",
   "language": "python",
   "name": "python3"
  },
  "language_info": {
   "codemirror_mode": {
    "name": "ipython",
    "version": 3
   },
   "file_extension": ".py",
   "mimetype": "text/x-python",
   "name": "python",
   "nbconvert_exporter": "python",
   "pygments_lexer": "ipython3",
   "version": "3.11.4"
  },
  "orig_nbformat": 4
 },
 "nbformat": 4,
 "nbformat_minor": 2
}
