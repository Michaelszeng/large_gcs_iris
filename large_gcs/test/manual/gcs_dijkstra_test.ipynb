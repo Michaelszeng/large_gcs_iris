{
 "cells": [
  {
   "cell_type": "code",
   "execution_count": 1,
   "metadata": {},
   "outputs": [],
   "source": [
    "from IPython.display import HTML\n",
    "from large_gcs.example_graphs.spp_gcs import create_spp_2d_graph\n",
    "from large_gcs.graph.cost_factory import create_l2norm_edge_cost, create_l2norm_squared_edge_cost\n",
    "from large_gcs.algorithms.gcs_dijkstra import GcsDijkstra\n",
    "from large_gcs.algorithms.search_algorithm import AlgVisParams\n",
    "import matplotlib.pyplot as plt\n",
    "import numpy as np\n",
    "import os\n",
    "from IPython.display import Video\n"
   ]
  },
  {
   "cell_type": "code",
   "execution_count": 2,
   "metadata": {},
   "outputs": [
    {
     "name": "stdout",
     "output_type": "stream",
     "text": [
      "Cost: 13.2500000232728\n"
     ]
    },
    {
     "data": {
      "text/plain": [
       "ShortestPathSolution(cost=13.2500000232728, time=0.03241705894470215, path=[('s', array([0., 0.])), ('p2', array([ 1.99999999, -1.99999998])), ('e0', array([ 3.99999922, -1.99999997])), ('p3', array([ 5.99999994, -2.99999996])), ('p4', array([ 7.49999912, -1.99999998])), ('t', array([9., 0.]))], flows=[0.0, 1.0, -0.0, -0.0, 0.0, 0.0, 1.0, 0.0, 0.0, 0.0, 0.0, 0.0, 0.0, 0.0, 1.0, 1.0, 0.0, 0.0, 0.0, 0.0, 1.0, 0.0], result=<pydrake.solvers.MathematicalProgramResult object at 0x1867965f0>)"
      ]
     },
     "execution_count": 2,
     "metadata": {},
     "output_type": "execute_result"
    }
   ],
   "source": [
    "G = create_spp_2d_graph(create_l2norm_squared_edge_cost)\n",
    "file = os.path.join(os.environ['PROJECT_ROOT'], \"output\", \"gcs_dijkstra\", \"gcs_dijkstra_spp_2d.mp4\")\n",
    "GcsDijkstra(G, AlgVisParams(output_path=file)).run(animate=True)"
   ]
  },
  {
   "cell_type": "code",
   "execution_count": 4,
   "metadata": {},
   "outputs": [
    {
     "data": {
      "text/html": [
       "<video src=\"/Users/chewchiashaoyuan/Documents/Software/large_gcs/output/gcs_dijkstra/gcs_dijkstra_spp_2d.mp4\" controls  >\n",
       "      Your browser does not support the <code>video</code> element.\n",
       "    </video>"
      ],
      "text/plain": [
       "<IPython.core.display.Video object>"
      ]
     },
     "execution_count": 4,
     "metadata": {},
     "output_type": "execute_result"
    }
   ],
   "source": [
    "Video(file)"
   ]
  },
  {
   "cell_type": "code",
   "execution_count": null,
   "metadata": {},
   "outputs": [],
   "source": []
  }
 ],
 "metadata": {
  "kernelspec": {
   "display_name": ".venv",
   "language": "python",
   "name": "python3"
  },
  "language_info": {
   "codemirror_mode": {
    "name": "ipython",
    "version": 3
   },
   "file_extension": ".py",
   "mimetype": "text/x-python",
   "name": "python",
   "nbconvert_exporter": "python",
   "pygments_lexer": "ipython3",
   "version": "3.11.3"
  },
  "orig_nbformat": 4
 },
 "nbformat": 4,
 "nbformat_minor": 2
}
