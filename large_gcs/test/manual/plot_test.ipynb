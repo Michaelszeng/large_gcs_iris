{
 "cells": [
  {
   "cell_type": "code",
   "execution_count": 1,
   "metadata": {},
   "outputs": [],
   "source": [
    "from large_gcs.geometry.polyhedron import Polyhedron\n",
    "from large_gcs.geometry.ellipsoid import Ellipsoid\n",
    "from large_gcs.geometry.point import Point\n",
    "from large_gcs.graph.graph import Graph, DefaultGraphCostsConstraints, Edge\n",
    "import matplotlib.pyplot as plt\n",
    "import numpy as np\n",
    "from pydrake.all import (L2NormCost)"
   ]
  },
  {
   "cell_type": "code",
   "execution_count": 2,
   "metadata": {},
   "outputs": [
    {
     "name": "stdout",
     "output_type": "stream",
     "text": [
      "Adding cost <pydrake.solvers.L2NormCost object at 0x7f2245b1f9f0> to edge s -> p0\n"
     ]
    },
    {
     "ename": "TypeError",
     "evalue": "AddCost(): incompatible function arguments. The following argument types are supported:\n    1. (self: pydrake.geometry.optimization.GraphOfConvexSets.Edge, e: pydrake.symbolic.Expression) -> Tuple[pydrake.symbolic.Variable, pydrake.solvers.Binding𝓣Cost𝓤]\n    2. (self: pydrake.geometry.optimization.GraphOfConvexSets.Edge, binding: pydrake.solvers.Binding𝓣Cost𝓤) -> Tuple[pydrake.symbolic.Variable, pydrake.solvers.Binding𝓣Cost𝓤]\n\nInvoked with: <pydrake.geometry.optimization.GraphOfConvexSets.Edge object at 0x7f2243e427b0>, <pydrake.solvers.L2NormCost object at 0x7f2245b1f9f0>, array([Variable('s(0)', Continuous), Variable('s(1)', Continuous),\n       Variable('p0(0)', Continuous), Variable('p0(1)', Continuous)],\n      dtype=object)",
     "output_type": "error",
     "traceback": [
      "\u001b[0;31m---------------------------------------------------------------------------\u001b[0m",
      "\u001b[0;31mTypeError\u001b[0m                                 Traceback (most recent call last)",
      "Cell \u001b[0;32mIn[2], line 49\u001b[0m\n\u001b[1;32m     47\u001b[0m \u001b[39mfor\u001b[39;00m u, vs \u001b[39min\u001b[39;00m edges\u001b[39m.\u001b[39mitems():\n\u001b[1;32m     48\u001b[0m     \u001b[39mfor\u001b[39;00m v \u001b[39min\u001b[39;00m vs:\n\u001b[0;32m---> 49\u001b[0m         G\u001b[39m.\u001b[39;49madd_edge(Edge(u, v))\n\u001b[1;32m     51\u001b[0m \u001b[39m# draw convex sets and edges\u001b[39;00m\n\u001b[1;32m     52\u001b[0m plt\u001b[39m.\u001b[39mfigure()\n",
      "File \u001b[0;32m~/Documents/Software/large_gcs/large_gcs/graph/graph.py:105\u001b[0m, in \u001b[0;36mGraph.add_edge\u001b[0;34m(self, edge)\u001b[0m\n\u001b[1;32m    103\u001b[0m         \u001b[39mprint\u001b[39m(\u001b[39mf\u001b[39m\u001b[39m\"\u001b[39m\u001b[39mAdding cost \u001b[39m\u001b[39m{\u001b[39;00mcost\u001b[39m}\u001b[39;00m\u001b[39m to edge \u001b[39m\u001b[39m{\u001b[39;00medge\u001b[39m.\u001b[39mu\u001b[39m}\u001b[39;00m\u001b[39m -> \u001b[39m\u001b[39m{\u001b[39;00medge\u001b[39m.\u001b[39mv\u001b[39m}\u001b[39;00m\u001b[39m\"\u001b[39m)\n\u001b[1;32m    104\u001b[0m         x \u001b[39m=\u001b[39m np\u001b[39m.\u001b[39marray([edge\u001b[39m.\u001b[39mgcs_edge\u001b[39m.\u001b[39mxu(), edge\u001b[39m.\u001b[39mgcs_edge\u001b[39m.\u001b[39mxv()])\u001b[39m.\u001b[39mflatten()\n\u001b[0;32m--> 105\u001b[0m         edge\u001b[39m.\u001b[39;49mgcs_edge\u001b[39m.\u001b[39;49mAddCost(cost, x)\n\u001b[1;32m    106\u001b[0m \u001b[39mif\u001b[39;00m \u001b[39mself\u001b[39m\u001b[39m.\u001b[39m_default_costs_constraints\u001b[39m.\u001b[39medge_constraints \u001b[39mis\u001b[39;00m \u001b[39mnot\u001b[39;00m \u001b[39mNone\u001b[39;00m:\n\u001b[1;32m    107\u001b[0m     \u001b[39mfor\u001b[39;00m constraint \u001b[39min\u001b[39;00m \u001b[39mself\u001b[39m\u001b[39m.\u001b[39m_default_costs_constraints\u001b[39m.\u001b[39medge_constraints:\n",
      "\u001b[0;31mTypeError\u001b[0m: AddCost(): incompatible function arguments. The following argument types are supported:\n    1. (self: pydrake.geometry.optimization.GraphOfConvexSets.Edge, e: pydrake.symbolic.Expression) -> Tuple[pydrake.symbolic.Variable, pydrake.solvers.Binding𝓣Cost𝓤]\n    2. (self: pydrake.geometry.optimization.GraphOfConvexSets.Edge, binding: pydrake.solvers.Binding𝓣Cost𝓤) -> Tuple[pydrake.symbolic.Variable, pydrake.solvers.Binding𝓣Cost𝓤]\n\nInvoked with: <pydrake.geometry.optimization.GraphOfConvexSets.Edge object at 0x7f2243e427b0>, <pydrake.solvers.L2NormCost object at 0x7f2245b1f9f0>, array([Variable('s(0)', Continuous), Variable('s(1)', Continuous),\n       Variable('p0(0)', Continuous), Variable('p0(1)', Continuous)],\n      dtype=object)"
     ]
    }
   ],
   "source": [
    "dim = 2\n",
    "# Convex sets\n",
    "points = (\n",
    "    Point((0, 0)),\n",
    "    Point((9, 0)),\n",
    ")\n",
    "\n",
    "polyhedra = (\n",
    "    Polyhedron(([1, 0], [1, 2], [3, 1], [3, 0])),\n",
    "    Polyhedron(([4, 2], [3, 3], [2, 2], [2, 3])),\n",
    "    Polyhedron(([2, -2], [1, -3], [2, -4], [4, -4], [4, -3])),\n",
    "    Polyhedron(([5, -4], [7, -4], [6, -3])),\n",
    "    Polyhedron(([7, -2], [8, -2], [9, -3], [8, -4])),\n",
    ")\n",
    "ellipsoids = (\n",
    "    Ellipsoid((4, -1), ([1, 0], [0, 1])),\n",
    "    Ellipsoid((7, 2), ([.25, 0], [0, 1])),\n",
    ")\n",
    "\n",
    "sets = points + polyhedra + ellipsoids\n",
    "\n",
    "# Vertex names\n",
    "vertex_names = ['s', 't']\n",
    "vertex_names += [f'p{i}' for i in range(len(polyhedra))]\n",
    "vertex_names += [f'e{i}' for i in range(len(ellipsoids))]\n",
    "\n",
    "# Edge costs\n",
    "A = np.hstack((np.eye(dim), -np.eye(dim)))\n",
    "b = np.zeros((dim, 1))\n",
    "edge_cost = L2NormCost(A, b)\n",
    "default_costs_constraints = DefaultGraphCostsConstraints(edge_costs=[edge_cost])\n",
    "# Add convex sets to graph\n",
    "G = Graph(default_costs_constraints)\n",
    "G.add_vertices_from_sets(sets, names = vertex_names)\n",
    "\n",
    "# Edges\n",
    "edges = {\n",
    "    's': ('p0', 'p1', 'p2'),\n",
    "    'p0': ('e1',),\n",
    "    'p1': ('p2', 'e0', 'e1'),\n",
    "    'p2': ('p1', 'p3', 'e0'),\n",
    "    'p3': ('t', 'p2', 'p4', 'e1'),\n",
    "    'p4': ('t', 'e0'),\n",
    "    'e0': ('p3', 'p4', 'e1'),\n",
    "    'e1': ('t', 'p4', 'e0')\n",
    "}\n",
    "for u, vs in edges.items():\n",
    "    for v in vs:\n",
    "        G.add_edge(Edge(u, v))\n",
    "\n",
    "# draw convex sets and edges\n",
    "plt.figure()\n",
    "G.plot_sets()\n",
    "G.plot_edges()\n",
    "G.plot_set_labels()\n",
    "plt.show()"
   ]
  },
  {
   "cell_type": "code",
   "execution_count": null,
   "metadata": {},
   "outputs": [],
   "source": []
  }
 ],
 "metadata": {
  "kernelspec": {
   "display_name": ".venv",
   "language": "python",
   "name": "python3"
  },
  "language_info": {
   "codemirror_mode": {
    "name": "ipython",
    "version": 3
   },
   "file_extension": ".py",
   "mimetype": "text/x-python",
   "name": "python",
   "nbconvert_exporter": "python",
   "pygments_lexer": "ipython3",
   "version": "3.8.10"
  },
  "orig_nbformat": 4
 },
 "nbformat": 4,
 "nbformat_minor": 2
}
