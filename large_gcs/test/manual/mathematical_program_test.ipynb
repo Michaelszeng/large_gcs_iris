{
 "cells": [
  {
   "attachments": {},
   "cell_type": "markdown",
   "metadata": {},
   "source": [
    "## Understanding DecomposeLinearExpressions()"
   ]
  },
  {
   "cell_type": "code",
   "execution_count": 28,
   "metadata": {},
   "outputs": [
    {
     "name": "stdout",
     "output_type": "stream",
     "text": [
      "[[ 5. -1.  0.]\n",
      " [ 0.  2.  0.]\n",
      " [ 1.  0.  3.]]\n"
     ]
    }
   ],
   "source": [
    "from pydrake.all import (MathematicalProgram, DecomposeLinearExpressions, L2NormCost,\n",
    "                         Binding, Cost)\n",
    "import numpy as np\n",
    "\n",
    "prog = MathematicalProgram()\n",
    "\n",
    "x = prog.NewContinuousVariables(3)\n",
    "exprs = [x[0]*5 - x[1], x[1]*2, x[2]*3 + x[0]]\n",
    "A = DecomposeLinearExpressions(exprs, x)\n",
    "print(A)"
   ]
  },
  {
   "cell_type": "code",
   "execution_count": 23,
   "metadata": {},
   "outputs": [
    {
     "ename": "SystemExit",
     "evalue": "Failure at bazel-out/darwin-opt/bin/tools/install/libdrake/_virtual_includes/drake_shared_library/drake/solvers/binding.h:31 in Binding(): condition 'c->num_vars() == v.rows() || c->num_vars() == Eigen::Dynamic' failed.",
     "output_type": "error",
     "traceback": [
      "An exception has occurred, use %tb to see the full traceback.\n",
      "\u001b[0;31mSystemExit\u001b[0m\u001b[0;31m:\u001b[0m Failure at bazel-out/darwin-opt/bin/tools/install/libdrake/_virtual_includes/drake_shared_library/drake/solvers/binding.h:31 in Binding(): condition 'c->num_vars() == v.rows() || c->num_vars() == Eigen::Dynamic' failed.\n"
     ]
    },
    {
     "name": "stderr",
     "output_type": "stream",
     "text": [
      "/Users/chewchiashaoyuan/Documents/Software/large_gcs/.venv/lib/python3.11/site-packages/IPython/core/interactiveshell.py:3516: UserWarning: To exit: use 'exit', 'quit', or Ctrl-D.\n",
      "  warn(\"To exit: use 'exit', 'quit', or Ctrl-D.\", stacklevel=1)\n"
     ]
    }
   ],
   "source": [
    "b = np.zeros((A.shape[0], 1))\n",
    "l2_norm_cost = L2NormCost(A, b)\n",
    "for xi in x:\n",
    "    cost = Binding[Cost](l2_norm_cost, [xi])\n",
    "    prog.AddCost(cost)\n",
    "print(prog.GetAllCosts())"
   ]
  },
  {
   "cell_type": "code",
   "execution_count": 31,
   "metadata": {},
   "outputs": [
    {
     "name": "stdout",
     "output_type": "stream",
     "text": [
      "<pydrake.solvers.L2NormCost object at 0x176096570>\n"
     ]
    },
    {
     "ename": "TypeError",
     "evalue": "AddCost(): incompatible function arguments. The following argument types are supported:\n    1. (self: pydrake.solvers.MathematicalProgram, func: function, vars: numpy.ndarray[object[m, 1]], description: str = '') -> pydrake.solvers.Binding𝓣Cost𝓤\n    2. (self: pydrake.solvers.MathematicalProgram, e: pydrake.symbolic.Expression) -> pydrake.solvers.Binding𝓣Cost𝓤\n    3. (self: pydrake.solvers.MathematicalProgram, obj: pydrake.solvers.Cost, vars: numpy.ndarray[object[m, 1]]) -> pydrake.solvers.Binding𝓣Cost𝓤\n\nInvoked with: <pydrake.solvers.MathematicalProgram object at 0x176096930>, <pydrake.solvers.Binding𝓣Cost𝓤 object at 0x104c7f130>",
     "output_type": "error",
     "traceback": [
      "\u001b[0;31m---------------------------------------------------------------------------\u001b[0m",
      "\u001b[0;31mTypeError\u001b[0m                                 Traceback (most recent call last)",
      "Cell \u001b[0;32mIn[31], line 6\u001b[0m\n\u001b[1;32m      4\u001b[0m \u001b[39mprint\u001b[39m(l2_norm_cost)\n\u001b[1;32m      5\u001b[0m cost \u001b[39m=\u001b[39m Binding[Cost](l2_norm_cost, np\u001b[39m.\u001b[39marray([x[\u001b[39m0\u001b[39m]])\u001b[39m.\u001b[39mreshape(\u001b[39m1\u001b[39m,\u001b[39m1\u001b[39m))\n\u001b[0;32m----> 6\u001b[0m prog\u001b[39m.\u001b[39;49mAddCost(cost)\n\u001b[1;32m      7\u001b[0m \u001b[39mprint\u001b[39m(prog\u001b[39m.\u001b[39mGetAllCosts())\n",
      "\u001b[0;31mTypeError\u001b[0m: AddCost(): incompatible function arguments. The following argument types are supported:\n    1. (self: pydrake.solvers.MathematicalProgram, func: function, vars: numpy.ndarray[object[m, 1]], description: str = '') -> pydrake.solvers.Binding𝓣Cost𝓤\n    2. (self: pydrake.solvers.MathematicalProgram, e: pydrake.symbolic.Expression) -> pydrake.solvers.Binding𝓣Cost𝓤\n    3. (self: pydrake.solvers.MathematicalProgram, obj: pydrake.solvers.Cost, vars: numpy.ndarray[object[m, 1]]) -> pydrake.solvers.Binding𝓣Cost𝓤\n\nInvoked with: <pydrake.solvers.MathematicalProgram object at 0x176096930>, <pydrake.solvers.Binding𝓣Cost𝓤 object at 0x104c7f130>"
     ]
    }
   ],
   "source": [
    "prog = MathematicalProgram()\n",
    "x = prog.NewContinuousVariables(2)\n",
    "l2_norm_cost = L2NormCost(np.array([1,-1]).reshape(1,2), np.array([0]).reshape(1,1))\n",
    "print(l2_norm_cost)\n",
    "cost = Binding[Cost](l2_norm_cost, np.array([x[0]]).reshape(1,1))\n",
    "prog.AddCost(cost)\n",
    "print(prog.GetAllCosts())"
   ]
  },
  {
   "cell_type": "code",
   "execution_count": null,
   "metadata": {},
   "outputs": [],
   "source": []
  }
 ],
 "metadata": {
  "kernelspec": {
   "display_name": ".venv",
   "language": "python",
   "name": "python3"
  },
  "language_info": {
   "codemirror_mode": {
    "name": "ipython",
    "version": 3
   },
   "file_extension": ".py",
   "mimetype": "text/x-python",
   "name": "python",
   "nbconvert_exporter": "python",
   "pygments_lexer": "ipython3",
   "version": "3.11.3"
  },
  "orig_nbformat": 4
 },
 "nbformat": 4,
 "nbformat_minor": 2
}
