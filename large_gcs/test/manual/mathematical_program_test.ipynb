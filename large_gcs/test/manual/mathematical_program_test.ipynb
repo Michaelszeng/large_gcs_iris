{
 "cells": [
  {
   "cell_type": "code",
   "execution_count": null,
   "metadata": {},
   "outputs": [],
   "source": [
    "from pydrake.all import (MathematicalProgram, DecomposeLinearExpressions, L2NormCost,\n",
    "                         Binding, Cost)\n",
    "import numpy as np"
   ]
  },
  {
   "attachments": {},
   "cell_type": "markdown",
   "metadata": {},
   "source": [
    "## Understanding DecomposeLinearExpressions()"
   ]
  },
  {
   "cell_type": "code",
   "execution_count": null,
   "metadata": {},
   "outputs": [],
   "source": [
    "\n",
    "\n",
    "prog = MathematicalProgram()\n",
    "\n",
    "x = prog.NewContinuousVariables(3)\n",
    "exprs = [x[0]*5 - x[1], x[1]*2, x[2]*3 + x[0]]\n",
    "A = DecomposeLinearExpressions(exprs, x)\n",
    "print(A)"
   ]
  },
  {
   "cell_type": "code",
   "execution_count": null,
   "metadata": {},
   "outputs": [],
   "source": [
    "\n",
    "prog = MathematicalProgram()\n",
    "\n",
    "x = prog.NewContinuousVariables(2,2)\n",
    "exprs = x[0]-x[1]\n",
    "A = DecomposeLinearExpressions(exprs, x.flatten())\n",
    "print(A)\n",
    "b = np.zeros((A.shape[0],1))\n",
    "print(b)\n",
    "l2_norm_cost = L2NormCost(A, b)\n",
    "prog.AddCost(l2_norm_cost, x.flatten())"
   ]
  },
  {
   "cell_type": "code",
   "execution_count": 8,
   "metadata": {},
   "outputs": [
    {
     "name": "stdout",
     "output_type": "stream",
     "text": [
      "[[ 1.  0. -1. -0.]\n",
      " [ 0.  1. -0. -1.]\n",
      " [-1. -0.  1.  0.]\n",
      " [-0. -1.  0.  1.]]\n",
      "( - 2 * (x(0,0) * x(1,0)) - 2 * (x(0,1) * x(1,1)) + pow(x(0,0), 2) + pow(x(1,0), 2) + pow(x(0,1), 2) + pow(x(1,1), 2))\n"
     ]
    }
   ],
   "source": [
    "import numpy as np\n",
    "from pydrake.all import (MathematicalProgram, QuadraticCost)\n",
    "n = 2  # Dimension of x1 and x2\n",
    "prog = MathematicalProgram()\n",
    "\n",
    "x = prog.NewContinuousVariables(2,n).reshape(1,2*n)\n",
    "I_n = np.identity(n)\n",
    "Q = np.block([[I_n, -I_n], [-I_n, I_n]])\n",
    "b = np.zeros((2*n,1))\n",
    "c = 0\n",
    "cost = QuadraticCost(Q, b, c)\n",
    "prog.AddCost(cost, x.flatten())\n",
    "expr = (x @ Q @ x.T).flatten()[0]\n",
    "print(Q)\n",
    "print(expr.Expand())\n"
   ]
  },
  {
   "cell_type": "code",
   "execution_count": null,
   "metadata": {},
   "outputs": [],
   "source": []
  }
 ],
 "metadata": {
  "kernelspec": {
   "display_name": ".venv",
   "language": "python",
   "name": "python3"
  },
  "language_info": {
   "codemirror_mode": {
    "name": "ipython",
    "version": 3
   },
   "file_extension": ".py",
   "mimetype": "text/x-python",
   "name": "python",
   "nbconvert_exporter": "python",
   "pygments_lexer": "ipython3",
   "version": "3.11.3"
  },
  "orig_nbformat": 4
 },
 "nbformat": 4,
 "nbformat_minor": 2
}
