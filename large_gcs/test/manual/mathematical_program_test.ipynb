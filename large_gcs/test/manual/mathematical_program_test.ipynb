{
 "cells": [
  {
   "cell_type": "code",
   "execution_count": 1,
   "metadata": {},
   "outputs": [],
   "source": [
    "from pydrake.all import (MathematicalProgram, DecomposeLinearExpressions, L2NormCost,\n",
    "                         Binding, Cost)\n",
    "import numpy as np"
   ]
  },
  {
   "attachments": {},
   "cell_type": "markdown",
   "metadata": {},
   "source": [
    "## Understanding DecomposeLinearExpressions()"
   ]
  },
  {
   "cell_type": "code",
   "execution_count": 27,
   "metadata": {},
   "outputs": [
    {
     "name": "stdout",
     "output_type": "stream",
     "text": [
      "[[ 5. -1.  0.]\n",
      " [ 0.  2.  0.]\n",
      " [ 1.  0.  3.]]\n"
     ]
    }
   ],
   "source": [
    "\n",
    "\n",
    "prog = MathematicalProgram()\n",
    "\n",
    "x = prog.NewContinuousVariables(3)\n",
    "exprs = [x[0]*5 - x[1], x[1]*2, x[2]*3 + x[0]]\n",
    "A = DecomposeLinearExpressions(exprs, x)\n",
    "print(A)"
   ]
  },
  {
   "cell_type": "code",
   "execution_count": 33,
   "metadata": {},
   "outputs": [
    {
     "name": "stdout",
     "output_type": "stream",
     "text": [
      "[[ 1.  0. -1.  0.]\n",
      " [ 0.  1.  0. -1.]]\n",
      "[[0.]\n",
      " [0.]]\n"
     ]
    },
    {
     "data": {
      "text/plain": [
       "<pydrake.solvers.Binding𝓣Cost𝓤 at 0x7fb2c44bc2f0>"
      ]
     },
     "execution_count": 33,
     "metadata": {},
     "output_type": "execute_result"
    }
   ],
   "source": [
    "\n",
    "prog = MathematicalProgram()\n",
    "\n",
    "x = prog.NewContinuousVariables(2,2)\n",
    "exprs = x[0]-x[1]\n",
    "A = DecomposeLinearExpressions(exprs, x.flatten())\n",
    "print(A)\n",
    "b = np.zeros((A.shape[0],1))\n",
    "print(b)\n",
    "l2_norm_cost = L2NormCost(A, b)\n",
    "prog.AddCost(l2_norm_cost, x.flatten())"
   ]
  },
  {
   "cell_type": "code",
   "execution_count": null,
   "metadata": {},
   "outputs": [],
   "source": []
  }
 ],
 "metadata": {
  "kernelspec": {
   "display_name": ".venv",
   "language": "python",
   "name": "python3"
  },
  "language_info": {
   "codemirror_mode": {
    "name": "ipython",
    "version": 3
   },
   "file_extension": ".py",
   "mimetype": "text/x-python",
   "name": "python",
   "nbconvert_exporter": "python",
   "pygments_lexer": "ipython3",
   "version": "3.8.10"
  },
  "orig_nbformat": 4
 },
 "nbformat": 4,
 "nbformat_minor": 2
}
