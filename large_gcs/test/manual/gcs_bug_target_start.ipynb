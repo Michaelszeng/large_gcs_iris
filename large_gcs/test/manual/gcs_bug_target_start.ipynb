{
 "cells": [
  {
   "cell_type": "code",
   "execution_count": 5,
   "metadata": {},
   "outputs": [
    {
     "ename": "AttributeError",
     "evalue": "'pydrake.solvers.MathematicalProgramResult' object has no attribute 'getoptimalcost'",
     "output_type": "error",
     "traceback": [
      "\u001b[0;31m---------------------------------------------------------------------------\u001b[0m",
      "\u001b[0;31mAttributeError\u001b[0m                            Traceback (most recent call last)",
      "Cell \u001b[0;32mIn[5], line 41\u001b[0m\n\u001b[1;32m     35\u001b[0m result \u001b[39m=\u001b[39m gcs\u001b[39m.\u001b[39mSolveShortestPath(\n\u001b[1;32m     36\u001b[0m             v_s,\n\u001b[1;32m     37\u001b[0m             v_t,\n\u001b[1;32m     38\u001b[0m             options,\n\u001b[1;32m     39\u001b[0m         )\n\u001b[1;32m     40\u001b[0m \u001b[39massert\u001b[39;00m result\u001b[39m.\u001b[39mis_success()\n\u001b[0;32m---> 41\u001b[0m \u001b[39mprint\u001b[39m(result\u001b[39m.\u001b[39;49mgetoptimalcost())\n",
      "\u001b[0;31mAttributeError\u001b[0m: 'pydrake.solvers.MathematicalProgramResult' object has no attribute 'getoptimalcost'"
     ]
    }
   ],
   "source": [
    "from pydrake.all import (\n",
    "    GraphOfConvexSets,\n",
    "    GraphOfConvexSetsOptions,\n",
    "    Cost,\n",
    "    Constraint,\n",
    "    Binding,\n",
    "    MathematicalProgramResult,\n",
    "    Point\n",
    ")\n",
    "import numpy as np\n",
    "from large_gcs.graph.cost_factory import create_l2norm_edge_cost\n",
    "\n",
    "\n",
    "gcs = GraphOfConvexSets()\n",
    "source_set = Point([0, 0])\n",
    "mid_set = Point([0, 1])\n",
    "target_set = Point([0, 9])\n",
    "gcs_edges = []\n",
    "v_t = gcs.AddVertex(target_set, \"t\")\n",
    "v_s = gcs.AddVertex(source_set, \"s\")\n",
    "v_m = gcs.AddVertex(mid_set, \"m\")\n",
    "edges = [(v_s, v_m), (v_m, v_t)]\n",
    "\n",
    "cost = create_l2norm_edge_cost(2)\n",
    "for edge in edges:\n",
    "    e = gcs.AddEdge(edge[0], edge[1])\n",
    "    gcs_edges.append(e)\n",
    "    x = np.array([e.xu(), e.xv()]).flatten()\n",
    "    binding = Binding[Cost](cost, x)\n",
    "    e.AddCost(binding)\n",
    "\n",
    "options = GraphOfConvexSetsOptions()\n",
    "options.convex_relaxation = False\n",
    "\n",
    "result = gcs.SolveShortestPath(\n",
    "            v_s,\n",
    "            v_t,\n",
    "            options,\n",
    "        )\n",
    "assert result.is_success()\n",
    "print(result.get_optimal_cost())\n"
   ]
  },
  {
   "cell_type": "code",
   "execution_count": null,
   "metadata": {},
   "outputs": [],
   "source": []
  }
 ],
 "metadata": {
  "kernelspec": {
   "display_name": ".venv",
   "language": "python",
   "name": "python3"
  },
  "language_info": {
   "codemirror_mode": {
    "name": "ipython",
    "version": 3
   },
   "file_extension": ".py",
   "mimetype": "text/x-python",
   "name": "python",
   "nbconvert_exporter": "python",
   "pygments_lexer": "ipython3",
   "version": "3.8.10"
  },
  "orig_nbformat": 4
 },
 "nbformat": 4,
 "nbformat_minor": 2
}
