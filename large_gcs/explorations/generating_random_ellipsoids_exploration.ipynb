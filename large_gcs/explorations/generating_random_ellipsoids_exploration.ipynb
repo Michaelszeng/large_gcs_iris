{
 "cells": [
  {
   "cell_type": "code",
   "execution_count": 1,
   "metadata": {},
   "outputs": [],
   "source": [
    "import numpy as np\n",
    "import matplotlib.pyplot as plt\n",
    "from large_gcs.geometry.ellipsoid import Ellipsoid\n"
   ]
  },
  {
   "attachments": {},
   "cell_type": "markdown",
   "metadata": {},
   "source": [
    "# Create an Ellipsoid"
   ]
  },
  {
   "cell_type": "code",
   "execution_count": 16,
   "metadata": {},
   "outputs": [
    {
     "data": {
      "image/png": "[encoded data removed]",
      "text/plain": [
       "<Figure size 640x480 with 1 Axes>"
      ]
     },
     "metadata": {},
     "output_type": "display_data"
    }
   ],
   "source": [
    "dim = 2\n",
    "set_scale = 2\n",
    "\n",
    "Q, _ = np.linalg.qr(np.random.randn(dim, dim))  # Random orthogonal matrix\n",
    "D = np.diag(np.abs(np.random.normal(1, 0.3, dim))) * 1/set_scale  # Diagonal matrix with entries normally distributed around 1\n",
    "A = Q @ D @ Q.T\n",
    "shape = Ellipsoid(center=[0,0], A=A)\n",
    "plt.xlim([-5,5])\n",
    "plt.ylim([-5,5])\n",
    "shape.plot()"
   ]
  },
  {
   "attachments": {},
   "cell_type": "markdown",
   "metadata": {},
   "source": [
    "\n",
    "1. **Generate a random orthogonal matrix `Q`.**\n",
    "\n",
    "   An orthogonal matrix is a square matrix whose columns and rows are orthogonal unit vectors (i.e., orthonormal vectors). This means that its transpose is also its inverse, and that the dot product of different rows (or, equivalently, columns) is zero, while the dot product of a row with itself is 1.\n",
    "\n",
    "   One way to generate a random orthogonal matrix is to generate a matrix with random elements, and then perform QR decomposition on it. QR decomposition is a process that takes a matrix and decomposes it into an orthogonal matrix `Q` and an upper triangular matrix `R`.\n",
    "\n",
    "   In the code, `np.linalg.qr(np.random.randn(dim, dim))` generates a random matrix with dimensions `dim` by `dim`, and then performs QR decomposition on it. The function `np.linalg.qr` returns two matrices, `Q` and `R`, but we only need `Q`, so we ignore `R` with `_`.\n",
    "\n",
    "2. **Generate a diagonal matrix `D` with positive entries that are normally distributed around 1.**\n",
    "\n",
    "   A diagonal matrix is a matrix in which the entries outside the main diagonal are all zero. The main diagonal entries are the lengths of the axes of the ellipse.\n",
    "\n",
    "   In the code, `np.diag(np.abs(np.random.normal(1, 0.1, dim)))` generates a diagonal matrix where the diagonal entries are drawn from a normal distribution with mean 1 and standard deviation 0.1. The `np.abs` function ensures that these entries are positive. The function `np.random.normal` generates normally distributed random numbers, and `np.diag` creates a diagonal matrix from these numbers.\n",
    "\n",
    "3. **Compute `A = Q @ D @ Q.T`.**\n",
    "\n",
    "   This step creates the matrix `A` that defines the ellipse. The matrix `A` is a positive definite matrix, which means that for any non-zero vector `x`, the quantity `xᵀAx` is positive. This property ensures that the equation `(x-center)ᵀAᵀA(x-center) ≤ 1` defines an ellipse.\n",
    "\n",
    "   The matrix `A` is computed as the product of `Q`, `D`, and the transpose of `Q`. This ensures that `A` is positive definite, because `D` is a diagonal matrix with positive entries (which makes it positive definite), and `Q` is an orthogonal matrix (which preserves the positive definiteness when it's multiplied on the left and its transpose is multiplied on the right).\n",
    "\n",
    "   The orthogonal matrix `Q` effectively rotates the coordinate system, which results in the ellipse being randomly oriented in space. The diagonal matrix `D` scales the axes of the ellipse, which results in the ellipse having random axis lengths.\n",
    "\n",
    "## Why does making the values of D smaller, make the ellipse larger?\n",
    "\n",
    "The matrix `D` in this context is a diagonal matrix that scales the axes of the ellipse. The values on the diagonal of `D` represent the lengths of the semi-axes of the ellipse. \n",
    "\n",
    "The equation of an ellipse centered at the origin in matrix form is given by:\n",
    "\n",
    "$$\n",
    "x^T A x = 1\n",
    "$$\n",
    "\n",
    "where `x` is a vector representing a point in space, and `A` is a positive definite matrix. If `A` is a diagonal matrix, then the equation represents an axis-aligned ellipse, and the diagonal elements of `A` are the reciprocals of the squares of the semi-axis lengths.\n",
    "\n",
    "So, if the values in `D` (and hence in `A`) are smaller, the lengths of the semi-axes of the ellipse are larger, making the ellipse itself larger. Conversely, if the values in `D` are larger, the lengths of the semi-axes are smaller, making the ellipse smaller.\n",
    "\n",
    "In the context of the code, the matrix `A` is not necessarily diagonal because it's computed as `Q @ D @ Q.T`, which represents a rotated and scaled ellipse. However, the principle remains the same: smaller values in `D` result in larger ellipses, and larger values in `D` result in smaller ellipses."
   ]
  }
 ],
 "metadata": {
  "kernelspec": {
   "display_name": ".venv",
   "language": "python",
   "name": "python3"
  },
  "language_info": {
   "codemirror_mode": {
    "name": "ipython",
    "version": 3
   },
   "file_extension": ".py",
   "mimetype": "text/x-python",
   "name": "python",
   "nbconvert_exporter": "python",
   "pygments_lexer": "ipython3",
   "version": "3.11.3"
  },
  "orig_nbformat": 4
 },
 "nbformat": 4,
 "nbformat_minor": 2
}
