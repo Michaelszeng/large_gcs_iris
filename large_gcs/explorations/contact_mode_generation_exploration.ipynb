{
 "cells": [
  {
   "attachments": {},
   "cell_type": "markdown",
   "metadata": {},
   "source": [
    "In this notebook I want to explore, given 2 2D polyhedrons, how can I find out what all the possible contact modes there are between them and the corresponding contact locations, constraints, whether contact or no contact"
   ]
  },
  {
   "cell_type": "code",
   "execution_count": null,
   "metadata": {},
   "outputs": [],
   "source": [
    "from dataclasses import dataclass\n",
    "from enum import Enum\n",
    "from large_gcs.geometry.polyhedron import Polyhedron\n",
    "from large_gcs.geometry.convex_set import ConvexSet"
   ]
  },
  {
   "cell_type": "code",
   "execution_count": null,
   "metadata": {},
   "outputs": [],
   "source": [
    "class ContactLocation():\n",
    "    pass\n",
    "class ContactLocationPoint(ContactLocation):\n",
    "    pass\n",
    "class ContactLocationEdge(ContactLocation):\n",
    "    pass\n",
    "class ContactLocationFace(ContactLocation):\n",
    "    pass\n",
    "\n",
    "class MobilityType(Enum):\n",
    "    STATIC = 1\n",
    "    UNACTUATED = 2\n",
    "    ACTUATED = 3\n",
    "\n",
    "class RigidBody():\n",
    "    name: str\n",
    "    dim: int\n",
    "    geometry: ConvexSet # For now, only allow convex sets, and specifically polyhedra\n",
    "    mobility_type: MobilityType\n",
    "\n",
    "# class ContactPairModeType(Enum):\n",
    "#     NO_CONTACT = 1\n",
    "#     SLIDING = 2\n",
    "\n",
    "\n",
    "@dataclass\n",
    "class ContactPairMode():\n",
    "    \"\"\"Contact mode between two contact locations on two rigid bodies\"\"\"\n",
    "    body_a: RigidBody\n",
    "    body_b: RigidBody    \n",
    "\n",
    "class InContactPairMode(ContactPairMode):\n",
    "    contact_location_a: ContactLocation\n",
    "    contact_location_b: ContactLocation\n",
    "\n",
    "class NoContactPairMode(ContactPairMode):\n",
    "    pass\n",
    "\n",
    "\n"
   ]
  }
 ],
 "metadata": {
  "language_info": {
   "name": "python"
  },
  "orig_nbformat": 4
 },
 "nbformat": 4,
 "nbformat_minor": 2
}
