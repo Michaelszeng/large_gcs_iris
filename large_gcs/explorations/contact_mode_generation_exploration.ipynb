{
 "cells": [
  {
   "attachments": {},
   "cell_type": "markdown",
   "metadata": {},
   "source": [
    "In this notebook I want to explore, given 2 2D polyhedrons, how can I find out what all the possible contact modes there are between them and the corresponding contact locations, constraints, whether contact or no contact"
   ]
  },
  {
   "cell_type": "code",
   "execution_count": 1,
   "metadata": {},
   "outputs": [],
   "source": [
    "from dataclasses import dataclass\n",
    "from enum import Enum\n",
    "from large_gcs.geometry.polyhedron import Polyhedron\n",
    "from large_gcs.geometry.convex_set import ConvexSet\n",
    "import numpy as np\n",
    "np.set_printoptions(formatter={'float': lambda x: \"{0:0.3f}\".format(x)})\n",
    "import matplotlib.pyplot as plt"
   ]
  },
  {
   "cell_type": "code",
   "execution_count": 2,
   "metadata": {},
   "outputs": [
    {
     "name": "stdout",
     "output_type": "stream",
     "text": [
      "A original: [[0.000 1.000]\n",
      " [-0.447 -0.894]\n",
      " [1.000 0.000]]\n",
      "b original: [0.000 0.000 1.000]\n",
      "new_order: [1, 2, 0]\n",
      "[[-0.000 0.000]\n",
      " [1.000 -0.500]\n",
      " [1.000 0.000]]\n",
      "A [[-0.447 -0.894]\n",
      " [1.000 0.000]\n",
      " [0.000 1.000]]\n",
      "b [0.000 1.000 0.000]\n"
     ]
    },
    {
     "data": {
      "image/png": "[encoded data removed]",
      "text/plain": [
       "<Figure size 640x480 with 1 Axes>"
      ]
     },
     "metadata": {},
     "output_type": "display_data"
    }
   ],
   "source": [
    "@dataclass\n",
    "class ContactLocation():\n",
    "    pass\n",
    "\n",
    "@dataclass\n",
    "class ContactLocationPoint(ContactLocation):\n",
    "    pass\n",
    "\n",
    "@dataclass\n",
    "class ContactLocationEdge(ContactLocation):\n",
    "    pass\n",
    "\n",
    "@dataclass\n",
    "class ContactLocationFace(ContactLocation):\n",
    "    def __post_init__(self):\n",
    "        raise NotImplementedError\n",
    "\n",
    "class MobilityType(Enum):\n",
    "    STATIC = 1\n",
    "    UNACTUATED = 2\n",
    "    ACTUATED = 3\n",
    "\n",
    "@dataclass\n",
    "class RigidBody:\n",
    "    name: str\n",
    "    geometry: Polyhedron # For now, only allow convex sets, and specifically polyhedra\n",
    "    mobility_type: MobilityType\n",
    "\n",
    "    @property\n",
    "    def dimension(self):\n",
    "        return self.geometry.dimension\n",
    "\n",
    "# class ContactPairModeType(Enum):\n",
    "#     NO_CONTACT = 1\n",
    "#     SLIDING = 2\n",
    "\n",
    "\n",
    "@dataclass\n",
    "class ContactPairMode():\n",
    "    \"\"\"Contact mode between two contact locations on two rigid bodies\"\"\"\n",
    "    body_a: RigidBody\n",
    "    body_b: RigidBody    \n",
    "\n",
    "class InContactPairMode(ContactPairMode):\n",
    "    contact_location_a: ContactLocation\n",
    "    contact_location_b: ContactLocation\n",
    "\n",
    "class NoContactPairMode(ContactPairMode):\n",
    "    pass\n",
    "\n",
    "# obs = RigidBody(name=\"obstacle\", geometry=Polyhedron.from_vertices([[0, 0], [1, 0], [0, -1]]), mobility_type=MobilityType.STATIC)\n",
    "obj = RigidBody(name=\"object\", geometry=Polyhedron.from_vertices([[0, 0], [1, 0], [1, -0.5]]), mobility_type=MobilityType.ACTUATED)\n",
    "obj.geometry.plot(mark_center=True)\n",
    "print(obj.geometry.vertices)\n",
    "print(\"A\", obj.geometry.set.A())\n",
    "print(\"b\", obj.geometry.set.b())\n",
    "obj.geometry.plot_face(0, color=\"r\")\n",
    "# obj.geometry.plot_halfspace(2, color=\"blue\", alpha=0.5, linestyle=\"-.\")"
   ]
  },
  {
   "cell_type": "code",
   "execution_count": 3,
   "metadata": {},
   "outputs": [
    {
     "name": "stdout",
     "output_type": "stream",
     "text": [
      "[3 1 2]\n"
     ]
    }
   ],
   "source": [
    "a = np.array([1, 2, 3])\n",
    "a = a[[2,0,1]]\n",
    "print(a)"
   ]
  },
  {
   "cell_type": "code",
   "execution_count": null,
   "metadata": {},
   "outputs": [],
   "source": []
  }
 ],
 "metadata": {
  "kernelspec": {
   "display_name": ".venv",
   "language": "python",
   "name": "python3"
  },
  "language_info": {
   "codemirror_mode": {
    "name": "ipython",
    "version": 3
   },
   "file_extension": ".py",
   "mimetype": "text/x-python",
   "name": "python",
   "nbconvert_exporter": "python",
   "pygments_lexer": "ipython3",
   "version": "3.11.3"
  },
  "orig_nbformat": 4
 },
 "nbformat": 4,
 "nbformat_minor": 2
}
