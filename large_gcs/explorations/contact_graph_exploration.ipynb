{
 "cells": [
  {
   "cell_type": "code",
   "execution_count": 1,
   "metadata": {},
   "outputs": [],
   "source": [
    "from large_gcs.contact.contact_location import *\n",
    "from large_gcs.contact.contact_pair_mode import *\n",
    "from large_gcs.contact.rigid_body import *\n",
    "from large_gcs.geometry.polyhedron import Polyhedron\n",
    "from large_gcs.graph.contact_graph import ContactGraph\n",
    "import random\n",
    "import matplotlib.pyplot as plt\n",
    "import matplotlib.cm as cm\n",
    "\n",
    "# np.set_printoptions(formatter={\"float\": lambda x: \"{0:0.3f}\".format(x)})"
   ]
  },
  {
   "cell_type": "code",
   "execution_count": 2,
   "metadata": {},
   "outputs": [
    {
     "data": {
      "image/png": "[encoded data removed]",
      "text/plain": [
       "<Figure size 640x480 with 1 Axes>"
      ]
     },
     "metadata": {},
     "output_type": "display_data"
    }
   ],
   "source": [
    "# 2 items\n",
    "# obs_vertices = [\n",
    "#     np.array([[0, 0], [1, 0], [0, -1]])\n",
    "# ]\n",
    "# obj_vertices = [\n",
    "# ]\n",
    "# rob_vertices = [\n",
    "#     np.array([[-1,-1],[-1.5,-0.5],[-1.2, -1.5]])\n",
    "# ]\n",
    "# source_obj_pos = []\n",
    "# source_rob_pos = [[-1, -1]]\n",
    "# target_obj_pos = []\n",
    "# target_rob_pos = [[2, 2]]\n",
    "\n",
    "\n",
    "# # 2 movable items\n",
    "obs_vertices = []\n",
    "obj_vertices = [np.array([[0, 0], [1, 0], [1, 1], [0, 1]]) + np.array([2.5, 0.5])]\n",
    "rob_vertices = [np.array([[-1, -1], [-1.5, -0.5], [-1.2, -1.5]])]\n",
    "source_obj_pos = [[1, 1]]\n",
    "source_rob_pos = [[-1, -1]]\n",
    "target_obj_pos = [[-1, -1]]\n",
    "target_rob_pos = [[1, 1]]\n",
    "\n",
    "# 3 items\n",
    "# obs_vertices = [\n",
    "#     np.array([[0, 0], [1, 0], [0, -1]])\n",
    "# ]\n",
    "# obj_vertices = [\n",
    "#     np.array([[0, 0], [1, 0], [1, 1], [0,1]]) + np.array([2.5,0.5])\n",
    "# ]\n",
    "# rob_vertices = [\n",
    "#     np.array([[-1,-1],[-1.5,-0.5],[-1.2, -1.5]])\n",
    "# ]\n",
    "\n",
    "# # 3 boxes\n",
    "# obs_vertices = [\n",
    "#     np.array([[0, 0], [2, 0], [2, 1], [0,1]])\n",
    "# ]\n",
    "# obj_vertices = [\n",
    "#     np.array([[0, 0], [1, 0], [1, 1], [0,1]]) + np.array([2.5,0.5])\n",
    "# ]\n",
    "# rob_vertices = [\n",
    "#     np.array([[0, 0], [0.5, 0], [0.5, 0.5], [0,0.5]]) + np.array([0,-1])\n",
    "# ]\n",
    "\n",
    "# # 4 items\n",
    "# obs_vertices = [\n",
    "#     np.array([[0, 0], [1, 0], [0, -1]])\n",
    "# ]\n",
    "# obj_vertices = [\n",
    "#     np.array([[0, 0], [1, 0], [1, -0.5]]) + np.array([1.5, 0]),\n",
    "#     np.array([[0, 0], [1, 0], [1, 1], [0,1]]) + np.array([2.5,0.5])\n",
    "# ]\n",
    "# rob_vertices = [\n",
    "#     np.array([[-1,-1],[-1.5,-0.5],[-1.2, -1.5]])\n",
    "# ]\n",
    "obs = []\n",
    "objs = []\n",
    "robs = []\n",
    "n_pos_per_set = 3\n",
    "for i in range(len(obs_vertices)):\n",
    "    obs.append(\n",
    "        RigidBody(\n",
    "            name=f\"obs{i}\",\n",
    "            geometry=Polyhedron.from_vertices(obs_vertices[i]),\n",
    "            mobility_type=MobilityType.STATIC,\n",
    "            n_pos_points=n_pos_per_set,\n",
    "        )\n",
    "    )\n",
    "for i in range(len(obj_vertices)):\n",
    "    objs.append(\n",
    "        RigidBody(\n",
    "            name=f\"obj{i}\",\n",
    "            geometry=Polyhedron.from_vertices(obj_vertices[i]),\n",
    "            mobility_type=MobilityType.UNACTUATED,\n",
    "            n_pos_points=n_pos_per_set,\n",
    "        )\n",
    "    )\n",
    "for i in range(len(rob_vertices)):\n",
    "    robs.append(\n",
    "        RigidBody(\n",
    "            name=f\"rob{i}\",\n",
    "            geometry=Polyhedron.from_vertices(rob_vertices[i]),\n",
    "            mobility_type=MobilityType.ACTUATED,\n",
    "            n_pos_points=n_pos_per_set,\n",
    "        )\n",
    "    )\n",
    "all_rigid_bodies = obs + objs + robs\n",
    "\n",
    "for rigid_body in all_rigid_bodies:\n",
    "    rigid_body.plot()"
   ]
  },
  {
   "cell_type": "code",
   "execution_count": 3,
   "metadata": {},
   "outputs": [
    {
     "name": "stdout",
     "output_type": "stream",
     "text": [
      "Generating contact sets for 2 bodies...\n",
      "Generating contact pair modes for 1 body pairs...\n"
     ]
    },
    {
     "name": "stderr",
     "output_type": "stream",
     "text": [
      "100%|██████████| 1/1 [00:00<00:00, 33.50it/s]\n"
     ]
    },
    {
     "name": "stdout",
     "output_type": "stream",
     "text": [
      "Each body pair has on average 11.0 modes\n",
      "Generating contact sets for 11 sets...\n"
     ]
    },
    {
     "name": "stderr",
     "output_type": "stream",
     "text": [
      "  0%|          | 0/11 [00:00<?, ?it/s]"
     ]
    },
    {
     "ename": "RuntimeError",
     "evalue": "While decomposing an expression, we detects that a non-linear expression: (obj0_pos(0, 0) - obj0_pos(0, 1) + (obj0_force_res(0) * obj0_force_res_vel_slack)).",
     "output_type": "error",
     "traceback": [
      "\u001b[0;31m---------------------------------------------------------------------------\u001b[0m",
      "\u001b[0;31mRuntimeError\u001b[0m                              Traceback (most recent call last)",
      "Cell \u001b[0;32mIn[3], line 2\u001b[0m\n\u001b[1;32m      1\u001b[0m ws \u001b[39m=\u001b[39m \u001b[39m3\u001b[39m\n\u001b[0;32m----> 2\u001b[0m contact_graph \u001b[39m=\u001b[39m ContactGraph(\n\u001b[1;32m      3\u001b[0m     obs,\n\u001b[1;32m      4\u001b[0m     objs,\n\u001b[1;32m      5\u001b[0m     robs,\n\u001b[1;32m      6\u001b[0m     source_obj_pos,\n\u001b[1;32m      7\u001b[0m     source_rob_pos,\n\u001b[1;32m      8\u001b[0m     target_obj_pos,\n\u001b[1;32m      9\u001b[0m     target_rob_pos,\n\u001b[1;32m     10\u001b[0m     workspace\u001b[39m=\u001b[39;49m[[\u001b[39m-\u001b[39;49mws, ws], [\u001b[39m-\u001b[39;49mws, ws]],\n\u001b[1;32m     11\u001b[0m )\n\u001b[1;32m     13\u001b[0m \u001b[39mprint\u001b[39m(contact_graph\u001b[39m.\u001b[39mparams)\n",
      "File \u001b[0;32m~/Documents/Software/large_gcs/large_gcs/graph/contact_graph.py:114\u001b[0m, in \u001b[0;36mContactGraph.__init__\u001b[0;34m(self, static_obstacles, unactuated_objects, actuated_robots, source_pos_objs, source_pos_robs, target_pos_objs, target_pos_robs, workspace)\u001b[0m\n\u001b[1;32m    111\u001b[0m \u001b[39mself\u001b[39m\u001b[39m.\u001b[39msource_pos \u001b[39m=\u001b[39m source_pos_objs \u001b[39m+\u001b[39m source_pos_robs\n\u001b[1;32m    112\u001b[0m \u001b[39mself\u001b[39m\u001b[39m.\u001b[39mtarget_pos \u001b[39m=\u001b[39m target_pos_objs \u001b[39m+\u001b[39m target_pos_robs\n\u001b[0;32m--> 114\u001b[0m sets, set_ids \u001b[39m=\u001b[39m \u001b[39mself\u001b[39;49m\u001b[39m.\u001b[39;49m_generate_contact_sets()\n\u001b[1;32m    116\u001b[0m \u001b[39m# Assign costs and constraints\u001b[39;00m\n\u001b[1;32m    117\u001b[0m cc_factory \u001b[39m=\u001b[39m ContactCostConstraintFactory(\u001b[39mself\u001b[39m\u001b[39m.\u001b[39mvars)\n",
      "File \u001b[0;32m~/Documents/Software/large_gcs/large_gcs/graph/contact_graph.py:307\u001b[0m, in \u001b[0;36mContactGraph._generate_contact_sets\u001b[0;34m(self)\u001b[0m\n\u001b[1;32m    299\u001b[0m         set_force_constraints_dict[set_id]\u001b[39m.\u001b[39mextend(\n\u001b[1;32m    300\u001b[0m             eq(\n\u001b[1;32m    301\u001b[0m                 body_dict[body_name]\u001b[39m.\u001b[39mvars_force_res, body_force_sums[body_name]\n\u001b[1;32m    302\u001b[0m             )\u001b[39m.\u001b[39mtolist()\n\u001b[1;32m    303\u001b[0m         )\n\u001b[1;32m    305\u001b[0m \u001b[39mprint\u001b[39m(\u001b[39mf\u001b[39m\u001b[39m\"\u001b[39m\u001b[39mGenerating contact sets for \u001b[39m\u001b[39m{\u001b[39;00m\u001b[39mlen\u001b[39m(set_ids)\u001b[39m}\u001b[39;00m\u001b[39m sets...\u001b[39m\u001b[39m\"\u001b[39m)\n\u001b[0;32m--> 307\u001b[0m all_contact_sets \u001b[39m=\u001b[39m [\n\u001b[1;32m    308\u001b[0m     ContactSet(\n\u001b[1;32m    309\u001b[0m         [mode_ids_to_mode[mode_id] \u001b[39mfor\u001b[39;00m mode_id \u001b[39min\u001b[39;00m set_id],\n\u001b[1;32m    310\u001b[0m         set_force_constraints_dict[set_id],\n\u001b[1;32m    311\u001b[0m         \u001b[39mself\u001b[39m\u001b[39m.\u001b[39mvars\u001b[39m.\u001b[39mall,\n\u001b[1;32m    312\u001b[0m     )\n\u001b[1;32m    313\u001b[0m     \u001b[39mfor\u001b[39;00m set_id \u001b[39min\u001b[39;00m tqdm(set_ids)\n\u001b[1;32m    314\u001b[0m ]\n\u001b[1;32m    316\u001b[0m \u001b[39mprint\u001b[39m(\u001b[39mf\u001b[39m\u001b[39m\"\u001b[39m\u001b[39mPruning empty sets...\u001b[39m\u001b[39m\"\u001b[39m)\n\u001b[1;32m    317\u001b[0m non_empty_sets \u001b[39m=\u001b[39m [\n\u001b[1;32m    318\u001b[0m     contact_set\n\u001b[1;32m    319\u001b[0m     \u001b[39mfor\u001b[39;00m contact_set \u001b[39min\u001b[39;00m tqdm(all_contact_sets)\n\u001b[1;32m    320\u001b[0m     \u001b[39mif\u001b[39;00m \u001b[39mnot\u001b[39;00m contact_set\u001b[39m.\u001b[39mset\u001b[39m.\u001b[39mIsEmpty()\n\u001b[1;32m    321\u001b[0m ]\n",
      "File \u001b[0;32m~/Documents/Software/large_gcs/large_gcs/graph/contact_graph.py:308\u001b[0m, in \u001b[0;36m<listcomp>\u001b[0;34m(.0)\u001b[0m\n\u001b[1;32m    299\u001b[0m         set_force_constraints_dict[set_id]\u001b[39m.\u001b[39mextend(\n\u001b[1;32m    300\u001b[0m             eq(\n\u001b[1;32m    301\u001b[0m                 body_dict[body_name]\u001b[39m.\u001b[39mvars_force_res, body_force_sums[body_name]\n\u001b[1;32m    302\u001b[0m             )\u001b[39m.\u001b[39mtolist()\n\u001b[1;32m    303\u001b[0m         )\n\u001b[1;32m    305\u001b[0m \u001b[39mprint\u001b[39m(\u001b[39mf\u001b[39m\u001b[39m\"\u001b[39m\u001b[39mGenerating contact sets for \u001b[39m\u001b[39m{\u001b[39;00m\u001b[39mlen\u001b[39m(set_ids)\u001b[39m}\u001b[39;00m\u001b[39m sets...\u001b[39m\u001b[39m\"\u001b[39m)\n\u001b[1;32m    307\u001b[0m all_contact_sets \u001b[39m=\u001b[39m [\n\u001b[0;32m--> 308\u001b[0m     ContactSet(\n\u001b[1;32m    309\u001b[0m         [mode_ids_to_mode[mode_id] \u001b[39mfor\u001b[39;49;00m mode_id \u001b[39min\u001b[39;49;00m set_id],\n\u001b[1;32m    310\u001b[0m         set_force_constraints_dict[set_id],\n\u001b[1;32m    311\u001b[0m         \u001b[39mself\u001b[39;49m\u001b[39m.\u001b[39;49mvars\u001b[39m.\u001b[39;49mall,\n\u001b[1;32m    312\u001b[0m     )\n\u001b[1;32m    313\u001b[0m     \u001b[39mfor\u001b[39;00m set_id \u001b[39min\u001b[39;00m tqdm(set_ids)\n\u001b[1;32m    314\u001b[0m ]\n\u001b[1;32m    316\u001b[0m \u001b[39mprint\u001b[39m(\u001b[39mf\u001b[39m\u001b[39m\"\u001b[39m\u001b[39mPruning empty sets...\u001b[39m\u001b[39m\"\u001b[39m)\n\u001b[1;32m    317\u001b[0m non_empty_sets \u001b[39m=\u001b[39m [\n\u001b[1;32m    318\u001b[0m     contact_set\n\u001b[1;32m    319\u001b[0m     \u001b[39mfor\u001b[39;00m contact_set \u001b[39min\u001b[39;00m tqdm(all_contact_sets)\n\u001b[1;32m    320\u001b[0m     \u001b[39mif\u001b[39;00m \u001b[39mnot\u001b[39;00m contact_set\u001b[39m.\u001b[39mset\u001b[39m.\u001b[39mIsEmpty()\n\u001b[1;32m    321\u001b[0m ]\n",
      "File \u001b[0;32m~/Documents/Software/large_gcs/large_gcs/contact/contact_set.py:89\u001b[0m, in \u001b[0;36mContactSet.__init__\u001b[0;34m(self, contact_pair_modes, set_force_constraints, all_variables)\u001b[0m\n\u001b[1;32m     83\u001b[0m \u001b[39mself\u001b[39m\u001b[39m.\u001b[39mconstraint_formulas \u001b[39m=\u001b[39m [\n\u001b[1;32m     84\u001b[0m     constraint\u001b[39m.\u001b[39mitem()\n\u001b[1;32m     85\u001b[0m     \u001b[39mfor\u001b[39;00m mode \u001b[39min\u001b[39;00m contact_pair_modes\n\u001b[1;32m     86\u001b[0m     \u001b[39mfor\u001b[39;00m constraint \u001b[39min\u001b[39;00m mode\u001b[39m.\u001b[39mconstraint_formulas\n\u001b[1;32m     87\u001b[0m ]\n\u001b[1;32m     88\u001b[0m \u001b[39mself\u001b[39m\u001b[39m.\u001b[39mconstraint_formulas\u001b[39m.\u001b[39mextend(set_force_constraints)\n\u001b[0;32m---> 89\u001b[0m \u001b[39mself\u001b[39m\u001b[39m.\u001b[39m_polyhedron \u001b[39m=\u001b[39m \u001b[39mself\u001b[39;49m\u001b[39m.\u001b[39;49m_construct_polyhedron_from_constraints(\n\u001b[1;32m     90\u001b[0m     \u001b[39mself\u001b[39;49m\u001b[39m.\u001b[39;49mconstraint_formulas, all_variables\n\u001b[1;32m     91\u001b[0m )\n",
      "File \u001b[0;32m~/Documents/Software/large_gcs/large_gcs/contact/contact_set.py:138\u001b[0m, in \u001b[0;36mContactSet._construct_polyhedron_from_constraints\u001b[0;34m(self, constraints, variables, make_bounded, BOUND)\u001b[0m\n\u001b[1;32m    134\u001b[0m         \u001b[39mraise\u001b[39;00m \u001b[39mNotImplementedError\u001b[39;00m(\u001b[39m\"\u001b[39m\u001b[39mType of constraint formula not implemented\u001b[39m\u001b[39m\"\u001b[39m)\n\u001b[1;32m    136\u001b[0m \u001b[39m# We now have expr ≤ 0 for all expressions\u001b[39;00m\n\u001b[1;32m    137\u001b[0m \u001b[39m# ==> we get Ax - b ≤ 0\u001b[39;00m\n\u001b[0;32m--> 138\u001b[0m A, b_neg \u001b[39m=\u001b[39m DecomposeAffineExpressions(expressions, variables)\n\u001b[1;32m    140\u001b[0m \u001b[39m# Polyhedrons are of the form: Ax <= b\u001b[39;00m\n\u001b[1;32m    141\u001b[0m b \u001b[39m=\u001b[39m \u001b[39m-\u001b[39mb_neg\n",
      "\u001b[0;31mRuntimeError\u001b[0m: While decomposing an expression, we detects that a non-linear expression: (obj0_pos(0, 0) - obj0_pos(0, 1) + (obj0_force_res(0) * obj0_force_res_vel_slack))."
     ]
    }
   ],
   "source": [
    "ws = 3\n",
    "contact_graph = ContactGraph(\n",
    "    obs,\n",
    "    objs,\n",
    "    robs,\n",
    "    source_obj_pos,\n",
    "    source_rob_pos,\n",
    "    target_obj_pos,\n",
    "    target_rob_pos,\n",
    "    workspace=[[-ws, ws], [-ws, ws]],\n",
    ")\n",
    "\n",
    "print(contact_graph.params)"
   ]
  },
  {
   "cell_type": "code",
   "execution_count": null,
   "metadata": {},
   "outputs": [],
   "source": [
    "contact_graph.graphviz()"
   ]
  },
  {
   "cell_type": "code",
   "execution_count": null,
   "metadata": {},
   "outputs": [],
   "source": [
    "sol = contact_graph.solve(use_convex_relaxation=False)\n",
    "vertex_names, ambient_path = zip(*sol.path)\n",
    "print(vertex_names)"
   ]
  },
  {
   "cell_type": "code",
   "execution_count": null,
   "metadata": {},
   "outputs": [],
   "source": [
    "contact_sol = contact_graph.contact_spp_sol"
   ]
  },
  {
   "cell_type": "code",
   "execution_count": null,
   "metadata": {},
   "outputs": [],
   "source": [
    "contact_graph.plot_path()"
   ]
  },
  {
   "cell_type": "code",
   "execution_count": null,
   "metadata": {},
   "outputs": [],
   "source": [
    "from IPython.display import HTML\n",
    "\n",
    "anim = contact_graph.animate_solution()\n",
    "HTML(anim.to_html5_video())"
   ]
  },
  {
   "cell_type": "code",
   "execution_count": null,
   "metadata": {},
   "outputs": [],
   "source": [
    "vertex_names, ambient_path = zip(*sol.path)\n",
    "ambient_path = np.array(ambient_path)\n",
    "contact_graph.cc_factory.uv_vars_all\n",
    "for i in range(ambient_path.shape[0] - 1):\n",
    "    for constraint in contact_graph._default_costs_constraints.edge_constraints:\n",
    "        uv_vals_flattened = np.concatenate(ambient_path[i : i + 2])\n",
    "        issatisfied = constraint.CheckSatisfied(uv_vals_flattened)\n",
    "        print(f\"constraint is satisfied: {issatisfied}\")\n",
    "    # print(f\"vertex: {vertex_names[i]}\")\n",
    "    # print(f\"vertex pos: {ambient_path[i]}\")\n",
    "    # print(f\"next vertex: {vertex_names[i+1]}\")\n",
    "    # print(f\"next vertex pos: {ambient_path[i+1]}\")\n",
    "    print(\"-------------------\")"
   ]
  },
  {
   "cell_type": "code",
   "execution_count": null,
   "metadata": {},
   "outputs": [],
   "source": []
  }
 ],
 "metadata": {
  "kernelspec": {
   "display_name": ".venv",
   "language": "python",
   "name": "python3"
  },
  "language_info": {
   "codemirror_mode": {
    "name": "ipython",
    "version": 3
   },
   "file_extension": ".py",
   "mimetype": "text/x-python",
   "name": "python",
   "nbconvert_exporter": "python",
   "pygments_lexer": "ipython3",
   "version": "3.8.10"
  },
  "orig_nbformat": 4
 },
 "nbformat": 4,
 "nbformat_minor": 2
}
