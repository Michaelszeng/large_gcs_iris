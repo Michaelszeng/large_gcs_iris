{
 "cells": [
  {
   "cell_type": "code",
   "execution_count": 1,
   "metadata": {},
   "outputs": [],
   "source": [
    "from large_gcs.contact.contact_location import *\n",
    "from large_gcs.contact.contact_pair_mode import *\n",
    "from large_gcs.contact.rigid_body import *\n",
    "from large_gcs.geometry.polyhedron import Polyhedron\n",
    "from large_gcs.graph.contact_graph import ContactGraph\n",
    "import random"
   ]
  },
  {
   "cell_type": "code",
   "execution_count": 2,
   "metadata": {},
   "outputs": [
    {
     "data": {
      "image/png": "[encoded data removed]",
      "text/plain": [
       "<Figure size 640x480 with 1 Axes>"
      ]
     },
     "metadata": {},
     "output_type": "display_data"
    }
   ],
   "source": [
    "# 2 items\n",
    "# obs_vertices = [\n",
    "#     np.array([[0, 0], [1, 0], [0, -1]])\n",
    "# ]\n",
    "# obj_vertices = [\n",
    "# ]\n",
    "# rob_vertices = [\n",
    "#     np.array([[-1,-1],[-1.5,-0.5],[-1.2, -1.5]])\n",
    "# ]\n",
    "\n",
    "# # 2 movable items\n",
    "obs_vertices = []\n",
    "obj_vertices = [np.array([[0, 0], [1, 0], [1, 1], [0, 1]]) + np.array([2.5, 0.5])]\n",
    "rob_vertices = [np.array([[-1, -1], [-1.5, -0.5], [-1.2, -1.5]])]\n",
    "source_obj_pos = [[1, 1]]\n",
    "source_rob_pos = [[-1, -1]]\n",
    "target_obj_pos = [[-1, -1]]\n",
    "target_rob_pos = [[1, 1]]\n",
    "\n",
    "# 3 items\n",
    "# obs_vertices = [\n",
    "#     np.array([[0, 0], [1, 0], [0, -1]])\n",
    "# ]\n",
    "# obj_vertices = [\n",
    "#     np.array([[0, 0], [1, 0], [1, 1], [0,1]]) + np.array([2.5,0.5])\n",
    "# ]\n",
    "# rob_vertices = [\n",
    "#     np.array([[-1,-1],[-1.5,-0.5],[-1.2, -1.5]])\n",
    "# ]\n",
    "\n",
    "# # 3 boxes\n",
    "# obs_vertices = [\n",
    "#     np.array([[0, 0], [2, 0], [2, 1], [0,1]])\n",
    "# ]\n",
    "# obj_vertices = [\n",
    "#     np.array([[0, 0], [1, 0], [1, 1], [0,1]]) + np.array([2.5,0.5])\n",
    "# ]\n",
    "# rob_vertices = [\n",
    "#     np.array([[0, 0], [0.5, 0], [0.5, 0.5], [0,0.5]]) + np.array([0,-1])\n",
    "# ]\n",
    "\n",
    "# # 4 items\n",
    "# obs_vertices = [\n",
    "#     np.array([[0, 0], [1, 0], [0, -1]])\n",
    "# ]\n",
    "# obj_vertices = [\n",
    "#     np.array([[0, 0], [1, 0], [1, -0.5]]) + np.array([1.5, 0]),\n",
    "#     np.array([[0, 0], [1, 0], [1, 1], [0,1]]) + np.array([2.5,0.5])\n",
    "# ]\n",
    "# rob_vertices = [\n",
    "#     np.array([[-1,-1],[-1.5,-0.5],[-1.2, -1.5]])\n",
    "# ]\n",
    "obs = []\n",
    "objs = []\n",
    "robs = []\n",
    "for i in range(len(obs_vertices)):\n",
    "    obs.append(\n",
    "        RigidBody(\n",
    "            name=f\"obs{i}\",\n",
    "            geometry=Polyhedron.from_vertices(obs_vertices[i]),\n",
    "            mobility_type=MobilityType.STATIC,\n",
    "        )\n",
    "    )\n",
    "for i in range(len(obj_vertices)):\n",
    "    objs.append(\n",
    "        RigidBody(\n",
    "            name=f\"obj{i}\",\n",
    "            geometry=Polyhedron.from_vertices(obj_vertices[i]),\n",
    "            mobility_type=MobilityType.UNACTUATED,\n",
    "        )\n",
    "    )\n",
    "for i in range(len(rob_vertices)):\n",
    "    robs.append(\n",
    "        RigidBody(\n",
    "            name=f\"rob{i}\",\n",
    "            geometry=Polyhedron.from_vertices(rob_vertices[i]),\n",
    "            mobility_type=MobilityType.ACTUATED,\n",
    "        )\n",
    "    )\n",
    "all_rigid_bodies = obs + objs + robs\n",
    "\n",
    "for rigid_body in all_rigid_bodies:\n",
    "    rigid_body.plot()"
   ]
  },
  {
   "cell_type": "code",
   "execution_count": 3,
   "metadata": {},
   "outputs": [
    {
     "name": "stdout",
     "output_type": "stream",
     "text": [
      "Generating contact sets for 2 bodies...\n",
      "Generating contact pair modes for 1 body pairs...\n"
     ]
    },
    {
     "name": "stderr",
     "output_type": "stream",
     "text": [
      "100%|██████████| 1/1 [00:00<00:00, 45.16it/s]\n"
     ]
    },
    {
     "name": "stdout",
     "output_type": "stream",
     "text": [
      "Each body pair has on average 11.0 modes\n",
      "Generating contact sets for 11 sets...\n"
     ]
    },
    {
     "name": "stderr",
     "output_type": "stream",
     "text": [
      "100%|██████████| 11/11 [00:00<00:00, 5176.41it/s]\n"
     ]
    },
    {
     "name": "stdout",
     "output_type": "stream",
     "text": [
      "Pruning empty sets...\n"
     ]
    },
    {
     "name": "stderr",
     "output_type": "stream",
     "text": [
      "100%|██████████| 11/11 [00:00<00:00, 90.67it/s]"
     ]
    },
    {
     "name": "stdout",
     "output_type": "stream",
     "text": [
      "11 sets remain after removing 0 empty sets\n",
      "Generating edges...(parallel)\n"
     ]
    },
    {
     "name": "stderr",
     "output_type": "stream",
     "text": [
      "\n",
      "100%|██████████| 78/78 [00:02<00:00, 30.82it/s]\n"
     ]
    },
    {
     "name": "stdout",
     "output_type": "stream",
     "text": [
      "24 edges generated\n",
      "GraphParams(dim=8, n_vertices=13, n_edges=24, source=[[1, 1], [-1, -1]], target=[[-1, -1], [1, 1]], workspace=None, default_costs_constraints=DefaultGraphCostsConstraints(vertex_costs=[<pydrake.solvers.L2NormCost object at 0x186feaf30>], vertex_constraints=[], edge_costs=[], edge_constraints=[<pydrake.solvers.LinearEqualityConstraint object at 0x186ff4e30>]))\n"
     ]
    }
   ],
   "source": [
    "contact_graph = ContactGraph(\n",
    "    obs, objs, robs, source_obj_pos, source_rob_pos, target_obj_pos, target_rob_pos\n",
    ")\n",
    "\n",
    "print(contact_graph.params)"
   ]
  },
  {
   "cell_type": "code",
   "execution_count": 4,
   "metadata": {},
   "outputs": [],
   "source": [
    "sol = contact_graph.solve()"
   ]
  },
  {
   "cell_type": "code",
   "execution_count": 8,
   "metadata": {},
   "outputs": [
    {
     "name": "stdout",
     "output_type": "stream",
     "text": [
      "[('s', array([ 1.,  1.,  1.,  1., -1., -1., -1., -1.])), (\"('NC:obj0_f3-rob0_v0',)\", array([ 1.79033314,  1.26111051,  1.2105156 ,  0.68129598, -0.5566037 ,\n",
      "       -0.02738106, -1.13491185, -0.60568917])), (\"('NC:obj0_f2-rob0_v2',)\", array([-0.31811205, -1.25345105, -0.90312664, -1.83847186, -0.35702895,\n",
      "        0.57831006, -0.93533788,  0.        ])), (\"('NC:obj0_f1-rob0_v1',)\", array([-1.83176111e+00, -2.26615782e+00, -1.83847186e+00, -2.27286868e+00,\n",
      "        1.86308746e-11,  4.34396711e-01,  1.94846361e-11,  4.34396653e-01])), ('t', array([-1., -1., -1., -1.,  1.,  1.,  1.,  1.]))]\n"
     ]
    }
   ],
   "source": [
    "print(sol.path)"
   ]
  },
  {
   "cell_type": "code",
   "execution_count": null,
   "metadata": {},
   "outputs": [],
   "source": []
  }
 ],
 "metadata": {
  "kernelspec": {
   "display_name": ".venv",
   "language": "python",
   "name": "python3"
  },
  "language_info": {
   "codemirror_mode": {
    "name": "ipython",
    "version": 3
   },
   "file_extension": ".py",
   "mimetype": "text/x-python",
   "name": "python",
   "nbconvert_exporter": "python",
   "pygments_lexer": "ipython3",
   "version": "3.11.3"
  },
  "orig_nbformat": 4
 },
 "nbformat": 4,
 "nbformat_minor": 2
}
