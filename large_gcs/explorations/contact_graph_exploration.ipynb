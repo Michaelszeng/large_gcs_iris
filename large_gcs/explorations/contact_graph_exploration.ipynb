{
 "cells": [
  {
   "cell_type": "code",
   "execution_count": 1,
   "metadata": {},
   "outputs": [],
   "source": [
    "from large_gcs.contact.contact_location import *\n",
    "from large_gcs.contact.contact_pair_mode import *\n",
    "from large_gcs.contact.rigid_body import *\n",
    "from large_gcs.geometry.polyhedron import Polyhedron\n",
    "from large_gcs.graph.contact_graph import ContactGraph\n",
    "import random\n",
    "import matplotlib.pyplot as plt\n",
    "import matplotlib.cm as cm\n",
    "\n",
    "# np.set_printoptions(formatter={\"float\": lambda x: \"{0:0.3f}\".format(x)})"
   ]
  },
  {
   "cell_type": "code",
   "execution_count": 2,
   "metadata": {},
   "outputs": [
    {
     "data": {
      "image/png": "[encoded data removed]",
      "text/plain": [
       "<Figure size 640x480 with 1 Axes>"
      ]
     },
     "metadata": {},
     "output_type": "display_data"
    }
   ],
   "source": [
    "# # 2 items collision free motion planning\n",
    "# obs_vertices = [\n",
    "#     np.array([[0, 0], [1, 0], [0, -1]])\n",
    "# ]\n",
    "# obj_vertices = [\n",
    "# ]\n",
    "# rob_vertices = [\n",
    "#     np.array([[-1,-1],[-1.5,-0.5],[-1.2, -1.5]])\n",
    "# ]\n",
    "# source_obj_pos = []\n",
    "# source_rob_pos = [[-1, -1]]\n",
    "# target_obj_pos = []\n",
    "# target_rob_pos = [[2, 2]]\n",
    "\n",
    "# # 3 items triangle challenge\n",
    "obs_vertices = [[[-1, 2], [-1, -1], [2, 2]]]\n",
    "obj_vertices = [[[1, 0.5], [1, -0.5], [2, -0.5], [2, 0.5]]]\n",
    "rob_vertices = [[[3, 1.5], [3, 0], [3.5, 0]]]\n",
    "source_obj_pos = [[1.5, 0.5]]\n",
    "source_rob_pos = [[3.25, 0]]\n",
    "target_obj_pos = [[-1.5, 0]]\n",
    "target_rob_pos = [[-3, 0]]\n",
    "\n",
    "# # 2 movable items\n",
    "# obs_vertices = []\n",
    "# obj_vertices = [np.array([[0, 0], [1, 0], [1, 1], [0, 1]]) + np.array([2.5, 0.5])]\n",
    "# rob_vertices = [np.array([[-1, -1], [-1.5, -0.5], [-1.2, -1.5]])]\n",
    "# source_obj_pos = [[0, -0.5]]\n",
    "# source_rob_pos = [[-2, -2]]\n",
    "# target_obj_pos = [[1.5, 0]]\n",
    "# target_rob_pos = [[2.5, 2]]\n",
    "\n",
    "# 3 items\n",
    "# obs_vertices = [\n",
    "#     np.array([[0, 0], [1, 0], [0, -1]])\n",
    "# ]\n",
    "# obj_vertices = [\n",
    "#     np.array([[0, 0], [1, 0], [1, 1], [0,1]]) + np.array([2.5,0.5])\n",
    "# ]\n",
    "# rob_vertices = [\n",
    "#     np.array([[-1,-1],[-1.5,-0.5],[-1.2, -1.5]])\n",
    "# ]\n",
    "\n",
    "# # 3 boxes\n",
    "# obs_vertices = [\n",
    "#     np.array([[0, 0], [2, 0], [2, 1], [0,1]])\n",
    "# ]\n",
    "# obj_vertices = [\n",
    "#     np.array([[0, 0], [1, 0], [1, 1], [0,1]]) + np.array([2.5,0.5])\n",
    "# ]\n",
    "# rob_vertices = [\n",
    "#     np.array([[0, 0], [0.5, 0], [0.5, 0.5], [0,0.5]]) + np.array([0,-1])\n",
    "# ]\n",
    "\n",
    "# # 4 items\n",
    "# obs_vertices = [\n",
    "#     np.array([[0, 0], [1, 0], [0, -1]])\n",
    "# ]\n",
    "# obj_vertices = [\n",
    "#     np.array([[0, 0], [1, 0], [1, -0.5]]) + np.array([1.5, 0]),\n",
    "#     np.array([[0, 0], [1, 0], [1, 1], [0,1]]) + np.array([2.5,0.5])\n",
    "# ]\n",
    "# rob_vertices = [\n",
    "#     np.array([[-1,-1],[-1.5,-0.5],[-1.2, -1.5]])\n",
    "# ]\n",
    "obs = []\n",
    "objs = []\n",
    "robs = []\n",
    "n_pos_per_set = 2\n",
    "for i in range(len(obs_vertices)):\n",
    "    obs.append(\n",
    "        RigidBody(\n",
    "            name=f\"obs{i}\",\n",
    "            geometry=Polyhedron.from_vertices(obs_vertices[i]),\n",
    "            mobility_type=MobilityType.STATIC,\n",
    "            n_pos_points=n_pos_per_set,\n",
    "        )\n",
    "    )\n",
    "for i in range(len(obj_vertices)):\n",
    "    objs.append(\n",
    "        RigidBody(\n",
    "            name=f\"obj{i}\",\n",
    "            geometry=Polyhedron.from_vertices(obj_vertices[i]),\n",
    "            mobility_type=MobilityType.UNACTUATED,\n",
    "            n_pos_points=n_pos_per_set,\n",
    "        )\n",
    "    )\n",
    "for i in range(len(rob_vertices)):\n",
    "    robs.append(\n",
    "        RigidBody(\n",
    "            name=f\"rob{i}\",\n",
    "            geometry=Polyhedron.from_vertices(rob_vertices[i]),\n",
    "            mobility_type=MobilityType.ACTUATED,\n",
    "            n_pos_points=n_pos_per_set,\n",
    "        )\n",
    "    )\n",
    "all_rigid_bodies = obs + objs + robs\n",
    "\n",
    "# for rigid_body in all_rigid_bodies:\n",
    "#     rigid_body.plot()\n",
    "for static_body in obs:\n",
    "    static_body.plot()\n",
    "for movable_body, source_pos in zip(objs + robs, source_obj_pos + source_rob_pos):\n",
    "    movable_body.plot_at_position(source_pos, color=\"red\")\n",
    "for movable_body, target_pos in zip(objs + robs, target_obj_pos + target_rob_pos):\n",
    "    movable_body.plot_at_position(target_pos, color=\"lightgreen\")\n",
    "plt.gca().set_aspect(\"equal\")"
   ]
  },
  {
   "cell_type": "code",
   "execution_count": 3,
   "metadata": {},
   "outputs": [
    {
     "name": "stdout",
     "output_type": "stream",
     "text": [
      "Generating contact sets for 3 bodies...\n",
      "Generating contact pair modes for 3 body pairs...\n"
     ]
    },
    {
     "name": "stderr",
     "output_type": "stream",
     "text": [
      "100%|██████████| 3/3 [00:00<00:00, 57.79it/s]\n"
     ]
    },
    {
     "name": "stdout",
     "output_type": "stream",
     "text": [
      "Each body pair has on average 5.0 modes\n",
      "Generating contact sets for 81 sets...\n"
     ]
    },
    {
     "name": "stderr",
     "output_type": "stream",
     "text": [
      "100%|██████████| 81/81 [00:00<00:00, 489.97it/s]\n"
     ]
    },
    {
     "name": "stdout",
     "output_type": "stream",
     "text": [
      "Pruning empty sets...\n"
     ]
    },
    {
     "name": "stderr",
     "output_type": "stream",
     "text": [
      "100%|██████████| 81/81 [00:01<00:00, 80.96it/s] "
     ]
    },
    {
     "name": "stdout",
     "output_type": "stream",
     "text": [
      "81 sets remain after removing 0 empty sets\n",
      "Generating edges...(parallel)\n"
     ]
    },
    {
     "name": "stderr",
     "output_type": "stream",
     "text": [
      "\n",
      "100%|██████████| 3403/3403 [00:08<00:00, 406.45it/s]\n"
     ]
    },
    {
     "name": "stdout",
     "output_type": "stream",
     "text": [
      "2458 edges generated\n",
      "GraphParams(dim=24, n_vertices=83, n_edges=2458, source=[[1.5, 0.5], [3.25, 0]], target=[[-1.5, 0], [-3, 0]], workspace=[[-3.5, 3.5], [-2.5, 2.5]], default_costs_constraints=DefaultGraphCostsConstraints(vertex_costs=[<pydrake.solvers.L2NormCost object at 0x7f19d81913f0>, <pydrake.solvers.QuadraticCost object at 0x7f19ad0c4630>], vertex_constraints=[], edge_costs=[<pydrake.solvers.LinearCost object at 0x7f19af3a2030>], edge_constraints=[<pydrake.solvers.LinearEqualityConstraint object at 0x7f19acfdcaf0>]))\n"
     ]
    }
   ],
   "source": [
    "ws = 3\n",
    "contact_graph = ContactGraph(\n",
    "    obs,\n",
    "    objs,\n",
    "    robs,\n",
    "    source_obj_pos,\n",
    "    source_rob_pos,\n",
    "    target_obj_pos,\n",
    "    target_rob_pos,\n",
    "    workspace=[[-3.5, 3.5], [-2.5, 2.5]],\n",
    "    # workspace=[[-ws, ws], [-ws, ws]],\n",
    ")\n",
    "\n",
    "print(contact_graph.params)"
   ]
  },
  {
   "cell_type": "code",
   "execution_count": 4,
   "metadata": {},
   "outputs": [],
   "source": [
    "# contact_graph.graphviz()"
   ]
  },
  {
   "cell_type": "code",
   "execution_count": 5,
   "metadata": {},
   "outputs": [
    {
     "ename": "NameError",
     "evalue": "name 'sol' is not defined",
     "output_type": "error",
     "traceback": [
      "\u001b[0;31m---------------------------------------------------------------------------\u001b[0m",
      "\u001b[0;31mNameError\u001b[0m                                 Traceback (most recent call last)",
      "Cell \u001b[0;32mIn[5], line 2\u001b[0m\n\u001b[1;32m      1\u001b[0m \u001b[39m# sol = contact_graph.solve(use_convex_relaxation=False)\u001b[39;00m\n\u001b[0;32m----> 2\u001b[0m vertex_names, ambient_path \u001b[39m=\u001b[39m \u001b[39mzip\u001b[39m(\u001b[39m*\u001b[39msol\u001b[39m.\u001b[39mpath)\n\u001b[1;32m      3\u001b[0m \u001b[39mprint\u001b[39m(vertex_names)\n",
      "\u001b[0;31mNameError\u001b[0m: name 'sol' is not defined"
     ]
    }
   ],
   "source": [
    "# sol = contact_graph.solve(use_convex_relaxation=False)\n",
    "vertex_names, ambient_path = zip(*sol.path)\n",
    "print(vertex_names)"
   ]
  },
  {
   "cell_type": "code",
   "execution_count": null,
   "metadata": {},
   "outputs": [],
   "source": [
    "contact_sol = contact_graph.contact_spp_sol"
   ]
  },
  {
   "cell_type": "code",
   "execution_count": null,
   "metadata": {},
   "outputs": [],
   "source": [
    "contact_graph.plot_path()"
   ]
  },
  {
   "cell_type": "code",
   "execution_count": null,
   "metadata": {},
   "outputs": [],
   "source": [
    "from IPython.display import HTML\n",
    "\n",
    "anim = contact_graph.animate_solution()\n",
    "# save as mp4\n",
    "# anim.save(\"animation.mp4\")\n",
    "HTML(anim.to_html5_video())"
   ]
  },
  {
   "cell_type": "code",
   "execution_count": null,
   "metadata": {},
   "outputs": [],
   "source": [
    "vertex_names, ambient_path = zip(*sol.path)\n",
    "ambient_path = np.array(ambient_path)\n",
    "contact_graph.cc_factory.uv_vars_all\n",
    "for i in range(ambient_path.shape[0] - 1):\n",
    "    for constraint in contact_graph._default_costs_constraints.edge_constraints:\n",
    "        uv_vals_flattened = np.concatenate(ambient_path[i : i + 2])\n",
    "        issatisfied = constraint.CheckSatisfied(uv_vals_flattened)\n",
    "        print(f\"constraint is satisfied: {issatisfied}\")\n",
    "    # print(f\"vertex: {vertex_names[i]}\")\n",
    "    # print(f\"vertex pos: {ambient_path[i]}\")\n",
    "    # print(f\"next vertex: {vertex_names[i+1]}\")\n",
    "    # print(f\"next vertex pos: {ambient_path[i+1]}\")\n",
    "    print(\"-------------------\")"
   ]
  },
  {
   "cell_type": "code",
   "execution_count": null,
   "metadata": {},
   "outputs": [],
   "source": []
  }
 ],
 "metadata": {
  "kernelspec": {
   "display_name": ".venv",
   "language": "python",
   "name": "python3"
  },
  "language_info": {
   "codemirror_mode": {
    "name": "ipython",
    "version": 3
   },
   "file_extension": ".py",
   "mimetype": "text/x-python",
   "name": "python",
   "nbconvert_exporter": "python",
   "pygments_lexer": "ipython3",
   "version": "3.11.3"
  },
  "orig_nbformat": 4
 },
 "nbformat": 4,
 "nbformat_minor": 2
}
