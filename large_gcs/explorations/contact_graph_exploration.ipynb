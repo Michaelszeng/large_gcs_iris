{
 "cells": [
  {
   "cell_type": "code",
   "execution_count": 1,
   "metadata": {},
   "outputs": [],
   "source": [
    "from large_gcs.contact.contact_location import *\n",
    "from large_gcs.contact.contact_pair_mode import *\n",
    "from large_gcs.contact.rigid_body import *\n",
    "from large_gcs.geometry.polyhedron import Polyhedron\n",
    "from large_gcs.graph.contact_graph import ContactGraph\n",
    "import random\n",
    "import matplotlib.pyplot as plt\n",
    "import matplotlib.cm as cm"
   ]
  },
  {
   "cell_type": "code",
   "execution_count": 2,
   "metadata": {},
   "outputs": [
    {
     "data": {
      "image/png": "[encoded data removed]",
      "text/plain": [
       "<Figure size 640x480 with 1 Axes>"
      ]
     },
     "metadata": {},
     "output_type": "display_data"
    }
   ],
   "source": [
    "# 2 items\n",
    "# obs_vertices = [\n",
    "#     np.array([[0, 0], [1, 0], [0, -1]])\n",
    "# ]\n",
    "# obj_vertices = [\n",
    "# ]\n",
    "# rob_vertices = [\n",
    "#     np.array([[-1,-1],[-1.5,-0.5],[-1.2, -1.5]])\n",
    "# ]\n",
    "\n",
    "# # 2 movable items\n",
    "obs_vertices = []\n",
    "obj_vertices = [np.array([[0, 0], [1, 0], [1, 1], [0, 1]]) + np.array([2.5, 0.5])]\n",
    "rob_vertices = [np.array([[-1, -1], [-1.5, -0.5], [-1.2, -1.5]])]\n",
    "source_obj_pos = [[1, 1]]\n",
    "source_rob_pos = [[-1, -1]]\n",
    "target_obj_pos = [[-1, -1]]\n",
    "target_rob_pos = [[1, 1]]\n",
    "\n",
    "# 3 items\n",
    "# obs_vertices = [\n",
    "#     np.array([[0, 0], [1, 0], [0, -1]])\n",
    "# ]\n",
    "# obj_vertices = [\n",
    "#     np.array([[0, 0], [1, 0], [1, 1], [0,1]]) + np.array([2.5,0.5])\n",
    "# ]\n",
    "# rob_vertices = [\n",
    "#     np.array([[-1,-1],[-1.5,-0.5],[-1.2, -1.5]])\n",
    "# ]\n",
    "\n",
    "# # 3 boxes\n",
    "# obs_vertices = [\n",
    "#     np.array([[0, 0], [2, 0], [2, 1], [0,1]])\n",
    "# ]\n",
    "# obj_vertices = [\n",
    "#     np.array([[0, 0], [1, 0], [1, 1], [0,1]]) + np.array([2.5,0.5])\n",
    "# ]\n",
    "# rob_vertices = [\n",
    "#     np.array([[0, 0], [0.5, 0], [0.5, 0.5], [0,0.5]]) + np.array([0,-1])\n",
    "# ]\n",
    "\n",
    "# # 4 items\n",
    "# obs_vertices = [\n",
    "#     np.array([[0, 0], [1, 0], [0, -1]])\n",
    "# ]\n",
    "# obj_vertices = [\n",
    "#     np.array([[0, 0], [1, 0], [1, -0.5]]) + np.array([1.5, 0]),\n",
    "#     np.array([[0, 0], [1, 0], [1, 1], [0,1]]) + np.array([2.5,0.5])\n",
    "# ]\n",
    "# rob_vertices = [\n",
    "#     np.array([[-1,-1],[-1.5,-0.5],[-1.2, -1.5]])\n",
    "# ]\n",
    "obs = []\n",
    "objs = []\n",
    "robs = []\n",
    "n_pos_per_set = 10\n",
    "for i in range(len(obs_vertices)):\n",
    "    obs.append(\n",
    "        RigidBody(\n",
    "            name=f\"obs{i}\",\n",
    "            geometry=Polyhedron.from_vertices(obs_vertices[i]),\n",
    "            mobility_type=MobilityType.STATIC,\n",
    "            n_pos_points=n_pos_per_set,\n",
    "        )\n",
    "    )\n",
    "for i in range(len(obj_vertices)):\n",
    "    objs.append(\n",
    "        RigidBody(\n",
    "            name=f\"obj{i}\",\n",
    "            geometry=Polyhedron.from_vertices(obj_vertices[i]),\n",
    "            mobility_type=MobilityType.UNACTUATED,\n",
    "            n_pos_points=n_pos_per_set,\n",
    "        )\n",
    "    )\n",
    "for i in range(len(rob_vertices)):\n",
    "    robs.append(\n",
    "        RigidBody(\n",
    "            name=f\"rob{i}\",\n",
    "            geometry=Polyhedron.from_vertices(rob_vertices[i]),\n",
    "            mobility_type=MobilityType.ACTUATED,\n",
    "            n_pos_points=n_pos_per_set,\n",
    "        )\n",
    "    )\n",
    "all_rigid_bodies = obs + objs + robs\n",
    "\n",
    "for rigid_body in all_rigid_bodies:\n",
    "    rigid_body.plot()"
   ]
  },
  {
   "cell_type": "code",
   "execution_count": 3,
   "metadata": {},
   "outputs": [
    {
     "name": "stdout",
     "output_type": "stream",
     "text": [
      "vars_pos shape (2, 2, 10)\n",
      "[[[Variable('obj0_pos(0, 0)', Continuous)\n",
      "   Variable('obj0_pos(0, 1)', Continuous)\n",
      "   Variable('obj0_pos(0, 2)', Continuous)\n",
      "   Variable('obj0_pos(0, 3)', Continuous)\n",
      "   Variable('obj0_pos(0, 4)', Continuous)\n",
      "   Variable('obj0_pos(0, 5)', Continuous)\n",
      "   Variable('obj0_pos(0, 6)', Continuous)\n",
      "   Variable('obj0_pos(0, 7)', Continuous)\n",
      "   Variable('obj0_pos(0, 8)', Continuous)\n",
      "   Variable('obj0_pos(0, 9)', Continuous)]\n",
      "  [Variable('obj0_pos(1, 0)', Continuous)\n",
      "   Variable('obj0_pos(1, 1)', Continuous)\n",
      "   Variable('obj0_pos(1, 2)', Continuous)\n",
      "   Variable('obj0_pos(1, 3)', Continuous)\n",
      "   Variable('obj0_pos(1, 4)', Continuous)\n",
      "   Variable('obj0_pos(1, 5)', Continuous)\n",
      "   Variable('obj0_pos(1, 6)', Continuous)\n",
      "   Variable('obj0_pos(1, 7)', Continuous)\n",
      "   Variable('obj0_pos(1, 8)', Continuous)\n",
      "   Variable('obj0_pos(1, 9)', Continuous)]]\n",
      "\n",
      " [[Variable('rob0_pos(0, 0)', Continuous)\n",
      "   Variable('rob0_pos(0, 1)', Continuous)\n",
      "   Variable('rob0_pos(0, 2)', Continuous)\n",
      "   Variable('rob0_pos(0, 3)', Continuous)\n",
      "   Variable('rob0_pos(0, 4)', Continuous)\n",
      "   Variable('rob0_pos(0, 5)', Continuous)\n",
      "   Variable('rob0_pos(0, 6)', Continuous)\n",
      "   Variable('rob0_pos(0, 7)', Continuous)\n",
      "   Variable('rob0_pos(0, 8)', Continuous)\n",
      "   Variable('rob0_pos(0, 9)', Continuous)]\n",
      "  [Variable('rob0_pos(1, 0)', Continuous)\n",
      "   Variable('rob0_pos(1, 1)', Continuous)\n",
      "   Variable('rob0_pos(1, 2)', Continuous)\n",
      "   Variable('rob0_pos(1, 3)', Continuous)\n",
      "   Variable('rob0_pos(1, 4)', Continuous)\n",
      "   Variable('rob0_pos(1, 5)', Continuous)\n",
      "   Variable('rob0_pos(1, 6)', Continuous)\n",
      "   Variable('rob0_pos(1, 7)', Continuous)\n",
      "   Variable('rob0_pos(1, 8)', Continuous)\n",
      "   Variable('rob0_pos(1, 9)', Continuous)]]]\n",
      "vars_all shape (40,)\n",
      "[Variable('obj0_pos(0, 0)', Continuous)\n",
      " Variable('obj0_pos(0, 1)', Continuous)\n",
      " Variable('obj0_pos(0, 2)', Continuous)\n",
      " Variable('obj0_pos(0, 3)', Continuous)\n",
      " Variable('obj0_pos(0, 4)', Continuous)\n",
      " Variable('obj0_pos(0, 5)', Continuous)\n",
      " Variable('obj0_pos(0, 6)', Continuous)\n",
      " Variable('obj0_pos(0, 7)', Continuous)\n",
      " Variable('obj0_pos(0, 8)', Continuous)\n",
      " Variable('obj0_pos(0, 9)', Continuous)\n",
      " Variable('obj0_pos(1, 0)', Continuous)\n",
      " Variable('obj0_pos(1, 1)', Continuous)\n",
      " Variable('obj0_pos(1, 2)', Continuous)\n",
      " Variable('obj0_pos(1, 3)', Continuous)\n",
      " Variable('obj0_pos(1, 4)', Continuous)\n",
      " Variable('obj0_pos(1, 5)', Continuous)\n",
      " Variable('obj0_pos(1, 6)', Continuous)\n",
      " Variable('obj0_pos(1, 7)', Continuous)\n",
      " Variable('obj0_pos(1, 8)', Continuous)\n",
      " Variable('obj0_pos(1, 9)', Continuous)\n",
      " Variable('rob0_pos(0, 0)', Continuous)\n",
      " Variable('rob0_pos(0, 1)', Continuous)\n",
      " Variable('rob0_pos(0, 2)', Continuous)\n",
      " Variable('rob0_pos(0, 3)', Continuous)\n",
      " Variable('rob0_pos(0, 4)', Continuous)\n",
      " Variable('rob0_pos(0, 5)', Continuous)\n",
      " Variable('rob0_pos(0, 6)', Continuous)\n",
      " Variable('rob0_pos(0, 7)', Continuous)\n",
      " Variable('rob0_pos(0, 8)', Continuous)\n",
      " Variable('rob0_pos(0, 9)', Continuous)\n",
      " Variable('rob0_pos(1, 0)', Continuous)\n",
      " Variable('rob0_pos(1, 1)', Continuous)\n",
      " Variable('rob0_pos(1, 2)', Continuous)\n",
      " Variable('rob0_pos(1, 3)', Continuous)\n",
      " Variable('rob0_pos(1, 4)', Continuous)\n",
      " Variable('rob0_pos(1, 5)', Continuous)\n",
      " Variable('rob0_pos(1, 6)', Continuous)\n",
      " Variable('rob0_pos(1, 7)', Continuous)\n",
      " Variable('rob0_pos(1, 8)', Continuous)\n",
      " Variable('rob0_pos(1, 9)', Continuous)]\n",
      "Generating contact sets for 2 bodies...\n",
      "Generating contact pair modes for 1 body pairs...\n"
     ]
    },
    {
     "name": "stderr",
     "output_type": "stream",
     "text": [
      "  0%|          | 0/1 [00:00<?, ?it/s]"
     ]
    },
    {
     "name": "stderr",
     "output_type": "stream",
     "text": [
      "100%|██████████| 1/1 [00:00<00:00, 11.54it/s]\n"
     ]
    },
    {
     "name": "stdout",
     "output_type": "stream",
     "text": [
      "Each body pair has on average 11.0 modes\n",
      "Generating contact sets for 11 sets...\n"
     ]
    },
    {
     "name": "stderr",
     "output_type": "stream",
     "text": [
      "100%|██████████| 11/11 [00:00<00:00, 656.75it/s]\n"
     ]
    },
    {
     "name": "stdout",
     "output_type": "stream",
     "text": [
      "Pruning empty sets...\n"
     ]
    },
    {
     "name": "stderr",
     "output_type": "stream",
     "text": [
      "100%|██████████| 11/11 [00:00<00:00, 96.23it/s]"
     ]
    },
    {
     "name": "stdout",
     "output_type": "stream",
     "text": [
      "11 sets remain after removing 0 empty sets\n",
      "exprs: [[<Expression \"(u_obj0_pos(0, 9) - v_obj0_pos(0, 0))\">]\n",
      " [<Expression \"(u_obj0_pos(1, 9) - v_obj0_pos(1, 0))\">]\n",
      " [<Expression \"(u_rob0_pos(0, 9) - v_rob0_pos(0, 0))\">]\n",
      " [<Expression \"(u_rob0_pos(1, 9) - v_rob0_pos(1, 0))\">]]\n",
      "exprs: [<Expression \"(u_obj0_pos(0, 9) - v_obj0_pos(0, 0))\">]\n",
      "Affine A: [[ 0.  0.  0.  0.  0.  0.  0.  0.  0.  1.  0.  0.  0.  0.  0.  0.  0.  0.\n",
      "   0.  0.  0.  0.  0.  0.  0.  0.  0.  0.  0.  0.  0.  0.  0.  0.  0.  0.\n",
      "   0.  0.  0.  0. -1.  0.  0.  0.  0.  0.  0.  0.  0.  0.  0.  0.  0.  0.\n",
      "   0.  0.  0.  0.  0.  0.  0.  0.  0.  0.  0.  0.  0.  0.  0.  0.  0.  0.\n",
      "   0.  0.  0.  0.  0.  0.  0.  0.]]\n",
      "b: [0.]\n",
      "exprs: [<Expression \"(u_obj0_pos(1, 9) - v_obj0_pos(1, 0))\">]\n",
      "Affine A: [[ 0.  0.  0.  0.  0.  0.  0.  0.  0.  0.  0.  0.  0.  0.  0.  0.  0.  0.\n",
      "   0.  1.  0.  0.  0.  0.  0.  0.  0.  0.  0.  0.  0.  0.  0.  0.  0.  0.\n",
      "   0.  0.  0.  0.  0.  0.  0.  0.  0.  0.  0.  0.  0.  0. -1.  0.  0.  0.\n",
      "   0.  0.  0.  0.  0.  0.  0.  0.  0.  0.  0.  0.  0.  0.  0.  0.  0.  0.\n",
      "   0.  0.  0.  0.  0.  0.  0.  0.]]\n",
      "b: [0.]\n",
      "exprs: [<Expression \"(u_rob0_pos(0, 9) - v_rob0_pos(0, 0))\">]\n",
      "Affine A: [[ 0.  0.  0.  0.  0.  0.  0.  0.  0.  0.  0.  0.  0.  0.  0.  0.  0.  0.\n",
      "   0.  0.  0.  0.  0.  0.  0.  0.  0.  0.  0.  1.  0.  0.  0.  0.  0.  0.\n",
      "   0.  0.  0.  0.  0.  0.  0.  0.  0.  0.  0.  0.  0.  0.  0.  0.  0.  0.\n",
      "   0.  0.  0.  0.  0.  0. -1.  0.  0.  0.  0.  0.  0.  0.  0.  0.  0.  0.\n",
      "   0.  0.  0.  0.  0.  0.  0.  0.]]\n",
      "b: [0.]\n",
      "exprs: [<Expression \"(u_rob0_pos(1, 9) - v_rob0_pos(1, 0))\">]\n",
      "Affine A: [[ 0.  0.  0.  0.  0.  0.  0.  0.  0.  0.  0.  0.  0.  0.  0.  0.  0.  0.\n",
      "   0.  0.  0.  0.  0.  0.  0.  0.  0.  0.  0.  0.  0.  0.  0.  0.  0.  0.\n",
      "   0.  0.  0.  1.  0.  0.  0.  0.  0.  0.  0.  0.  0.  0.  0.  0.  0.  0.\n",
      "   0.  0.  0.  0.  0.  0.  0.  0.  0.  0.  0.  0.  0.  0.  0.  0. -1.  0.\n",
      "   0.  0.  0.  0.  0.  0.  0.  0.]]\n",
      "b: [0.]\n",
      "constraints: [<pydrake.solvers.LinearEqualityConstraint object at 0x186fda130>, <pydrake.solvers.LinearEqualityConstraint object at 0x131ffa870>, <pydrake.solvers.LinearEqualityConstraint object at 0x186ffaa70>, <pydrake.solvers.LinearEqualityConstraint object at 0x186ffab70>]\n",
      "Generating edges...(parallel)\n"
     ]
    },
    {
     "name": "stderr",
     "output_type": "stream",
     "text": [
      "\n",
      "100%|██████████| 78/78 [00:02<00:00, 29.04it/s]\n"
     ]
    },
    {
     "name": "stdout",
     "output_type": "stream",
     "text": [
      "24 edges generated\n",
      "GraphParams(dim=40, n_vertices=13, n_edges=24, source=[[1, 1], [-1, -1]], target=[[-1, -1], [1, 1]], workspace=None, default_costs_constraints=DefaultGraphCostsConstraints(vertex_costs=[<pydrake.solvers.L2NormCost object at 0x11e75a570>], vertex_constraints=[], edge_costs=[<pydrake.solvers.LinearCost object at 0x186f720f0>], edge_constraints=[<pydrake.solvers.LinearEqualityConstraint object at 0x186fda130>, <pydrake.solvers.LinearEqualityConstraint object at 0x131ffa870>, <pydrake.solvers.LinearEqualityConstraint object at 0x186ffaa70>, <pydrake.solvers.LinearEqualityConstraint object at 0x186ffab70>]))\n"
     ]
    }
   ],
   "source": [
    "contact_graph = ContactGraph(\n",
    "    obs, objs, robs, source_obj_pos, source_rob_pos, target_obj_pos, target_rob_pos\n",
    ")\n",
    "\n",
    "print(contact_graph.params)"
   ]
  },
  {
   "cell_type": "code",
   "execution_count": 4,
   "metadata": {},
   "outputs": [
    {
     "name": "stdout",
     "output_type": "stream",
     "text": [
      "Post solve hook called...\n",
      "ambient path: [[ 1.          1.          1.          1.          1.          1.\n",
      "   1.          1.          1.          1.          1.          1.\n",
      "   1.          1.          1.          1.          1.          1.\n",
      "   1.          1.         -1.         -1.         -1.         -1.\n",
      "  -1.         -1.         -1.         -1.         -1.         -1.\n",
      "  -1.         -1.         -1.         -1.         -1.         -1.\n",
      "  -1.         -1.         -1.         -1.        ]\n",
      " [ 2.9444874   2.83806563  2.73164407  2.62522219  2.51879996  2.41237794\n",
      "   2.30595569  2.1995334   2.09311129  1.98668961  0.9439414   0.83752022\n",
      "   0.73109905  0.62467787  0.5182567   0.41183553  0.30541435  0.19899318\n",
      "   0.092572   -0.01384917 -0.59130798 -0.48488615 -0.37846455 -0.27204261\n",
      "  -0.16562034 -0.05919826  0.04722403  0.15364637  0.26006853  0.3664903\n",
      "  -0.75674609 -0.65032494 -0.5439038  -0.43748266 -0.33106152 -0.22464038\n",
      "  -0.11821924 -0.01179809  0.09462305  0.20104419]\n",
      " [ 0.23135105  0.17714163  0.12293222  0.0687228   0.01451338 -0.03969603\n",
      "  -0.09390545 -0.14811486 -0.20232428 -0.2565337  -1.06958915 -1.12379915\n",
      "  -1.17800936 -1.23221942 -1.28642931 -1.34063924 -1.39484913 -1.44905904\n",
      "  -1.5032686  -1.55747793  0.193406    0.24761544  0.30182488  0.35603433\n",
      "   0.41024377  0.46445321  0.51866266  0.5728721   0.62708154  0.68129098\n",
      "   1.15371431  1.20792432  1.26213454  1.31634461  1.3705545   1.42476444\n",
      "   1.47897433  1.53318421  1.58739376  1.64160307]\n",
      " [-1.         -1.         -1.         -1.         -1.         -1.\n",
      "  -1.         -1.         -1.         -1.         -1.         -1.\n",
      "  -1.         -1.         -1.         -1.         -1.         -1.\n",
      "  -1.         -1.          1.          1.          1.          1.\n",
      "   1.          1.          1.          1.          1.          1.\n",
      "   1.          1.          1.          1.          1.          1.\n",
      "   1.          1.          1.          1.        ]]\n"
     ]
    }
   ],
   "source": [
    "sol = contact_graph.solve()"
   ]
  },
  {
   "cell_type": "code",
   "execution_count": 5,
   "metadata": {},
   "outputs": [],
   "source": [
    "contact_sol = contact_graph.contact_spp_sol\n",
    "# print(contact_sol)"
   ]
  },
  {
   "cell_type": "code",
   "execution_count": 6,
   "metadata": {},
   "outputs": [],
   "source": [
    "def plot_path(sol):\n",
    "    n_time_steps = sol.object_pos_trajectories.shape[2]\n",
    "\n",
    "    for j in range(n_time_steps):\n",
    "        plt.figure()\n",
    "        # Plot object trajectories\n",
    "        for i in range(sol.object_pos_trajectories.shape[0]):\n",
    "            contact_graph.objects[i].plot_at_position(\n",
    "                sol.object_pos_trajectories[i, :, j]\n",
    "            )\n",
    "        for i in range(sol.robot_pos_trajectories.shape[0]):\n",
    "            contact_graph.robots[i].plot_at_position(\n",
    "                sol.robot_pos_trajectories[i, :, j]\n",
    "            )\n",
    "        # Show the plot\n",
    "        plt.axis(\"equal\")\n",
    "        plt.xlim(-5, 5)\n",
    "        plt.ylim(-5, 5)\n",
    "\n",
    "        plt.grid()\n",
    "        plt.show()\n",
    "\n",
    "\n",
    "# plot_path(contact_sol)"
   ]
  },
  {
   "cell_type": "code",
   "execution_count": 7,
   "metadata": {},
   "outputs": [
    {
     "data": {
      "image/png": "[encoded data removed]",
      "text/plain": [
       "<Figure size 640x480 with 2 Axes>"
      ]
     },
     "metadata": {},
     "output_type": "display_data"
    },
    {
     "data": {
      "image/png": "[encoded data removed]",
      "text/plain": [
       "<Figure size 640x480 with 2 Axes>"
      ]
     },
     "metadata": {},
     "output_type": "display_data"
    }
   ],
   "source": [
    "contact_graph.plot_path()"
   ]
  },
  {
   "cell_type": "code",
   "execution_count": 8,
   "metadata": {},
   "outputs": [
    {
     "name": "stdout",
     "output_type": "stream",
     "text": [
      "-----\n",
      "object [1. 1.] robot [-1. -1.]\n",
      "object [1. 1.] robot [-1. -1.]\n",
      "object [1. 1.] robot [-1. -1.]\n",
      "object [1. 1.] robot [-1. -1.]\n",
      "object [1. 1.] robot [-1. -1.]\n",
      "object [1. 1.] robot [-1. -1.]\n",
      "object [1. 1.] robot [-1. -1.]\n",
      "object [1. 1.] robot [-1. -1.]\n",
      "object [1. 1.] robot [-1. -1.]\n",
      "object [1. 1.] robot [-1. -1.]\n",
      "-----\n",
      "object [2.9444874 0.9439414] robot [-0.59130798 -0.75674609]\n",
      "object [2.83806563 0.83752022] robot [-0.48488615 -0.65032494]\n",
      "object [2.73164407 0.73109905] robot [-0.37846455 -0.5439038 ]\n",
      "object [2.62522219 0.62467787] robot [-0.27204261 -0.43748266]\n",
      "object [2.51879996 0.5182567 ] robot [-0.16562034 -0.33106152]\n",
      "object [2.41237794 0.41183553] robot [-0.05919826 -0.22464038]\n",
      "object [2.30595569 0.30541435] robot [ 0.04722403 -0.11821924]\n",
      "object [2.1995334  0.19899318] robot [ 0.15364637 -0.01179809]\n",
      "object [2.09311129 0.092572  ] robot [0.26006853 0.09462305]\n",
      "object [ 1.98668961 -0.01384917] robot [0.3664903  0.20104419]\n",
      "-----\n",
      "object [ 0.23135105 -1.06958915] robot [0.193406   1.15371431]\n",
      "object [ 0.17714163 -1.12379915] robot [0.24761544 1.20792432]\n",
      "object [ 0.12293222 -1.17800936] robot [0.30182488 1.26213454]\n",
      "object [ 0.0687228  -1.23221942] robot [0.35603433 1.31634461]\n",
      "object [ 0.01451338 -1.28642931] robot [0.41024377 1.3705545 ]\n",
      "object [-0.03969603 -1.34063924] robot [0.46445321 1.42476444]\n",
      "object [-0.09390545 -1.39484913] robot [0.51866266 1.47897433]\n",
      "object [-0.14811486 -1.44905904] robot [0.5728721  1.53318421]\n",
      "object [-0.20232428 -1.5032686 ] robot [0.62708154 1.58739376]\n",
      "object [-0.2565337  -1.55747793] robot [0.68129098 1.64160307]\n",
      "-----\n",
      "object [-1. -1.] robot [1. 1.]\n",
      "object [-1. -1.] robot [1. 1.]\n",
      "object [-1. -1.] robot [1. 1.]\n",
      "object [-1. -1.] robot [1. 1.]\n",
      "object [-1. -1.] robot [1. 1.]\n",
      "object [-1. -1.] robot [1. 1.]\n",
      "object [-1. -1.] robot [1. 1.]\n",
      "object [-1. -1.] robot [1. 1.]\n",
      "object [-1. -1.] robot [1. 1.]\n",
      "object [-1. -1.] robot [1. 1.]\n"
     ]
    }
   ],
   "source": [
    "for i in range(contact_sol.object_pos_trajectories.shape[2]):\n",
    "    if i % n_pos_per_set == 0:\n",
    "        print(\"-----\")\n",
    "    print(\n",
    "        \"object\",\n",
    "        contact_sol.object_pos_trajectories[0, :, i],\n",
    "        \"robot\",\n",
    "        contact_sol.robot_pos_trajectories[0, :, i],\n",
    "    )\n",
    "\n",
    "    # print(f\"last of set: {contact_sol.object_pos_trajectories[0, :, (i*n_pos_per_set)-1]}\")\n",
    "    # print(f\"first of set: {contact_sol.object_pos_trajectories[0, :, i*n_pos_per_set]}\")"
   ]
  },
  {
   "cell_type": "code",
   "execution_count": null,
   "metadata": {},
   "outputs": [],
   "source": []
  }
 ],
 "metadata": {
  "kernelspec": {
   "display_name": ".venv",
   "language": "python",
   "name": "python3"
  },
  "language_info": {
   "codemirror_mode": {
    "name": "ipython",
    "version": 3
   },
   "file_extension": ".py",
   "mimetype": "text/x-python",
   "name": "python",
   "nbconvert_exporter": "python",
   "pygments_lexer": "ipython3",
   "version": "3.11.3"
  },
  "orig_nbformat": 4
 },
 "nbformat": 4,
 "nbformat_minor": 2
}
