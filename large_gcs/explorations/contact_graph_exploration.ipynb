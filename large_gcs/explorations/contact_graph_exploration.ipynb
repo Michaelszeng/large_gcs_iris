{
 "cells": [
  {
   "cell_type": "code",
   "execution_count": 1,
   "metadata": {},
   "outputs": [],
   "source": [
    "from large_gcs.contact.contact_location import *\n",
    "from large_gcs.contact.contact_pair_mode import *\n",
    "from large_gcs.contact.rigid_body import *\n",
    "from large_gcs.geometry.polyhedron import Polyhedron\n",
    "from large_gcs.graph.contact_graph import ContactGraph\n",
    "import random\n",
    "import matplotlib.pyplot as plt\n",
    "import matplotlib.cm as cm\n",
    "\n",
    "# np.set_printoptions(formatter={\"float\": lambda x: \"{0:0.3f}\".format(x)})"
   ]
  },
  {
   "cell_type": "code",
   "execution_count": 2,
   "metadata": {},
   "outputs": [
    {
     "data": {
      "image/png": "[encoded data removed]",
      "text/plain": [
       "<Figure size 640x480 with 1 Axes>"
      ]
     },
     "metadata": {},
     "output_type": "display_data"
    }
   ],
   "source": [
    "# # 2 items collision free motion planning\n",
    "# obs_vertices = [np.array([[0, 0], [1, 0], [0, -1]])]\n",
    "# obj_vertices = []\n",
    "# rob_vertices = [np.array([[-1, -1], [-1.5, -0.5], [-1.2, -1.5]])]\n",
    "# source_obj_pos = []\n",
    "# source_rob_pos = [[-1, -1]]\n",
    "# target_obj_pos = []\n",
    "# target_rob_pos = [[2, 2]]\n",
    "\n",
    "# # 3 items triangle challenge\n",
    "obs_vertices = [[[-1, 2], [-1, -1], [2, 2]]]\n",
    "obj_vertices = [[[1, 0.5], [1, -0.5], [2, -0.5], [2, 0.5]]]\n",
    "rob_vertices = [[[3, 3], [3, 0], [3.5, 0]]]\n",
    "source_obj_pos = [[1.5, 0.5]]\n",
    "source_rob_pos = [[3.25, 0]]\n",
    "target_obj_pos = [[-1.5, 0]]\n",
    "target_rob_pos = [[-3, 0]]\n",
    "\n",
    "\n",
    "# # 2 movable items\n",
    "# obs_vertices = []\n",
    "# obj_vertices = [np.array([[0, 0], [1, 0], [1, 1], [0, 1]]) + np.array([2.5, 0.5])]\n",
    "# rob_vertices = [np.array([[-1, -1], [-1.5, -0.5], [-1.2, -1.5]])]\n",
    "# source_obj_pos = [[0, -0.5]]\n",
    "# source_rob_pos = [[-2, -2]]\n",
    "# target_obj_pos = [[1.5, 0]]\n",
    "# target_rob_pos = [[2.5, 2]]\n",
    "\n",
    "# 3 items\n",
    "# obs_vertices = [\n",
    "#     np.array([[0, 0], [1, 0], [0, -1]])\n",
    "# ]\n",
    "# obj_vertices = [\n",
    "#     np.array([[0, 0], [1, 0], [1, 1], [0,1]]) + np.array([2.5,0.5])\n",
    "# ]\n",
    "# rob_vertices = [\n",
    "#     np.array([[-1,-1],[-1.5,-0.5],[-1.2, -1.5]])\n",
    "# ]\n",
    "\n",
    "# # 3 boxes\n",
    "# obs_vertices = [\n",
    "#     np.array([[0, 0], [2, 0], [2, 1], [0,1]])\n",
    "# ]\n",
    "# obj_vertices = [\n",
    "#     np.array([[0, 0], [1, 0], [1, 1], [0,1]]) + np.array([2.5,0.5])\n",
    "# ]\n",
    "# rob_vertices = [\n",
    "#     np.array([[0, 0], [0.5, 0], [0.5, 0.5], [0,0.5]]) + np.array([0,-1])\n",
    "# ]\n",
    "\n",
    "# # 4 items\n",
    "# obs_vertices = [\n",
    "#     np.array([[0, 0], [1, 0], [0, -1]])\n",
    "# ]\n",
    "# obj_vertices = [\n",
    "#     np.array([[0, 0], [1, 0], [1, -0.5]]) + np.array([1.5, 0]),\n",
    "#     np.array([[0, 0], [1, 0], [1, 1], [0,1]]) + np.array([2.5,0.5])\n",
    "# ]\n",
    "# rob_vertices = [\n",
    "#     np.array([[-1,-1],[-1.5,-0.5],[-1.2, -1.5]])\n",
    "# ]\n",
    "obs = []\n",
    "objs = []\n",
    "robs = []\n",
    "n_pos_per_set = 3\n",
    "for i in range(len(obs_vertices)):\n",
    "    obs.append(\n",
    "        RigidBody(\n",
    "            name=f\"obs{i}\",\n",
    "            geometry=Polyhedron.from_vertices(obs_vertices[i]),\n",
    "            mobility_type=MobilityType.STATIC,\n",
    "            n_pos_points=n_pos_per_set,\n",
    "        )\n",
    "    )\n",
    "for i in range(len(obj_vertices)):\n",
    "    objs.append(\n",
    "        RigidBody(\n",
    "            name=f\"obj{i}\",\n",
    "            geometry=Polyhedron.from_vertices(obj_vertices[i]),\n",
    "            mobility_type=MobilityType.UNACTUATED,\n",
    "            n_pos_points=n_pos_per_set,\n",
    "        )\n",
    "    )\n",
    "for i in range(len(rob_vertices)):\n",
    "    robs.append(\n",
    "        RigidBody(\n",
    "            name=f\"rob{i}\",\n",
    "            geometry=Polyhedron.from_vertices(rob_vertices[i]),\n",
    "            mobility_type=MobilityType.ACTUATED,\n",
    "            n_pos_points=n_pos_per_set,\n",
    "        )\n",
    "    )\n",
    "all_rigid_bodies = obs + objs + robs\n",
    "\n",
    "# for rigid_body in all_rigid_bodies:\n",
    "#     rigid_body.plot()\n",
    "for static_body in obs:\n",
    "    static_body.plot()\n",
    "for movable_body, source_pos in zip(objs + robs, source_obj_pos + source_rob_pos):\n",
    "    movable_body.plot_at_position(source_pos, color=\"red\")\n",
    "for movable_body, target_pos in zip(objs + robs, target_obj_pos + target_rob_pos):\n",
    "    movable_body.plot_at_position(target_pos, color=\"lightgreen\")\n",
    "plt.gca().set_aspect(\"equal\")"
   ]
  },
  {
   "cell_type": "code",
   "execution_count": 3,
   "metadata": {},
   "outputs": [
    {
     "data": {
      "image/png": "[encoded data removed]",
      "text/plain": [
       "<Figure size 640x480 with 1 Axes>"
      ]
     },
     "metadata": {},
     "output_type": "display_data"
    }
   ],
   "source": [
    "robs[0].plot()"
   ]
  },
  {
   "cell_type": "code",
   "execution_count": 4,
   "metadata": {},
   "outputs": [
    {
     "name": "stdout",
     "output_type": "stream",
     "text": [
      "Generating contact sets for 3 bodies...\n",
      "Generating contact pair modes for 3 body pairs...\n"
     ]
    },
    {
     "name": "stderr",
     "output_type": "stream",
     "text": [
      "100%|██████████| 3/3 [00:00<00:00, 59.99it/s]\n"
     ]
    },
    {
     "name": "stdout",
     "output_type": "stream",
     "text": [
      "Each body pair has on average 5.0 modes\n",
      "Generating contact sets for 81 sets...\n"
     ]
    },
    {
     "name": "stderr",
     "output_type": "stream",
     "text": [
      "100%|██████████| 81/81 [00:00<00:00, 728.24it/s]\n"
     ]
    },
    {
     "name": "stdout",
     "output_type": "stream",
     "text": [
      "Pruning empty sets...\n"
     ]
    },
    {
     "name": "stderr",
     "output_type": "stream",
     "text": [
      "100%|██████████| 81/81 [00:00<00:00, 111.81it/s]\n"
     ]
    },
    {
     "name": "stdout",
     "output_type": "stream",
     "text": [
      "81 sets remain after removing 0 empty sets\n",
      "Removing sets matching regex pattern obs0_f1|rob0_f2\n"
     ]
    },
    {
     "name": "stderr",
     "output_type": "stream",
     "text": [
      "100%|██████████| 81/81 [00:00<00:00, 84072.91it/s]"
     ]
    },
    {
     "name": "stdout",
     "output_type": "stream",
     "text": [
      "28 sets remain after removing excluded sets\n",
      "Generating edges...(parallel)\n"
     ]
    },
    {
     "name": "stderr",
     "output_type": "stream",
     "text": [
      "\n",
      "100%|██████████| 435/435 [00:01<00:00, 353.39it/s]\n"
     ]
    },
    {
     "name": "stdout",
     "output_type": "stream",
     "text": [
      "472 edges generated\n",
      "GraphParams(dim_bounds=(4, 16), n_vertices=30, n_edges=472, source=[[1.5, 0.5], [3.25, 0]], target=[[-1.5, 0], [-3, 0]], workspace=[[-3.5, 3.5], [-2.5, 2.5]], default_costs_constraints=None)\n"
     ]
    }
   ],
   "source": [
    "ws = 3\n",
    "contact_graph = ContactGraph(\n",
    "    obs,\n",
    "    objs,\n",
    "    robs,\n",
    "    source_obj_pos,\n",
    "    source_rob_pos,\n",
    "    target_obj_pos,\n",
    "    target_rob_pos,\n",
    "    workspace=[[-3.5, 3.5], [-2.5, 2.5]],\n",
    "    # workspace=[[-ws, ws], [-ws, ws]],\n",
    "    vertex_exclusion_regex_pattern=\"obs0_f1|rob0_f2\"\n",
    ")\n",
    "\n",
    "print(contact_graph.params)"
   ]
  },
  {
   "cell_type": "code",
   "execution_count": 5,
   "metadata": {},
   "outputs": [
    {
     "name": "stdout",
     "output_type": "stream",
     "text": [
      "[\"('NC|obs0_f0-obj0_v3', 'NC|obs0_f0-rob0_v1', 'IC|obj0_f1-rob0_f1')\"\n",
      " \"('NC|obs0_f0-obj0_v3', 'NC|obs0_f0-rob0_v1', 'IC|obj0_f0-rob0_v1')\"\n",
      " \"('NC|obs0_f0-obj0_v3', 'NC|obs0_f0-rob0_v1', 'IC|obj0_f3-rob0_v0')\"\n",
      " \"('NC|obs0_f0-obj0_v3', 'NC|obs0_f0-rob0_v1', 'IC|obj0_v0-rob0_f0')\"\n",
      " \"('NC|obs0_f0-obj0_v3', 'NC|obs0_f0-rob0_v1', 'NC|obj0_f0-rob0_v1')\"\n",
      " \"('NC|obs0_f0-obj0_v3', 'NC|obs0_f0-rob0_v1', 'NC|obj0_f1-rob0_f1')\"\n",
      " \"('NC|obs0_f0-obj0_v3', 'NC|obs0_f0-rob0_v1', 'NC|obj0_f3-rob0_v0')\"\n",
      " \"('NC|obs0_f0-obj0_v3', 'NC|obs0_f2-rob0_v0', 'IC|obj0_f1-rob0_f1')\"\n",
      " \"('NC|obs0_f0-obj0_v3', 'NC|obs0_f2-rob0_v0', 'IC|obj0_f0-rob0_v1')\"\n",
      " \"('NC|obs0_f0-obj0_v3', 'NC|obs0_f2-rob0_v0', 'IC|obj0_f3-rob0_v0')\"\n",
      " \"('NC|obs0_f0-obj0_v3', 'NC|obs0_f2-rob0_v0', 'IC|obj0_v0-rob0_f0')\"\n",
      " \"('NC|obs0_f0-obj0_v3', 'NC|obs0_f2-rob0_v0', 'NC|obj0_f0-rob0_v1')\"\n",
      " \"('NC|obs0_f0-obj0_v3', 'NC|obs0_f2-rob0_v0', 'NC|obj0_f1-rob0_f1')\"\n",
      " \"('NC|obs0_f0-obj0_v3', 'NC|obs0_f2-rob0_v0', 'NC|obj0_f3-rob0_v0')\"\n",
      " \"('NC|obs0_f2-obj0_f1', 'NC|obs0_f0-rob0_v1', 'IC|obj0_f1-rob0_f1')\"\n",
      " \"('NC|obs0_f2-obj0_f1', 'NC|obs0_f0-rob0_v1', 'IC|obj0_f0-rob0_v1')\"\n",
      " \"('NC|obs0_f2-obj0_f1', 'NC|obs0_f0-rob0_v1', 'IC|obj0_f3-rob0_v0')\"\n",
      " \"('NC|obs0_f2-obj0_f1', 'NC|obs0_f0-rob0_v1', 'IC|obj0_v0-rob0_f0')\"\n",
      " \"('NC|obs0_f2-obj0_f1', 'NC|obs0_f0-rob0_v1', 'NC|obj0_f0-rob0_v1')\"\n",
      " \"('NC|obs0_f2-obj0_f1', 'NC|obs0_f0-rob0_v1', 'NC|obj0_f1-rob0_f1')\"\n",
      " \"('NC|obs0_f2-obj0_f1', 'NC|obs0_f0-rob0_v1', 'NC|obj0_f3-rob0_v0')\"\n",
      " \"('NC|obs0_f2-obj0_f1', 'NC|obs0_f2-rob0_v0', 'IC|obj0_f1-rob0_f1')\"\n",
      " \"('NC|obs0_f2-obj0_f1', 'NC|obs0_f2-rob0_v0', 'IC|obj0_f0-rob0_v1')\"\n",
      " \"('NC|obs0_f2-obj0_f1', 'NC|obs0_f2-rob0_v0', 'IC|obj0_f3-rob0_v0')\"\n",
      " \"('NC|obs0_f2-obj0_f1', 'NC|obs0_f2-rob0_v0', 'IC|obj0_v0-rob0_f0')\"\n",
      " \"('NC|obs0_f2-obj0_f1', 'NC|obs0_f2-rob0_v0', 'NC|obj0_f0-rob0_v1')\"\n",
      " \"('NC|obs0_f2-obj0_f1', 'NC|obs0_f2-rob0_v0', 'NC|obj0_f1-rob0_f1')\"\n",
      " \"('NC|obs0_f2-obj0_f1', 'NC|obs0_f2-rob0_v0', 'NC|obj0_f3-rob0_v0')\" 's'\n",
      " 't']\n"
     ]
    }
   ],
   "source": [
    "print(np.array(contact_graph.vertex_names))"
   ]
  },
  {
   "cell_type": "code",
   "execution_count": 6,
   "metadata": {},
   "outputs": [],
   "source": [
    "# contact_graph.graphviz()"
   ]
  },
  {
   "cell_type": "code",
   "execution_count": 7,
   "metadata": {},
   "outputs": [
    {
     "ename": "AssertionError",
     "evalue": "",
     "output_type": "error",
     "traceback": [
      "\u001b[0;31m---------------------------------------------------------------------------\u001b[0m",
      "\u001b[0;31mAssertionError\u001b[0m                            Traceback (most recent call last)",
      "Cell \u001b[0;32mIn[7], line 1\u001b[0m\n\u001b[0;32m----> 1\u001b[0m sol \u001b[39m=\u001b[39m contact_graph\u001b[39m.\u001b[39;49msolve(use_convex_relaxation\u001b[39m=\u001b[39;49m\u001b[39mFalse\u001b[39;49;00m)\n\u001b[1;32m      2\u001b[0m \u001b[39mprint\u001b[39m(sol\u001b[39m.\u001b[39mvertex_path)\n",
      "File \u001b[0;32m~/Documents/Software/large_gcs/large_gcs/graph/graph.py:318\u001b[0m, in \u001b[0;36mGraph.solve\u001b[0;34m(self, use_convex_relaxation)\u001b[0m\n\u001b[1;32m    312\u001b[0m \u001b[39m# print(f\"target: {self._target_name}, {self.vertices[self._target_name].gcs_vertex}\")\u001b[39;00m\n\u001b[1;32m    313\u001b[0m result \u001b[39m=\u001b[39m \u001b[39mself\u001b[39m\u001b[39m.\u001b[39m_gcs\u001b[39m.\u001b[39mSolveShortestPath(\n\u001b[1;32m    314\u001b[0m     \u001b[39mself\u001b[39m\u001b[39m.\u001b[39mvertices[\u001b[39mself\u001b[39m\u001b[39m.\u001b[39m_source_name]\u001b[39m.\u001b[39mgcs_vertex,\n\u001b[1;32m    315\u001b[0m     \u001b[39mself\u001b[39m\u001b[39m.\u001b[39mvertices[\u001b[39mself\u001b[39m\u001b[39m.\u001b[39m_target_name]\u001b[39m.\u001b[39mgcs_vertex,\n\u001b[1;32m    316\u001b[0m     options,\n\u001b[1;32m    317\u001b[0m )\n\u001b[0;32m--> 318\u001b[0m \u001b[39massert\u001b[39;00m result\u001b[39m.\u001b[39mis_success()\n\u001b[1;32m    320\u001b[0m sol \u001b[39m=\u001b[39m \u001b[39mself\u001b[39m\u001b[39m.\u001b[39m_parse_result(result)\n\u001b[1;32m    322\u001b[0m \u001b[39m# Optional post solve hook for subclasses\u001b[39;00m\n",
      "\u001b[0;31mAssertionError\u001b[0m: "
     ]
    }
   ],
   "source": [
    "sol = contact_graph.solve(use_convex_relaxation=False)\n",
    "print(sol.vertex_path)"
   ]
  },
  {
   "cell_type": "code",
   "execution_count": null,
   "metadata": {},
   "outputs": [],
   "source": [
    "contact_sol = contact_graph.contact_spp_sol"
   ]
  },
  {
   "cell_type": "code",
   "execution_count": null,
   "metadata": {},
   "outputs": [],
   "source": [
    "contact_graph.plot_path()"
   ]
  },
  {
   "cell_type": "code",
   "execution_count": null,
   "metadata": {},
   "outputs": [],
   "source": [
    "from IPython.display import HTML\n",
    "\n",
    "anim = contact_graph.animate_solution()\n",
    "# save as mp4\n",
    "# anim.save(\"animation.mp4\")\n",
    "HTML(anim.to_html5_video())"
   ]
  },
  {
   "cell_type": "code",
   "execution_count": null,
   "metadata": {},
   "outputs": [],
   "source": []
  }
 ],
 "metadata": {
  "kernelspec": {
   "display_name": ".venv",
   "language": "python",
   "name": "python3"
  },
  "language_info": {
   "codemirror_mode": {
    "name": "ipython",
    "version": 3
   },
   "file_extension": ".py",
   "mimetype": "text/x-python",
   "name": "python",
   "nbconvert_exporter": "python",
   "pygments_lexer": "ipython3",
   "version": "3.8.10"
  },
  "orig_nbformat": 4
 },
 "nbformat": 4,
 "nbformat_minor": 2
}
