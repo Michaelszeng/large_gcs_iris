{
 "cells": [
  {
   "cell_type": "code",
   "execution_count": 1,
   "metadata": {},
   "outputs": [],
   "source": [
    "from large_gcs.contact.contact_location import *\n",
    "from large_gcs.contact.contact_pair_mode import *\n",
    "from large_gcs.contact.rigid_body import *\n",
    "from large_gcs.geometry.polyhedron import Polyhedron\n",
    "from large_gcs.graph.contact_graph import ContactGraph\n",
    "import random\n",
    "import matplotlib.pyplot as plt\n",
    "import matplotlib.cm as cm\n",
    "\n",
    "# np.set_printoptions(formatter={\"float\": lambda x: \"{0:0.3f}\".format(x)})"
   ]
  },
  {
   "cell_type": "code",
   "execution_count": 2,
   "metadata": {},
   "outputs": [
    {
     "data": {
      "image/png": "[encoded data removed]",
      "text/plain": [
       "<Figure size 640x480 with 1 Axes>"
      ]
     },
     "metadata": {},
     "output_type": "display_data"
    }
   ],
   "source": [
    "# 2 items\n",
    "# obs_vertices = [\n",
    "#     np.array([[0, 0], [1, 0], [0, -1]])\n",
    "# ]\n",
    "# obj_vertices = [\n",
    "# ]\n",
    "# rob_vertices = [\n",
    "#     np.array([[-1,-1],[-1.5,-0.5],[-1.2, -1.5]])\n",
    "# ]\n",
    "# source_obj_pos = []\n",
    "# source_rob_pos = [[-1, -1]]\n",
    "# target_obj_pos = []\n",
    "# target_rob_pos = [[2, 2]]\n",
    "\n",
    "\n",
    "# # 2 movable items\n",
    "obs_vertices = []\n",
    "obj_vertices = [np.array([[0, 0], [1, 0], [1, 1], [0, 1]]) + np.array([2.5, 0.5])]\n",
    "rob_vertices = [np.array([[-1, -1], [-1.5, -0.5], [-1.2, -1.5]])]\n",
    "source_obj_pos = [[1, 1]]\n",
    "source_rob_pos = [[-1, -1]]\n",
    "target_obj_pos = [[-1, -1]]\n",
    "target_rob_pos = [[1, 1]]\n",
    "\n",
    "# 3 items\n",
    "# obs_vertices = [\n",
    "#     np.array([[0, 0], [1, 0], [0, -1]])\n",
    "# ]\n",
    "# obj_vertices = [\n",
    "#     np.array([[0, 0], [1, 0], [1, 1], [0,1]]) + np.array([2.5,0.5])\n",
    "# ]\n",
    "# rob_vertices = [\n",
    "#     np.array([[-1,-1],[-1.5,-0.5],[-1.2, -1.5]])\n",
    "# ]\n",
    "\n",
    "# # 3 boxes\n",
    "# obs_vertices = [\n",
    "#     np.array([[0, 0], [2, 0], [2, 1], [0,1]])\n",
    "# ]\n",
    "# obj_vertices = [\n",
    "#     np.array([[0, 0], [1, 0], [1, 1], [0,1]]) + np.array([2.5,0.5])\n",
    "# ]\n",
    "# rob_vertices = [\n",
    "#     np.array([[0, 0], [0.5, 0], [0.5, 0.5], [0,0.5]]) + np.array([0,-1])\n",
    "# ]\n",
    "\n",
    "# # 4 items\n",
    "# obs_vertices = [\n",
    "#     np.array([[0, 0], [1, 0], [0, -1]])\n",
    "# ]\n",
    "# obj_vertices = [\n",
    "#     np.array([[0, 0], [1, 0], [1, -0.5]]) + np.array([1.5, 0]),\n",
    "#     np.array([[0, 0], [1, 0], [1, 1], [0,1]]) + np.array([2.5,0.5])\n",
    "# ]\n",
    "# rob_vertices = [\n",
    "#     np.array([[-1,-1],[-1.5,-0.5],[-1.2, -1.5]])\n",
    "# ]\n",
    "obs = []\n",
    "objs = []\n",
    "robs = []\n",
    "n_pos_per_set = 3\n",
    "for i in range(len(obs_vertices)):\n",
    "    obs.append(\n",
    "        RigidBody(\n",
    "            name=f\"obs{i}\",\n",
    "            geometry=Polyhedron.from_vertices(obs_vertices[i]),\n",
    "            mobility_type=MobilityType.STATIC,\n",
    "            n_pos_points=n_pos_per_set,\n",
    "        )\n",
    "    )\n",
    "for i in range(len(obj_vertices)):\n",
    "    objs.append(\n",
    "        RigidBody(\n",
    "            name=f\"obj{i}\",\n",
    "            geometry=Polyhedron.from_vertices(obj_vertices[i]),\n",
    "            mobility_type=MobilityType.UNACTUATED,\n",
    "            n_pos_points=n_pos_per_set,\n",
    "        )\n",
    "    )\n",
    "for i in range(len(rob_vertices)):\n",
    "    robs.append(\n",
    "        RigidBody(\n",
    "            name=f\"rob{i}\",\n",
    "            geometry=Polyhedron.from_vertices(rob_vertices[i]),\n",
    "            mobility_type=MobilityType.ACTUATED,\n",
    "            n_pos_points=n_pos_per_set,\n",
    "        )\n",
    "    )\n",
    "all_rigid_bodies = obs + objs + robs\n",
    "\n",
    "for rigid_body in all_rigid_bodies:\n",
    "    rigid_body.plot()"
   ]
  },
  {
   "cell_type": "code",
   "execution_count": 3,
   "metadata": {},
   "outputs": [
    {
     "name": "stdout",
     "output_type": "stream",
     "text": [
      "Generating contact sets for 2 bodies...\n",
      "Generating contact pair modes for 1 body pairs...\n"
     ]
    },
    {
     "name": "stderr",
     "output_type": "stream",
     "text": [
      "100%|██████████| 1/1 [00:00<00:00, 54.62it/s]\n"
     ]
    },
    {
     "name": "stdout",
     "output_type": "stream",
     "text": [
      "Each body pair has on average 11.0 modes\n",
      "Generating contact sets for 11 sets...\n"
     ]
    },
    {
     "name": "stderr",
     "output_type": "stream",
     "text": [
      "100%|██████████| 11/11 [00:00<00:00, 1296.10it/s]\n"
     ]
    },
    {
     "name": "stdout",
     "output_type": "stream",
     "text": [
      "Pruning empty sets...\n"
     ]
    },
    {
     "name": "stderr",
     "output_type": "stream",
     "text": [
      "100%|██████████| 11/11 [00:00<00:00, 41.40it/s]"
     ]
    },
    {
     "name": "stdout",
     "output_type": "stream",
     "text": [
      "11 sets remain after removing 0 empty sets\n",
      "Generating edges...(parallel)\n"
     ]
    },
    {
     "name": "stderr",
     "output_type": "stream",
     "text": [
      "\n",
      "100%|██████████| 78/78 [00:00<00:00, 253.87it/s]\n"
     ]
    },
    {
     "name": "stdout",
     "output_type": "stream",
     "text": [
      "24 edges generated\n",
      "GraphParams(dim=12, n_vertices=13, n_edges=24, source=[[1, 1], [-1, -1]], target=[[-1, -1], [1, 1]], workspace=[[-3, 3], [-3, 3]], default_costs_constraints=DefaultGraphCostsConstraints(vertex_costs=[<pydrake.solvers.L2NormCost object at 0x7f2ba151e670>], vertex_constraints=[], edge_costs=[<pydrake.solvers.LinearCost object at 0x7f2b69f015f0>], edge_constraints=[<pydrake.solvers.LinearEqualityConstraint object at 0x7f2b69f024f0>]))\n"
     ]
    }
   ],
   "source": [
    "ws = 3\n",
    "contact_graph = ContactGraph(\n",
    "    obs,\n",
    "    objs,\n",
    "    robs,\n",
    "    source_obj_pos,\n",
    "    source_rob_pos,\n",
    "    target_obj_pos,\n",
    "    target_rob_pos,\n",
    "    workspace=[[-ws, ws], [-ws, ws]],\n",
    ")\n",
    "\n",
    "print(contact_graph.params)"
   ]
  },
  {
   "cell_type": "code",
   "execution_count": 4,
   "metadata": {},
   "outputs": [
    {
     "name": "stdout",
     "output_type": "stream",
     "text": [
      "('s', \"('NC:obj0_f3-rob0_v0',)\", \"('NC:obj0_f2-rob0_v2',)\", 't')\n"
     ]
    }
   ],
   "source": [
    "sol = contact_graph.solve(use_convex_relaxation=False)\n",
    "vertex_names, ambient_path = zip(*sol.path)\n",
    "print(vertex_names)"
   ]
  },
  {
   "cell_type": "code",
   "execution_count": 5,
   "metadata": {},
   "outputs": [],
   "source": [
    "contact_sol = contact_graph.contact_spp_sol"
   ]
  },
  {
   "cell_type": "code",
   "execution_count": 6,
   "metadata": {},
   "outputs": [
    {
     "data": {
      "image/png": "[encoded data removed]",
      "text/plain": [
       "<Figure size 640x480 with 2 Axes>"
      ]
     },
     "metadata": {},
     "output_type": "display_data"
    }
   ],
   "source": [
    "contact_graph.plot_path()"
   ]
  },
  {
   "cell_type": "code",
   "execution_count": 7,
   "metadata": {},
   "outputs": [
    {
     "data": {
      "text/html": [
       "<video width=\"640\" height=\"480\" controls autoplay loop>\n",
       "  <source type=\"video/mp4\" src=\"data:video/mp4;base64,AAAAHGZ0eXBNNFYgAAACAGlzb21pc28yYXZjMQAAAAhmcmVlAAAqum1kYXQAAAKvBgX//6vcRem9\n",
       "5tlIt5Ys2CDZI+7veDI2NCAtIGNvcmUgMTU1IHIyOTE3IDBhODRkOTggLSBILjI2NC9NUEVHLTQg\n",
       "QVZDIGNvZGVjIC0gQ29weWxlZnQgMjAwMy0yMDE4IC0gaHR0cDovL3d3dy52aWRlb2xhbi5vcmcv\n",
       "eDI2NC5odG1sIC0gb3B0aW9uczogY2FiYWM9MSByZWY9MyBkZWJsb2NrPTE6MDowIGFuYWx5c2U9\n",
       "MHgzOjB4MTEzIG1lPWhleCBzdWJtZT03IHBzeT0xIHBzeV9yZD0xLjAwOjAuMDAgbWl4ZWRfcmVm\n",
       "PTEgbWVfcmFuZ2U9MTYgY2hyb21hX21lPTEgdHJlbGxpcz0xIDh4OGRjdD0xIGNxbT0wIGRlYWR6\n",
       "b25lPTIxLDExIGZhc3RfcHNraXA9MSBjaHJvbWFfcXBfb2Zmc2V0PS0yIHRocmVhZHM9MTIgbG9v\n",
       "a2FoZWFkX3RocmVhZHM9MiBzbGljZWRfdGhyZWFkcz0wIG5yPTAgZGVjaW1hdGU9MSBpbnRlcmxh\n",
       "Y2VkPTAgYmx1cmF5X2NvbXBhdD0wIGNvbnN0cmFpbmVkX2ludHJhPTAgYmZyYW1lcz0zIGJfcHly\n",
       "YW1pZD0yIGJfYWRhcHQ9MSBiX2JpYXM9MCBkaXJlY3Q9MSB3ZWlnaHRiPTEgb3Blbl9nb3A9MCB3\n",
       "ZWlnaHRwPTIga2V5aW50PTI1MCBrZXlpbnRfbWluPTIwIHNjZW5lY3V0PTQwIGludHJhX3JlZnJl\n",
       "c2g9MCByY19sb29rYWhlYWQ9NDAgcmM9Y3JmIG1idHJlZT0xIGNyZj0yMy4wIHFjb21wPTAuNjAg\n",
       "cXBtaW49MCBxcG1heD02OSBxcHN0ZXA9NCBpcF9yYXRpbz0xLjQwIGFxPTE6MS4wMACAAAALUGWI\n",
       "hAA7//73Tr8Cm0WXagOSVwr2yqQmWblSawHypgAAAwAAAwAAAwCQhHHua5XJPWaAAAAvYAkqvvgZ\n",
       "9cAHuCaHVo2bQmKOkLMZI1wHSTKc5wfThgXPmcqIX4CVYg3B/lXGQMDGYW4i7ahHLcMjps8qxh1v\n",
       "FiR58kuCc5vWEE0gByXwL4Zdgqk9G9T1X+dW7TA6Irvmf9pRTFmAOCzj2Ruz9NLOYfJn3gnaL1Ms\n",
       "v+J5XM/J6Oz+U6X9fgI2lp3Wbcu5+Anm4OdilRwfaXj3RAtAtDoxwc5Y5Zn4l3v+G94iig3LnP6y\n",
       "RN5Eauqs6BcK0WPsku8TMQLjEQcefxiCRzc9mXbGr35Ya50UAAx31inE+EcEC4xt7kHzFcY9e8UH\n",
       "c50m1cceVgMZAUxXTGR7fAVDT8vh2upPT2JzzJQxxeDJe8itToVZHKwnX8TSnCTEQRWLGwprxzdz\n",
       "9d1FfW4KZHQQDnEtjQl+attih+b49yuLDCnWYH47k9U7II9wSzr0sUULD2/s5ix1EgAz6N623Zsa\n",
       "RebBJj3E19C4VhBFcPt1u6jf7ssu9kMsP1rEoynsYDT6hzuo0qEUL5eHhQRLGciBmgb+2kBVokgJ\n",
       "rSJ5HBy/8OxoEc0jmAKdAt6qZ2OfSD7H/1sscwvzQvs13Qg1TAFbcstM5dKpCjC+zBbwE06mkkVe\n",
       "Lg1gS2jmb8F1dW45jujw8EPFGRmDvL/9we717/hBrNUCBzgSfvhCSkCZgV0H9cQuEQvhnpEtKaeT\n",
       "ZzSc6wxmYsF2YH9wQoyny7prNnwdtm5HHcodWYmLzbxSTtWiv+iNOc5FdtQG9DOq+4Am203z6F/h\n",
       "kJuMX9XkxMvNrwDCvZbKr9oZ42AKwI2uGzeZcZKA066Gkto615nD74NHWiyoeex2knIZxBYwjPVz\n",
       "5cBbgJFbFADxxXqDeCZPuQHaEzZSmBq42ENx7lkWTqwRpF0oH1PIk7db8pItKWV1H4Dpx+Ezjnin\n",
       "wZlFVAGgMFPnAXL3zBD7eUAlDTgZ6YmLPu4L1ZJpdd331QEYGkvD2QuVa5wqT3e+jpAbET83zyDh\n",
       "l1a2uTf4YWtOAwUP2GKwuqSQOPB8Kbl8QsfGtXxOMPosbwlpQja2gh3mFt5zvyyn3iXclJRHz3Oh\n",
       "ky2709rtsWRCoWNOr4rliyuR2DpeGHsaCXn78omPqCtxBj/ZOTP7OxPegggA0M4bjSNICmNiF+Qu\n",
       "xeDAlUMQStoAuaBa1HC24jj1lHME7nYmoYksd/TckUGcTl82l9CA9kUMmPWugL3b1JW/nYTWzvBX\n",
       "Qa9uR641Zi1prkRvxiwIq2fb9+8s7Yi3/UCYf0PLx+FscAY1ImdWJE2JNdP0WWK3swwWJUfDSu1R\n",
       "CtiqEfyYihPg2937gc+8hD6EJuX+ZucHAXMi16aXQqdvorI3/Bn6KbojeBFVgGDG3ZEfkIn6iGHt\n",
       "Ov5vSRL+Id1joURnVGjHfZwfQcqqCnBVtW6p+hjQMF8eCGpv8yNYzLTAd0Y7kuBV/gtFHxNiM/yN\n",
       "UOJKpNSfe3MqRk4PJw9dV0BTcj/LZNHa/WfVpNwBFol2K6E/WNnMJDvGRyHUZiwPIKVNlZXskeGT\n",
       "wiFIx/DHFXMzC+svDPPbRD9ZVgUlQDE2/ZEnifWxAqaDMByGL5FFCL/4wpHYanOOVF2r3fqpVpvr\n",
       "ATNFk+Av+yYzsv3vYClEJuDkQwMiPvC7RUUvGs/OJmPbthFuAnpAfO/fY/6SZJl5dt8nqwaqte0H\n",
       "5DHuSOyDM28pVwrFoV6fcnf6oFuwpZYk8oA/W4xA8O6NyBhNYzotNXJSyBGHFrcyOCit1x8Y7msY\n",
       "0SJSW5/I7clXnAvbuMQ1mwBD1nlJ3/PFZZdvXsBzbPgjq/xZTXFbifiE6CHnAJveiJauZnPfWXJV\n",
       "6w/Qff/sJnIIMBsrhmL8Lo2Hrclk3lunuOJ2aXUL+wSjlRayjJb1g5ZeePWTnLmXBY3h7Tniz/oe\n",
       "PtRS9oIhT7EjwJ0TVANfC9WpLLV3D/XK6Swv42ZePBhhKhvsShwuydLEQDehO+yvxHo3NrMv/1I2\n",
       "J2bLDF7x8UWcv+xaNo4/5ySJiC0EXepspj4lbmfQzaqtpkISzocVn2tYXZ8hhvmILPOsdxEgKZU+\n",
       "XtW3q0o8fAPe6AqVUIo4DoQDy5q59j6Vk86CCtsH+VQwRBvkaCwniCbARnnHNZlgVjGUjceG/Xd8\n",
       "RZ9nNkWUlW2nRoBpgYet3IR7QBqlNSn6ZXVVdHYuQ9rwtFO5Z51zcCTynzPSRKkQi+UqP//16qHn\n",
       "TA315X3uP5wEg+Lss4VNN0oXbVDakzLL76YJbtkFFk1EkRCFXTCHVpWFOLOaiPZfnwQEfO40Qzlt\n",
       "IfursOb66cDrvp48fPQ2bVsIFsL5B78pQAwpkFO6NyhvQqgBITA/9uYz/DNrrYTbn///APvBNoV2\n",
       "6AizPwPynaoFvpQJSgdFIvBBEzlAUvAA52gWCZnoOORzteM4oXba26O+bWy3Zfuf+IYYb86ePFwv\n",
       "FKvbo+kQKquXzkRJc5JpLfwm+23dsXy8jNRBwqJXY/kU7moMQBdJkk9T/c9cd+AVhHsOGsIoAAAD\n",
       "AqEct3N3ZGwsrKI66fzwnHUQSDd3vT5nKtoAY6+kBwbB+2McJBxxuEXOWfLAm+yhjU1jXAAQPlH7\n",
       "nC5i1ooM8zo/5YYO42i87KE2mohCbWzmmmwjRpdkoZflDaTahxeML8Z0PDS6UyiMO+Ae12XGWRWc\n",
       "NBBSRe+n0geo8XCQE+/OrGc9UZPUj0T5LepYGOSkUzSRYiqZC665DRXj6F7jSiiRsGTteWndq9DX\n",
       "KT4dYMwRQgs+ZwJAfoaGw43pt6Amc3AQl0ImEBDW0lr/5+3P1aijtPsmnwrtdjJ3uWQhjQi/wBCJ\n",
       "Kjfudp5IJmNhbO4Fd8Rt6Llwn1Qglbf3V09DIp3OVTbqOQd92soNaOKpzDT8wlbtpWuVUhje+stc\n",
       "KPZGp6SVm04DQxE+f+6Jv9VzSSjITizwszy591MDacEybTq5cyZwMx7xySN+ddPsTi4rm/1qjIyh\n",
       "L51/1TxVB2xjZRdssPdZQljOVabqn7qZxvrVB9V6IthoNfx2FLb4azjw4UaD2dBjau+yYLyh5EoP\n",
       "BwIeiJuJVfYVKeZmeQgjBDRDmQs0/7kjzIfX+nAoivSxz8OiZTqcVNAtgPTnKcOr/YOANlJTYsWW\n",
       "t4mpVEpm95BuQUXTC/GQLSjS/l6HrsOyPp52SWAoMxFL+9FoL9ER+YgCa87LgGxJZkxIYUrgChjD\n",
       "dASDqCbIqa+9zaFyba8IoRjRxiLVKIS6hBJa1+L+VBv/j8CZgMfhxBRvaCH7QCpKeCheUW5L/isP\n",
       "dga5KLTSdv8lUhBblf+2vFSUpCtCf6lQ4aKlGrFgrV+7RZ7sd6SSv73TeXTTrgfegaYRT5EkoMj6\n",
       "nvIYKgZ7EFymTqmJnDVbEJNZVJ8ei+5aZSmY4vI8CcpOSbiXGEuJ3ajV1oy+ZISyjr+P9g6V8zlR\n",
       "PIK2P6JXnN3pZwNWJvVCGu/gslDr6ikrYk5oKNcdaMswL3hRdPyf2Xplu8G28kNam9NSxYcjUL25\n",
       "MQf7IXZtmIGq+zbIm0WYX6TDhdk9G3P2KaZSJdcyUN6o0v5+eKUbc1lsqjWMxCDG1llxECdOPaCZ\n",
       "H+GeiPBZlnitzhgK4GdmgnaUTNFi0X45XoRoBEb3VhV8pRgHgaHNjq9QN3XnzHM6V8yWF1Y3OucM\n",
       "JmN4MwvLxPGfZcsKkNLU+UYbEaWd8/2lF8vY00CvVpkQyc9ScK1EhRsc/uzuaa2TRoS8CE/ZqMgF\n",
       "aVNWEx6zMrMWCLGnnhVvwgMKN1PvGZagAACvkg/NOQUxJujEiAAAAwAAG7EAAAVhQZokbEN//qeE\n",
       "AEdWZXAMgWSHgZTRyS/s75phiRgVAbNr5kV3m1DVMgwpXpLLrZw2eSUh+hnXQnaK/8SaGL/UQZ7M\n",
       "IZAqcLsUquK72KsWFxjTFHesniGHRjZHeCsc4lTztBYaH9vKImSmJZld4OLZgidQOsNp9NCfkT0v\n",
       "gdVx/gUXo6ic/+fGmtHvBH12tlLkLqNU7dSKXYTRWcK4gJPDKmiF2SO1z6yIO8g32Z1LMaaoAGVt\n",
       "jCiLn7hLT8HK4qHbsi+YU4AmM0PzCTbyU24HDLa+lUngVfrkHYt0Di9fgcr8aRpaCTumtGkl93Yk\n",
       "f6fTpWqhs+eGpYRM+u8lDkRCzwpK7C3Ek2kg3hIHQy8zH9JPy0nFFEDqBCzSvYxdANfdvoF54x+v\n",
       "dhyIjhMBl8G6Y2umamJzDDYCBJWEIX7/o6WZl+t5qA7yN6iu4ZcB9dbOIlhcuB9iuE1f796aWBkw\n",
       "8JW3Dwmqt0Y8cMK7QzE8GFMgCStBPVhabBUTtyEZ9M9QsgdeBb/rgbzi9L7k3STWGukKg3TQ4Wwy\n",
       "VgI8DWLxyn+W1WLd54VhtwP8iTo2KCDa+MiskM+mXO2KCwfxvO0JMFrzA3tcFDsu5544QbTcz2wh\n",
       "S4CMxUMCSFbgLXtveNSa9hoEH6pvjIRmEgOR0rhjzt0mhJKtYIAv1xrz9olmP5QfE+fafX6//8Rv\n",
       "Q4WBQ4vI7U7DD7fM3j8w9TYrBIeWD0iqfC3BBRXg7unNYoUloTQZJVGUloSiQ4D4sFcn7HmDp3bi\n",
       "1ILtauhYl+odvF/rIPU0wZbjPGd2R0A84M/MPbFqdzpSJzhBPuOODNYnHjZ6G71BfHTXDDDE13Yj\n",
       "ip5ZAzUO8j9sRiDYJmHnhtkHiDqqp2RMx9izB1NOz7OgrBrj86jZ+p3mXriAFxxxXTf9mHx+IPqG\n",
       "XwPmSQelidRlVdqjNOue/W8eIzF/beRjzVEVa/tEOyJD3LNMSSe8VrMK2ZzS+rxIcl5Ez0hqlW6T\n",
       "DXBveLaAOv+cqJwtGdn1Y6b3IQjuQYHQWaDJ6pVeZCHekO7MXKKYODsA4dKeg1dqZtACTSiXU2qx\n",
       "12539pbL1XPALLHITWRHq7TgjtZlKaUF4CRmQBgc8dKKuw72xCKV7MgZOIfAqNO7izTHDjoRL1H/\n",
       "OJ9odr0ilbANXaOttExktddZ5qmdjtoAGgEes2wk8jegjlKbMKE2FgMTuPnY/FtoWJsWEechqAQs\n",
       "9v3AP73rfCXUpj7hr+WZHfjTSSadKrcuOzUZdtwMMsuTMdjC2aO/VQWavTc+uiE4nQApWHKzOWwF\n",
       "ourMg5TIqM2ZMqfY7rcYbZdGfbj/IQ+SDVboiITOTnrmCxCw3+/IvNXA01OQv7B7/jPdeNQkoQ7b\n",
       "kfCNX762KPzPP3Bume+iMGv/qZST6//Risr0MKNJM7zO2Llfh7KqFoqqhwT2Y0uuvn4J91pS+Ycq\n",
       "+9r73PkhmPrhvmLns5zHeOw+ikV/LBf5X7iUyKfCd0H0nHTqVdvMkWuvbuAFjXVOXVt9nHvj1456\n",
       "k11c52G4h5Ji9S2v9AWs373IfODqHMzl4n1qrGxzztI28HD79SKSYp8Uza+g4kjnp9KgPkAGHZzI\n",
       "pKNfkjqgF7McEdnbfNE0XXFEhYy7Cbz6uMfRbs8sRhCPprvgUiba3r7NUZDxFm/FsCEjey8a+g0C\n",
       "g4qy5rVJHiATOBEoJTb/HV1I07uDy4Avh46D6V5JGXY3kFR1H+oQFZH9GwDJIig1skqiTamspf5W\n",
       "LMy3hw13TE+HyvXU/CmRDQhyWNCj9lA5KmvCvXzYnuzJUIneSc8+ksSJg0Mu7bTLetohtIu0oOxg\n",
       "AAAAPEGeQniGfwAH8Q0DshyEgQUAb3aLXIX17E2Onp539zhrxej8ZpgixwlYlG+BcR2by9yyeyni\n",
       "iarusWvbQQAAABoBnmF0Qr8AAPLwEBPn6pRugwhYa4QDuc5Z0wAAACwBnmNqQr8ADtgOtbE6K9dn\n",
       "qOokbguFEo7xHOdArJ5YlJARmOcLLgK5AFPFfQAAAPlBmmVJqEFomUwIb//+p4QAENc3JAQq03ou\n",
       "U2SoVUj8WO1QQJrk4wYZPOBDFwc63qmxTuqJ8f6M9kzModzDrY7Vs/FfRw2lu1VgmlLwUu8AP6rc\n",
       "9G2I+5mJ0fR43Zf6hklh4S4SW0gt2vfULpTGHubmeInBAsXBzrZYjhOXPaSQJuhBCwuXmAl4hFth\n",
       "N7KajyP+5/ZfnjROWJ68PBsum2N3gumQDvPLw/IIhXNZYeEF2SKjHh6uRXswTO1quZL55uY7BoYD\n",
       "TflNL6ujMrzemiADIqtTc26QAybktLRiMHw46Pnqac5Sgh0bOJhnTAYX3RiRgMeWCCtnbYEAAACd\n",
       "QZqGSeEKUmUwId/+qZYAAA2nrmtCceE4K8bbSO8tEIe/HpDodfz3/Ll2KRefr3UOs6UF9vRZhIHR\n",
       "qxXixDwsuZKfV1pnLmOWXdVCavQAhqf79aev+DTd75soo4hFQTkrz4sakuKpuVdAqoIlX4V9kj89\n",
       "6eMhfxha7b+/Iky4qLrtb8paRrhZ7sUKiriu35odOAIjMi4hED9ltaNm6QAAAMZBmqhJ4Q6JlMFN\n",
       "Ew7//qmWAAAFA30UNUrGzAMT4ZYSf5KnYv9fi77QOSjcmy/Qf2Vv8UtoGHkeYTNSoy6Sr/PqnzmR\n",
       "VFrp444T3OlfvfEUnYJhEW//Gbou+wMyaESpYk2DUvTRI7tcYGNqQSnMPCUsF1UGvvpvzoLZdfEV\n",
       "0ia/JTJ53lNap5x06XKKHAtt5rvmD8OdE3FrdLODokTPptvU4YnCqzKhq7S8Y9spkURL5DSH+K1r\n",
       "bUTGJ10xdNCgZQ//8+/2XCUAAABgAZ7HakK/AAAH76QaVEyUYwQx7yA6igXART0i+MA7xf/Iroz3\n",
       "qYFo+zKxj9IDkhqSoANPKUQWR3+HOeCAEiAYSiJ72AW6LBe3fKe1YRFkqAtVwQxTjbnzVo6Iq7Hc\n",
       "6nTAAAAArUGay0nhDyZTAhv//qeEAAAJt8EHwnDRGCyxmQUGI3E5mCW2NcG7lyb8L3jb/i8Rr4Lh\n",
       "nEmmCnMowrvkymR56s1TFIoLSPvhWrbVQNVxy+2VOZYAl0hlIAdkp1YUz7O81TmeU3pBhJeplakN\n",
       "nBBYOXqKd3SrbIqFv6l564kfMQpNHVWsGjjRfaTVtEp856PBZl8bG8G87T5PDLUJh/a+0aq7brBl\n",
       "U3zOh4o4HamYAAAAnUGe6UURPC//AAAF/AhBsBOsNN7k5WGt17bb+lIz8hXSSsWkxd4R4+B+30H2\n",
       "lENP1b8akBhCbiJgngEF68/Tfv8vhnFjDm97pZd3yclGMpHDlLfFMqaSTf7QJysvWzV9SM56Xpwi\n",
       "UEmkbmlk59RKFh2p0oGE80AxexNbHDBh7V+3wvmORXhjcJq7yNVULpmNREsM7CqBfXtedpoS14UA\n",
       "AABNAZ8KakK/AAADAuclpLBUZHuzfRiQwQbzryozvjPCuuAxtxcMlzIRudJl+KcC1Ow0NrDhqAgU\n",
       "AI/vWz+fyBx+lp8aNrZ+sNyMrKiCwocAAAEOQZsMSahBaJlMCG///qeEAAADA43Cbs8uqDS96T6T\n",
       "DpXNMfHcAp/nAjpocfa+bY0V6OamtZri2z/QS1lv34NrrIa+lNzOfT5aYY/SMENdLsgmLpq0fkmw\n",
       "C5TLX6ujRGeUOeJH3P0OPC9VdBIUpFOI3AFwipBEpUWqqYw5tg8fXLsO+ZzmB6IVBnyAviWHtPvd\n",
       "ElOWpMCEuQ1r907qI645rVt9QBNWI5QfAufT1tlkVfpQJzCJqVNyyAHKQXKMFx8a0zxq+/fCvz4G\n",
       "Ds8yeKDUBMr4kaEsPX2kS+5Nr9jG7NBh0VitTNwLlQaGo4mQVZRoEgtBCvheVmxxIxsT+82z2i1P\n",
       "+IgQhTHlWqGKyu1gAAAAuEGbLUnhClJlMCG//qeEAAADAU/GL9tUGguoX730y6og76u0+MSFmyXZ\n",
       "R7ypJQZfeEA9GgPjQ7YPRvb4OsdRJgmOxAAlCgHz7FqMK1jWCriJYx5rcTvbTJ3LzFQ9zAbNeRjb\n",
       "o6ULxqUghx1pSFMt1wNVDHhrj6UgrrVzD4mvz33BYcjH2NlAgaW/CU2zQvnCbCFA9kgtU1OxmxnO\n",
       "UsJAdG56xVznlZIGsgvkXXrYFF2E4cD4tZ0uKdMAAAEbQZtOSeEOiZTAhv/+p4QAAAMBUeZdpgnU\n",
       "FcrrfvgV+awtkphVABL/vMFgAyIGm0bL/Ug3+PZ+s1PQNW9nhDH85eDmHiUfJ635R5OHoX7fICO/\n",
       "RZhVqA5msh3KH7a3BXviEZ/pFNnI7ocshPi4vxlzGIIkBdXba44Z/2L1VqeI9MxCDU3D4k8YrEbl\n",
       "5x+Or4zwnKySrVyuEPTDkEgml38GkMs2n/uDSiM8HpA79BmjPBIGTM+L2q+/i1Z0H+DslQHOFBdq\n",
       "WAV0wgoWalzBLEnDSXYYVIwpa+HnFM460LYfXLXTm9+JOZ/BLEcjzq6/XwTXG2w31rV3YTacN9vq\n",
       "qApcGd3fLkW1sSV9sWksGtm1QcAbKwYR2HsLrIjsYQAAAN1Bm29J4Q8mUwId//6plgAAAwC283Ww\n",
       "DWIYlcuAveIfGNVnrgilk92JIbUX0DK4owzGlPNb9iNkyAxNh6jNAfvZHWKu2gcLTPLDIYC5LyIg\n",
       "BiAbxg7eqfTnk+DqIJW5ZZAUUj2v/furSKdrLKzlS0/X0LGYsD8hHqczxkSK01+oTX74aNc7Yyd5\n",
       "ne/5LFEFUzF+JeVajIGrjv3anr9E/JtQc/KB+xtWwaXUiMdAhFc5xOoinWsX4MhYwE1ygmxGLbvV\n",
       "atX9TZ8yqoFYiaY8U9Yv2+Ifc7leYP4/CR8BgQAAAP1Bm5JJ4Q8mUwIb//6nhAAAAwPgQCQKF3Iz\n",
       "JO3f2/FUcckp2Bp0Y6n8DbxXgbmlBiRH+zQGe1uEwJozFS4Dv7NLeAYQ0npmoWA8rDojgqCt+c7R\n",
       "Z+3i9LJHOBfkjaPGi3Mod1XS7JCH1pdOOwj2oCXobrA25S3NcPXmTV02TReUpUZytv35bR9LIs/E\n",
       "W0eL88iTAm573N//g1UvztyvPAm8bfbYM+u3kM4hQswzPHmV+HQgIWa9X3ouhnJNZHwXTggFxeRX\n",
       "FRIRgrPYMlZnB3K36+IMh4kzeDxnoKOh7jdmSguLF/5LQLX2dwYCEYWirx/RNPCMUDjuYvvOwC7g\n",
       "AAAAcUGfsEURPC//AAADAluc5e1Vf2pwAbiiwS6qS7W4WKLQUCnuTzyKQi/wCz01pj2Y20fwpRcT\n",
       "Iv2jRa6hdld7b4yBdAVA7Yi0jv+sXROhewkLpa4KvsrxyDkMOh/atc2oaRDH8+i1U6Bumeai7QIK\n",
       "qoXAAAAAiAGf0WpCvwAAAwM46GXihdrx8oNE/Lqv3/mqlyAEpjBJcx934KxHuoox2Ur13JrT78Ql\n",
       "UKf1T+O4C8gJBaVMnGVplugK9+44+j2eOWUQAOhca8Oyoe4Jo7HjE2Ceu8cE9at8B1FIkJwRX031\n",
       "1E+fCqoCytUixrObsZkXPFuKZuH4kc/ZwaoAg4EAAAGHQZvUSahBaJlMFPDf/qeEABBS+bgDljob\n",
       "1N8GhcC6KbgX01enS4Je3uD/iqY70Go0GtD9fz9PlACiwAjNiAzFSldzNt/isQyLkWiYBUFI9wNR\n",
       "MO8wAMO1SLlsRWs8ArhvwMJ4swxQXas54oR1wEGdaRNnvBZdqTQ9CL9w0OghMrCWgtoWmuFD4e0x\n",
       "iFdbJ0zzVRPOUJX6e3YWyKD8Xz2ZzwbXcnXK/88nfASlF40uSwe/j9BDyfv8XD/1Wej5jJScus0L\n",
       "vHgkumuOPPJQAAADACidGFlbaiPKxtSJTcMit8z3ZgOLsj2yLIh72fRw/pf30fmwW2mP3s7jdfhM\n",
       "OVWLkCQKdGQ9vlzHkb6v53UsCDxvTeaHYVcumX6t8iuSKObBJm+hqlJmBcheaZUAwkXDEpxTn9C7\n",
       "kB3vIxP6L4KDcCRi/M7vK4CWFcOHG+D7uMXBGGLbq7BHzze+vQc8XVlKBtgsBiCjki/QRwnIbSYt\n",
       "cz1qRnVVRq8IMvjsSbb+agrxA5+nt8WBiwAAAG8Bn/NqQr8ADYOhmthL/WyBTbzWpwg0e4M8RS22\n",
       "gaXPgm1toOehSOPXJ6gA0qEXML7pDxY9FKmT/XQAyBj3pDP9hzq2zX8JNJ/Fm5PBXxubLghNCmtd\n",
       "e2Pgomi59zoE4y+EJEaCCQY0x88LQUWAIeAAAACnQZv1SeEKUmUwIb/+p4QAAAMD5cJ5Qk/Ds3WX\n",
       "rUAHiaBrc/8xVuCBNA49sXKJPl2iQd1ZTT3Yip/gF0beb81emTcbg76PD/uWfWKpdHt0klD6GsjO\n",
       "UKzfKyNT5fb16AlQm3soLWuRO4lt2l0dvgcjEwYNujzObesYdTYN/z72GKHrApkVmB1MCU7maXVO\n",
       "LFrLieoOJBrJrqAg8txpDiIs0ClTdfFBZsEAAACdQZoWSeEOiZTAhv/+p4QAAAMDzbgwggQNIgAt\n",
       "Ovvp3T2cLHCyJbvZcMA0whzklChsUFcJjzGMuBcpM7oFb97yUavIvcvLte++BskSOZXTZCWpf7Gv\n",
       "iGzw37VPX8TMZG0V52+7XNw7jN6uRb1dC3OydC4VDvVGdP2xO8fQx0MEo7qp8ZPeH4PVhgAXoG7/\n",
       "QMQwPPuRXZVlU6gFCjr0wQAAAIdBmjdJ4Q8mUwIb//6nhAAACoAxokJufM5XrIW4aEh/6aOZdBU5\n",
       "VI+3EDKIV+eYXlx3rikjS40u9Xxr/aVCxasl7UEVrY104uVExscC+2hELF4IZBdEcSaa4DlRdUja\n",
       "a0Q4H6xQ9Gsf7g/9pm/jrT9G7idz+kLiw52eelOCfrDQ6FUpBhCpAQ8AAAClQZpYSeEPJlMCG//+\n",
       "p4QAAAp+IIKKYSAOZZIlp+nPCeWcCOCI++kXo8DgxBlyK3D3rM2xFy+pdyMuaZ7Ix9N9XunkKq8a\n",
       "3J5Cc2w+D1B6go+LlV9UOXuNbWuandlb455mcO5rAyxivC2OI94xp9evPYwePm+YOm85VPbmxGl0\n",
       "GoRwehUmK5tRy5LaJBCfl8vm0CYqU9CgGH1hvdGUDyK7nPTcpWjpAAAApkGaeUnhDyZTAhv//qeE\n",
       "AAAKfiEP/GIAK97aXshvbZfFZqyVYG32dSJsTQ+UKcF7TS0BGIip4jJeQU4qlttj/ufsZLXG/XN1\n",
       "MV4br4HpQO7AiAQ9zA1sqHHJULI6CGcdD2TszRj/qU6b4JET4192ZJAQp1RAQBk3Dz+Mpp3JUX2v\n",
       "y1QMBiGECNUyJ26QIvA07ORwtz9nxMEL/hzJ+nBaups+IwUR6GAAAADXQZqbSeEPJlMFETw3//6n\n",
       "hAAACo+8EYhBVEN5/314DuG9gt9l5TUAL6KNDfnvXVzViqeb+hMIr2Lr9+Ic2wITO/NP7Jv1bESi\n",
       "Bp7hGI8m5ukX/n1A1jssTRN6Zb6zAPhItGSKdSinI8DX2E4tx0yhwQnDkRa2MOpWMhjEENr7M84A\n",
       "KaqJegF+y9oSbOx3UuhEAvK8iWETt1PE5QlHDqC3CxiNgnw4GITLyurNmp2/hj5RFTsggasLog3Q\n",
       "RrOxzee+lvgJczV+j2odSlsjDer/TQXKWFHQesEAAABYAZ66akK/AAAIbIb1/nOHYmOBB1L5Rybu\n",
       "AvUFO0aFeGhVEPLJWrPdBtlprjwonTexqnvWOpzYWAEbh2snjtYmMPKa4KDfXBAFX4sjb/JPkUR4\n",
       "Ul7WHDK/UgAAALdBmrxJ4Q8mUwIb//6nhAAACkcy7KEl4N67pwAmawkvNWtCx42xMKLrOv73BOFy\n",
       "OIANpnjvWj9q9B/GCMBZE2P5mZAXTi3Bvn9ZHUHm2xaTEs2l5Tn3Bx2dn3hws4F1agivR9rGp+iI\n",
       "ZAFF0fIvysnj8n8LfaVabf0EDui6Jy3x/QSToW+mGz+Ot5fjdVKtfQBXkSIR2PsoLQ2QCC3HgCh3\n",
       "sevz8+RGkIxuGQrrAwZWpUrAAb2xfrkAAACdQZrdSeEPJlMCG//+p4QAABu+E80H2CE8OAATl4pt\n",
       "dmkKgXqOjTMy1Z/E2BhFkorB2d5OalDRTAiVaS5bd9Pz7ZHpczoMNwv0QWBjTU8Vm3hTu+dQt869\n",
       "75Rd79IXuyb0b5M2iI2ZTtEPHC8ClI7CM+/f1kjIfBNECPhZOV6p1vPAoFIf3osyt3mGEuV+3y8H\n",
       "h1JrNRi6lFzmT/EfeQAAALJBmv9J4Q8mUwURPDf//qeEAAAa+way/SmAByZCWKnJhmwvkA2d3efl\n",
       "/tvHf1bqE1ZmchIdIyrZNvWY4EQvWIDCyHUQEPZ2qCoh+sAjhZCDRvYcjiYRixDJRCQ8gpNLvlwe\n",
       "LjX7qqBSmO0dnmpJL+GW2wS6EmRkQ+ZBN+8v+utKj/+0H/x/YHNOvqQ4/5JxYb/5DLvdi/0F2EIs\n",
       "ex4UkyXq/6BiT7F0wK0PSYLiGVp8sCkgAAAAhQGfHmpCvwAAFir/bn8R35Fhffj6kr/8k8D1AK95\n",
       "qYk5cbueW75fq8fZWPGnqp+atxsJ9PO9KY0h3BBNmaH6EgraZHS0wXYmfHBcknz4AGVg9t5Ju8J9\n",
       "4C7UbJ6rM3wrFN766AfI5f7dmPxhE3NkBy49C0zqx2DfSC4gKMqZ0KKHrfZZxsAAAACWQZsASeEP\n",
       "JlMCG//+p4QAABr77VJtiwfJfl8pkxFnoAATrwD0/zhAupFmONGgLNTodSb3m0GC/XNLSEtc8k6J\n",
       "ct2rfZOGug8NIlrcPueMyirY0YHUVsmpYpOBYDP6JsHl0w48UZyoS36lgCTnExt/kYSM9rz0UO0v\n",
       "H1irhUCRow8tw/cGcFBFwjjItHvOXzrbFsWKVhQhAAAA6UGbIUnhDyZTAhv//qeEAAAa90If+MQA\n",
       "Ri/KRArPAAaDM6L7QLu3STs/XbVjW5EmiafvFvyO3H6phobaOy0FtIMOCxeSPFf5ewsRRQqe9e+e\n",
       "i9b/avy90aqh0JCcG+YqMvSsyQMKVelzd+Bbcib2ejUXjXvuu0GfvpIxMiXasskL5Uir8b3skHaf\n",
       "MobrTwB+FS531phZsm1W+bOYgnJazNeVibrvhkRjK1jJytQzADO7DVjzQtCQ3qAplKhek66oLyPV\n",
       "Tkxea5NSqS3jf2J6DkMvJFngCpmZcIYG/p9/Ics+99PS7k73DQh4AAAA6EGbRUnhDyZTAhX//jhA\n",
       "ARb5mp1uKxdZV8VHcuEXwLbGAAcWRZKVdkcckooNPQG6UvF9p7i0m/sqBbHQAAad6T3ef5xNssKg\n",
       "R2wYWlXwgUO7kg0N/X8AZ1conrOytwRfKKiWYxFncSrOpPb8LZECkCAkpqwNcVslPYk5fszqkByp\n",
       "nFgESOdQhIlzIR/xf9gRrrRH/pVQXOwuq9rPijG293tO5hZ8UbiofJjrx0ryQx+YOoVJCokFQloS\n",
       "VCEGgYyCl7cHk84cuioo1LCwsilYj0IUKstcI9xoXazPXqDggbQDgNsVVmyDa+EAAABqQZ9jRRE8\n",
       "M/8AB++NXub/Ogqsl7ZdoJ5GolUO96ytic7I/PNEv0OXaACde90VGBO3+Rv7wGdLnKNq4nypIFc/\n",
       "Y1XEx0G4vUoJj78D81p+4/NWKXdRP2Ve4kpB7XPSyeE/bB/pX2ibZBG9JwAAAHUBn4J0Qr8ADtw3\n",
       "G3aNvTRqSt2gQs1pGhwOus8GG75r6vqOuM2G2zKt2mBNnclcQMKULUsOAAmYo2iMl3OnCwAsyufk\n",
       "uSjWCr6WSxil+udUU/W+L6UcjrnOepuLRf8PISJY8ABAeyqrI3fv9RDXZAG96QdqbZ8AAAAhAZ+E\n",
       "akK/AAulfxiENEE6L8Tjei9IWJg2j8kGTgAKb8xPAAAElm1vb3YAAABsbXZoZAAAAAAAAAAAAAAA\n",
       "AAAAA+gAAAdsAAEAAAEAAAAAAAAAAAAAAAABAAAAAAAAAAAAAAAAAAAAAQAAAAAAAAAAAAAAAAAA\n",
       "QAAAAAAAAAAAAAAAAAAAAAAAAAAAAAAAAAAAAAAAAAIAAAPAdHJhawAAAFx0a2hkAAAAAwAAAAAA\n",
       "AAAAAAAAAQAAAAAAAAdsAAAAAAAAAAAAAAAAAAAAAAABAAAAAAAAAAAAAAAAAAAAAQAAAAAAAAAA\n",
       "AAAAAAAAQAAAAAKAAAAB4AAAAAAAJGVkdHMAAAAcZWxzdAAAAAAAAAABAAAHbAAABAAAAQAAAAAD\n",
       "OG1kaWEAAAAgbWRoZAAAAAAAAAAAAAAAAAAAKAAAAEwAVcQAAAAAAC1oZGxyAAAAAAAAAAB2aWRl\n",
       "AAAAAAAAAAAAAAAAVmlkZW9IYW5kbGVyAAAAAuNtaW5mAAAAFHZtaGQAAAABAAAAAAAAAAAAAAAk\n",
       "ZGluZgAAABxkcmVmAAAAAAAAAAEAAAAMdXJsIAAAAAEAAAKjc3RibAAAALNzdHNkAAAAAAAAAAEA\n",
       "AACjYXZjMQAAAAAAAAABAAAAAAAAAAAAAAAAAAAAAAKAAeAASAAAAEgAAAAAAAAAAQAAAAAAAAAA\n",
       "AAAAAAAAAAAAAAAAAAAAAAAAAAAAAAAAABj//wAAADFhdmNDAWQAHv/hABhnZAAerNlAoD2hAAAD\n",
       "AAEAAAMAKA8WLZYBAAZo6+PLIsAAAAAcdXVpZGtoQPJfJE/FujmlG88DI/MAAAAAAAAAGHN0dHMA\n",
       "AAAAAAAAAQAAACYAAAIAAAAAFHN0c3MAAAAAAAAAAQAAAAEAAADgY3R0cwAAAAAAAAAaAAAAAQAA\n",
       "BAAAAAABAAAKAAAAAAEAAAQAAAAAAQAAAAAAAAABAAACAAAAAAIAAAQAAAAAAQAABgAAAAABAAAC\n",
       "AAAAAAEAAAgAAAAAAgAAAgAAAAAEAAAEAAAAAAEAAAgAAAAAAgAAAgAAAAABAAAGAAAAAAEAAAIA\n",
       "AAAABQAABAAAAAABAAAGAAAAAAEAAAIAAAAAAgAABAAAAAABAAAGAAAAAAEAAAIAAAAAAgAABAAA\n",
       "AAABAAAKAAAAAAEAAAQAAAAAAQAAAAAAAAABAAACAAAAABxzdHNjAAAAAAAAAAEAAAABAAAAJgAA\n",
       "AAEAAACsc3RzegAAAAAAAAAAAAAAJgAADgcAAAVlAAAAQAAAAB4AAAAwAAAA/QAAAKEAAADKAAAA\n",
       "ZAAAALEAAAChAAAAUQAAARIAAAC8AAABHwAAAOEAAAEBAAAAdQAAAIwAAAGLAAAAcwAAAKsAAACh\n",
       "AAAAiwAAAKkAAACqAAAA2wAAAFwAAAC7AAAAoQAAALYAAACJAAAAmgAAAO0AAADsAAAAbgAAAHkA\n",
       "AAAlAAAAFHN0Y28AAAAAAAAAAQAAACwAAABidWR0YQAAAFptZXRhAAAAAAAAACFoZGxyAAAAAAAA\n",
       "AABtZGlyYXBwbAAAAAAAAAAAAAAAAC1pbHN0AAAAJal0b28AAAAdZGF0YQAAAAEAAAAATGF2ZjU4\n",
       "LjI5LjEwMA==\n",
       "\">\n",
       "  Your browser does not support the video tag.\n",
       "</video>"
      ],
      "text/plain": [
       "<IPython.core.display.HTML object>"
      ]
     },
     "execution_count": 7,
     "metadata": {},
     "output_type": "execute_result"
    },
    {
     "data": {
      "image/png": "[encoded data removed]",
      "text/plain": [
       "<Figure size 640x480 with 1 Axes>"
      ]
     },
     "metadata": {},
     "output_type": "display_data"
    }
   ],
   "source": [
    "from IPython.display import HTML\n",
    "\n",
    "anim = contact_graph.animate_solution()\n",
    "HTML(anim.to_html5_video())"
   ]
  },
  {
   "cell_type": "code",
   "execution_count": 8,
   "metadata": {},
   "outputs": [
    {
     "name": "stdout",
     "output_type": "stream",
     "text": [
      "constraint is satisfied: True\n",
      "-------------------\n",
      "constraint is satisfied: True\n",
      "-------------------\n",
      "constraint is satisfied: True\n",
      "-------------------\n"
     ]
    }
   ],
   "source": [
    "vertex_names, ambient_path = zip(*sol.path)\n",
    "ambient_path = np.array(ambient_path)\n",
    "contact_graph.cc_factory.uv_vars_all\n",
    "for i in range(ambient_path.shape[0] - 1):\n",
    "    for constraint in contact_graph._default_costs_constraints.edge_constraints:\n",
    "        uv_vals_flattened = np.concatenate(ambient_path[i : i + 2])\n",
    "        issatisfied = constraint.CheckSatisfied(uv_vals_flattened)\n",
    "        print(f\"constraint is satisfied: {issatisfied}\")\n",
    "    # print(f\"vertex: {vertex_names[i]}\")\n",
    "    # print(f\"vertex pos: {ambient_path[i]}\")\n",
    "    # print(f\"next vertex: {vertex_names[i+1]}\")\n",
    "    # print(f\"next vertex pos: {ambient_path[i+1]}\")\n",
    "    print(\"-------------------\")"
   ]
  },
  {
   "cell_type": "code",
   "execution_count": null,
   "metadata": {},
   "outputs": [],
   "source": []
  }
 ],
 "metadata": {
  "kernelspec": {
   "display_name": ".venv",
   "language": "python",
   "name": "python3"
  },
  "language_info": {
   "codemirror_mode": {
    "name": "ipython",
    "version": 3
   },
   "file_extension": ".py",
   "mimetype": "text/x-python",
   "name": "python",
   "nbconvert_exporter": "python",
   "pygments_lexer": "ipython3",
   "version": "3.8.10"
  },
  "orig_nbformat": 4
 },
 "nbformat": 4,
 "nbformat_minor": 2
}
