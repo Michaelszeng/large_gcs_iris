{
 "cells": [
  {
   "cell_type": "code",
   "execution_count": 1,
   "metadata": {},
   "outputs": [],
   "source": [
    "from large_gcs.contact.contact_location import *\n",
    "from large_gcs.contact.contact_pair_mode import *\n",
    "from large_gcs.contact.rigid_body import *\n",
    "from large_gcs.geometry.polyhedron import Polyhedron\n",
    "from large_gcs.graph.contact_graph import ContactGraph\n",
    "import random\n",
    "import matplotlib.pyplot as plt\n",
    "import matplotlib.cm as cm\n",
    "\n",
    "# np.set_printoptions(formatter={\"float\": lambda x: \"{0:0.3f}\".format(x)})"
   ]
  },
  {
   "cell_type": "code",
   "execution_count": 2,
   "metadata": {},
   "outputs": [
    {
     "data": {
      "image/png": "[encoded data removed]",
      "text/plain": [
       "<Figure size 640x480 with 1 Axes>"
      ]
     },
     "metadata": {},
     "output_type": "display_data"
    }
   ],
   "source": [
    "# 2 items\n",
    "obs_vertices = [np.array([[0, 0], [1, 0], [0, -1]])]\n",
    "obj_vertices = []\n",
    "rob_vertices = [np.array([[-1, -1], [-1.5, -0.5], [-1.2, -1.5]])]\n",
    "source_obj_pos = []\n",
    "source_rob_pos = [[-1, -1]]\n",
    "target_obj_pos = []\n",
    "target_rob_pos = [[-1, -0.5]]\n",
    "\n",
    "\n",
    "# # 2 movable items\n",
    "# obs_vertices = []\n",
    "# obj_vertices = [np.array([[0, 0], [1, 0], [1, 1], [0, 1]]) + np.array([2.5, 0.5])]\n",
    "# rob_vertices = [np.array([[-1, -1], [-1.5, -0.5], [-1.2, -1.5]])]\n",
    "# source_obj_pos = [[1, 1]]\n",
    "# source_rob_pos = [[-1, -1]]\n",
    "# target_obj_pos = [[-1, -1]]\n",
    "# target_rob_pos = [[1, 1]]\n",
    "\n",
    "# 3 items\n",
    "# obs_vertices = [\n",
    "#     np.array([[0, 0], [1, 0], [0, -1]])\n",
    "# ]\n",
    "# obj_vertices = [\n",
    "#     np.array([[0, 0], [1, 0], [1, 1], [0,1]]) + np.array([2.5,0.5])\n",
    "# ]\n",
    "# rob_vertices = [\n",
    "#     np.array([[-1,-1],[-1.5,-0.5],[-1.2, -1.5]])\n",
    "# ]\n",
    "\n",
    "# # 3 boxes\n",
    "# obs_vertices = [\n",
    "#     np.array([[0, 0], [2, 0], [2, 1], [0,1]])\n",
    "# ]\n",
    "# obj_vertices = [\n",
    "#     np.array([[0, 0], [1, 0], [1, 1], [0,1]]) + np.array([2.5,0.5])\n",
    "# ]\n",
    "# rob_vertices = [\n",
    "#     np.array([[0, 0], [0.5, 0], [0.5, 0.5], [0,0.5]]) + np.array([0,-1])\n",
    "# ]\n",
    "\n",
    "# # 4 items\n",
    "# obs_vertices = [\n",
    "#     np.array([[0, 0], [1, 0], [0, -1]])\n",
    "# ]\n",
    "# obj_vertices = [\n",
    "#     np.array([[0, 0], [1, 0], [1, -0.5]]) + np.array([1.5, 0]),\n",
    "#     np.array([[0, 0], [1, 0], [1, 1], [0,1]]) + np.array([2.5,0.5])\n",
    "# ]\n",
    "# rob_vertices = [\n",
    "#     np.array([[-1,-1],[-1.5,-0.5],[-1.2, -1.5]])\n",
    "# ]\n",
    "obs = []\n",
    "objs = []\n",
    "robs = []\n",
    "n_pos_per_set = 2\n",
    "for i in range(len(obs_vertices)):\n",
    "    obs.append(\n",
    "        RigidBody(\n",
    "            name=f\"obs{i}\",\n",
    "            geometry=Polyhedron.from_vertices(obs_vertices[i]),\n",
    "            mobility_type=MobilityType.STATIC,\n",
    "            n_pos_points=n_pos_per_set,\n",
    "        )\n",
    "    )\n",
    "for i in range(len(obj_vertices)):\n",
    "    objs.append(\n",
    "        RigidBody(\n",
    "            name=f\"obj{i}\",\n",
    "            geometry=Polyhedron.from_vertices(obj_vertices[i]),\n",
    "            mobility_type=MobilityType.UNACTUATED,\n",
    "            n_pos_points=n_pos_per_set,\n",
    "        )\n",
    "    )\n",
    "for i in range(len(rob_vertices)):\n",
    "    robs.append(\n",
    "        RigidBody(\n",
    "            name=f\"rob{i}\",\n",
    "            geometry=Polyhedron.from_vertices(rob_vertices[i]),\n",
    "            mobility_type=MobilityType.ACTUATED,\n",
    "            n_pos_points=n_pos_per_set,\n",
    "        )\n",
    "    )\n",
    "all_rigid_bodies = obs + objs + robs\n",
    "\n",
    "for rigid_body in all_rigid_bodies:\n",
    "    rigid_body.plot()"
   ]
  },
  {
   "cell_type": "code",
   "execution_count": 3,
   "metadata": {},
   "outputs": [
    {
     "name": "stdout",
     "output_type": "stream",
     "text": [
      "vars_pos shape (1, 2, 2)\n",
      "[[[Variable('rob0_pos(0, 0)', Continuous)\n",
      "   Variable('rob0_pos(0, 1)', Continuous)]\n",
      "  [Variable('rob0_pos(1, 0)', Continuous)\n",
      "   Variable('rob0_pos(1, 1)', Continuous)]]]\n",
      "vars_all shape (4,)\n",
      "[Variable('rob0_pos(0, 0)', Continuous)\n",
      " Variable('rob0_pos(0, 1)', Continuous)\n",
      " Variable('rob0_pos(1, 0)', Continuous)\n",
      " Variable('rob0_pos(1, 1)', Continuous)]\n",
      "Generating contact sets for 2 bodies...\n",
      "Generating contact pair modes for 1 body pairs...\n"
     ]
    },
    {
     "name": "stderr",
     "output_type": "stream",
     "text": [
      "100%|██████████| 1/1 [00:00<00:00, 78.93it/s]\n"
     ]
    },
    {
     "name": "stdout",
     "output_type": "stream",
     "text": [
      "Each body pair has on average 9.0 modes\n",
      "Generating contact sets for 9 sets...\n"
     ]
    },
    {
     "name": "stderr",
     "output_type": "stream",
     "text": [
      "100%|██████████| 9/9 [00:00<00:00, 4931.25it/s]\n"
     ]
    },
    {
     "name": "stdout",
     "output_type": "stream",
     "text": [
      "Pruning empty sets...\n"
     ]
    },
    {
     "name": "stderr",
     "output_type": "stream",
     "text": [
      "100%|██████████| 9/9 [00:00<00:00, 36.86it/s]"
     ]
    },
    {
     "name": "stdout",
     "output_type": "stream",
     "text": [
      "9 sets remain after removing 0 empty sets\n",
      "self.uv_vars_all: [Variable('u_rob0_pos(0, 0)', Continuous)\n",
      " Variable('u_rob0_pos(0, 1)', Continuous)\n",
      " Variable('u_rob0_pos(1, 0)', Continuous)\n",
      " Variable('u_rob0_pos(1, 1)', Continuous)\n",
      " Variable('v_rob0_pos(0, 0)', Continuous)\n",
      " Variable('v_rob0_pos(0, 1)', Continuous)\n",
      " Variable('v_rob0_pos(1, 0)', Continuous)\n",
      " Variable('v_rob0_pos(1, 1)', Continuous)]\n",
      "vertex_cost_position_path_length A: [[-1.  1.  0.  0.]\n",
      " [ 0.  0. -1.  1.]]\n",
      "Affine A: [[ 0.  1.  0.  0. -1.  0.  0.  0.]\n",
      " [ 0.  0.  0.  1.  0.  0. -1.  0.]]\n",
      "b: [0. 0.]\n",
      "Generating edges...(parallel)\n"
     ]
    },
    {
     "name": "stderr",
     "output_type": "stream",
     "text": [
      "\n",
      "100%|██████████| 55/55 [00:00<00:00, 294.09it/s]\n"
     ]
    },
    {
     "name": "stdout",
     "output_type": "stream",
     "text": [
      "16 edges generated\n",
      "GraphParams(dim=4, n_vertices=11, n_edges=16, source=[[-1, -1]], target=[[-1, -0.5]], workspace=None, default_costs_constraints=DefaultGraphCostsConstraints(vertex_costs=[<pydrake.solvers.L2NormCost object at 0x7f63a0f9bb70>], vertex_constraints=[], edge_costs=[<pydrake.solvers.LinearCost object at 0x7f63a0f9b4b0>], edge_constraints=[<pydrake.solvers.LinearEqualityConstraint object at 0x7f63a0f9bf70>]))\n"
     ]
    }
   ],
   "source": [
    "contact_graph = ContactGraph(\n",
    "    obs, objs, robs, source_obj_pos, source_rob_pos, target_obj_pos, target_rob_pos\n",
    ")\n",
    "\n",
    "print(contact_graph.params)"
   ]
  },
  {
   "cell_type": "code",
   "execution_count": 4,
   "metadata": {},
   "outputs": [
    {
     "name": "stdout",
     "output_type": "stream",
     "text": [
      "Post solve hook called...\n",
      "('s', \"('NC:obs0_f2-rob0_v0',)\", 't')\n"
     ]
    }
   ],
   "source": [
    "sol = contact_graph.solve()\n",
    "vertex_names, ambient_path = zip(*sol.path)\n",
    "print(vertex_names)"
   ]
  },
  {
   "cell_type": "code",
   "execution_count": 5,
   "metadata": {},
   "outputs": [
    {
     "data": {
      "text/plain": [
       "array([-2.53094126, -2.5309247 , -1.930325  , -1.72843709])"
      ]
     },
     "execution_count": 5,
     "metadata": {},
     "output_type": "execute_result"
    }
   ],
   "source": [
    "# contact_graph.vertices[\"('NC:obs0_f2-rob0_v0',)\"].gcs_vertex.GetSolution(sol.result)\n",
    "sol.result.GetSolution(contact_graph.vertices[\"('NC:obs0_f2-rob0_v0',)\"].gcs_vertex.x())\n",
    "# sol.result.GetSolution(contact_graph.vertices[\"s\"].gcs_vertex.x())\n",
    "# contact_graph.edges[(\"s\",\"('NC:obs0_f2-rob0_v0',)\")].gcs_edge.GetSolutionCost(sol.result)"
   ]
  },
  {
   "cell_type": "code",
   "execution_count": 6,
   "metadata": {},
   "outputs": [],
   "source": [
    "contact_sol = contact_graph.contact_spp_sol"
   ]
  },
  {
   "cell_type": "code",
   "execution_count": 7,
   "metadata": {},
   "outputs": [
    {
     "name": "stdout",
     "output_type": "stream",
     "text": [
      "ShortestPathSolution(cost=2.5000000062166974, time=0.016970613971352577, path=[('s', array([-1., -1., -1., -1.])), (\"('NC:obs0_f2-rob0_v0',)\", array([-2.53094126, -2.5309247 , -1.930325  , -1.72843709])), ('t', array([-1. , -1. , -0.5, -0.5]))], flows=[0.0, 0.0, 0.0, 0.0, 0.0, 0.0, 0.0, 0.0, 0.0, 0.0, 0.0, 0.0, 0.0, 1.0, 1.0, 0.0], result=<pydrake.solvers.MathematicalProgramResult object at 0x7f63a0f76530>)\n"
     ]
    }
   ],
   "source": [
    "print(sol)"
   ]
  },
  {
   "cell_type": "code",
   "execution_count": 8,
   "metadata": {},
   "outputs": [
    {
     "data": {
      "image/png": "[encoded data removed]",
      "text/plain": [
       "<Figure size 640x480 with 1 Axes>"
      ]
     },
     "metadata": {},
     "output_type": "display_data"
    }
   ],
   "source": [
    "def plot_path(sol):\n",
    "    n_time_steps = sol.object_pos_trajectories.shape[2]\n",
    "    plt.figure()\n",
    "    for j in range(n_time_steps):\n",
    "        # Plot object trajectories\n",
    "        for i in range(sol.object_pos_trajectories.shape[0]):\n",
    "            contact_graph.objects[i].plot_at_position(\n",
    "                sol.object_pos_trajectories[i, :, j]\n",
    "            )\n",
    "        for i in range(sol.robot_pos_trajectories.shape[0]):\n",
    "            contact_graph.robots[i].plot_at_position(\n",
    "                sol.robot_pos_trajectories[i, :, j]\n",
    "            )\n",
    "    for obs in contact_graph.obstacles:\n",
    "        obs.plot()\n",
    "    # Show the plot\n",
    "    plt.axis(\"equal\")\n",
    "    plt.xlim(-15, 5)\n",
    "    plt.ylim(-5, 5)\n",
    "\n",
    "    plt.grid()\n",
    "    plt.show()\n",
    "\n",
    "\n",
    "plot_path(contact_sol)"
   ]
  },
  {
   "cell_type": "code",
   "execution_count": 9,
   "metadata": {},
   "outputs": [],
   "source": [
    "# contact_graph.plot_path()"
   ]
  },
  {
   "cell_type": "code",
   "execution_count": 10,
   "metadata": {},
   "outputs": [
    {
     "name": "stdout",
     "output_type": "stream",
     "text": [
      "-----\n",
      "robot [-1. -1.]\n",
      "-----\n",
      "robot [-2.53094126 -1.930325  ]\n",
      "-----\n",
      "robot [-1.  -0.5]\n"
     ]
    }
   ],
   "source": [
    "for i in range(contact_sol.robot_pos_trajectories.shape[2]):\n",
    "    if i % n_pos_per_set == 0:\n",
    "        print(\"-----\")\n",
    "        print(\n",
    "            \"robot\",\n",
    "            contact_sol.robot_pos_trajectories[0, :, i],\n",
    "        )\n",
    "        if contact_sol.object_pos_trajectories.size > 0:\n",
    "            print(\n",
    "                \"object\",\n",
    "                contact_sol.object_pos_trajectories[0, :, i],\n",
    "            )\n",
    "\n",
    "    # print(f\"last of set: {contact_sol.object_pos_trajectories[0, :, (i*n_pos_per_set)-1]}\")\n",
    "    # print(f\"first of set: {contact_sol.object_pos_trajectories[0, :, i*n_pos_per_set]}\")"
   ]
  },
  {
   "cell_type": "code",
   "execution_count": 11,
   "metadata": {},
   "outputs": [
    {
     "name": "stdout",
     "output_type": "stream",
     "text": [
      "('s', \"('NC:obs0_f2-rob0_v0',)\", 't')\n",
      "(array([-1., -1., -1., -1.]), array([-2.53094126, -2.5309247 , -1.930325  , -1.72843709]), array([-1. , -1. , -0.5, -0.5]))\n"
     ]
    }
   ],
   "source": [
    "vertex_names, ambient_path = zip(*sol.path)\n",
    "print(vertex_names)\n",
    "\n",
    "print(ambient_path)\n",
    "new_ambient_path = np.array(\n",
    "    [\n",
    "        [1.000, 1.000, 1.000, 1.000, -1.000, -1.000, -1.000, -1.000],\n",
    "        [1.000, -0.325, 1.000, 2.487, -1.000, -0.240, -1.000, -0.288],\n",
    "        [-0.325, -1.000, 2.487, -1.000, -0.240, 1.000, -0.288, 1.000],\n",
    "        [-1.000, -1.000, -1.000, -1.000, 1.000, 1.000, 1.000, 1.000],\n",
    "    ]\n",
    ")\n",
    "ambient_path = np.array(ambient_path)\n",
    "# ambient_path = new_ambient_path"
   ]
  },
  {
   "cell_type": "code",
   "execution_count": 12,
   "metadata": {},
   "outputs": [
    {
     "name": "stdout",
     "output_type": "stream",
     "text": [
      "constraint is satisfied: False\n",
      "-------------------\n",
      "constraint is satisfied: False\n",
      "-------------------\n"
     ]
    }
   ],
   "source": [
    "contact_graph.cc_factory.uv_vars_all\n",
    "for i in range(ambient_path.shape[0] - 1):\n",
    "    for constraint in contact_graph._default_costs_constraints.edge_constraints:\n",
    "        uv_vals_flattened = np.concatenate(ambient_path[i : i + 2])\n",
    "        issatisfied = constraint.CheckSatisfied(uv_vals_flattened)\n",
    "        print(f\"constraint is satisfied: {issatisfied}\")\n",
    "    # print(f\"vertex: {vertex_names[i]}\")\n",
    "    # print(f\"vertex pos: {ambient_path[i]}\")\n",
    "    # print(f\"next vertex: {vertex_names[i+1]}\")\n",
    "    # print(f\"next vertex pos: {ambient_path[i+1]}\")\n",
    "    print(\"-------------------\")"
   ]
  },
  {
   "cell_type": "code",
   "execution_count": 13,
   "metadata": {},
   "outputs": [],
   "source": [
    "# for name in contact_graph.vertex_names:\n",
    "#     print(name)\n",
    "#     contact_graph.plot_samples_in_set(name, 1)\n",
    "#     plt.show()"
   ]
  },
  {
   "cell_type": "code",
   "execution_count": 14,
   "metadata": {},
   "outputs": [],
   "source": [
    "# contact_graph.plot_samples_in_set(\"('IC:obs0_v0-rob0_f0',)\", 1)\n",
    "# xy=[-0.63333045, -0.59998453]\n",
    "# sample = np.repeat(xy, n_pos_per_set)\n",
    "# contact_graph.vertices[\"('IC:obs0_v0-rob0_f0',)\"].convex_set.set.PointInSet(sample)"
   ]
  },
  {
   "cell_type": "code",
   "execution_count": 15,
   "metadata": {},
   "outputs": [],
   "source": [
    "from large_gcs.graph.graph import Graph"
   ]
  },
  {
   "cell_type": "code",
   "execution_count": 16,
   "metadata": {},
   "outputs": [
    {
     "name": "stdout",
     "output_type": "stream",
     "text": [
      "ShortestPathSolution(cost=2.5, time=0.0021314079640433192, path=[('s', array([-1., -1., -1., -1.])), (\"('NC:obs0_f2-rob0_v0',)\", array([-1. , -1. , -1. , -0.5])), ('t', array([-1. , -1. , -0.5, -0.5]))], flows=[1.0, 1.0], result=<pydrake.solvers.MathematicalProgramResult object at 0x7f63e49243b0>)\n"
     ]
    }
   ],
   "source": [
    "dup_graph = Graph(contact_graph._default_costs_constraints)\n",
    "dup_graph.add_vertex(contact_graph.vertices[\"s\"], \"s\")\n",
    "dup_graph.add_vertex(contact_graph.vertices[\"t\"], \"t\")\n",
    "dup_graph.add_vertex(\n",
    "    contact_graph.vertices[\"('NC:obs0_f2-rob0_v0',)\"], \"('NC:obs0_f2-rob0_v0',)\"\n",
    ")\n",
    "dup_graph.add_edge(contact_graph.edges[(\"s\", \"('NC:obs0_f2-rob0_v0',)\")])\n",
    "dup_graph.add_edge(contact_graph.edges[(\"('NC:obs0_f2-rob0_v0',)\", \"t\")])\n",
    "dup_graph.set_source(\"s\")\n",
    "dup_graph.set_target(\"t\")\n",
    "dup_sol = dup_graph.solve()\n",
    "print(dup_sol)"
   ]
  },
  {
   "cell_type": "code",
   "execution_count": 17,
   "metadata": {},
   "outputs": [],
   "source": [
    "dup_graph.add_vertex(\n",
    "    contact_graph.vertices[\"('NC:obs0_f0-rob0_v1',)\"], \"('NC:obs0_f0-rob0_v1',)\"\n",
    ")\n",
    "# dup_graph.add_vertex(contact_graph.vertices[\"('NC:obs0_f1-rob0_v2',)\"], \"('NC:obs0_f1-rob0_v2',)\")\n",
    "\n",
    "edges_to_add = [\n",
    "    # (\"('NC:obs0_f0-rob0_v1',)\", \"('NC:obs0_f1-rob0_v2',)\"),\n",
    "    # (\"('NC:obs0_f1-rob0_v2',)\", \"('NC:obs0_f0-rob0_v1',)\"),\n",
    "    (\"('NC:obs0_f0-rob0_v1',)\", \"('NC:obs0_f2-rob0_v0',)\"),\n",
    "    (\"('NC:obs0_f2-rob0_v0',)\", \"('NC:obs0_f0-rob0_v1',)\"),\n",
    "    # (\"('NC:obs0_f1-rob0_v2',)\", \"('NC:obs0_f2-rob0_v0',)\"),\n",
    "    # (\"('NC:obs0_f2-rob0_v0',)\", \"('NC:obs0_f1-rob0_v2',)\")\n",
    "]\n",
    "for edge in edges_to_add:\n",
    "    dup_graph.add_edge(contact_graph.edges[edge])"
   ]
  },
  {
   "cell_type": "code",
   "execution_count": 18,
   "metadata": {},
   "outputs": [
    {
     "name": "stdout",
     "output_type": "stream",
     "text": [
      "m1_A = [[1.,0.,0.,0.],\n",
      " [0.,1.,0.,0.]]\n",
      "m1_b = [-0.23333045,-0.23333045]\n",
      "m2_A = [[-0.70710678, 0.        , 0.70710678, 0.        ],\n",
      " [ 0.        ,-0.70710678, 0.        , 0.70710678]]\n",
      "m2_b = [-1.24921309,-1.24921309]\n",
      "m3_A = [[ 0., 0.,-1., 0.],\n",
      " [ 0., 0., 0.,-1.]]\n",
      "m3_b = [-0.50001547,-0.50001547]\n"
     ]
    }
   ],
   "source": [
    "# Export out these problematic sets\n",
    "m1_A = np.array2string(\n",
    "    contact_graph.vertices[\"('NC:obs0_f2-rob0_v0',)\"].convex_set.set.A(), separator=\",\"\n",
    ")\n",
    "m1_b = np.array2string(\n",
    "    contact_graph.vertices[\"('NC:obs0_f2-rob0_v0',)\"].convex_set.set.b(), separator=\",\"\n",
    ")\n",
    "m2_A = np.array2string(\n",
    "    contact_graph.vertices[\"('NC:obs0_f0-rob0_v1',)\"].convex_set.set.A(), separator=\",\"\n",
    ")\n",
    "m2_b = np.array2string(\n",
    "    contact_graph.vertices[\"('NC:obs0_f0-rob0_v1',)\"].convex_set.set.b(), separator=\",\"\n",
    ")\n",
    "m3_A = np.array2string(\n",
    "    contact_graph.vertices[\"('NC:obs0_f1-rob0_v2',)\"].convex_set.set.A(), separator=\",\"\n",
    ")\n",
    "m3_b = np.array2string(\n",
    "    contact_graph.vertices[\"('NC:obs0_f1-rob0_v2',)\"].convex_set.set.b(), separator=\",\"\n",
    ")\n",
    "print(f\"m1_A = {m1_A}\")\n",
    "print(f\"m1_b = {m1_b}\")\n",
    "print(f\"m2_A = {m2_A}\")\n",
    "print(f\"m2_b = {m2_b}\")\n",
    "print(f\"m3_A = {m3_A}\")\n",
    "print(f\"m3_b = {m3_b}\")"
   ]
  },
  {
   "attachments": {},
   "cell_type": "markdown",
   "metadata": {},
   "source": [
    "Interesting, the moment I added the edge (\"('NC:obs0_f2-rob0_v0',)\", \"('NC:obs0_f0-rob0_v1',)\"), then my solution became wrong... "
   ]
  },
  {
   "cell_type": "code",
   "execution_count": 19,
   "metadata": {},
   "outputs": [
    {
     "name": "stdout",
     "output_type": "stream",
     "text": [
      "ShortestPathSolution(cost=2.50000000097319, time=0.0020716730505228043, path=[('s', array([-1., -1., -1., -1.])), (\"('NC:obs0_f2-rob0_v0',)\", array([-1.47986539, -1.47986539, -1.47986539, -0.97986539])), ('t', array([-1. , -1. , -0.5, -0.5]))], flows=[1.0, 1.0, 0.0, 0.0], result=<pydrake.solvers.MathematicalProgramResult object at 0x7f63a2b530b0>)\n"
     ]
    }
   ],
   "source": [
    "dup_sol = dup_graph.solve()\n",
    "print(dup_sol)"
   ]
  },
  {
   "cell_type": "code",
   "execution_count": 20,
   "metadata": {},
   "outputs": [],
   "source": [
    "# contact_graph.obstacles[0].plot()\n",
    "# contact_graph.robots[0].plot()\n",
    "# plt.show()"
   ]
  },
  {
   "cell_type": "code",
   "execution_count": 21,
   "metadata": {},
   "outputs": [
    {
     "name": "stdout",
     "output_type": "stream",
     "text": [
      "('IC:obs0_f0-rob0_v1',) [nan nan nan nan]\n",
      "[(\"('IC:obs0_f0-rob0_v1',)\", \"('NC:obs0_f0-rob0_v1',)\"), (\"('NC:obs0_f0-rob0_v1',)\", \"('IC:obs0_f0-rob0_v1',)\")]\n",
      "___\n",
      "('IC:obs0_f1-rob0_v2',) [nan nan nan nan]\n",
      "[(\"('IC:obs0_f1-rob0_v2',)\", \"('NC:obs0_f1-rob0_v2',)\"), (\"('NC:obs0_f1-rob0_v2',)\", \"('IC:obs0_f1-rob0_v2',)\")]\n",
      "___\n",
      "('IC:obs0_f2-rob0_v0',) [nan nan nan nan]\n",
      "[(\"('IC:obs0_f2-rob0_v0',)\", \"('NC:obs0_f2-rob0_v0',)\"), (\"('NC:obs0_f2-rob0_v0',)\", \"('IC:obs0_f2-rob0_v0',)\")]\n",
      "___\n",
      "('IC:obs0_v0-rob0_f0',) [nan nan nan nan]\n",
      "[]\n",
      "___\n",
      "('IC:obs0_v1-rob0_f1',) [nan nan nan nan]\n",
      "[]\n",
      "___\n",
      "('IC:obs0_v2-rob0_f2',) [nan nan nan nan]\n",
      "[]\n",
      "___\n",
      "('NC:obs0_f0-rob0_v1',) [nan nan nan nan]\n",
      "[(\"('IC:obs0_f0-rob0_v1',)\", \"('NC:obs0_f0-rob0_v1',)\"), (\"('NC:obs0_f0-rob0_v1',)\", \"('IC:obs0_f0-rob0_v1',)\"), (\"('NC:obs0_f0-rob0_v1',)\", \"('NC:obs0_f1-rob0_v2',)\"), (\"('NC:obs0_f1-rob0_v2',)\", \"('NC:obs0_f0-rob0_v1',)\"), (\"('NC:obs0_f0-rob0_v1',)\", \"('NC:obs0_f2-rob0_v0',)\"), (\"('NC:obs0_f2-rob0_v0',)\", \"('NC:obs0_f0-rob0_v1',)\")]\n",
      "___\n",
      "('NC:obs0_f1-rob0_v2',) [nan nan nan nan]\n",
      "[(\"('IC:obs0_f1-rob0_v2',)\", \"('NC:obs0_f1-rob0_v2',)\"), (\"('NC:obs0_f1-rob0_v2',)\", \"('IC:obs0_f1-rob0_v2',)\"), (\"('NC:obs0_f0-rob0_v1',)\", \"('NC:obs0_f1-rob0_v2',)\"), (\"('NC:obs0_f1-rob0_v2',)\", \"('NC:obs0_f0-rob0_v1',)\"), (\"('NC:obs0_f1-rob0_v2',)\", \"('NC:obs0_f2-rob0_v0',)\"), (\"('NC:obs0_f2-rob0_v0',)\", \"('NC:obs0_f1-rob0_v2',)\")]\n",
      "___\n",
      "('NC:obs0_f2-rob0_v0',) [-2.53094126 -2.5309247  -1.930325   -1.72843709]\n",
      "[(\"('IC:obs0_f2-rob0_v0',)\", \"('NC:obs0_f2-rob0_v0',)\"), (\"('NC:obs0_f2-rob0_v0',)\", \"('IC:obs0_f2-rob0_v0',)\"), (\"('NC:obs0_f0-rob0_v1',)\", \"('NC:obs0_f2-rob0_v0',)\"), (\"('NC:obs0_f2-rob0_v0',)\", \"('NC:obs0_f0-rob0_v1',)\"), (\"('NC:obs0_f1-rob0_v2',)\", \"('NC:obs0_f2-rob0_v0',)\"), (\"('NC:obs0_f2-rob0_v0',)\", \"('NC:obs0_f1-rob0_v2',)\"), (\"('NC:obs0_f2-rob0_v0',)\", 's'), ('s', \"('NC:obs0_f2-rob0_v0',)\"), (\"('NC:obs0_f2-rob0_v0',)\", 't'), ('t', \"('NC:obs0_f2-rob0_v0',)\")]\n",
      "___\n",
      "s [-1. -1. -1. -1.]\n",
      "[(\"('NC:obs0_f2-rob0_v0',)\", 's'), ('s', \"('NC:obs0_f2-rob0_v0',)\")]\n",
      "___\n",
      "t [-1.  -1.  -0.5 -0.5]\n",
      "[(\"('NC:obs0_f2-rob0_v0',)\", 't'), ('t', \"('NC:obs0_f2-rob0_v0',)\")]\n",
      "___\n"
     ]
    }
   ],
   "source": [
    "for name, v in contact_graph.vertices.items():\n",
    "    print(name, sol.result.GetSolution(v.gcs_vertex.x()))\n",
    "    print([(e.u, e.v) for e in contact_graph.incident_edges(name)])\n",
    "    print(\"___\")"
   ]
  },
  {
   "cell_type": "code",
   "execution_count": 22,
   "metadata": {},
   "outputs": [
    {
     "name": "stdout",
     "output_type": "stream",
     "text": [
      "s [-1. -1. -1. -1.]\n",
      "t [-1.  -1.  -0.5 -0.5]\n",
      "('NC:obs0_f2-rob0_v0',) [-1.47986539 -1.47986539 -1.47986539 -0.97986539]\n",
      "('NC:obs0_f0-rob0_v1',) [nan nan nan nan]\n"
     ]
    }
   ],
   "source": [
    "for name, v in dup_graph.vertices.items():\n",
    "    print(name, dup_sol.result.GetSolution(v.gcs_vertex.x()))"
   ]
  },
  {
   "cell_type": "code",
   "execution_count": 23,
   "metadata": {},
   "outputs": [],
   "source": [
    "# contact_graph.remove_edge(('t', \"('NC:obs0_f1-rob0_v2',)\"))\n",
    "# contact_graph.remove_edge(('t', \"('NC:obs0_f2-rob0_v0',)\"))\n",
    "# contact_graph.remove_edge((\"('NC:obs0_f2-rob0_v0',)\", 's'))"
   ]
  },
  {
   "cell_type": "code",
   "execution_count": 24,
   "metadata": {},
   "outputs": [],
   "source": [
    "# contact_graph.remove_vertex(\"('NC:obs0_f1-rob0_v2',)\")\n",
    "# contact_graph.remove_vertex(\"('NC:obs0_f0-rob0_v1',)\")\n",
    "# new_sol = contact_graph.solve()\n",
    "# print(new_sol.path)"
   ]
  },
  {
   "cell_type": "code",
   "execution_count": 25,
   "metadata": {},
   "outputs": [],
   "source": [
    "# original_vertices = contact_graph.vertex_names[:-3]\n",
    "\n",
    "# for vert in reversed(original_vertices):\n",
    "#     print(f\"removing vertex, {vert}\")\n",
    "#     contact_graph.remove_vertex(vert)\n",
    "#     new_sol = contact_graph.solve()\n",
    "#     print(new_sol.path)"
   ]
  },
  {
   "cell_type": "code",
   "execution_count": 26,
   "metadata": {},
   "outputs": [],
   "source": [
    "# for name in contact_graph.vertex_names:\n",
    "#     if name != \"s\" and name != \"t\" and name !=\"('NC:obs0_f2-rob0_v0',)\":\n",
    "#         contact_graph.remove_vertex(name)"
   ]
  },
  {
   "cell_type": "code",
   "execution_count": null,
   "metadata": {},
   "outputs": [],
   "source": []
  }
 ],
 "metadata": {
  "kernelspec": {
   "display_name": ".venv",
   "language": "python",
   "name": "python3"
  },
  "language_info": {
   "codemirror_mode": {
    "name": "ipython",
    "version": 3
   },
   "file_extension": ".py",
   "mimetype": "text/x-python",
   "name": "python",
   "nbconvert_exporter": "python",
   "pygments_lexer": "ipython3",
   "version": "3.11.3"
  },
  "orig_nbformat": 4
 },
 "nbformat": 4,
 "nbformat_minor": 2
}
