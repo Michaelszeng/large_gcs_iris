{
 "cells": [
  {
   "cell_type": "code",
   "execution_count": 9,
   "metadata": {},
   "outputs": [],
   "source": [
    "import numpy as np\n",
    "import matplotlib.pyplot as plt\n",
    "import itertools\n",
    "from dataclasses import dataclass\n",
    "from pydrake.all import (RandomGenerator, Variables, MathematicalProgram,\n",
    "                         DecomposeAffineExpression, DecomposeAffineExpressions,\n",
    "                         HPolyhedron, VPolytope)\n",
    "from large_gcs.contact.contact_location import *\n",
    "from large_gcs.contact.contact_pair_mode import *\n",
    "from large_gcs.contact.rigid_body import *\n",
    "from large_gcs.geometry.polyhedron import Polyhedron\n",
    "from large_gcs.graph.graph import Graph"
   ]
  },
  {
   "cell_type": "code",
   "execution_count": 18,
   "metadata": {},
   "outputs": [
    {
     "ename": "AttributeError",
     "evalue": "'ContactLocationFace' object has no attribute 'p_CV'",
     "output_type": "error",
     "traceback": [
      "\u001b[0;31m---------------------------------------------------------------------------\u001b[0m",
      "\u001b[0;31mAttributeError\u001b[0m                            Traceback (most recent call last)",
      "Cell \u001b[0;32mIn[18], line 60\u001b[0m\n\u001b[1;32m     57\u001b[0m     \u001b[39mprint\u001b[39m(contact_pair_modes)\n\u001b[1;32m     58\u001b[0m     \u001b[39mpass\u001b[39;00m\n\u001b[0;32m---> 60\u001b[0m generate_contact_sets(obs, objs, robs)\n\u001b[1;32m     61\u001b[0m \u001b[39m# contact_pair_modes = generate_contact_pair_modes(obs, obj)\u001b[39;00m\n\u001b[1;32m     62\u001b[0m \u001b[39m# for contact_pair_mode in contact_pair_modes:\u001b[39;00m\n\u001b[1;32m     63\u001b[0m \u001b[39m#     contact_pair_mode.plot()\u001b[39;00m\n",
      "Cell \u001b[0;32mIn[18], line 54\u001b[0m, in \u001b[0;36mgenerate_contact_sets\u001b[0;34m(static_obstacles, unactuated_objects, actuated_robots)\u001b[0m\n\u001b[1;32m     51\u001b[0m movable_pairs \u001b[39m=\u001b[39m \u001b[39mlist\u001b[39m(itertools\u001b[39m.\u001b[39mcombinations(movable, \u001b[39m2\u001b[39m))\n\u001b[1;32m     52\u001b[0m rigid_body_pairs \u001b[39m=\u001b[39m static_movable_pairs \u001b[39m+\u001b[39m movable_pairs\n\u001b[0;32m---> 54\u001b[0m contact_pair_modes \u001b[39m=\u001b[39m {\n\u001b[1;32m     55\u001b[0m     (body1, body2): generate_contact_pair_modes(body_dict[body1], body_dict[body2]) \u001b[39mfor\u001b[39;49;00m body1, body2 \u001b[39min\u001b[39;49;00m rigid_body_pairs\n\u001b[1;32m     56\u001b[0m }\n\u001b[1;32m     57\u001b[0m \u001b[39mprint\u001b[39m(contact_pair_modes)\n\u001b[1;32m     58\u001b[0m \u001b[39mpass\u001b[39;00m\n",
      "Cell \u001b[0;32mIn[18], line 55\u001b[0m, in \u001b[0;36m<dictcomp>\u001b[0;34m(.0)\u001b[0m\n\u001b[1;32m     51\u001b[0m movable_pairs \u001b[39m=\u001b[39m \u001b[39mlist\u001b[39m(itertools\u001b[39m.\u001b[39mcombinations(movable, \u001b[39m2\u001b[39m))\n\u001b[1;32m     52\u001b[0m rigid_body_pairs \u001b[39m=\u001b[39m static_movable_pairs \u001b[39m+\u001b[39m movable_pairs\n\u001b[1;32m     54\u001b[0m contact_pair_modes \u001b[39m=\u001b[39m {\n\u001b[0;32m---> 55\u001b[0m     (body1, body2): generate_contact_pair_modes(body_dict[body1], body_dict[body2]) \u001b[39mfor\u001b[39;00m body1, body2 \u001b[39min\u001b[39;00m rigid_body_pairs\n\u001b[1;32m     56\u001b[0m }\n\u001b[1;32m     57\u001b[0m \u001b[39mprint\u001b[39m(contact_pair_modes)\n\u001b[1;32m     58\u001b[0m \u001b[39mpass\u001b[39;00m\n",
      "File \u001b[0;32m~/Documents/Software/large_gcs/large_gcs/contact/contact_pair_mode.py:457\u001b[0m, in \u001b[0;36mgenerate_contact_pair_modes\u001b[0;34m(body_a, body_b)\u001b[0m\n\u001b[1;32m    454\u001b[0m     face_b \u001b[39m=\u001b[39m ContactLocationFace(body\u001b[39m=\u001b[39mbody_b, halfspace_index\u001b[39m=\u001b[39mindex_b)\n\u001b[1;32m    455\u001b[0m     \u001b[39mif\u001b[39;00m is_possible_face_vertex_contact(face_b, vertex_a):\n\u001b[1;32m    456\u001b[0m         contact_pair_modes\u001b[39m.\u001b[39mappend(\n\u001b[0;32m--> 457\u001b[0m             InContactPairMode(\n\u001b[1;32m    458\u001b[0m                 body_a\u001b[39m=\u001b[39;49mbody_a,\n\u001b[1;32m    459\u001b[0m                 body_b\u001b[39m=\u001b[39;49mbody_b,\n\u001b[1;32m    460\u001b[0m                 contact_location_a\u001b[39m=\u001b[39;49mvertex_a,\n\u001b[1;32m    461\u001b[0m                 contact_location_b\u001b[39m=\u001b[39;49mface_b,\n\u001b[1;32m    462\u001b[0m             )\n\u001b[1;32m    463\u001b[0m         )\n\u001b[1;32m    465\u001b[0m \u001b[39m# No contact relative to body_a\u001b[39;00m\n\u001b[1;32m    466\u001b[0m no_contact_pair_modes \u001b[39m=\u001b[39m []\n",
      "File \u001b[0;32m<string>:7\u001b[0m, in \u001b[0;36m__init__\u001b[0;34m(self, body_a, body_b, contact_location_a, contact_location_b)\u001b[0m\n",
      "File \u001b[0;32m~/Documents/Software/large_gcs/large_gcs/contact/contact_pair_mode.py:40\u001b[0m, in \u001b[0;36mContactPairMode.__post_init__\u001b[0;34m(self)\u001b[0m\n\u001b[1;32m     31\u001b[0m \u001b[39massert\u001b[39;00m \u001b[39mnot\u001b[39;00m (\n\u001b[1;32m     32\u001b[0m     \u001b[39misinstance\u001b[39m(\u001b[39mself\u001b[39m\u001b[39m.\u001b[39mcontact_location_a, ContactLocationVertex)\n\u001b[1;32m     33\u001b[0m     \u001b[39mand\u001b[39;00m \u001b[39misinstance\u001b[39m(\u001b[39mself\u001b[39m\u001b[39m.\u001b[39mcontact_location_b, ContactLocationVertex)\n\u001b[1;32m     34\u001b[0m ), \u001b[39m\"\u001b[39m\u001b[39mVertex-vertex contact not supported\u001b[39m\u001b[39m\"\u001b[39m\n\u001b[1;32m     35\u001b[0m \u001b[39massert\u001b[39;00m \u001b[39mnot\u001b[39;00m (\n\u001b[1;32m     36\u001b[0m     \u001b[39mself\u001b[39m\u001b[39m.\u001b[39mbody_a\u001b[39m.\u001b[39mmobility_type \u001b[39m==\u001b[39m MobilityType\u001b[39m.\u001b[39mSTATIC\n\u001b[1;32m     37\u001b[0m     \u001b[39mand\u001b[39;00m \u001b[39mself\u001b[39m\u001b[39m.\u001b[39mbody_b\u001b[39m.\u001b[39mmobility_type \u001b[39m==\u001b[39m MobilityType\u001b[39m.\u001b[39mSTATIC\n\u001b[1;32m     38\u001b[0m ), \u001b[39m\"\u001b[39m\u001b[39mStatic-static contact does not need to be considered\u001b[39m\u001b[39m\"\u001b[39m\n\u001b[0;32m---> 40\u001b[0m \u001b[39mself\u001b[39m\u001b[39m.\u001b[39mconstraint_formulas \u001b[39m=\u001b[39m \u001b[39mself\u001b[39;49m\u001b[39m.\u001b[39;49m_create_constraint_formulas()\n",
      "File \u001b[0;32m~/Documents/Software/large_gcs/large_gcs/contact/contact_pair_mode.py:130\u001b[0m, in \u001b[0;36mInContactPairMode._create_constraint_formulas\u001b[0;34m(self)\u001b[0m\n\u001b[1;32m    128\u001b[0m pos_exprs \u001b[39m=\u001b[39m \u001b[39mself\u001b[39m\u001b[39m.\u001b[39m_create_signed_dist_surrog_constraint_exprs()\n\u001b[1;32m    129\u001b[0m constraints \u001b[39m+\u001b[39m\u001b[39m=\u001b[39m [eq(expr, \u001b[39m0\u001b[39m) \u001b[39mfor\u001b[39;00m expr \u001b[39min\u001b[39;00m pos_exprs]\n\u001b[0;32m--> 130\u001b[0m constraints \u001b[39m+\u001b[39m\u001b[39m=\u001b[39m \u001b[39mself\u001b[39;49m\u001b[39m.\u001b[39;49m_create_horizontal_bounds_formulas()\n\u001b[1;32m    132\u001b[0m \u001b[39m# TODO: Force and Velocity Constraints\u001b[39;00m\n\u001b[1;32m    134\u001b[0m \u001b[39mself\u001b[39m\u001b[39m.\u001b[39mconstraint_formulas \u001b[39m=\u001b[39m constraints\n",
      "File \u001b[0;32m~/Documents/Software/large_gcs/large_gcs/contact/contact_pair_mode.py:171\u001b[0m, in \u001b[0;36mInContactPairMode._create_horizontal_bounds_formulas\u001b[0;34m(self)\u001b[0m\n\u001b[1;32m    169\u001b[0m     \u001b[39melif\u001b[39;00m \u001b[39misinstance\u001b[39m(\u001b[39mself\u001b[39m\u001b[39m.\u001b[39mcontact_location_a, ContactLocationVertex):\n\u001b[1;32m    170\u001b[0m         \u001b[39mif\u001b[39;00m \u001b[39misinstance\u001b[39m(\u001b[39mself\u001b[39m\u001b[39m.\u001b[39mcontact_location_b, ContactLocationFace):\n\u001b[0;32m--> 171\u001b[0m             formulas \u001b[39m=\u001b[39m create_movable_face_vert_horizontal_bounds_formulas(\n\u001b[1;32m    172\u001b[0m                 face\u001b[39m=\u001b[39;49m\u001b[39mself\u001b[39;49m\u001b[39m.\u001b[39;49mcontact_location_b, vert\u001b[39m=\u001b[39;49m\u001b[39mself\u001b[39;49m\u001b[39m.\u001b[39;49mcontact_location_b\n\u001b[1;32m    173\u001b[0m             )\n\u001b[1;32m    174\u001b[0m \u001b[39massert\u001b[39;00m \u001b[39mlen\u001b[39m(formulas) \u001b[39m>\u001b[39m \u001b[39m0\u001b[39m\n\u001b[1;32m    175\u001b[0m \u001b[39mreturn\u001b[39;00m formulas\n",
      "File \u001b[0;32m~/Documents/Software/large_gcs/large_gcs/contact/contact_pair_mode.py:378\u001b[0m, in \u001b[0;36mcreate_movable_face_vert_horizontal_bounds_formulas\u001b[0;34m(face, vert)\u001b[0m\n\u001b[1;32m    373\u001b[0m formulas \u001b[39m=\u001b[39m []\n\u001b[1;32m    374\u001b[0m \u001b[39mfor\u001b[39;00m p_Mca, p_Mcb \u001b[39min\u001b[39;00m \u001b[39mzip\u001b[39m(face\u001b[39m.\u001b[39mbody\u001b[39m.\u001b[39mvars_pos, vert\u001b[39m.\u001b[39mbody\u001b[39m.\u001b[39mvars_pos):\n\u001b[1;32m    375\u001b[0m     formulas \u001b[39m+\u001b[39m\u001b[39m=\u001b[39m _face_horizontal_bounds_formulas(\n\u001b[1;32m    376\u001b[0m         p_Refleft\u001b[39m=\u001b[39mp_Mca \u001b[39m+\u001b[39m face\u001b[39m.\u001b[39mp_CVleft,\n\u001b[1;32m    377\u001b[0m         p_Refright\u001b[39m=\u001b[39mp_Mca \u001b[39m+\u001b[39m face\u001b[39m.\u001b[39mp_CVright,\n\u001b[0;32m--> 378\u001b[0m         p_Relv\u001b[39m=\u001b[39mp_Mcb \u001b[39m+\u001b[39m vert\u001b[39m.\u001b[39;49mp_CV,\n\u001b[1;32m    379\u001b[0m         rel_length\u001b[39m=\u001b[39m\u001b[39m0\u001b[39m,\n\u001b[1;32m    380\u001b[0m     )\n\u001b[1;32m    381\u001b[0m \u001b[39mreturn\u001b[39;00m formulas\n",
      "\u001b[0;31mAttributeError\u001b[0m: 'ContactLocationFace' object has no attribute 'p_CV'"
     ]
    },
    {
     "data": {
      "image/png": "[encoded data removed]",
      "text/plain": [
       "<Figure size 640x480 with 1 Axes>"
      ]
     },
     "metadata": {},
     "output_type": "display_data"
    }
   ],
   "source": [
    "\n",
    "\n",
    "@dataclass\n",
    "class contact_set(ConvexSet):\n",
    "    contact_pair_modes: List[ContactPairMode]\n",
    "\n",
    "obs_vertices = [\n",
    "    np.array([[0, 0], [1, 0], [0, -1]])\n",
    "]\n",
    "obj_vertices = [\n",
    "    np.array([[0, 0], [1, 0], [1, -0.5]]) + np.array([1.5, 0]),\n",
    "    np.array([[0, 0], [1, 0], [1, 1], [0,1]]) + np.array([2.5,0.5])\n",
    "]\n",
    "rob_vertices = [\n",
    "    np.array([[-1,-1],[-1.5,-0.5],[-1.2, -1.5]])\n",
    "]\n",
    "obs = []\n",
    "objs = []\n",
    "robs = []\n",
    "for i in range(len(obs_vertices)):\n",
    "    obs.append(RigidBody(name=f\"obs{i}\", geometry=Polyhedron.from_vertices(obs_vertices[i]),\n",
    "                mobility_type=MobilityType.STATIC))\n",
    "for i in range(len(obj_vertices)):\n",
    "    objs.append(RigidBody(name=f\"obj{i}\", geometry=Polyhedron.from_vertices(obj_vertices[i]),\n",
    "                mobility_type=MobilityType.ACTUATED))\n",
    "for i in range(len(rob_vertices)):\n",
    "    robs.append(RigidBody(name=f\"rob{i}\", geometry=Polyhedron.from_vertices(rob_vertices[i]),\n",
    "                mobility_type=MobilityType.ACTUATED))\n",
    "all_rigid_bodies = obs + objs + robs\n",
    "# for rigid_body in all_rigid_bodies:\n",
    "#     rigid_body.geometry.plot()\n",
    "# plt.s\n",
    "temp_sets = [rigid_body.geometry for rigid_body in all_rigid_bodies]\n",
    "temp_names = [rigid_body.name for rigid_body in all_rigid_bodies]\n",
    "G = Graph()\n",
    "G.add_vertices_from_sets(temp_sets,names=temp_names)\n",
    "G.plot_sets()\n",
    "G.plot_set_labels()\n",
    "\n",
    "def generate_contact_sets(static_obstacles: List[RigidBody], unactuated_objects: List[RigidBody], actuated_robots: List[RigidBody]):\n",
    "    \"\"\"Generates all possible contact sets given a set of static obstacles, unactuated objects, and actuated robots.\"\"\"\n",
    "    body_dict = {body.name: body for body in static_obstacles + unactuated_objects + actuated_robots}\n",
    "    obs_names = [body.name for body in static_obstacles]\n",
    "    obj_names = [body.name for body in unactuated_objects]\n",
    "    rob_names = [body.name for body in actuated_robots]\n",
    "\n",
    "    # movable = unactuated_objects + actuated_robots\n",
    "    # static_movable_pairs = list(itertools.product(static_obstacles, movable))\n",
    "    # movable_pairs = list(itertools.combinations(movable, 2))\n",
    "    # rigid_body_pairs = static_movable_pairs + movable_pairs\n",
    "    movable = obj_names + rob_names\n",
    "    static_movable_pairs = list(itertools.product(obs_names, movable))\n",
    "    movable_pairs = list(itertools.combinations(movable, 2))\n",
    "    rigid_body_pairs = static_movable_pairs + movable_pairs\n",
    "\n",
    "    contact_pair_modes = {\n",
    "        (body1, body2): generate_contact_pair_modes(body_dict[body1], body_dict[body2]) for body1, body2 in rigid_body_pairs\n",
    "    }\n",
    "    print(contact_pair_modes)\n",
    "    pass\n",
    "\n",
    "generate_contact_sets(obs, objs, robs)\n",
    "# contact_pair_modes = generate_contact_pair_modes(obs, obj)\n",
    "# for contact_pair_mode in contact_pair_modes:\n",
    "#     contact_pair_mode.plot()"
   ]
  },
  {
   "cell_type": "code",
   "execution_count": null,
   "metadata": {},
   "outputs": [],
   "source": []
  }
 ],
 "metadata": {
  "kernelspec": {
   "display_name": ".venv",
   "language": "python",
   "name": "python3"
  },
  "language_info": {
   "codemirror_mode": {
    "name": "ipython",
    "version": 3
   },
   "file_extension": ".py",
   "mimetype": "text/x-python",
   "name": "python",
   "nbconvert_exporter": "python",
   "pygments_lexer": "ipython3",
   "version": "3.11.3"
  },
  "orig_nbformat": 4
 },
 "nbformat": 4,
 "nbformat_minor": 2
}
