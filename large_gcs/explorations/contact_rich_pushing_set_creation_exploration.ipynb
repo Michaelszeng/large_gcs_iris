{
 "cells": [
  {
   "cell_type": "code",
   "execution_count": 8,
   "metadata": {},
   "outputs": [],
   "source": [
    "import numpy as np\n",
    "from large_gcs.geometry.polyhedron import Polyhedron\n",
    "from large_gcs.geometry.ellipsoid import Ellipsoid\n",
    "from large_gcs.geometry.point import Point\n",
    "from large_gcs.graph.graph import Graph, DefaultGraphCostsConstraints, Edge, Vertex\n",
    "from pydrake.all import (RandomGenerator, Variables, MathematicalProgram,\n",
    "                         DecomposeAffineExpression, DecomposeAffineExpressions,\n",
    "                         HPolyhedron, VPolytope)\n",
    "import matplotlib.pyplot as plt\n",
    "import matplotlib.patches as patches\n"
   ]
  },
  {
   "cell_type": "code",
   "execution_count": 2,
   "metadata": {},
   "outputs": [],
   "source": [
    "def scalar_proj_u_onto_v(u, v):\n",
    "    u = np.array(u)\n",
    "    v = np.array(v)\n",
    "    return (np.dot(u,v)/np.linalg.norm(v))\n",
    "def calc_rect_center_offset_from_halfspace(halfspace_normal, rect_lengths):\n",
    "    \"\"\"Returns the scalar offset in the normal direction that needs to be subtracted from the current offset such that the rect will not protrude from the original halfspace.\"\"\"\n",
    "    halfspace_normal = np.array(halfspace_normal)\n",
    "    rect_lengths = np.array(rect_lengths)\n",
    "    assert halfspace_normal.shape[0] == rect_lengths.shape[0]\n",
    "    u = rect_lengths/2 * np.sign(halfspace_normal)\n",
    "    return scalar_proj_u_onto_v(u, halfspace_normal)"
   ]
  },
  {
   "cell_type": "code",
   "execution_count": 3,
   "metadata": {},
   "outputs": [
    {
     "name": "stdout",
     "output_type": "stream",
     "text": [
      "Polyhedron is bounded True\n"
     ]
    }
   ],
   "source": [
    "S_coll_free_W= Polyhedron.from_vertices(([0,0],[10,-3],[13,5],[5,8]))\n",
    "# S_coll_free_W.plot()"
   ]
  },
  {
   "cell_type": "code",
   "execution_count": 4,
   "metadata": {},
   "outputs": [],
   "source": [
    "obj_lengths = [0.5, 3] # width, height\n",
    "rob_radius = 1\n",
    "\n",
    "def plot_square(center, radius):\n",
    "    bottom_left = np.array(center) - radius\n",
    "    width = 2*radius\n",
    "    square = patches.Rectangle(bottom_left, width, width, linewidth=1, edgecolor='r', facecolor='none')\n",
    "    plt.gca().add_patch(square)\n",
    "\n",
    "def plot_rectangle(center, width, height):\n",
    "    bottom_left = np.array(center) - np.array([width/2, height/2])\n",
    "    rect = patches.Rectangle(bottom_left, width, height, linewidth=1, edgecolor='r', facecolor='none')\n",
    "    plt.gca().add_patch(rect)\n",
    "    plt.scatter(center[0], center[1], c='r', s=3)\n",
    "\n",
    "def plot_circle(center, radius):\n",
    "    circle = patches.Circle(center, radius, linewidth=1, edgecolor='r', facecolor='none')\n",
    "    plt.gca().add_patch(circle)\n",
    "    plt.scatter(center[0], center[1], c='r', s=3)\n",
    "\n",
    "def offset_halfspace_eqns_by_rect(A, b, rect_lengths):\n",
    "    A = np.array(A)\n",
    "    b = np.array(b)\n",
    "    rect_lengths = np.array(rect_lengths)\n",
    "    \n",
    "    assert A.shape[0] == b.shape[0]\n",
    "    assert A.shape[1] == rect_lengths.shape[0]\n",
    "\n",
    "    for i in range(A.shape[0]):\n",
    "        offset = calc_rect_center_offset_from_halfspace(A[i], rect_lengths)\n",
    "        b[i] -= offset\n",
    "    return b\n",
    "\n",
    "def offset_halfspace_eqns_by_sphere(b, radius):\n",
    "    b = np.array(b)\n",
    "    b -= radius\n",
    "    return b\n"
   ]
  },
  {
   "attachments": {},
   "cell_type": "markdown",
   "metadata": {},
   "source": [
    "And now to double-check that the rectangles centered in the inner polyhedron don't exceed the outer polyhedron, we can use this function that randomly generates samples."
   ]
  },
  {
   "cell_type": "code",
   "execution_count": 5,
   "metadata": {},
   "outputs": [],
   "source": [
    "def get_samples_from_set(convex_set, n_samples=1000):\n",
    "    samples = []\n",
    "    generator = RandomGenerator(seed=1)\n",
    "    samples.append(convex_set.set.UniformSample(generator))\n",
    "    for i in range(n_samples-1):\n",
    "        samples.append(convex_set.set.UniformSample(generator,previous_sample=samples[-1]))\n",
    "    return samples"
   ]
  },
  {
   "attachments": {},
   "cell_type": "markdown",
   "metadata": {},
   "source": [
    "Now I'm going to try making the set in the higher dimensional configuration space for the robot being to the right of the object and in contact, and every other face not being in contact."
   ]
  },
  {
   "cell_type": "code",
   "execution_count": 6,
   "metadata": {},
   "outputs": [
    {
     "name": "stdout",
     "output_type": "stream",
     "text": [
      "(13, 1)\n",
      "[[<Expression \"(0.99999999999997768 - 0.28734788556634538 * x(0) - 0.95782628522115132 * x(1))\">]\n",
      " [<Expression \"(-9.4166621004556443 + 0.93632917756904455 * x(0) - 0.3511234415883917 * x(1))\">]\n",
      " [<Expression \"(0.99999999999997768 - 0.84799830400508802 * x(0) + 0.52999894000318004 * x(1))\">]\n",
      " [<Expression \"(-8.2462506284943373 + 0.3511234415883917 * x(0) + 0.93632917756904455 * x(1))\">]\n",
      " [<Expression \"(1.5085763992232912 - 0.28734788556634538 * x(2) - 0.95782628522115132 * x(3))\">]\n",
      " [<Expression \"(-9.6558946436807958 + 0.93632917756904455 * x(2) - 0.3511234415883917 * x(3))\">]\n",
      " [<Expression \"(1.0069979860060199 - 0.84799830400508802 * x(2) + 0.52999894000318004 * x(3))\">]\n",
      " [<Expression \"(-7.7539760017436725 + 0.3511234415883917 * x(2) + 0.93632917756904455 * x(3))\">]\n",
      " [<Expression \"(x(0) - x(2) - x(4))\">]\n",
      " [<Expression \"(x(1) - x(3) - x(5))\">]\n",
      " [<Expression \"( - x(0) + x(2) + x(4))\">]\n",
      " [<Expression \"( - x(1) + x(3) + x(5))\">]\n",
      " [<Expression \"(1.25 - x(4))\">]]\n",
      "(13, 6)\n",
      "[[-0.28734789 -0.95782629  0.          0.          0.          0.        ]\n",
      " [ 0.93632918 -0.35112344  0.          0.          0.          0.        ]\n",
      " [-0.8479983   0.52999894  0.          0.          0.          0.        ]\n",
      " [ 0.35112344  0.93632918  0.          0.          0.          0.        ]\n",
      " [ 0.          0.         -0.28734789 -0.95782629  0.          0.        ]\n",
      " [ 0.          0.          0.93632918 -0.35112344  0.          0.        ]\n",
      " [ 0.          0.         -0.8479983   0.52999894  0.          0.        ]\n",
      " [ 0.          0.          0.35112344  0.93632918  0.          0.        ]\n",
      " [ 1.          0.         -1.          0.         -1.          0.        ]\n",
      " [ 0.          1.          0.         -1.          0.         -1.        ]\n",
      " [-1.          0.          1.          0.          1.          0.        ]\n",
      " [ 0.         -1.          0.          1.          0.          1.        ]\n",
      " [ 0.          0.          0.          0.         -1.          0.        ]]\n",
      "(13,)\n",
      "[ 1.         -9.4166621   1.         -8.24625063  1.5085764  -9.65589464\n",
      "  1.00699799 -7.753976    0.          0.          0.          0.\n",
      "  1.25      ]\n"
     ]
    }
   ],
   "source": [
    "prog = MathematicalProgram()\n",
    "x = prog.NewContinuousVariables(6,\"x\")\n",
    "A = S_coll_free_W.set.A()\n",
    "b = S_coll_free_W.set.b()\n",
    "rob_b_offset = offset_halfspace_eqns_by_sphere(b, rob_radius)\n",
    "rob_collision_free_exprs = A @ x[0:2,np.newaxis] - rob_b_offset[:,np.newaxis]\n",
    "\n",
    "obj_b_offset = offset_halfspace_eqns_by_rect(A, b, obj_lengths)\n",
    "obj_collision_free_exprs = A @ x[2:4,np.newaxis] - obj_b_offset[:,np.newaxis]\n",
    "\n",
    "# Enforcing that the relative position of the robot and object\n",
    "# aligns with the positions of the robot and object in the world frames\n",
    "p_ObjRob_W = x[0:2] - x[2:4]\n",
    "p_ObjRob_Obj = x[4:6]\n",
    "# To get the equality, I need to do both p_ObjRob_W - p_ObjRob_Obj <= 0 and p_ObjRob_Obj - p_ObjRob_W <= 0\n",
    "rob_obj_W_enforce_equality_exprs = np.hstack((p_ObjRob_W - p_ObjRob_Obj, p_ObjRob_Obj - p_ObjRob_W))[:,np.newaxis]\n",
    "\n",
    "# robot is to the right of the object\n",
    "# rob_radius + obj_lengths[0]/2 <= p_ObjRob_Obj\n",
    "rob_obj_relative_exprs = np.array([rob_radius + obj_lengths[0]/2 - p_ObjRob_Obj[0]])[:,np.newaxis]\n",
    "\n",
    "combined_exprs = np.vstack((rob_collision_free_exprs, obj_collision_free_exprs, rob_obj_W_enforce_equality_exprs, rob_obj_relative_exprs))\n",
    "print(combined_exprs.shape)\n",
    "print(combined_exprs)\n",
    "\n",
    "A_higher_dim, b_higher_dim = DecomposeAffineExpressions(combined_exprs, x)\n",
    "print(A_higher_dim.shape)\n",
    "print(A_higher_dim)\n",
    "print(b_higher_dim.shape)\n",
    "print(b_higher_dim)"
   ]
  },
  {
   "cell_type": "code",
   "execution_count": 13,
   "metadata": {},
   "outputs": [
    {
     "name": "stdout",
     "output_type": "stream",
     "text": [
      "Polyhedron is bounded True\n"
     ]
    },
    {
     "ename": "RuntimeError",
     "evalue": "Solver Mosek failed to solve the maximum inscribed ellipse problem; it terminated with SolutionResult SolverSpecificError). Make sure that your polyhedron is bounded and has an interior.",
     "output_type": "error",
     "traceback": [
      "\u001b[0;31m---------------------------------------------------------------------------\u001b[0m",
      "\u001b[0;31mRuntimeError\u001b[0m                              Traceback (most recent call last)",
      "Cell \u001b[0;32mIn[13], line 1\u001b[0m\n\u001b[0;32m----> 1\u001b[0m S_higher_dim \u001b[39m=\u001b[39m Polyhedron(A_higher_dim, \u001b[39m-\u001b[39;49mb_higher_dim)\n",
      "File \u001b[0;32m~/Documents/Software/large_gcs/large_gcs/geometry/polyhedron.py:24\u001b[0m, in \u001b[0;36mPolyhedron.__init__\u001b[0;34m(self, A, b)\u001b[0m\n\u001b[1;32m     18\u001b[0m \u001b[39mprint\u001b[39m(\u001b[39mf\u001b[39m\u001b[39m\"\u001b[39m\u001b[39mPolyhedron is bounded \u001b[39m\u001b[39m{\u001b[39;00m\u001b[39mself\u001b[39m\u001b[39m.\u001b[39m_h_polyhedron\u001b[39m.\u001b[39mIsBounded()\u001b[39m}\u001b[39;00m\u001b[39m\"\u001b[39m)\n\u001b[1;32m     19\u001b[0m \u001b[39m# self._vertices = VPolytope(self._h_polyhedron).vertices().T\u001b[39;00m\n\u001b[1;32m     20\u001b[0m \u001b[39m# hull = ConvexHull(self._vertices)  # orders vertices counterclockwise\u001b[39;00m\n\u001b[1;32m     21\u001b[0m \u001b[39m# self._vertices = self._vertices[hull.vertices]\u001b[39;00m\n\u001b[1;32m     22\u001b[0m \n\u001b[1;32m     23\u001b[0m \u001b[39m# Compute center\u001b[39;00m\n\u001b[0;32m---> 24\u001b[0m max_ellipsoid \u001b[39m=\u001b[39m \u001b[39mself\u001b[39;49m\u001b[39m.\u001b[39;49m_h_polyhedron\u001b[39m.\u001b[39;49mMaximumVolumeInscribedEllipsoid()\n\u001b[1;32m     25\u001b[0m \u001b[39mself\u001b[39m\u001b[39m.\u001b[39m_center \u001b[39m=\u001b[39m np\u001b[39m.\u001b[39marray(max_ellipsoid\u001b[39m.\u001b[39mcenter())\n",
      "\u001b[0;31mRuntimeError\u001b[0m: Solver Mosek failed to solve the maximum inscribed ellipse problem; it terminated with SolutionResult SolverSpecificError). Make sure that your polyhedron is bounded and has an interior."
     ]
    }
   ],
   "source": [
    "S_higher_dim = Polyhedron(A_higher_dim, -b_higher_dim)"
   ]
  },
  {
   "cell_type": "code",
   "execution_count": 9,
   "metadata": {},
   "outputs": [],
   "source": [
    "S_higher_dim = HPolyhedron(A_higher_dim, -b_higher_dim)"
   ]
  },
  {
   "cell_type": "code",
   "execution_count": 10,
   "metadata": {},
   "outputs": [
    {
     "ename": "ValueError",
     "evalue": "The Hit and Run algorithm failed to find a feasible point in the set. The `previous_sample` must be in the set.\nmax(A * previous_sample - b) = 1.5543122344752192e-15",
     "output_type": "error",
     "traceback": [
      "\u001b[0;31m---------------------------------------------------------------------------\u001b[0m",
      "\u001b[0;31mValueError\u001b[0m                                Traceback (most recent call last)",
      "Cell \u001b[0;32mIn[10], line 9\u001b[0m\n\u001b[1;32m      6\u001b[0m         samples\u001b[39m.\u001b[39mappend(\u001b[39mset\u001b[39m\u001b[39m.\u001b[39mUniformSample(generator,previous_sample\u001b[39m=\u001b[39msamples[\u001b[39m-\u001b[39m\u001b[39m1\u001b[39m]))\n\u001b[1;32m      7\u001b[0m     \u001b[39mreturn\u001b[39;00m samples\n\u001b[0;32m----> 9\u001b[0m samples \u001b[39m=\u001b[39m get_samples_from_drake_set(S_higher_dim, n_samples\u001b[39m=\u001b[39;49m\u001b[39m10\u001b[39;49m)\n",
      "Cell \u001b[0;32mIn[10], line 4\u001b[0m, in \u001b[0;36mget_samples_from_drake_set\u001b[0;34m(set, n_samples)\u001b[0m\n\u001b[1;32m      2\u001b[0m samples \u001b[39m=\u001b[39m []\n\u001b[1;32m      3\u001b[0m generator \u001b[39m=\u001b[39m RandomGenerator(seed\u001b[39m=\u001b[39m\u001b[39m1\u001b[39m)\n\u001b[0;32m----> 4\u001b[0m samples\u001b[39m.\u001b[39mappend(\u001b[39mset\u001b[39;49m\u001b[39m.\u001b[39;49mUniformSample(generator))\n\u001b[1;32m      5\u001b[0m \u001b[39mfor\u001b[39;00m i \u001b[39min\u001b[39;00m \u001b[39mrange\u001b[39m(n_samples\u001b[39m-\u001b[39m\u001b[39m1\u001b[39m):\n\u001b[1;32m      6\u001b[0m     samples\u001b[39m.\u001b[39mappend(\u001b[39mset\u001b[39m\u001b[39m.\u001b[39mUniformSample(generator,previous_sample\u001b[39m=\u001b[39msamples[\u001b[39m-\u001b[39m\u001b[39m1\u001b[39m]))\n",
      "\u001b[0;31mValueError\u001b[0m: The Hit and Run algorithm failed to find a feasible point in the set. The `previous_sample` must be in the set.\nmax(A * previous_sample - b) = 1.5543122344752192e-15"
     ]
    }
   ],
   "source": [
    "def get_samples_from_drake_set(set, n_samples=1000):\n",
    "    samples = []\n",
    "    generator = RandomGenerator(seed=1)\n",
    "    samples.append(set.UniformSample(generator))\n",
    "    for i in range(n_samples-1):\n",
    "        samples.append(set.UniformSample(generator,previous_sample=samples[-1]))\n",
    "    return samples\n",
    "\n",
    "samples = get_samples_from_drake_set(S_higher_dim, n_samples=10)"
   ]
  },
  {
   "cell_type": "code",
   "execution_count": 12,
   "metadata": {},
   "outputs": [
    {
     "data": {
      "text/plain": [
       "False"
      ]
     },
     "execution_count": 12,
     "metadata": {},
     "output_type": "execute_result"
    }
   ],
   "source": [
    "S_higher_dim.IsEmpty()"
   ]
  },
  {
   "cell_type": "code",
   "execution_count": null,
   "metadata": {},
   "outputs": [],
   "source": []
  }
 ],
 "metadata": {
  "kernelspec": {
   "display_name": ".venv",
   "language": "python",
   "name": "python3"
  },
  "language_info": {
   "codemirror_mode": {
    "name": "ipython",
    "version": 3
   },
   "file_extension": ".py",
   "mimetype": "text/x-python",
   "name": "python",
   "nbconvert_exporter": "python",
   "pygments_lexer": "ipython3",
   "version": "3.11.3"
  },
  "orig_nbformat": 4
 },
 "nbformat": 4,
 "nbformat_minor": 2
}
