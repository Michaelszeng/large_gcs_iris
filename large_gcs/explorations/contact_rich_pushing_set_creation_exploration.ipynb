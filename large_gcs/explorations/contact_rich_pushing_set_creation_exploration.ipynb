{
 "cells": [
  {
   "cell_type": "code",
   "execution_count": 8,
   "metadata": {},
   "outputs": [],
   "source": [
    "import numpy as np\n",
    "from large_gcs.geometry.polyhedron import Polyhedron\n",
    "from large_gcs.geometry.ellipsoid import Ellipsoid\n",
    "from large_gcs.geometry.point import Point\n",
    "from large_gcs.graph.graph import Graph, DefaultGraphCostsConstraints, Edge, Vertex\n",
    "from pydrake.all import (RandomGenerator, Variables, MathematicalProgram,\n",
    "                         DecomposeAffineExpression, DecomposeAffineExpressions,\n",
    "                         HPolyhedron, VPolytope)\n",
    "import matplotlib.pyplot as plt\n",
    "import matplotlib.patches as patches\n"
   ]
  },
  {
   "cell_type": "code",
   "execution_count": 9,
   "metadata": {},
   "outputs": [],
   "source": [
    "def scalar_proj_u_onto_v(u, v):\n",
    "    u = np.array(u)\n",
    "    v = np.array(v)\n",
    "    return (np.dot(u,v)/np.linalg.norm(v))\n",
    "def calc_rect_center_offset_from_halfspace(halfspace_normal, rect_lengths):\n",
    "    \"\"\"Returns the scalar offset in the normal direction that needs to be subtracted from the current offset such that the rect will not protrude from the original halfspace.\"\"\"\n",
    "    halfspace_normal = np.array(halfspace_normal)\n",
    "    rect_lengths = np.array(rect_lengths)\n",
    "    assert halfspace_normal.shape[0] == rect_lengths.shape[0]\n",
    "    u = rect_lengths/2 * np.sign(halfspace_normal)\n",
    "    return scalar_proj_u_onto_v(u, halfspace_normal)"
   ]
  },
  {
   "cell_type": "code",
   "execution_count": 10,
   "metadata": {},
   "outputs": [],
   "source": [
    "S_coll_free_W= Polyhedron.from_vertices(([0,0],[10,-3],[13,5],[5,8]))\n",
    "# S_coll_free_W.plot()"
   ]
  },
  {
   "cell_type": "code",
   "execution_count": 11,
   "metadata": {},
   "outputs": [],
   "source": [
    "obj_lengths = [0.5, 3] # width, height\n",
    "rob_radius = 1\n",
    "\n",
    "def plot_square(center, radius):\n",
    "    bottom_left = np.array(center) - radius\n",
    "    width = 2*radius\n",
    "    square = patches.Rectangle(bottom_left, width, width, linewidth=1, edgecolor='r', facecolor='none')\n",
    "    plt.gca().add_patch(square)\n",
    "\n",
    "def plot_rectangle(center, width, height):\n",
    "    bottom_left = np.array(center) - np.array([width/2, height/2])\n",
    "    rect = patches.Rectangle(bottom_left, width, height, linewidth=1, edgecolor='r', facecolor='none')\n",
    "    plt.gca().add_patch(rect)\n",
    "    plt.scatter(center[0], center[1], c='r', s=3)\n",
    "\n",
    "def plot_circle(center, radius):\n",
    "    circle = patches.Circle(center, radius, linewidth=1, edgecolor='r', facecolor='none')\n",
    "    plt.gca().add_patch(circle)\n",
    "    plt.scatter(center[0], center[1], c='r', s=3)\n",
    "\n",
    "def offset_halfspace_eqns_by_rect(A, b, rect_lengths):\n",
    "    A = np.array(A)\n",
    "    b = np.array(b)\n",
    "    rect_lengths = np.array(rect_lengths)\n",
    "    \n",
    "    assert A.shape[0] == b.shape[0]\n",
    "    assert A.shape[1] == rect_lengths.shape[0]\n",
    "\n",
    "    for i in range(A.shape[0]):\n",
    "        offset = calc_rect_center_offset_from_halfspace(A[i], rect_lengths)\n",
    "        b[i] -= offset\n",
    "    return b\n",
    "\n",
    "def offset_halfspace_eqns_by_sphere(b, radius):\n",
    "    b = np.array(b)\n",
    "    b -= radius\n",
    "    return b\n"
   ]
  },
  {
   "attachments": {},
   "cell_type": "markdown",
   "metadata": {},
   "source": [
    "And now to double-check that the rectangles centered in the inner polyhedron don't exceed the outer polyhedron, we can use this function that randomly generates samples."
   ]
  },
  {
   "cell_type": "code",
   "execution_count": 12,
   "metadata": {},
   "outputs": [],
   "source": [
    "def get_samples_from_set(convex_set, n_samples=1000):\n",
    "    samples = []\n",
    "    generator = RandomGenerator(seed=1)\n",
    "    samples.append(convex_set.set.UniformSample(generator))\n",
    "    for i in range(n_samples-1):\n",
    "        samples.append(convex_set.set.UniformSample(generator,previous_sample=samples[-1]))\n",
    "    return samples"
   ]
  },
  {
   "attachments": {},
   "cell_type": "markdown",
   "metadata": {},
   "source": [
    "Now I'm going to try making the set in the higher dimensional configuration space for the robot being to the right of the object and in contact, and every other face not being in contact."
   ]
  },
  {
   "cell_type": "code",
   "execution_count": 13,
   "metadata": {},
   "outputs": [
    {
     "name": "stdout",
     "output_type": "stream",
     "text": [
      "(13, 1)\n",
      "[[<Expression \"(0.99999999999997768 - 0.28734788556634538 * x(0) - 0.95782628522115132 * x(1))\">]\n",
      " [<Expression \"(-9.4166621004556443 + 0.93632917756904455 * x(0) - 0.3511234415883917 * x(1))\">]\n",
      " [<Expression \"(-8.2462506284943373 + 0.3511234415883917 * x(0) + 0.93632917756904455 * x(1))\">]\n",
      " [<Expression \"(0.99999999999997768 - 0.84799830400508802 * x(0) + 0.52999894000318004 * x(1))\">]\n",
      " [<Expression \"(1.5085763992232912 - 0.28734788556634538 * x(2) - 0.95782628522115132 * x(3))\">]\n",
      " [<Expression \"(-9.6558946436807958 + 0.93632917756904455 * x(2) - 0.3511234415883917 * x(3))\">]\n",
      " [<Expression \"(-7.7539760017436725 + 0.3511234415883917 * x(2) + 0.93632917756904455 * x(3))\">]\n",
      " [<Expression \"(1.0069979860060199 - 0.84799830400508802 * x(2) + 0.52999894000318004 * x(3))\">]\n",
      " [<Expression \"(x(0) - x(2) - x(4))\">]\n",
      " [<Expression \"(x(1) - x(3) - x(5))\">]\n",
      " [<Expression \"( - x(0) + x(2) + x(4))\">]\n",
      " [<Expression \"( - x(1) + x(3) + x(5))\">]\n",
      " [<Expression \"(1.25 - x(4))\">]]\n",
      "(13, 6)\n",
      "[[-0.28734789 -0.95782629  0.          0.          0.          0.        ]\n",
      " [ 0.93632918 -0.35112344  0.          0.          0.          0.        ]\n",
      " [ 0.35112344  0.93632918  0.          0.          0.          0.        ]\n",
      " [-0.8479983   0.52999894  0.          0.          0.          0.        ]\n",
      " [ 0.          0.         -0.28734789 -0.95782629  0.          0.        ]\n",
      " [ 0.          0.          0.93632918 -0.35112344  0.          0.        ]\n",
      " [ 0.          0.          0.35112344  0.93632918  0.          0.        ]\n",
      " [ 0.          0.         -0.8479983   0.52999894  0.          0.        ]\n",
      " [ 1.          0.         -1.          0.         -1.          0.        ]\n",
      " [ 0.          1.          0.         -1.          0.         -1.        ]\n",
      " [-1.          0.          1.          0.          1.          0.        ]\n",
      " [ 0.         -1.          0.          1.          0.          1.        ]\n",
      " [ 0.          0.          0.          0.         -1.          0.        ]]\n",
      "(13,)\n",
      "[ 1.         -9.4166621  -8.24625063  1.          1.5085764  -9.65589464\n",
      " -7.753976    1.00699799  0.          0.          0.          0.\n",
      "  1.25      ]\n"
     ]
    }
   ],
   "source": [
    "prog = MathematicalProgram()\n",
    "x = prog.NewContinuousVariables(6,\"x\")\n",
    "A = S_coll_free_W.set.A()\n",
    "b = S_coll_free_W.set.b()\n",
    "rob_b_offset = offset_halfspace_eqns_by_sphere(b, rob_radius)\n",
    "rob_collision_free_exprs = A @ x[0:2,np.newaxis] - rob_b_offset[:,np.newaxis]\n",
    "\n",
    "obj_b_offset = offset_halfspace_eqns_by_rect(A, b, obj_lengths)\n",
    "obj_collision_free_exprs = A @ x[2:4,np.newaxis] - obj_b_offset[:,np.newaxis]\n",
    "\n",
    "# Enforcing that the relative position of the robot and object\n",
    "# aligns with the positions of the robot and object in the world frames\n",
    "p_ObjRob_W = x[0:2] - x[2:4]\n",
    "p_ObjRob_Obj = x[4:6]\n",
    "# To get the equality, I need to do both p_ObjRob_W - p_ObjRob_Obj <= 0 and p_ObjRob_Obj - p_ObjRob_W <= 0\n",
    "rob_obj_W_enforce_equality_exprs = np.hstack((p_ObjRob_W - p_ObjRob_Obj, p_ObjRob_Obj - p_ObjRob_W))[:,np.newaxis]\n",
    "\n",
    "# robot is to the right of the object\n",
    "# rob_radius + obj_lengths[0]/2 <= p_ObjRob_Obj\n",
    "rob_obj_relative_exprs = np.array([rob_radius + obj_lengths[0]/2 - p_ObjRob_Obj[0]])[:,np.newaxis]\n",
    "\n",
    "combined_exprs = np.vstack((rob_collision_free_exprs, obj_collision_free_exprs, rob_obj_W_enforce_equality_exprs, rob_obj_relative_exprs))\n",
    "print(combined_exprs.shape)\n",
    "print(combined_exprs)\n",
    "\n",
    "A_higher_dim, b_higher_dim = DecomposeAffineExpressions(combined_exprs, x)\n",
    "print(A_higher_dim.shape)\n",
    "print(A_higher_dim)\n",
    "print(b_higher_dim.shape)\n",
    "print(b_higher_dim)"
   ]
  },
  {
   "attachments": {},
   "cell_type": "markdown",
   "metadata": {},
   "source": [
    "## Solve a GCS problem with a single set that has no interior\n",
    "Basically use GCS to sample a point within the set. Use the vanilla GCS machinery to just make sure this works."
   ]
  },
  {
   "cell_type": "code",
   "execution_count": 25,
   "metadata": {},
   "outputs": [
    {
     "name": "stdout",
     "output_type": "stream",
     "text": [
      "9.221799963073472\n",
      "[0.5 0.5]\n"
     ]
    }
   ],
   "source": [
    "from pydrake.all import (\n",
    "    GraphOfConvexSets,\n",
    "    GraphOfConvexSetsOptions,\n",
    "    Cost,\n",
    "    Constraint,\n",
    "    Binding,\n",
    "    MathematicalProgramResult,\n",
    "    Point,\n",
    "    HPolyhedron,\n",
    "    VPolytope\n",
    ")\n",
    "import numpy as np\n",
    "from large_gcs.graph.cost_factory import create_l2norm_edge_cost\n",
    "\n",
    "\n",
    "gcs = GraphOfConvexSets()\n",
    "source_set = Point([0, 0])\n",
    "target_set = Point([0, 9])\n",
    "mid_set = HPolyhedron(VPolytope(np.array([[0.5,0.5],[1,0],[1,1]]).T))\n",
    "gcs_edges = []\n",
    "v_t = gcs.AddVertex(target_set, \"t\")\n",
    "v_s = gcs.AddVertex(source_set, \"s\")\n",
    "v_m = gcs.AddVertex(mid_set, \"m\")\n",
    "\n",
    "edges = [(v_s, v_m), (v_m, v_t)]\n",
    "cost = create_l2norm_edge_cost(2)\n",
    "for edge in edges:\n",
    "    e = gcs.AddEdge(edge[0], edge[1])\n",
    "    gcs_edges.append(e)\n",
    "    x = np.array([e.xu(), e.xv()]).flatten()\n",
    "    binding = Binding[Cost](cost, x)\n",
    "    e.AddCost(binding)\n",
    "\n",
    "options = GraphOfConvexSetsOptions()\n",
    "options.convex_relaxation = False\n",
    "\n",
    "result = gcs.SolveShortestPath(\n",
    "            v_s,\n",
    "            v_t,\n",
    "            options,\n",
    "        )\n",
    "assert result.is_success()\n",
    "print(result.get_optimal_cost())\n",
    "print(result.GetSolution(v_m.x()))"
   ]
  },
  {
   "cell_type": "code",
   "execution_count": 29,
   "metadata": {},
   "outputs": [
    {
     "name": "stdout",
     "output_type": "stream",
     "text": [
      "22.463563908057864\n",
      "[3.07894748 2.45611145 1.82894745 1.0263159  1.25000003 1.42979555]\n"
     ]
    },
    {
     "data": {
      "image/png": "[encoded data removed]",
      "text/plain": [
       "<Figure size 640x480 with 1 Axes>"
      ]
     },
     "metadata": {},
     "output_type": "display_data"
    },
    {
     "name": "stdout",
     "output_type": "stream",
     "text": [
      "Equality constraint enforced: [ True  True]\n"
     ]
    }
   ],
   "source": [
    "from pydrake.all import (\n",
    "    GraphOfConvexSets,\n",
    "    GraphOfConvexSetsOptions,\n",
    "    Cost,\n",
    "    Constraint,\n",
    "    Binding,\n",
    "    MathematicalProgramResult,\n",
    "    Point,\n",
    "    HPolyhedron,\n",
    "    VPolytope\n",
    ")\n",
    "import numpy as np\n",
    "from large_gcs.graph.cost_factory import create_l2norm_edge_cost\n",
    "\n",
    "n_dim = A_higher_dim.shape[1]\n",
    "gcs = GraphOfConvexSets()\n",
    "source_set = Point([0] * n_dim)\n",
    "target_set = Point([9] * n_dim)\n",
    "mid_set = HPolyhedron(A_higher_dim, -b_higher_dim)\n",
    "gcs_edges = []\n",
    "v_t = gcs.AddVertex(target_set, \"t\")\n",
    "v_s = gcs.AddVertex(source_set, \"s\")\n",
    "v_m = gcs.AddVertex(mid_set, \"m\")\n",
    "\n",
    "edges = [(v_s, v_m), (v_m, v_t)]\n",
    "cost = create_l2norm_edge_cost(n_dim)\n",
    "for edge in edges:\n",
    "    e = gcs.AddEdge(edge[0], edge[1])\n",
    "    gcs_edges.append(e)\n",
    "    x = np.array([e.xu(), e.xv()]).flatten()\n",
    "    binding = Binding[Cost](cost, x)\n",
    "    e.AddCost(binding)\n",
    "\n",
    "options = GraphOfConvexSetsOptions()\n",
    "options.convex_relaxation = False\n",
    "\n",
    "result = gcs.SolveShortestPath(\n",
    "            v_s,\n",
    "            v_t,\n",
    "            options,\n",
    "        )\n",
    "assert result.is_success()\n",
    "print(result.get_optimal_cost())\n",
    "print(result.GetSolution(v_m.x()))\n",
    "x_res = result.GetSolution(v_m.x())\n",
    "\n",
    "S_coll_free_W.plot()\n",
    "plot_circle(x_res[0:2], rob_radius)\n",
    "plot_rectangle(x_res[2:4], *obj_lengths)\n",
    "plt.show()\n",
    "print(f\"Equality constraint enforced: {x_res[0:2] - x_res[2:4] == x_res[4:6]}\")"
   ]
  },
  {
   "cell_type": "code",
   "execution_count": 15,
   "metadata": {},
   "outputs": [],
   "source": [
    "S_higher_dim = HPolyhedron(A_higher_dim, -b_higher_dim)"
   ]
  },
  {
   "cell_type": "code",
   "execution_count": 16,
   "metadata": {},
   "outputs": [
    {
     "data": {
      "text/plain": [
       "False"
      ]
     },
     "execution_count": 16,
     "metadata": {},
     "output_type": "execute_result"
    }
   ],
   "source": [
    "S_higher_dim.IsEmpty()"
   ]
  },
  {
   "cell_type": "code",
   "execution_count": 17,
   "metadata": {},
   "outputs": [
    {
     "ename": "ValueError",
     "evalue": "The Hit and Run algorithm failed to find a feasible point in the set. The `previous_sample` must be in the set.\nmax(A * previous_sample - b) = 1.2212453270876722e-15",
     "output_type": "error",
     "traceback": [
      "\u001b[0;31m---------------------------------------------------------------------------\u001b[0m",
      "\u001b[0;31mValueError\u001b[0m                                Traceback (most recent call last)",
      "Cell \u001b[0;32mIn[17], line 9\u001b[0m\n\u001b[1;32m      6\u001b[0m         samples\u001b[39m.\u001b[39mappend(\u001b[39mset\u001b[39m\u001b[39m.\u001b[39mUniformSample(generator,previous_sample\u001b[39m=\u001b[39msamples[\u001b[39m-\u001b[39m\u001b[39m1\u001b[39m]))\n\u001b[1;32m      7\u001b[0m     \u001b[39mreturn\u001b[39;00m samples\n\u001b[0;32m----> 9\u001b[0m samples \u001b[39m=\u001b[39m get_samples_from_drake_set(S_higher_dim, n_samples\u001b[39m=\u001b[39;49m\u001b[39m10\u001b[39;49m)\n",
      "Cell \u001b[0;32mIn[17], line 4\u001b[0m, in \u001b[0;36mget_samples_from_drake_set\u001b[0;34m(set, n_samples)\u001b[0m\n\u001b[1;32m      2\u001b[0m samples \u001b[39m=\u001b[39m []\n\u001b[1;32m      3\u001b[0m generator \u001b[39m=\u001b[39m RandomGenerator(seed\u001b[39m=\u001b[39m\u001b[39m1\u001b[39m)\n\u001b[0;32m----> 4\u001b[0m samples\u001b[39m.\u001b[39mappend(\u001b[39mset\u001b[39;49m\u001b[39m.\u001b[39;49mUniformSample(generator))\n\u001b[1;32m      5\u001b[0m \u001b[39mfor\u001b[39;00m i \u001b[39min\u001b[39;00m \u001b[39mrange\u001b[39m(n_samples\u001b[39m-\u001b[39m\u001b[39m1\u001b[39m):\n\u001b[1;32m      6\u001b[0m     samples\u001b[39m.\u001b[39mappend(\u001b[39mset\u001b[39m\u001b[39m.\u001b[39mUniformSample(generator,previous_sample\u001b[39m=\u001b[39msamples[\u001b[39m-\u001b[39m\u001b[39m1\u001b[39m]))\n",
      "\u001b[0;31mValueError\u001b[0m: The Hit and Run algorithm failed to find a feasible point in the set. The `previous_sample` must be in the set.\nmax(A * previous_sample - b) = 1.2212453270876722e-15"
     ]
    }
   ],
   "source": [
    "def get_samples_from_drake_set(set, n_samples=1000):\n",
    "    samples = []\n",
    "    generator = RandomGenerator(seed=1)\n",
    "    samples.append(set.UniformSample(generator))\n",
    "    for i in range(n_samples-1):\n",
    "        samples.append(set.UniformSample(generator,previous_sample=samples[-1]))\n",
    "    return samples\n",
    "\n",
    "samples = get_samples_from_drake_set(S_higher_dim, n_samples=10)"
   ]
  },
  {
   "cell_type": "code",
   "execution_count": null,
   "metadata": {},
   "outputs": [],
   "source": []
  },
  {
   "cell_type": "code",
   "execution_count": 14,
   "metadata": {},
   "outputs": [
    {
     "ename": "RuntimeError",
     "evalue": "QH6023 qhull input error: feasible point is not clearly inside halfspace\nfeasible point: 3.078947368421019 0.1203464403647248 1.82894736842102 1.026315789473672   1.25 -0.905969349108947 \n     halfspace: -0.2873478855663454 -0.9578262852211513      0      0      0      0 \n     at offset: 0.9999999999999777  and distance: 1.262878690511116e-15 \nThe halfspace was at index 0\n\nWhile executing:  | qhull H\nOptions selected for Qhull 2020.2.r 2020/08/31:\n  run-id 127805134  Halfspace  _maxoutside  0\n",
     "output_type": "error",
     "traceback": [
      "\u001b[0;31m---------------------------------------------------------------------------\u001b[0m",
      "\u001b[0;31mRuntimeError\u001b[0m                              Traceback (most recent call last)",
      "Cell \u001b[0;32mIn[14], line 1\u001b[0m\n\u001b[0;32m----> 1\u001b[0m S_higher_dim \u001b[39m=\u001b[39m Polyhedron(A_higher_dim, \u001b[39m-\u001b[39;49mb_higher_dim)\n",
      "File \u001b[0;32m~/Documents/Software/large_gcs/large_gcs/geometry/polyhedron.py:18\u001b[0m, in \u001b[0;36mPolyhedron.__init__\u001b[0;34m(self, A, b)\u001b[0m\n\u001b[1;32m     14\u001b[0m \u001b[39mdef\u001b[39;00m \u001b[39m__init__\u001b[39m(\u001b[39mself\u001b[39m, A, b):\n\u001b[1;32m     15\u001b[0m \u001b[39m    \u001b[39m\u001b[39m\"\"\"\u001b[39;00m\n\u001b[1;32m     16\u001b[0m \u001b[39m    Default constructor for the polyhedron {x| A x ≤ b}.\u001b[39;00m\n\u001b[1;32m     17\u001b[0m \u001b[39m    \"\"\"\u001b[39;00m\n\u001b[0;32m---> 18\u001b[0m     vertices \u001b[39m=\u001b[39m VPolytope(HPolyhedron(A, b))\u001b[39m.\u001b[39mvertices()\u001b[39m.\u001b[39mT\n\u001b[1;32m     19\u001b[0m     hull \u001b[39m=\u001b[39m ConvexHull(vertices)  \u001b[39m# orders vertices counterclockwise\u001b[39;00m\n\u001b[1;32m     20\u001b[0m     \u001b[39mself\u001b[39m\u001b[39m.\u001b[39m_vertices \u001b[39m=\u001b[39m vertices[hull\u001b[39m.\u001b[39mvertices]\n",
      "\u001b[0;31mRuntimeError\u001b[0m: QH6023 qhull input error: feasible point is not clearly inside halfspace\nfeasible point: 3.078947368421019 0.1203464403647248 1.82894736842102 1.026315789473672   1.25 -0.905969349108947 \n     halfspace: -0.2873478855663454 -0.9578262852211513      0      0      0      0 \n     at offset: 0.9999999999999777  and distance: 1.262878690511116e-15 \nThe halfspace was at index 0\n\nWhile executing:  | qhull H\nOptions selected for Qhull 2020.2.r 2020/08/31:\n  run-id 127805134  Halfspace  _maxoutside  0\n"
     ]
    }
   ],
   "source": [
    "S_higher_dim = Polyhedron(A_higher_dim, -b_higher_dim)"
   ]
  },
  {
   "cell_type": "code",
   "execution_count": null,
   "metadata": {},
   "outputs": [],
   "source": []
  }
 ],
 "metadata": {
  "kernelspec": {
   "display_name": ".venv",
   "language": "python",
   "name": "python3"
  },
  "language_info": {
   "codemirror_mode": {
    "name": "ipython",
    "version": 3
   },
   "file_extension": ".py",
   "mimetype": "text/x-python",
   "name": "python",
   "nbconvert_exporter": "python",
   "pygments_lexer": "ipython3",
   "version": "3.8.10"
  },
  "orig_nbformat": 4
 },
 "nbformat": 4,
 "nbformat_minor": 2
}
